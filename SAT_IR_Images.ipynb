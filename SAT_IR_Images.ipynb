{
 "cells": [
  {
   "cell_type": "markdown",
   "id": "cb2ffe77-546e-4824-bfea-b609e99c93f4",
   "metadata": {},
   "source": [
    "# Thermal Infrared"
   ]
  },
  {
   "cell_type": "code",
   "execution_count": 1,
   "id": "ef0fbe00-eb3c-4d10-99b4-32bb52d5bbf9",
   "metadata": {},
   "outputs": [],
   "source": [
    "from datetime import datetime\n",
    "from siphon.catalog import TDSCatalog\n",
    "from datetime import datetime\n",
    "import metpy\n",
    "import cartopy.crs as ccrs\n",
    "import cartopy.feature as cfeature\n",
    "import matplotlib.pyplot as plt\n",
    "from metpy.plots import colortables\n",
    "from metpy.plots import add_timestamp\n",
    "import numpy             as np\n",
    "import os                as os\n",
    "import pandas             as pd\n"
   ]
  },
  {
   "cell_type": "code",
   "execution_count": 2,
   "id": "6a15c211-db46-4df8-8523-756dce4eebf1",
   "metadata": {},
   "outputs": [
    {
     "name": "stdout",
     "output_type": "stream",
     "text": [
      "./sat_ir_temp_files/Sat_IR_Loop_Image_2022-01-29_2336.png\n",
      "./sat_ir_temp_files/Sat_IR_Loop_Image_2022-01-29_2341.png\n",
      "./sat_ir_temp_files/Sat_IR_Loop_Image_2022-01-29_2346.png\n",
      "./sat_ir_temp_files/Sat_IR_Loop_Image_2022-01-29_2351.png\n",
      "./sat_ir_temp_files/Sat_IR_Loop_Image_2022-01-29_2356.png\n",
      "./sat_ir_temp_files/Sat_IR_Loop_Image_2022-01-30_0001.png\n",
      "./sat_ir_temp_files/Sat_IR_Loop_Image_2022-01-30_0006.png\n",
      "./sat_ir_temp_files/Sat_IR_Loop_Image_2022-01-30_0011.png\n",
      "./sat_ir_temp_files/Sat_IR_Loop_Image_2022-01-30_0016.png\n",
      "./sat_ir_temp_files/Sat_IR_Loop_Image_2022-01-30_0021.png\n",
      "./sat_ir_temp_files/Sat_IR_Loop_Image_2022-01-30_0026.png\n",
      "./sat_ir_temp_files/Sat_IR_Loop_Image_2022-01-30_0031.png\n",
      "./sat_ir_temp_files/Sat_IR_Loop_Image_2022-01-30_0036.png\n",
      "./sat_ir_temp_files/Sat_IR_Loop_Image_2022-01-30_0041.png\n",
      "./sat_ir_temp_files/Sat_IR_Loop_Image_2022-01-30_0046.png\n",
      "./sat_ir_temp_files/Sat_IR_Loop_Image_2022-01-30_0051.png\n",
      "./sat_ir_temp_files/Sat_IR_Loop_Image_2022-01-30_0056.png\n",
      "./sat_ir_temp_files/Sat_IR_Loop_Image_2022-01-30_0101.png\n",
      "./sat_ir_temp_files/Sat_IR_Loop_Image_2022-01-30_0106.png\n",
      "./sat_ir_temp_files/Sat_IR_Loop_Image_2022-01-30_0111.png\n",
      "./sat_ir_temp_files/Sat_IR_Loop_Image_2022-01-30_0116.png\n",
      "./sat_ir_temp_files/Sat_IR_Loop_Image_2022-01-30_0121.png\n",
      "./sat_ir_temp_files/Sat_IR_Loop_Image_2022-01-30_0126.png\n",
      "./sat_ir_temp_files/Sat_IR_Loop_Image_2022-01-30_0131.png\n",
      "./sat_ir_temp_files/Sat_IR_Loop_Image_2022-01-30_0136.png\n",
      "./sat_ir_temp_files/Sat_IR_Loop_Image_2022-01-30_0141.png\n",
      "./sat_ir_temp_files/Sat_IR_Loop_Image_2022-01-30_0146.png\n",
      "./sat_ir_temp_files/Sat_IR_Loop_Image_2022-01-30_0151.png\n",
      "./sat_ir_temp_files/Sat_IR_Loop_Image_2022-01-30_0156.png\n",
      "./sat_ir_temp_files/Sat_IR_Loop_Image_2022-01-30_0201.png\n",
      "./sat_ir_temp_files/Sat_IR_Loop_Image_2022-01-30_0206.png\n",
      "./sat_ir_temp_files/Sat_IR_Loop_Image_2022-01-30_0211.png\n",
      "./sat_ir_temp_files/Sat_IR_Loop_Image_2022-01-30_0216.png\n",
      "./sat_ir_temp_files/Sat_IR_Loop_Image_2022-01-30_0221.png\n",
      "./sat_ir_temp_files/Sat_IR_Lhttps://thredds.ucar.edu/thredds/catalog/satellite/goes/east/products/CloudAndMoistureImagery/CONUS/Channel13/current/catalog.xml\n"
     ]
    }
   ],
   "source": [
    "# %load solutions/data_url.py\n",
    "total_frames = 45*2\n",
    "os.system(\"rm -v ./sat_ir_temp_files/*\")\n",
    "\n",
    "\n",
    "# Cell content replaced by load magic replacement.\n",
    "\n",
    "# Create variables for URL generation\n",
    "image_date = datetime.utcnow().date()\n",
    "region = 'CONUS'\n",
    "channel = 13\n",
    "\n",
    "# We want to match something like:\n",
    "# https://thredds-test.unidata.ucar.edu/thredds/catalog/satellite/goes16/GOES16/Mesoscale-1/Channel08/20181113/catalog.html\n",
    "\n",
    "# Construct the data_url string\n",
    "data_url = ('https://thredds.ucar.edu/thredds/catalog/satellite/goes/east/products/'\n",
    "            f'CloudAndMoistureImagery/{region}/Channel{channel:02d}/current/catalog.xml')\n",
    "\n",
    "# Print out your URL and verify it works!\n",
    "print(data_url)\n"
   ]
  },
  {
   "cell_type": "code",
   "execution_count": 3,
   "id": "dedb3b0e-e6af-4725-ba55-a3af47d2b360",
   "metadata": {},
   "outputs": [
    {
     "name": "stdout",
     "output_type": "stream",
     "text": [
      "oop_Image_2022-01-30_0226.png\n",
      "./sat_ir_temp_files/Sat_IR_Loop_Image_2022-01-30_0231.png\n",
      "./sat_ir_temp_files/Sat_IR_Loop_Image_2022-01-30_0236.png\n",
      "./sat_ir_temp_files/Sat_IR_Loop_Image_2022-01-30_0241.png\n",
      "./sat_ir_temp_files/Sat_IR_Loop_Image_2022-01-30_0246.png\n",
      "./sat_ir_temp_files/Sat_IR_Loop_Image_2022-01-30_0251.png\n",
      "./sat_ir_temp_files/Sat_IR_Loop_Image_2022-01-30_0256.png\n",
      "./sat_ir_temp_files/Sat_IR_Loop_Image_2022-01-30_0301.png\n",
      "./sat_ir_temp_files/Sat_IR_Loop_Image_2022-01-30_0306.png\n",
      "./sat_ir_temp_files/Sat_IR_Loop_Image_2022-01-30_0311.png\n"
     ]
    }
   ],
   "source": [
    "cat = TDSCatalog(data_url)"
   ]
  },
  {
   "cell_type": "code",
   "execution_count": 4,
   "id": "3166a859-937a-4364-939b-b1cf85886904",
   "metadata": {},
   "outputs": [
    {
     "data": {
      "text/plain": [
       "[OR_ABI-L2-CMIPC-M6C13_G16_s20220300356170_e20220300356170_c20220300356170.nc,\n",
       " OR_ABI-L2-CMIPC-M6C13_G16_s20220300351170_e20220300351170_c20220300351170.nc,\n",
       " OR_ABI-L2-CMIPC-M6C13_G16_s20220300346170_e20220300346170_c20220300346170.nc,\n",
       " OR_ABI-L2-CMIPC-M6C13_G16_s20220300341170_e20220300341170_c20220300341170.nc,\n",
       " OR_ABI-L2-CMIPC-M6C13_G16_s20220300336170_e20220300336170_c20220300336170.nc,\n",
       " OR_ABI-L2-CMIPC-M6C13_G16_s20220300331170_e20220300331170_c20220300331170.nc,\n",
       " OR_ABI-L2-CMIPC-M6C13_G16_s20220300326170_e20220300326170_c20220300326170.nc,\n",
       " OR_ABI-L2-CMIPC-M6C13_G16_s20220300321170_e20220300321170_c20220300321170.nc,\n",
       " OR_ABI-L2-CMIPC-M6C13_G16_s20220300316170_e20220300316170_c20220300316170.nc,\n",
       " OR_ABI-L2-CMIPC-M6C13_G16_s20220300311170_e20220300311170_c20220300311170.nc,\n",
       " OR_ABI-L2-CMIPC-M6C13_G16_s20220300306170_e20220300306170_c20220300306170.nc,\n",
       " OR_ABI-L2-CMIPC-M6C13_G16_s20220300301170_e20220300301170_c20220300301170.nc,\n",
       " OR_ABI-L2-CMIPC-M6C13_G16_s20220300256170_e20220300256170_c20220300256170.nc,\n",
       " OR_ABI-L2-CMIPC-M6C13_G16_s20220300251170_e20220300251170_c20220300251170.nc,\n",
       " OR_ABI-L2-CMIPC-M6C13_G16_s20220300246170_e20220300246170_c20220300246170.nc,\n",
       " OR_ABI-L2-CMIPC-M6C13_G16_s20220300241170_e20220300241170_c20220300241170.nc,\n",
       " OR_ABI-L2-CMIPC-M6C13_G16_s20220300236170_e20220300236170_c20220300236170.nc,\n",
       " OR_ABI-L2-CMIPC-M6C13_G16_s20220300231170_e20220300231170_c20220300231170.nc,\n",
       " OR_ABI-L2-CMIPC-M6C13_G16_s20220300226170_e20220300226170_c20220300226170.nc,\n",
       " OR_ABI-L2-CMIPC-M6C13_G16_s20220300221170_e20220300221170_c20220300221170.nc,\n",
       " OR_ABI-L2-CMIPC-M6C13_G16_s20220300216170_e20220300216170_c20220300216170.nc,\n",
       " OR_ABI-L2-CMIPC-M6C13_G16_s20220300211170_e20220300211170_c20220300211170.nc,\n",
       " OR_ABI-L2-CMIPC-M6C13_G16_s20220300206170_e20220300206170_c20220300206170.nc,\n",
       " OR_ABI-L2-CMIPC-M6C13_G16_s20220300201170_e20220300201170_c20220300201170.nc,\n",
       " OR_ABI-L2-CMIPC-M6C13_G16_s20220300156170_e20220300156170_c20220300156170.nc,\n",
       " OR_ABI-L2-CMIPC-M6C13_G16_s20220300151170_e20220300151170_c20220300151170.nc,\n",
       " OR_ABI-L2-CMIPC-M6C13_G16_s20220300146170_e20220300146170_c20220300146170.nc,\n",
       " OR_ABI-L2-CMIPC-M6C13_G16_s20220300141170_e20220300141170_c20220300141170.nc,\n",
       " OR_ABI-L2-CMIPC-M6C13_G16_s20220300136170_e20220300136170_c20220300136170.nc,\n",
       " OR_ABI-L2-CMIPC-M6C13_G16_s20220300131170_e20220300131170_c20220300131170.nc,\n",
       " OR_ABI-L2-CMIPC-M6C13_G16_s20220300126170_e20220300126170_c20220300126170.nc,\n",
       " OR_ABI-L2-CMIPC-M6C13_G16_s20220300121170_e20220300121170_c20220300121170.nc,\n",
       " OR_ABI-L2-CMIPC-M6C13_G16_s20220300116170_e20220300116170_c20220300116170.nc,\n",
       " OR_ABI-L2-CMIPC-M6C13_G16_s20220300111170_e20220300111170_c20220300111170.nc,\n",
       " OR_ABI-L2-CMIPC-M6C13_G16_s20220300106170_e20220300106170_c20220300106170.nc,\n",
       " OR_ABI-L2-CMIPC-M6C13_G16_s20220300101170_e20220300101170_c20220300101170.nc,\n",
       " OR_ABI-L2-CMIPC-M6C13_G16_s20220300056170_e20220300056170_c20220300056170.nc,\n",
       " OR_ABI-L2-CMIPC-M6C13_G16_s20220300051170_e20220300051170_c20220300051170.nc,\n",
       " OR_ABI-L2-CMIPC-M6C13_G16_s20220300046170_e20220300046170_c20220300046170.nc,\n",
       " OR_ABI-L2-CMIPC-M6C13_G16_s20220300041170_e20220300041170_c20220300041170.nc,\n",
       " OR_ABI-L2-CMIPC-M6C13_G16_s20220300036170_e20220300036170_c20220300036170.nc,\n",
       " OR_ABI-L2-CMIPC-M6C13_G16_s20220300031170_e20220300031170_c20220300031170.nc,\n",
       " OR_ABI-L2-CMIPC-M6C13_G16_s20220300026170_e20220300026170_c20220300026170.nc,\n",
       " OR_ABI-L2-CMIPC-M6C13_G16_s20220300021170_e20220300021170_c20220300021170.nc,\n",
       " OR_ABI-L2-CMIPC-M6C13_G16_s20220300016170_e20220300016170_c20220300016170.nc,\n",
       " OR_ABI-L2-CMIPC-M6C13_G16_s20220300011170_e20220300011170_c20220300011170.nc,\n",
       " OR_ABI-L2-CMIPC-M6C13_G16_s20220300006170_e20220300006170_c20220300006170.nc,\n",
       " OR_ABI-L2-CMIPC-M6C13_G16_s20220300001170_e20220300001170_c20220300001170.nc,\n",
       " OR_ABI-L2-CMIPC-M6C13_G16_s20220292356170_e20220292356170_c20220292356170.nc,\n",
       " OR_ABI-L2-CMIPC-M6C13_G16_s20220292351170_e20220292351170_c20220292351170.nc,\n",
       " OR_ABI-L2-CMIPC-M6C13_G16_s20220292346170_e20220292346170_c20220292346170.nc,\n",
       " OR_ABI-L2-CMIPC-M6C13_G16_s20220292341170_e20220292341170_c20220292341170.nc,\n",
       " OR_ABI-L2-CMIPC-M6C13_G16_s20220292336170_e20220292336170_c20220292336170.nc,\n",
       " OR_ABI-L2-CMIPC-M6C13_G16_s20220292331170_e20220292331170_c20220292331170.nc,\n",
       " OR_ABI-L2-CMIPC-M6C13_G16_s20220292326170_e20220292326170_c20220292326170.nc,\n",
       " OR_ABI-L2-CMIPC-M6C13_G16_s20220292321170_e20220292321170_c20220292321170.nc,\n",
       " OR_ABI-L2-CMIPC-M6C13_G16_s20220292316170_e20220292316170_c20220292316170.nc,\n",
       " OR_ABI-L2-CMIPC-M6C13_G16_s20220292311170_e20220292311170_c20220292311170.nc,\n",
       " OR_ABI-L2-CMIPC-M6C13_G16_s20220292306170_e20220292306170_c20220292306170.nc,\n",
       " OR_ABI-L2-CMIPC-M6C13_G16_s20220292301170_e20220292301170_c20220292301170.nc,\n",
       " OR_ABI-L2-CMIPC-M6C13_G16_s20220292256170_e20220292256170_c20220292256170.nc,\n",
       " OR_ABI-L2-CMIPC-M6C13_G16_s20220292251170_e20220292251170_c20220292251170.nc,\n",
       " OR_ABI-L2-CMIPC-M6C13_G16_s20220292246170_e20220292246170_c20220292246170.nc,\n",
       " OR_ABI-L2-CMIPC-M6C13_G16_s20220292241170_e20220292241170_c20220292241170.nc,\n",
       " OR_ABI-L2-CMIPC-M6C13_G16_s20220292236170_e20220292236170_c20220292236170.nc,\n",
       " OR_ABI-L2-CMIPC-M6C13_G16_s20220292231170_e20220292231170_c20220292231170.nc,\n",
       " OR_ABI-L2-CMIPC-M6C13_G16_s20220292226170_e20220292226170_c20220292226170.nc,\n",
       " OR_ABI-L2-CMIPC-M6C13_G16_s20220292221170_e20220292221170_c20220292221170.nc,\n",
       " OR_ABI-L2-CMIPC-M6C13_G16_s20220292216170_e20220292216170_c20220292216170.nc,\n",
       " OR_ABI-L2-CMIPC-M6C13_G16_s20220292211170_e20220292211170_c20220292211170.nc,\n",
       " OR_ABI-L2-CMIPC-M6C13_G16_s20220292206170_e20220292206170_c20220292206170.nc,\n",
       " OR_ABI-L2-CMIPC-M6C13_G16_s20220292201170_e20220292201170_c20220292201170.nc,\n",
       " OR_ABI-L2-CMIPC-M6C13_G16_s20220292156170_e20220292156170_c20220292156170.nc,\n",
       " OR_ABI-L2-CMIPC-M6C13_G16_s20220292151170_e20220292151170_c20220292151170.nc,\n",
       " OR_ABI-L2-CMIPC-M6C13_G16_s20220292146170_e20220292146170_c20220292146170.nc,\n",
       " OR_ABI-L2-CMIPC-M6C13_G16_s20220292141170_e20220292141170_c20220292141170.nc,\n",
       " OR_ABI-L2-CMIPC-M6C13_G16_s20220292136170_e20220292136170_c20220292136170.nc,\n",
       " OR_ABI-L2-CMIPC-M6C13_G16_s20220292131170_e20220292131170_c20220292131170.nc,\n",
       " OR_ABI-L2-CMIPC-M6C13_G16_s20220292126170_e20220292126170_c20220292126170.nc,\n",
       " OR_ABI-L2-CMIPC-M6C13_G16_s20220292121170_e20220292121170_c20220292121170.nc,\n",
       " OR_ABI-L2-CMIPC-M6C13_G16_s20220292116170_e20220292116170_c20220292116170.nc,\n",
       " OR_ABI-L2-CMIPC-M6C13_G16_s20220292111170_e20220292111170_c20220292111170.nc,\n",
       " OR_ABI-L2-CMIPC-M6C13_G16_s20220292106170_e20220292106170_c20220292106170.nc,\n",
       " OR_ABI-L2-CMIPC-M6C13_G16_s20220292101170_e20220292101170_c20220292101170.nc,\n",
       " OR_ABI-L2-CMIPC-M6C13_G16_s20220292056170_e20220292056170_c20220292056170.nc,\n",
       " OR_ABI-L2-CMIPC-M6C13_G16_s20220292051170_e20220292051170_c20220292051170.nc,\n",
       " OR_ABI-L2-CMIPC-M6C13_G16_s20220292046170_e20220292046170_c20220292046170.nc,\n",
       " OR_ABI-L2-CMIPC-M6C13_G16_s20220292041170_e20220292041170_c20220292041170.nc,\n",
       " OR_ABI-L2-CMIPC-M6C13_G16_s20220292036170_e20220292036170_c20220292036170.nc]"
      ]
     },
     "execution_count": 4,
     "metadata": {},
     "output_type": "execute_result"
    }
   ],
   "source": [
    "cat.datasets[1:total_frames]"
   ]
  },
  {
   "cell_type": "code",
   "execution_count": 5,
   "id": "4e98b052-c0e5-4d24-a7b8-601ff57c5482",
   "metadata": {},
   "outputs": [
    {
     "data": {
      "text/plain": [
       "89"
      ]
     },
     "execution_count": 5,
     "metadata": {},
     "output_type": "execute_result"
    }
   ],
   "source": [
    "len(cat.datasets[1:total_frames])"
   ]
  },
  {
   "cell_type": "code",
   "execution_count": 6,
   "id": "ad4f2b18-ec6d-4cd5-8e24-c79eaff0e20a",
   "metadata": {},
   "outputs": [
    {
     "name": "stdout",
     "output_type": "stream",
     "text": [
      "2022-01-30 03:56:17 UTC 2022-01-29 20:56:17 MST\n",
      "2022-01-30 03:46:17 UTC 2022-01-29 20:46:17 MST\n",
      "2022-01-30 03:36:17 UTC 2022-01-29 20:36:17 MST\n",
      "2022-01-30 03:26:17 UTC 2022-01-29 20:26:17 MST\n",
      "2022-01-30 03:16:17 UTC 2022-01-29 20:16:17 MST\n",
      "2022-01-30 03:06:17 UTC 2022-01-29 20:06:17 MST\n",
      "2022-01-30 02:56:17 UTC 2022-01-29 19:56:17 MST\n",
      "2022-01-30 02:46:17 UTC 2022-01-29 19:46:17 MST\n",
      "2022-01-30 02:36:17 UTC 2022-01-29 19:36:17 MST\n",
      "2022-01-30 02:26:17 UTC 2022-01-29 19:26:17 MST\n",
      "2022-01-30 02:16:17 UTC 2022-01-29 19:16:17 MST\n",
      "2022-01-30 02:06:17 UTC 2022-01-29 19:06:17 MST\n",
      "2022-01-30 01:56:17 UTC 2022-01-29 18:56:17 MST\n",
      "2022-01-30 01:46:17 UTC 2022-01-29 18:46:17 MST\n",
      "2022-01-30 01:36:17 UTC 2022-01-29 18:36:17 MST\n",
      "2022-01-30 01:26:17 UTC 2022-01-29 18:26:17 MST\n",
      "2022-01-30 01:16:17 UTC 2022-01-29 18:16:17 MST\n",
      "2022-01-30 01:06:17 UTC 2022-01-29 18:06:17 MST\n",
      "2022-01-30 00:56:17 UTC 2022-01-29 17:56:17 MST\n",
      "2022-01-30 00:46:17 UTC 2022-01-29 17:46:17 MST\n",
      "2022-01-30 00:36:17 UTC 2022-01-29 17:36:17 MST\n",
      "2022-01-30 00:26:17 UTC 2022-01-29 17:26:17 MST\n",
      "2022-01-30 00:16:17 UTC 2022-01-29 17:16:17 MST\n",
      "2022-01-30 00:06:17 UTC 2022-01-29 17:06:17 MST\n",
      "2022-01-29 23:56:17 UTC 2022-01-29 16:56:17 MST\n",
      "2022-01-29 23:46:17 UTC 2022-01-29 16:46:17 MST\n",
      "2022-01-29 23:36:17 UTC 2022-01-29 16:36:17 MST\n",
      "2022-01-29 23:26:17 UTC 2022-01-29 16:26:17 MST\n",
      "2022-01-29 23:16:17 UTC 2022-01-29 16:16:17 MST\n",
      "2022-01-29 23:06:17 UTC 2022-01-29 16:06:17 MST\n",
      "2022-01-29 22:56:17 UTC 2022-01-29 15:56:17 MST\n",
      "2022-01-29 22:46:17 UTC 2022-01-29 15:46:17 MST\n",
      "2022-01-29 22:36:17 UTC 2022-01-29 15:36:17 MST\n",
      "2022-01-29 22:26:17 UTC 2022-01-29 15:26:17 MST\n",
      "2022-01-29 22:16:17 UTC 2022-01-29 15:16:17 MST\n",
      "2022-01-29 22:06:17 UTC 2022-01-29 15:06:17 MST\n",
      "2022-01-29 21:56:17 UTC 2022-01-29 14:56:17 MST\n",
      "2022-01-29 21:46:17 UTC 2022-01-29 14:46:17 MST\n",
      "2022-01-29 21:36:17 UTC 2022-01-29 14:36:17 MST\n",
      "2022-01-29 21:26:17 UTC 2022-01-29 14:26:17 MST\n",
      "2022-01-29 21:16:17 UTC 2022-01-29 14:16:17 MST\n",
      "2022-01-29 21:06:17 UTC 2022-01-29 14:06:17 MST\n",
      "2022-01-29 20:56:17 UTC 2022-01-29 13:56:17 MST\n",
      "2022-01-29 20:46:17 UTC 2022-01-29 13:46:17 MST\n",
      "2022-01-29 20:36:17 UTC 2022-01-29 13:36:17 MST\n"
     ]
    }
   ],
   "source": [
    "for i in range(1,len(cat.datasets[1:total_frames])+1,2) : \n",
    "\n",
    "    dataset = cat.datasets[i]\n",
    "    ds = dataset.remote_access(use_xarray=True)\n",
    "    dat = ds.metpy.parse_cf('Sectorized_CMI')\n",
    "    proj = dat.metpy.cartopy_crs\n",
    "    x = dat['x']\n",
    "    y = dat['y']\n",
    "\n",
    "\n",
    "    tz='America/Denver'\n",
    "    time_utc = datetime.strptime(ds.start_date_time, '%Y%j%H%M%S')\n",
    "    valid_time = pd.to_datetime(time_utc).tz_localize(tz=\"UTC\").strftime(\"%Y-%m-%d %H:%M:%S %Z\")\n",
    "    local_time = pd.to_datetime(time_utc).tz_localize(tz=\"UTC\").tz_convert(tz=tz).strftime(\"%Y-%m-%d %H:%M:%S %Z\")\n",
    "\n",
    "    file_time = pd.to_datetime(time_utc).tz_localize(tz=\"UTC\").strftime(\"%Y-%m-%d_%H%M\")\n",
    "\n",
    "\n",
    "    print(valid_time,local_time)\n",
    "\n",
    "\n",
    "\n",
    "    fig = plt.figure(figsize=(13, 8),\n",
    "                           facecolor = 'white')\n",
    "\n",
    "    plt.suptitle(\"GOES 16 Band 13 [10.3 µm Clean Longwarve IR Window]\",\n",
    "                    fontsize=20)\n",
    "    ax = fig.add_subplot(1, 1, 1, projection=proj)\n",
    "    ax.set_title(valid_time + \"  (\" + local_time+\")\",\n",
    "                    fontsize=15)\n",
    "    ax.add_feature(cfeature.COASTLINE.with_scale('50m'), linewidth=2)\n",
    "    ax.add_feature(cfeature.STATES.with_scale('50m'), linestyle=':', edgecolor='black')\n",
    "    ax.add_feature(cfeature.BORDERS.with_scale('50m'), linewidth=2, edgecolor='black')\n",
    "\n",
    "    im = ax.imshow(dat, extent=(x.min(), x.max(), y.min(), y.max()), origin='upper')\n",
    "\n",
    "    wv_cmap = colortables.get_colortable('WVCIMSS_r')\n",
    "    im.set_cmap(wv_cmap)\n",
    "    plt.tight_layout()\n",
    "    plt.savefig(\"./sat_ir_temp_files/Sat_IR_Loop_Image_\"+file_time+\".png\")\n",
    "    plt.close()\n",
    "    \n",
    "\n"
   ]
  },
  {
   "cell_type": "code",
   "execution_count": 7,
   "id": "a95a346d-db1b-4156-895f-7f3e1319a943",
   "metadata": {},
   "outputs": [
    {
     "data": {
      "text/plain": [
       "0"
      ]
     },
     "execution_count": 7,
     "metadata": {},
     "output_type": "execute_result"
    }
   ],
   "source": [
    "##################################################\n",
    "#\n",
    "# Convert PNGs into an Animated GIF\n",
    "#\n",
    "\n",
    "os.system(\"convert -delay 15 \" + \n",
    "          \"./sat_ir_temp_files/Sat_IR_Loop_Image_*.png\"  + \n",
    "          \" \" + \n",
    "          \"./graphics_files/RealTime_SAT_IR_Loop.gif\")\n",
    "\n",
    "\n",
    "#\n",
    "##################################################"
   ]
  },
  {
   "cell_type": "code",
   "execution_count": null,
   "id": "cee3424d-0866-4bda-90b6-aaf3d64a21af",
   "metadata": {},
   "outputs": [],
   "source": []
  }
 ],
 "metadata": {
  "kernelspec": {
   "display_name": "Python 3 (ipykernel)",
   "language": "python",
   "name": "python3"
  },
  "language_info": {
   "codemirror_mode": {
    "name": "ipython",
    "version": 3
   },
   "file_extension": ".py",
   "mimetype": "text/x-python",
   "name": "python",
   "nbconvert_exporter": "python",
   "pygments_lexer": "ipython3",
   "version": "3.9.9"
  }
 },
 "nbformat": 4,
 "nbformat_minor": 5
}
