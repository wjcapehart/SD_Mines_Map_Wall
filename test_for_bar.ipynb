{
 "cells": [
  {
   "cell_type": "code",
   "execution_count": null,
   "id": "5cf41f97-983d-42dd-bf9a-078c8539118d",
   "metadata": {},
   "outputs": [],
   "source": [
    "\n",
    "for i in range(1,11):\n",
    "    \n",
    "    percent_done = i/10\n",
    "\n",
    "\n",
    "    fig, ax = plt.subplots(1, 1, figsize=(9, 8),facecolor='lightgrey')\n",
    "\n",
    "    ax = fig.add_axes([0,0,1,1],facecolor='pink')\n",
    "    ax.xaxis.set_visible(False)\n",
    "    ax.yaxis.set_visible(False)\n",
    "\n",
    "    rect = patches.Rectangle((0, 0.98), percent_done, .2, \n",
    "                             linewidth=1, edgecolor='r', facecolor='red')\n",
    "    ax.add_patch(rect)\n",
    "\n",
    "\n",
    "    x = np.arange(0,1.01,0.01)\n",
    "    y = 4 / (1 + x*x)\n",
    "\n",
    "\n",
    "\n",
    "    ax2 = fig.add_subplot(111,facecolor='yellow')\n",
    "    ax2.plot(x,y)\n",
    "\n",
    "    plt.show()"
   ]
  }
 ],
 "metadata": {
  "kernelspec": {
   "display_name": "Python 3 (ipykernel)",
   "language": "python",
   "name": "python3"
  },
  "language_info": {
   "codemirror_mode": {
    "name": "ipython",
    "version": 3
   },
   "file_extension": ".py",
   "mimetype": "text/x-python",
   "name": "python",
   "nbconvert_exporter": "python",
   "pygments_lexer": "ipython3",
   "version": "3.9.9"
  }
 },
 "nbformat": 4,
 "nbformat_minor": 5
}
