{
 "cells": [
  {
   "cell_type": "code",
   "execution_count": 15,
   "id": "a4b6ac50",
   "metadata": {},
   "outputs": [
    {
     "data": {
      "text/plain": [
       "['Forecast Model Data',\n",
       " 'Forecast Products and Analyses',\n",
       " 'Radar Data',\n",
       " 'Satellite Data',\n",
       " 'Text Products',\n",
       " 'Unidata case studies']"
      ]
     },
     "execution_count": 15,
     "metadata": {},
     "output_type": "execute_result"
    }
   ],
   "source": [
    "from siphon.catalog import TDSCatalog\n",
    "cat = TDSCatalog('https://thredds.ucar.edu/thredds/catalog.xml')\n",
    "list(cat.catalog_refs)"
   ]
  },
  {
   "cell_type": "code",
   "execution_count": 10,
   "id": "b24ca1b6",
   "metadata": {},
   "outputs": [
    {
     "ename": "KeyError",
     "evalue": "'NEXRAD Level III Radar from IDD'",
     "output_type": "error",
     "traceback": [
      "\u001b[0;31m---------------------------------------------------------------------------\u001b[0m",
      "\u001b[0;31mKeyError\u001b[0m                                  Traceback (most recent call last)",
      "Input \u001b[0;32mIn [10]\u001b[0m, in \u001b[0;36m<cell line: 2>\u001b[0;34m()\u001b[0m\n\u001b[1;32m      1\u001b[0m \u001b[38;5;28;01mfrom\u001b[39;00m \u001b[38;5;21;01msiphon\u001b[39;00m\u001b[38;5;21;01m.\u001b[39;00m\u001b[38;5;21;01mradarserver\u001b[39;00m \u001b[38;5;28;01mimport\u001b[39;00m RadarServer\n\u001b[0;32m----> 2\u001b[0m rs \u001b[38;5;241m=\u001b[39m RadarServer(\u001b[43mcat\u001b[49m\u001b[38;5;241;43m.\u001b[39;49m\u001b[43mcatalog_refs\u001b[49m\u001b[43m[\u001b[49m\u001b[38;5;124;43m'\u001b[39;49m\u001b[38;5;124;43mNEXRAD Level III Radar from IDD\u001b[39;49m\u001b[38;5;124;43m'\u001b[39;49m\u001b[43m]\u001b[49m\u001b[38;5;241m.\u001b[39mhref)\n",
      "File \u001b[0;32m/opt/miniconda3/lib/python3.9/site-packages/siphon/catalog.py:36\u001b[0m, in \u001b[0;36mIndexableMapping.__getitem__\u001b[0;34m(self, item)\u001b[0m\n\u001b[1;32m     34\u001b[0m \u001b[38;5;28;01mtry\u001b[39;00m:\n\u001b[1;32m     35\u001b[0m     item \u001b[38;5;241m+\u001b[39m \u001b[38;5;124m'\u001b[39m\u001b[38;5;124m'\u001b[39m  \u001b[38;5;66;03m# Raises if item not a string\u001b[39;00m\n\u001b[0;32m---> 36\u001b[0m     \u001b[38;5;28;01mreturn\u001b[39;00m \u001b[38;5;28;43msuper\u001b[39;49m\u001b[43m(\u001b[49m\u001b[43mIndexableMapping\u001b[49m\u001b[43m,\u001b[49m\u001b[43m \u001b[49m\u001b[38;5;28;43mself\u001b[39;49m\u001b[43m)\u001b[49m\u001b[38;5;241;43m.\u001b[39;49m\u001b[38;5;21;43m__getitem__\u001b[39;49m\u001b[43m(\u001b[49m\u001b[43mitem\u001b[49m\u001b[43m)\u001b[49m\n\u001b[1;32m     37\u001b[0m \u001b[38;5;28;01mexcept\u001b[39;00m \u001b[38;5;167;01mTypeError\u001b[39;00m:\n\u001b[1;32m     38\u001b[0m     \u001b[38;5;28;01mreturn\u001b[39;00m \u001b[38;5;28mlist\u001b[39m(\u001b[38;5;28mself\u001b[39m\u001b[38;5;241m.\u001b[39mvalues())[item]\n",
      "\u001b[0;31mKeyError\u001b[0m: 'NEXRAD Level III Radar from IDD'"
     ]
    }
   ],
   "source": [
    "from siphon.radarserver import RadarServer\n",
    "rs = RadarServer(cat.catalog_refs['NEXRAD Level III Radar from IDD'].href)"
   ]
  },
  {
   "cell_type": "code",
   "execution_count": 11,
   "id": "f44cb79c",
   "metadata": {},
   "outputs": [
    {
     "name": "stdout",
     "output_type": "stream",
     "text": [
      "['DAA', 'DHR', 'DOD', 'DPA', 'DPR', 'DSD', 'DSP', 'DTA', 'DU3', 'DU6', 'DVL', 'EET', 'HHC', 'N0C', 'N0H', 'N0K', 'N0M', 'N0Q', 'N0R', 'N0S', 'N0U', 'N0V', 'N0X', 'N0Z', 'N1C', 'N1H', 'N1K', 'N1M', 'N1P', 'N1Q', 'N1S', 'N1U', 'N1X', 'N2C', 'N2H', 'N2K', 'N2M', 'N2Q', 'N2S', 'N2U', 'N2X', 'N3C', 'N3H', 'N3K', 'N3M', 'N3Q', 'N3S', 'N3U', 'N3X', 'NAC', 'NAH', 'NAK', 'NAM', 'NAQ', 'NAU', 'NAX', 'NBC', 'NBH', 'NBK', 'NBM', 'NBQ', 'NBU', 'NBX', 'NCR', 'NET', 'NMD', 'NST', 'NTP', 'NVL', 'NVW', 'OHA', 'PTA']\n"
     ]
    }
   ],
   "source": [
    "print(sorted(rs.variables))\n"
   ]
  },
  {
   "cell_type": "code",
   "execution_count": 6,
   "id": "2d3c08bb",
   "metadata": {},
   "outputs": [
    {
     "data": {
      "text/plain": [
       "['DAA/Digital Accumulation Array',\n",
       " 'DHR/Digital Hybrid Scan Reflectivity',\n",
       " 'DOD/Digital One-Hour Difference Accumulation',\n",
       " 'DPA/Digital Precipitation Array',\n",
       " 'DPR/Digital Instantaneous Precipitation Rate',\n",
       " 'DSD/Digital Storm Total Difference Accumulation',\n",
       " 'DSP/Digital Storm Total Precipitation',\n",
       " 'DTA/Digital Storm Total Accumulation',\n",
       " 'DU3/Digital 3-hour Accumulation',\n",
       " 'DU6/Digital 24-hour Accumulation',\n",
       " 'DVL/Digital Vertically Integrated Liquid',\n",
       " 'EET/Enchanced Echo Tops',\n",
       " 'HHC/Hybrid Hydrometeor Classification',\n",
       " 'N0C/Correlation Coefficient Tilt 1',\n",
       " 'N0H/Hydrometeor Classification Tilt 1',\n",
       " 'N0K/Specific Differential Phase Tilt 1',\n",
       " 'N0M/Melting Layer Tilt 1',\n",
       " 'N0Q/Base Reflectivity DR Tilt 1',\n",
       " 'N0R/Base Reflectivity 124nm',\n",
       " 'N0S/Storm-Rel Mean Vel Tilt 1',\n",
       " 'N0U/Radial Velocity DV Tilt 1',\n",
       " 'N0V/Radial Velocity 124nm',\n",
       " 'N0X/Differential Reflectivity Tilt 1',\n",
       " 'N0Z/Base Reflecitvity 248nm',\n",
       " 'N1C/Correlation Coefficient Tilt 3',\n",
       " 'N1H/Hydrometeor Classification Tilt 3',\n",
       " 'N1K/Specific Differential Phase Tilt 3',\n",
       " 'N1M/Melting Layer Tilt 3',\n",
       " 'N1P/1-hour Rainfall',\n",
       " 'N1Q/Base Reflectivity DR Tilt 3',\n",
       " 'N1S/Storm-Rel Mean Vel Tilt 2',\n",
       " 'N1U/Radial Velocity DV Tilt 3',\n",
       " 'N1X/Differential Reflectivity Tilt 3',\n",
       " 'N2C/Correlation Coefficient Tilt 5',\n",
       " 'N2H/Hydrometeor Classification Tilt 5',\n",
       " 'N2K/Specific Differential Phase Tilt 5',\n",
       " 'N2M/Melting Layer Tilt 5',\n",
       " 'N2Q/Base Reflectivity DR Tilt 5',\n",
       " 'N2S/Storm-Rel Mean Vel Tilt 3',\n",
       " 'N2U/Radial Velocity DV Tilt 5',\n",
       " 'N2X/Differential Reflectivity Tilt 5',\n",
       " 'N3C/Correlation Coefficient Tilt 6',\n",
       " 'N3H/Hydrometeor Classification Tilt 6',\n",
       " 'N3K/Specific Differential Phase Tilt 6',\n",
       " 'N3M/Melting Layer Tilt 6',\n",
       " 'N3Q/Base Reflectivity DR Tilt 6',\n",
       " 'N3S/Storm-Rel Mean Vel Tilt 4',\n",
       " 'N3U/Radial Velocity DV Tilt 6',\n",
       " 'N3X/Differential Reflectivity Tilt 6',\n",
       " 'NAC/Correlation Coefficient Tilt 2',\n",
       " 'NAH/Hydrometeor Classification Tilt 2',\n",
       " 'NAK/Specific Differential Phase Tilt 2',\n",
       " 'NAM/Melting Layer Tilt 2',\n",
       " 'NAQ/Base Reflectivity DR Tilt 2',\n",
       " 'NAU/Radial Velocity DV Tilt 2',\n",
       " 'NAX/Differential Reflectivity Tilt 2',\n",
       " 'NBC/Correlation Coefficient Tilt 4',\n",
       " 'NBH/Hydrometeor Classification Tilt 4',\n",
       " 'NBK/Specific Differential Phase Tilt 4',\n",
       " 'NBM/Melting Layer Tilt 4',\n",
       " 'NBQ/Base Reflectivity DR Tilt 4',\n",
       " 'NBU/Radial Velocity DV Tilt 4',\n",
       " 'NBX/Differential Reflectivity Tilt 4',\n",
       " 'NCR/Composite Reflectivity',\n",
       " 'NET/Echo Tops',\n",
       " 'NMD/Mesocyclone',\n",
       " 'NST/Storm Tracking Information',\n",
       " 'NTP/Storm Total Rainfall',\n",
       " 'NVL/Vertically Integrated Liquid',\n",
       " 'NVW/Velocity Azimuth Display Wind Profile',\n",
       " 'OHA/One Hour Accumulation',\n",
       " 'PTA/Storm Total Accumulation']"
      ]
     },
     "execution_count": 6,
     "metadata": {},
     "output_type": "execute_result"
    }
   ],
   "source": [
    "sorted(rs.metadata['variables'])\n"
   ]
  },
  {
   "cell_type": "code",
   "execution_count": null,
   "id": "4524843f",
   "metadata": {},
   "outputs": [],
   "source": []
  }
 ],
 "metadata": {
  "kernelspec": {
   "display_name": "Python 3 (ipykernel)",
   "language": "python",
   "name": "python3"
  },
  "language_info": {
   "codemirror_mode": {
    "name": "ipython",
    "version": 3
   },
   "file_extension": ".py",
   "mimetype": "text/x-python",
   "name": "python",
   "nbconvert_exporter": "python",
   "pygments_lexer": "ipython3",
   "version": "3.9.13"
  }
 },
 "nbformat": 4,
 "nbformat_minor": 5
}
