{
 "cells": [
  {
   "cell_type": "markdown",
   "id": "cb2ffe77-546e-4824-bfea-b609e99c93f4",
   "metadata": {},
   "source": [
    "# Infrared Meso 1 & 2 + SODAK"
   ]
  },
  {
   "cell_type": "code",
   "execution_count": 1,
   "id": "ef0fbe00-eb3c-4d10-99b4-32bb52d5bbf9",
   "metadata": {},
   "outputs": [],
   "source": [
    "##################################################\n",
    "#\n",
    "# Libraries\n",
    "#\n",
    "\n",
    "\n",
    "from metpy.plots    import colortables\n",
    "from metpy.plots    import add_timestamp\n",
    "from datetime       import datetime\n",
    "from siphon.catalog import TDSCatalog\n",
    "from datetime       import datetime\n",
    "\n",
    "import numpy             as np\n",
    "import os                as os\n",
    "import pandas            as pd\n",
    "import pathlib           as pathlib\n",
    "\n",
    "import metpy\n",
    "import cartopy.crs       as ccrs\n",
    "import cartopy.feature   as cfeature\n",
    "import matplotlib.pyplot as plt\n",
    "import matplotlib.patches as patches\n",
    "\n",
    "import matplotlib.patches as patches\n",
    "\n",
    "\n",
    "\n",
    "\n",
    "#\n",
    "##################################################"
   ]
  },
  {
   "cell_type": "markdown",
   "id": "485b6455-d0a4-4ff2-a615-8d55681b1502",
   "metadata": {},
   "source": [
    "## Meso Floater 1"
   ]
  },
  {
   "cell_type": "code",
   "execution_count": 2,
   "id": "6a15c211-db46-4df8-8523-756dce4eebf1",
   "metadata": {},
   "outputs": [
    {
     "name": "stdout",
     "output_type": "stream",
     "text": [
      "https://thredds.ucar.edu/thredds/catalog/satellite/goes/east/products/CloudAndMoistureImagery/Mesoscale-1/Channel13/current/catalog.xml\n"
     ]
    }
   ],
   "source": [
    "##################################################\n",
    "#\n",
    "# Control Setup\n",
    "#\n",
    "\n",
    "# %load solutions/data_url.py\n",
    "\n",
    "total_frames = int(45*2 * 0.8)\n",
    "\n",
    "png_processing_directory = \"./temp_files_sat_ir_meso1/\"\n",
    "\n",
    "gif_file_name1 = \"./graphics_files/RealTime_SAT_IR_Meso1_Loop.gif\"\n",
    "gif_file_name2 = \"./graphics_files/RealTime_SAT_IR_Meso2_Loop.gif\"\n",
    "gif_file_name3 = \"./graphics_files/RealTime_SAT_IR_SODAK_Loop.gif\"\n",
    "gif_file_name12 = \"./graphics_files/RealTime_SAT_IR_Meso12_Loop.gif\"\n",
    "\n",
    "\n",
    "image_header_label = \"GOES 16 Meso1 Band 13 [10.3 µm Clean LW IR Window]\"\n",
    "\n",
    "# Cell content replaced by load magic replacement.\n",
    "\n",
    "# Create variables for URL generation\n",
    "\n",
    "image_date = datetime.utcnow().date()\n",
    "region = 'Mesoscale-1'\n",
    "channel = 13\n",
    "\n",
    "# We want to match something like:\n",
    "# https://thredds-test.unidata.ucar.edu/thredds/catalog/satellite/goes16/GOES16/Mesoscale-1/Channel08/20181113/catalog.html\n",
    "\n",
    "# Construct the data_url string\n",
    "\n",
    "data_url = ('https://thredds.ucar.edu/thredds/catalog/satellite/goes/east/products/'\n",
    "            f'CloudAndMoistureImagery/{region}/Channel{channel:02d}/current/catalog.xml')\n",
    "\n",
    "# Print out your URL and verify it works!\n",
    "\n",
    "print(data_url)\n",
    "\n",
    "#\n",
    "##################################################"
   ]
  },
  {
   "cell_type": "code",
   "execution_count": 3,
   "id": "dedb3b0e-e6af-4725-ba55-a3af47d2b360",
   "metadata": {},
   "outputs": [],
   "source": [
    "##################################################\n",
    "#\n",
    "# Pull Catalog\n",
    "#\n",
    "\n",
    "cat = TDSCatalog(data_url)\n",
    "\n",
    "#\n",
    "##################################################"
   ]
  },
  {
   "cell_type": "code",
   "execution_count": 4,
   "id": "3166a859-937a-4364-939b-b1cf85886904",
   "metadata": {},
   "outputs": [],
   "source": [
    "##################################################\n",
    "#\n",
    "# Create File Inventories\n",
    "#\n",
    "\n",
    "file_names_to_retain = list()\n",
    "file_names_to_use    = list()\n",
    "\n",
    "\n",
    "for i in range(0,len(cat.datasets[0:total_frames])+1,1) : \n",
    "    filename = png_processing_directory + cat.datasets[i].name.replace(\".nc\",\".png\")\n",
    "    file_names_to_retain.append(filename)\n",
    "    file_names_to_use.append(filename)\n",
    "\n",
    "        \n",
    "files_on_hand = [png_processing_directory + s for s in os.listdir(png_processing_directory)]\n",
    "\n",
    "file_names_to_retain.sort()\n",
    "file_names_to_use.sort()\n",
    "\n",
    "file_names_to_use_meso1 = file_names_to_use.copy()\n",
    "\n",
    "\n",
    "#\n",
    "##################################################    "
   ]
  },
  {
   "cell_type": "code",
   "execution_count": 5,
   "id": "85b3463c-dd32-4f18-8d0b-dd5a63d10dca",
   "metadata": {},
   "outputs": [
    {
     "name": "stdout",
     "output_type": "stream",
     "text": [
      "Keeping  ./temp_files_sat_ir_meso1/OR_ABI-L2-CMIPM1-M6C13_G16_s20220992019250_e20220992019250_c20220992019250.png\n",
      "Keeping  ./temp_files_sat_ir_meso1/OR_ABI-L2-CMIPM1-M6C13_G16_s20220992010270_e20220992010270_c20220992010270.png\n",
      "Keeping  ./temp_files_sat_ir_meso1/OR_ABI-L2-CMIPM1-M6C13_G16_s20220992001250_e20220992001250_c20220992001250.png\n",
      "Keeping  ./temp_files_sat_ir_meso1/OR_ABI-L2-CMIPM1-M6C13_G16_s20220992020270_e20220992020270_c20220992020270.png\n",
      "Keeping  ./temp_files_sat_ir_meso1/OR_ABI-L2-CMIPM1-M6C13_G16_s20220992015250_e20220992015250_c20220992015250.png\n",
      "Keeping  ./temp_files_sat_ir_meso1/OR_ABI-L2-CMIPM1-M6C13_G16_s20220992007250_e20220992007250_c20220992007250.png\n",
      "Keeping  ./temp_files_sat_ir_meso1/OR_ABI-L2-CMIPM1-M6C13_G16_s20220992013250_e20220992013250_c20220992013250.png\n",
      "Keeping  ./temp_files_sat_ir_meso1/OR_ABI-L2-CMIPM1-M6C13_G16_s20220992022250_e20220992022250_c20220992022250.png\n",
      "Keeping  ./temp_files_sat_ir_meso1/OR_ABI-L2-CMIPM1-M6C13_G16_s20220992018250_e20220992018250_c20220992018250.png\n",
      "Keeping  ./temp_files_sat_ir_meso1/OR_ABI-L2-CMIPM1-M6C13_G16_s20220992014250_e20220992014250_c20220992014250.png\n",
      "Keeping  ./temp_files_sat_ir_meso1/OR_ABI-L2-CMIPM1-M6C13_G16_s20220992006250_e20220992006250_c20220992006250.png\n",
      "Keeping  ./temp_files_sat_ir_meso1/OR_ABI-L2-CMIPM1-M6C13_G16_s20220992012250_e20220992012250_c20220992012250.png\n",
      "Keeping  ./temp_files_sat_ir_meso1/OR_ABI-L2-CMIPM1-M6C13_G16_s20220991941250_e20220991941250_c20220991941250.png\n",
      "Keeping  ./temp_files_sat_ir_meso1/OR_ABI-L2-CMIPM1-M6C13_G16_s20220991955250_e20220991955250_c20220991955250.png\n",
      "Keeping  ./temp_files_sat_ir_meso1/OR_ABI-L2-CMIPM1-M6C13_G16_s20220991947250_e20220991947250_c20220991947250.png\n",
      "Keeping  ./temp_files_sat_ir_meso1/OR_ABI-L2-CMIPM1-M6C13_G16_s20220991953250_e20220991953250_c20220991953250.png\n",
      "Keeping  ./temp_files_sat_ir_meso1/OR_ABI-L2-CMIPM1-M6C13_G16_s20220991959250_e20220991959250_c20220991959250.png\n",
      "Keeping  ./temp_files_sat_ir_meso1/OR_ABI-L2-CMIPM1-M6C13_G16_s20220991950270_e20220991950270_c20220991950270.png\n",
      "Keeping  ./temp_files_sat_ir_meso1/OR_ABI-L2-CMIPM1-M6C13_G16_s20220991939250_e20220991939250_c20220991939250.png\n",
      "Keeping  ./temp_files_sat_ir_meso1/OR_ABI-L2-CMIPM1-M6C13_G16_s20220991933250_e20220991933250_c20220991933250.png\n",
      "Keeping  ./temp_files_sat_ir_meso1/OR_ABI-L2-CMIPM1-M6C13_G16_s20220991935250_e20220991935250_c20220991935250.png\n",
      "Keeping  ./temp_files_sat_ir_meso1/OR_ABI-L2-CMIPM1-M6C13_G16_s20220991954250_e20220991954250_c20220991954250.png\n",
      "Keeping  ./temp_files_sat_ir_meso1/OR_ABI-L2-CMIPM1-M6C13_G16_s20220991946250_e20220991946250_c20220991946250.png\n",
      "Keeping  ./temp_files_sat_ir_meso1/OR_ABI-L2-CMIPM1-M6C13_G16_s20220991952250_e20220991952250_c20220991952250.png\n",
      "Keeping  ./temp_files_sat_ir_meso1/OR_ABI-L2-CMIPM1-M6C13_G16_s20220991958250_e20220991958250_c20220991958250.png\n",
      "Keeping  ./temp_files_sat_ir_meso1/OR_ABI-L2-CMIPM1-M6C13_G16_s20220991938250_e20220991938250_c20220991938250.png\n",
      "Keeping  ./temp_files_sat_ir_meso1/OR_ABI-L2-CMIPM1-M6C13_G16_s20220991932250_e20220991932250_c20220991932250.png\n",
      "Keeping  ./temp_files_sat_ir_meso1/OR_ABI-L2-CMIPM1-M6C13_G16_s20220991934250_e20220991934250_c20220991934250.png\n",
      "Keeping  ./temp_files_sat_ir_meso1/OR_ABI-L2-CMIPM1-M6C13_G16_s20220992008250_e20220992008250_c20220992008250.png\n",
      "Keeping  ./temp_files_sat_ir_meso1/OR_ABI-L2-CMIPM1-M6C13_G16_s20220992016250_e20220992016250_c20220992016250.png\n",
      "Keeping  ./temp_files_sat_ir_meso1/OR_ABI-L2-CMIPM1-M6C13_G16_s20220992002250_e20220992002250_c20220992002250.png\n",
      "Keeping  ./temp_files_sat_ir_meso1/OR_ABI-L2-CMIPM1-M6C13_G16_s20220992004250_e20220992004250_c20220992004250.png\n",
      "Keeping  ./temp_files_sat_ir_meso1/OR_ABI-L2-CMIPM1-M6C13_G16_s20220992000270_e20220992000270_c20220992000270.png\n",
      "Keeping  ./temp_files_sat_ir_meso1/OR_ABI-L2-CMIPM1-M6C13_G16_s20220992021250_e20220992021250_c20220992021250.png\n",
      "Keeping  ./temp_files_sat_ir_meso1/OR_ABI-L2-CMIPM1-M6C13_G16_s20220992009250_e20220992009250_c20220992009250.png\n",
      "Keeping  ./temp_files_sat_ir_meso1/OR_ABI-L2-CMIPM1-M6C13_G16_s20220992017250_e20220992017250_c20220992017250.png\n",
      "Keeping  ./temp_files_sat_ir_meso1/OR_ABI-L2-CMIPM1-M6C13_G16_s20220992003250_e20220992003250_c20220992003250.png\n",
      "Keeping  ./temp_files_sat_ir_meso1/OR_ABI-L2-CMIPM1-M6C13_G16_s20220992011250_e20220992011250_c20220992011250.png\n",
      "Keeping  ./temp_files_sat_ir_meso1/OR_ABI-L2-CMIPM1-M6C13_G16_s20220992005250_e20220992005250_c20220992005250.png\n",
      "Keeping  ./temp_files_sat_ir_meso1/OR_ABI-L2-CMIPM1-M6C13_G16_s20220991956250_e20220991956250_c20220991956250.png\n",
      "Keeping  ./temp_files_sat_ir_meso1/OR_ABI-L2-CMIPM1-M6C13_G16_s20220991942250_e20220991942250_c20220991942250.png\n",
      "Keeping  ./temp_files_sat_ir_meso1/OR_ABI-L2-CMIPM1-M6C13_G16_s20220991944250_e20220991944250_c20220991944250.png\n",
      "Keeping  ./temp_files_sat_ir_meso1/OR_ABI-L2-CMIPM1-M6C13_G16_s20220991948250_e20220991948250_c20220991948250.png\n",
      "Keeping  ./temp_files_sat_ir_meso1/OR_ABI-L2-CMIPM1-M6C13_G16_s20220991936250_e20220991936250_c20220991936250.png\n",
      "Keeping  ./temp_files_sat_ir_meso1/OR_ABI-L2-CMIPM1-M6C13_G16_s20220991957250_e20220991957250_c20220991957250.png\n",
      "Keeping  ./temp_files_sat_ir_meso1/OR_ABI-L2-CMIPM1-M6C13_G16_s20220991943250_e20220991943250_c20220991943250.png\n",
      "Keeping  ./temp_files_sat_ir_meso1/OR_ABI-L2-CMIPM1-M6C13_G16_s20220991951250_e20220991951250_c20220991951250.png\n",
      "Keeping  ./temp_files_sat_ir_meso1/OR_ABI-L2-CMIPM1-M6C13_G16_s20220991945250_e20220991945250_c20220991945250.png\n",
      "Keeping  ./temp_files_sat_ir_meso1/OR_ABI-L2-CMIPM1-M6C13_G16_s20220991940270_e20220991940270_c20220991940270.png\n",
      "Keeping  ./temp_files_sat_ir_meso1/OR_ABI-L2-CMIPM1-M6C13_G16_s20220991949250_e20220991949250_c20220991949250.png\n",
      "Keeping  ./temp_files_sat_ir_meso1/OR_ABI-L2-CMIPM1-M6C13_G16_s20220991931250_e20220991931250_c20220991931250.png\n",
      "Keeping  ./temp_files_sat_ir_meso1/OR_ABI-L2-CMIPM1-M6C13_G16_s20220991937250_e20220991937250_c20220991937250.png\n"
     ]
    }
   ],
   "source": [
    "##################################################\n",
    "#\n",
    "# Clean PNG Directory\n",
    "#\n",
    "\n",
    "for filename in files_on_hand:\n",
    "    if filename not in file_names_to_retain:\n",
    "        print(\"Purging \", filename )\n",
    "        os.remove( filename  )\n",
    "    else:\n",
    "        print(\"Keeping \", filename )\n",
    "#\n",
    "##################################################    "
   ]
  },
  {
   "cell_type": "code",
   "execution_count": 6,
   "id": "ad4f2b18-ec6d-4cd5-8e24-c79eaff0e20a",
   "metadata": {},
   "outputs": [
    {
     "name": "stdout",
     "output_type": "stream",
     "text": [
      "2022-04-09 20:27:25 UTC 2022-04-09 14:27:25 MDT\n",
      "14:27:25\n",
      "2 73.56631455962162\n",
      "27 164.5\n"
     ]
    },
    {
     "name": "stderr",
     "output_type": "stream",
     "text": [
      "/var/folders/0c/8xbkg06s6cz0yy2505h06nlm00017d/T/ipykernel_4373/2592492654.py:101: UserWarning: This figure includes Axes that are not compatible with tight_layout, so results might be incorrect.\n",
      "  plt.tight_layout()\n"
     ]
    },
    {
     "name": "stdout",
     "output_type": "stream",
     "text": [
      "2022-04-09 20:26:25 UTC 2022-04-09 14:26:25 MDT\n",
      "14:26:25\n",
      "2 73.06631455962163\n",
      "26 158.5\n"
     ]
    },
    {
     "name": "stderr",
     "output_type": "stream",
     "text": [
      "/var/folders/0c/8xbkg06s6cz0yy2505h06nlm00017d/T/ipykernel_4373/2592492654.py:101: UserWarning: This figure includes Axes that are not compatible with tight_layout, so results might be incorrect.\n",
      "  plt.tight_layout()\n"
     ]
    },
    {
     "name": "stdout",
     "output_type": "stream",
     "text": [
      "2022-04-09 20:25:25 UTC 2022-04-09 14:25:25 MDT\n",
      "14:25:25\n",
      "2 72.56631455962162\n",
      "25 152.5\n"
     ]
    },
    {
     "name": "stderr",
     "output_type": "stream",
     "text": [
      "/var/folders/0c/8xbkg06s6cz0yy2505h06nlm00017d/T/ipykernel_4373/2592492654.py:101: UserWarning: This figure includes Axes that are not compatible with tight_layout, so results might be incorrect.\n",
      "  plt.tight_layout()\n"
     ]
    },
    {
     "name": "stdout",
     "output_type": "stream",
     "text": [
      "2022-04-09 20:24:25 UTC 2022-04-09 14:24:25 MDT\n",
      "14:24:25\n",
      "2 72.06631455962163\n",
      "24 146.5\n"
     ]
    },
    {
     "name": "stderr",
     "output_type": "stream",
     "text": [
      "/var/folders/0c/8xbkg06s6cz0yy2505h06nlm00017d/T/ipykernel_4373/2592492654.py:101: UserWarning: This figure includes Axes that are not compatible with tight_layout, so results might be incorrect.\n",
      "  plt.tight_layout()\n"
     ]
    },
    {
     "name": "stdout",
     "output_type": "stream",
     "text": [
      "2022-04-09 20:23:25 UTC 2022-04-09 14:23:25 MDT\n",
      "14:23:25\n",
      "2 71.56631455962162\n",
      "23 140.5\n",
      "We already have this one!\n",
      "We already have this one!\n",
      "We already have this one!\n",
      "We already have this one!\n",
      "We already have this one!\n",
      "We already have this one!\n",
      "We already have this one!\n",
      "We already have this one!\n",
      "We already have this one!\n",
      "We already have this one!\n",
      "We already have this one!\n",
      "We already have this one!\n",
      "We already have this one!\n",
      "We already have this one!\n",
      "We already have this one!\n",
      "We already have this one!\n",
      "We already have this one!\n",
      "We already have this one!\n",
      "We already have this one!\n",
      "We already have this one!\n",
      "We already have this one!\n",
      "We already have this one!\n",
      "We already have this one!\n",
      "We already have this one!\n",
      "We already have this one!\n",
      "We already have this one!\n",
      "We already have this one!\n",
      "We already have this one!\n",
      "We already have this one!\n",
      "We already have this one!\n",
      "We already have this one!\n",
      "We already have this one!\n",
      "We already have this one!\n",
      "We already have this one!\n",
      "We already have this one!\n",
      "We already have this one!\n",
      "We already have this one!\n",
      "We already have this one!\n",
      "We already have this one!\n",
      "We already have this one!\n",
      "We already have this one!\n",
      "We already have this one!\n",
      "We already have this one!\n",
      "We already have this one!\n",
      "We already have this one!\n",
      "We already have this one!\n",
      "We already have this one!\n",
      "We already have this one!\n",
      "We already have this one!\n",
      "We already have this one!\n",
      "We already have this one!\n",
      "We already have this one!\n"
     ]
    },
    {
     "name": "stderr",
     "output_type": "stream",
     "text": [
      "/var/folders/0c/8xbkg06s6cz0yy2505h06nlm00017d/T/ipykernel_4373/2592492654.py:101: UserWarning: This figure includes Axes that are not compatible with tight_layout, so results might be incorrect.\n",
      "  plt.tight_layout()\n"
     ]
    },
    {
     "name": "stdout",
     "output_type": "stream",
     "text": [
      "2022-04-09 19:30:27 UTC 2022-04-09 13:30:27 MDT\n",
      "13:30:27\n",
      "1 45.071619724391354\n",
      "30 182.7\n"
     ]
    },
    {
     "name": "stderr",
     "output_type": "stream",
     "text": [
      "/var/folders/0c/8xbkg06s6cz0yy2505h06nlm00017d/T/ipykernel_4373/2592492654.py:101: UserWarning: This figure includes Axes that are not compatible with tight_layout, so results might be incorrect.\n",
      "  plt.tight_layout()\n"
     ]
    },
    {
     "name": "stdout",
     "output_type": "stream",
     "text": [
      "2022-04-09 19:29:25 UTC 2022-04-09 13:29:25 MDT\n",
      "13:29:25\n",
      "1 44.566314559621624\n",
      "29 176.5\n"
     ]
    },
    {
     "name": "stderr",
     "output_type": "stream",
     "text": [
      "/var/folders/0c/8xbkg06s6cz0yy2505h06nlm00017d/T/ipykernel_4373/2592492654.py:101: UserWarning: This figure includes Axes that are not compatible with tight_layout, so results might be incorrect.\n",
      "  plt.tight_layout()\n"
     ]
    },
    {
     "name": "stdout",
     "output_type": "stream",
     "text": [
      "2022-04-09 19:28:25 UTC 2022-04-09 13:28:25 MDT\n",
      "13:28:25\n",
      "1 44.066314559621624\n",
      "28 170.5\n"
     ]
    },
    {
     "name": "stderr",
     "output_type": "stream",
     "text": [
      "/var/folders/0c/8xbkg06s6cz0yy2505h06nlm00017d/T/ipykernel_4373/2592492654.py:101: UserWarning: This figure includes Axes that are not compatible with tight_layout, so results might be incorrect.\n",
      "  plt.tight_layout()\n"
     ]
    },
    {
     "name": "stdout",
     "output_type": "stream",
     "text": [
      "2022-04-09 19:27:25 UTC 2022-04-09 13:27:25 MDT\n",
      "13:27:25\n",
      "1 43.566314559621624\n",
      "27 164.5\n"
     ]
    },
    {
     "name": "stderr",
     "output_type": "stream",
     "text": [
      "/var/folders/0c/8xbkg06s6cz0yy2505h06nlm00017d/T/ipykernel_4373/2592492654.py:101: UserWarning: This figure includes Axes that are not compatible with tight_layout, so results might be incorrect.\n",
      "  plt.tight_layout()\n"
     ]
    },
    {
     "name": "stdout",
     "output_type": "stream",
     "text": [
      "2022-04-09 19:26:25 UTC 2022-04-09 13:26:25 MDT\n",
      "13:26:25\n",
      "1 43.066314559621624\n",
      "26 158.5\n"
     ]
    },
    {
     "name": "stderr",
     "output_type": "stream",
     "text": [
      "/var/folders/0c/8xbkg06s6cz0yy2505h06nlm00017d/T/ipykernel_4373/2592492654.py:101: UserWarning: This figure includes Axes that are not compatible with tight_layout, so results might be incorrect.\n",
      "  plt.tight_layout()\n"
     ]
    },
    {
     "name": "stdout",
     "output_type": "stream",
     "text": [
      "2022-04-09 19:25:25 UTC 2022-04-09 13:25:25 MDT\n",
      "13:25:25\n",
      "1 42.566314559621624\n",
      "25 152.5\n"
     ]
    },
    {
     "name": "stderr",
     "output_type": "stream",
     "text": [
      "/var/folders/0c/8xbkg06s6cz0yy2505h06nlm00017d/T/ipykernel_4373/2592492654.py:101: UserWarning: This figure includes Axes that are not compatible with tight_layout, so results might be incorrect.\n",
      "  plt.tight_layout()\n"
     ]
    },
    {
     "name": "stdout",
     "output_type": "stream",
     "text": [
      "2022-04-09 19:24:25 UTC 2022-04-09 13:24:25 MDT\n",
      "13:24:25\n",
      "1 42.066314559621624\n",
      "24 146.5\n"
     ]
    },
    {
     "name": "stderr",
     "output_type": "stream",
     "text": [
      "/var/folders/0c/8xbkg06s6cz0yy2505h06nlm00017d/T/ipykernel_4373/2592492654.py:101: UserWarning: This figure includes Axes that are not compatible with tight_layout, so results might be incorrect.\n",
      "  plt.tight_layout()\n"
     ]
    },
    {
     "name": "stdout",
     "output_type": "stream",
     "text": [
      "2022-04-09 19:23:25 UTC 2022-04-09 13:23:25 MDT\n",
      "13:23:25\n",
      "1 41.56631455962162\n",
      "23 140.5\n"
     ]
    },
    {
     "name": "stderr",
     "output_type": "stream",
     "text": [
      "/var/folders/0c/8xbkg06s6cz0yy2505h06nlm00017d/T/ipykernel_4373/2592492654.py:101: UserWarning: This figure includes Axes that are not compatible with tight_layout, so results might be incorrect.\n",
      "  plt.tight_layout()\n"
     ]
    },
    {
     "name": "stdout",
     "output_type": "stream",
     "text": [
      "2022-04-09 19:22:25 UTC 2022-04-09 13:22:25 MDT\n",
      "13:22:25\n",
      "1 41.06631455962162\n",
      "22 134.49999999999997\n"
     ]
    },
    {
     "name": "stderr",
     "output_type": "stream",
     "text": [
      "/var/folders/0c/8xbkg06s6cz0yy2505h06nlm00017d/T/ipykernel_4373/2592492654.py:101: UserWarning: This figure includes Axes that are not compatible with tight_layout, so results might be incorrect.\n",
      "  plt.tight_layout()\n"
     ]
    },
    {
     "name": "stdout",
     "output_type": "stream",
     "text": [
      "2022-04-09 19:21:25 UTC 2022-04-09 13:21:25 MDT\n",
      "13:21:25\n",
      "1 40.566314559621624\n",
      "21 128.5\n"
     ]
    },
    {
     "name": "stderr",
     "output_type": "stream",
     "text": [
      "/var/folders/0c/8xbkg06s6cz0yy2505h06nlm00017d/T/ipykernel_4373/2592492654.py:101: UserWarning: This figure includes Axes that are not compatible with tight_layout, so results might be incorrect.\n",
      "  plt.tight_layout()\n"
     ]
    },
    {
     "name": "stdout",
     "output_type": "stream",
     "text": [
      "2022-04-09 19:20:27 UTC 2022-04-09 13:20:27 MDT\n",
      "13:20:27\n",
      "1 40.07161972439135\n",
      "20 122.7\n"
     ]
    },
    {
     "name": "stderr",
     "output_type": "stream",
     "text": [
      "/var/folders/0c/8xbkg06s6cz0yy2505h06nlm00017d/T/ipykernel_4373/2592492654.py:101: UserWarning: This figure includes Axes that are not compatible with tight_layout, so results might be incorrect.\n",
      "  plt.tight_layout()\n"
     ]
    },
    {
     "name": "stdout",
     "output_type": "stream",
     "text": [
      "2022-04-09 19:19:25 UTC 2022-04-09 13:19:25 MDT\n",
      "13:19:25\n",
      "1 39.566314559621624\n",
      "19 116.5\n"
     ]
    },
    {
     "name": "stderr",
     "output_type": "stream",
     "text": [
      "/var/folders/0c/8xbkg06s6cz0yy2505h06nlm00017d/T/ipykernel_4373/2592492654.py:101: UserWarning: This figure includes Axes that are not compatible with tight_layout, so results might be incorrect.\n",
      "  plt.tight_layout()\n"
     ]
    },
    {
     "name": "stdout",
     "output_type": "stream",
     "text": [
      "2022-04-09 19:18:25 UTC 2022-04-09 13:18:25 MDT\n",
      "13:18:25\n",
      "1 39.066314559621624\n",
      "18 110.5\n"
     ]
    },
    {
     "name": "stderr",
     "output_type": "stream",
     "text": [
      "/var/folders/0c/8xbkg06s6cz0yy2505h06nlm00017d/T/ipykernel_4373/2592492654.py:101: UserWarning: This figure includes Axes that are not compatible with tight_layout, so results might be incorrect.\n",
      "  plt.tight_layout()\n"
     ]
    },
    {
     "name": "stdout",
     "output_type": "stream",
     "text": [
      "2022-04-09 19:17:25 UTC 2022-04-09 13:17:25 MDT\n",
      "13:17:25\n",
      "1 38.566314559621624\n",
      "17 104.5\n"
     ]
    },
    {
     "name": "stderr",
     "output_type": "stream",
     "text": [
      "/var/folders/0c/8xbkg06s6cz0yy2505h06nlm00017d/T/ipykernel_4373/2592492654.py:101: UserWarning: This figure includes Axes that are not compatible with tight_layout, so results might be incorrect.\n",
      "  plt.tight_layout()\n"
     ]
    },
    {
     "name": "stdout",
     "output_type": "stream",
     "text": [
      "2022-04-09 19:16:25 UTC 2022-04-09 13:16:25 MDT\n",
      "13:16:25\n",
      "1 38.066314559621624\n",
      "16 98.49999999999999\n"
     ]
    },
    {
     "name": "stderr",
     "output_type": "stream",
     "text": [
      "/var/folders/0c/8xbkg06s6cz0yy2505h06nlm00017d/T/ipykernel_4373/2592492654.py:101: UserWarning: This figure includes Axes that are not compatible with tight_layout, so results might be incorrect.\n",
      "  plt.tight_layout()\n"
     ]
    },
    {
     "name": "stdout",
     "output_type": "stream",
     "text": [
      "2022-04-09 19:15:25 UTC 2022-04-09 13:15:25 MDT\n",
      "13:15:25\n",
      "1 37.566314559621624\n",
      "15 92.49999999999999\n"
     ]
    },
    {
     "name": "stderr",
     "output_type": "stream",
     "text": [
      "/var/folders/0c/8xbkg06s6cz0yy2505h06nlm00017d/T/ipykernel_4373/2592492654.py:101: UserWarning: This figure includes Axes that are not compatible with tight_layout, so results might be incorrect.\n",
      "  plt.tight_layout()\n"
     ]
    }
   ],
   "source": [
    "##################################################\n",
    "#\n",
    "# Create PNGs\n",
    "#\n",
    "\n",
    "for i in range(0,len(cat.datasets[0:total_frames])+1,1) : \n",
    "\n",
    "    dataset = cat.datasets[i]\n",
    "    \n",
    "    dataset_png_file_name = png_processing_directory + dataset.name.replace(\".nc\", \".png\")\n",
    "    \n",
    "    if (not pathlib.Path(dataset_png_file_name).is_file() ):\n",
    "\n",
    "        ds = dataset.remote_access(use_xarray=True)\n",
    "        dat = ds.metpy.parse_cf('Sectorized_CMI')\n",
    "        proj = dat.metpy.cartopy_crs\n",
    "        x = dat['x']\n",
    "        y = dat['y']\n",
    "\n",
    "\n",
    "        tz='America/Denver'\n",
    "        time_utc   = datetime.strptime(ds.start_date_time, '%Y%j%H%M%S')\n",
    "        valid_time = pd.to_datetime(time_utc).tz_localize(tz=\"UTC\").strftime(\"%Y-%m-%d %H:%M:%S %Z\")\n",
    "        local_time = pd.to_datetime(time_utc).tz_localize(tz=\"UTC\").tz_convert(tz=tz).strftime(\"%Y-%m-%d %H:%M:%S %Z\")\n",
    "\n",
    "        file_time = pd.to_datetime(time_utc).tz_localize(tz=\"UTC\").strftime(\"%Y-%m-%d_%H%M\")\n",
    "\n",
    "\n",
    "        print(valid_time,local_time)\n",
    "\n",
    "\n",
    "\n",
    "        fig = plt.figure(figsize=(8, 8), facecolor = 'white')\n",
    "\n",
    "        plt.suptitle(image_header_label,\n",
    "                     fontsize = 20, \n",
    "                     color    = \"black\")\n",
    "        ax = fig.add_subplot(1, 1, 1, projection=proj)\n",
    "        ax.set_title(valid_time + \"  (\" + local_time+\")\",\n",
    "                        fontsize=15, color=\"black\")\n",
    "        ax.add_feature(cfeature.COASTLINE.with_scale('50m'), linewidth=2)\n",
    "        ax.add_feature(cfeature.STATES.with_scale('50m'),    linestyle=':', edgecolor='black')\n",
    "        ax.add_feature(cfeature.BORDERS.with_scale('50m'),   linewidth=2, edgecolor='black')\n",
    "        \n",
    "\n",
    "        # print(\"range dat = \",np.nanmin(dat.values),np.nanmax(dat.values))\n",
    "        im = ax.imshow(dat, extent=(x.min(), x.max(), y.min(), y.max()), origin='upper')\n",
    "\n",
    "        wv_norm, wv_cmap = colortables.get_with_range('WVCIMSS_r', 190, 310)\n",
    "        im.set_cmap(wv_cmap)\n",
    "        im.set_norm(wv_norm)\n",
    "\n",
    "        #########################################\n",
    "        #\n",
    "        # Insert a Clock\n",
    "        #\n",
    "        \n",
    "        axins = fig.add_axes(rect     =    [0.065,\n",
    "                                            0.795,\n",
    "                                            0.12*0.65306121,\n",
    "                                            0.12],\n",
    "                              projection  =  \"polar\")\n",
    "        \n",
    "        time_for_clock = pd.to_datetime(time_utc).tz_localize(tz=\"UTC\").tz_convert(tz=tz).time()\n",
    "\n",
    "        hour   = time_for_clock.hour\n",
    "        minute = time_for_clock.minute\n",
    "        second = time_for_clock.second\n",
    "        \n",
    "        circle_theta  = np.deg2rad(np.arange(0,360,0.01))\n",
    "        circle_radius = circle_theta * 0 + 1\n",
    "        \n",
    "        if (hour > 12) :\n",
    "            hour = hour - 12\n",
    "        \n",
    "        angles_h = 2*np.pi*hour/12+2*np.pi*minute/(12*60)+2*second/(12*60*60)\n",
    "        angles_m = 2*np.pi*minute/60+2*np.pi*second/(60*60)\n",
    "        \n",
    "        print(time_for_clock)\n",
    "        print(hour,   np.rad2deg(angles_h))\n",
    "        print(minute, np.rad2deg(angles_m))\n",
    "\n",
    "        \n",
    "        plt.setp(axins.get_yticklabels(), visible=False)\n",
    "        plt.setp(axins.get_xticklabels(), visible=False)\n",
    "        axins.spines['polar'].set_visible(False)\n",
    "        axins.set_ylim(0,1)\n",
    "        axins.set_theta_zero_location('N')\n",
    "        axins.set_theta_direction(-1)\n",
    "        axins.set_facecolor(\"white\")\n",
    "        axins.grid(False)\n",
    "        \n",
    "        axins.plot([angles_h,angles_h], [0,0.6], color=\"black\", linewidth=1.5)\n",
    "        axins.plot([angles_m,angles_m], [0,0.95], color=\"black\", linewidth=1.5)\n",
    "        axins.plot(circle_theta, circle_radius, color=\"darkgrey\", linewidth=1)\n",
    "\n",
    "\n",
    "        \n",
    "        #\n",
    "        #########################################             \n",
    "        plt.tight_layout()\n",
    "        \n",
    "        plt.savefig( dataset_png_file_name)\n",
    "        plt.close()\n",
    "    else:\n",
    "        print(\"We already have this one!\")\n",
    "    \n",
    "\n",
    "#\n",
    "##################################################"
   ]
  },
  {
   "cell_type": "code",
   "execution_count": 7,
   "id": "25797458-35e4-4f83-9383-7fad3c0ac636",
   "metadata": {},
   "outputs": [
    {
     "name": "stdout",
     "output_type": "stream",
     "text": [
      "completed ./graphics_files/RealTime_SAT_IR_Meso1_Loop.gif\n"
     ]
    }
   ],
   "source": [
    "##################################################\n",
    "#\n",
    "# Convert PNGs into an Animated GIF\n",
    "#\n",
    "\n",
    "\n",
    "big_string = \" \".join(file_names_to_use_meso1)\n",
    "\n",
    "os.system(\"convert -delay 10 \" + \n",
    "          big_string + \n",
    "          \" \" + \n",
    "          gif_file_name1)\n",
    "\n",
    "print(\"completed \"+ gif_file_name1)\n",
    "\n",
    "\n",
    "#\n",
    "##################################################"
   ]
  },
  {
   "cell_type": "code",
   "execution_count": null,
   "id": "79dc57a0-e951-4b8f-9dea-4137d1595972",
   "metadata": {},
   "outputs": [],
   "source": []
  },
  {
   "cell_type": "code",
   "execution_count": null,
   "id": "da436531-64d0-4764-84af-b22b84cbdf0b",
   "metadata": {},
   "outputs": [],
   "source": []
  },
  {
   "cell_type": "code",
   "execution_count": null,
   "id": "1b5b1c2f-6449-41ee-acf1-617af3e3847e",
   "metadata": {},
   "outputs": [],
   "source": []
  },
  {
   "cell_type": "markdown",
   "id": "dfd2f1ab-afdd-4512-8d02-b9887556471c",
   "metadata": {},
   "source": [
    "## Meso Floater 2"
   ]
  },
  {
   "cell_type": "code",
   "execution_count": 8,
   "id": "563d742e-a831-4f99-a492-496c632c35df",
   "metadata": {},
   "outputs": [
    {
     "name": "stdout",
     "output_type": "stream",
     "text": [
      "https://thredds.ucar.edu/thredds/catalog/satellite/goes/east/products/CloudAndMoistureImagery/Mesoscale-2/Channel13/current/catalog.xml\n"
     ]
    }
   ],
   "source": [
    "##################################################\n",
    "#\n",
    "# Control Setup\n",
    "#\n",
    "\n",
    "# %load solutions/data_url.py\n",
    "\n",
    "total_frames = int(45*2 * 0.8)\n",
    "\n",
    "\n",
    "png_processing_directory = \"./temp_files_sat_ir_meso2/\"\n",
    "\n",
    "gif_file_name1 = \"./graphics_files/RealTime_SAT_IR_Meso1_Loop.gif\"\n",
    "gif_file_name2 = \"./graphics_files/RealTime_SAT_IR_Meso2_Loop.gif\"\n",
    "gif_file_name3 = \"./graphics_files/RealTime_SAT_IR_SODAK_Loop.gif\"\n",
    "gif_file_name12 = \"./graphics_files/RealTime_SAT_IR_Meso12_Loop.gif\"\n",
    "\n",
    "\n",
    "image_header_label = \"GOES 16 Meso2 Band 13 [10.3 µm Clean LW IR Window]\"\n",
    "\n",
    "# Cell content replaced by load magic replacement.\n",
    "\n",
    "# Create variables for URL generation\n",
    "\n",
    "image_date = datetime.utcnow().date()\n",
    "region = 'Mesoscale-2'\n",
    "channel = 13\n",
    "\n",
    "# We want to match something like:\n",
    "# https://thredds-test.unidata.ucar.edu/thredds/catalog/satellite/goes16/GOES16/Mesoscale-1/Channel08/20181113/catalog.html\n",
    "\n",
    "# Construct the data_url string\n",
    "\n",
    "data_url = ('https://thredds.ucar.edu/thredds/catalog/satellite/goes/east/products/'\n",
    "            f'CloudAndMoistureImagery/{region}/Channel{channel:02d}/current/catalog.xml')\n",
    "\n",
    "# Print out your URL and verify it works!\n",
    "\n",
    "print(data_url)\n",
    "\n",
    "#\n",
    "##################################################"
   ]
  },
  {
   "cell_type": "code",
   "execution_count": 9,
   "id": "88589b89-075d-4496-b5e6-f9c1a66dea7d",
   "metadata": {},
   "outputs": [],
   "source": [
    "##################################################\n",
    "#\n",
    "# Pull Catalog\n",
    "#\n",
    "\n",
    "cat = TDSCatalog(data_url)\n",
    "\n",
    "#\n",
    "##################################################"
   ]
  },
  {
   "cell_type": "code",
   "execution_count": 10,
   "id": "c6c5aa9b-8ab8-4830-b9dc-169f86850817",
   "metadata": {},
   "outputs": [],
   "source": [
    "##################################################\n",
    "#\n",
    "# Create File Inventories\n",
    "#\n",
    "\n",
    "file_names_to_retain = list()\n",
    "file_names_to_use    = list()\n",
    "\n",
    "\n",
    "for i in range(0,len(cat.datasets[0:total_frames])+1,1) : \n",
    "    filename = png_processing_directory + cat.datasets[i].name.replace(\".nc\",\".png\")\n",
    "    file_names_to_retain.append(filename)\n",
    "    file_names_to_use.append(filename)\n",
    "\n",
    "        \n",
    "files_on_hand = [png_processing_directory + s for s in os.listdir(png_processing_directory)]\n",
    "\n",
    "\n",
    "file_names_to_retain.sort()\n",
    "file_names_to_use.sort()\n",
    "\n",
    "file_names_to_use_meso2 = file_names_to_use.copy()\n",
    "\n",
    "\n",
    "#\n",
    "##################################################   "
   ]
  },
  {
   "cell_type": "code",
   "execution_count": 11,
   "id": "e757eda3-02a7-4f7e-9b5b-1481959bca69",
   "metadata": {},
   "outputs": [
    {
     "name": "stdout",
     "output_type": "stream",
     "text": [
      "Purging  ./temp_files_sat_ir_meso2/OR_ABI-L2-CMIPM2-M6C02_G16_s20220902317550_e20220902317550_c20220902317550.png\n",
      "Purging  ./temp_files_sat_ir_meso2/OR_ABI-L2-CMIPM2-M6C02_G16_s20220902303550_e20220902303550_c20220902303550.png\n",
      "Purging  ./temp_files_sat_ir_meso2/OR_ABI-L2-CMIPM2-M6C02_G16_s20220902311550_e20220902311550_c20220902311550.png\n",
      "Purging  ./temp_files_sat_ir_meso2/OR_ABI-L2-CMIPM2-M6C02_G16_s20220902305550_e20220902305550_c20220902305550.png\n",
      "Purging  ./temp_files_sat_ir_meso2/OR_ABI-L2-CMIPM2-M6C02_G16_s20220902321550_e20220902321550_c20220902321550.png\n",
      "Purging  ./temp_files_sat_ir_meso2/OR_ABI-L2-CMIPM2-M6C02_G16_s20220902309550_e20220902309550_c20220902309550.png\n",
      "Purging  ./temp_files_sat_ir_meso2/OR_ABI-L2-CMIPM2-M6C02_G16_s20220902316550_e20220902316550_c20220902316550.png\n",
      "Purging  ./temp_files_sat_ir_meso2/OR_ABI-L2-CMIPM2-M6C02_G16_s20220902302550_e20220902302550_c20220902302550.png\n",
      "Purging  ./temp_files_sat_ir_meso2/OR_ABI-L2-CMIPM2-M6C02_G16_s20220902310550_e20220902310550_c20220902310550.png\n",
      "Purging  ./temp_files_sat_ir_meso2/OR_ABI-L2-CMIPM2-M6C02_G16_s20220902304550_e20220902304550_c20220902304550.png\n",
      "Purging  ./temp_files_sat_ir_meso2/OR_ABI-L2-CMIPM2-M6C02_G16_s20220902320550_e20220902320550_c20220902320550.png\n",
      "Purging  ./temp_files_sat_ir_meso2/OR_ABI-L2-CMIPM2-M6C02_G16_s20220902308550_e20220902308550_c20220902308550.png\n",
      "Purging  ./temp_files_sat_ir_meso2/OR_ABI-L2-CMIPM2-M6C02_G16_s20220902237550_e20220902237550_c20220902237550.png\n",
      "Purging  ./temp_files_sat_ir_meso2/OR_ABI-L2-CMIPM2-M6C02_G16_s20220902219550_e20220902219550_c20220902219550.png\n",
      "Purging  ./temp_files_sat_ir_meso2/OR_ABI-L2-CMIPM2-M6C02_G16_s20220902223550_e20220902223550_c20220902223550.png\n",
      "Purging  ./temp_files_sat_ir_meso2/OR_ABI-L2-CMIPM2-M6C02_G16_s20220902231550_e20220902231550_c20220902231550.png\n",
      "Purging  ./temp_files_sat_ir_meso2/OR_ABI-L2-CMIPM2-M6C02_G16_s20220902225550_e20220902225550_c20220902225550.png\n",
      "Purging  ./temp_files_sat_ir_meso2/OR_ABI-L2-CMIPM2-M6C02_G16_s20220902215550_e20220902215550_c20220902215550.png\n",
      "Purging  ./temp_files_sat_ir_meso2/OR_ABI-L2-CMIPM2-M6C02_G16_s20220902213550_e20220902213550_c20220902213550.png\n",
      "Purging  ./temp_files_sat_ir_meso2/OR_ABI-L2-CMIPM2-M6C02_G16_s20220902229550_e20220902229550_c20220902229550.png\n",
      "Purging  ./temp_files_sat_ir_meso2/OR_ABI-L2-CMIPM2-M6C02_G16_s20220902249550_e20220902249550_c20220902249550.png\n",
      "Purging  ./temp_files_sat_ir_meso2/OR_ABI-L2-CMIPM2-M6C02_G16_s20220902251550_e20220902251550_c20220902251550.png\n",
      "Purging  ./temp_files_sat_ir_meso2/OR_ABI-L2-CMIPM2-M6C02_G16_s20220902245550_e20220902245550_c20220902245550.png\n",
      "Purging  ./temp_files_sat_ir_meso2/OR_ABI-L2-CMIPM2-M6C02_G16_s20220902257550_e20220902257550_c20220902257550.png\n",
      "Purging  ./temp_files_sat_ir_meso2/OR_ABI-L2-CMIPM2-M6C02_G16_s20220902243550_e20220902243550_c20220902243550.png\n",
      "Purging  ./temp_files_sat_ir_meso2/OR_ABI-L2-CMIPM2-M6C02_G16_s20220902218550_e20220902218550_c20220902218550.png\n",
      "Purging  ./temp_files_sat_ir_meso2/OR_ABI-L2-CMIPM2-M6C02_G16_s20220902236550_e20220902236550_c20220902236550.png\n",
      "Purging  ./temp_files_sat_ir_meso2/OR_ABI-L2-CMIPM2-M6C02_G16_s20220902222550_e20220902222550_c20220902222550.png\n",
      "Purging  ./temp_files_sat_ir_meso2/OR_ABI-L2-CMIPM2-M6C02_G16_s20220902230550_e20220902230550_c20220902230550.png\n",
      "Purging  ./temp_files_sat_ir_meso2/OR_ABI-L2-CMIPM2-M6C02_G16_s20220902224550_e20220902224550_c20220902224550.png\n",
      "Purging  ./temp_files_sat_ir_meso2/OR_ABI-L2-CMIPM2-M6C02_G16_s20220902214550_e20220902214550_c20220902214550.png\n",
      "Purging  ./temp_files_sat_ir_meso2/OR_ABI-L2-CMIPM2-M6C02_G16_s20220902212550_e20220902212550_c20220902212550.png\n",
      "Purging  ./temp_files_sat_ir_meso2/OR_ABI-L2-CMIPM2-M6C02_G16_s20220902228550_e20220902228550_c20220902228550.png\n",
      "Purging  ./temp_files_sat_ir_meso2/OR_ABI-L2-CMIPM2-M6C02_G16_s20220902248550_e20220902248550_c20220902248550.png\n",
      "Purging  ./temp_files_sat_ir_meso2/OR_ABI-L2-CMIPM2-M6C02_G16_s20220902250550_e20220902250550_c20220902250550.png\n",
      "Purging  ./temp_files_sat_ir_meso2/OR_ABI-L2-CMIPM2-M6C02_G16_s20220902244550_e20220902244550_c20220902244550.png\n",
      "Purging  ./temp_files_sat_ir_meso2/OR_ABI-L2-CMIPM2-M6C02_G16_s20220902256550_e20220902256550_c20220902256550.png\n",
      "Purging  ./temp_files_sat_ir_meso2/OR_ABI-L2-CMIPM2-M6C02_G16_s20220902242550_e20220902242550_c20220902242550.png\n",
      "Purging  ./temp_files_sat_ir_meso2/OR_ABI-L2-CMIPM2-M6C02_G16_s20220902300550_e20220902300550_c20220902300550.png\n",
      "Purging  ./temp_files_sat_ir_meso2/OR_ABI-L2-CMIPM2-M6C02_G16_s20220902314550_e20220902314550_c20220902314550.png\n",
      "Purging  ./temp_files_sat_ir_meso2/OR_ABI-L2-CMIPM2-M6C02_G16_s20220902306550_e20220902306550_c20220902306550.png\n",
      "Purging  ./temp_files_sat_ir_meso2/OR_ABI-L2-CMIPM2-M6C02_G16_s20220902312550_e20220902312550_c20220902312550.png\n",
      "Purging  ./temp_files_sat_ir_meso2/OR_ABI-L2-CMIPM2-M6C02_G16_s20220902322550_e20220902322550_c20220902322550.png\n",
      "Purging  ./temp_files_sat_ir_meso2/OR_ABI-L2-CMIPM2-M6C02_G16_s20220902318550_e20220902318550_c20220902318550.png\n",
      "Purging  ./temp_files_sat_ir_meso2/OR_ABI-L2-CMIPM2-M6C02_G16_s20220902301550_e20220902301550_c20220902301550.png\n",
      "Purging  ./temp_files_sat_ir_meso2/OR_ABI-L2-CMIPM2-M6C02_G16_s20220902315550_e20220902315550_c20220902315550.png\n",
      "Purging  ./temp_files_sat_ir_meso2/OR_ABI-L2-CMIPM2-M6C02_G16_s20220902307550_e20220902307550_c20220902307550.png\n",
      "Purging  ./temp_files_sat_ir_meso2/OR_ABI-L2-CMIPM2-M6C02_G16_s20220902313550_e20220902313550_c20220902313550.png\n",
      "Purging  ./temp_files_sat_ir_meso2/OR_ABI-L2-CMIPM2-M6C02_G16_s20220902323550_e20220902323550_c20220902323550.png\n",
      "Purging  ./temp_files_sat_ir_meso2/OR_ABI-L2-CMIPM2-M6C02_G16_s20220902319550_e20220902319550_c20220902319550.png\n",
      "Purging  ./temp_files_sat_ir_meso2/OR_ABI-L2-CMIPM2-M6C02_G16_s20220902220550_e20220902220550_c20220902220550.png\n",
      "Purging  ./temp_files_sat_ir_meso2/OR_ABI-L2-CMIPM2-M6C02_G16_s20220902234550_e20220902234550_c20220902234550.png\n",
      "Purging  ./temp_files_sat_ir_meso2/OR_ABI-L2-CMIPM2-M6C02_G16_s20220902226550_e20220902226550_c20220902226550.png\n",
      "Purging  ./temp_files_sat_ir_meso2/OR_ABI-L2-CMIPM2-M6C02_G16_s20220902232550_e20220902232550_c20220902232550.png\n",
      "Purging  ./temp_files_sat_ir_meso2/OR_ABI-L2-CMIPM2-M6C02_G16_s20220902216550_e20220902216550_c20220902216550.png\n",
      "Purging  ./temp_files_sat_ir_meso2/OR_ABI-L2-CMIPM2-M6C02_G16_s20220902238550_e20220902238550_c20220902238550.png\n",
      "Purging  ./temp_files_sat_ir_meso2/OR_ABI-L2-CMIPM2-M6C02_G16_s20220902258550_e20220902258550_c20220902258550.png\n",
      "Purging  ./temp_files_sat_ir_meso2/OR_ABI-L2-CMIPM2-M6C02_G16_s20220902246550_e20220902246550_c20220902246550.png\n",
      "Purging  ./temp_files_sat_ir_meso2/OR_ABI-L2-CMIPM2-M6C02_G16_s20220902252550_e20220902252550_c20220902252550.png\n",
      "Purging  ./temp_files_sat_ir_meso2/OR_ABI-L2-CMIPM2-M6C02_G16_s20220902240550_e20220902240550_c20220902240550.png\n",
      "Purging  ./temp_files_sat_ir_meso2/OR_ABI-L2-CMIPM2-M6C02_G16_s20220902254550_e20220902254550_c20220902254550.png\n",
      "Purging  ./temp_files_sat_ir_meso2/OR_ABI-L2-CMIPM2-M6C02_G16_s20220902221550_e20220902221550_c20220902221550.png\n",
      "Purging  ./temp_files_sat_ir_meso2/OR_ABI-L2-CMIPM2-M6C02_G16_s20220902235550_e20220902235550_c20220902235550.png\n",
      "Purging  ./temp_files_sat_ir_meso2/OR_ABI-L2-CMIPM2-M6C02_G16_s20220902227550_e20220902227550_c20220902227550.png\n",
      "Purging  ./temp_files_sat_ir_meso2/OR_ABI-L2-CMIPM2-M6C02_G16_s20220902233550_e20220902233550_c20220902233550.png\n",
      "Purging  ./temp_files_sat_ir_meso2/OR_ABI-L2-CMIPM2-M6C02_G16_s20220902239550_e20220902239550_c20220902239550.png\n",
      "Purging  ./temp_files_sat_ir_meso2/OR_ABI-L2-CMIPM2-M6C02_G16_s20220902217550_e20220902217550_c20220902217550.png\n",
      "Purging  ./temp_files_sat_ir_meso2/OR_ABI-L2-CMIPM2-M6C02_G16_s20220902211550_e20220902211550_c20220902211550.png\n",
      "Purging  ./temp_files_sat_ir_meso2/OR_ABI-L2-CMIPM2-M6C02_G16_s20220902259550_e20220902259550_c20220902259550.png\n",
      "Purging  ./temp_files_sat_ir_meso2/OR_ABI-L2-CMIPM2-M6C02_G16_s20220902247550_e20220902247550_c20220902247550.png\n",
      "Purging  ./temp_files_sat_ir_meso2/OR_ABI-L2-CMIPM2-M6C02_G16_s20220902253550_e20220902253550_c20220902253550.png\n",
      "Purging  ./temp_files_sat_ir_meso2/OR_ABI-L2-CMIPM2-M6C02_G16_s20220902241550_e20220902241550_c20220902241550.png\n",
      "Purging  ./temp_files_sat_ir_meso2/OR_ABI-L2-CMIPM2-M6C02_G16_s20220902255550_e20220902255550_c20220902255550.png\n"
     ]
    }
   ],
   "source": [
    "##################################################\n",
    "#\n",
    "# Clean PNG Directory\n",
    "#\n",
    "\n",
    "for filename in files_on_hand:\n",
    "    if filename not in file_names_to_retain:\n",
    "        print(\"Purging \", filename )\n",
    "        os.remove( filename  )\n",
    "    else:\n",
    "        print(\"Keeping \", filename )\n",
    "#\n",
    "##################################################  "
   ]
  },
  {
   "cell_type": "code",
   "execution_count": 12,
   "id": "2ae3b4a2-ae1a-4b7a-8a0f-768c38c9f3ce",
   "metadata": {},
   "outputs": [
    {
     "name": "stdout",
     "output_type": "stream",
     "text": [
      "2022-04-09 20:27:55 UTC 2022-04-09 14:27:55 MDT\n",
      "14:27:55\n",
      "2 73.64589203116756\n",
      "27 167.5\n"
     ]
    },
    {
     "name": "stderr",
     "output_type": "stream",
     "text": [
      "/var/folders/0c/8xbkg06s6cz0yy2505h06nlm00017d/T/ipykernel_4373/2778697526.py:105: UserWarning: This figure includes Axes that are not compatible with tight_layout, so results might be incorrect.\n",
      "  plt.tight_layout()\n"
     ]
    },
    {
     "name": "stdout",
     "output_type": "stream",
     "text": [
      "2022-04-09 20:26:55 UTC 2022-04-09 14:26:55 MDT\n",
      "14:26:55\n",
      "2 73.14589203116758\n",
      "26 161.5\n"
     ]
    },
    {
     "name": "stderr",
     "output_type": "stream",
     "text": [
      "/var/folders/0c/8xbkg06s6cz0yy2505h06nlm00017d/T/ipykernel_4373/2778697526.py:105: UserWarning: This figure includes Axes that are not compatible with tight_layout, so results might be incorrect.\n",
      "  plt.tight_layout()\n"
     ]
    },
    {
     "name": "stdout",
     "output_type": "stream",
     "text": [
      "2022-04-09 20:25:55 UTC 2022-04-09 14:25:55 MDT\n",
      "14:25:55\n",
      "2 72.64589203116756\n",
      "25 155.5\n"
     ]
    },
    {
     "name": "stderr",
     "output_type": "stream",
     "text": [
      "/var/folders/0c/8xbkg06s6cz0yy2505h06nlm00017d/T/ipykernel_4373/2778697526.py:105: UserWarning: This figure includes Axes that are not compatible with tight_layout, so results might be incorrect.\n",
      "  plt.tight_layout()\n"
     ]
    },
    {
     "name": "stdout",
     "output_type": "stream",
     "text": [
      "2022-04-09 20:24:55 UTC 2022-04-09 14:24:55 MDT\n",
      "14:24:55\n",
      "2 72.14589203116758\n",
      "24 149.5\n"
     ]
    },
    {
     "name": "stderr",
     "output_type": "stream",
     "text": [
      "/var/folders/0c/8xbkg06s6cz0yy2505h06nlm00017d/T/ipykernel_4373/2778697526.py:105: UserWarning: This figure includes Axes that are not compatible with tight_layout, so results might be incorrect.\n",
      "  plt.tight_layout()\n"
     ]
    },
    {
     "name": "stdout",
     "output_type": "stream",
     "text": [
      "2022-04-09 20:23:55 UTC 2022-04-09 14:23:55 MDT\n",
      "14:23:55\n",
      "2 71.64589203116756\n",
      "23 143.49999999999997\n"
     ]
    },
    {
     "name": "stderr",
     "output_type": "stream",
     "text": [
      "/var/folders/0c/8xbkg06s6cz0yy2505h06nlm00017d/T/ipykernel_4373/2778697526.py:105: UserWarning: This figure includes Axes that are not compatible with tight_layout, so results might be incorrect.\n",
      "  plt.tight_layout()\n"
     ]
    },
    {
     "name": "stdout",
     "output_type": "stream",
     "text": [
      "2022-04-09 20:22:55 UTC 2022-04-09 14:22:55 MDT\n",
      "14:22:55\n",
      "2 71.14589203116758\n",
      "22 137.49999999999997\n"
     ]
    },
    {
     "name": "stderr",
     "output_type": "stream",
     "text": [
      "/var/folders/0c/8xbkg06s6cz0yy2505h06nlm00017d/T/ipykernel_4373/2778697526.py:105: UserWarning: This figure includes Axes that are not compatible with tight_layout, so results might be incorrect.\n",
      "  plt.tight_layout()\n"
     ]
    },
    {
     "name": "stdout",
     "output_type": "stream",
     "text": [
      "2022-04-09 20:21:55 UTC 2022-04-09 14:21:55 MDT\n",
      "14:21:55\n",
      "2 70.64589203116756\n",
      "21 131.5\n"
     ]
    },
    {
     "name": "stderr",
     "output_type": "stream",
     "text": [
      "/var/folders/0c/8xbkg06s6cz0yy2505h06nlm00017d/T/ipykernel_4373/2778697526.py:105: UserWarning: This figure includes Axes that are not compatible with tight_layout, so results might be incorrect.\n",
      "  plt.tight_layout()\n"
     ]
    },
    {
     "name": "stdout",
     "output_type": "stream",
     "text": [
      "2022-04-09 20:20:55 UTC 2022-04-09 14:20:55 MDT\n",
      "14:20:55\n",
      "2 70.14589203116756\n",
      "20 125.49999999999999\n"
     ]
    },
    {
     "name": "stderr",
     "output_type": "stream",
     "text": [
      "/var/folders/0c/8xbkg06s6cz0yy2505h06nlm00017d/T/ipykernel_4373/2778697526.py:105: UserWarning: This figure includes Axes that are not compatible with tight_layout, so results might be incorrect.\n",
      "  plt.tight_layout()\n"
     ]
    },
    {
     "name": "stdout",
     "output_type": "stream",
     "text": [
      "2022-04-09 20:19:55 UTC 2022-04-09 14:19:55 MDT\n",
      "14:19:55\n",
      "2 69.64589203116756\n",
      "19 119.5\n"
     ]
    },
    {
     "name": "stderr",
     "output_type": "stream",
     "text": [
      "/var/folders/0c/8xbkg06s6cz0yy2505h06nlm00017d/T/ipykernel_4373/2778697526.py:105: UserWarning: This figure includes Axes that are not compatible with tight_layout, so results might be incorrect.\n",
      "  plt.tight_layout()\n"
     ]
    },
    {
     "name": "stdout",
     "output_type": "stream",
     "text": [
      "2022-04-09 20:18:55 UTC 2022-04-09 14:18:55 MDT\n",
      "14:18:55\n",
      "2 69.14589203116756\n",
      "18 113.5\n"
     ]
    },
    {
     "name": "stderr",
     "output_type": "stream",
     "text": [
      "/var/folders/0c/8xbkg06s6cz0yy2505h06nlm00017d/T/ipykernel_4373/2778697526.py:105: UserWarning: This figure includes Axes that are not compatible with tight_layout, so results might be incorrect.\n",
      "  plt.tight_layout()\n"
     ]
    },
    {
     "name": "stdout",
     "output_type": "stream",
     "text": [
      "2022-04-09 20:17:55 UTC 2022-04-09 14:17:55 MDT\n",
      "14:17:55\n",
      "2 68.64589203116758\n",
      "17 107.5\n"
     ]
    },
    {
     "name": "stderr",
     "output_type": "stream",
     "text": [
      "/var/folders/0c/8xbkg06s6cz0yy2505h06nlm00017d/T/ipykernel_4373/2778697526.py:105: UserWarning: This figure includes Axes that are not compatible with tight_layout, so results might be incorrect.\n",
      "  plt.tight_layout()\n"
     ]
    },
    {
     "name": "stdout",
     "output_type": "stream",
     "text": [
      "2022-04-09 20:16:55 UTC 2022-04-09 14:16:55 MDT\n",
      "14:16:55\n",
      "2 68.14589203116756\n",
      "16 101.5\n"
     ]
    },
    {
     "name": "stderr",
     "output_type": "stream",
     "text": [
      "/var/folders/0c/8xbkg06s6cz0yy2505h06nlm00017d/T/ipykernel_4373/2778697526.py:105: UserWarning: This figure includes Axes that are not compatible with tight_layout, so results might be incorrect.\n",
      "  plt.tight_layout()\n"
     ]
    },
    {
     "name": "stdout",
     "output_type": "stream",
     "text": [
      "2022-04-09 20:15:55 UTC 2022-04-09 14:15:55 MDT\n",
      "14:15:55\n",
      "2 67.64589203116758\n",
      "15 95.49999999999999\n"
     ]
    },
    {
     "name": "stderr",
     "output_type": "stream",
     "text": [
      "/var/folders/0c/8xbkg06s6cz0yy2505h06nlm00017d/T/ipykernel_4373/2778697526.py:105: UserWarning: This figure includes Axes that are not compatible with tight_layout, so results might be incorrect.\n",
      "  plt.tight_layout()\n"
     ]
    },
    {
     "name": "stdout",
     "output_type": "stream",
     "text": [
      "2022-04-09 20:14:55 UTC 2022-04-09 14:14:55 MDT\n",
      "14:14:55\n",
      "2 67.14589203116756\n",
      "14 89.5\n"
     ]
    },
    {
     "name": "stderr",
     "output_type": "stream",
     "text": [
      "/var/folders/0c/8xbkg06s6cz0yy2505h06nlm00017d/T/ipykernel_4373/2778697526.py:105: UserWarning: This figure includes Axes that are not compatible with tight_layout, so results might be incorrect.\n",
      "  plt.tight_layout()\n"
     ]
    },
    {
     "name": "stdout",
     "output_type": "stream",
     "text": [
      "2022-04-09 20:13:55 UTC 2022-04-09 14:13:55 MDT\n",
      "14:13:55\n",
      "2 66.64589203116758\n",
      "13 83.50000000000001\n"
     ]
    },
    {
     "name": "stderr",
     "output_type": "stream",
     "text": [
      "/var/folders/0c/8xbkg06s6cz0yy2505h06nlm00017d/T/ipykernel_4373/2778697526.py:105: UserWarning: This figure includes Axes that are not compatible with tight_layout, so results might be incorrect.\n",
      "  plt.tight_layout()\n"
     ]
    },
    {
     "name": "stdout",
     "output_type": "stream",
     "text": [
      "2022-04-09 20:12:55 UTC 2022-04-09 14:12:55 MDT\n",
      "14:12:55\n",
      "2 66.14589203116756\n",
      "12 77.5\n"
     ]
    },
    {
     "name": "stderr",
     "output_type": "stream",
     "text": [
      "/var/folders/0c/8xbkg06s6cz0yy2505h06nlm00017d/T/ipykernel_4373/2778697526.py:105: UserWarning: This figure includes Axes that are not compatible with tight_layout, so results might be incorrect.\n",
      "  plt.tight_layout()\n"
     ]
    },
    {
     "name": "stdout",
     "output_type": "stream",
     "text": [
      "2022-04-09 20:11:55 UTC 2022-04-09 14:11:55 MDT\n",
      "14:11:55\n",
      "2 65.64589203116756\n",
      "11 71.49999999999999\n"
     ]
    },
    {
     "name": "stderr",
     "output_type": "stream",
     "text": [
      "/var/folders/0c/8xbkg06s6cz0yy2505h06nlm00017d/T/ipykernel_4373/2778697526.py:105: UserWarning: This figure includes Axes that are not compatible with tight_layout, so results might be incorrect.\n",
      "  plt.tight_layout()\n"
     ]
    },
    {
     "name": "stdout",
     "output_type": "stream",
     "text": [
      "2022-04-09 20:10:55 UTC 2022-04-09 14:10:55 MDT\n",
      "14:10:55\n",
      "2 65.14589203116756\n",
      "10 65.5\n"
     ]
    },
    {
     "name": "stderr",
     "output_type": "stream",
     "text": [
      "/var/folders/0c/8xbkg06s6cz0yy2505h06nlm00017d/T/ipykernel_4373/2778697526.py:105: UserWarning: This figure includes Axes that are not compatible with tight_layout, so results might be incorrect.\n",
      "  plt.tight_layout()\n"
     ]
    },
    {
     "name": "stdout",
     "output_type": "stream",
     "text": [
      "2022-04-09 20:09:55 UTC 2022-04-09 14:09:55 MDT\n",
      "14:09:55\n",
      "2 64.64589203116756\n",
      "9 59.5\n"
     ]
    },
    {
     "name": "stderr",
     "output_type": "stream",
     "text": [
      "/var/folders/0c/8xbkg06s6cz0yy2505h06nlm00017d/T/ipykernel_4373/2778697526.py:105: UserWarning: This figure includes Axes that are not compatible with tight_layout, so results might be incorrect.\n",
      "  plt.tight_layout()\n"
     ]
    },
    {
     "name": "stdout",
     "output_type": "stream",
     "text": [
      "2022-04-09 20:08:55 UTC 2022-04-09 14:08:55 MDT\n",
      "14:08:55\n",
      "2 64.14589203116758\n",
      "8 53.5\n"
     ]
    },
    {
     "name": "stderr",
     "output_type": "stream",
     "text": [
      "/var/folders/0c/8xbkg06s6cz0yy2505h06nlm00017d/T/ipykernel_4373/2778697526.py:105: UserWarning: This figure includes Axes that are not compatible with tight_layout, so results might be incorrect.\n",
      "  plt.tight_layout()\n"
     ]
    },
    {
     "name": "stdout",
     "output_type": "stream",
     "text": [
      "2022-04-09 20:07:55 UTC 2022-04-09 14:07:55 MDT\n",
      "14:07:55\n",
      "2 63.64589203116757\n",
      "7 47.5\n"
     ]
    },
    {
     "name": "stderr",
     "output_type": "stream",
     "text": [
      "/var/folders/0c/8xbkg06s6cz0yy2505h06nlm00017d/T/ipykernel_4373/2778697526.py:105: UserWarning: This figure includes Axes that are not compatible with tight_layout, so results might be incorrect.\n",
      "  plt.tight_layout()\n"
     ]
    },
    {
     "name": "stdout",
     "output_type": "stream",
     "text": [
      "2022-04-09 20:06:55 UTC 2022-04-09 14:06:55 MDT\n",
      "14:06:55\n",
      "2 63.14589203116757\n",
      "6 41.5\n"
     ]
    },
    {
     "name": "stderr",
     "output_type": "stream",
     "text": [
      "/var/folders/0c/8xbkg06s6cz0yy2505h06nlm00017d/T/ipykernel_4373/2778697526.py:105: UserWarning: This figure includes Axes that are not compatible with tight_layout, so results might be incorrect.\n",
      "  plt.tight_layout()\n"
     ]
    },
    {
     "name": "stdout",
     "output_type": "stream",
     "text": [
      "2022-04-09 20:05:55 UTC 2022-04-09 14:05:55 MDT\n",
      "14:05:55\n",
      "2 62.64589203116756\n",
      "5 35.5\n"
     ]
    },
    {
     "name": "stderr",
     "output_type": "stream",
     "text": [
      "/var/folders/0c/8xbkg06s6cz0yy2505h06nlm00017d/T/ipykernel_4373/2778697526.py:105: UserWarning: This figure includes Axes that are not compatible with tight_layout, so results might be incorrect.\n",
      "  plt.tight_layout()\n"
     ]
    },
    {
     "name": "stdout",
     "output_type": "stream",
     "text": [
      "2022-04-09 20:04:55 UTC 2022-04-09 14:04:55 MDT\n",
      "14:04:55\n",
      "2 62.14589203116757\n",
      "4 29.499999999999996\n"
     ]
    },
    {
     "name": "stderr",
     "output_type": "stream",
     "text": [
      "/var/folders/0c/8xbkg06s6cz0yy2505h06nlm00017d/T/ipykernel_4373/2778697526.py:105: UserWarning: This figure includes Axes that are not compatible with tight_layout, so results might be incorrect.\n",
      "  plt.tight_layout()\n"
     ]
    },
    {
     "name": "stdout",
     "output_type": "stream",
     "text": [
      "2022-04-09 20:03:55 UTC 2022-04-09 14:03:55 MDT\n",
      "14:03:55\n",
      "2 61.64589203116756\n",
      "3 23.5\n"
     ]
    },
    {
     "name": "stderr",
     "output_type": "stream",
     "text": [
      "/var/folders/0c/8xbkg06s6cz0yy2505h06nlm00017d/T/ipykernel_4373/2778697526.py:105: UserWarning: This figure includes Axes that are not compatible with tight_layout, so results might be incorrect.\n",
      "  plt.tight_layout()\n"
     ]
    },
    {
     "name": "stdout",
     "output_type": "stream",
     "text": [
      "2022-04-09 20:02:55 UTC 2022-04-09 14:02:55 MDT\n",
      "14:02:55\n",
      "2 61.14589203116757\n",
      "2 17.5\n"
     ]
    },
    {
     "name": "stderr",
     "output_type": "stream",
     "text": [
      "/var/folders/0c/8xbkg06s6cz0yy2505h06nlm00017d/T/ipykernel_4373/2778697526.py:105: UserWarning: This figure includes Axes that are not compatible with tight_layout, so results might be incorrect.\n",
      "  plt.tight_layout()\n"
     ]
    },
    {
     "name": "stdout",
     "output_type": "stream",
     "text": [
      "2022-04-09 20:01:55 UTC 2022-04-09 14:01:55 MDT\n",
      "14:01:55\n",
      "2 60.64589203116756\n",
      "1 11.5\n"
     ]
    },
    {
     "name": "stderr",
     "output_type": "stream",
     "text": [
      "/var/folders/0c/8xbkg06s6cz0yy2505h06nlm00017d/T/ipykernel_4373/2778697526.py:105: UserWarning: This figure includes Axes that are not compatible with tight_layout, so results might be incorrect.\n",
      "  plt.tight_layout()\n"
     ]
    },
    {
     "name": "stdout",
     "output_type": "stream",
     "text": [
      "2022-04-09 20:00:55 UTC 2022-04-09 14:00:55 MDT\n",
      "14:00:55\n",
      "2 60.14589203116757\n",
      "0 5.500000000000001\n"
     ]
    },
    {
     "name": "stderr",
     "output_type": "stream",
     "text": [
      "/var/folders/0c/8xbkg06s6cz0yy2505h06nlm00017d/T/ipykernel_4373/2778697526.py:105: UserWarning: This figure includes Axes that are not compatible with tight_layout, so results might be incorrect.\n",
      "  plt.tight_layout()\n"
     ]
    },
    {
     "name": "stdout",
     "output_type": "stream",
     "text": [
      "2022-04-09 19:59:55 UTC 2022-04-09 13:59:55 MDT\n",
      "13:59:55\n",
      "1 59.64589203116756\n",
      "59 359.50000000000006\n"
     ]
    },
    {
     "name": "stderr",
     "output_type": "stream",
     "text": [
      "/var/folders/0c/8xbkg06s6cz0yy2505h06nlm00017d/T/ipykernel_4373/2778697526.py:105: UserWarning: This figure includes Axes that are not compatible with tight_layout, so results might be incorrect.\n",
      "  plt.tight_layout()\n"
     ]
    },
    {
     "name": "stdout",
     "output_type": "stream",
     "text": [
      "2022-04-09 19:58:55 UTC 2022-04-09 13:58:55 MDT\n",
      "13:58:55\n",
      "1 59.14589203116757\n",
      "58 353.50000000000006\n"
     ]
    },
    {
     "name": "stderr",
     "output_type": "stream",
     "text": [
      "/var/folders/0c/8xbkg06s6cz0yy2505h06nlm00017d/T/ipykernel_4373/2778697526.py:105: UserWarning: This figure includes Axes that are not compatible with tight_layout, so results might be incorrect.\n",
      "  plt.tight_layout()\n"
     ]
    },
    {
     "name": "stdout",
     "output_type": "stream",
     "text": [
      "2022-04-09 19:57:55 UTC 2022-04-09 13:57:55 MDT\n",
      "13:57:55\n",
      "1 58.64589203116757\n",
      "57 347.5\n"
     ]
    },
    {
     "name": "stderr",
     "output_type": "stream",
     "text": [
      "/var/folders/0c/8xbkg06s6cz0yy2505h06nlm00017d/T/ipykernel_4373/2778697526.py:105: UserWarning: This figure includes Axes that are not compatible with tight_layout, so results might be incorrect.\n",
      "  plt.tight_layout()\n"
     ]
    },
    {
     "name": "stdout",
     "output_type": "stream",
     "text": [
      "2022-04-09 19:56:55 UTC 2022-04-09 13:56:55 MDT\n",
      "13:56:55\n",
      "1 58.14589203116758\n",
      "56 341.50000000000006\n"
     ]
    },
    {
     "name": "stderr",
     "output_type": "stream",
     "text": [
      "/var/folders/0c/8xbkg06s6cz0yy2505h06nlm00017d/T/ipykernel_4373/2778697526.py:105: UserWarning: This figure includes Axes that are not compatible with tight_layout, so results might be incorrect.\n",
      "  plt.tight_layout()\n"
     ]
    },
    {
     "name": "stdout",
     "output_type": "stream",
     "text": [
      "2022-04-09 19:55:55 UTC 2022-04-09 13:55:55 MDT\n",
      "13:55:55\n",
      "1 57.64589203116757\n",
      "55 335.50000000000006\n"
     ]
    },
    {
     "name": "stderr",
     "output_type": "stream",
     "text": [
      "/var/folders/0c/8xbkg06s6cz0yy2505h06nlm00017d/T/ipykernel_4373/2778697526.py:105: UserWarning: This figure includes Axes that are not compatible with tight_layout, so results might be incorrect.\n",
      "  plt.tight_layout()\n"
     ]
    },
    {
     "name": "stdout",
     "output_type": "stream",
     "text": [
      "2022-04-09 19:54:55 UTC 2022-04-09 13:54:55 MDT\n",
      "13:54:55\n",
      "1 57.14589203116757\n",
      "54 329.5\n"
     ]
    },
    {
     "name": "stderr",
     "output_type": "stream",
     "text": [
      "/var/folders/0c/8xbkg06s6cz0yy2505h06nlm00017d/T/ipykernel_4373/2778697526.py:105: UserWarning: This figure includes Axes that are not compatible with tight_layout, so results might be incorrect.\n",
      "  plt.tight_layout()\n"
     ]
    },
    {
     "name": "stdout",
     "output_type": "stream",
     "text": [
      "2022-04-09 19:53:55 UTC 2022-04-09 13:53:55 MDT\n",
      "13:53:55\n",
      "1 56.64589203116757\n",
      "53 323.50000000000006\n"
     ]
    },
    {
     "name": "stderr",
     "output_type": "stream",
     "text": [
      "/var/folders/0c/8xbkg06s6cz0yy2505h06nlm00017d/T/ipykernel_4373/2778697526.py:105: UserWarning: This figure includes Axes that are not compatible with tight_layout, so results might be incorrect.\n",
      "  plt.tight_layout()\n"
     ]
    },
    {
     "name": "stdout",
     "output_type": "stream",
     "text": [
      "2022-04-09 19:52:55 UTC 2022-04-09 13:52:55 MDT\n",
      "13:52:55\n",
      "1 56.14589203116758\n",
      "52 317.50000000000006\n"
     ]
    },
    {
     "name": "stderr",
     "output_type": "stream",
     "text": [
      "/var/folders/0c/8xbkg06s6cz0yy2505h06nlm00017d/T/ipykernel_4373/2778697526.py:105: UserWarning: This figure includes Axes that are not compatible with tight_layout, so results might be incorrect.\n",
      "  plt.tight_layout()\n"
     ]
    },
    {
     "name": "stdout",
     "output_type": "stream",
     "text": [
      "2022-04-09 19:51:55 UTC 2022-04-09 13:51:55 MDT\n",
      "13:51:55\n",
      "1 55.64589203116757\n",
      "51 311.5\n"
     ]
    },
    {
     "name": "stderr",
     "output_type": "stream",
     "text": [
      "/var/folders/0c/8xbkg06s6cz0yy2505h06nlm00017d/T/ipykernel_4373/2778697526.py:105: UserWarning: This figure includes Axes that are not compatible with tight_layout, so results might be incorrect.\n",
      "  plt.tight_layout()\n"
     ]
    },
    {
     "name": "stdout",
     "output_type": "stream",
     "text": [
      "2022-04-09 19:50:55 UTC 2022-04-09 13:50:55 MDT\n",
      "13:50:55\n",
      "1 55.14589203116758\n",
      "50 305.50000000000006\n"
     ]
    },
    {
     "name": "stderr",
     "output_type": "stream",
     "text": [
      "/var/folders/0c/8xbkg06s6cz0yy2505h06nlm00017d/T/ipykernel_4373/2778697526.py:105: UserWarning: This figure includes Axes that are not compatible with tight_layout, so results might be incorrect.\n",
      "  plt.tight_layout()\n"
     ]
    },
    {
     "name": "stdout",
     "output_type": "stream",
     "text": [
      "2022-04-09 19:49:55 UTC 2022-04-09 13:49:55 MDT\n",
      "13:49:55\n",
      "1 54.64589203116757\n",
      "49 299.5\n"
     ]
    },
    {
     "name": "stderr",
     "output_type": "stream",
     "text": [
      "/var/folders/0c/8xbkg06s6cz0yy2505h06nlm00017d/T/ipykernel_4373/2778697526.py:105: UserWarning: This figure includes Axes that are not compatible with tight_layout, so results might be incorrect.\n",
      "  plt.tight_layout()\n"
     ]
    },
    {
     "name": "stdout",
     "output_type": "stream",
     "text": [
      "2022-04-09 19:48:55 UTC 2022-04-09 13:48:55 MDT\n",
      "13:48:55\n",
      "1 54.14589203116757\n",
      "48 293.5\n"
     ]
    },
    {
     "name": "stderr",
     "output_type": "stream",
     "text": [
      "/var/folders/0c/8xbkg06s6cz0yy2505h06nlm00017d/T/ipykernel_4373/2778697526.py:105: UserWarning: This figure includes Axes that are not compatible with tight_layout, so results might be incorrect.\n",
      "  plt.tight_layout()\n"
     ]
    },
    {
     "name": "stdout",
     "output_type": "stream",
     "text": [
      "2022-04-09 19:47:55 UTC 2022-04-09 13:47:55 MDT\n",
      "13:47:55\n",
      "1 53.64589203116757\n",
      "47 287.50000000000006\n"
     ]
    },
    {
     "name": "stderr",
     "output_type": "stream",
     "text": [
      "/var/folders/0c/8xbkg06s6cz0yy2505h06nlm00017d/T/ipykernel_4373/2778697526.py:105: UserWarning: This figure includes Axes that are not compatible with tight_layout, so results might be incorrect.\n",
      "  plt.tight_layout()\n"
     ]
    },
    {
     "name": "stdout",
     "output_type": "stream",
     "text": [
      "2022-04-09 19:46:55 UTC 2022-04-09 13:46:55 MDT\n",
      "13:46:55\n",
      "1 53.14589203116757\n",
      "46 281.5\n"
     ]
    },
    {
     "name": "stderr",
     "output_type": "stream",
     "text": [
      "/var/folders/0c/8xbkg06s6cz0yy2505h06nlm00017d/T/ipykernel_4373/2778697526.py:105: UserWarning: This figure includes Axes that are not compatible with tight_layout, so results might be incorrect.\n",
      "  plt.tight_layout()\n"
     ]
    },
    {
     "name": "stdout",
     "output_type": "stream",
     "text": [
      "2022-04-09 19:45:55 UTC 2022-04-09 13:45:55 MDT\n",
      "13:45:55\n",
      "1 52.64589203116757\n",
      "45 275.5\n"
     ]
    },
    {
     "name": "stderr",
     "output_type": "stream",
     "text": [
      "/var/folders/0c/8xbkg06s6cz0yy2505h06nlm00017d/T/ipykernel_4373/2778697526.py:105: UserWarning: This figure includes Axes that are not compatible with tight_layout, so results might be incorrect.\n",
      "  plt.tight_layout()\n"
     ]
    },
    {
     "name": "stdout",
     "output_type": "stream",
     "text": [
      "2022-04-09 19:44:55 UTC 2022-04-09 13:44:55 MDT\n",
      "13:44:55\n",
      "1 52.14589203116757\n",
      "44 269.5\n"
     ]
    },
    {
     "name": "stderr",
     "output_type": "stream",
     "text": [
      "/var/folders/0c/8xbkg06s6cz0yy2505h06nlm00017d/T/ipykernel_4373/2778697526.py:105: UserWarning: This figure includes Axes that are not compatible with tight_layout, so results might be incorrect.\n",
      "  plt.tight_layout()\n"
     ]
    },
    {
     "name": "stdout",
     "output_type": "stream",
     "text": [
      "2022-04-09 19:43:55 UTC 2022-04-09 13:43:55 MDT\n",
      "13:43:55\n",
      "1 51.64589203116757\n",
      "43 263.5\n"
     ]
    },
    {
     "name": "stderr",
     "output_type": "stream",
     "text": [
      "/var/folders/0c/8xbkg06s6cz0yy2505h06nlm00017d/T/ipykernel_4373/2778697526.py:105: UserWarning: This figure includes Axes that are not compatible with tight_layout, so results might be incorrect.\n",
      "  plt.tight_layout()\n"
     ]
    },
    {
     "name": "stdout",
     "output_type": "stream",
     "text": [
      "2022-04-09 19:42:55 UTC 2022-04-09 13:42:55 MDT\n",
      "13:42:55\n",
      "1 51.14589203116757\n",
      "42 257.5\n"
     ]
    },
    {
     "name": "stderr",
     "output_type": "stream",
     "text": [
      "/var/folders/0c/8xbkg06s6cz0yy2505h06nlm00017d/T/ipykernel_4373/2778697526.py:105: UserWarning: This figure includes Axes that are not compatible with tight_layout, so results might be incorrect.\n",
      "  plt.tight_layout()\n"
     ]
    },
    {
     "name": "stdout",
     "output_type": "stream",
     "text": [
      "2022-04-09 19:41:55 UTC 2022-04-09 13:41:55 MDT\n",
      "13:41:55\n",
      "1 50.64589203116757\n",
      "41 251.49999999999997\n"
     ]
    },
    {
     "name": "stderr",
     "output_type": "stream",
     "text": [
      "/var/folders/0c/8xbkg06s6cz0yy2505h06nlm00017d/T/ipykernel_4373/2778697526.py:105: UserWarning: This figure includes Axes that are not compatible with tight_layout, so results might be incorrect.\n",
      "  plt.tight_layout()\n"
     ]
    },
    {
     "name": "stdout",
     "output_type": "stream",
     "text": [
      "2022-04-09 19:40:55 UTC 2022-04-09 13:40:55 MDT\n",
      "13:40:55\n",
      "1 50.14589203116757\n",
      "40 245.5\n"
     ]
    },
    {
     "name": "stderr",
     "output_type": "stream",
     "text": [
      "/var/folders/0c/8xbkg06s6cz0yy2505h06nlm00017d/T/ipykernel_4373/2778697526.py:105: UserWarning: This figure includes Axes that are not compatible with tight_layout, so results might be incorrect.\n",
      "  plt.tight_layout()\n"
     ]
    },
    {
     "name": "stdout",
     "output_type": "stream",
     "text": [
      "2022-04-09 19:39:55 UTC 2022-04-09 13:39:55 MDT\n",
      "13:39:55\n",
      "1 49.64589203116757\n",
      "39 239.5\n"
     ]
    },
    {
     "name": "stderr",
     "output_type": "stream",
     "text": [
      "/var/folders/0c/8xbkg06s6cz0yy2505h06nlm00017d/T/ipykernel_4373/2778697526.py:105: UserWarning: This figure includes Axes that are not compatible with tight_layout, so results might be incorrect.\n",
      "  plt.tight_layout()\n"
     ]
    },
    {
     "name": "stdout",
     "output_type": "stream",
     "text": [
      "2022-04-09 19:38:55 UTC 2022-04-09 13:38:55 MDT\n",
      "13:38:55\n",
      "1 49.14589203116756\n",
      "38 233.49999999999997\n"
     ]
    },
    {
     "name": "stderr",
     "output_type": "stream",
     "text": [
      "/var/folders/0c/8xbkg06s6cz0yy2505h06nlm00017d/T/ipykernel_4373/2778697526.py:105: UserWarning: This figure includes Axes that are not compatible with tight_layout, so results might be incorrect.\n",
      "  plt.tight_layout()\n"
     ]
    },
    {
     "name": "stdout",
     "output_type": "stream",
     "text": [
      "2022-04-09 19:37:55 UTC 2022-04-09 13:37:55 MDT\n",
      "13:37:55\n",
      "1 48.64589203116757\n",
      "37 227.5\n"
     ]
    },
    {
     "name": "stderr",
     "output_type": "stream",
     "text": [
      "/var/folders/0c/8xbkg06s6cz0yy2505h06nlm00017d/T/ipykernel_4373/2778697526.py:105: UserWarning: This figure includes Axes that are not compatible with tight_layout, so results might be incorrect.\n",
      "  plt.tight_layout()\n"
     ]
    },
    {
     "name": "stdout",
     "output_type": "stream",
     "text": [
      "2022-04-09 19:36:55 UTC 2022-04-09 13:36:55 MDT\n",
      "13:36:55\n",
      "1 48.14589203116757\n",
      "36 221.5\n"
     ]
    },
    {
     "name": "stderr",
     "output_type": "stream",
     "text": [
      "/var/folders/0c/8xbkg06s6cz0yy2505h06nlm00017d/T/ipykernel_4373/2778697526.py:105: UserWarning: This figure includes Axes that are not compatible with tight_layout, so results might be incorrect.\n",
      "  plt.tight_layout()\n"
     ]
    },
    {
     "name": "stdout",
     "output_type": "stream",
     "text": [
      "2022-04-09 19:35:55 UTC 2022-04-09 13:35:55 MDT\n",
      "13:35:55\n",
      "1 47.64589203116757\n",
      "35 215.49999999999997\n"
     ]
    },
    {
     "name": "stderr",
     "output_type": "stream",
     "text": [
      "/var/folders/0c/8xbkg06s6cz0yy2505h06nlm00017d/T/ipykernel_4373/2778697526.py:105: UserWarning: This figure includes Axes that are not compatible with tight_layout, so results might be incorrect.\n",
      "  plt.tight_layout()\n"
     ]
    },
    {
     "name": "stdout",
     "output_type": "stream",
     "text": [
      "2022-04-09 19:34:55 UTC 2022-04-09 13:34:55 MDT\n",
      "13:34:55\n",
      "1 47.14589203116758\n",
      "34 209.5\n"
     ]
    },
    {
     "name": "stderr",
     "output_type": "stream",
     "text": [
      "/var/folders/0c/8xbkg06s6cz0yy2505h06nlm00017d/T/ipykernel_4373/2778697526.py:105: UserWarning: This figure includes Axes that are not compatible with tight_layout, so results might be incorrect.\n",
      "  plt.tight_layout()\n"
     ]
    },
    {
     "name": "stdout",
     "output_type": "stream",
     "text": [
      "2022-04-09 19:33:55 UTC 2022-04-09 13:33:55 MDT\n",
      "13:33:55\n",
      "1 46.64589203116757\n",
      "33 203.5\n"
     ]
    },
    {
     "name": "stderr",
     "output_type": "stream",
     "text": [
      "/var/folders/0c/8xbkg06s6cz0yy2505h06nlm00017d/T/ipykernel_4373/2778697526.py:105: UserWarning: This figure includes Axes that are not compatible with tight_layout, so results might be incorrect.\n",
      "  plt.tight_layout()\n"
     ]
    },
    {
     "name": "stdout",
     "output_type": "stream",
     "text": [
      "2022-04-09 19:32:55 UTC 2022-04-09 13:32:55 MDT\n",
      "13:32:55\n",
      "1 46.14589203116758\n",
      "32 197.49999999999997\n"
     ]
    },
    {
     "name": "stderr",
     "output_type": "stream",
     "text": [
      "/var/folders/0c/8xbkg06s6cz0yy2505h06nlm00017d/T/ipykernel_4373/2778697526.py:105: UserWarning: This figure includes Axes that are not compatible with tight_layout, so results might be incorrect.\n",
      "  plt.tight_layout()\n"
     ]
    },
    {
     "name": "stdout",
     "output_type": "stream",
     "text": [
      "2022-04-09 19:31:55 UTC 2022-04-09 13:31:55 MDT\n",
      "13:31:55\n",
      "1 45.64589203116757\n",
      "31 191.49999999999997\n"
     ]
    },
    {
     "name": "stderr",
     "output_type": "stream",
     "text": [
      "/var/folders/0c/8xbkg06s6cz0yy2505h06nlm00017d/T/ipykernel_4373/2778697526.py:105: UserWarning: This figure includes Axes that are not compatible with tight_layout, so results might be incorrect.\n",
      "  plt.tight_layout()\n"
     ]
    },
    {
     "name": "stdout",
     "output_type": "stream",
     "text": [
      "2022-04-09 19:30:55 UTC 2022-04-09 13:30:55 MDT\n",
      "13:30:55\n",
      "1 45.14589203116757\n",
      "30 185.49999999999997\n"
     ]
    },
    {
     "name": "stderr",
     "output_type": "stream",
     "text": [
      "/var/folders/0c/8xbkg06s6cz0yy2505h06nlm00017d/T/ipykernel_4373/2778697526.py:105: UserWarning: This figure includes Axes that are not compatible with tight_layout, so results might be incorrect.\n",
      "  plt.tight_layout()\n"
     ]
    },
    {
     "name": "stdout",
     "output_type": "stream",
     "text": [
      "2022-04-09 19:29:55 UTC 2022-04-09 13:29:55 MDT\n",
      "13:29:55\n",
      "1 44.64589203116757\n",
      "29 179.5\n"
     ]
    },
    {
     "name": "stderr",
     "output_type": "stream",
     "text": [
      "/var/folders/0c/8xbkg06s6cz0yy2505h06nlm00017d/T/ipykernel_4373/2778697526.py:105: UserWarning: This figure includes Axes that are not compatible with tight_layout, so results might be incorrect.\n",
      "  plt.tight_layout()\n"
     ]
    },
    {
     "name": "stdout",
     "output_type": "stream",
     "text": [
      "2022-04-09 19:28:55 UTC 2022-04-09 13:28:55 MDT\n",
      "13:28:55\n",
      "1 44.14589203116757\n",
      "28 173.5\n"
     ]
    },
    {
     "name": "stderr",
     "output_type": "stream",
     "text": [
      "/var/folders/0c/8xbkg06s6cz0yy2505h06nlm00017d/T/ipykernel_4373/2778697526.py:105: UserWarning: This figure includes Axes that are not compatible with tight_layout, so results might be incorrect.\n",
      "  plt.tight_layout()\n"
     ]
    },
    {
     "name": "stdout",
     "output_type": "stream",
     "text": [
      "2022-04-09 19:27:55 UTC 2022-04-09 13:27:55 MDT\n",
      "13:27:55\n",
      "1 43.64589203116757\n",
      "27 167.5\n"
     ]
    },
    {
     "name": "stderr",
     "output_type": "stream",
     "text": [
      "/var/folders/0c/8xbkg06s6cz0yy2505h06nlm00017d/T/ipykernel_4373/2778697526.py:105: UserWarning: This figure includes Axes that are not compatible with tight_layout, so results might be incorrect.\n",
      "  plt.tight_layout()\n"
     ]
    },
    {
     "name": "stdout",
     "output_type": "stream",
     "text": [
      "2022-04-09 19:26:55 UTC 2022-04-09 13:26:55 MDT\n",
      "13:26:55\n",
      "1 43.14589203116757\n",
      "26 161.5\n"
     ]
    },
    {
     "name": "stderr",
     "output_type": "stream",
     "text": [
      "/var/folders/0c/8xbkg06s6cz0yy2505h06nlm00017d/T/ipykernel_4373/2778697526.py:105: UserWarning: This figure includes Axes that are not compatible with tight_layout, so results might be incorrect.\n",
      "  plt.tight_layout()\n"
     ]
    },
    {
     "name": "stdout",
     "output_type": "stream",
     "text": [
      "2022-04-09 19:25:55 UTC 2022-04-09 13:25:55 MDT\n",
      "13:25:55\n",
      "1 42.64589203116757\n",
      "25 155.5\n"
     ]
    },
    {
     "name": "stderr",
     "output_type": "stream",
     "text": [
      "/var/folders/0c/8xbkg06s6cz0yy2505h06nlm00017d/T/ipykernel_4373/2778697526.py:105: UserWarning: This figure includes Axes that are not compatible with tight_layout, so results might be incorrect.\n",
      "  plt.tight_layout()\n"
     ]
    },
    {
     "name": "stdout",
     "output_type": "stream",
     "text": [
      "2022-04-09 19:24:55 UTC 2022-04-09 13:24:55 MDT\n",
      "13:24:55\n",
      "1 42.14589203116757\n",
      "24 149.5\n"
     ]
    },
    {
     "name": "stderr",
     "output_type": "stream",
     "text": [
      "/var/folders/0c/8xbkg06s6cz0yy2505h06nlm00017d/T/ipykernel_4373/2778697526.py:105: UserWarning: This figure includes Axes that are not compatible with tight_layout, so results might be incorrect.\n",
      "  plt.tight_layout()\n"
     ]
    },
    {
     "name": "stdout",
     "output_type": "stream",
     "text": [
      "2022-04-09 19:23:55 UTC 2022-04-09 13:23:55 MDT\n",
      "13:23:55\n",
      "1 41.64589203116757\n",
      "23 143.49999999999997\n"
     ]
    },
    {
     "name": "stderr",
     "output_type": "stream",
     "text": [
      "/var/folders/0c/8xbkg06s6cz0yy2505h06nlm00017d/T/ipykernel_4373/2778697526.py:105: UserWarning: This figure includes Axes that are not compatible with tight_layout, so results might be incorrect.\n",
      "  plt.tight_layout()\n"
     ]
    },
    {
     "name": "stdout",
     "output_type": "stream",
     "text": [
      "2022-04-09 19:22:55 UTC 2022-04-09 13:22:55 MDT\n",
      "13:22:55\n",
      "1 41.14589203116757\n",
      "22 137.49999999999997\n"
     ]
    },
    {
     "name": "stderr",
     "output_type": "stream",
     "text": [
      "/var/folders/0c/8xbkg06s6cz0yy2505h06nlm00017d/T/ipykernel_4373/2778697526.py:105: UserWarning: This figure includes Axes that are not compatible with tight_layout, so results might be incorrect.\n",
      "  plt.tight_layout()\n"
     ]
    },
    {
     "name": "stdout",
     "output_type": "stream",
     "text": [
      "2022-04-09 19:21:55 UTC 2022-04-09 13:21:55 MDT\n",
      "13:21:55\n",
      "1 40.64589203116757\n",
      "21 131.5\n"
     ]
    },
    {
     "name": "stderr",
     "output_type": "stream",
     "text": [
      "/var/folders/0c/8xbkg06s6cz0yy2505h06nlm00017d/T/ipykernel_4373/2778697526.py:105: UserWarning: This figure includes Axes that are not compatible with tight_layout, so results might be incorrect.\n",
      "  plt.tight_layout()\n"
     ]
    },
    {
     "name": "stdout",
     "output_type": "stream",
     "text": [
      "2022-04-09 19:20:55 UTC 2022-04-09 13:20:55 MDT\n",
      "13:20:55\n",
      "1 40.14589203116757\n",
      "20 125.49999999999999\n"
     ]
    },
    {
     "name": "stderr",
     "output_type": "stream",
     "text": [
      "/var/folders/0c/8xbkg06s6cz0yy2505h06nlm00017d/T/ipykernel_4373/2778697526.py:105: UserWarning: This figure includes Axes that are not compatible with tight_layout, so results might be incorrect.\n",
      "  plt.tight_layout()\n"
     ]
    },
    {
     "name": "stdout",
     "output_type": "stream",
     "text": [
      "2022-04-09 19:19:55 UTC 2022-04-09 13:19:55 MDT\n",
      "13:19:55\n",
      "1 39.64589203116757\n",
      "19 119.5\n"
     ]
    },
    {
     "name": "stderr",
     "output_type": "stream",
     "text": [
      "/var/folders/0c/8xbkg06s6cz0yy2505h06nlm00017d/T/ipykernel_4373/2778697526.py:105: UserWarning: This figure includes Axes that are not compatible with tight_layout, so results might be incorrect.\n",
      "  plt.tight_layout()\n"
     ]
    },
    {
     "name": "stdout",
     "output_type": "stream",
     "text": [
      "2022-04-09 19:18:55 UTC 2022-04-09 13:18:55 MDT\n",
      "13:18:55\n",
      "1 39.14589203116757\n",
      "18 113.5\n"
     ]
    },
    {
     "name": "stderr",
     "output_type": "stream",
     "text": [
      "/var/folders/0c/8xbkg06s6cz0yy2505h06nlm00017d/T/ipykernel_4373/2778697526.py:105: UserWarning: This figure includes Axes that are not compatible with tight_layout, so results might be incorrect.\n",
      "  plt.tight_layout()\n"
     ]
    },
    {
     "name": "stdout",
     "output_type": "stream",
     "text": [
      "2022-04-09 19:17:55 UTC 2022-04-09 13:17:55 MDT\n",
      "13:17:55\n",
      "1 38.64589203116757\n",
      "17 107.5\n"
     ]
    },
    {
     "name": "stderr",
     "output_type": "stream",
     "text": [
      "/var/folders/0c/8xbkg06s6cz0yy2505h06nlm00017d/T/ipykernel_4373/2778697526.py:105: UserWarning: This figure includes Axes that are not compatible with tight_layout, so results might be incorrect.\n",
      "  plt.tight_layout()\n"
     ]
    },
    {
     "name": "stdout",
     "output_type": "stream",
     "text": [
      "2022-04-09 19:16:55 UTC 2022-04-09 13:16:55 MDT\n",
      "13:16:55\n",
      "1 38.14589203116757\n",
      "16 101.5\n"
     ]
    },
    {
     "name": "stderr",
     "output_type": "stream",
     "text": [
      "/var/folders/0c/8xbkg06s6cz0yy2505h06nlm00017d/T/ipykernel_4373/2778697526.py:105: UserWarning: This figure includes Axes that are not compatible with tight_layout, so results might be incorrect.\n",
      "  plt.tight_layout()\n"
     ]
    },
    {
     "name": "stdout",
     "output_type": "stream",
     "text": [
      "2022-04-09 19:15:55 UTC 2022-04-09 13:15:55 MDT\n",
      "13:15:55\n",
      "1 37.64589203116757\n",
      "15 95.49999999999999\n"
     ]
    },
    {
     "name": "stderr",
     "output_type": "stream",
     "text": [
      "/var/folders/0c/8xbkg06s6cz0yy2505h06nlm00017d/T/ipykernel_4373/2778697526.py:105: UserWarning: This figure includes Axes that are not compatible with tight_layout, so results might be incorrect.\n",
      "  plt.tight_layout()\n"
     ]
    }
   ],
   "source": [
    "##################################################\n",
    "#\n",
    "# Create PNGs\n",
    "#\n",
    "\n",
    "for i in range(0,len(cat.datasets[0:total_frames])+1,1) : \n",
    "\n",
    "    dataset = cat.datasets[i]\n",
    "    \n",
    "    dataset_png_file_name = png_processing_directory + dataset.name.replace(\".nc\", \".png\")\n",
    "    \n",
    "    if (not pathlib.Path(dataset_png_file_name).is_file() ):\n",
    "\n",
    "        ds = dataset.remote_access(use_xarray=True)\n",
    "        dat = ds.metpy.parse_cf('Sectorized_CMI')\n",
    "        proj = dat.metpy.cartopy_crs\n",
    "        x = dat['x']\n",
    "        y = dat['y']\n",
    "\n",
    "\n",
    "        tz='America/Denver'\n",
    "        time_utc   = datetime.strptime(ds.start_date_time, '%Y%j%H%M%S')\n",
    "        valid_time = pd.to_datetime(time_utc).tz_localize(tz=\"UTC\").strftime(\"%Y-%m-%d %H:%M:%S %Z\")\n",
    "        local_time = pd.to_datetime(time_utc).tz_localize(tz=\"UTC\").tz_convert(tz=tz).strftime(\"%Y-%m-%d %H:%M:%S %Z\")\n",
    "\n",
    "        file_time = pd.to_datetime(time_utc).tz_localize(tz=\"UTC\").strftime(\"%Y-%m-%d_%H%M\")\n",
    "\n",
    "\n",
    "        print(valid_time,local_time)\n",
    "\n",
    "\n",
    "\n",
    "        fig = plt.figure(figsize=(8, 8), facecolor = 'white')\n",
    "\n",
    "        plt.suptitle(image_header_label,\n",
    "                     fontsize = 20, \n",
    "                     color    = \"black\")\n",
    "        ax = fig.add_subplot(1, 1, 1, projection=proj)\n",
    "        ax.set_title(valid_time + \"  (\" + local_time+\")\",\n",
    "                        fontsize=15, color=\"black\")\n",
    "        ax.add_feature(cfeature.COASTLINE.with_scale('50m'), linewidth=2)\n",
    "        ax.add_feature(cfeature.STATES.with_scale('50m'),    linestyle=':', edgecolor='black')\n",
    "        ax.add_feature(cfeature.BORDERS.with_scale('50m'),   linewidth=2, edgecolor='black')\n",
    "        \n",
    "\n",
    "        #print(\"range dat = \",np.nanmin(dat.values),np.nanmax(dat.values))\n",
    "        im = ax.imshow(dat, extent=(x.min(), x.max(), y.min(), y.max()), origin='upper')\n",
    "\n",
    "        wv_norm, wv_cmap = colortables.get_with_range('WVCIMSS_r', 190, 310)\n",
    "        im.set_cmap(wv_cmap)\n",
    "        im.set_norm(wv_norm)\n",
    "        \n",
    "        \n",
    "        #########################################\n",
    "        #\n",
    "        # Insert a Clock\n",
    "        #\n",
    "        \n",
    "        axins = fig.add_axes(rect     =    [0.065,\n",
    "                                            0.795,\n",
    "                                            0.12*0.65306121,\n",
    "                                            0.12],\n",
    "                              projection  =  \"polar\")\n",
    "        \n",
    "        time_for_clock = pd.to_datetime(time_utc).tz_localize(tz=\"UTC\").tz_convert(tz=tz).time()\n",
    "\n",
    "        hour   = time_for_clock.hour\n",
    "        minute = time_for_clock.minute\n",
    "        second = time_for_clock.second\n",
    "        \n",
    "        circle_theta  = np.deg2rad(np.arange(0,360,0.01))\n",
    "        circle_radius = circle_theta * 0 + 1\n",
    "        \n",
    "        if (hour > 12) :\n",
    "            hour = hour - 12\n",
    "        \n",
    "        angles_h = 2*np.pi*hour/12+2*np.pi*minute/(12*60)+2*second/(12*60*60)\n",
    "        angles_m = 2*np.pi*minute/60+2*np.pi*second/(60*60)\n",
    "        \n",
    "        print(time_for_clock)\n",
    "        print(hour,   np.rad2deg(angles_h))\n",
    "        print(minute, np.rad2deg(angles_m))\n",
    "\n",
    "        \n",
    "        plt.setp(axins.get_yticklabels(), visible=False)\n",
    "        plt.setp(axins.get_xticklabels(), visible=False)\n",
    "        axins.spines['polar'].set_visible(False)\n",
    "        axins.set_ylim(0,1)\n",
    "        axins.set_theta_zero_location('N')\n",
    "        axins.set_theta_direction(-1)\n",
    "        axins.set_facecolor(\"white\")\n",
    "        axins.grid(False)\n",
    "        \n",
    "        axins.plot([angles_h,angles_h], [0,0.6], color=\"black\", linewidth=1.5)\n",
    "        axins.plot([angles_m,angles_m], [0,0.95], color=\"black\", linewidth=1.5)\n",
    "        axins.plot(circle_theta, circle_radius, color=\"darkgrey\", linewidth=1)\n",
    "\n",
    "\n",
    "        \n",
    "        #\n",
    "        #########################################        \n",
    "        \n",
    "\n",
    "        \n",
    "        plt.tight_layout()\n",
    "        \n",
    "        plt.savefig( dataset_png_file_name)\n",
    "        plt.close()\n",
    "    else:\n",
    "        print(\"We already have this one!\")\n",
    "    \n",
    "\n",
    "#\n",
    "##################################################"
   ]
  },
  {
   "cell_type": "code",
   "execution_count": 13,
   "id": "9cc030a1-adf3-4f20-b604-4eb41285b252",
   "metadata": {},
   "outputs": [
    {
     "name": "stdout",
     "output_type": "stream",
     "text": [
      "completed ./graphics_files/RealTime_SAT_IR_Meso2_Loop.gif\n"
     ]
    }
   ],
   "source": [
    "##################################################\n",
    "#\n",
    "# Convert PNGs into an Animated GIF\n",
    "#\n",
    "\n",
    "\n",
    "big_string = \" \".join(file_names_to_use_meso2)\n",
    "\n",
    "os.system(\"convert -delay 15 \" + \n",
    "          big_string + \n",
    "          \" \" + \n",
    "          gif_file_name2)\n",
    "\n",
    "print(\"completed \"+ gif_file_name2)\n",
    "\n",
    "\n",
    "#\n",
    "##################################################"
   ]
  },
  {
   "cell_type": "code",
   "execution_count": null,
   "id": "aa6b3631-9f6e-4b9f-932b-930d0503261b",
   "metadata": {},
   "outputs": [],
   "source": []
  },
  {
   "cell_type": "code",
   "execution_count": null,
   "id": "33d01f75-9f32-4eea-82fe-74843dc8f5b0",
   "metadata": {},
   "outputs": [],
   "source": []
  },
  {
   "cell_type": "code",
   "execution_count": null,
   "id": "fb21ccad-6fc1-437a-b2d2-e006cac1d00b",
   "metadata": {},
   "outputs": [],
   "source": []
  },
  {
   "cell_type": "code",
   "execution_count": null,
   "id": "57d07618-7ac8-4085-866d-f9727eda362f",
   "metadata": {},
   "outputs": [],
   "source": []
  },
  {
   "cell_type": "code",
   "execution_count": null,
   "id": "b41e97f4-79b2-4f93-9045-21cac809be0e",
   "metadata": {},
   "outputs": [],
   "source": []
  },
  {
   "cell_type": "code",
   "execution_count": null,
   "id": "23cb5bf9-f659-4ba1-a600-084baaa85729",
   "metadata": {},
   "outputs": [],
   "source": []
  },
  {
   "cell_type": "markdown",
   "id": "52e618ef-c1d4-49da-84f4-ecf9b5b4f1b6",
   "metadata": {},
   "source": [
    "## South Dakota Images"
   ]
  },
  {
   "cell_type": "code",
   "execution_count": 14,
   "id": "e37b9b43-95d0-4766-9998-f0b513bdef25",
   "metadata": {},
   "outputs": [
    {
     "name": "stdout",
     "output_type": "stream",
     "text": [
      "https://thredds.ucar.edu/thredds/catalog/satellite/goes/east/products/CloudAndMoistureImagery/CONUS/Channel13/current/catalog.xml\n"
     ]
    }
   ],
   "source": [
    "##################################################\n",
    "#\n",
    "# Control Setup\n",
    "#\n",
    "\n",
    "# %load solutions/data_url.py\n",
    "\n",
    "total_frames = int(45*2 * 0.8)\n",
    "\n",
    "\n",
    "png_processing_directory = \"./temp_files_sat_ir_sodak/\"\n",
    "\n",
    "gif_file_name1 = \"./graphics_files/RealTime_SAT_IR_Meso1_Loop.gif\"\n",
    "gif_file_name2 = \"./graphics_files/RealTime_SAT_IR_Meso2_Loop.gif\"\n",
    "gif_file_name3 = \"./graphics_files/RealTime_SAT_IR_SODAK_Loop.gif\"\n",
    "gif_file_name12 = \"./graphics_files/RealTime_SAT_IR_Meso12_Loop.gif\"\n",
    "\n",
    "\n",
    "image_header_label = \"GOES 16 SODAK Band 13 [10.3 µm Clean LW IR Window]\"\n",
    "\n",
    "\n",
    "# Cell content replaced by load magic replacement.\n",
    "\n",
    "# Create variables for URL generation\n",
    "\n",
    "image_date = datetime.utcnow().date()\n",
    "region = 'CONUS'\n",
    "channel = 13\n",
    "\n",
    "# We want to match something like:\n",
    "# https://thredds-test.unidata.ucar.edu/thredds/catalog/satellite/goes16/GOES16/Mesoscale-1/Channel08/20181113/catalog.html\n",
    "\n",
    "# Construct the data_url string\n",
    "\n",
    "data_url = ('https://thredds.ucar.edu/thredds/catalog/satellite/goes/east/products/'\n",
    "            f'CloudAndMoistureImagery/{region}/Channel{channel:02d}/current/catalog.xml')\n",
    "\n",
    "# Print out your URL and verify it works!\n",
    "\n",
    "print(data_url)\n",
    "\n",
    "#\n",
    "##################################################"
   ]
  },
  {
   "cell_type": "code",
   "execution_count": 15,
   "id": "2de19040-2b17-4e48-94a2-e79e52324d75",
   "metadata": {},
   "outputs": [],
   "source": [
    "##################################################\n",
    "#\n",
    "# Pull Catalog\n",
    "#\n",
    "\n",
    "cat = TDSCatalog(data_url)\n",
    "\n",
    "#\n",
    "##################################################"
   ]
  },
  {
   "cell_type": "code",
   "execution_count": 16,
   "id": "3cc3a96a-e938-4cc3-b2ea-01cc85b7f1e1",
   "metadata": {},
   "outputs": [],
   "source": [
    "##################################################\n",
    "#\n",
    "# Create File Inventories\n",
    "#\n",
    "\n",
    "file_names_to_retain = list()\n",
    "file_names_to_use    = list()\n",
    "\n",
    "\n",
    "for i in range(0,len(cat.datasets[0:total_frames])+1,1) : \n",
    "    filename = png_processing_directory + cat.datasets[i].name.replace(\".nc\",\".png\")\n",
    "    file_names_to_retain.append(filename)\n",
    "    file_names_to_use.append(filename)\n",
    "\n",
    "        \n",
    "files_on_hand = [png_processing_directory + s for s in os.listdir(png_processing_directory)]\n",
    "\n",
    "\n",
    "file_names_to_retain.sort()\n",
    "file_names_to_use.sort()\n",
    "\n",
    "file_names_to_use_meso3 = file_names_to_use.copy()\n",
    "\n",
    "\n",
    "#\n",
    "################################################## "
   ]
  },
  {
   "cell_type": "code",
   "execution_count": 17,
   "id": "6cb5b20d-8cc7-4f2b-a35e-feb6eece8f0a",
   "metadata": {},
   "outputs": [],
   "source": [
    "##################################################\n",
    "#\n",
    "# Clean PNG Directory\n",
    "#\n",
    "\n",
    "for filename in files_on_hand:\n",
    "    if filename not in file_names_to_retain:\n",
    "        print(\"Purging \", filename )\n",
    "        os.remove( filename  )\n",
    "    else:\n",
    "        print(\"Keeping \", filename )\n",
    "#\n",
    "##################################################  "
   ]
  },
  {
   "cell_type": "code",
   "execution_count": 18,
   "id": "8cb0f756-0d37-4cb2-b280-c2f256665bd9",
   "metadata": {},
   "outputs": [
    {
     "name": "stdout",
     "output_type": "stream",
     "text": [
      "2022-04-09 20:26:17 UTC 2022-04-09 14:26:17 MDT\n",
      "14:26:17\n",
      "2 73.04509390054271\n",
      "26 157.70000000000002\n"
     ]
    },
    {
     "name": "stderr",
     "output_type": "stream",
     "text": [
      "/var/folders/0c/8xbkg06s6cz0yy2505h06nlm00017d/T/ipykernel_4373/1367384786.py:114: UserWarning: This figure includes Axes that are not compatible with tight_layout, so results might be incorrect.\n",
      "  plt.tight_layout()\n"
     ]
    },
    {
     "name": "stdout",
     "output_type": "stream",
     "text": [
      "2022-04-09 20:21:17 UTC 2022-04-09 14:21:17 MDT\n",
      "14:21:17\n",
      "2 70.5450939005427\n",
      "21 127.69999999999999\n"
     ]
    },
    {
     "name": "stderr",
     "output_type": "stream",
     "text": [
      "/var/folders/0c/8xbkg06s6cz0yy2505h06nlm00017d/T/ipykernel_4373/1367384786.py:114: UserWarning: This figure includes Axes that are not compatible with tight_layout, so results might be incorrect.\n",
      "  plt.tight_layout()\n"
     ]
    },
    {
     "name": "stdout",
     "output_type": "stream",
     "text": [
      "2022-04-09 20:16:17 UTC 2022-04-09 14:16:17 MDT\n",
      "14:16:17\n",
      "2 68.0450939005427\n",
      "16 97.69999999999999\n"
     ]
    },
    {
     "name": "stderr",
     "output_type": "stream",
     "text": [
      "/var/folders/0c/8xbkg06s6cz0yy2505h06nlm00017d/T/ipykernel_4373/1367384786.py:114: UserWarning: This figure includes Axes that are not compatible with tight_layout, so results might be incorrect.\n",
      "  plt.tight_layout()\n"
     ]
    },
    {
     "name": "stdout",
     "output_type": "stream",
     "text": [
      "2022-04-09 20:11:17 UTC 2022-04-09 14:11:17 MDT\n",
      "14:11:17\n",
      "2 65.54509390054271\n",
      "11 67.69999999999999\n"
     ]
    },
    {
     "name": "stderr",
     "output_type": "stream",
     "text": [
      "/var/folders/0c/8xbkg06s6cz0yy2505h06nlm00017d/T/ipykernel_4373/1367384786.py:114: UserWarning: This figure includes Axes that are not compatible with tight_layout, so results might be incorrect.\n",
      "  plt.tight_layout()\n"
     ]
    },
    {
     "name": "stdout",
     "output_type": "stream",
     "text": [
      "2022-04-09 20:06:17 UTC 2022-04-09 14:06:17 MDT\n",
      "14:06:17\n",
      "2 63.0450939005427\n",
      "6 37.7\n"
     ]
    },
    {
     "name": "stderr",
     "output_type": "stream",
     "text": [
      "/var/folders/0c/8xbkg06s6cz0yy2505h06nlm00017d/T/ipykernel_4373/1367384786.py:114: UserWarning: This figure includes Axes that are not compatible with tight_layout, so results might be incorrect.\n",
      "  plt.tight_layout()\n"
     ]
    },
    {
     "name": "stdout",
     "output_type": "stream",
     "text": [
      "2022-04-09 20:01:17 UTC 2022-04-09 14:01:17 MDT\n",
      "14:01:17\n",
      "2 60.545093900542696\n",
      "1 7.699999999999999\n"
     ]
    },
    {
     "name": "stderr",
     "output_type": "stream",
     "text": [
      "/var/folders/0c/8xbkg06s6cz0yy2505h06nlm00017d/T/ipykernel_4373/1367384786.py:114: UserWarning: This figure includes Axes that are not compatible with tight_layout, so results might be incorrect.\n",
      "  plt.tight_layout()\n"
     ]
    },
    {
     "name": "stdout",
     "output_type": "stream",
     "text": [
      "2022-04-09 19:56:17 UTC 2022-04-09 13:56:17 MDT\n",
      "13:56:17\n",
      "1 58.04509390054271\n",
      "56 337.7\n"
     ]
    },
    {
     "name": "stderr",
     "output_type": "stream",
     "text": [
      "/var/folders/0c/8xbkg06s6cz0yy2505h06nlm00017d/T/ipykernel_4373/1367384786.py:114: UserWarning: This figure includes Axes that are not compatible with tight_layout, so results might be incorrect.\n",
      "  plt.tight_layout()\n"
     ]
    },
    {
     "name": "stdout",
     "output_type": "stream",
     "text": [
      "2022-04-09 19:51:17 UTC 2022-04-09 13:51:17 MDT\n",
      "13:51:17\n",
      "1 55.5450939005427\n",
      "51 307.7\n"
     ]
    },
    {
     "name": "stderr",
     "output_type": "stream",
     "text": [
      "/var/folders/0c/8xbkg06s6cz0yy2505h06nlm00017d/T/ipykernel_4373/1367384786.py:114: UserWarning: This figure includes Axes that are not compatible with tight_layout, so results might be incorrect.\n",
      "  plt.tight_layout()\n"
     ]
    },
    {
     "name": "stdout",
     "output_type": "stream",
     "text": [
      "2022-04-09 19:46:17 UTC 2022-04-09 13:46:17 MDT\n",
      "13:46:17\n",
      "1 53.0450939005427\n",
      "46 277.7\n"
     ]
    },
    {
     "name": "stderr",
     "output_type": "stream",
     "text": [
      "/var/folders/0c/8xbkg06s6cz0yy2505h06nlm00017d/T/ipykernel_4373/1367384786.py:114: UserWarning: This figure includes Axes that are not compatible with tight_layout, so results might be incorrect.\n",
      "  plt.tight_layout()\n"
     ]
    },
    {
     "name": "stdout",
     "output_type": "stream",
     "text": [
      "2022-04-09 19:41:17 UTC 2022-04-09 13:41:17 MDT\n",
      "13:41:17\n",
      "1 50.5450939005427\n",
      "41 247.69999999999996\n"
     ]
    },
    {
     "name": "stderr",
     "output_type": "stream",
     "text": [
      "/var/folders/0c/8xbkg06s6cz0yy2505h06nlm00017d/T/ipykernel_4373/1367384786.py:114: UserWarning: This figure includes Axes that are not compatible with tight_layout, so results might be incorrect.\n",
      "  plt.tight_layout()\n"
     ]
    },
    {
     "name": "stdout",
     "output_type": "stream",
     "text": [
      "2022-04-09 19:36:17 UTC 2022-04-09 13:36:17 MDT\n",
      "13:36:17\n",
      "1 48.0450939005427\n",
      "36 217.7\n"
     ]
    },
    {
     "name": "stderr",
     "output_type": "stream",
     "text": [
      "/var/folders/0c/8xbkg06s6cz0yy2505h06nlm00017d/T/ipykernel_4373/1367384786.py:114: UserWarning: This figure includes Axes that are not compatible with tight_layout, so results might be incorrect.\n",
      "  plt.tight_layout()\n"
     ]
    },
    {
     "name": "stdout",
     "output_type": "stream",
     "text": [
      "2022-04-09 19:31:17 UTC 2022-04-09 13:31:17 MDT\n",
      "13:31:17\n",
      "1 45.5450939005427\n",
      "31 187.7\n"
     ]
    },
    {
     "name": "stderr",
     "output_type": "stream",
     "text": [
      "/var/folders/0c/8xbkg06s6cz0yy2505h06nlm00017d/T/ipykernel_4373/1367384786.py:114: UserWarning: This figure includes Axes that are not compatible with tight_layout, so results might be incorrect.\n",
      "  plt.tight_layout()\n"
     ]
    },
    {
     "name": "stdout",
     "output_type": "stream",
     "text": [
      "2022-04-09 19:26:17 UTC 2022-04-09 13:26:17 MDT\n",
      "13:26:17\n",
      "1 43.0450939005427\n",
      "26 157.70000000000002\n"
     ]
    },
    {
     "name": "stderr",
     "output_type": "stream",
     "text": [
      "/var/folders/0c/8xbkg06s6cz0yy2505h06nlm00017d/T/ipykernel_4373/1367384786.py:114: UserWarning: This figure includes Axes that are not compatible with tight_layout, so results might be incorrect.\n",
      "  plt.tight_layout()\n"
     ]
    },
    {
     "name": "stdout",
     "output_type": "stream",
     "text": [
      "2022-04-09 19:21:17 UTC 2022-04-09 13:21:17 MDT\n",
      "13:21:17\n",
      "1 40.5450939005427\n",
      "21 127.69999999999999\n"
     ]
    },
    {
     "name": "stderr",
     "output_type": "stream",
     "text": [
      "/var/folders/0c/8xbkg06s6cz0yy2505h06nlm00017d/T/ipykernel_4373/1367384786.py:114: UserWarning: This figure includes Axes that are not compatible with tight_layout, so results might be incorrect.\n",
      "  plt.tight_layout()\n"
     ]
    },
    {
     "name": "stdout",
     "output_type": "stream",
     "text": [
      "2022-04-09 19:16:17 UTC 2022-04-09 13:16:17 MDT\n",
      "13:16:17\n",
      "1 38.0450939005427\n",
      "16 97.69999999999999\n"
     ]
    },
    {
     "name": "stderr",
     "output_type": "stream",
     "text": [
      "/var/folders/0c/8xbkg06s6cz0yy2505h06nlm00017d/T/ipykernel_4373/1367384786.py:114: UserWarning: This figure includes Axes that are not compatible with tight_layout, so results might be incorrect.\n",
      "  plt.tight_layout()\n"
     ]
    },
    {
     "name": "stdout",
     "output_type": "stream",
     "text": [
      "2022-04-09 19:11:17 UTC 2022-04-09 13:11:17 MDT\n",
      "13:11:17\n",
      "1 35.5450939005427\n",
      "11 67.69999999999999\n"
     ]
    },
    {
     "name": "stderr",
     "output_type": "stream",
     "text": [
      "/var/folders/0c/8xbkg06s6cz0yy2505h06nlm00017d/T/ipykernel_4373/1367384786.py:114: UserWarning: This figure includes Axes that are not compatible with tight_layout, so results might be incorrect.\n",
      "  plt.tight_layout()\n"
     ]
    },
    {
     "name": "stdout",
     "output_type": "stream",
     "text": [
      "2022-04-09 19:06:17 UTC 2022-04-09 13:06:17 MDT\n",
      "13:06:17\n",
      "1 33.0450939005427\n",
      "6 37.7\n"
     ]
    },
    {
     "name": "stderr",
     "output_type": "stream",
     "text": [
      "/var/folders/0c/8xbkg06s6cz0yy2505h06nlm00017d/T/ipykernel_4373/1367384786.py:114: UserWarning: This figure includes Axes that are not compatible with tight_layout, so results might be incorrect.\n",
      "  plt.tight_layout()\n"
     ]
    },
    {
     "name": "stdout",
     "output_type": "stream",
     "text": [
      "2022-04-09 19:01:17 UTC 2022-04-09 13:01:17 MDT\n",
      "13:01:17\n",
      "1 30.545093900542707\n",
      "1 7.699999999999999\n"
     ]
    },
    {
     "name": "stderr",
     "output_type": "stream",
     "text": [
      "/var/folders/0c/8xbkg06s6cz0yy2505h06nlm00017d/T/ipykernel_4373/1367384786.py:114: UserWarning: This figure includes Axes that are not compatible with tight_layout, so results might be incorrect.\n",
      "  plt.tight_layout()\n"
     ]
    },
    {
     "name": "stdout",
     "output_type": "stream",
     "text": [
      "2022-04-09 18:56:17 UTC 2022-04-09 12:56:17 MDT\n",
      "12:56:17\n",
      "12 388.0450939005427\n",
      "56 337.7\n"
     ]
    },
    {
     "name": "stderr",
     "output_type": "stream",
     "text": [
      "/var/folders/0c/8xbkg06s6cz0yy2505h06nlm00017d/T/ipykernel_4373/1367384786.py:114: UserWarning: This figure includes Axes that are not compatible with tight_layout, so results might be incorrect.\n",
      "  plt.tight_layout()\n"
     ]
    },
    {
     "name": "stdout",
     "output_type": "stream",
     "text": [
      "2022-04-09 18:51:17 UTC 2022-04-09 12:51:17 MDT\n",
      "12:51:17\n",
      "12 385.5450939005427\n",
      "51 307.7\n"
     ]
    },
    {
     "name": "stderr",
     "output_type": "stream",
     "text": [
      "/var/folders/0c/8xbkg06s6cz0yy2505h06nlm00017d/T/ipykernel_4373/1367384786.py:114: UserWarning: This figure includes Axes that are not compatible with tight_layout, so results might be incorrect.\n",
      "  plt.tight_layout()\n"
     ]
    },
    {
     "name": "stdout",
     "output_type": "stream",
     "text": [
      "2022-04-09 18:46:17 UTC 2022-04-09 12:46:17 MDT\n",
      "12:46:17\n",
      "12 383.0450939005427\n",
      "46 277.7\n"
     ]
    },
    {
     "name": "stderr",
     "output_type": "stream",
     "text": [
      "/var/folders/0c/8xbkg06s6cz0yy2505h06nlm00017d/T/ipykernel_4373/1367384786.py:114: UserWarning: This figure includes Axes that are not compatible with tight_layout, so results might be incorrect.\n",
      "  plt.tight_layout()\n"
     ]
    },
    {
     "name": "stdout",
     "output_type": "stream",
     "text": [
      "2022-04-09 18:41:17 UTC 2022-04-09 12:41:17 MDT\n",
      "12:41:17\n",
      "12 380.5450939005427\n",
      "41 247.69999999999996\n"
     ]
    },
    {
     "name": "stderr",
     "output_type": "stream",
     "text": [
      "/var/folders/0c/8xbkg06s6cz0yy2505h06nlm00017d/T/ipykernel_4373/1367384786.py:114: UserWarning: This figure includes Axes that are not compatible with tight_layout, so results might be incorrect.\n",
      "  plt.tight_layout()\n"
     ]
    },
    {
     "name": "stdout",
     "output_type": "stream",
     "text": [
      "2022-04-09 18:36:17 UTC 2022-04-09 12:36:17 MDT\n",
      "12:36:17\n",
      "12 378.0450939005427\n",
      "36 217.7\n"
     ]
    },
    {
     "name": "stderr",
     "output_type": "stream",
     "text": [
      "/var/folders/0c/8xbkg06s6cz0yy2505h06nlm00017d/T/ipykernel_4373/1367384786.py:114: UserWarning: This figure includes Axes that are not compatible with tight_layout, so results might be incorrect.\n",
      "  plt.tight_layout()\n"
     ]
    },
    {
     "name": "stdout",
     "output_type": "stream",
     "text": [
      "2022-04-09 18:31:17 UTC 2022-04-09 12:31:17 MDT\n",
      "12:31:17\n",
      "12 375.5450939005427\n",
      "31 187.7\n"
     ]
    },
    {
     "name": "stderr",
     "output_type": "stream",
     "text": [
      "/var/folders/0c/8xbkg06s6cz0yy2505h06nlm00017d/T/ipykernel_4373/1367384786.py:114: UserWarning: This figure includes Axes that are not compatible with tight_layout, so results might be incorrect.\n",
      "  plt.tight_layout()\n"
     ]
    },
    {
     "name": "stdout",
     "output_type": "stream",
     "text": [
      "2022-04-09 18:26:17 UTC 2022-04-09 12:26:17 MDT\n",
      "12:26:17\n",
      "12 373.0450939005427\n",
      "26 157.70000000000002\n"
     ]
    },
    {
     "name": "stderr",
     "output_type": "stream",
     "text": [
      "/var/folders/0c/8xbkg06s6cz0yy2505h06nlm00017d/T/ipykernel_4373/1367384786.py:114: UserWarning: This figure includes Axes that are not compatible with tight_layout, so results might be incorrect.\n",
      "  plt.tight_layout()\n"
     ]
    },
    {
     "name": "stdout",
     "output_type": "stream",
     "text": [
      "2022-04-09 18:21:17 UTC 2022-04-09 12:21:17 MDT\n",
      "12:21:17\n",
      "12 370.5450939005427\n",
      "21 127.69999999999999\n"
     ]
    },
    {
     "name": "stderr",
     "output_type": "stream",
     "text": [
      "/var/folders/0c/8xbkg06s6cz0yy2505h06nlm00017d/T/ipykernel_4373/1367384786.py:114: UserWarning: This figure includes Axes that are not compatible with tight_layout, so results might be incorrect.\n",
      "  plt.tight_layout()\n"
     ]
    },
    {
     "name": "stdout",
     "output_type": "stream",
     "text": [
      "2022-04-09 18:16:17 UTC 2022-04-09 12:16:17 MDT\n",
      "12:16:17\n",
      "12 368.0450939005427\n",
      "16 97.69999999999999\n"
     ]
    },
    {
     "name": "stderr",
     "output_type": "stream",
     "text": [
      "/var/folders/0c/8xbkg06s6cz0yy2505h06nlm00017d/T/ipykernel_4373/1367384786.py:114: UserWarning: This figure includes Axes that are not compatible with tight_layout, so results might be incorrect.\n",
      "  plt.tight_layout()\n"
     ]
    },
    {
     "name": "stdout",
     "output_type": "stream",
     "text": [
      "2022-04-09 18:11:17 UTC 2022-04-09 12:11:17 MDT\n",
      "12:11:17\n",
      "12 365.5450939005427\n",
      "11 67.69999999999999\n"
     ]
    },
    {
     "name": "stderr",
     "output_type": "stream",
     "text": [
      "/var/folders/0c/8xbkg06s6cz0yy2505h06nlm00017d/T/ipykernel_4373/1367384786.py:114: UserWarning: This figure includes Axes that are not compatible with tight_layout, so results might be incorrect.\n",
      "  plt.tight_layout()\n"
     ]
    },
    {
     "name": "stdout",
     "output_type": "stream",
     "text": [
      "2022-04-09 18:06:17 UTC 2022-04-09 12:06:17 MDT\n",
      "12:06:17\n",
      "12 363.0450939005427\n",
      "6 37.7\n"
     ]
    },
    {
     "name": "stderr",
     "output_type": "stream",
     "text": [
      "/var/folders/0c/8xbkg06s6cz0yy2505h06nlm00017d/T/ipykernel_4373/1367384786.py:114: UserWarning: This figure includes Axes that are not compatible with tight_layout, so results might be incorrect.\n",
      "  plt.tight_layout()\n"
     ]
    },
    {
     "name": "stdout",
     "output_type": "stream",
     "text": [
      "2022-04-09 18:01:17 UTC 2022-04-09 12:01:17 MDT\n",
      "12:01:17\n",
      "12 360.5450939005427\n",
      "1 7.699999999999999\n"
     ]
    },
    {
     "name": "stderr",
     "output_type": "stream",
     "text": [
      "/var/folders/0c/8xbkg06s6cz0yy2505h06nlm00017d/T/ipykernel_4373/1367384786.py:114: UserWarning: This figure includes Axes that are not compatible with tight_layout, so results might be incorrect.\n",
      "  plt.tight_layout()\n"
     ]
    },
    {
     "name": "stdout",
     "output_type": "stream",
     "text": [
      "2022-04-09 17:56:17 UTC 2022-04-09 11:56:17 MDT\n",
      "11:56:17\n",
      "11 358.04509390054267\n",
      "56 337.7\n"
     ]
    },
    {
     "name": "stderr",
     "output_type": "stream",
     "text": [
      "/var/folders/0c/8xbkg06s6cz0yy2505h06nlm00017d/T/ipykernel_4373/1367384786.py:114: UserWarning: This figure includes Axes that are not compatible with tight_layout, so results might be incorrect.\n",
      "  plt.tight_layout()\n"
     ]
    },
    {
     "name": "stdout",
     "output_type": "stream",
     "text": [
      "2022-04-09 17:51:17 UTC 2022-04-09 11:51:17 MDT\n",
      "11:51:17\n",
      "11 355.54509390054267\n",
      "51 307.7\n"
     ]
    },
    {
     "name": "stderr",
     "output_type": "stream",
     "text": [
      "/var/folders/0c/8xbkg06s6cz0yy2505h06nlm00017d/T/ipykernel_4373/1367384786.py:114: UserWarning: This figure includes Axes that are not compatible with tight_layout, so results might be incorrect.\n",
      "  plt.tight_layout()\n"
     ]
    },
    {
     "name": "stdout",
     "output_type": "stream",
     "text": [
      "2022-04-09 17:46:17 UTC 2022-04-09 11:46:17 MDT\n",
      "11:46:17\n",
      "11 353.04509390054267\n",
      "46 277.7\n"
     ]
    },
    {
     "name": "stderr",
     "output_type": "stream",
     "text": [
      "/var/folders/0c/8xbkg06s6cz0yy2505h06nlm00017d/T/ipykernel_4373/1367384786.py:114: UserWarning: This figure includes Axes that are not compatible with tight_layout, so results might be incorrect.\n",
      "  plt.tight_layout()\n"
     ]
    },
    {
     "name": "stdout",
     "output_type": "stream",
     "text": [
      "2022-04-09 17:41:17 UTC 2022-04-09 11:41:17 MDT\n",
      "11:41:17\n",
      "11 350.5450939005427\n",
      "41 247.69999999999996\n"
     ]
    },
    {
     "name": "stderr",
     "output_type": "stream",
     "text": [
      "/var/folders/0c/8xbkg06s6cz0yy2505h06nlm00017d/T/ipykernel_4373/1367384786.py:114: UserWarning: This figure includes Axes that are not compatible with tight_layout, so results might be incorrect.\n",
      "  plt.tight_layout()\n"
     ]
    },
    {
     "name": "stdout",
     "output_type": "stream",
     "text": [
      "2022-04-09 17:36:17 UTC 2022-04-09 11:36:17 MDT\n",
      "11:36:17\n",
      "11 348.0450939005427\n",
      "36 217.7\n"
     ]
    },
    {
     "name": "stderr",
     "output_type": "stream",
     "text": [
      "/var/folders/0c/8xbkg06s6cz0yy2505h06nlm00017d/T/ipykernel_4373/1367384786.py:114: UserWarning: This figure includes Axes that are not compatible with tight_layout, so results might be incorrect.\n",
      "  plt.tight_layout()\n"
     ]
    },
    {
     "name": "stdout",
     "output_type": "stream",
     "text": [
      "2022-04-09 17:31:17 UTC 2022-04-09 11:31:17 MDT\n",
      "11:31:17\n",
      "11 345.5450939005427\n",
      "31 187.7\n"
     ]
    },
    {
     "name": "stderr",
     "output_type": "stream",
     "text": [
      "/var/folders/0c/8xbkg06s6cz0yy2505h06nlm00017d/T/ipykernel_4373/1367384786.py:114: UserWarning: This figure includes Axes that are not compatible with tight_layout, so results might be incorrect.\n",
      "  plt.tight_layout()\n"
     ]
    },
    {
     "name": "stdout",
     "output_type": "stream",
     "text": [
      "2022-04-09 17:26:17 UTC 2022-04-09 11:26:17 MDT\n",
      "11:26:17\n",
      "11 343.0450939005427\n",
      "26 157.70000000000002\n"
     ]
    },
    {
     "name": "stderr",
     "output_type": "stream",
     "text": [
      "/var/folders/0c/8xbkg06s6cz0yy2505h06nlm00017d/T/ipykernel_4373/1367384786.py:114: UserWarning: This figure includes Axes that are not compatible with tight_layout, so results might be incorrect.\n",
      "  plt.tight_layout()\n"
     ]
    },
    {
     "name": "stdout",
     "output_type": "stream",
     "text": [
      "2022-04-09 17:21:17 UTC 2022-04-09 11:21:17 MDT\n",
      "11:21:17\n",
      "11 340.5450939005427\n",
      "21 127.69999999999999\n"
     ]
    },
    {
     "name": "stderr",
     "output_type": "stream",
     "text": [
      "/var/folders/0c/8xbkg06s6cz0yy2505h06nlm00017d/T/ipykernel_4373/1367384786.py:114: UserWarning: This figure includes Axes that are not compatible with tight_layout, so results might be incorrect.\n",
      "  plt.tight_layout()\n"
     ]
    },
    {
     "name": "stdout",
     "output_type": "stream",
     "text": [
      "2022-04-09 17:16:17 UTC 2022-04-09 11:16:17 MDT\n",
      "11:16:17\n",
      "11 338.0450939005427\n",
      "16 97.69999999999999\n"
     ]
    },
    {
     "name": "stderr",
     "output_type": "stream",
     "text": [
      "/var/folders/0c/8xbkg06s6cz0yy2505h06nlm00017d/T/ipykernel_4373/1367384786.py:114: UserWarning: This figure includes Axes that are not compatible with tight_layout, so results might be incorrect.\n",
      "  plt.tight_layout()\n"
     ]
    },
    {
     "name": "stdout",
     "output_type": "stream",
     "text": [
      "2022-04-09 17:11:17 UTC 2022-04-09 11:11:17 MDT\n",
      "11:11:17\n",
      "11 335.5450939005427\n",
      "11 67.69999999999999\n"
     ]
    },
    {
     "name": "stderr",
     "output_type": "stream",
     "text": [
      "/var/folders/0c/8xbkg06s6cz0yy2505h06nlm00017d/T/ipykernel_4373/1367384786.py:114: UserWarning: This figure includes Axes that are not compatible with tight_layout, so results might be incorrect.\n",
      "  plt.tight_layout()\n"
     ]
    },
    {
     "name": "stdout",
     "output_type": "stream",
     "text": [
      "2022-04-09 17:06:17 UTC 2022-04-09 11:06:17 MDT\n",
      "11:06:17\n",
      "11 333.0450939005427\n",
      "6 37.7\n"
     ]
    },
    {
     "name": "stderr",
     "output_type": "stream",
     "text": [
      "/var/folders/0c/8xbkg06s6cz0yy2505h06nlm00017d/T/ipykernel_4373/1367384786.py:114: UserWarning: This figure includes Axes that are not compatible with tight_layout, so results might be incorrect.\n",
      "  plt.tight_layout()\n"
     ]
    },
    {
     "name": "stdout",
     "output_type": "stream",
     "text": [
      "2022-04-09 17:01:17 UTC 2022-04-09 11:01:17 MDT\n",
      "11:01:17\n",
      "11 330.5450939005427\n",
      "1 7.699999999999999\n"
     ]
    },
    {
     "name": "stderr",
     "output_type": "stream",
     "text": [
      "/var/folders/0c/8xbkg06s6cz0yy2505h06nlm00017d/T/ipykernel_4373/1367384786.py:114: UserWarning: This figure includes Axes that are not compatible with tight_layout, so results might be incorrect.\n",
      "  plt.tight_layout()\n"
     ]
    },
    {
     "name": "stdout",
     "output_type": "stream",
     "text": [
      "2022-04-09 16:56:17 UTC 2022-04-09 10:56:17 MDT\n",
      "10:56:17\n",
      "10 328.0450939005427\n",
      "56 337.7\n"
     ]
    },
    {
     "name": "stderr",
     "output_type": "stream",
     "text": [
      "/var/folders/0c/8xbkg06s6cz0yy2505h06nlm00017d/T/ipykernel_4373/1367384786.py:114: UserWarning: This figure includes Axes that are not compatible with tight_layout, so results might be incorrect.\n",
      "  plt.tight_layout()\n"
     ]
    },
    {
     "name": "stdout",
     "output_type": "stream",
     "text": [
      "2022-04-09 16:51:17 UTC 2022-04-09 10:51:17 MDT\n",
      "10:51:17\n",
      "10 325.5450939005427\n",
      "51 307.7\n"
     ]
    },
    {
     "name": "stderr",
     "output_type": "stream",
     "text": [
      "/var/folders/0c/8xbkg06s6cz0yy2505h06nlm00017d/T/ipykernel_4373/1367384786.py:114: UserWarning: This figure includes Axes that are not compatible with tight_layout, so results might be incorrect.\n",
      "  plt.tight_layout()\n"
     ]
    },
    {
     "name": "stdout",
     "output_type": "stream",
     "text": [
      "2022-04-09 16:46:17 UTC 2022-04-09 10:46:17 MDT\n",
      "10:46:17\n",
      "10 323.0450939005427\n",
      "46 277.7\n"
     ]
    },
    {
     "name": "stderr",
     "output_type": "stream",
     "text": [
      "/var/folders/0c/8xbkg06s6cz0yy2505h06nlm00017d/T/ipykernel_4373/1367384786.py:114: UserWarning: This figure includes Axes that are not compatible with tight_layout, so results might be incorrect.\n",
      "  plt.tight_layout()\n"
     ]
    },
    {
     "name": "stdout",
     "output_type": "stream",
     "text": [
      "2022-04-09 16:41:17 UTC 2022-04-09 10:41:17 MDT\n",
      "10:41:17\n",
      "10 320.5450939005427\n",
      "41 247.69999999999996\n"
     ]
    },
    {
     "name": "stderr",
     "output_type": "stream",
     "text": [
      "/var/folders/0c/8xbkg06s6cz0yy2505h06nlm00017d/T/ipykernel_4373/1367384786.py:114: UserWarning: This figure includes Axes that are not compatible with tight_layout, so results might be incorrect.\n",
      "  plt.tight_layout()\n"
     ]
    },
    {
     "name": "stdout",
     "output_type": "stream",
     "text": [
      "2022-04-09 16:36:17 UTC 2022-04-09 10:36:17 MDT\n",
      "10:36:17\n",
      "10 318.0450939005427\n",
      "36 217.7\n"
     ]
    },
    {
     "name": "stderr",
     "output_type": "stream",
     "text": [
      "/var/folders/0c/8xbkg06s6cz0yy2505h06nlm00017d/T/ipykernel_4373/1367384786.py:114: UserWarning: This figure includes Axes that are not compatible with tight_layout, so results might be incorrect.\n",
      "  plt.tight_layout()\n"
     ]
    },
    {
     "name": "stdout",
     "output_type": "stream",
     "text": [
      "2022-04-09 16:31:17 UTC 2022-04-09 10:31:17 MDT\n",
      "10:31:17\n",
      "10 315.5450939005427\n",
      "31 187.7\n"
     ]
    },
    {
     "name": "stderr",
     "output_type": "stream",
     "text": [
      "/var/folders/0c/8xbkg06s6cz0yy2505h06nlm00017d/T/ipykernel_4373/1367384786.py:114: UserWarning: This figure includes Axes that are not compatible with tight_layout, so results might be incorrect.\n",
      "  plt.tight_layout()\n"
     ]
    },
    {
     "name": "stdout",
     "output_type": "stream",
     "text": [
      "2022-04-09 16:26:17 UTC 2022-04-09 10:26:17 MDT\n",
      "10:26:17\n",
      "10 313.0450939005427\n",
      "26 157.70000000000002\n"
     ]
    },
    {
     "name": "stderr",
     "output_type": "stream",
     "text": [
      "/var/folders/0c/8xbkg06s6cz0yy2505h06nlm00017d/T/ipykernel_4373/1367384786.py:114: UserWarning: This figure includes Axes that are not compatible with tight_layout, so results might be incorrect.\n",
      "  plt.tight_layout()\n"
     ]
    },
    {
     "name": "stdout",
     "output_type": "stream",
     "text": [
      "2022-04-09 16:21:17 UTC 2022-04-09 10:21:17 MDT\n",
      "10:21:17\n",
      "10 310.5450939005427\n",
      "21 127.69999999999999\n"
     ]
    },
    {
     "name": "stderr",
     "output_type": "stream",
     "text": [
      "/var/folders/0c/8xbkg06s6cz0yy2505h06nlm00017d/T/ipykernel_4373/1367384786.py:114: UserWarning: This figure includes Axes that are not compatible with tight_layout, so results might be incorrect.\n",
      "  plt.tight_layout()\n"
     ]
    },
    {
     "name": "stdout",
     "output_type": "stream",
     "text": [
      "2022-04-09 16:16:17 UTC 2022-04-09 10:16:17 MDT\n",
      "10:16:17\n",
      "10 308.0450939005427\n",
      "16 97.69999999999999\n"
     ]
    },
    {
     "name": "stderr",
     "output_type": "stream",
     "text": [
      "/var/folders/0c/8xbkg06s6cz0yy2505h06nlm00017d/T/ipykernel_4373/1367384786.py:114: UserWarning: This figure includes Axes that are not compatible with tight_layout, so results might be incorrect.\n",
      "  plt.tight_layout()\n"
     ]
    },
    {
     "name": "stdout",
     "output_type": "stream",
     "text": [
      "2022-04-09 16:11:17 UTC 2022-04-09 10:11:17 MDT\n",
      "10:11:17\n",
      "10 305.5450939005427\n",
      "11 67.69999999999999\n"
     ]
    },
    {
     "name": "stderr",
     "output_type": "stream",
     "text": [
      "/var/folders/0c/8xbkg06s6cz0yy2505h06nlm00017d/T/ipykernel_4373/1367384786.py:114: UserWarning: This figure includes Axes that are not compatible with tight_layout, so results might be incorrect.\n",
      "  plt.tight_layout()\n"
     ]
    },
    {
     "name": "stdout",
     "output_type": "stream",
     "text": [
      "2022-04-09 16:06:17 UTC 2022-04-09 10:06:17 MDT\n",
      "10:06:17\n",
      "10 303.0450939005427\n",
      "6 37.7\n"
     ]
    },
    {
     "name": "stderr",
     "output_type": "stream",
     "text": [
      "/var/folders/0c/8xbkg06s6cz0yy2505h06nlm00017d/T/ipykernel_4373/1367384786.py:114: UserWarning: This figure includes Axes that are not compatible with tight_layout, so results might be incorrect.\n",
      "  plt.tight_layout()\n"
     ]
    },
    {
     "name": "stdout",
     "output_type": "stream",
     "text": [
      "2022-04-09 16:01:17 UTC 2022-04-09 10:01:17 MDT\n",
      "10:01:17\n",
      "10 300.5450939005428\n",
      "1 7.699999999999999\n"
     ]
    },
    {
     "name": "stderr",
     "output_type": "stream",
     "text": [
      "/var/folders/0c/8xbkg06s6cz0yy2505h06nlm00017d/T/ipykernel_4373/1367384786.py:114: UserWarning: This figure includes Axes that are not compatible with tight_layout, so results might be incorrect.\n",
      "  plt.tight_layout()\n"
     ]
    },
    {
     "name": "stdout",
     "output_type": "stream",
     "text": [
      "2022-04-09 15:56:17 UTC 2022-04-09 09:56:17 MDT\n",
      "09:56:17\n",
      "9 298.0450939005427\n",
      "56 337.7\n"
     ]
    },
    {
     "name": "stderr",
     "output_type": "stream",
     "text": [
      "/var/folders/0c/8xbkg06s6cz0yy2505h06nlm00017d/T/ipykernel_4373/1367384786.py:114: UserWarning: This figure includes Axes that are not compatible with tight_layout, so results might be incorrect.\n",
      "  plt.tight_layout()\n"
     ]
    },
    {
     "name": "stdout",
     "output_type": "stream",
     "text": [
      "2022-04-09 15:51:17 UTC 2022-04-09 09:51:17 MDT\n",
      "09:51:17\n",
      "9 295.5450939005427\n",
      "51 307.7\n"
     ]
    },
    {
     "name": "stderr",
     "output_type": "stream",
     "text": [
      "/var/folders/0c/8xbkg06s6cz0yy2505h06nlm00017d/T/ipykernel_4373/1367384786.py:114: UserWarning: This figure includes Axes that are not compatible with tight_layout, so results might be incorrect.\n",
      "  plt.tight_layout()\n"
     ]
    },
    {
     "name": "stdout",
     "output_type": "stream",
     "text": [
      "2022-04-09 15:46:17 UTC 2022-04-09 09:46:17 MDT\n",
      "09:46:17\n",
      "9 293.0450939005427\n",
      "46 277.7\n"
     ]
    },
    {
     "name": "stderr",
     "output_type": "stream",
     "text": [
      "/var/folders/0c/8xbkg06s6cz0yy2505h06nlm00017d/T/ipykernel_4373/1367384786.py:114: UserWarning: This figure includes Axes that are not compatible with tight_layout, so results might be incorrect.\n",
      "  plt.tight_layout()\n"
     ]
    },
    {
     "name": "stdout",
     "output_type": "stream",
     "text": [
      "2022-04-09 15:41:17 UTC 2022-04-09 09:41:17 MDT\n",
      "09:41:17\n",
      "9 290.5450939005427\n",
      "41 247.69999999999996\n"
     ]
    },
    {
     "name": "stderr",
     "output_type": "stream",
     "text": [
      "/var/folders/0c/8xbkg06s6cz0yy2505h06nlm00017d/T/ipykernel_4373/1367384786.py:114: UserWarning: This figure includes Axes that are not compatible with tight_layout, so results might be incorrect.\n",
      "  plt.tight_layout()\n"
     ]
    },
    {
     "name": "stdout",
     "output_type": "stream",
     "text": [
      "2022-04-09 15:36:17 UTC 2022-04-09 09:36:17 MDT\n",
      "09:36:17\n",
      "9 288.0450939005427\n",
      "36 217.7\n"
     ]
    },
    {
     "name": "stderr",
     "output_type": "stream",
     "text": [
      "/var/folders/0c/8xbkg06s6cz0yy2505h06nlm00017d/T/ipykernel_4373/1367384786.py:114: UserWarning: This figure includes Axes that are not compatible with tight_layout, so results might be incorrect.\n",
      "  plt.tight_layout()\n"
     ]
    },
    {
     "name": "stdout",
     "output_type": "stream",
     "text": [
      "2022-04-09 15:31:17 UTC 2022-04-09 09:31:17 MDT\n",
      "09:31:17\n",
      "9 285.5450939005427\n",
      "31 187.7\n"
     ]
    },
    {
     "name": "stderr",
     "output_type": "stream",
     "text": [
      "/var/folders/0c/8xbkg06s6cz0yy2505h06nlm00017d/T/ipykernel_4373/1367384786.py:114: UserWarning: This figure includes Axes that are not compatible with tight_layout, so results might be incorrect.\n",
      "  plt.tight_layout()\n"
     ]
    },
    {
     "name": "stdout",
     "output_type": "stream",
     "text": [
      "2022-04-09 15:26:17 UTC 2022-04-09 09:26:17 MDT\n",
      "09:26:17\n",
      "9 283.0450939005427\n",
      "26 157.70000000000002\n"
     ]
    },
    {
     "name": "stderr",
     "output_type": "stream",
     "text": [
      "/var/folders/0c/8xbkg06s6cz0yy2505h06nlm00017d/T/ipykernel_4373/1367384786.py:114: UserWarning: This figure includes Axes that are not compatible with tight_layout, so results might be incorrect.\n",
      "  plt.tight_layout()\n"
     ]
    },
    {
     "name": "stdout",
     "output_type": "stream",
     "text": [
      "2022-04-09 15:21:17 UTC 2022-04-09 09:21:17 MDT\n",
      "09:21:17\n",
      "9 280.5450939005427\n",
      "21 127.69999999999999\n"
     ]
    },
    {
     "name": "stderr",
     "output_type": "stream",
     "text": [
      "/var/folders/0c/8xbkg06s6cz0yy2505h06nlm00017d/T/ipykernel_4373/1367384786.py:114: UserWarning: This figure includes Axes that are not compatible with tight_layout, so results might be incorrect.\n",
      "  plt.tight_layout()\n"
     ]
    },
    {
     "name": "stdout",
     "output_type": "stream",
     "text": [
      "2022-04-09 15:16:17 UTC 2022-04-09 09:16:17 MDT\n",
      "09:16:17\n",
      "9 278.0450939005427\n",
      "16 97.69999999999999\n"
     ]
    },
    {
     "name": "stderr",
     "output_type": "stream",
     "text": [
      "/var/folders/0c/8xbkg06s6cz0yy2505h06nlm00017d/T/ipykernel_4373/1367384786.py:114: UserWarning: This figure includes Axes that are not compatible with tight_layout, so results might be incorrect.\n",
      "  plt.tight_layout()\n"
     ]
    },
    {
     "name": "stdout",
     "output_type": "stream",
     "text": [
      "2022-04-09 15:11:17 UTC 2022-04-09 09:11:17 MDT\n",
      "09:11:17\n",
      "9 275.5450939005427\n",
      "11 67.69999999999999\n"
     ]
    },
    {
     "name": "stderr",
     "output_type": "stream",
     "text": [
      "/var/folders/0c/8xbkg06s6cz0yy2505h06nlm00017d/T/ipykernel_4373/1367384786.py:114: UserWarning: This figure includes Axes that are not compatible with tight_layout, so results might be incorrect.\n",
      "  plt.tight_layout()\n"
     ]
    },
    {
     "name": "stdout",
     "output_type": "stream",
     "text": [
      "2022-04-09 15:06:17 UTC 2022-04-09 09:06:17 MDT\n",
      "09:06:17\n",
      "9 273.0450939005427\n",
      "6 37.7\n"
     ]
    },
    {
     "name": "stderr",
     "output_type": "stream",
     "text": [
      "/var/folders/0c/8xbkg06s6cz0yy2505h06nlm00017d/T/ipykernel_4373/1367384786.py:114: UserWarning: This figure includes Axes that are not compatible with tight_layout, so results might be incorrect.\n",
      "  plt.tight_layout()\n"
     ]
    },
    {
     "name": "stdout",
     "output_type": "stream",
     "text": [
      "2022-04-09 15:01:17 UTC 2022-04-09 09:01:17 MDT\n",
      "09:01:17\n",
      "9 270.5450939005427\n",
      "1 7.699999999999999\n"
     ]
    },
    {
     "name": "stderr",
     "output_type": "stream",
     "text": [
      "/var/folders/0c/8xbkg06s6cz0yy2505h06nlm00017d/T/ipykernel_4373/1367384786.py:114: UserWarning: This figure includes Axes that are not compatible with tight_layout, so results might be incorrect.\n",
      "  plt.tight_layout()\n"
     ]
    },
    {
     "name": "stdout",
     "output_type": "stream",
     "text": [
      "2022-04-09 14:56:17 UTC 2022-04-09 08:56:17 MDT\n",
      "08:56:17\n",
      "8 268.04509390054267\n",
      "56 337.7\n"
     ]
    },
    {
     "name": "stderr",
     "output_type": "stream",
     "text": [
      "/var/folders/0c/8xbkg06s6cz0yy2505h06nlm00017d/T/ipykernel_4373/1367384786.py:114: UserWarning: This figure includes Axes that are not compatible with tight_layout, so results might be incorrect.\n",
      "  plt.tight_layout()\n"
     ]
    },
    {
     "name": "stdout",
     "output_type": "stream",
     "text": [
      "2022-04-09 14:51:17 UTC 2022-04-09 08:51:17 MDT\n",
      "08:51:17\n",
      "8 265.54509390054267\n",
      "51 307.7\n"
     ]
    },
    {
     "name": "stderr",
     "output_type": "stream",
     "text": [
      "/var/folders/0c/8xbkg06s6cz0yy2505h06nlm00017d/T/ipykernel_4373/1367384786.py:114: UserWarning: This figure includes Axes that are not compatible with tight_layout, so results might be incorrect.\n",
      "  plt.tight_layout()\n"
     ]
    },
    {
     "name": "stdout",
     "output_type": "stream",
     "text": [
      "2022-04-09 14:46:17 UTC 2022-04-09 08:46:17 MDT\n",
      "08:46:17\n",
      "8 263.04509390054267\n",
      "46 277.7\n"
     ]
    },
    {
     "name": "stderr",
     "output_type": "stream",
     "text": [
      "/var/folders/0c/8xbkg06s6cz0yy2505h06nlm00017d/T/ipykernel_4373/1367384786.py:114: UserWarning: This figure includes Axes that are not compatible with tight_layout, so results might be incorrect.\n",
      "  plt.tight_layout()\n"
     ]
    },
    {
     "name": "stdout",
     "output_type": "stream",
     "text": [
      "2022-04-09 14:41:17 UTC 2022-04-09 08:41:17 MDT\n",
      "08:41:17\n",
      "8 260.5450939005427\n",
      "41 247.69999999999996\n"
     ]
    },
    {
     "name": "stderr",
     "output_type": "stream",
     "text": [
      "/var/folders/0c/8xbkg06s6cz0yy2505h06nlm00017d/T/ipykernel_4373/1367384786.py:114: UserWarning: This figure includes Axes that are not compatible with tight_layout, so results might be incorrect.\n",
      "  plt.tight_layout()\n"
     ]
    },
    {
     "name": "stdout",
     "output_type": "stream",
     "text": [
      "2022-04-09 14:36:17 UTC 2022-04-09 08:36:17 MDT\n",
      "08:36:17\n",
      "8 258.0450939005427\n",
      "36 217.7\n"
     ]
    },
    {
     "name": "stderr",
     "output_type": "stream",
     "text": [
      "/var/folders/0c/8xbkg06s6cz0yy2505h06nlm00017d/T/ipykernel_4373/1367384786.py:114: UserWarning: This figure includes Axes that are not compatible with tight_layout, so results might be incorrect.\n",
      "  plt.tight_layout()\n"
     ]
    },
    {
     "name": "stdout",
     "output_type": "stream",
     "text": [
      "2022-04-09 14:31:17 UTC 2022-04-09 08:31:17 MDT\n",
      "08:31:17\n",
      "8 255.5450939005427\n",
      "31 187.7\n"
     ]
    },
    {
     "name": "stderr",
     "output_type": "stream",
     "text": [
      "/var/folders/0c/8xbkg06s6cz0yy2505h06nlm00017d/T/ipykernel_4373/1367384786.py:114: UserWarning: This figure includes Axes that are not compatible with tight_layout, so results might be incorrect.\n",
      "  plt.tight_layout()\n"
     ]
    },
    {
     "name": "stdout",
     "output_type": "stream",
     "text": [
      "2022-04-09 14:26:17 UTC 2022-04-09 08:26:17 MDT\n",
      "08:26:17\n",
      "8 253.0450939005427\n",
      "26 157.70000000000002\n"
     ]
    },
    {
     "name": "stderr",
     "output_type": "stream",
     "text": [
      "/var/folders/0c/8xbkg06s6cz0yy2505h06nlm00017d/T/ipykernel_4373/1367384786.py:114: UserWarning: This figure includes Axes that are not compatible with tight_layout, so results might be incorrect.\n",
      "  plt.tight_layout()\n"
     ]
    }
   ],
   "source": [
    "##################################################\n",
    "#\n",
    "# Create PNGs\n",
    "#\n",
    "\n",
    "i_rap    = 801\n",
    "j_rap    = 231\n",
    "imin_rap = i_rap-250\n",
    "imax_rap = i_rap+250\n",
    "jmin_rap = j_rap-250+19\n",
    "jmax_rap = j_rap+250-19\n",
    "\n",
    "\n",
    "\n",
    "for i in range(0,len(cat.datasets[0:total_frames])+1,1) : \n",
    "\n",
    "    dataset = cat.datasets[i]\n",
    "    \n",
    "    dataset_png_file_name = png_processing_directory + dataset.name.replace(\".nc\", \".png\")\n",
    "    \n",
    "    if (not pathlib.Path(dataset_png_file_name).is_file() ):\n",
    "\n",
    "        ds = dataset.remote_access(use_xarray=True)\n",
    "        dat = ds.metpy.parse_cf('Sectorized_CMI')\n",
    "        proj = dat.metpy.cartopy_crs\n",
    "        x = dat['x'][imin_rap:imax_rap]\n",
    "        y = dat['y'][jmin_rap:jmax_rap]\n",
    "\n",
    "\n",
    "        tz='America/Denver'\n",
    "        time_utc   = datetime.strptime(ds.start_date_time, '%Y%j%H%M%S')\n",
    "        valid_time = pd.to_datetime(time_utc).tz_localize(tz=\"UTC\").strftime(\"%Y-%m-%d %H:%M:%S %Z\")\n",
    "        local_time = pd.to_datetime(time_utc).tz_localize(tz=\"UTC\").tz_convert(tz=tz).strftime(\"%Y-%m-%d %H:%M:%S %Z\")\n",
    "\n",
    "        file_time = pd.to_datetime(time_utc).tz_localize(tz=\"UTC\").strftime(\"%Y-%m-%d_%H%M\")\n",
    "\n",
    "\n",
    "        print(valid_time,local_time)\n",
    "\n",
    "\n",
    "\n",
    "        fig = plt.figure(figsize=(8, 8), facecolor = 'white')\n",
    "\n",
    "        plt.suptitle(image_header_label,\n",
    "                     fontsize = 20, \n",
    "                     color    = \"black\")\n",
    "        ax = fig.add_subplot(1, 1, 1, projection=proj)\n",
    "        ax.set_title(valid_time + \"  (\" + local_time+\")\",\n",
    "                        fontsize=15, color=\"black\")\n",
    "        ax.add_feature(cfeature.COASTLINE.with_scale('50m'), linewidth=2)\n",
    "        ax.add_feature(cfeature.STATES.with_scale('50m'),    linestyle=':', edgecolor='black')\n",
    "        ax.add_feature(cfeature.BORDERS.with_scale('50m'),   linewidth=2, edgecolor='black')\n",
    "        \n",
    "\n",
    "        #print(\"range dat = \",np.nanmin(dat.values),np.nanmax(dat.values))\n",
    "        im = ax.imshow(dat[jmin_rap:jmax_rap,imin_rap:imax_rap], \n",
    "                       extent = (x.min(), x.max(), y.min(), y.max()), \n",
    "                       origin = 'upper')\n",
    "\n",
    "        wv_norm, wv_cmap = colortables.get_with_range('WVCIMSS_r', 190, 310)\n",
    "        im.set_cmap(wv_cmap)\n",
    "        im.set_norm(wv_norm)\n",
    "        \n",
    "        #########################################\n",
    "        #\n",
    "        # Insert a Clock\n",
    "        #\n",
    "        \n",
    "        axins = fig.add_axes(rect     =    [0.02,\n",
    "                                            0.81,\n",
    "                                            0.12*0.65306121,\n",
    "                                            0.12],\n",
    "                              projection  =  \"polar\")\n",
    "        \n",
    "        time_for_clock = pd.to_datetime(time_utc).tz_localize(tz=\"UTC\").tz_convert(tz=tz).time()\n",
    "\n",
    "        hour   = time_for_clock.hour\n",
    "        minute = time_for_clock.minute\n",
    "        second = time_for_clock.second\n",
    "        \n",
    "        circle_theta  = np.deg2rad(np.arange(0,360,0.01))\n",
    "        circle_radius = circle_theta * 0 + 1\n",
    "        \n",
    "        if (hour > 12) :\n",
    "            hour = hour - 12\n",
    "        \n",
    "        angles_h = 2*np.pi*hour/12+2*np.pi*minute/(12*60)+2*second/(12*60*60)\n",
    "        angles_m = 2*np.pi*minute/60+2*np.pi*second/(60*60)\n",
    "        \n",
    "        print(time_for_clock)\n",
    "        print(hour,   np.rad2deg(angles_h))\n",
    "        print(minute, np.rad2deg(angles_m))\n",
    "\n",
    "        \n",
    "        plt.setp(axins.get_yticklabels(), visible=False)\n",
    "        plt.setp(axins.get_xticklabels(), visible=False)\n",
    "        axins.spines['polar'].set_visible(False)\n",
    "        axins.set_ylim(0,1)\n",
    "        axins.set_theta_zero_location('N')\n",
    "        axins.set_theta_direction(-1)\n",
    "        axins.set_facecolor(\"white\")\n",
    "        axins.grid(False)\n",
    "        \n",
    "        axins.plot([angles_h,angles_h], [0,0.6], color=\"black\", linewidth=1.5)\n",
    "        axins.plot([angles_m,angles_m], [0,0.95], color=\"black\", linewidth=1.5)\n",
    "        axins.plot(circle_theta, circle_radius, color=\"darkgrey\", linewidth=1)\n",
    "\n",
    "\n",
    "        \n",
    "        #\n",
    "        #########################################             \n",
    "\n",
    "        \n",
    "        plt.tight_layout()\n",
    "        \n",
    "        plt.savefig( dataset_png_file_name)\n",
    "        plt.close()\n",
    "    else:\n",
    "        print(\"We already have this one!\")\n",
    "    \n",
    "\n",
    "#\n",
    "##################################################"
   ]
  },
  {
   "cell_type": "code",
   "execution_count": 19,
   "id": "fa2ad4f9-e8ee-47b4-a4da-8f16f1609e49",
   "metadata": {},
   "outputs": [
    {
     "name": "stdout",
     "output_type": "stream",
     "text": [
      "completed ./graphics_files/RealTime_SAT_IR_SODAK_Loop.gif\n"
     ]
    }
   ],
   "source": [
    "##################################################\n",
    "#\n",
    "# Convert PNGs into an Animated GIF\n",
    "#\n",
    "\n",
    "\n",
    "big_string = \" \".join(file_names_to_use_meso3)\n",
    "\n",
    "os.system(\"convert -delay 15 \" + \n",
    "          big_string + \n",
    "          \" \" + \n",
    "          gif_file_name3)\n",
    "\n",
    "print(\"completed \"+ gif_file_name3)\n",
    "\n",
    "\n",
    "#\n",
    "##################################################"
   ]
  },
  {
   "cell_type": "code",
   "execution_count": null,
   "id": "5883c862-be13-4de1-87a7-9303e3ad99aa",
   "metadata": {},
   "outputs": [],
   "source": []
  },
  {
   "cell_type": "code",
   "execution_count": 20,
   "id": "a95a346d-db1b-4156-895f-7f3e1319a943",
   "metadata": {},
   "outputs": [
    {
     "name": "stdout",
     "output_type": "stream",
     "text": [
      "completed ./graphics_files/RealTime_SAT_IR_Meso12_Loop.gif\n"
     ]
    }
   ],
   "source": [
    "##################################################\n",
    "#\n",
    "# Convert PNGs into an Animated GIF\n",
    "#\n",
    "\n",
    "file_names_to_use_meso12 = file_names_to_use_meso3 + file_names_to_use_meso1 + file_names_to_use_meso2\n",
    "\n",
    "big_string = \" \".join(file_names_to_use_meso12)\n",
    "\n",
    "os.system(\"convert -delay 10 \" + \n",
    "          big_string + \n",
    "          \" \" + \n",
    "          gif_file_name12)\n",
    "\n",
    "print(\"completed \"+gif_file_name12)\n",
    "\n",
    "#\n",
    "##################################################"
   ]
  },
  {
   "cell_type": "code",
   "execution_count": 21,
   "id": "90b4b43e-15ce-4acf-bc3a-9e133da36996",
   "metadata": {},
   "outputs": [
    {
     "name": "stdout",
     "output_type": "stream",
     "text": [
      "--- GOES SD WKT\n",
      "PROJCRS[\"unknown\",BASEGEOGCRS[\"unknown\",DATUM[\"unknown\",ELLIPSOID[\"GRS 1980\",6378137,298.257222096042,LENGTHUNIT[\"metre\",1,ID[\"EPSG\",9001]]]],PRIMEM[\"Greenwich\",0,ANGLEUNIT[\"degree\",0.0174532925199433],ID[\"EPSG\",8901]]],CONVERSION[\"unknown\",METHOD[\"Geostationary Satellite (Sweep X)\"],PARAMETER[\"Longitude of natural origin\",-75,ANGLEUNIT[\"degree\",0.0174532925199433],ID[\"EPSG\",8802]],PARAMETER[\"Satellite Height\",35786023,LENGTHUNIT[\"metre\",1,ID[\"EPSG\",9001]]],PARAMETER[\"False easting\",0,LENGTHUNIT[\"metre\",1],ID[\"EPSG\",8806]],PARAMETER[\"False northing\",0,LENGTHUNIT[\"metre\",1],ID[\"EPSG\",8807]]],CS[Cartesian,2],AXIS[\"(E)\",east,ORDER[1],LENGTHUNIT[\"metre\",1,ID[\"EPSG\",9001]]],AXIS[\"(N)\",north,ORDER[2],LENGTHUNIT[\"metre\",1,ID[\"EPSG\",9001]]],REMARK[\"PROJ CRS string: +proj=geos +a=6378137.0 +b=6356752.31414 +lon_0=-75.00000000000001 +lat_0=0.0 +h=35786023.0 +x_0=0 +y_0=0 +units=m +sweep=x +no_defs\"]]\n",
      "--- GOES SD Extent\n",
      "1.0\n"
     ]
    }
   ],
   "source": [
    "print(\"--- GOES SD WKT\" )\n",
    "print(proj.to_wkt())\n",
    "print(\"--- GOES SD Extent\")\n",
    "print(ax.get_aspect())"
   ]
  },
  {
   "cell_type": "code",
   "execution_count": null,
   "id": "13dfbf26",
   "metadata": {},
   "outputs": [],
   "source": []
  },
  {
   "cell_type": "code",
   "execution_count": null,
   "id": "3be7e015",
   "metadata": {},
   "outputs": [],
   "source": []
  },
  {
   "cell_type": "code",
   "execution_count": null,
   "id": "8ea01c71",
   "metadata": {},
   "outputs": [],
   "source": []
  },
  {
   "cell_type": "code",
   "execution_count": null,
   "id": "85f6fbe2",
   "metadata": {},
   "outputs": [],
   "source": []
  },
  {
   "cell_type": "code",
   "execution_count": null,
   "id": "9fb413b3",
   "metadata": {},
   "outputs": [],
   "source": []
  }
 ],
 "metadata": {
  "kernelspec": {
   "display_name": "Python 3 (ipykernel)",
   "language": "python",
   "name": "python3"
  },
  "language_info": {
   "codemirror_mode": {
    "name": "ipython",
    "version": 3
   },
   "file_extension": ".py",
   "mimetype": "text/x-python",
   "name": "python",
   "nbconvert_exporter": "python",
   "pygments_lexer": "ipython3",
   "version": "3.9.12"
  }
 },
 "nbformat": 4,
 "nbformat_minor": 5
}
