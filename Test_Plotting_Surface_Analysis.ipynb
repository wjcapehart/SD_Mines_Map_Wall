{
 "cells": [
  {
   "cell_type": "markdown",
   "metadata": {},
   "source": [
    "\n",
    "\n",
    "# Plotting Fronts\n",
    "\n",
    "This uses MetPy to decode text surface analysis bulletins from the Weather Prediction Center.\n",
    "The features in this bulletin are then plotted on a map, making use of MetPy's various\n",
    "path effects for matplotlib than can be used to represent a line as a traditional front.\n"
   ]
  },
  {
   "cell_type": "code",
   "execution_count": 1,
   "metadata": {
    "collapsed": false,
    "jupyter": {
     "outputs_hidden": false
    }
   },
   "outputs": [],
   "source": [
    "import pandas as pd\n",
    "import xarray as xr\n",
    "import numpy as np\n",
    "import datetime as dt\n",
    "import matplotlib.ticker as mticker\n",
    "import matplotlib.pyplot as plt\n",
    "import matplotlib        as mpl\n",
    "import matplotlib.colors as mcolors\n",
    "\n",
    "import timezonefinder    as tzf\n",
    "import pytz              as pytz\n",
    "import urllib    as urllib\n",
    "import shutil\n",
    "import metpy as metpy\n",
    "import cartopy.crs       as ccrs\n",
    "import cartopy.feature   as cfeature\n",
    "\n",
    "import os                as     os\n",
    "import pygrib            as pygrib\n",
    "\n",
    "from metpy.cbook import get_test_data\n",
    "from metpy.io import parse_wpc_surface_bulletin\n",
    "from metpy.plots import (add_metpy_logo, ColdFront, OccludedFront, StationaryFront,\n",
    "                         StationPlot, WarmFront)\n",
    "\n",
    "working_dir = \"./temp_sfc_analysis/\"\n",
    "\n",
    "tz='America/Denver'\n",
    "\n",
    "\n",
    "\n",
    "####################################################\n",
    "####################################################\n",
    "####################################################\n",
    "#\n",
    "# Mines Colors and Fonts\n",
    "#\n",
    "\n",
    "Mines_Blue = \"#002554\"\n",
    "\n",
    "\n",
    "plt.rcParams.update({'text.color'      : Mines_Blue,\n",
    "                     'axes.labelcolor' : Mines_Blue,\n",
    "\t\t\t\t\t 'axes.edgecolor'  : Mines_Blue,\n",
    "\t\t\t\t\t 'xtick.color'     : Mines_Blue,\n",
    "\t\t\t\t\t 'ytick.color'     : Mines_Blue})\n",
    "\n",
    "\n",
    "#\n",
    "####################################################\n",
    "####################################################\n",
    "####################################################\n",
    "\n"
   ]
  },
  {
   "cell_type": "markdown",
   "metadata": {},
   "source": [
    "Get Wweather LUT\n",
    "\n"
   ]
  },
  {
   "cell_type": "code",
   "execution_count": 2,
   "metadata": {},
   "outputs": [
    {
     "name": "stdout",
     "output_type": "stream",
     "text": [
      "2024-01-30 17:26:56.966106\n",
      "2024-01-30 17:26:56.966198\n",
      "2024-01-30 18:00:00\n"
     ]
    }
   ],
   "source": [
    "\n",
    "#display(time_frame)\n",
    "print(pd.Timestamp.now().to_pydatetime())\n",
    "print(pd.Timestamp.now().to_pydatetime()  )\n",
    "print(pd.Timestamp.now().round('3h').to_pydatetime())"
   ]
  },
  {
   "cell_type": "markdown",
   "metadata": {},
   "source": [
    "lag_hours = 1\n",
    "lag_minutes = 60\n",
    "\n",
    "\n",
    "time_data = np.arange('2024-01-26T03', '2024-01-26T15',15, dtype='datetime64[m]')\n",
    "\n",
    "time_data_3 = pd.to_datetime(  time_data - np.timedelta64(90,'m') - np.timedelta64(lag_minutes,'m' ) ).round('3h')\n",
    "\n",
    "time_frame = pd.DataFrame(data={\"Now\":time_data})\n",
    "time_frame[\"Past_Nearest_3\"] = time_data_3 \n",
    "time_frame[\"time_diff\"]      = time_frame[\"Now\"] - time_frame[\"Past_Nearest_3\"]\n",
    "\n",
    "time_frame"
   ]
  },
  {
   "cell_type": "code",
   "execution_count": null,
   "metadata": {},
   "outputs": [],
   "source": []
  },
  {
   "cell_type": "markdown",
   "metadata": {},
   "source": [
    "### Timings for each run\n",
    "\n",
    "The Realtime WRF is generated every 6 hr at best.  The model takes 3 hr to \n",
    "\n",
    "| Model Product Time (UTC) | Wallclock Start Time (UTC) |\n",
    "|:------------------------:|:--------------------------:|\n",
    "|        00 UTC            |        03 UTC              |\n",
    "|        06 UTC            |        09 UTC              |\n",
    "|        12 UTC            |        15 UTC              |\n",
    "|        18 UTC            |        21 UTC              |"
   ]
  },
  {
   "cell_type": "code",
   "execution_count": 3,
   "metadata": {
    "editable": true,
    "slideshow": {
     "slide_type": ""
    },
    "tags": []
   },
   "outputs": [
    {
     "name": "stdout",
     "output_type": "stream",
     "text": [
      "Current Time  2024-01-31 00:26:56.973369\n",
      "Product Time  2024-01-30 21:00:00\n",
      "  Label Time  2024-01-30 2100 UTC\n",
      " Fronts Time  20240130_2100\n",
      "   NDFD Time  20240130_2000\n"
     ]
    }
   ],
   "source": [
    "####################################################\n",
    "####################################################\n",
    "####################################################\n",
    "#\n",
    "# Identify Specific Run by Wall Clock Window\n",
    "#\n",
    "\n",
    "beta_on   = 0\n",
    "lag_hours = 1\n",
    "lag_minutes = 90\n",
    "\n",
    "current_datetime = dt.datetime.utcnow()\n",
    "\n",
    "\n",
    "\n",
    "map_datetime  =  pd.to_datetime( (current_datetime - dt.timedelta(minutes=90)) - dt.timedelta(minutes=lag_minutes)  ).round('3h')\n",
    "ndfd_datetime =  map_datetime - dt.timedelta(hours=1)\n",
    "    \n",
    "\n",
    "\n",
    "#\n",
    "# Burn Current Time to File in WRF Root Directory\n",
    "#\n",
    "\n",
    "\n",
    "product_string_YYYY_MM_DD_HH00UTC =  map_datetime.strftime(\"%Y-%m-%d %H00 UTC\")\n",
    "fronts_date_YYYYMMDD_HH00         =  map_datetime.strftime(\"%Y%m%d_%H00\")\n",
    "ndfd_date_YYYYMMDD_HH00           = ndfd_datetime.strftime(\"%Y%m%d_%H00\")\n",
    "\n",
    "print(\"Current Time \", current_datetime)\n",
    "print(\"Product Time \", map_datetime)\n",
    "print(\"  Label Time \", product_string_YYYY_MM_DD_HH00UTC)\n",
    "print(\" Fronts Time \", fronts_date_YYYYMMDD_HH00)\n",
    "print(\"   NDFD Time \", ndfd_date_YYYYMMDD_HH00)\n",
    "\n",
    "\n",
    "#\n",
    "####################################################\n",
    "####################################################\n",
    "####################################################"
   ]
  },
  {
   "cell_type": "code",
   "execution_count": 4,
   "metadata": {
    "editable": true,
    "slideshow": {
     "slide_type": ""
    },
    "tags": []
   },
   "outputs": [
    {
     "data": {
      "text/plain": [
       "'20240130_2100'"
      ]
     },
     "execution_count": 4,
     "metadata": {},
     "output_type": "execute_result"
    }
   ],
   "source": [
    "fronts_date_YYYYMMDD_HH00"
   ]
  },
  {
   "cell_type": "markdown",
   "metadata": {},
   "source": [
    "Pull Fronts\n",
    "\n",
    "https://thredds.ucar.edu/thredds/catalog/noaaport/text/fronts/catalog.html"
   ]
  },
  {
   "cell_type": "code",
   "execution_count": 5,
   "metadata": {},
   "outputs": [
    {
     "name": "stdout",
     "output_type": "stream",
     "text": [
      "downloading https://thredds.ucar.edu/thredds/fileServer/noaaport/text/fronts/Fronts_highres_KWBC_20240130_2100.txt\n",
      "         to ./fronts.txt\n"
     ]
    }
   ],
   "source": [
    "fronts_url = \"https://thredds.ucar.edu/thredds/fileServer/\" +  \\\n",
    "             \"noaaport/text/fronts/Fronts_highres_KWBC_\"    +  \\\n",
    "             fronts_date_YYYYMMDD_HH00 + \".txt\"\n",
    "\n",
    "temp_front_file = \"./fronts.txt\"\n",
    "\n",
    "\n",
    "print(\"downloading \"+ fronts_url)\n",
    "print(\"         to \"+ temp_front_file)\n",
    "\n",
    "\n",
    "urllib.request.urlretrieve(fronts_url, temp_front_file)\n",
    "\n",
    "df = parse_wpc_surface_bulletin(temp_front_file)\n",
    "\n"
   ]
  },
  {
   "cell_type": "markdown",
   "metadata": {},
   "source": [
    "Gridded Analyses\n",
    "\n",
    "https://thredds.ucar.edu/thredds/catalog/grib/NCEP/NDFD/NWS/CONUS/CONDUIT/catalog.html\n",
    "\n",
    "```\n",
    "374:267673420:vt=2024013021:surface:70 hour fcst:WX Weather information [WxInfo]:\n",
    "    ndata=2953665:undef=1479384:mean=1.29788:min=0:max=40\n",
    "    grid_template=30:winds(N/S):\n",
    "\tLambert Conformal: (2145 x 1377) input WE|EW:SN output WE:SN res 0\n",
    "\tLat1 20.191999 Lon1 238.445999 LoV 265.000000\n",
    "\tLatD 25.000000 Latin1 25.000000 Latin2 25.000000\n",
    "\tLatSP -90.000000 LonSP 0.000000\n",
    "\tNorth Pole (2145 x 1377) Dx 2539.703000 m Dy 2539.703000 m \n",
    "```"
   ]
  },
  {
   "cell_type": "markdown",
   "metadata": {},
   "source": [
    "ndfd_url  = \"https://thredds.ucar.edu/thredds/dodsC/\" +  \\\n",
    "            \"grib/NCEP/NDFD/NWS/CONUS/CONDUIT/\"       +  \\\n",
    "            \"NDFD_NWS_CONUS_conduit_2p5km_\"           + \\\n",
    "            ndfd_date_YYYYMMDD_HH00 + \".grib2\"\n",
    "\n",
    "ndfd_http = \"https://thredds.ucar.edu/thredds/fileServer/\" + \\\n",
    "            \"grib/NCEP/NDFD/NWS/CONUS/CONDUIT/\"       +  \\\n",
    "            \"NDFD_NWS_CONUS_conduit_2p5km_\"           + \\\n",
    "            ndfd_date_YYYYMMDD_HH00 + \".grib2\"\n",
    "\n",
    "print(\"cracking NDFD grib file \"+ndfd_url)\n",
    "\n",
    "ds_ndfd   = xr.open_dataset(filename_or_obj=ndfd_url)\n",
    "\n",
    "ds_ndfd   = ds_ndfd.metpy.parse_cf()\n",
    "ndfd_crs  = ds_ndfd.metpy_crs.metpy.cartopy_crs\n",
    "\n",
    "wx_code = ds_ndfd[\"Weather_string_surface\"][0,:,:]   #.sel(time3=map_datetime)\n",
    "wx_code.values[wx_code.values==0]=[np.nan]\n",
    "print(\"Weather Time Stamp:\",wx_code.coords)\n",
    "\n",
    "\n",
    "\n",
    "\n",
    "\n",
    "\n",
    "\n",
    "\n",
    "\n",
    "fig = plt.figure(figsize=[11,8])\n",
    "ax  = plt.subplot(1, 1, 1,\n",
    "                  projection = ndfd_crs)\n",
    "wx_code.plot(cmap = \"nipy_spectral\")\n",
    "ax.add_feature(cfeature.STATES.with_scale('50m'),    \n",
    "               linewidth = 0.25, \n",
    "               edgecolor = \"grey\")\n",
    "plt.show()\n",
    "\n"
   ]
  },
  {
   "cell_type": "code",
   "execution_count": null,
   "metadata": {},
   "outputs": [],
   "source": []
  },
  {
   "cell_type": "markdown",
   "metadata": {
    "editable": true,
    "slideshow": {
     "slide_type": ""
    },
    "tags": []
   },
   "source": [
    "Best Forecast Fields"
   ]
  },
  {
   "cell_type": "markdown",
   "metadata": {},
   "source": [
    "url_ndfd = \"https://thredds.ucar.edu/thredds/dodsC/grib/NCEP/NDFD/NWS/CONUS/NOAAPORT/NDFD_NWS_CONUS_2p5km_20240121_0000.grib2\"\n",
    "\n",
    "ds_ndfd2   = xr.open_dataset(filename_or_obj=url_ndfd)\n",
    "ds_ndfd2   = ds_ndfd2.metpy.parse_cf()\n",
    "\n",
    "proj_ndfd = ds_ndfd2.metpy_crs.metpy.cartopy_crs\n",
    "\n",
    "\n",
    "fig = plt.figure(figsize   = [11, 8], \n",
    "                 facecolor = 'white')\n",
    "\n",
    "ax = fig.add_subplot(1, 1, 1, \n",
    "                     projection=proj_ndfd)\n",
    "\n",
    "ds_ndfd[\"Categorical_Rain_surface\"][2,:,:].plot.imshow(ax=ax)\n",
    "\n",
    "ax.add_feature(cfeature.STATES.with_scale('50m'),    \n",
    "               linewidth = 0.25, \n",
    "               edgecolor = \"white\")\n",
    "\n",
    "\n",
    "plt.show()"
   ]
  },
  {
   "cell_type": "markdown",
   "metadata": {},
   "source": [
    "MSLP from HRRR\n",
    "\n",
    "https://thredds.ucar.edu/thredds/dodsC/grib/NCEP/RAP/CONUS_40km/RR_CONUS_40km_20240126_1200.grib2\n",
    "\n",
    "https://thredds.ucar.edu/thredds/dodsC/grib/NCEP/RAP/CONUS_40km/RR_CONUS_40km_20240126_1200.grib2\n",
    "\n",
    "MSLP_MAPS_System_Reduction_msl"
   ]
  },
  {
   "cell_type": "code",
   "execution_count": 6,
   "metadata": {},
   "outputs": [
    {
     "name": "stdout",
     "output_type": "stream",
     "text": [
      "cracking HRRR grib file https://thredds.ucar.edu/thredds/dodsC/grib/NCEP/RAP/CONUS_20km/RR_CONUS_20km_20240130_2100.grib2\n"
     ]
    }
   ],
   "source": [
    "hrrr_url = \"https://thredds.ucar.edu/thredds/dodsC/\" +  \\\n",
    "           \"grib/NCEP/RAP/CONUS_20km/\"               +  \\\n",
    "           \"RR_CONUS_20km_\"                          + \\\n",
    "           fronts_date_YYYYMMDD_HH00 + \".grib2\"\n",
    "\n",
    "mslp_name = \"MSLP_MAPS_System_Reduction_msl\"\n",
    "\n",
    "\n",
    "print(\"cracking HRRR grib file \"+hrrr_url)\n",
    "\n",
    "ds_hrrr       = xr.open_dataset(filename_or_obj=hrrr_url)\n",
    "hrrr_time_dim = ds_hrrr[mslp_name].dims[0]\n",
    "\n",
    "\n",
    "ds_hrrr   = ds_hrrr.metpy.parse_cf()\n",
    "hrrr_crs  = ds_hrrr.metpy_crs.metpy.cartopy_crs\n",
    "\n",
    "mslp        = ds_hrrr[\"MSLP_MAPS_System_Reduction_msl\"][0,:,:]   #.sel(hrrr_time_dim=map_datetime)\n",
    "mslp.values = mslp.values / 100\n",
    "\n",
    "\n",
    "\n",
    "\n",
    "\n",
    "rain = ds_hrrr[         \"Categorical_Rain_surface\"][0,:,:] \n",
    "snow = ds_hrrr[         \"Categorical_Snow_surface\"][0,:,:] \n",
    "icep = ds_hrrr[  \"Categorical_Ice_Pellets_surface\"][0,:,:] \n",
    "frzr = ds_hrrr[\"Categorical_Freezing_Rain_surface\"][0,:,:] \n",
    "\n",
    "water_equiv =  ds_hrrr[\"Total_precipitation_surface_Mixed_intervals_Accumulation\"][0,:,:]\n",
    "\n",
    "max_rain =  1.00\n",
    "min_rain =  0.03\n",
    "water_equiv.values[water_equiv.values < min_rain] = [0] \n",
    "water_equiv.values[water_equiv.values > max_rain] = [max_rain] \n",
    "water_equiv.values = (water_equiv.values-0)/(max_rain-0)\n",
    "\n",
    "\n",
    "rain.values[rain.values == 0] = [np.nan] \n",
    "snow.values[snow.values == 0] = [np.nan]\n",
    "icep.values[icep.values == 0] = [np.nan]\n",
    "frzr.values[frzr.values == 0] = [np.nan]\n",
    "\n"
   ]
  },
  {
   "cell_type": "code",
   "execution_count": null,
   "metadata": {},
   "outputs": [],
   "source": []
  },
  {
   "cell_type": "code",
   "execution_count": 7,
   "metadata": {},
   "outputs": [],
   "source": [
    "def plot_clock_stationary(fig,time_utc):\n",
    "    #####################################################\n",
    "#\n",
    "\n",
    "    axins = fig.add_axes(rect     =    [0,\n",
    "                                        1-0.12, #0.015,\n",
    "                                        0.12*8/9,\n",
    "                                        0.12],\n",
    "                          projection  =  \"polar\")\n",
    "    \n",
    "    time_for_clock = pd.to_datetime(time_utc).tz_localize(tz=\"UTC\").tz_convert(tz=tz).time()\n",
    "    \n",
    "    hour   = time_for_clock.hour\n",
    "    minute = time_for_clock.minute\n",
    "    second = time_for_clock.second\n",
    "    \n",
    "    \n",
    "    if ((hour >= 6) and (hour < 18)):\n",
    "        Clock_Color = Mines_Blue\n",
    "        Clock_BgndC = \"white\"           \n",
    "    else:\n",
    "        Clock_Color = \"white\"\n",
    "        Clock_BgndC = Mines_Blue               \n",
    "    \n",
    "    \n",
    "    circle_theta  = np.deg2rad(np.arange(0,360,0.01))\n",
    "    circle_radius = circle_theta * 0 + 1\n",
    "    \n",
    "    if (hour > 12) :\n",
    "        hour = hour - 12\n",
    "    \n",
    "    angles_h = 2*np.pi*hour/12+2*np.pi*minute/(12*60)+2*second/(12*60*60)\n",
    "    angles_m = 2*np.pi*minute/60+2*np.pi*second/(60*60)\n",
    "    \n",
    "\n",
    "    \n",
    "    \n",
    "    plt.setp(axins.get_yticklabels(), visible=False)\n",
    "    plt.setp(axins.get_xticklabels(), visible=False)\n",
    "    axins.spines['polar'].set_visible(False)\n",
    "    axins.set_ylim(0,1)\n",
    "    axins.set_theta_zero_location('N')\n",
    "    axins.set_theta_direction(-1)\n",
    "    axins.set_facecolor(Clock_BgndC)\n",
    "    axins.grid(False)\n",
    "    \n",
    "    axins.plot([angles_h,angles_h], [0,0.60], color=Clock_Color, linewidth=1.5, zorder=99999)\n",
    "    axins.plot([angles_m,angles_m], [0,0.95], color=Clock_Color, linewidth=1.5, zorder=99999)\n",
    "    axins.plot(circle_theta, circle_radius,  color=Mines_Blue, linewidth=1, zorder=99999)\n",
    "#\n",
    "##################################################"
   ]
  },
  {
   "cell_type": "code",
   "execution_count": 8,
   "metadata": {},
   "outputs": [],
   "source": [
    "def plot_bulletin(ax, data):\n",
    "    \"\"\"Plot a dataframe of surface features on a map.\"\"\"\n",
    "    # Set some default visual styling\n",
    "    size = 9\n",
    "    fontsize = 10\n",
    "    HLfontsize = 30\n",
    "    spacing = 2\n",
    "\n",
    "    \n",
    "    complete_style = { 'HIGH': {'color': 'blue', 'fontsize': HLfontsize},\n",
    "                        'LOW': {'color': 'red', 'fontsize': HLfontsize},\n",
    "                       'WARM': {'linewidth': 1, 'path_effects': [WarmFront(size=size, spacing=spacing)]},\n",
    "                       'COLD': {'linewidth': 1, 'path_effects': [ColdFront(size=size, spacing=spacing)]},\n",
    "                      'OCFNT': {'linewidth': 1, 'path_effects': [OccludedFront(size=size, spacing=spacing)]},\n",
    "                      'STNRY': {'linewidth': 1, 'path_effects': [StationaryFront(size=size, spacing=spacing)]},\n",
    "                       'TROF': {'linewidth': 2, 'linestyle': 'dashed',\n",
    "                                'edgecolor': 'darkred'}}\n",
    "\n",
    "    complete_stylet = {'HIGH': {'color': 'blue', 'fontsize': fontsize},\n",
    "                      'LOW': {'color': 'red', 'fontsize': fontsize},\n",
    "                      'WARM': {'linewidth': 1, 'path_effects': [WarmFront(size=size, spacing=spacing)]},\n",
    "                      'COLD': {'linewidth': 1, 'path_effects': [ColdFront(size=size, spacing=1)]},\n",
    "                      'OCFNT': {'linewidth': 1, 'path_effects': [OccludedFront(size=size, spacing=1)]},\n",
    "                      'STNRY': {'linewidth': 1, 'path_effects': [StationaryFront(size=size, spacing=1)]},\n",
    "                      'TROF': {'linewidth': 2, 'linestyle': 'dashed',\n",
    "                               'edgecolor': 'darkred'}}\n",
    "\n",
    "\n",
    "    # Handle H/L points using MetPy's StationPlot class\n",
    "    for field in ('HIGH', 'LOW'):\n",
    "        rows = data[data.feature == field]\n",
    "        x, y = zip(*((pt.x, pt.y) for pt in rows.geometry))\n",
    "        sp = StationPlot(ax, x, y, transform=ccrs.PlateCarree(), clip_on=True)\n",
    "        sp.plot_text('C', [field[0]] * len(x), **complete_style[field])\n",
    "        sp.plot_parameter('S2', rows.strength, **complete_stylet[field])\n",
    "\n",
    "    \n",
    "    # Handle all the boundary types\n",
    "    for field in ('WARM', 'COLD', 'STNRY', 'OCFNT', 'TROF'):\n",
    "        rows = data[data.feature == field]\n",
    "        ax.add_geometries(rows.geometry, crs=ccrs.PlateCarree(), **complete_style[field],\n",
    "                          facecolor='none')\n"
   ]
  },
  {
   "cell_type": "code",
   "execution_count": null,
   "metadata": {},
   "outputs": [],
   "source": []
  },
  {
   "cell_type": "code",
   "execution_count": null,
   "metadata": {},
   "outputs": [],
   "source": [
    "\n",
    "\n",
    "\n",
    "\n",
    "\n",
    "\n",
    "\n",
    "\n",
    "\n"
   ]
  },
  {
   "cell_type": "markdown",
   "metadata": {},
   "source": [
    "\n"
   ]
  },
  {
   "cell_type": "code",
   "execution_count": null,
   "metadata": {
    "collapsed": false,
    "jupyter": {
     "outputs_hidden": false
    }
   },
   "outputs": [],
   "source": []
  },
  {
   "cell_type": "markdown",
   "metadata": {},
   "source": []
  },
  {
   "cell_type": "code",
   "execution_count": 9,
   "metadata": {
    "collapsed": false,
    "jupyter": {
     "outputs_hidden": false
    }
   },
   "outputs": [
    {
     "name": "stdout",
     "output_type": "stream",
     "text": [
      "./temp_sfc_analysis/NWS_Sfc_Analysis.png -> ./graphics_files/NWS_Sfc_Analysis.png\n"
     ]
    },
    {
     "data": {
      "text/plain": [
       "0"
      ]
     },
     "execution_count": 9,
     "metadata": {},
     "output_type": "execute_result"
    }
   ],
   "source": [
    "# Set up a default figure and map\n",
    "\n",
    "\n",
    "myproj = ccrs.AlbersEqualArea(central_longitude  = -96.0, \n",
    "                              central_latitude   =  37.5, \n",
    "                              false_easting      =   0.0, \n",
    "                              false_northing     =   0.0, \n",
    "                              standard_parallels = (29.5, 45.5))\n",
    "\n",
    "bbox = [-125,  -67,\n",
    "          23,   53] \n",
    "\n",
    "bbox = [-125,  -67,\n",
    "          23,   52] \n",
    "\n",
    "Lx = 14.152777777777779  \n",
    "Ly =  9.88888888888889\n",
    "\n",
    "\n",
    "time_utc = df[\"valid\"][0].to_pydatetime()\n",
    "valid_time = pd.to_datetime(time_utc).tz_localize(tz=\"UTC\").strftime(\"%Y-%m-%d %H%M %Z\")\n",
    "local_time = pd.to_datetime(time_utc).tz_localize(tz=\"UTC\").tz_convert(tz=tz).strftime(\"%Y-%m-%d %H%M %Z\")\n",
    "\n",
    "\n",
    "\n",
    "\n",
    "\n",
    "fig = plt.figure(figsize   = [Lx, Ly], \n",
    "                 facecolor = 'white')\n",
    "\n",
    "ax = fig.add_subplot(1, 1, 1, \n",
    "                     projection=myproj)\n",
    "\n",
    "plt.subplots_adjust(left   = 0.01, \n",
    "                    right  = 0.99, \n",
    "                    top    = 0.99, \n",
    "                    bottom = 0, \n",
    "                    wspace = 0)\n",
    "\n",
    "ax.add_feature(cfeature.COASTLINE.with_scale('50m'), \n",
    "               linewidth = 0.5,\n",
    "               edgecolor = Mines_Blue)\n",
    "ax.add_feature(cfeature.STATES.with_scale('50m'),    \n",
    "               linewidth = 0.25, \n",
    "               edgecolor = Mines_Blue)\n",
    "ax.add_feature(cfeature.LAKES.with_scale('50m'),   \n",
    "               linewidth = 0.5,\n",
    "               facecolor = \"none\", \n",
    "               edgecolor = Mines_Blue)\n",
    "\n",
    "ax.set_frame_on(False)\n",
    "\n",
    "ax.set_extent(bbox, crs=ccrs.PlateCarree())\n",
    "\n",
    "\n",
    "###############################\n",
    "#\n",
    "# Fonts Fields\n",
    "#\n",
    "\n",
    "plot_bulletin(ax, df)\n",
    "\n",
    "#\n",
    "###############################\n",
    "\n",
    "###############################\n",
    "#\n",
    "# NDFD Weather\n",
    "#\n",
    "#\n",
    "#wx_code.plot.imshow(ax=ax, \n",
    "#                    alpha = 0.95,\n",
    "#                    add_colorbar = False,\n",
    "#                   transform = ndfd_crs,\n",
    "#                   cmap = \"nipy_spectral\")\n",
    "#\n",
    "#\n",
    "###############################\n",
    "\n",
    "###############################\n",
    "#\n",
    "# HRRR Weather\n",
    "#\n",
    "\n",
    "rain.plot.imshow(ax = ax, alpha = water_equiv.values, cmap =  \"Greens\", add_colorbar = False, transform = hrrr_crs)\n",
    "snow.plot.imshow(ax = ax, alpha = water_equiv.values, cmap =   \"Blues\", add_colorbar = False, transform = hrrr_crs)\n",
    "icep.plot.imshow(ax = ax, alpha = water_equiv.values, cmap = \"Purples\", add_colorbar = False, transform = hrrr_crs)\n",
    "frzr.plot.imshow(ax = ax, alpha = water_equiv.values, cmap =    \"Reds\", add_colorbar = False, transform = hrrr_crs)\n",
    "\n",
    "#\n",
    "###############################\n",
    "\n",
    "\n",
    "###############################\n",
    "#\n",
    "# HRRR Weather\n",
    "#\n",
    "\n",
    "clevels = np.arange(900,1200,4)\n",
    "mslpplot = mslp.plot.contour(ax     = ax,\n",
    "                             colors  = \"#001633\",\n",
    "                             levels = clevels,\n",
    "                             transform = hrrr_crs)\n",
    "ax.clabel(mslpplot, \n",
    "          levels = mslpplot.levels, \n",
    "          colors = \"#001633\",\n",
    "          inline=True, \n",
    "          fontsize=10)\n",
    "#\n",
    "###############################\n",
    "\n",
    "\n",
    "\n",
    "plt.suptitle(\"NWS-WPC Surface Analysis\",\n",
    "             fontsize = 30, \n",
    "             color    = Mines_Blue)\n",
    "\n",
    "plot_clock_stationary(fig, time_utc)\n",
    "ax.set_title(valid_time + \"  (\" + local_time+\")\",\n",
    "             fontsize=20, \n",
    "             color=Mines_Blue)\n",
    "\n",
    "plt.savefig(\"./temp_sfc_analysis/NWS_Sfc_Analysis.png\",\n",
    "                        facecolor   = 'white', \n",
    "                        transparent =   False)\n",
    "\n",
    "\n",
    "plt.close()\n",
    "os.system(\"mv -fv ./temp_sfc_analysis/NWS_Sfc_Analysis.png ./graphics_files/\")\n",
    "\n",
    "\n",
    "\n"
   ]
  },
  {
   "cell_type": "code",
   "execution_count": null,
   "metadata": {},
   "outputs": [],
   "source": []
  },
  {
   "cell_type": "code",
   "execution_count": 10,
   "metadata": {},
   "outputs": [
    {
     "name": "stdout",
     "output_type": "stream",
     "text": [
      "Current Time  2024-01-31 00:26:56.973369\n",
      "Product Time  2024-01-30 21:00:00\n",
      "  Label Time  2024-01-30 2100 UTC\n",
      " \n",
      "- Fronts Time  20240130_2100\n",
      " \n",
      "--- MSLP Time  Coordinates:\n",
      "    reftime    datetime64[ns] 2024-01-30T21:00:00\n",
      "    time1      datetime64[ns] 2024-01-30T21:00:00\n",
      "  * x          (x) float32 -3.332e+06 -3.312e+06 ... 2.743e+06 2.763e+06\n",
      "  * y          (y) float32 -5.889e+05 -5.686e+05 ... 3.942e+06 3.962e+06\n",
      "    metpy_crs  object Projection: lambert_conformal_conic\n",
      " \n",
      "--- PREC Time  Coordinates:\n",
      "    reftime    datetime64[ns] 2024-01-30T21:00:00\n",
      "    time3      datetime64[ns] 2024-01-30T22:00:00\n",
      "  * x          (x) float32 -3.332e+06 -3.312e+06 ... 2.743e+06 2.763e+06\n",
      "  * y          (y) float32 -5.889e+05 -5.686e+05 ... 3.942e+06 3.962e+06\n",
      "    metpy_crs  object Projection: lambert_conformal_conic\n"
     ]
    }
   ],
   "source": [
    "print(\"Current Time \", current_datetime)\n",
    "print(\"Product Time \", map_datetime)\n",
    "print(\"  Label Time \", product_string_YYYY_MM_DD_HH00UTC)\n",
    "print(\" \")\n",
    "print(\"- Fronts Time \", fronts_date_YYYYMMDD_HH00)\n",
    "print(\" \")\n",
    "print(\"--- MSLP Time \", mslp.coords)\n",
    "print(\" \")\n",
    "print(\"--- PREC Time \", water_equiv.coords)\n"
   ]
  },
  {
   "cell_type": "code",
   "execution_count": null,
   "metadata": {},
   "outputs": [],
   "source": []
  },
  {
   "cell_type": "code",
   "execution_count": null,
   "metadata": {},
   "outputs": [],
   "source": []
  }
 ],
 "metadata": {
  "kernelspec": {
   "display_name": "Python 3 (ipykernel)",
   "language": "python",
   "name": "python3"
  },
  "language_info": {
   "codemirror_mode": {
    "name": "ipython",
    "version": 3
   },
   "file_extension": ".py",
   "mimetype": "text/x-python",
   "name": "python",
   "nbconvert_exporter": "python",
   "pygments_lexer": "ipython3",
   "version": "3.11.6"
  }
 },
 "nbformat": 4,
 "nbformat_minor": 4
}
