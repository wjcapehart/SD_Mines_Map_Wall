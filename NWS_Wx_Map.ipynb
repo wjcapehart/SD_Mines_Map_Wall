{
 "cells": [
  {
   "cell_type": "markdown",
   "id": "8cfd857e-f849-4522-893a-b66a76035204",
   "metadata": {},
   "source": [
    "# Add Clock to NWS Map.\n",
    "\n",
    "## Libraries"
   ]
  },
  {
   "cell_type": "code",
   "execution_count": 1,
   "id": "017e3489-bd1d-414f-986f-7bb5655f8e8b",
   "metadata": {},
   "outputs": [],
   "source": [
    "from   mpl_toolkits.axes_grid1.inset_locator import inset_axes\n",
    "\n",
    "\n",
    "import urllib.request\n",
    "import shutil\n",
    "\n",
    "import matplotlib.pyplot as plt\n",
    "from matplotlib.patches import Rectangle\n",
    "\n",
    "from PIL import Image\n",
    "import numpy as np\n",
    "from datetime import datetime, timedelta\n",
    "\n",
    "import pytz as pytz\n",
    "import os as os\n",
    "\n",
    "\n",
    "import timezonefinder as tzf\n",
    "\n",
    "import pandas            as pd\n",
    "\n",
    "\n",
    "\n",
    "# https://www.wpc.ncep.noaa.gov/basicwx/ndfd_overlay_loop.txt\n",
    "# https://www.wpc.ncep.noaa.gov/basicwx/91fndfd.gif"
   ]
  },
  {
   "cell_type": "markdown",
   "id": "4db565c1-19ec-45ef-9b14-27394de20773",
   "metadata": {},
   "source": [
    "## Colors"
   ]
  },
  {
   "cell_type": "code",
   "execution_count": 2,
   "id": "0ff128c0-71ea-4646-b859-b8c4563cdc6d",
   "metadata": {},
   "outputs": [],
   "source": [
    "####################################################\n",
    "####################################################\n",
    "####################################################\n",
    "#\n",
    "# Mines Colors and Fonts\n",
    "#\n",
    "\n",
    "Mines_Blue = \"#002554\"\n",
    "\n",
    "\n",
    "plt.rcParams.update({'text.color'      : Mines_Blue,\n",
    "                     'axes.labelcolor' : Mines_Blue,\n",
    "\t\t\t\t\t 'axes.edgecolor'  : Mines_Blue,\n",
    "\t\t\t\t\t 'xtick.color'     : Mines_Blue,\n",
    "\t\t\t\t\t 'ytick.color'     : Mines_Blue})\n",
    "\n",
    "#\n",
    "####################################################\n",
    "####################################################\n",
    "####################################################"
   ]
  },
  {
   "cell_type": "markdown",
   "id": "483e9de6-a30e-4683-9c4d-390a57254243",
   "metadata": {},
   "source": [
    "## Pull Data"
   ]
  },
  {
   "cell_type": "code",
   "execution_count": 3,
   "id": "7fc984d4-8568-48ca-85e0-b711d0bd2f31",
   "metadata": {},
   "outputs": [
    {
     "name": "stdout",
     "output_type": "stream",
     "text": [
      "./temp_sfc_analysis/6_hour.txt\n",
      "./temp_sfc_analysis/91fndfd.gif\n",
      "downloading https://www.wpc.ncep.noaa.gov/basicwx/91fndfd.gif\n",
      "downloading https://www.wpc.ncep.noaa.gov/basicwx/6_hour.txt\n"
     ]
    }
   ],
   "source": [
    "\n",
    "os.system(\"rm -frv ./temp_sfc_analysis/*\")\n",
    "\n",
    "url_map_overlay  = \"https://www.wpc.ncep.noaa.gov/basicwx/91fndfd.gif\"\n",
    "file_map_overlay = \"./temp_sfc_analysis/91fndfd.gif\"\n",
    "\n",
    "\n",
    "url_map_data     = \"https://www.wpc.ncep.noaa.gov/basicwx/6_hour.txt\"\n",
    "file_map_data    = \"./temp_sfc_analysis/6_hour.txt\"\n",
    "\n",
    "print(\"downloading \"+ url_map_overlay)\n",
    "with urllib.request.urlopen(url_map_overlay) as response, open(file_map_overlay, 'wb') as out_file:\n",
    "    shutil.copyfileobj(response, out_file)\n",
    "\n",
    "print(\"downloading \"+ url_map_data)\n",
    "with urllib.request.urlopen(url_map_data) as response, open(file_map_data, 'wb') as out_file:\n",
    "    shutil.copyfileobj(response, out_file)"
   ]
  },
  {
   "cell_type": "markdown",
   "id": "f043de51-c13b-4d2a-acbd-02110a6e85f9",
   "metadata": {},
   "source": [
    "## Read Map Image Data"
   ]
  },
  {
   "cell_type": "code",
   "execution_count": 4,
   "id": "44d8ad85-2d8e-43a5-9724-65aa47e7d9fd",
   "metadata": {},
   "outputs": [],
   "source": [
    "img = Image.open(fp      = file_map_overlay,\n",
    "                 formats =[\"gif\"])\n",
    "\n",
    "img_data = np.asarray(img.convert(\"RGB\"))\n"
   ]
  },
  {
   "cell_type": "code",
   "execution_count": 5,
   "id": "8e77e095-fcd1-433c-99b5-943e0df5f494",
   "metadata": {},
   "outputs": [
    {
     "name": "stdout",
     "output_type": "stream",
     "text": [
      "nx =  1019  ny =  712  dpi =  72.0\n",
      "Lx =  14.152777777777779  Ly= 9.88888888888889\n"
     ]
    }
   ],
   "source": [
    "nx, ny = img.size\n",
    "dpi    = 72.\n",
    "\n",
    "Lx = nx/dpi\n",
    "Ly = ny/dpi\n",
    "\n",
    "print(\"nx = \", nx, \" ny = \", ny, \" dpi = \", dpi)\n",
    "print(\"Lx = \", Lx, \" Ly=\", Ly)"
   ]
  },
  {
   "cell_type": "markdown",
   "id": "e19ed509-5c22-41e4-acbf-381e357b356c",
   "metadata": {},
   "source": [
    "## Read Map Timing Data"
   ]
  },
  {
   "cell_type": "code",
   "execution_count": 6,
   "id": "44df3e11-d002-4d3f-8172-446d5d84e20c",
   "metadata": {},
   "outputs": [
    {
     "name": "stdout",
     "output_type": "stream",
     "text": [
      "0600Z FRI AUG 18 2023\n",
      "America/Denver\n",
      "2023-08-18 06:00:00\n",
      "2023-08-18 00:00:00-06:00\n",
      "MDT\n",
      "Fri\n",
      "00:00:00   white #002554\n",
      "NWS Surface Forecast 2023-08-18 0600 UTC (2023-08-18 0000 MDT)\n"
     ]
    }
   ],
   "source": [
    "with open(file_map_data) as f:\n",
    "    lines = f.readlines()\n",
    "\n",
    "date_string = lines[4][7:28]\n",
    "\n",
    "print(date_string)\n",
    "\n",
    "tf     = tzf.TimezoneFinder()\n",
    "tz     = tf.certain_timezone_at(lng = -103, \n",
    "                                lat =   44)\n",
    "\n",
    "print(tz)\n",
    "utc_time = pd.to_datetime(datetime.strptime(date_string, '%H00Z %a %b %d %Y'))\n",
    "\n",
    "local_time      = pd.to_datetime(utc_time).tz_localize(tz=\"UTC\").tz_convert(tz=tz)\n",
    "local_time_zone = local_time.strftime(\"%Z\")\n",
    "dow             = local_time.strftime(\"%a\")\n",
    "time_for_clock  = local_time.time()\n",
    "\n",
    "hour   = time_for_clock.hour\n",
    "minute = time_for_clock.minute\n",
    "second = time_for_clock.second\n",
    "\n",
    "\n",
    "if ((hour >= 6) and (hour < 18)):\n",
    "    Clock_Color = Mines_Blue\n",
    "    Clock_BgndC = \"white\"           \n",
    "else:\n",
    "    Clock_Color = \"white\"\n",
    "    Clock_BgndC = Mines_Blue  \n",
    "\n",
    "print(utc_time)\n",
    "print(local_time)\n",
    "print(local_time_zone)\n",
    "print(dow)\n",
    "print(time_for_clock, \" \", Clock_Color,Clock_BgndC )\n",
    "\n",
    "\n",
    "time_label  = \"NWS Surface Forecast \" + \\\n",
    "              utc_time.tz_localize(tz=\"UTC\").strftime(\"%Y-%m-%d %H00 %Z\") +  \\\n",
    "             \" (\" + local_time.strftime(\"%Y-%m-%d %H00 %Z\")    + \")\"\n",
    "\n",
    "print(time_label)"
   ]
  },
  {
   "cell_type": "markdown",
   "id": "05c39b2f-b2a1-4b13-91f7-9818e48d62bc",
   "metadata": {},
   "source": [
    "## Generate Image"
   ]
  },
  {
   "cell_type": "code",
   "execution_count": 7,
   "id": "14977589-a7db-4c38-88c8-7f4176231a3b",
   "metadata": {},
   "outputs": [
    {
     "name": "stdout",
     "output_type": "stream",
     "text": [
      "00:00:00\n",
      "0 0.0\n",
      "0 0.0\n",
      "./temp_sfc_analysis/NWS_Sfc_Analysis.png -> ./graphics_files/NWS_Sfc_Analysis.png\n"
     ]
    },
    {
     "data": {
      "text/plain": [
       "0"
      ]
     },
     "execution_count": 7,
     "metadata": {},
     "output_type": "execute_result"
    }
   ],
   "source": [
    "\n",
    "\n",
    "fig, ax = plt.subplots(figsize=(Lx, Ly), dpi = dpi)\n",
    "\n",
    "plt.axis('off')\n",
    "\n",
    "plt.subplots_adjust(left   = 0, \n",
    "                    right  = 1, \n",
    "                    top    = 1, \n",
    "                    bottom = 0, \n",
    "                    wspace = 0,\n",
    "                    hspace = 0)\n",
    "\n",
    "plt.margins(x = 0, y = 0)\n",
    "\n",
    "ax.imshow(img_data)\n",
    "\n",
    "\n",
    "#########################################\n",
    "#\n",
    "# Insert a Clock\n",
    "#\n",
    "\n",
    "axins = fig.add_axes(rect     =    [0.00,\n",
    "                                    1-0.16,\n",
    "                                    0.12,\n",
    "                                    0.12],\n",
    "                      projection  =  \"polar\")\n",
    "\n",
    "\n",
    "         \n",
    "\n",
    "\n",
    "circle_theta  = np.deg2rad(np.arange(0,360,0.01))\n",
    "circle_radius = circle_theta * 0 + 1\n",
    "\n",
    "\n",
    "\n",
    "angles_h = 2*np.pi*hour/12+2*np.pi*minute/(12*60)+2*second/(12*60*60)\n",
    "angles_m = 2*np.pi*minute/60+2*np.pi*second/(60*60)\n",
    "\n",
    "print(time_for_clock)\n",
    "print(hour,   np.rad2deg(angles_h))\n",
    "print(minute, np.rad2deg(angles_m))\n",
    "\n",
    "\n",
    "plt.setp(axins.get_yticklabels(), visible=False)\n",
    "plt.setp(axins.get_xticklabels(), visible=False)\n",
    "axins.spines['polar'].set_visible(False)\n",
    "axins.set_ylim(0,1)\n",
    "axins.set_theta_zero_location('N')\n",
    "axins.set_theta_direction(-1)\n",
    "axins.set_facecolor(Clock_BgndC)\n",
    "axins.grid(False)\n",
    "axins.margins(x = 0, y = 0)\n",
    "\n",
    "axins.plot([angles_h,angles_h], [0,0.60], color=Clock_Color, linewidth=2)\n",
    "axins.plot([angles_m,angles_m], [0,0.95], color=Clock_Color, linewidth=2)\n",
    "axins.plot(circle_theta, circle_radius, color=\"darkgrey\", linewidth=2)\n",
    "\n",
    "\n",
    "\n",
    "#\n",
    "#########################################\n",
    "\n",
    "ax.add_patch(Rectangle(xy=(0, 0), \n",
    "                       width = nx, \n",
    "                       height = 20,\n",
    "                       edgecolor = 'white',\n",
    "                       facecolor = 'white',\n",
    "                       fill=True,\n",
    "                       lw=1))\n",
    "\n",
    "\n",
    "\n",
    "ax.annotate(time_label, \n",
    "             [0.5,1], \n",
    "             xycoords              = \"axes fraction\", \n",
    "             fontsize              =            28, \n",
    "             verticalalignment     =           \"top\",\n",
    "             horizontalalignment   =        \"center\",\n",
    "             backgroundcolor       =         \"white\",\n",
    "             zorder                =           99999,\n",
    "             bbox = dict(facecolor ='white',edgecolor =\"white\"))\n",
    "\n",
    "\n",
    "plt.savefig(\"./temp_sfc_analysis/NWS_Sfc_Analysis.png\",\n",
    "                        facecolor   = 'white', \n",
    "                        transparent =   False)\n",
    "plt.close()\n",
    "os.system(\"mv -fv ./temp_sfc_analysis/NWS_Sfc_Analysis.png ./graphics_files/\")\n"
   ]
  },
  {
   "cell_type": "code",
   "execution_count": null,
   "id": "acd35a3d-fbd6-463a-8c46-06f8a88cb3fc",
   "metadata": {},
   "outputs": [],
   "source": []
  },
  {
   "cell_type": "code",
   "execution_count": null,
   "id": "ef71418b-c410-4327-a128-1668b155733e",
   "metadata": {},
   "outputs": [],
   "source": []
  },
  {
   "cell_type": "code",
   "execution_count": null,
   "id": "22557000-b180-4fa2-b561-4665a64e6c19",
   "metadata": {},
   "outputs": [],
   "source": []
  }
 ],
 "metadata": {
  "kernelspec": {
   "display_name": "Python 3 (ipykernel)",
   "language": "python",
   "name": "python3"
  },
  "language_info": {
   "codemirror_mode": {
    "name": "ipython",
    "version": 3
   },
   "file_extension": ".py",
   "mimetype": "text/x-python",
   "name": "python",
   "nbconvert_exporter": "python",
   "pygments_lexer": "ipython3",
   "version": "3.11.4"
  }
 },
 "nbformat": 4,
 "nbformat_minor": 5
}
