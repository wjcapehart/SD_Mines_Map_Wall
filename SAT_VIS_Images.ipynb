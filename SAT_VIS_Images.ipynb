{
 "cells": [
  {
   "cell_type": "markdown",
   "id": "cb2ffe77-546e-4824-bfea-b609e99c93f4",
   "metadata": {},
   "source": [
    "# Visible "
   ]
  },
  {
   "cell_type": "code",
   "execution_count": null,
   "id": "ef0fbe00-eb3c-4d10-99b4-32bb52d5bbf9",
   "metadata": {},
   "outputs": [],
   "source": [
    "from datetime import datetime\n",
    "from siphon.catalog import TDSCatalog\n",
    "from datetime import datetime\n",
    "import metpy\n",
    "import cartopy.crs as ccrs\n",
    "import cartopy.feature as cfeature\n",
    "import matplotlib.pyplot as plt\n",
    "from metpy.plots import colortables\n",
    "from metpy.plots import add_timestamp\n",
    "import numpy             as np\n",
    "import os                as os\n",
    "import pandas             as pd\n"
   ]
  },
  {
   "cell_type": "code",
   "execution_count": null,
   "id": "6a15c211-db46-4df8-8523-756dce4eebf1",
   "metadata": {},
   "outputs": [],
   "source": [
    "# %load solutions/data_url.py\n",
    "total_frames = 45*2\n",
    "os.system(\"rm -v ./sat_vis_temp_files/*\")\n",
    "\n",
    "\n",
    "# Cell content replaced by load magic replacement.\n",
    "\n",
    "# Create variables for URL generation\n",
    "image_date = datetime.utcnow().date()\n",
    "region = 'CONUS'\n",
    "channel = 2\n",
    "\n",
    "# We want to match something like:\n",
    "# https://thredds-test.unidata.ucar.edu/thredds/catalog/satellite/goes16/GOES16/Mesoscale-1/Channel08/20181113/catalog.html\n",
    "\n",
    "# Construct the data_url string\n",
    "data_url = ('https://thredds.ucar.edu/thredds/catalog/satellite/goes/east/products/'\n",
    "            f'CloudAndMoistureImagery/{region}/Channel{channel:02d}/current/catalog.xml')\n",
    "\n",
    "# Print out your URL and verify it works!\n",
    "print(data_url)\n"
   ]
  },
  {
   "cell_type": "code",
   "execution_count": null,
   "id": "dedb3b0e-e6af-4725-ba55-a3af47d2b360",
   "metadata": {},
   "outputs": [],
   "source": [
    "cat = TDSCatalog(data_url)"
   ]
  },
  {
   "cell_type": "code",
   "execution_count": null,
   "id": "3166a859-937a-4364-939b-b1cf85886904",
   "metadata": {},
   "outputs": [],
   "source": [
    "cat.datasets[1:total_frames]"
   ]
  },
  {
   "cell_type": "code",
   "execution_count": null,
   "id": "4e98b052-c0e5-4d24-a7b8-601ff57c5482",
   "metadata": {},
   "outputs": [],
   "source": [
    "len(cat.datasets[1:total_frames])"
   ]
  },
  {
   "cell_type": "code",
   "execution_count": null,
   "id": "ad4f2b18-ec6d-4cd5-8e24-c79eaff0e20a",
   "metadata": {},
   "outputs": [],
   "source": [
    "for i in range(1,len(cat.datasets[1:total_frames])+1,2) : \n",
    "\n",
    "    dataset = cat.datasets[i]\n",
    "    ds = dataset.remote_access(use_xarray=True)\n",
    "    dat = ds.metpy.parse_cf('Sectorized_CMI')\n",
    "    proj = dat.metpy.cartopy_crs\n",
    "    x = dat['x']\n",
    "    y = dat['y']\n",
    "\n",
    "\n",
    "    tz='America/Denver'\n",
    "    time_utc = datetime.strptime(ds.start_date_time, '%Y%j%H%M%S')\n",
    "    valid_time = pd.to_datetime(time_utc).tz_localize(tz=\"UTC\").strftime(\"%Y-%m-%d %H:%M:%S %Z\")\n",
    "    local_time = pd.to_datetime(time_utc).tz_localize(tz=\"UTC\").tz_convert(tz=tz).strftime(\"%Y-%m-%d %H:%M:%S %Z\")\n",
    "\n",
    "    file_time = pd.to_datetime(time_utc).tz_localize(tz=\"UTC\").strftime(\"%Y-%m-%d_%H%M\")\n",
    "\n",
    "\n",
    "    print(valid_time,local_time)\n",
    "\n",
    "\n",
    "\n",
    "    fig = plt.figure(figsize=(13, 8),\n",
    "                           facecolor = 'white')\n",
    "\n",
    "    plt.suptitle(\"GOES 16 Band 2 [0.64 µm Visble Red]\",\n",
    "                    fontsize=20)\n",
    "    ax = fig.add_subplot(1, 1, 1, projection=proj)\n",
    "    ax.set_title(valid_time + \"  (\" + local_time+\")\",\n",
    "                    fontsize=15)\n",
    "    ax.add_feature(cfeature.COASTLINE.with_scale('50m'), linewidth=2)\n",
    "    ax.add_feature(cfeature.STATES.with_scale('50m'), linestyle=':', edgecolor='black')\n",
    "    ax.add_feature(cfeature.BORDERS.with_scale('50m'), linewidth=2, edgecolor='black')\n",
    "\n",
    "    im = ax.imshow(np.sqrt(dat), extent=(x.min(), x.max(), y.min(), y.max()), origin='upper',cmap='Greys_r')\n",
    "\n",
    "    #wv_cmap = colortables.get_colortable('WVCIMSS_r')\n",
    "    #im.set_cmap(wv_cmap)\n",
    "    plt.tight_layout()\n",
    "    plt.savefig(\"./sat_vis_temp_files/Sat_VIS_Loop_Image_\"+file_time+\".png\")\n",
    "    plt.close()\n",
    "    \n",
    "\n"
   ]
  },
  {
   "cell_type": "code",
   "execution_count": null,
   "id": "a95a346d-db1b-4156-895f-7f3e1319a943",
   "metadata": {},
   "outputs": [],
   "source": [
    "##################################################\n",
    "#\n",
    "# Convert PNGs into an Animated GIF\n",
    "#\n",
    "\n",
    "os.system(\"convert -delay 15 \" + \n",
    "          \"./sat_vis_temp_files/Sat_VIS_Loop_Image_*.png\"  + \n",
    "          \" \" + \n",
    "          \"./graphics_files/RealTime_SAT_VIS_Loop.gif\")\n",
    "\n",
    "\n",
    "#\n",
    "##################################################"
   ]
  },
  {
   "cell_type": "code",
   "execution_count": null,
   "id": "cee3424d-0866-4bda-90b6-aaf3d64a21af",
   "metadata": {},
   "outputs": [],
   "source": []
  }
 ],
 "metadata": {
  "kernelspec": {
   "display_name": "Python 3 (ipykernel)",
   "language": "python",
   "name": "python3"
  },
  "language_info": {
   "codemirror_mode": {
    "name": "ipython",
    "version": 3
   },
   "file_extension": ".py",
   "mimetype": "text/x-python",
   "name": "python",
   "nbconvert_exporter": "python",
   "pygments_lexer": "ipython3",
   "version": "3.9.9"
  }
 },
 "nbformat": 4,
 "nbformat_minor": 5
}
