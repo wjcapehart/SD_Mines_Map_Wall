{
 "cells": [
  {
   "cell_type": "code",
   "execution_count": 7,
   "id": "4cc2b1d3-679c-4c99-bf94-3126ecc238e2",
   "metadata": {},
   "outputs": [],
   "source": [
    "import numpy as np\n",
    "\n",
    "from joblib import Parallel, delayed\n",
    "\n"
   ]
  },
  {
   "cell_type": "code",
   "execution_count": 8,
   "id": "ab000231-3af5-4446-ad05-ed16451e52f0",
   "metadata": {},
   "outputs": [],
   "source": [
    "def process(i):\n",
    "    return x * i\n",
    "   \n",
    "\n",
    "\n"
   ]
  },
  {
   "cell_type": "code",
   "execution_count": 17,
   "id": "b376c19b-f93d-4fe2-8aaa-8e9a79e5cd29",
   "metadata": {},
   "outputs": [],
   "source": [
    "x = 10"
   ]
  },
  {
   "cell_type": "code",
   "execution_count": 18,
   "id": "43a29aa5-1378-4c7a-a834-e5d55cd3b66b",
   "metadata": {},
   "outputs": [],
   "source": [
    "ii = np.arange(10)"
   ]
  },
  {
   "cell_type": "code",
   "execution_count": 19,
   "id": "07d20193-3ddf-46c2-8c42-377e83bfa63d",
   "metadata": {},
   "outputs": [
    {
     "data": {
      "text/plain": [
       "array([ 0, 10, 20, 30, 40, 50, 60, 70, 80, 90])"
      ]
     },
     "execution_count": 19,
     "metadata": {},
     "output_type": "execute_result"
    }
   ],
   "source": [
    "process(ii)"
   ]
  },
  {
   "cell_type": "code",
   "execution_count": null,
   "id": "27dc65b8-1ef8-482d-98c1-86edf34a5c71",
   "metadata": {},
   "outputs": [],
   "source": []
  },
  {
   "cell_type": "code",
   "execution_count": 10,
   "id": "68e934dd-41f1-421e-892f-4ae7f031aeef",
   "metadata": {},
   "outputs": [],
   "source": [
    "results = Parallel(n_jobs=10)(delayed(process)(i) for i in range(10))\n",
    "\n"
   ]
  },
  {
   "cell_type": "code",
   "execution_count": 20,
   "id": "0001ed89-e13d-475f-8494-56370027273a",
   "metadata": {},
   "outputs": [
    {
     "name": "stdout",
     "output_type": "stream",
     "text": [
      "<class 'list'>\n"
     ]
    }
   ],
   "source": [
    "print(type(results))"
   ]
  },
  {
   "cell_type": "code",
   "execution_count": null,
   "id": "13f8d708-f2f2-4314-88f8-f4ff7f070eeb",
   "metadata": {},
   "outputs": [],
   "source": []
  }
 ],
 "metadata": {
  "kernelspec": {
   "display_name": "Python 3 (ipykernel)",
   "language": "python",
   "name": "python3"
  },
  "language_info": {
   "codemirror_mode": {
    "name": "ipython",
    "version": 3
   },
   "file_extension": ".py",
   "mimetype": "text/x-python",
   "name": "python",
   "nbconvert_exporter": "python",
   "pygments_lexer": "ipython3",
   "version": "3.9.12"
  }
 },
 "nbformat": 4,
 "nbformat_minor": 5
}
