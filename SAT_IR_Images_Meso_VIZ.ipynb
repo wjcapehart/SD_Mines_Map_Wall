{
 "cells": [
  {
   "cell_type": "markdown",
   "id": "cb2ffe77-546e-4824-bfea-b609e99c93f4",
   "metadata": {},
   "source": [
    "# Infrared Meso 1 & 2 + SODAK"
   ]
  },
  {
   "cell_type": "code",
   "execution_count": 1,
   "id": "ef0fbe00-eb3c-4d10-99b4-32bb52d5bbf9",
   "metadata": {},
   "outputs": [],
   "source": [
    "##################################################\n",
    "#\n",
    "# Libraries\n",
    "#\n",
    "\n",
    "\n",
    "from metpy.plots    import colortables\n",
    "from metpy.plots    import add_timestamp\n",
    "from datetime       import datetime\n",
    "from siphon.catalog import TDSCatalog\n",
    "from datetime       import datetime\n",
    "\n",
    "import numpy             as np\n",
    "import os                as os\n",
    "import pandas            as pd\n",
    "import pathlib           as pathlib\n",
    "\n",
    "import metpy\n",
    "import cartopy.crs       as ccrs\n",
    "import cartopy.feature   as cfeature\n",
    "import matplotlib.pyplot as plt\n",
    "import matplotlib.patches as patches\n",
    "\n",
    "import matplotlib.patches as patches\n",
    "\n",
    "\n",
    "\n",
    "\n",
    "#\n",
    "##################################################"
   ]
  },
  {
   "cell_type": "markdown",
   "id": "485b6455-d0a4-4ff2-a615-8d55681b1502",
   "metadata": {},
   "source": [
    "## Meso Floater 1"
   ]
  },
  {
   "cell_type": "code",
   "execution_count": 2,
   "id": "6a15c211-db46-4df8-8523-756dce4eebf1",
   "metadata": {},
   "outputs": [
    {
     "name": "stdout",
     "output_type": "stream",
     "text": [
      "https://thredds.ucar.edu/thredds/catalog/satellite/goes/east/products/CloudAndMoistureImagery/Mesoscale-1/Channel02/current/catalog.xml\n"
     ]
    }
   ],
   "source": [
    "##################################################\n",
    "#\n",
    "# Control Setup\n",
    "#\n",
    "\n",
    "# %load solutions/data_url.py\n",
    "\n",
    "total_frames = int(45*2 * 0.8)\n",
    "\n",
    "png_processing_directory = \"./temp_files_sat_ir_meso1/\"\n",
    "\n",
    "gif_file_name1 = \"./graphics_files/RealTime_SAT_IR_Meso1_Loop.gif\"\n",
    "gif_file_name2 = \"./graphics_files/RealTime_SAT_IR_Meso2_Loop.gif\"\n",
    "gif_file_name3 = \"./graphics_files/RealTime_SAT_IR_SODAK_Loop.gif\"\n",
    "gif_file_name12 = \"./graphics_files/RealTime_SAT_IR_Meso12_Loop.gif\"\n",
    "\n",
    "\n",
    "image_header_label = \"GOES 16 Meso1 Band 13 [10.3 µm Clean LW IR Window]\"\n",
    "\n",
    "# Cell content replaced by load magic replacement.\n",
    "\n",
    "# Create variables for URL generation\n",
    "\n",
    "image_date = datetime.utcnow().date()\n",
    "region = 'Mesoscale-1'\n",
    "channel = 2\n",
    "\n",
    "# We want to match something like:\n",
    "# https://thredds-test.unidata.ucar.edu/thredds/catalog/satellite/goes16/GOES16/Mesoscale-1/Channel08/20181113/catalog.html\n",
    "\n",
    "# Construct the data_url string\n",
    "\n",
    "data_url = ('https://thredds.ucar.edu/thredds/catalog/satellite/goes/east/products/'\n",
    "            f'CloudAndMoistureImagery/{region}/Channel{channel:02d}/current/catalog.xml')\n",
    "\n",
    "# Print out your URL and verify it works!\n",
    "\n",
    "print(data_url)\n",
    "\n",
    "#\n",
    "##################################################"
   ]
  },
  {
   "cell_type": "code",
   "execution_count": 3,
   "id": "dedb3b0e-e6af-4725-ba55-a3af47d2b360",
   "metadata": {},
   "outputs": [],
   "source": [
    "##################################################\n",
    "#\n",
    "# Pull Catalog\n",
    "#\n",
    "\n",
    "cat = TDSCatalog(data_url)\n",
    "\n",
    "#\n",
    "##################################################"
   ]
  },
  {
   "cell_type": "code",
   "execution_count": 4,
   "id": "3166a859-937a-4364-939b-b1cf85886904",
   "metadata": {},
   "outputs": [],
   "source": [
    "##################################################\n",
    "#\n",
    "# Create File Inventories\n",
    "#\n",
    "\n",
    "file_names_to_retain = list()\n",
    "file_names_to_use    = list()\n",
    "\n",
    "\n",
    "for i in range(0,len(cat.datasets[0:total_frames])+1,1) : \n",
    "    filename = png_processing_directory + cat.datasets[i].name.replace(\".nc\",\".png\")\n",
    "    file_names_to_retain.append(filename)\n",
    "    file_names_to_use.append(filename)\n",
    "\n",
    "        \n",
    "files_on_hand = [png_processing_directory + s for s in os.listdir(png_processing_directory)]\n",
    "\n",
    "file_names_to_retain.sort()\n",
    "file_names_to_use.sort()\n",
    "\n",
    "file_names_to_use_meso1 = file_names_to_use.copy()\n",
    "\n",
    "\n",
    "#\n",
    "##################################################    "
   ]
  },
  {
   "cell_type": "code",
   "execution_count": 5,
   "id": "85b3463c-dd32-4f18-8d0b-dd5a63d10dca",
   "metadata": {},
   "outputs": [
    {
     "name": "stdout",
     "output_type": "stream",
     "text": [
      "Keeping  ./temp_files_sat_ir_meso1/OR_ABI-L2-CMIPM1-M6C02_G16_s20220902220280_e20220902220280_c20220902220280.png\n",
      "Purging  ./temp_files_sat_ir_meso1/OR_ABI-L2-CMIPM1-M6C02_G16_s20220902157250_e20220902157250_c20220902157250.png\n",
      "Purging  ./temp_files_sat_ir_meso1/OR_ABI-L2-CMIPM1-M6C02_G16_s20220902151250_e20220902151250_c20220902151250.png\n",
      "Keeping  ./temp_files_sat_ir_meso1/OR_ABI-L2-CMIPM1-M6C02_G16_s20220902210280_e20220902210280_c20220902210280.png\n",
      "Keeping  ./temp_files_sat_ir_meso1/OR_ABI-L2-CMIPM1-M6C02_G16_s20220902240280_e20220902240280_c20220902240280.png\n",
      "Purging  ./temp_files_sat_ir_meso1/OR_ABI-L2-CMIPM1-M6C02_G16_s20220902156250_e20220902156250_c20220902156250.png\n",
      "Keeping  ./temp_files_sat_ir_meso1/OR_ABI-L2-CMIPM1-M6C02_G16_s20220902302250_e20220902302250_c20220902302250.png\n",
      "Keeping  ./temp_files_sat_ir_meso1/OR_ABI-L2-CMIPM1-M6C02_G16_s20220902300280_e20220902300280_c20220902300280.png\n",
      "Keeping  ./temp_files_sat_ir_meso1/OR_ABI-L2-CMIPM1-M6C02_G16_s20220902249250_e20220902249250_c20220902249250.png\n",
      "Keeping  ./temp_files_sat_ir_meso1/OR_ABI-L2-CMIPM1-M6C02_G16_s20220902245250_e20220902245250_c20220902245250.png\n",
      "Keeping  ./temp_files_sat_ir_meso1/OR_ABI-L2-CMIPM1-M6C02_G16_s20220902251250_e20220902251250_c20220902251250.png\n",
      "Keeping  ./temp_files_sat_ir_meso1/OR_ABI-L2-CMIPM1-M6C02_G16_s20220902243250_e20220902243250_c20220902243250.png\n",
      "Keeping  ./temp_files_sat_ir_meso1/OR_ABI-L2-CMIPM1-M6C02_G16_s20220902257250_e20220902257250_c20220902257250.png\n",
      "Keeping  ./temp_files_sat_ir_meso1/OR_ABI-L2-CMIPM1-M6C02_G16_s20220902223250_e20220902223250_c20220902223250.png\n",
      "Keeping  ./temp_files_sat_ir_meso1/OR_ABI-L2-CMIPM1-M6C02_G16_s20220902237250_e20220902237250_c20220902237250.png\n",
      "Keeping  ./temp_files_sat_ir_meso1/OR_ABI-L2-CMIPM1-M6C02_G16_s20220902219250_e20220902219250_c20220902219250.png\n",
      "Keeping  ./temp_files_sat_ir_meso1/OR_ABI-L2-CMIPM1-M6C02_G16_s20220902225250_e20220902225250_c20220902225250.png\n",
      "Keeping  ./temp_files_sat_ir_meso1/OR_ABI-L2-CMIPM1-M6C02_G16_s20220902231250_e20220902231250_c20220902231250.png\n",
      "Purging  ./temp_files_sat_ir_meso1/OR_ABI-L2-CMIPM1-M6C02_G16_s20220902201250_e20220902201250_c20220902201250.png\n",
      "Keeping  ./temp_files_sat_ir_meso1/OR_ABI-L2-CMIPM1-M6C02_G16_s20220902215250_e20220902215250_c20220902215250.png\n",
      "Purging  ./temp_files_sat_ir_meso1/OR_ABI-L2-CMIPM1-M6C02_G16_s20220902207250_e20220902207250_c20220902207250.png\n",
      "Keeping  ./temp_files_sat_ir_meso1/OR_ABI-L2-CMIPM1-M6C02_G16_s20220902229250_e20220902229250_c20220902229250.png\n",
      "Keeping  ./temp_files_sat_ir_meso1/OR_ABI-L2-CMIPM1-M6C02_G16_s20220902213250_e20220902213250_c20220902213250.png\n",
      "Keeping  ./temp_files_sat_ir_meso1/OR_ABI-L2-CMIPM1-M6C02_G16_s20220902248250_e20220902248250_c20220902248250.png\n",
      "Keeping  ./temp_files_sat_ir_meso1/OR_ABI-L2-CMIPM1-M6C02_G16_s20220902244250_e20220902244250_c20220902244250.png\n",
      "Keeping  ./temp_files_sat_ir_meso1/OR_ABI-L2-CMIPM1-M6C02_G16_s20220902242250_e20220902242250_c20220902242250.png\n",
      "Keeping  ./temp_files_sat_ir_meso1/OR_ABI-L2-CMIPM1-M6C02_G16_s20220902256250_e20220902256250_c20220902256250.png\n",
      "Keeping  ./temp_files_sat_ir_meso1/OR_ABI-L2-CMIPM1-M6C02_G16_s20220902222250_e20220902222250_c20220902222250.png\n",
      "Keeping  ./temp_files_sat_ir_meso1/OR_ABI-L2-CMIPM1-M6C02_G16_s20220902218250_e20220902218250_c20220902218250.png\n",
      "Keeping  ./temp_files_sat_ir_meso1/OR_ABI-L2-CMIPM1-M6C02_G16_s20220902236250_e20220902236250_c20220902236250.png\n",
      "Keeping  ./temp_files_sat_ir_meso1/OR_ABI-L2-CMIPM1-M6C02_G16_s20220902224250_e20220902224250_c20220902224250.png\n",
      "Keeping  ./temp_files_sat_ir_meso1/OR_ABI-L2-CMIPM1-M6C02_G16_s20220902214250_e20220902214250_c20220902214250.png\n",
      "Keeping  ./temp_files_sat_ir_meso1/OR_ABI-L2-CMIPM1-M6C02_G16_s20220902228250_e20220902228250_c20220902228250.png\n",
      "Purging  ./temp_files_sat_ir_meso1/OR_ABI-L2-CMIPM1-M6C02_G16_s20220902206250_e20220902206250_c20220902206250.png\n",
      "Keeping  ./temp_files_sat_ir_meso1/OR_ABI-L2-CMIPM1-M6C02_G16_s20220902212250_e20220902212250_c20220902212250.png\n",
      "Purging  ./temp_files_sat_ir_meso1/OR_ABI-L2-CMIPM1-M6C02_G16_s20220902154250_e20220902154250_c20220902154250.png\n",
      "Purging  ./temp_files_sat_ir_meso1/OR_ABI-L2-CMIPM1-M6C02_G16_s20220902152250_e20220902152250_c20220902152250.png\n",
      "Purging  ./temp_files_sat_ir_meso1/OR_ABI-L2-CMIPM1-M6C02_G16_s20220902158250_e20220902158250_c20220902158250.png\n",
      "Purging  ./temp_files_sat_ir_meso1/OR_ABI-L2-CMIPM1-M6C02_G16_s20220902155250_e20220902155250_c20220902155250.png\n",
      "Keeping  ./temp_files_sat_ir_meso1/OR_ABI-L2-CMIPM1-M6C02_G16_s20220902230280_e20220902230280_c20220902230280.png\n",
      "Purging  ./temp_files_sat_ir_meso1/OR_ABI-L2-CMIPM1-M6C02_G16_s20220902153250_e20220902153250_c20220902153250.png\n",
      "Purging  ./temp_files_sat_ir_meso1/OR_ABI-L2-CMIPM1-M6C02_G16_s20220902159250_e20220902159250_c20220902159250.png\n",
      "Purging  ./temp_files_sat_ir_meso1/OR_ABI-L2-CMIPM1-M6C02_G16_s20220902200280_e20220902200280_c20220902200280.png\n",
      "Keeping  ./temp_files_sat_ir_meso1/OR_ABI-L2-CMIPM1-M6C02_G16_s20220902250280_e20220902250280_c20220902250280.png\n",
      "Keeping  ./temp_files_sat_ir_meso1/OR_ABI-L2-CMIPM1-M6C02_G16_s20220902301250_e20220902301250_c20220902301250.png\n",
      "Keeping  ./temp_files_sat_ir_meso1/OR_ABI-L2-CMIPM1-M6C02_G16_s20220902258250_e20220902258250_c20220902258250.png\n",
      "Keeping  ./temp_files_sat_ir_meso1/OR_ABI-L2-CMIPM1-M6C02_G16_s20220902252250_e20220902252250_c20220902252250.png\n",
      "Keeping  ./temp_files_sat_ir_meso1/OR_ABI-L2-CMIPM1-M6C02_G16_s20220902246250_e20220902246250_c20220902246250.png\n",
      "Keeping  ./temp_files_sat_ir_meso1/OR_ABI-L2-CMIPM1-M6C02_G16_s20220902254250_e20220902254250_c20220902254250.png\n",
      "Keeping  ./temp_files_sat_ir_meso1/OR_ABI-L2-CMIPM1-M6C02_G16_s20220902234250_e20220902234250_c20220902234250.png\n",
      "Keeping  ./temp_files_sat_ir_meso1/OR_ABI-L2-CMIPM1-M6C02_G16_s20220902232250_e20220902232250_c20220902232250.png\n",
      "Keeping  ./temp_files_sat_ir_meso1/OR_ABI-L2-CMIPM1-M6C02_G16_s20220902226250_e20220902226250_c20220902226250.png\n",
      "Purging  ./temp_files_sat_ir_meso1/OR_ABI-L2-CMIPM1-M6C02_G16_s20220902208250_e20220902208250_c20220902208250.png\n",
      "Keeping  ./temp_files_sat_ir_meso1/OR_ABI-L2-CMIPM1-M6C02_G16_s20220902216250_e20220902216250_c20220902216250.png\n",
      "Keeping  ./temp_files_sat_ir_meso1/OR_ABI-L2-CMIPM1-M6C02_G16_s20220902238250_e20220902238250_c20220902238250.png\n",
      "Purging  ./temp_files_sat_ir_meso1/OR_ABI-L2-CMIPM1-M6C02_G16_s20220902202250_e20220902202250_c20220902202250.png\n",
      "Purging  ./temp_files_sat_ir_meso1/OR_ABI-L2-CMIPM1-M6C02_G16_s20220902204250_e20220902204250_c20220902204250.png\n",
      "Keeping  ./temp_files_sat_ir_meso1/OR_ABI-L2-CMIPM1-M6C02_G16_s20220902259250_e20220902259250_c20220902259250.png\n",
      "Keeping  ./temp_files_sat_ir_meso1/OR_ABI-L2-CMIPM1-M6C02_G16_s20220902253250_e20220902253250_c20220902253250.png\n",
      "Keeping  ./temp_files_sat_ir_meso1/OR_ABI-L2-CMIPM1-M6C02_G16_s20220902247250_e20220902247250_c20220902247250.png\n",
      "Keeping  ./temp_files_sat_ir_meso1/OR_ABI-L2-CMIPM1-M6C02_G16_s20220902255250_e20220902255250_c20220902255250.png\n",
      "Keeping  ./temp_files_sat_ir_meso1/OR_ABI-L2-CMIPM1-M6C02_G16_s20220902241250_e20220902241250_c20220902241250.png\n",
      "Keeping  ./temp_files_sat_ir_meso1/OR_ABI-L2-CMIPM1-M6C02_G16_s20220902235250_e20220902235250_c20220902235250.png\n",
      "Keeping  ./temp_files_sat_ir_meso1/OR_ABI-L2-CMIPM1-M6C02_G16_s20220902221250_e20220902221250_c20220902221250.png\n",
      "Purging  ./temp_files_sat_ir_meso1/OR_ABI-L2-CMIPM1-M6C02_G16_s20220902150280_e20220902150280_c20220902150280.png\n",
      "Keeping  ./temp_files_sat_ir_meso1/OR_ABI-L2-CMIPM1-M6C02_G16_s20220902233250_e20220902233250_c20220902233250.png\n",
      "Purging  ./temp_files_sat_ir_meso1/OR_ABI-L2-CMIPM1-M6C02_G16_s20220902209250_e20220902209250_c20220902209250.png\n",
      "Keeping  ./temp_files_sat_ir_meso1/OR_ABI-L2-CMIPM1-M6C02_G16_s20220902227250_e20220902227250_c20220902227250.png\n",
      "Keeping  ./temp_files_sat_ir_meso1/OR_ABI-L2-CMIPM1-M6C02_G16_s20220902239250_e20220902239250_c20220902239250.png\n",
      "Keeping  ./temp_files_sat_ir_meso1/OR_ABI-L2-CMIPM1-M6C02_G16_s20220902217250_e20220902217250_c20220902217250.png\n",
      "Purging  ./temp_files_sat_ir_meso1/OR_ABI-L2-CMIPM1-M6C02_G16_s20220902203250_e20220902203250_c20220902203250.png\n",
      "Keeping  ./temp_files_sat_ir_meso1/OR_ABI-L2-CMIPM1-M6C02_G16_s20220902211250_e20220902211250_c20220902211250.png\n",
      "Purging  ./temp_files_sat_ir_meso1/OR_ABI-L2-CMIPM1-M6C02_G16_s20220902205250_e20220902205250_c20220902205250.png\n"
     ]
    }
   ],
   "source": [
    "##################################################\n",
    "#\n",
    "# Clean PNG Directory\n",
    "#\n",
    "\n",
    "for filename in files_on_hand:\n",
    "    if filename not in file_names_to_retain:\n",
    "        print(\"Purging \", filename )\n",
    "        os.remove( filename  )\n",
    "    else:\n",
    "        print(\"Keeping \", filename )\n",
    "#\n",
    "##################################################    "
   ]
  },
  {
   "cell_type": "code",
   "execution_count": 6,
   "id": "ad4f2b18-ec6d-4cd5-8e24-c79eaff0e20a",
   "metadata": {},
   "outputs": [
    {
     "name": "stdout",
     "output_type": "stream",
     "text": [
      "2022-03-31 23:22:25 UTC 2022-03-31 17:22:25 MDT\n",
      "17:22:25\n",
      "5 161.06631455962165\n",
      "22 134.49999999999997\n"
     ]
    },
    {
     "name": "stderr",
     "output_type": "stream",
     "text": [
      "/var/folders/0c/8xbkg06s6cz0yy2505h06nlm00017d/T/ipykernel_78749/2592492654.py:101: UserWarning: This figure includes Axes that are not compatible with tight_layout, so results might be incorrect.\n",
      "  plt.tight_layout()\n"
     ]
    },
    {
     "name": "stdout",
     "output_type": "stream",
     "text": [
      "2022-03-31 23:21:25 UTC 2022-03-31 17:21:25 MDT\n",
      "17:21:25\n",
      "5 160.56631455962165\n",
      "21 128.5\n"
     ]
    },
    {
     "name": "stderr",
     "output_type": "stream",
     "text": [
      "/var/folders/0c/8xbkg06s6cz0yy2505h06nlm00017d/T/ipykernel_78749/2592492654.py:101: UserWarning: This figure includes Axes that are not compatible with tight_layout, so results might be incorrect.\n",
      "  plt.tight_layout()\n"
     ]
    },
    {
     "name": "stdout",
     "output_type": "stream",
     "text": [
      "2022-03-31 23:20:28 UTC 2022-03-31 17:20:28 MDT\n",
      "17:20:28\n",
      "5 160.0742723067762\n",
      "20 122.8\n"
     ]
    },
    {
     "name": "stderr",
     "output_type": "stream",
     "text": [
      "/var/folders/0c/8xbkg06s6cz0yy2505h06nlm00017d/T/ipykernel_78749/2592492654.py:101: UserWarning: This figure includes Axes that are not compatible with tight_layout, so results might be incorrect.\n",
      "  plt.tight_layout()\n"
     ]
    },
    {
     "name": "stdout",
     "output_type": "stream",
     "text": [
      "2022-03-31 23:19:25 UTC 2022-03-31 17:19:25 MDT\n",
      "17:19:25\n",
      "5 159.56631455962162\n",
      "19 116.5\n"
     ]
    },
    {
     "name": "stderr",
     "output_type": "stream",
     "text": [
      "/var/folders/0c/8xbkg06s6cz0yy2505h06nlm00017d/T/ipykernel_78749/2592492654.py:101: UserWarning: This figure includes Axes that are not compatible with tight_layout, so results might be incorrect.\n",
      "  plt.tight_layout()\n"
     ]
    },
    {
     "name": "stdout",
     "output_type": "stream",
     "text": [
      "2022-03-31 23:18:25 UTC 2022-03-31 17:18:25 MDT\n",
      "17:18:25\n",
      "5 159.06631455962165\n",
      "18 110.5\n"
     ]
    },
    {
     "name": "stderr",
     "output_type": "stream",
     "text": [
      "/var/folders/0c/8xbkg06s6cz0yy2505h06nlm00017d/T/ipykernel_78749/2592492654.py:101: UserWarning: This figure includes Axes that are not compatible with tight_layout, so results might be incorrect.\n",
      "  plt.tight_layout()\n"
     ]
    },
    {
     "name": "stdout",
     "output_type": "stream",
     "text": [
      "2022-03-31 23:17:25 UTC 2022-03-31 17:17:25 MDT\n",
      "17:17:25\n",
      "5 158.56631455962165\n",
      "17 104.5\n"
     ]
    },
    {
     "name": "stderr",
     "output_type": "stream",
     "text": [
      "/var/folders/0c/8xbkg06s6cz0yy2505h06nlm00017d/T/ipykernel_78749/2592492654.py:101: UserWarning: This figure includes Axes that are not compatible with tight_layout, so results might be incorrect.\n",
      "  plt.tight_layout()\n"
     ]
    },
    {
     "name": "stdout",
     "output_type": "stream",
     "text": [
      "2022-03-31 23:16:25 UTC 2022-03-31 17:16:25 MDT\n",
      "17:16:25\n",
      "5 158.06631455962165\n",
      "16 98.49999999999999\n"
     ]
    },
    {
     "name": "stderr",
     "output_type": "stream",
     "text": [
      "/var/folders/0c/8xbkg06s6cz0yy2505h06nlm00017d/T/ipykernel_78749/2592492654.py:101: UserWarning: This figure includes Axes that are not compatible with tight_layout, so results might be incorrect.\n",
      "  plt.tight_layout()\n"
     ]
    },
    {
     "name": "stdout",
     "output_type": "stream",
     "text": [
      "2022-03-31 23:15:25 UTC 2022-03-31 17:15:25 MDT\n",
      "17:15:25\n",
      "5 157.56631455962162\n",
      "15 92.49999999999999\n"
     ]
    },
    {
     "name": "stderr",
     "output_type": "stream",
     "text": [
      "/var/folders/0c/8xbkg06s6cz0yy2505h06nlm00017d/T/ipykernel_78749/2592492654.py:101: UserWarning: This figure includes Axes that are not compatible with tight_layout, so results might be incorrect.\n",
      "  plt.tight_layout()\n"
     ]
    },
    {
     "name": "stdout",
     "output_type": "stream",
     "text": [
      "2022-03-31 23:14:25 UTC 2022-03-31 17:14:25 MDT\n",
      "17:14:25\n",
      "5 157.06631455962162\n",
      "14 86.5\n"
     ]
    },
    {
     "name": "stderr",
     "output_type": "stream",
     "text": [
      "/var/folders/0c/8xbkg06s6cz0yy2505h06nlm00017d/T/ipykernel_78749/2592492654.py:101: UserWarning: This figure includes Axes that are not compatible with tight_layout, so results might be incorrect.\n",
      "  plt.tight_layout()\n"
     ]
    },
    {
     "name": "stdout",
     "output_type": "stream",
     "text": [
      "2022-03-31 23:13:25 UTC 2022-03-31 17:13:25 MDT\n",
      "17:13:25\n",
      "5 156.56631455962165\n",
      "13 80.5\n"
     ]
    },
    {
     "name": "stderr",
     "output_type": "stream",
     "text": [
      "/var/folders/0c/8xbkg06s6cz0yy2505h06nlm00017d/T/ipykernel_78749/2592492654.py:101: UserWarning: This figure includes Axes that are not compatible with tight_layout, so results might be incorrect.\n",
      "  plt.tight_layout()\n"
     ]
    },
    {
     "name": "stdout",
     "output_type": "stream",
     "text": [
      "2022-03-31 23:12:25 UTC 2022-03-31 17:12:25 MDT\n",
      "17:12:25\n",
      "5 156.06631455962165\n",
      "12 74.5\n"
     ]
    },
    {
     "name": "stderr",
     "output_type": "stream",
     "text": [
      "/var/folders/0c/8xbkg06s6cz0yy2505h06nlm00017d/T/ipykernel_78749/2592492654.py:101: UserWarning: This figure includes Axes that are not compatible with tight_layout, so results might be incorrect.\n",
      "  plt.tight_layout()\n"
     ]
    },
    {
     "name": "stdout",
     "output_type": "stream",
     "text": [
      "2022-03-31 23:11:25 UTC 2022-03-31 17:11:25 MDT\n",
      "17:11:25\n",
      "5 155.56631455962162\n",
      "11 68.49999999999999\n"
     ]
    },
    {
     "name": "stderr",
     "output_type": "stream",
     "text": [
      "/var/folders/0c/8xbkg06s6cz0yy2505h06nlm00017d/T/ipykernel_78749/2592492654.py:101: UserWarning: This figure includes Axes that are not compatible with tight_layout, so results might be incorrect.\n",
      "  plt.tight_layout()\n"
     ]
    },
    {
     "name": "stdout",
     "output_type": "stream",
     "text": [
      "2022-03-31 23:10:28 UTC 2022-03-31 17:10:28 MDT\n",
      "17:10:28\n",
      "5 155.07427230677624\n",
      "10 62.8\n"
     ]
    },
    {
     "name": "stderr",
     "output_type": "stream",
     "text": [
      "/var/folders/0c/8xbkg06s6cz0yy2505h06nlm00017d/T/ipykernel_78749/2592492654.py:101: UserWarning: This figure includes Axes that are not compatible with tight_layout, so results might be incorrect.\n",
      "  plt.tight_layout()\n"
     ]
    },
    {
     "name": "stdout",
     "output_type": "stream",
     "text": [
      "2022-03-31 23:09:25 UTC 2022-03-31 17:09:25 MDT\n",
      "17:09:25\n",
      "5 154.56631455962165\n",
      "9 56.5\n"
     ]
    },
    {
     "name": "stderr",
     "output_type": "stream",
     "text": [
      "/var/folders/0c/8xbkg06s6cz0yy2505h06nlm00017d/T/ipykernel_78749/2592492654.py:101: UserWarning: This figure includes Axes that are not compatible with tight_layout, so results might be incorrect.\n",
      "  plt.tight_layout()\n"
     ]
    },
    {
     "name": "stdout",
     "output_type": "stream",
     "text": [
      "2022-03-31 23:08:25 UTC 2022-03-31 17:08:25 MDT\n",
      "17:08:25\n",
      "5 154.06631455962165\n",
      "8 50.49999999999999\n"
     ]
    },
    {
     "name": "stderr",
     "output_type": "stream",
     "text": [
      "/var/folders/0c/8xbkg06s6cz0yy2505h06nlm00017d/T/ipykernel_78749/2592492654.py:101: UserWarning: This figure includes Axes that are not compatible with tight_layout, so results might be incorrect.\n",
      "  plt.tight_layout()\n"
     ]
    },
    {
     "name": "stdout",
     "output_type": "stream",
     "text": [
      "2022-03-31 23:07:25 UTC 2022-03-31 17:07:25 MDT\n",
      "17:07:25\n",
      "5 153.56631455962165\n",
      "7 44.5\n"
     ]
    },
    {
     "name": "stderr",
     "output_type": "stream",
     "text": [
      "/var/folders/0c/8xbkg06s6cz0yy2505h06nlm00017d/T/ipykernel_78749/2592492654.py:101: UserWarning: This figure includes Axes that are not compatible with tight_layout, so results might be incorrect.\n",
      "  plt.tight_layout()\n"
     ]
    },
    {
     "name": "stdout",
     "output_type": "stream",
     "text": [
      "2022-03-31 23:06:25 UTC 2022-03-31 17:06:25 MDT\n",
      "17:06:25\n",
      "5 153.06631455962162\n",
      "6 38.5\n"
     ]
    },
    {
     "name": "stderr",
     "output_type": "stream",
     "text": [
      "/var/folders/0c/8xbkg06s6cz0yy2505h06nlm00017d/T/ipykernel_78749/2592492654.py:101: UserWarning: This figure includes Axes that are not compatible with tight_layout, so results might be incorrect.\n",
      "  plt.tight_layout()\n"
     ]
    },
    {
     "name": "stdout",
     "output_type": "stream",
     "text": [
      "2022-03-31 23:05:25 UTC 2022-03-31 17:05:25 MDT\n",
      "17:05:25\n",
      "5 152.56631455962162\n",
      "5 32.49999999999999\n"
     ]
    },
    {
     "name": "stderr",
     "output_type": "stream",
     "text": [
      "/var/folders/0c/8xbkg06s6cz0yy2505h06nlm00017d/T/ipykernel_78749/2592492654.py:101: UserWarning: This figure includes Axes that are not compatible with tight_layout, so results might be incorrect.\n",
      "  plt.tight_layout()\n"
     ]
    },
    {
     "name": "stdout",
     "output_type": "stream",
     "text": [
      "2022-03-31 23:04:25 UTC 2022-03-31 17:04:25 MDT\n",
      "17:04:25\n",
      "5 152.06631455962165\n",
      "4 26.5\n"
     ]
    },
    {
     "name": "stderr",
     "output_type": "stream",
     "text": [
      "/var/folders/0c/8xbkg06s6cz0yy2505h06nlm00017d/T/ipykernel_78749/2592492654.py:101: UserWarning: This figure includes Axes that are not compatible with tight_layout, so results might be incorrect.\n",
      "  plt.tight_layout()\n"
     ]
    },
    {
     "name": "stdout",
     "output_type": "stream",
     "text": [
      "2022-03-31 23:03:25 UTC 2022-03-31 17:03:25 MDT\n",
      "17:03:25\n",
      "5 151.56631455962165\n",
      "3 20.5\n"
     ]
    },
    {
     "name": "stderr",
     "output_type": "stream",
     "text": [
      "/var/folders/0c/8xbkg06s6cz0yy2505h06nlm00017d/T/ipykernel_78749/2592492654.py:101: UserWarning: This figure includes Axes that are not compatible with tight_layout, so results might be incorrect.\n",
      "  plt.tight_layout()\n"
     ]
    },
    {
     "name": "stdout",
     "output_type": "stream",
     "text": [
      "We already have this one!\n",
      "We already have this one!\n",
      "We already have this one!\n",
      "We already have this one!\n",
      "We already have this one!\n",
      "We already have this one!\n",
      "We already have this one!\n",
      "We already have this one!\n",
      "We already have this one!\n",
      "We already have this one!\n",
      "We already have this one!\n",
      "We already have this one!\n",
      "We already have this one!\n",
      "We already have this one!\n",
      "We already have this one!\n",
      "We already have this one!\n",
      "We already have this one!\n",
      "We already have this one!\n",
      "We already have this one!\n",
      "We already have this one!\n",
      "We already have this one!\n",
      "We already have this one!\n",
      "We already have this one!\n",
      "We already have this one!\n",
      "We already have this one!\n",
      "We already have this one!\n",
      "We already have this one!\n",
      "We already have this one!\n",
      "We already have this one!\n",
      "We already have this one!\n",
      "We already have this one!\n",
      "We already have this one!\n",
      "We already have this one!\n",
      "We already have this one!\n",
      "We already have this one!\n",
      "We already have this one!\n",
      "We already have this one!\n",
      "We already have this one!\n",
      "We already have this one!\n",
      "We already have this one!\n",
      "We already have this one!\n",
      "We already have this one!\n",
      "We already have this one!\n",
      "We already have this one!\n",
      "We already have this one!\n",
      "We already have this one!\n",
      "We already have this one!\n",
      "We already have this one!\n",
      "We already have this one!\n",
      "We already have this one!\n",
      "We already have this one!\n",
      "We already have this one!\n",
      "We already have this one!\n"
     ]
    }
   ],
   "source": [
    "##################################################\n",
    "#\n",
    "# Create PNGs\n",
    "#\n",
    "\n",
    "for i in range(0,len(cat.datasets[0:total_frames])+1,1) : \n",
    "\n",
    "    dataset = cat.datasets[i]\n",
    "    \n",
    "    dataset_png_file_name = png_processing_directory + dataset.name.replace(\".nc\", \".png\")\n",
    "    \n",
    "    if (not pathlib.Path(dataset_png_file_name).is_file() ):\n",
    "\n",
    "        ds = dataset.remote_access(use_xarray=True)\n",
    "        dat = ds.metpy.parse_cf('Sectorized_CMI')\n",
    "        proj = dat.metpy.cartopy_crs\n",
    "        x = dat['x']\n",
    "        y = dat['y']\n",
    "\n",
    "\n",
    "        tz='America/Denver'\n",
    "        time_utc   = datetime.strptime(ds.start_date_time, '%Y%j%H%M%S')\n",
    "        valid_time = pd.to_datetime(time_utc).tz_localize(tz=\"UTC\").strftime(\"%Y-%m-%d %H:%M:%S %Z\")\n",
    "        local_time = pd.to_datetime(time_utc).tz_localize(tz=\"UTC\").tz_convert(tz=tz).strftime(\"%Y-%m-%d %H:%M:%S %Z\")\n",
    "\n",
    "        file_time = pd.to_datetime(time_utc).tz_localize(tz=\"UTC\").strftime(\"%Y-%m-%d_%H%M\")\n",
    "\n",
    "\n",
    "        print(valid_time,local_time)\n",
    "\n",
    "\n",
    "\n",
    "        fig = plt.figure(figsize=(8, 8), facecolor = 'white')\n",
    "\n",
    "        plt.suptitle(image_header_label,\n",
    "                     fontsize = 20, \n",
    "                     color    = \"black\")\n",
    "        ax = fig.add_subplot(1, 1, 1, projection=proj)\n",
    "        ax.set_title(valid_time + \"  (\" + local_time+\")\",\n",
    "                        fontsize=15, color=\"black\")\n",
    "        ax.add_feature(cfeature.COASTLINE.with_scale('50m'), linewidth=2)\n",
    "        ax.add_feature(cfeature.STATES.with_scale('50m'),    linestyle=':', edgecolor='black')\n",
    "        ax.add_feature(cfeature.BORDERS.with_scale('50m'),   linewidth=2, edgecolor='black')\n",
    "        \n",
    "\n",
    "        # print(\"range dat = \",np.nanmin(dat.values),np.nanmax(dat.values))\n",
    "        im = ax.imshow(dat, extent=(x.min(), x.max(), y.min(), y.max()), origin='upper')\n",
    "\n",
    "        wv_norm, wv_cmap = colortables.get_with_range('WVCIMSS_r', 190, 310)\n",
    "        im.set_cmap(wv_cmap)\n",
    "        im.set_norm(wv_norm)\n",
    "\n",
    "        #########################################\n",
    "        #\n",
    "        # Insert a Clock\n",
    "        #\n",
    "        \n",
    "        axins = fig.add_axes(rect     =    [0.065,\n",
    "                                            0.795,\n",
    "                                            0.12*0.65306121,\n",
    "                                            0.12],\n",
    "                              projection  =  \"polar\")\n",
    "        \n",
    "        time_for_clock = pd.to_datetime(time_utc).tz_localize(tz=\"UTC\").tz_convert(tz=tz).time()\n",
    "\n",
    "        hour   = time_for_clock.hour\n",
    "        minute = time_for_clock.minute\n",
    "        second = time_for_clock.second\n",
    "        \n",
    "        circle_theta  = np.deg2rad(np.arange(0,360,0.01))\n",
    "        circle_radius = circle_theta * 0 + 1\n",
    "        \n",
    "        if (hour > 12) :\n",
    "            hour = hour - 12\n",
    "        \n",
    "        angles_h = 2*np.pi*hour/12+2*np.pi*minute/(12*60)+2*second/(12*60*60)\n",
    "        angles_m = 2*np.pi*minute/60+2*np.pi*second/(60*60)\n",
    "        \n",
    "        print(time_for_clock)\n",
    "        print(hour,   np.rad2deg(angles_h))\n",
    "        print(minute, np.rad2deg(angles_m))\n",
    "\n",
    "        \n",
    "        plt.setp(axins.get_yticklabels(), visible=False)\n",
    "        plt.setp(axins.get_xticklabels(), visible=False)\n",
    "        axins.spines['polar'].set_visible(False)\n",
    "        axins.set_ylim(0,1)\n",
    "        axins.set_theta_zero_location('N')\n",
    "        axins.set_theta_direction(-1)\n",
    "        axins.set_facecolor(\"white\")\n",
    "        axins.grid(False)\n",
    "        \n",
    "        axins.plot([angles_h,angles_h], [0,0.6], color=\"black\", linewidth=1.5)\n",
    "        axins.plot([angles_m,angles_m], [0,0.95], color=\"black\", linewidth=1.5)\n",
    "        axins.plot(circle_theta, circle_radius, color=\"darkgrey\", linewidth=1)\n",
    "\n",
    "\n",
    "        \n",
    "        #\n",
    "        #########################################             \n",
    "        plt.tight_layout()\n",
    "        \n",
    "        plt.savefig( dataset_png_file_name)\n",
    "        plt.close()\n",
    "    else:\n",
    "        print(\"We already have this one!\")\n",
    "    \n",
    "\n",
    "#\n",
    "##################################################"
   ]
  },
  {
   "cell_type": "code",
   "execution_count": 7,
   "id": "25797458-35e4-4f83-9383-7fad3c0ac636",
   "metadata": {},
   "outputs": [
    {
     "name": "stdout",
     "output_type": "stream",
     "text": [
      "completed ./graphics_files/RealTime_SAT_IR_Meso1_Loop.gif\n"
     ]
    }
   ],
   "source": [
    "##################################################\n",
    "#\n",
    "# Convert PNGs into an Animated GIF\n",
    "#\n",
    "\n",
    "\n",
    "big_string = \" \".join(file_names_to_use_meso1)\n",
    "\n",
    "os.system(\"convert -delay 10 \" + \n",
    "          big_string + \n",
    "          \" \" + \n",
    "          gif_file_name1)\n",
    "\n",
    "print(\"completed \"+ gif_file_name1)\n",
    "\n",
    "\n",
    "#\n",
    "##################################################"
   ]
  },
  {
   "cell_type": "code",
   "execution_count": null,
   "id": "79dc57a0-e951-4b8f-9dea-4137d1595972",
   "metadata": {},
   "outputs": [],
   "source": []
  },
  {
   "cell_type": "code",
   "execution_count": null,
   "id": "da436531-64d0-4764-84af-b22b84cbdf0b",
   "metadata": {},
   "outputs": [],
   "source": []
  },
  {
   "cell_type": "code",
   "execution_count": null,
   "id": "1b5b1c2f-6449-41ee-acf1-617af3e3847e",
   "metadata": {},
   "outputs": [],
   "source": []
  },
  {
   "cell_type": "markdown",
   "id": "dfd2f1ab-afdd-4512-8d02-b9887556471c",
   "metadata": {},
   "source": [
    "## Meso Floater 2"
   ]
  },
  {
   "cell_type": "code",
   "execution_count": 8,
   "id": "563d742e-a831-4f99-a492-496c632c35df",
   "metadata": {},
   "outputs": [
    {
     "name": "stdout",
     "output_type": "stream",
     "text": [
      "https://thredds.ucar.edu/thredds/catalog/satellite/goes/east/products/CloudAndMoistureImagery/Mesoscale-2/Channel02/current/catalog.xml\n"
     ]
    }
   ],
   "source": [
    "##################################################\n",
    "#\n",
    "# Control Setup\n",
    "#\n",
    "\n",
    "# %load solutions/data_url.py\n",
    "\n",
    "total_frames = int(45*2 * 0.8)\n",
    "\n",
    "\n",
    "png_processing_directory = \"./temp_files_sat_ir_meso2/\"\n",
    "\n",
    "gif_file_name1 = \"./graphics_files/RealTime_SAT_IR_Meso1_Loop.gif\"\n",
    "gif_file_name2 = \"./graphics_files/RealTime_SAT_IR_Meso2_Loop.gif\"\n",
    "gif_file_name3 = \"./graphics_files/RealTime_SAT_IR_SODAK_Loop.gif\"\n",
    "gif_file_name12 = \"./graphics_files/RealTime_SAT_IR_Meso12_Loop.gif\"\n",
    "\n",
    "\n",
    "image_header_label = \"GOES 16 Meso2 Band 13 [10.3 µm Clean LW IR Window]\"\n",
    "\n",
    "# Cell content replaced by load magic replacement.\n",
    "\n",
    "# Create variables for URL generation\n",
    "\n",
    "image_date = datetime.utcnow().date()\n",
    "region = 'Mesoscale-2'\n",
    "channel = 2\n",
    "\n",
    "# We want to match something like:\n",
    "# https://thredds-test.unidata.ucar.edu/thredds/catalog/satellite/goes16/GOES16/Mesoscale-1/Channel08/20181113/catalog.html\n",
    "\n",
    "# Construct the data_url string\n",
    "\n",
    "data_url = ('https://thredds.ucar.edu/thredds/catalog/satellite/goes/east/products/'\n",
    "            f'CloudAndMoistureImagery/{region}/Channel{channel:02d}/current/catalog.xml')\n",
    "\n",
    "# Print out your URL and verify it works!\n",
    "\n",
    "print(data_url)\n",
    "\n",
    "#\n",
    "##################################################"
   ]
  },
  {
   "cell_type": "code",
   "execution_count": 9,
   "id": "88589b89-075d-4496-b5e6-f9c1a66dea7d",
   "metadata": {},
   "outputs": [],
   "source": [
    "##################################################\n",
    "#\n",
    "# Pull Catalog\n",
    "#\n",
    "\n",
    "cat = TDSCatalog(data_url)\n",
    "\n",
    "#\n",
    "##################################################"
   ]
  },
  {
   "cell_type": "code",
   "execution_count": 10,
   "id": "c6c5aa9b-8ab8-4830-b9dc-169f86850817",
   "metadata": {},
   "outputs": [],
   "source": [
    "##################################################\n",
    "#\n",
    "# Create File Inventories\n",
    "#\n",
    "\n",
    "file_names_to_retain = list()\n",
    "file_names_to_use    = list()\n",
    "\n",
    "\n",
    "for i in range(0,len(cat.datasets[0:total_frames])+1,1) : \n",
    "    filename = png_processing_directory + cat.datasets[i].name.replace(\".nc\",\".png\")\n",
    "    file_names_to_retain.append(filename)\n",
    "    file_names_to_use.append(filename)\n",
    "\n",
    "        \n",
    "files_on_hand = [png_processing_directory + s for s in os.listdir(png_processing_directory)]\n",
    "\n",
    "\n",
    "file_names_to_retain.sort()\n",
    "file_names_to_use.sort()\n",
    "\n",
    "file_names_to_use_meso2 = file_names_to_use.copy()\n",
    "\n",
    "\n",
    "#\n",
    "##################################################   "
   ]
  },
  {
   "cell_type": "code",
   "execution_count": 11,
   "id": "e757eda3-02a7-4f7e-9b5b-1481959bca69",
   "metadata": {},
   "outputs": [
    {
     "name": "stdout",
     "output_type": "stream",
     "text": [
      "Purging  ./temp_files_sat_ir_meso2/.DS_Store\n"
     ]
    }
   ],
   "source": [
    "##################################################\n",
    "#\n",
    "# Clean PNG Directory\n",
    "#\n",
    "\n",
    "for filename in files_on_hand:\n",
    "    if filename not in file_names_to_retain:\n",
    "        print(\"Purging \", filename )\n",
    "        os.remove( filename  )\n",
    "    else:\n",
    "        print(\"Keeping \", filename )\n",
    "#\n",
    "##################################################  "
   ]
  },
  {
   "cell_type": "code",
   "execution_count": 12,
   "id": "2ae3b4a2-ae1a-4b7a-8a0f-768c38c9f3ce",
   "metadata": {},
   "outputs": [
    {
     "name": "stdout",
     "output_type": "stream",
     "text": [
      "2022-03-31 23:23:55 UTC 2022-03-31 17:23:55 MDT\n",
      "17:23:55\n",
      "5 161.64589203116756\n",
      "23 143.49999999999997\n"
     ]
    },
    {
     "name": "stderr",
     "output_type": "stream",
     "text": [
      "/var/folders/0c/8xbkg06s6cz0yy2505h06nlm00017d/T/ipykernel_78749/2778697526.py:105: UserWarning: This figure includes Axes that are not compatible with tight_layout, so results might be incorrect.\n",
      "  plt.tight_layout()\n"
     ]
    },
    {
     "name": "stdout",
     "output_type": "stream",
     "text": [
      "2022-03-31 23:22:55 UTC 2022-03-31 17:22:55 MDT\n",
      "17:22:55\n",
      "5 161.14589203116756\n",
      "22 137.49999999999997\n"
     ]
    },
    {
     "name": "stderr",
     "output_type": "stream",
     "text": [
      "/var/folders/0c/8xbkg06s6cz0yy2505h06nlm00017d/T/ipykernel_78749/2778697526.py:105: UserWarning: This figure includes Axes that are not compatible with tight_layout, so results might be incorrect.\n",
      "  plt.tight_layout()\n"
     ]
    },
    {
     "name": "stdout",
     "output_type": "stream",
     "text": [
      "2022-03-31 23:21:55 UTC 2022-03-31 17:21:55 MDT\n",
      "17:21:55\n",
      "5 160.64589203116756\n",
      "21 131.5\n"
     ]
    },
    {
     "name": "stderr",
     "output_type": "stream",
     "text": [
      "/var/folders/0c/8xbkg06s6cz0yy2505h06nlm00017d/T/ipykernel_78749/2778697526.py:105: UserWarning: This figure includes Axes that are not compatible with tight_layout, so results might be incorrect.\n",
      "  plt.tight_layout()\n"
     ]
    },
    {
     "name": "stdout",
     "output_type": "stream",
     "text": [
      "2022-03-31 23:20:55 UTC 2022-03-31 17:20:55 MDT\n",
      "17:20:55\n",
      "5 160.14589203116756\n",
      "20 125.49999999999999\n"
     ]
    },
    {
     "name": "stderr",
     "output_type": "stream",
     "text": [
      "/var/folders/0c/8xbkg06s6cz0yy2505h06nlm00017d/T/ipykernel_78749/2778697526.py:105: UserWarning: This figure includes Axes that are not compatible with tight_layout, so results might be incorrect.\n",
      "  plt.tight_layout()\n"
     ]
    },
    {
     "name": "stdout",
     "output_type": "stream",
     "text": [
      "2022-03-31 23:19:55 UTC 2022-03-31 17:19:55 MDT\n",
      "17:19:55\n",
      "5 159.64589203116756\n",
      "19 119.5\n"
     ]
    },
    {
     "name": "stderr",
     "output_type": "stream",
     "text": [
      "/var/folders/0c/8xbkg06s6cz0yy2505h06nlm00017d/T/ipykernel_78749/2778697526.py:105: UserWarning: This figure includes Axes that are not compatible with tight_layout, so results might be incorrect.\n",
      "  plt.tight_layout()\n"
     ]
    },
    {
     "name": "stdout",
     "output_type": "stream",
     "text": [
      "2022-03-31 23:18:55 UTC 2022-03-31 17:18:55 MDT\n",
      "17:18:55\n",
      "5 159.14589203116756\n",
      "18 113.5\n"
     ]
    },
    {
     "name": "stderr",
     "output_type": "stream",
     "text": [
      "/var/folders/0c/8xbkg06s6cz0yy2505h06nlm00017d/T/ipykernel_78749/2778697526.py:105: UserWarning: This figure includes Axes that are not compatible with tight_layout, so results might be incorrect.\n",
      "  plt.tight_layout()\n"
     ]
    },
    {
     "name": "stdout",
     "output_type": "stream",
     "text": [
      "2022-03-31 23:17:55 UTC 2022-03-31 17:17:55 MDT\n",
      "17:17:55\n",
      "5 158.64589203116756\n",
      "17 107.5\n"
     ]
    },
    {
     "name": "stderr",
     "output_type": "stream",
     "text": [
      "/var/folders/0c/8xbkg06s6cz0yy2505h06nlm00017d/T/ipykernel_78749/2778697526.py:105: UserWarning: This figure includes Axes that are not compatible with tight_layout, so results might be incorrect.\n",
      "  plt.tight_layout()\n"
     ]
    },
    {
     "name": "stdout",
     "output_type": "stream",
     "text": [
      "2022-03-31 23:16:55 UTC 2022-03-31 17:16:55 MDT\n",
      "17:16:55\n",
      "5 158.1458920311676\n",
      "16 101.5\n"
     ]
    },
    {
     "name": "stderr",
     "output_type": "stream",
     "text": [
      "/var/folders/0c/8xbkg06s6cz0yy2505h06nlm00017d/T/ipykernel_78749/2778697526.py:105: UserWarning: This figure includes Axes that are not compatible with tight_layout, so results might be incorrect.\n",
      "  plt.tight_layout()\n"
     ]
    },
    {
     "name": "stdout",
     "output_type": "stream",
     "text": [
      "2022-03-31 23:15:55 UTC 2022-03-31 17:15:55 MDT\n",
      "17:15:55\n",
      "5 157.64589203116756\n",
      "15 95.49999999999999\n"
     ]
    },
    {
     "name": "stderr",
     "output_type": "stream",
     "text": [
      "/var/folders/0c/8xbkg06s6cz0yy2505h06nlm00017d/T/ipykernel_78749/2778697526.py:105: UserWarning: This figure includes Axes that are not compatible with tight_layout, so results might be incorrect.\n",
      "  plt.tight_layout()\n"
     ]
    },
    {
     "name": "stdout",
     "output_type": "stream",
     "text": [
      "2022-03-31 23:14:55 UTC 2022-03-31 17:14:55 MDT\n",
      "17:14:55\n",
      "5 157.14589203116756\n",
      "14 89.5\n"
     ]
    },
    {
     "name": "stderr",
     "output_type": "stream",
     "text": [
      "/var/folders/0c/8xbkg06s6cz0yy2505h06nlm00017d/T/ipykernel_78749/2778697526.py:105: UserWarning: This figure includes Axes that are not compatible with tight_layout, so results might be incorrect.\n",
      "  plt.tight_layout()\n"
     ]
    },
    {
     "name": "stdout",
     "output_type": "stream",
     "text": [
      "2022-03-31 23:13:55 UTC 2022-03-31 17:13:55 MDT\n",
      "17:13:55\n",
      "5 156.64589203116756\n",
      "13 83.50000000000001\n"
     ]
    },
    {
     "name": "stderr",
     "output_type": "stream",
     "text": [
      "/var/folders/0c/8xbkg06s6cz0yy2505h06nlm00017d/T/ipykernel_78749/2778697526.py:105: UserWarning: This figure includes Axes that are not compatible with tight_layout, so results might be incorrect.\n",
      "  plt.tight_layout()\n"
     ]
    },
    {
     "name": "stdout",
     "output_type": "stream",
     "text": [
      "2022-03-31 23:12:55 UTC 2022-03-31 17:12:55 MDT\n",
      "17:12:55\n",
      "5 156.14589203116756\n",
      "12 77.5\n"
     ]
    },
    {
     "name": "stderr",
     "output_type": "stream",
     "text": [
      "/var/folders/0c/8xbkg06s6cz0yy2505h06nlm00017d/T/ipykernel_78749/2778697526.py:105: UserWarning: This figure includes Axes that are not compatible with tight_layout, so results might be incorrect.\n",
      "  plt.tight_layout()\n"
     ]
    },
    {
     "name": "stdout",
     "output_type": "stream",
     "text": [
      "2022-03-31 23:11:55 UTC 2022-03-31 17:11:55 MDT\n",
      "17:11:55\n",
      "5 155.64589203116756\n",
      "11 71.49999999999999\n"
     ]
    },
    {
     "name": "stderr",
     "output_type": "stream",
     "text": [
      "/var/folders/0c/8xbkg06s6cz0yy2505h06nlm00017d/T/ipykernel_78749/2778697526.py:105: UserWarning: This figure includes Axes that are not compatible with tight_layout, so results might be incorrect.\n",
      "  plt.tight_layout()\n"
     ]
    },
    {
     "name": "stdout",
     "output_type": "stream",
     "text": [
      "2022-03-31 23:10:55 UTC 2022-03-31 17:10:55 MDT\n",
      "17:10:55\n",
      "5 155.14589203116756\n",
      "10 65.5\n"
     ]
    },
    {
     "name": "stderr",
     "output_type": "stream",
     "text": [
      "/var/folders/0c/8xbkg06s6cz0yy2505h06nlm00017d/T/ipykernel_78749/2778697526.py:105: UserWarning: This figure includes Axes that are not compatible with tight_layout, so results might be incorrect.\n",
      "  plt.tight_layout()\n"
     ]
    },
    {
     "name": "stdout",
     "output_type": "stream",
     "text": [
      "2022-03-31 23:09:55 UTC 2022-03-31 17:09:55 MDT\n",
      "17:09:55\n",
      "5 154.64589203116756\n",
      "9 59.5\n"
     ]
    },
    {
     "name": "stderr",
     "output_type": "stream",
     "text": [
      "/var/folders/0c/8xbkg06s6cz0yy2505h06nlm00017d/T/ipykernel_78749/2778697526.py:105: UserWarning: This figure includes Axes that are not compatible with tight_layout, so results might be incorrect.\n",
      "  plt.tight_layout()\n"
     ]
    },
    {
     "name": "stdout",
     "output_type": "stream",
     "text": [
      "2022-03-31 23:08:55 UTC 2022-03-31 17:08:55 MDT\n",
      "17:08:55\n",
      "5 154.14589203116756\n",
      "8 53.5\n"
     ]
    },
    {
     "name": "stderr",
     "output_type": "stream",
     "text": [
      "/var/folders/0c/8xbkg06s6cz0yy2505h06nlm00017d/T/ipykernel_78749/2778697526.py:105: UserWarning: This figure includes Axes that are not compatible with tight_layout, so results might be incorrect.\n",
      "  plt.tight_layout()\n"
     ]
    },
    {
     "name": "stdout",
     "output_type": "stream",
     "text": [
      "2022-03-31 23:07:55 UTC 2022-03-31 17:07:55 MDT\n",
      "17:07:55\n",
      "5 153.6458920311676\n",
      "7 47.5\n"
     ]
    },
    {
     "name": "stderr",
     "output_type": "stream",
     "text": [
      "/var/folders/0c/8xbkg06s6cz0yy2505h06nlm00017d/T/ipykernel_78749/2778697526.py:105: UserWarning: This figure includes Axes that are not compatible with tight_layout, so results might be incorrect.\n",
      "  plt.tight_layout()\n"
     ]
    },
    {
     "name": "stdout",
     "output_type": "stream",
     "text": [
      "2022-03-31 23:06:55 UTC 2022-03-31 17:06:55 MDT\n",
      "17:06:55\n",
      "5 153.14589203116756\n",
      "6 41.5\n"
     ]
    },
    {
     "name": "stderr",
     "output_type": "stream",
     "text": [
      "/var/folders/0c/8xbkg06s6cz0yy2505h06nlm00017d/T/ipykernel_78749/2778697526.py:105: UserWarning: This figure includes Axes that are not compatible with tight_layout, so results might be incorrect.\n",
      "  plt.tight_layout()\n"
     ]
    },
    {
     "name": "stdout",
     "output_type": "stream",
     "text": [
      "2022-03-31 23:05:55 UTC 2022-03-31 17:05:55 MDT\n",
      "17:05:55\n",
      "5 152.64589203116756\n",
      "5 35.5\n"
     ]
    },
    {
     "name": "stderr",
     "output_type": "stream",
     "text": [
      "/var/folders/0c/8xbkg06s6cz0yy2505h06nlm00017d/T/ipykernel_78749/2778697526.py:105: UserWarning: This figure includes Axes that are not compatible with tight_layout, so results might be incorrect.\n",
      "  plt.tight_layout()\n"
     ]
    },
    {
     "name": "stdout",
     "output_type": "stream",
     "text": [
      "2022-03-31 23:04:55 UTC 2022-03-31 17:04:55 MDT\n",
      "17:04:55\n",
      "5 152.14589203116756\n",
      "4 29.499999999999996\n"
     ]
    },
    {
     "name": "stderr",
     "output_type": "stream",
     "text": [
      "/var/folders/0c/8xbkg06s6cz0yy2505h06nlm00017d/T/ipykernel_78749/2778697526.py:105: UserWarning: This figure includes Axes that are not compatible with tight_layout, so results might be incorrect.\n",
      "  plt.tight_layout()\n"
     ]
    },
    {
     "name": "stdout",
     "output_type": "stream",
     "text": [
      "2022-03-31 23:03:55 UTC 2022-03-31 17:03:55 MDT\n",
      "17:03:55\n",
      "5 151.64589203116756\n",
      "3 23.5\n"
     ]
    },
    {
     "name": "stderr",
     "output_type": "stream",
     "text": [
      "/var/folders/0c/8xbkg06s6cz0yy2505h06nlm00017d/T/ipykernel_78749/2778697526.py:105: UserWarning: This figure includes Axes that are not compatible with tight_layout, so results might be incorrect.\n",
      "  plt.tight_layout()\n"
     ]
    },
    {
     "name": "stdout",
     "output_type": "stream",
     "text": [
      "2022-03-31 23:02:55 UTC 2022-03-31 17:02:55 MDT\n",
      "17:02:55\n",
      "5 151.14589203116756\n",
      "2 17.5\n"
     ]
    },
    {
     "name": "stderr",
     "output_type": "stream",
     "text": [
      "/var/folders/0c/8xbkg06s6cz0yy2505h06nlm00017d/T/ipykernel_78749/2778697526.py:105: UserWarning: This figure includes Axes that are not compatible with tight_layout, so results might be incorrect.\n",
      "  plt.tight_layout()\n"
     ]
    },
    {
     "name": "stdout",
     "output_type": "stream",
     "text": [
      "2022-03-31 23:01:55 UTC 2022-03-31 17:01:55 MDT\n",
      "17:01:55\n",
      "5 150.64589203116756\n",
      "1 11.5\n"
     ]
    },
    {
     "name": "stderr",
     "output_type": "stream",
     "text": [
      "/var/folders/0c/8xbkg06s6cz0yy2505h06nlm00017d/T/ipykernel_78749/2778697526.py:105: UserWarning: This figure includes Axes that are not compatible with tight_layout, so results might be incorrect.\n",
      "  plt.tight_layout()\n"
     ]
    },
    {
     "name": "stdout",
     "output_type": "stream",
     "text": [
      "2022-03-31 23:00:55 UTC 2022-03-31 17:00:55 MDT\n",
      "17:00:55\n",
      "5 150.14589203116756\n",
      "0 5.500000000000001\n"
     ]
    },
    {
     "name": "stderr",
     "output_type": "stream",
     "text": [
      "/var/folders/0c/8xbkg06s6cz0yy2505h06nlm00017d/T/ipykernel_78749/2778697526.py:105: UserWarning: This figure includes Axes that are not compatible with tight_layout, so results might be incorrect.\n",
      "  plt.tight_layout()\n"
     ]
    },
    {
     "name": "stdout",
     "output_type": "stream",
     "text": [
      "2022-03-31 22:59:55 UTC 2022-03-31 16:59:55 MDT\n",
      "16:59:55\n",
      "4 149.64589203116753\n",
      "59 359.50000000000006\n"
     ]
    },
    {
     "name": "stderr",
     "output_type": "stream",
     "text": [
      "/var/folders/0c/8xbkg06s6cz0yy2505h06nlm00017d/T/ipykernel_78749/2778697526.py:105: UserWarning: This figure includes Axes that are not compatible with tight_layout, so results might be incorrect.\n",
      "  plt.tight_layout()\n"
     ]
    },
    {
     "name": "stdout",
     "output_type": "stream",
     "text": [
      "2022-03-31 22:58:55 UTC 2022-03-31 16:58:55 MDT\n",
      "16:58:55\n",
      "4 149.14589203116756\n",
      "58 353.50000000000006\n"
     ]
    },
    {
     "name": "stderr",
     "output_type": "stream",
     "text": [
      "/var/folders/0c/8xbkg06s6cz0yy2505h06nlm00017d/T/ipykernel_78749/2778697526.py:105: UserWarning: This figure includes Axes that are not compatible with tight_layout, so results might be incorrect.\n",
      "  plt.tight_layout()\n"
     ]
    },
    {
     "name": "stdout",
     "output_type": "stream",
     "text": [
      "2022-03-31 22:57:55 UTC 2022-03-31 16:57:55 MDT\n",
      "16:57:55\n",
      "4 148.64589203116756\n",
      "57 347.5\n"
     ]
    },
    {
     "name": "stderr",
     "output_type": "stream",
     "text": [
      "/var/folders/0c/8xbkg06s6cz0yy2505h06nlm00017d/T/ipykernel_78749/2778697526.py:105: UserWarning: This figure includes Axes that are not compatible with tight_layout, so results might be incorrect.\n",
      "  plt.tight_layout()\n"
     ]
    },
    {
     "name": "stdout",
     "output_type": "stream",
     "text": [
      "2022-03-31 22:56:55 UTC 2022-03-31 16:56:55 MDT\n",
      "16:56:55\n",
      "4 148.14589203116756\n",
      "56 341.50000000000006\n"
     ]
    },
    {
     "name": "stderr",
     "output_type": "stream",
     "text": [
      "/var/folders/0c/8xbkg06s6cz0yy2505h06nlm00017d/T/ipykernel_78749/2778697526.py:105: UserWarning: This figure includes Axes that are not compatible with tight_layout, so results might be incorrect.\n",
      "  plt.tight_layout()\n"
     ]
    },
    {
     "name": "stdout",
     "output_type": "stream",
     "text": [
      "2022-03-31 22:55:55 UTC 2022-03-31 16:55:55 MDT\n",
      "16:55:55\n",
      "4 147.64589203116753\n",
      "55 335.50000000000006\n"
     ]
    },
    {
     "name": "stderr",
     "output_type": "stream",
     "text": [
      "/var/folders/0c/8xbkg06s6cz0yy2505h06nlm00017d/T/ipykernel_78749/2778697526.py:105: UserWarning: This figure includes Axes that are not compatible with tight_layout, so results might be incorrect.\n",
      "  plt.tight_layout()\n"
     ]
    },
    {
     "name": "stdout",
     "output_type": "stream",
     "text": [
      "2022-03-31 22:54:55 UTC 2022-03-31 16:54:55 MDT\n",
      "16:54:55\n",
      "4 147.14589203116756\n",
      "54 329.5\n"
     ]
    },
    {
     "name": "stderr",
     "output_type": "stream",
     "text": [
      "/var/folders/0c/8xbkg06s6cz0yy2505h06nlm00017d/T/ipykernel_78749/2778697526.py:105: UserWarning: This figure includes Axes that are not compatible with tight_layout, so results might be incorrect.\n",
      "  plt.tight_layout()\n"
     ]
    },
    {
     "name": "stdout",
     "output_type": "stream",
     "text": [
      "2022-03-31 22:53:55 UTC 2022-03-31 16:53:55 MDT\n",
      "16:53:55\n",
      "4 146.64589203116756\n",
      "53 323.50000000000006\n"
     ]
    },
    {
     "name": "stderr",
     "output_type": "stream",
     "text": [
      "/var/folders/0c/8xbkg06s6cz0yy2505h06nlm00017d/T/ipykernel_78749/2778697526.py:105: UserWarning: This figure includes Axes that are not compatible with tight_layout, so results might be incorrect.\n",
      "  plt.tight_layout()\n"
     ]
    },
    {
     "name": "stdout",
     "output_type": "stream",
     "text": [
      "2022-03-31 22:52:55 UTC 2022-03-31 16:52:55 MDT\n",
      "16:52:55\n",
      "4 146.14589203116756\n",
      "52 317.50000000000006\n"
     ]
    },
    {
     "name": "stderr",
     "output_type": "stream",
     "text": [
      "/var/folders/0c/8xbkg06s6cz0yy2505h06nlm00017d/T/ipykernel_78749/2778697526.py:105: UserWarning: This figure includes Axes that are not compatible with tight_layout, so results might be incorrect.\n",
      "  plt.tight_layout()\n"
     ]
    },
    {
     "name": "stdout",
     "output_type": "stream",
     "text": [
      "2022-03-31 22:51:55 UTC 2022-03-31 16:51:55 MDT\n",
      "16:51:55\n",
      "4 145.64589203116753\n",
      "51 311.5\n"
     ]
    },
    {
     "name": "stderr",
     "output_type": "stream",
     "text": [
      "/var/folders/0c/8xbkg06s6cz0yy2505h06nlm00017d/T/ipykernel_78749/2778697526.py:105: UserWarning: This figure includes Axes that are not compatible with tight_layout, so results might be incorrect.\n",
      "  plt.tight_layout()\n"
     ]
    },
    {
     "name": "stdout",
     "output_type": "stream",
     "text": [
      "2022-03-31 22:50:55 UTC 2022-03-31 16:50:55 MDT\n",
      "16:50:55\n",
      "4 145.14589203116753\n",
      "50 305.50000000000006\n"
     ]
    },
    {
     "name": "stderr",
     "output_type": "stream",
     "text": [
      "/var/folders/0c/8xbkg06s6cz0yy2505h06nlm00017d/T/ipykernel_78749/2778697526.py:105: UserWarning: This figure includes Axes that are not compatible with tight_layout, so results might be incorrect.\n",
      "  plt.tight_layout()\n"
     ]
    },
    {
     "name": "stdout",
     "output_type": "stream",
     "text": [
      "2022-03-31 22:49:55 UTC 2022-03-31 16:49:55 MDT\n",
      "16:49:55\n",
      "4 144.64589203116756\n",
      "49 299.5\n"
     ]
    },
    {
     "name": "stderr",
     "output_type": "stream",
     "text": [
      "/var/folders/0c/8xbkg06s6cz0yy2505h06nlm00017d/T/ipykernel_78749/2778697526.py:105: UserWarning: This figure includes Axes that are not compatible with tight_layout, so results might be incorrect.\n",
      "  plt.tight_layout()\n"
     ]
    },
    {
     "name": "stdout",
     "output_type": "stream",
     "text": [
      "2022-03-31 22:48:55 UTC 2022-03-31 16:48:55 MDT\n",
      "16:48:55\n",
      "4 144.14589203116756\n",
      "48 293.5\n"
     ]
    },
    {
     "name": "stderr",
     "output_type": "stream",
     "text": [
      "/var/folders/0c/8xbkg06s6cz0yy2505h06nlm00017d/T/ipykernel_78749/2778697526.py:105: UserWarning: This figure includes Axes that are not compatible with tight_layout, so results might be incorrect.\n",
      "  plt.tight_layout()\n"
     ]
    },
    {
     "name": "stdout",
     "output_type": "stream",
     "text": [
      "2022-03-31 22:47:55 UTC 2022-03-31 16:47:55 MDT\n",
      "16:47:55\n",
      "4 143.64589203116753\n",
      "47 287.50000000000006\n"
     ]
    },
    {
     "name": "stderr",
     "output_type": "stream",
     "text": [
      "/var/folders/0c/8xbkg06s6cz0yy2505h06nlm00017d/T/ipykernel_78749/2778697526.py:105: UserWarning: This figure includes Axes that are not compatible with tight_layout, so results might be incorrect.\n",
      "  plt.tight_layout()\n"
     ]
    },
    {
     "name": "stdout",
     "output_type": "stream",
     "text": [
      "2022-03-31 22:46:55 UTC 2022-03-31 16:46:55 MDT\n",
      "16:46:55\n",
      "4 143.14589203116753\n",
      "46 281.5\n"
     ]
    },
    {
     "name": "stderr",
     "output_type": "stream",
     "text": [
      "/var/folders/0c/8xbkg06s6cz0yy2505h06nlm00017d/T/ipykernel_78749/2778697526.py:105: UserWarning: This figure includes Axes that are not compatible with tight_layout, so results might be incorrect.\n",
      "  plt.tight_layout()\n"
     ]
    },
    {
     "name": "stdout",
     "output_type": "stream",
     "text": [
      "2022-03-31 22:45:55 UTC 2022-03-31 16:45:55 MDT\n",
      "16:45:55\n",
      "4 142.64589203116756\n",
      "45 275.5\n"
     ]
    },
    {
     "name": "stderr",
     "output_type": "stream",
     "text": [
      "/var/folders/0c/8xbkg06s6cz0yy2505h06nlm00017d/T/ipykernel_78749/2778697526.py:105: UserWarning: This figure includes Axes that are not compatible with tight_layout, so results might be incorrect.\n",
      "  plt.tight_layout()\n"
     ]
    },
    {
     "name": "stdout",
     "output_type": "stream",
     "text": [
      "2022-03-31 22:44:55 UTC 2022-03-31 16:44:55 MDT\n",
      "16:44:55\n",
      "4 142.14589203116756\n",
      "44 269.5\n"
     ]
    },
    {
     "name": "stderr",
     "output_type": "stream",
     "text": [
      "/var/folders/0c/8xbkg06s6cz0yy2505h06nlm00017d/T/ipykernel_78749/2778697526.py:105: UserWarning: This figure includes Axes that are not compatible with tight_layout, so results might be incorrect.\n",
      "  plt.tight_layout()\n"
     ]
    },
    {
     "name": "stdout",
     "output_type": "stream",
     "text": [
      "2022-03-31 22:43:55 UTC 2022-03-31 16:43:55 MDT\n",
      "16:43:55\n",
      "4 141.64589203116756\n",
      "43 263.5\n"
     ]
    },
    {
     "name": "stderr",
     "output_type": "stream",
     "text": [
      "/var/folders/0c/8xbkg06s6cz0yy2505h06nlm00017d/T/ipykernel_78749/2778697526.py:105: UserWarning: This figure includes Axes that are not compatible with tight_layout, so results might be incorrect.\n",
      "  plt.tight_layout()\n"
     ]
    },
    {
     "name": "stdout",
     "output_type": "stream",
     "text": [
      "2022-03-31 22:42:55 UTC 2022-03-31 16:42:55 MDT\n",
      "16:42:55\n",
      "4 141.14589203116753\n",
      "42 257.5\n"
     ]
    },
    {
     "name": "stderr",
     "output_type": "stream",
     "text": [
      "/var/folders/0c/8xbkg06s6cz0yy2505h06nlm00017d/T/ipykernel_78749/2778697526.py:105: UserWarning: This figure includes Axes that are not compatible with tight_layout, so results might be incorrect.\n",
      "  plt.tight_layout()\n"
     ]
    },
    {
     "name": "stdout",
     "output_type": "stream",
     "text": [
      "2022-03-31 22:41:55 UTC 2022-03-31 16:41:55 MDT\n",
      "16:41:55\n",
      "4 140.64589203116753\n",
      "41 251.49999999999997\n"
     ]
    },
    {
     "name": "stderr",
     "output_type": "stream",
     "text": [
      "/var/folders/0c/8xbkg06s6cz0yy2505h06nlm00017d/T/ipykernel_78749/2778697526.py:105: UserWarning: This figure includes Axes that are not compatible with tight_layout, so results might be incorrect.\n",
      "  plt.tight_layout()\n"
     ]
    },
    {
     "name": "stdout",
     "output_type": "stream",
     "text": [
      "2022-03-31 22:40:55 UTC 2022-03-31 16:40:55 MDT\n",
      "16:40:55\n",
      "4 140.14589203116756\n",
      "40 245.5\n"
     ]
    },
    {
     "name": "stderr",
     "output_type": "stream",
     "text": [
      "/var/folders/0c/8xbkg06s6cz0yy2505h06nlm00017d/T/ipykernel_78749/2778697526.py:105: UserWarning: This figure includes Axes that are not compatible with tight_layout, so results might be incorrect.\n",
      "  plt.tight_layout()\n"
     ]
    },
    {
     "name": "stdout",
     "output_type": "stream",
     "text": [
      "2022-03-31 22:39:55 UTC 2022-03-31 16:39:55 MDT\n",
      "16:39:55\n",
      "4 139.64589203116756\n",
      "39 239.5\n"
     ]
    },
    {
     "name": "stderr",
     "output_type": "stream",
     "text": [
      "/var/folders/0c/8xbkg06s6cz0yy2505h06nlm00017d/T/ipykernel_78749/2778697526.py:105: UserWarning: This figure includes Axes that are not compatible with tight_layout, so results might be incorrect.\n",
      "  plt.tight_layout()\n"
     ]
    },
    {
     "name": "stdout",
     "output_type": "stream",
     "text": [
      "2022-03-31 22:38:55 UTC 2022-03-31 16:38:55 MDT\n",
      "16:38:55\n",
      "4 139.14589203116753\n",
      "38 233.49999999999997\n"
     ]
    },
    {
     "name": "stderr",
     "output_type": "stream",
     "text": [
      "/var/folders/0c/8xbkg06s6cz0yy2505h06nlm00017d/T/ipykernel_78749/2778697526.py:105: UserWarning: This figure includes Axes that are not compatible with tight_layout, so results might be incorrect.\n",
      "  plt.tight_layout()\n"
     ]
    },
    {
     "name": "stdout",
     "output_type": "stream",
     "text": [
      "2022-03-31 22:37:55 UTC 2022-03-31 16:37:55 MDT\n",
      "16:37:55\n",
      "4 138.64589203116753\n",
      "37 227.5\n"
     ]
    },
    {
     "name": "stderr",
     "output_type": "stream",
     "text": [
      "/var/folders/0c/8xbkg06s6cz0yy2505h06nlm00017d/T/ipykernel_78749/2778697526.py:105: UserWarning: This figure includes Axes that are not compatible with tight_layout, so results might be incorrect.\n",
      "  plt.tight_layout()\n"
     ]
    },
    {
     "name": "stdout",
     "output_type": "stream",
     "text": [
      "2022-03-31 22:36:55 UTC 2022-03-31 16:36:55 MDT\n",
      "16:36:55\n",
      "4 138.14589203116756\n",
      "36 221.5\n"
     ]
    },
    {
     "name": "stderr",
     "output_type": "stream",
     "text": [
      "/var/folders/0c/8xbkg06s6cz0yy2505h06nlm00017d/T/ipykernel_78749/2778697526.py:105: UserWarning: This figure includes Axes that are not compatible with tight_layout, so results might be incorrect.\n",
      "  plt.tight_layout()\n"
     ]
    },
    {
     "name": "stdout",
     "output_type": "stream",
     "text": [
      "2022-03-31 22:35:55 UTC 2022-03-31 16:35:55 MDT\n",
      "16:35:55\n",
      "4 137.64589203116756\n",
      "35 215.49999999999997\n"
     ]
    },
    {
     "name": "stderr",
     "output_type": "stream",
     "text": [
      "/var/folders/0c/8xbkg06s6cz0yy2505h06nlm00017d/T/ipykernel_78749/2778697526.py:105: UserWarning: This figure includes Axes that are not compatible with tight_layout, so results might be incorrect.\n",
      "  plt.tight_layout()\n"
     ]
    },
    {
     "name": "stdout",
     "output_type": "stream",
     "text": [
      "2022-03-31 22:34:55 UTC 2022-03-31 16:34:55 MDT\n",
      "16:34:55\n",
      "4 137.14589203116756\n",
      "34 209.5\n"
     ]
    },
    {
     "name": "stderr",
     "output_type": "stream",
     "text": [
      "/var/folders/0c/8xbkg06s6cz0yy2505h06nlm00017d/T/ipykernel_78749/2778697526.py:105: UserWarning: This figure includes Axes that are not compatible with tight_layout, so results might be incorrect.\n",
      "  plt.tight_layout()\n"
     ]
    },
    {
     "name": "stdout",
     "output_type": "stream",
     "text": [
      "2022-03-31 22:33:55 UTC 2022-03-31 16:33:55 MDT\n",
      "16:33:55\n",
      "4 136.64589203116753\n",
      "33 203.5\n"
     ]
    },
    {
     "name": "stderr",
     "output_type": "stream",
     "text": [
      "/var/folders/0c/8xbkg06s6cz0yy2505h06nlm00017d/T/ipykernel_78749/2778697526.py:105: UserWarning: This figure includes Axes that are not compatible with tight_layout, so results might be incorrect.\n",
      "  plt.tight_layout()\n"
     ]
    },
    {
     "name": "stdout",
     "output_type": "stream",
     "text": [
      "2022-03-31 22:32:55 UTC 2022-03-31 16:32:55 MDT\n",
      "16:32:55\n",
      "4 136.14589203116753\n",
      "32 197.49999999999997\n"
     ]
    },
    {
     "name": "stderr",
     "output_type": "stream",
     "text": [
      "/var/folders/0c/8xbkg06s6cz0yy2505h06nlm00017d/T/ipykernel_78749/2778697526.py:105: UserWarning: This figure includes Axes that are not compatible with tight_layout, so results might be incorrect.\n",
      "  plt.tight_layout()\n"
     ]
    },
    {
     "name": "stdout",
     "output_type": "stream",
     "text": [
      "2022-03-31 22:31:55 UTC 2022-03-31 16:31:55 MDT\n",
      "16:31:55\n",
      "4 135.64589203116756\n",
      "31 191.49999999999997\n"
     ]
    },
    {
     "name": "stderr",
     "output_type": "stream",
     "text": [
      "/var/folders/0c/8xbkg06s6cz0yy2505h06nlm00017d/T/ipykernel_78749/2778697526.py:105: UserWarning: This figure includes Axes that are not compatible with tight_layout, so results might be incorrect.\n",
      "  plt.tight_layout()\n"
     ]
    },
    {
     "name": "stdout",
     "output_type": "stream",
     "text": [
      "2022-03-31 22:30:55 UTC 2022-03-31 16:30:55 MDT\n",
      "16:30:55\n",
      "4 135.14589203116756\n",
      "30 185.49999999999997\n"
     ]
    },
    {
     "name": "stderr",
     "output_type": "stream",
     "text": [
      "/var/folders/0c/8xbkg06s6cz0yy2505h06nlm00017d/T/ipykernel_78749/2778697526.py:105: UserWarning: This figure includes Axes that are not compatible with tight_layout, so results might be incorrect.\n",
      "  plt.tight_layout()\n"
     ]
    },
    {
     "name": "stdout",
     "output_type": "stream",
     "text": [
      "2022-03-31 22:29:55 UTC 2022-03-31 16:29:55 MDT\n",
      "16:29:55\n",
      "4 134.64589203116753\n",
      "29 179.5\n"
     ]
    },
    {
     "name": "stderr",
     "output_type": "stream",
     "text": [
      "/var/folders/0c/8xbkg06s6cz0yy2505h06nlm00017d/T/ipykernel_78749/2778697526.py:105: UserWarning: This figure includes Axes that are not compatible with tight_layout, so results might be incorrect.\n",
      "  plt.tight_layout()\n"
     ]
    },
    {
     "name": "stdout",
     "output_type": "stream",
     "text": [
      "2022-03-31 22:28:55 UTC 2022-03-31 16:28:55 MDT\n",
      "16:28:55\n",
      "4 134.14589203116753\n",
      "28 173.5\n"
     ]
    },
    {
     "name": "stderr",
     "output_type": "stream",
     "text": [
      "/var/folders/0c/8xbkg06s6cz0yy2505h06nlm00017d/T/ipykernel_78749/2778697526.py:105: UserWarning: This figure includes Axes that are not compatible with tight_layout, so results might be incorrect.\n",
      "  plt.tight_layout()\n"
     ]
    },
    {
     "name": "stdout",
     "output_type": "stream",
     "text": [
      "2022-03-31 22:27:55 UTC 2022-03-31 16:27:55 MDT\n",
      "16:27:55\n",
      "4 133.64589203116756\n",
      "27 167.5\n"
     ]
    },
    {
     "name": "stderr",
     "output_type": "stream",
     "text": [
      "/var/folders/0c/8xbkg06s6cz0yy2505h06nlm00017d/T/ipykernel_78749/2778697526.py:105: UserWarning: This figure includes Axes that are not compatible with tight_layout, so results might be incorrect.\n",
      "  plt.tight_layout()\n"
     ]
    },
    {
     "name": "stdout",
     "output_type": "stream",
     "text": [
      "2022-03-31 22:26:55 UTC 2022-03-31 16:26:55 MDT\n",
      "16:26:55\n",
      "4 133.14589203116756\n",
      "26 161.5\n"
     ]
    },
    {
     "name": "stderr",
     "output_type": "stream",
     "text": [
      "/var/folders/0c/8xbkg06s6cz0yy2505h06nlm00017d/T/ipykernel_78749/2778697526.py:105: UserWarning: This figure includes Axes that are not compatible with tight_layout, so results might be incorrect.\n",
      "  plt.tight_layout()\n"
     ]
    },
    {
     "name": "stdout",
     "output_type": "stream",
     "text": [
      "2022-03-31 22:25:55 UTC 2022-03-31 16:25:55 MDT\n",
      "16:25:55\n",
      "4 132.64589203116756\n",
      "25 155.5\n"
     ]
    },
    {
     "name": "stderr",
     "output_type": "stream",
     "text": [
      "/var/folders/0c/8xbkg06s6cz0yy2505h06nlm00017d/T/ipykernel_78749/2778697526.py:105: UserWarning: This figure includes Axes that are not compatible with tight_layout, so results might be incorrect.\n",
      "  plt.tight_layout()\n"
     ]
    },
    {
     "name": "stdout",
     "output_type": "stream",
     "text": [
      "2022-03-31 22:24:55 UTC 2022-03-31 16:24:55 MDT\n",
      "16:24:55\n",
      "4 132.14589203116753\n",
      "24 149.5\n"
     ]
    },
    {
     "name": "stderr",
     "output_type": "stream",
     "text": [
      "/var/folders/0c/8xbkg06s6cz0yy2505h06nlm00017d/T/ipykernel_78749/2778697526.py:105: UserWarning: This figure includes Axes that are not compatible with tight_layout, so results might be incorrect.\n",
      "  plt.tight_layout()\n"
     ]
    },
    {
     "name": "stdout",
     "output_type": "stream",
     "text": [
      "2022-03-31 22:23:55 UTC 2022-03-31 16:23:55 MDT\n",
      "16:23:55\n",
      "4 131.64589203116753\n",
      "23 143.49999999999997\n"
     ]
    },
    {
     "name": "stderr",
     "output_type": "stream",
     "text": [
      "/var/folders/0c/8xbkg06s6cz0yy2505h06nlm00017d/T/ipykernel_78749/2778697526.py:105: UserWarning: This figure includes Axes that are not compatible with tight_layout, so results might be incorrect.\n",
      "  plt.tight_layout()\n"
     ]
    },
    {
     "name": "stdout",
     "output_type": "stream",
     "text": [
      "2022-03-31 22:22:55 UTC 2022-03-31 16:22:55 MDT\n",
      "16:22:55\n",
      "4 131.14589203116756\n",
      "22 137.49999999999997\n"
     ]
    },
    {
     "name": "stderr",
     "output_type": "stream",
     "text": [
      "/var/folders/0c/8xbkg06s6cz0yy2505h06nlm00017d/T/ipykernel_78749/2778697526.py:105: UserWarning: This figure includes Axes that are not compatible with tight_layout, so results might be incorrect.\n",
      "  plt.tight_layout()\n"
     ]
    },
    {
     "name": "stdout",
     "output_type": "stream",
     "text": [
      "2022-03-31 22:21:55 UTC 2022-03-31 16:21:55 MDT\n",
      "16:21:55\n",
      "4 130.64589203116756\n",
      "21 131.5\n"
     ]
    },
    {
     "name": "stderr",
     "output_type": "stream",
     "text": [
      "/var/folders/0c/8xbkg06s6cz0yy2505h06nlm00017d/T/ipykernel_78749/2778697526.py:105: UserWarning: This figure includes Axes that are not compatible with tight_layout, so results might be incorrect.\n",
      "  plt.tight_layout()\n"
     ]
    },
    {
     "name": "stdout",
     "output_type": "stream",
     "text": [
      "2022-03-31 22:20:55 UTC 2022-03-31 16:20:55 MDT\n",
      "16:20:55\n",
      "4 130.14589203116753\n",
      "20 125.49999999999999\n"
     ]
    },
    {
     "name": "stderr",
     "output_type": "stream",
     "text": [
      "/var/folders/0c/8xbkg06s6cz0yy2505h06nlm00017d/T/ipykernel_78749/2778697526.py:105: UserWarning: This figure includes Axes that are not compatible with tight_layout, so results might be incorrect.\n",
      "  plt.tight_layout()\n"
     ]
    },
    {
     "name": "stdout",
     "output_type": "stream",
     "text": [
      "2022-03-31 22:19:55 UTC 2022-03-31 16:19:55 MDT\n",
      "16:19:55\n",
      "4 129.64589203116753\n",
      "19 119.5\n"
     ]
    },
    {
     "name": "stderr",
     "output_type": "stream",
     "text": [
      "/var/folders/0c/8xbkg06s6cz0yy2505h06nlm00017d/T/ipykernel_78749/2778697526.py:105: UserWarning: This figure includes Axes that are not compatible with tight_layout, so results might be incorrect.\n",
      "  plt.tight_layout()\n"
     ]
    },
    {
     "name": "stdout",
     "output_type": "stream",
     "text": [
      "2022-03-31 22:18:55 UTC 2022-03-31 16:18:55 MDT\n",
      "16:18:55\n",
      "4 129.14589203116756\n",
      "18 113.5\n"
     ]
    },
    {
     "name": "stderr",
     "output_type": "stream",
     "text": [
      "/var/folders/0c/8xbkg06s6cz0yy2505h06nlm00017d/T/ipykernel_78749/2778697526.py:105: UserWarning: This figure includes Axes that are not compatible with tight_layout, so results might be incorrect.\n",
      "  plt.tight_layout()\n"
     ]
    },
    {
     "name": "stdout",
     "output_type": "stream",
     "text": [
      "2022-03-31 22:17:55 UTC 2022-03-31 16:17:55 MDT\n",
      "16:17:55\n",
      "4 128.64589203116756\n",
      "17 107.5\n"
     ]
    },
    {
     "name": "stderr",
     "output_type": "stream",
     "text": [
      "/var/folders/0c/8xbkg06s6cz0yy2505h06nlm00017d/T/ipykernel_78749/2778697526.py:105: UserWarning: This figure includes Axes that are not compatible with tight_layout, so results might be incorrect.\n",
      "  plt.tight_layout()\n"
     ]
    },
    {
     "name": "stdout",
     "output_type": "stream",
     "text": [
      "2022-03-31 22:16:55 UTC 2022-03-31 16:16:55 MDT\n",
      "16:16:55\n",
      "4 128.14589203116756\n",
      "16 101.5\n"
     ]
    },
    {
     "name": "stderr",
     "output_type": "stream",
     "text": [
      "/var/folders/0c/8xbkg06s6cz0yy2505h06nlm00017d/T/ipykernel_78749/2778697526.py:105: UserWarning: This figure includes Axes that are not compatible with tight_layout, so results might be incorrect.\n",
      "  plt.tight_layout()\n"
     ]
    },
    {
     "name": "stdout",
     "output_type": "stream",
     "text": [
      "2022-03-31 22:15:55 UTC 2022-03-31 16:15:55 MDT\n",
      "16:15:55\n",
      "4 127.64589203116755\n",
      "15 95.49999999999999\n"
     ]
    },
    {
     "name": "stderr",
     "output_type": "stream",
     "text": [
      "/var/folders/0c/8xbkg06s6cz0yy2505h06nlm00017d/T/ipykernel_78749/2778697526.py:105: UserWarning: This figure includes Axes that are not compatible with tight_layout, so results might be incorrect.\n",
      "  plt.tight_layout()\n"
     ]
    },
    {
     "name": "stdout",
     "output_type": "stream",
     "text": [
      "2022-03-31 22:14:55 UTC 2022-03-31 16:14:55 MDT\n",
      "16:14:55\n",
      "4 127.14589203116755\n",
      "14 89.5\n"
     ]
    },
    {
     "name": "stderr",
     "output_type": "stream",
     "text": [
      "/var/folders/0c/8xbkg06s6cz0yy2505h06nlm00017d/T/ipykernel_78749/2778697526.py:105: UserWarning: This figure includes Axes that are not compatible with tight_layout, so results might be incorrect.\n",
      "  plt.tight_layout()\n"
     ]
    },
    {
     "name": "stdout",
     "output_type": "stream",
     "text": [
      "2022-03-31 22:13:55 UTC 2022-03-31 16:13:55 MDT\n",
      "16:13:55\n",
      "4 126.64589203116755\n",
      "13 83.50000000000001\n"
     ]
    },
    {
     "name": "stderr",
     "output_type": "stream",
     "text": [
      "/var/folders/0c/8xbkg06s6cz0yy2505h06nlm00017d/T/ipykernel_78749/2778697526.py:105: UserWarning: This figure includes Axes that are not compatible with tight_layout, so results might be incorrect.\n",
      "  plt.tight_layout()\n"
     ]
    },
    {
     "name": "stdout",
     "output_type": "stream",
     "text": [
      "2022-03-31 22:12:55 UTC 2022-03-31 16:12:55 MDT\n",
      "16:12:55\n",
      "4 126.14589203116756\n",
      "12 77.5\n"
     ]
    },
    {
     "name": "stderr",
     "output_type": "stream",
     "text": [
      "/var/folders/0c/8xbkg06s6cz0yy2505h06nlm00017d/T/ipykernel_78749/2778697526.py:105: UserWarning: This figure includes Axes that are not compatible with tight_layout, so results might be incorrect.\n",
      "  plt.tight_layout()\n"
     ]
    },
    {
     "name": "stdout",
     "output_type": "stream",
     "text": [
      "2022-03-31 22:11:55 UTC 2022-03-31 16:11:55 MDT\n",
      "16:11:55\n",
      "4 125.64589203116753\n",
      "11 71.49999999999999\n"
     ]
    },
    {
     "name": "stderr",
     "output_type": "stream",
     "text": [
      "/var/folders/0c/8xbkg06s6cz0yy2505h06nlm00017d/T/ipykernel_78749/2778697526.py:105: UserWarning: This figure includes Axes that are not compatible with tight_layout, so results might be incorrect.\n",
      "  plt.tight_layout()\n"
     ]
    }
   ],
   "source": [
    "##################################################\n",
    "#\n",
    "# Create PNGs\n",
    "#\n",
    "\n",
    "for i in range(0,len(cat.datasets[0:total_frames])+1,1) : \n",
    "\n",
    "    dataset = cat.datasets[i]\n",
    "    \n",
    "    dataset_png_file_name = png_processing_directory + dataset.name.replace(\".nc\", \".png\")\n",
    "    \n",
    "    if (not pathlib.Path(dataset_png_file_name).is_file() ):\n",
    "\n",
    "        ds = dataset.remote_access(use_xarray=True)\n",
    "        dat = ds.metpy.parse_cf('Sectorized_CMI')\n",
    "        proj = dat.metpy.cartopy_crs\n",
    "        x = dat['x']\n",
    "        y = dat['y']\n",
    "\n",
    "\n",
    "        tz='America/Denver'\n",
    "        time_utc   = datetime.strptime(ds.start_date_time, '%Y%j%H%M%S')\n",
    "        valid_time = pd.to_datetime(time_utc).tz_localize(tz=\"UTC\").strftime(\"%Y-%m-%d %H:%M:%S %Z\")\n",
    "        local_time = pd.to_datetime(time_utc).tz_localize(tz=\"UTC\").tz_convert(tz=tz).strftime(\"%Y-%m-%d %H:%M:%S %Z\")\n",
    "\n",
    "        file_time = pd.to_datetime(time_utc).tz_localize(tz=\"UTC\").strftime(\"%Y-%m-%d_%H%M\")\n",
    "\n",
    "\n",
    "        print(valid_time,local_time)\n",
    "\n",
    "\n",
    "\n",
    "        fig = plt.figure(figsize=(8, 8), facecolor = 'white')\n",
    "\n",
    "        plt.suptitle(image_header_label,\n",
    "                     fontsize = 20, \n",
    "                     color    = \"black\")\n",
    "        ax = fig.add_subplot(1, 1, 1, projection=proj)\n",
    "        ax.set_title(valid_time + \"  (\" + local_time+\")\",\n",
    "                        fontsize=15, color=\"black\")\n",
    "        ax.add_feature(cfeature.COASTLINE.with_scale('50m'), linewidth=2)\n",
    "        ax.add_feature(cfeature.STATES.with_scale('50m'),    linestyle=':', edgecolor='black')\n",
    "        ax.add_feature(cfeature.BORDERS.with_scale('50m'),   linewidth=2, edgecolor='black')\n",
    "        \n",
    "\n",
    "        #print(\"range dat = \",np.nanmin(dat.values),np.nanmax(dat.values))\n",
    "        im = ax.imshow(dat, extent=(x.min(), x.max(), y.min(), y.max()), origin='upper')\n",
    "\n",
    "        wv_norm, wv_cmap = colortables.get_with_range('WVCIMSS_r', 190, 310)\n",
    "        im.set_cmap(wv_cmap)\n",
    "        im.set_norm(wv_norm)\n",
    "        \n",
    "        \n",
    "        #########################################\n",
    "        #\n",
    "        # Insert a Clock\n",
    "        #\n",
    "        \n",
    "        axins = fig.add_axes(rect     =    [0.065,\n",
    "                                            0.795,\n",
    "                                            0.12*0.65306121,\n",
    "                                            0.12],\n",
    "                              projection  =  \"polar\")\n",
    "        \n",
    "        time_for_clock = pd.to_datetime(time_utc).tz_localize(tz=\"UTC\").tz_convert(tz=tz).time()\n",
    "\n",
    "        hour   = time_for_clock.hour\n",
    "        minute = time_for_clock.minute\n",
    "        second = time_for_clock.second\n",
    "        \n",
    "        circle_theta  = np.deg2rad(np.arange(0,360,0.01))\n",
    "        circle_radius = circle_theta * 0 + 1\n",
    "        \n",
    "        if (hour > 12) :\n",
    "            hour = hour - 12\n",
    "        \n",
    "        angles_h = 2*np.pi*hour/12+2*np.pi*minute/(12*60)+2*second/(12*60*60)\n",
    "        angles_m = 2*np.pi*minute/60+2*np.pi*second/(60*60)\n",
    "        \n",
    "        print(time_for_clock)\n",
    "        print(hour,   np.rad2deg(angles_h))\n",
    "        print(minute, np.rad2deg(angles_m))\n",
    "\n",
    "        \n",
    "        plt.setp(axins.get_yticklabels(), visible=False)\n",
    "        plt.setp(axins.get_xticklabels(), visible=False)\n",
    "        axins.spines['polar'].set_visible(False)\n",
    "        axins.set_ylim(0,1)\n",
    "        axins.set_theta_zero_location('N')\n",
    "        axins.set_theta_direction(-1)\n",
    "        axins.set_facecolor(\"white\")\n",
    "        axins.grid(False)\n",
    "        \n",
    "        axins.plot([angles_h,angles_h], [0,0.6], color=\"black\", linewidth=1.5)\n",
    "        axins.plot([angles_m,angles_m], [0,0.95], color=\"black\", linewidth=1.5)\n",
    "        axins.plot(circle_theta, circle_radius, color=\"darkgrey\", linewidth=1)\n",
    "\n",
    "\n",
    "        \n",
    "        #\n",
    "        #########################################        \n",
    "        \n",
    "\n",
    "        \n",
    "        plt.tight_layout()\n",
    "        \n",
    "        plt.savefig( dataset_png_file_name)\n",
    "        plt.close()\n",
    "    else:\n",
    "        print(\"We already have this one!\")\n",
    "    \n",
    "\n",
    "#\n",
    "##################################################"
   ]
  },
  {
   "cell_type": "code",
   "execution_count": 13,
   "id": "9cc030a1-adf3-4f20-b604-4eb41285b252",
   "metadata": {},
   "outputs": [
    {
     "name": "stdout",
     "output_type": "stream",
     "text": [
      "completed ./graphics_files/RealTime_SAT_IR_Meso2_Loop.gif\n"
     ]
    }
   ],
   "source": [
    "##################################################\n",
    "#\n",
    "# Convert PNGs into an Animated GIF\n",
    "#\n",
    "\n",
    "\n",
    "big_string = \" \".join(file_names_to_use_meso2)\n",
    "\n",
    "os.system(\"convert -delay 15 \" + \n",
    "          big_string + \n",
    "          \" \" + \n",
    "          gif_file_name2)\n",
    "\n",
    "print(\"completed \"+ gif_file_name2)\n",
    "\n",
    "\n",
    "#\n",
    "##################################################"
   ]
  },
  {
   "cell_type": "code",
   "execution_count": null,
   "id": "aa6b3631-9f6e-4b9f-932b-930d0503261b",
   "metadata": {},
   "outputs": [],
   "source": []
  },
  {
   "cell_type": "code",
   "execution_count": null,
   "id": "33d01f75-9f32-4eea-82fe-74843dc8f5b0",
   "metadata": {},
   "outputs": [],
   "source": []
  },
  {
   "cell_type": "code",
   "execution_count": null,
   "id": "fb21ccad-6fc1-437a-b2d2-e006cac1d00b",
   "metadata": {},
   "outputs": [],
   "source": []
  },
  {
   "cell_type": "code",
   "execution_count": null,
   "id": "57d07618-7ac8-4085-866d-f9727eda362f",
   "metadata": {},
   "outputs": [],
   "source": []
  },
  {
   "cell_type": "code",
   "execution_count": null,
   "id": "b41e97f4-79b2-4f93-9045-21cac809be0e",
   "metadata": {},
   "outputs": [],
   "source": []
  },
  {
   "cell_type": "code",
   "execution_count": null,
   "id": "23cb5bf9-f659-4ba1-a600-084baaa85729",
   "metadata": {},
   "outputs": [],
   "source": []
  },
  {
   "cell_type": "markdown",
   "id": "52e618ef-c1d4-49da-84f4-ecf9b5b4f1b6",
   "metadata": {},
   "source": [
    "## South Dakota Images"
   ]
  },
  {
   "cell_type": "code",
   "execution_count": 14,
   "id": "e37b9b43-95d0-4766-9998-f0b513bdef25",
   "metadata": {},
   "outputs": [
    {
     "name": "stdout",
     "output_type": "stream",
     "text": [
      "https://thredds.ucar.edu/thredds/catalog/satellite/goes/east/products/CloudAndMoistureImagery/CONUS/Channel02/current/catalog.xml\n"
     ]
    }
   ],
   "source": [
    "##################################################\n",
    "#\n",
    "# Control Setup\n",
    "#\n",
    "\n",
    "# %load solutions/data_url.py\n",
    "\n",
    "total_frames = int(45*2 * 0.8)\n",
    "\n",
    "\n",
    "png_processing_directory = \"./temp_files_sat_ir_sodak/\"\n",
    "\n",
    "gif_file_name1 = \"./graphics_files/RealTime_SAT_IR_Meso1_Loop.gif\"\n",
    "gif_file_name2 = \"./graphics_files/RealTime_SAT_IR_Meso2_Loop.gif\"\n",
    "gif_file_name3 = \"./graphics_files/RealTime_SAT_IR_SODAK_Loop.gif\"\n",
    "gif_file_name12 = \"./graphics_files/RealTime_SAT_IR_Meso12_Loop.gif\"\n",
    "\n",
    "\n",
    "image_header_label = \"GOES 16 SODAK Band 13 [10.3 µm Clean LW IR Window]\"\n",
    "\n",
    "\n",
    "# Cell content replaced by load magic replacement.\n",
    "\n",
    "# Create variables for URL generation\n",
    "\n",
    "image_date = datetime.utcnow().date()\n",
    "region = 'CONUS'\n",
    "channel = 2\n",
    "\n",
    "# We want to match something like:\n",
    "# https://thredds-test.unidata.ucar.edu/thredds/catalog/satellite/goes16/GOES16/Mesoscale-1/Channel08/20181113/catalog.html\n",
    "\n",
    "# Construct the data_url string\n",
    "\n",
    "data_url = ('https://thredds.ucar.edu/thredds/catalog/satellite/goes/east/products/'\n",
    "            f'CloudAndMoistureImagery/{region}/Channel{channel:02d}/current/catalog.xml')\n",
    "\n",
    "# Print out your URL and verify it works!\n",
    "\n",
    "print(data_url)\n",
    "\n",
    "#\n",
    "##################################################"
   ]
  },
  {
   "cell_type": "code",
   "execution_count": 15,
   "id": "2de19040-2b17-4e48-94a2-e79e52324d75",
   "metadata": {},
   "outputs": [],
   "source": [
    "##################################################\n",
    "#\n",
    "# Pull Catalog\n",
    "#\n",
    "\n",
    "cat = TDSCatalog(data_url)\n",
    "\n",
    "#\n",
    "##################################################"
   ]
  },
  {
   "cell_type": "code",
   "execution_count": 16,
   "id": "3cc3a96a-e938-4cc3-b2ea-01cc85b7f1e1",
   "metadata": {},
   "outputs": [],
   "source": [
    "##################################################\n",
    "#\n",
    "# Create File Inventories\n",
    "#\n",
    "\n",
    "file_names_to_retain = list()\n",
    "file_names_to_use    = list()\n",
    "\n",
    "\n",
    "for i in range(0,len(cat.datasets[0:total_frames])+1,1) : \n",
    "    filename = png_processing_directory + cat.datasets[i].name.replace(\".nc\",\".png\")\n",
    "    file_names_to_retain.append(filename)\n",
    "    file_names_to_use.append(filename)\n",
    "\n",
    "        \n",
    "files_on_hand = [png_processing_directory + s for s in os.listdir(png_processing_directory)]\n",
    "\n",
    "\n",
    "file_names_to_retain.sort()\n",
    "file_names_to_use.sort()\n",
    "\n",
    "file_names_to_use_meso3 = file_names_to_use.copy()\n",
    "\n",
    "\n",
    "#\n",
    "################################################## "
   ]
  },
  {
   "cell_type": "code",
   "execution_count": 17,
   "id": "6cb5b20d-8cc7-4f2b-a35e-feb6eece8f0a",
   "metadata": {},
   "outputs": [
    {
     "name": "stdout",
     "output_type": "stream",
     "text": [
      "Purging  ./temp_files_sat_ir_sodak/.DS_Store\n"
     ]
    }
   ],
   "source": [
    "##################################################\n",
    "#\n",
    "# Clean PNG Directory\n",
    "#\n",
    "\n",
    "for filename in files_on_hand:\n",
    "    if filename not in file_names_to_retain:\n",
    "        print(\"Purging \", filename )\n",
    "        os.remove( filename  )\n",
    "    else:\n",
    "        print(\"Keeping \", filename )\n",
    "#\n",
    "##################################################  "
   ]
  },
  {
   "cell_type": "code",
   "execution_count": 18,
   "id": "8cb0f756-0d37-4cb2-b280-c2f256665bd9",
   "metadata": {},
   "outputs": [
    {
     "name": "stdout",
     "output_type": "stream",
     "text": [
      "2022-03-31 23:21:17 UTC 2022-03-31 17:21:17 MDT\n",
      "17:21:17\n",
      "5 160.5450939005427\n",
      "21 127.69999999999999\n"
     ]
    },
    {
     "name": "stderr",
     "output_type": "stream",
     "text": [
      "/var/folders/0c/8xbkg06s6cz0yy2505h06nlm00017d/T/ipykernel_78749/1367384786.py:114: UserWarning: This figure includes Axes that are not compatible with tight_layout, so results might be incorrect.\n",
      "  plt.tight_layout()\n"
     ]
    },
    {
     "ename": "IndexError",
     "evalue": "array index out of range",
     "output_type": "error",
     "traceback": [
      "\u001b[0;31m---------------------------------------------------------------------------\u001b[0m",
      "\u001b[0;31mIndexError\u001b[0m                                Traceback (most recent call last)",
      "Input \u001b[0;32mIn [18]\u001b[0m, in \u001b[0;36m<cell line: 15>\u001b[0;34m()\u001b[0m\n\u001b[1;32m    110\u001b[0m     \u001b[38;5;66;03m#\u001b[39;00m\n\u001b[1;32m    111\u001b[0m     \u001b[38;5;66;03m#########################################             \u001b[39;00m\n\u001b[1;32m    114\u001b[0m     plt\u001b[38;5;241m.\u001b[39mtight_layout()\n\u001b[0;32m--> 116\u001b[0m     \u001b[43mplt\u001b[49m\u001b[38;5;241;43m.\u001b[39;49m\u001b[43msavefig\u001b[49m\u001b[43m(\u001b[49m\u001b[43m \u001b[49m\u001b[43mdataset_png_file_name\u001b[49m\u001b[43m)\u001b[49m\n\u001b[1;32m    117\u001b[0m     plt\u001b[38;5;241m.\u001b[39mclose()\n\u001b[1;32m    118\u001b[0m \u001b[38;5;28;01melse\u001b[39;00m:\n",
      "File \u001b[0;32m/opt/miniconda3/lib/python3.9/site-packages/matplotlib/pyplot.py:958\u001b[0m, in \u001b[0;36msavefig\u001b[0;34m(*args, **kwargs)\u001b[0m\n\u001b[1;32m    955\u001b[0m \u001b[38;5;129m@_copy_docstring_and_deprecators\u001b[39m(Figure\u001b[38;5;241m.\u001b[39msavefig)\n\u001b[1;32m    956\u001b[0m \u001b[38;5;28;01mdef\u001b[39;00m \u001b[38;5;21msavefig\u001b[39m(\u001b[38;5;241m*\u001b[39margs, \u001b[38;5;241m*\u001b[39m\u001b[38;5;241m*\u001b[39mkwargs):\n\u001b[1;32m    957\u001b[0m     fig \u001b[38;5;241m=\u001b[39m gcf()\n\u001b[0;32m--> 958\u001b[0m     res \u001b[38;5;241m=\u001b[39m \u001b[43mfig\u001b[49m\u001b[38;5;241;43m.\u001b[39;49m\u001b[43msavefig\u001b[49m\u001b[43m(\u001b[49m\u001b[38;5;241;43m*\u001b[39;49m\u001b[43margs\u001b[49m\u001b[43m,\u001b[49m\u001b[43m \u001b[49m\u001b[38;5;241;43m*\u001b[39;49m\u001b[38;5;241;43m*\u001b[39;49m\u001b[43mkwargs\u001b[49m\u001b[43m)\u001b[49m\n\u001b[1;32m    959\u001b[0m     fig\u001b[38;5;241m.\u001b[39mcanvas\u001b[38;5;241m.\u001b[39mdraw_idle()   \u001b[38;5;66;03m# need this if 'transparent=True' to reset colors\u001b[39;00m\n\u001b[1;32m    960\u001b[0m     \u001b[38;5;28;01mreturn\u001b[39;00m res\n",
      "File \u001b[0;32m/opt/miniconda3/lib/python3.9/site-packages/matplotlib/figure.py:3019\u001b[0m, in \u001b[0;36mFigure.savefig\u001b[0;34m(self, fname, transparent, **kwargs)\u001b[0m\n\u001b[1;32m   3015\u001b[0m     \u001b[38;5;28;01mfor\u001b[39;00m ax \u001b[38;5;129;01min\u001b[39;00m \u001b[38;5;28mself\u001b[39m\u001b[38;5;241m.\u001b[39maxes:\n\u001b[1;32m   3016\u001b[0m         stack\u001b[38;5;241m.\u001b[39menter_context(\n\u001b[1;32m   3017\u001b[0m             ax\u001b[38;5;241m.\u001b[39mpatch\u001b[38;5;241m.\u001b[39m_cm_set(facecolor\u001b[38;5;241m=\u001b[39m\u001b[38;5;124m'\u001b[39m\u001b[38;5;124mnone\u001b[39m\u001b[38;5;124m'\u001b[39m, edgecolor\u001b[38;5;241m=\u001b[39m\u001b[38;5;124m'\u001b[39m\u001b[38;5;124mnone\u001b[39m\u001b[38;5;124m'\u001b[39m))\n\u001b[0;32m-> 3019\u001b[0m \u001b[38;5;28;43mself\u001b[39;49m\u001b[38;5;241;43m.\u001b[39;49m\u001b[43mcanvas\u001b[49m\u001b[38;5;241;43m.\u001b[39;49m\u001b[43mprint_figure\u001b[49m\u001b[43m(\u001b[49m\u001b[43mfname\u001b[49m\u001b[43m,\u001b[49m\u001b[43m \u001b[49m\u001b[38;5;241;43m*\u001b[39;49m\u001b[38;5;241;43m*\u001b[39;49m\u001b[43mkwargs\u001b[49m\u001b[43m)\u001b[49m\n",
      "File \u001b[0;32m/opt/miniconda3/lib/python3.9/site-packages/matplotlib/backend_bases.py:2319\u001b[0m, in \u001b[0;36mFigureCanvasBase.print_figure\u001b[0;34m(self, filename, dpi, facecolor, edgecolor, orientation, format, bbox_inches, pad_inches, bbox_extra_artists, backend, **kwargs)\u001b[0m\n\u001b[1;32m   2315\u001b[0m \u001b[38;5;28;01mtry\u001b[39;00m:\n\u001b[1;32m   2316\u001b[0m     \u001b[38;5;66;03m# _get_renderer may change the figure dpi (as vector formats\u001b[39;00m\n\u001b[1;32m   2317\u001b[0m     \u001b[38;5;66;03m# force the figure dpi to 72), so we need to set it again here.\u001b[39;00m\n\u001b[1;32m   2318\u001b[0m     \u001b[38;5;28;01mwith\u001b[39;00m cbook\u001b[38;5;241m.\u001b[39m_setattr_cm(\u001b[38;5;28mself\u001b[39m\u001b[38;5;241m.\u001b[39mfigure, dpi\u001b[38;5;241m=\u001b[39mdpi):\n\u001b[0;32m-> 2319\u001b[0m         result \u001b[38;5;241m=\u001b[39m \u001b[43mprint_method\u001b[49m\u001b[43m(\u001b[49m\n\u001b[1;32m   2320\u001b[0m \u001b[43m            \u001b[49m\u001b[43mfilename\u001b[49m\u001b[43m,\u001b[49m\n\u001b[1;32m   2321\u001b[0m \u001b[43m            \u001b[49m\u001b[43mfacecolor\u001b[49m\u001b[38;5;241;43m=\u001b[39;49m\u001b[43mfacecolor\u001b[49m\u001b[43m,\u001b[49m\n\u001b[1;32m   2322\u001b[0m \u001b[43m            \u001b[49m\u001b[43medgecolor\u001b[49m\u001b[38;5;241;43m=\u001b[39;49m\u001b[43medgecolor\u001b[49m\u001b[43m,\u001b[49m\n\u001b[1;32m   2323\u001b[0m \u001b[43m            \u001b[49m\u001b[43morientation\u001b[49m\u001b[38;5;241;43m=\u001b[39;49m\u001b[43morientation\u001b[49m\u001b[43m,\u001b[49m\n\u001b[1;32m   2324\u001b[0m \u001b[43m            \u001b[49m\u001b[43mbbox_inches_restore\u001b[49m\u001b[38;5;241;43m=\u001b[39;49m\u001b[43m_bbox_inches_restore\u001b[49m\u001b[43m,\u001b[49m\n\u001b[1;32m   2325\u001b[0m \u001b[43m            \u001b[49m\u001b[38;5;241;43m*\u001b[39;49m\u001b[38;5;241;43m*\u001b[39;49m\u001b[43mkwargs\u001b[49m\u001b[43m)\u001b[49m\n\u001b[1;32m   2326\u001b[0m \u001b[38;5;28;01mfinally\u001b[39;00m:\n\u001b[1;32m   2327\u001b[0m     \u001b[38;5;28;01mif\u001b[39;00m bbox_inches \u001b[38;5;129;01mand\u001b[39;00m restore_bbox:\n",
      "File \u001b[0;32m/opt/miniconda3/lib/python3.9/site-packages/matplotlib/backend_bases.py:1648\u001b[0m, in \u001b[0;36m_check_savefig_extra_args.<locals>.wrapper\u001b[0;34m(*args, **kwargs)\u001b[0m\n\u001b[1;32m   1640\u001b[0m     _api\u001b[38;5;241m.\u001b[39mwarn_deprecated(\n\u001b[1;32m   1641\u001b[0m         \u001b[38;5;124m'\u001b[39m\u001b[38;5;124m3.3\u001b[39m\u001b[38;5;124m'\u001b[39m, name\u001b[38;5;241m=\u001b[39mname, removal\u001b[38;5;241m=\u001b[39m\u001b[38;5;124m'\u001b[39m\u001b[38;5;124m3.6\u001b[39m\u001b[38;5;124m'\u001b[39m,\n\u001b[1;32m   1642\u001b[0m         message\u001b[38;5;241m=\u001b[39m\u001b[38;5;124m'\u001b[39m\u001b[38;5;132;01m%(name)s\u001b[39;00m\u001b[38;5;124m() got unexpected keyword argument \u001b[39m\u001b[38;5;124m\"\u001b[39m\u001b[38;5;124m'\u001b[39m\n\u001b[1;32m   1643\u001b[0m                 \u001b[38;5;241m+\u001b[39m arg \u001b[38;5;241m+\u001b[39m \u001b[38;5;124m'\u001b[39m\u001b[38;5;124m\"\u001b[39m\u001b[38;5;124m which is no longer supported as of \u001b[39m\u001b[38;5;124m'\u001b[39m\n\u001b[1;32m   1644\u001b[0m                 \u001b[38;5;124m'\u001b[39m\u001b[38;5;132;01m%(since)s\u001b[39;00m\u001b[38;5;124m and will become an error \u001b[39m\u001b[38;5;124m'\u001b[39m\n\u001b[1;32m   1645\u001b[0m                 \u001b[38;5;124m'\u001b[39m\u001b[38;5;132;01m%(removal)s\u001b[39;00m\u001b[38;5;124m'\u001b[39m)\n\u001b[1;32m   1646\u001b[0m     kwargs\u001b[38;5;241m.\u001b[39mpop(arg)\n\u001b[0;32m-> 1648\u001b[0m \u001b[38;5;28;01mreturn\u001b[39;00m \u001b[43mfunc\u001b[49m\u001b[43m(\u001b[49m\u001b[38;5;241;43m*\u001b[39;49m\u001b[43margs\u001b[49m\u001b[43m,\u001b[49m\u001b[43m \u001b[49m\u001b[38;5;241;43m*\u001b[39;49m\u001b[38;5;241;43m*\u001b[39;49m\u001b[43mkwargs\u001b[49m\u001b[43m)\u001b[49m\n",
      "File \u001b[0;32m/opt/miniconda3/lib/python3.9/site-packages/matplotlib/_api/deprecation.py:412\u001b[0m, in \u001b[0;36mdelete_parameter.<locals>.wrapper\u001b[0;34m(*inner_args, **inner_kwargs)\u001b[0m\n\u001b[1;32m    402\u001b[0m     deprecation_addendum \u001b[38;5;241m=\u001b[39m (\n\u001b[1;32m    403\u001b[0m         \u001b[38;5;124mf\u001b[39m\u001b[38;5;124m\"\u001b[39m\u001b[38;5;124mIf any parameter follows \u001b[39m\u001b[38;5;132;01m{\u001b[39;00mname\u001b[38;5;132;01m!r}\u001b[39;00m\u001b[38;5;124m, they should be passed as \u001b[39m\u001b[38;5;124m\"\u001b[39m\n\u001b[1;32m    404\u001b[0m         \u001b[38;5;124mf\u001b[39m\u001b[38;5;124m\"\u001b[39m\u001b[38;5;124mkeyword, not positionally.\u001b[39m\u001b[38;5;124m\"\u001b[39m)\n\u001b[1;32m    405\u001b[0m     warn_deprecated(\n\u001b[1;32m    406\u001b[0m         since,\n\u001b[1;32m    407\u001b[0m         name\u001b[38;5;241m=\u001b[39m\u001b[38;5;28mrepr\u001b[39m(name),\n\u001b[0;32m   (...)\u001b[0m\n\u001b[1;32m    410\u001b[0m                  \u001b[38;5;28;01melse\u001b[39;00m deprecation_addendum,\n\u001b[1;32m    411\u001b[0m         \u001b[38;5;241m*\u001b[39m\u001b[38;5;241m*\u001b[39mkwargs)\n\u001b[0;32m--> 412\u001b[0m \u001b[38;5;28;01mreturn\u001b[39;00m \u001b[43mfunc\u001b[49m\u001b[43m(\u001b[49m\u001b[38;5;241;43m*\u001b[39;49m\u001b[43minner_args\u001b[49m\u001b[43m,\u001b[49m\u001b[43m \u001b[49m\u001b[38;5;241;43m*\u001b[39;49m\u001b[38;5;241;43m*\u001b[39;49m\u001b[43minner_kwargs\u001b[49m\u001b[43m)\u001b[49m\n",
      "File \u001b[0;32m/opt/miniconda3/lib/python3.9/site-packages/matplotlib/backends/backend_agg.py:540\u001b[0m, in \u001b[0;36mFigureCanvasAgg.print_png\u001b[0;34m(self, filename_or_obj, metadata, pil_kwargs, *args)\u001b[0m\n\u001b[1;32m    490\u001b[0m \u001b[38;5;129m@_check_savefig_extra_args\u001b[39m\n\u001b[1;32m    491\u001b[0m \u001b[38;5;129m@_api\u001b[39m\u001b[38;5;241m.\u001b[39mdelete_parameter(\u001b[38;5;124m\"\u001b[39m\u001b[38;5;124m3.5\u001b[39m\u001b[38;5;124m\"\u001b[39m, \u001b[38;5;124m\"\u001b[39m\u001b[38;5;124margs\u001b[39m\u001b[38;5;124m\"\u001b[39m)\n\u001b[1;32m    492\u001b[0m \u001b[38;5;28;01mdef\u001b[39;00m \u001b[38;5;21mprint_png\u001b[39m(\u001b[38;5;28mself\u001b[39m, filename_or_obj, \u001b[38;5;241m*\u001b[39margs,\n\u001b[1;32m    493\u001b[0m               metadata\u001b[38;5;241m=\u001b[39m\u001b[38;5;28;01mNone\u001b[39;00m, pil_kwargs\u001b[38;5;241m=\u001b[39m\u001b[38;5;28;01mNone\u001b[39;00m):\n\u001b[1;32m    494\u001b[0m     \u001b[38;5;124;03m\"\"\"\u001b[39;00m\n\u001b[1;32m    495\u001b[0m \u001b[38;5;124;03m    Write the figure to a PNG file.\u001b[39;00m\n\u001b[1;32m    496\u001b[0m \n\u001b[0;32m   (...)\u001b[0m\n\u001b[1;32m    538\u001b[0m \u001b[38;5;124;03m        *metadata*, including the default 'Software' key.\u001b[39;00m\n\u001b[1;32m    539\u001b[0m \u001b[38;5;124;03m    \"\"\"\u001b[39;00m\n\u001b[0;32m--> 540\u001b[0m     \u001b[43mFigureCanvasAgg\u001b[49m\u001b[38;5;241;43m.\u001b[39;49m\u001b[43mdraw\u001b[49m\u001b[43m(\u001b[49m\u001b[38;5;28;43mself\u001b[39;49m\u001b[43m)\u001b[49m\n\u001b[1;32m    541\u001b[0m     mpl\u001b[38;5;241m.\u001b[39mimage\u001b[38;5;241m.\u001b[39mimsave(\n\u001b[1;32m    542\u001b[0m         filename_or_obj, \u001b[38;5;28mself\u001b[39m\u001b[38;5;241m.\u001b[39mbuffer_rgba(), \u001b[38;5;28mformat\u001b[39m\u001b[38;5;241m=\u001b[39m\u001b[38;5;124m\"\u001b[39m\u001b[38;5;124mpng\u001b[39m\u001b[38;5;124m\"\u001b[39m, origin\u001b[38;5;241m=\u001b[39m\u001b[38;5;124m\"\u001b[39m\u001b[38;5;124mupper\u001b[39m\u001b[38;5;124m\"\u001b[39m,\n\u001b[1;32m    543\u001b[0m         dpi\u001b[38;5;241m=\u001b[39m\u001b[38;5;28mself\u001b[39m\u001b[38;5;241m.\u001b[39mfigure\u001b[38;5;241m.\u001b[39mdpi, metadata\u001b[38;5;241m=\u001b[39mmetadata, pil_kwargs\u001b[38;5;241m=\u001b[39mpil_kwargs)\n",
      "File \u001b[0;32m/opt/miniconda3/lib/python3.9/site-packages/matplotlib/backends/backend_agg.py:436\u001b[0m, in \u001b[0;36mFigureCanvasAgg.draw\u001b[0;34m(self)\u001b[0m\n\u001b[1;32m    432\u001b[0m \u001b[38;5;66;03m# Acquire a lock on the shared font cache.\u001b[39;00m\n\u001b[1;32m    433\u001b[0m \u001b[38;5;28;01mwith\u001b[39;00m RendererAgg\u001b[38;5;241m.\u001b[39mlock, \\\n\u001b[1;32m    434\u001b[0m      (\u001b[38;5;28mself\u001b[39m\u001b[38;5;241m.\u001b[39mtoolbar\u001b[38;5;241m.\u001b[39m_wait_cursor_for_draw_cm() \u001b[38;5;28;01mif\u001b[39;00m \u001b[38;5;28mself\u001b[39m\u001b[38;5;241m.\u001b[39mtoolbar\n\u001b[1;32m    435\u001b[0m       \u001b[38;5;28;01melse\u001b[39;00m nullcontext()):\n\u001b[0;32m--> 436\u001b[0m     \u001b[38;5;28;43mself\u001b[39;49m\u001b[38;5;241;43m.\u001b[39;49m\u001b[43mfigure\u001b[49m\u001b[38;5;241;43m.\u001b[39;49m\u001b[43mdraw\u001b[49m\u001b[43m(\u001b[49m\u001b[38;5;28;43mself\u001b[39;49m\u001b[38;5;241;43m.\u001b[39;49m\u001b[43mrenderer\u001b[49m\u001b[43m)\u001b[49m\n\u001b[1;32m    437\u001b[0m     \u001b[38;5;66;03m# A GUI class may be need to update a window using this draw, so\u001b[39;00m\n\u001b[1;32m    438\u001b[0m     \u001b[38;5;66;03m# don't forget to call the superclass.\u001b[39;00m\n\u001b[1;32m    439\u001b[0m     \u001b[38;5;28msuper\u001b[39m()\u001b[38;5;241m.\u001b[39mdraw()\n",
      "File \u001b[0;32m/opt/miniconda3/lib/python3.9/site-packages/matplotlib/artist.py:73\u001b[0m, in \u001b[0;36m_finalize_rasterization.<locals>.draw_wrapper\u001b[0;34m(artist, renderer, *args, **kwargs)\u001b[0m\n\u001b[1;32m     71\u001b[0m \u001b[38;5;129m@wraps\u001b[39m(draw)\n\u001b[1;32m     72\u001b[0m \u001b[38;5;28;01mdef\u001b[39;00m \u001b[38;5;21mdraw_wrapper\u001b[39m(artist, renderer, \u001b[38;5;241m*\u001b[39margs, \u001b[38;5;241m*\u001b[39m\u001b[38;5;241m*\u001b[39mkwargs):\n\u001b[0;32m---> 73\u001b[0m     result \u001b[38;5;241m=\u001b[39m \u001b[43mdraw\u001b[49m\u001b[43m(\u001b[49m\u001b[43martist\u001b[49m\u001b[43m,\u001b[49m\u001b[43m \u001b[49m\u001b[43mrenderer\u001b[49m\u001b[43m,\u001b[49m\u001b[43m \u001b[49m\u001b[38;5;241;43m*\u001b[39;49m\u001b[43margs\u001b[49m\u001b[43m,\u001b[49m\u001b[43m \u001b[49m\u001b[38;5;241;43m*\u001b[39;49m\u001b[38;5;241;43m*\u001b[39;49m\u001b[43mkwargs\u001b[49m\u001b[43m)\u001b[49m\n\u001b[1;32m     74\u001b[0m     \u001b[38;5;28;01mif\u001b[39;00m renderer\u001b[38;5;241m.\u001b[39m_rasterizing:\n\u001b[1;32m     75\u001b[0m         renderer\u001b[38;5;241m.\u001b[39mstop_rasterizing()\n",
      "File \u001b[0;32m/opt/miniconda3/lib/python3.9/site-packages/matplotlib/artist.py:50\u001b[0m, in \u001b[0;36mallow_rasterization.<locals>.draw_wrapper\u001b[0;34m(artist, renderer)\u001b[0m\n\u001b[1;32m     47\u001b[0m     \u001b[38;5;28;01mif\u001b[39;00m artist\u001b[38;5;241m.\u001b[39mget_agg_filter() \u001b[38;5;129;01mis\u001b[39;00m \u001b[38;5;129;01mnot\u001b[39;00m \u001b[38;5;28;01mNone\u001b[39;00m:\n\u001b[1;32m     48\u001b[0m         renderer\u001b[38;5;241m.\u001b[39mstart_filter()\n\u001b[0;32m---> 50\u001b[0m     \u001b[38;5;28;01mreturn\u001b[39;00m \u001b[43mdraw\u001b[49m\u001b[43m(\u001b[49m\u001b[43martist\u001b[49m\u001b[43m,\u001b[49m\u001b[43m \u001b[49m\u001b[43mrenderer\u001b[49m\u001b[43m)\u001b[49m\n\u001b[1;32m     51\u001b[0m \u001b[38;5;28;01mfinally\u001b[39;00m:\n\u001b[1;32m     52\u001b[0m     \u001b[38;5;28;01mif\u001b[39;00m artist\u001b[38;5;241m.\u001b[39mget_agg_filter() \u001b[38;5;129;01mis\u001b[39;00m \u001b[38;5;129;01mnot\u001b[39;00m \u001b[38;5;28;01mNone\u001b[39;00m:\n",
      "File \u001b[0;32m/opt/miniconda3/lib/python3.9/site-packages/matplotlib/figure.py:2810\u001b[0m, in \u001b[0;36mFigure.draw\u001b[0;34m(self, renderer)\u001b[0m\n\u001b[1;32m   2807\u001b[0m         \u001b[38;5;66;03m# ValueError can occur when resizing a window.\u001b[39;00m\n\u001b[1;32m   2809\u001b[0m \u001b[38;5;28mself\u001b[39m\u001b[38;5;241m.\u001b[39mpatch\u001b[38;5;241m.\u001b[39mdraw(renderer)\n\u001b[0;32m-> 2810\u001b[0m \u001b[43mmimage\u001b[49m\u001b[38;5;241;43m.\u001b[39;49m\u001b[43m_draw_list_compositing_images\u001b[49m\u001b[43m(\u001b[49m\n\u001b[1;32m   2811\u001b[0m \u001b[43m    \u001b[49m\u001b[43mrenderer\u001b[49m\u001b[43m,\u001b[49m\u001b[43m \u001b[49m\u001b[38;5;28;43mself\u001b[39;49m\u001b[43m,\u001b[49m\u001b[43m \u001b[49m\u001b[43martists\u001b[49m\u001b[43m,\u001b[49m\u001b[43m \u001b[49m\u001b[38;5;28;43mself\u001b[39;49m\u001b[38;5;241;43m.\u001b[39;49m\u001b[43msuppressComposite\u001b[49m\u001b[43m)\u001b[49m\n\u001b[1;32m   2813\u001b[0m \u001b[38;5;28;01mfor\u001b[39;00m sfig \u001b[38;5;129;01min\u001b[39;00m \u001b[38;5;28mself\u001b[39m\u001b[38;5;241m.\u001b[39msubfigs:\n\u001b[1;32m   2814\u001b[0m     sfig\u001b[38;5;241m.\u001b[39mdraw(renderer)\n",
      "File \u001b[0;32m/opt/miniconda3/lib/python3.9/site-packages/matplotlib/image.py:132\u001b[0m, in \u001b[0;36m_draw_list_compositing_images\u001b[0;34m(renderer, parent, artists, suppress_composite)\u001b[0m\n\u001b[1;32m    130\u001b[0m \u001b[38;5;28;01mif\u001b[39;00m not_composite \u001b[38;5;129;01mor\u001b[39;00m \u001b[38;5;129;01mnot\u001b[39;00m has_images:\n\u001b[1;32m    131\u001b[0m     \u001b[38;5;28;01mfor\u001b[39;00m a \u001b[38;5;129;01min\u001b[39;00m artists:\n\u001b[0;32m--> 132\u001b[0m         \u001b[43ma\u001b[49m\u001b[38;5;241;43m.\u001b[39;49m\u001b[43mdraw\u001b[49m\u001b[43m(\u001b[49m\u001b[43mrenderer\u001b[49m\u001b[43m)\u001b[49m\n\u001b[1;32m    133\u001b[0m \u001b[38;5;28;01melse\u001b[39;00m:\n\u001b[1;32m    134\u001b[0m     \u001b[38;5;66;03m# Composite any adjacent images together\u001b[39;00m\n\u001b[1;32m    135\u001b[0m     image_group \u001b[38;5;241m=\u001b[39m []\n",
      "File \u001b[0;32m/opt/miniconda3/lib/python3.9/site-packages/matplotlib/artist.py:50\u001b[0m, in \u001b[0;36mallow_rasterization.<locals>.draw_wrapper\u001b[0;34m(artist, renderer)\u001b[0m\n\u001b[1;32m     47\u001b[0m     \u001b[38;5;28;01mif\u001b[39;00m artist\u001b[38;5;241m.\u001b[39mget_agg_filter() \u001b[38;5;129;01mis\u001b[39;00m \u001b[38;5;129;01mnot\u001b[39;00m \u001b[38;5;28;01mNone\u001b[39;00m:\n\u001b[1;32m     48\u001b[0m         renderer\u001b[38;5;241m.\u001b[39mstart_filter()\n\u001b[0;32m---> 50\u001b[0m     \u001b[38;5;28;01mreturn\u001b[39;00m \u001b[43mdraw\u001b[49m\u001b[43m(\u001b[49m\u001b[43martist\u001b[49m\u001b[43m,\u001b[49m\u001b[43m \u001b[49m\u001b[43mrenderer\u001b[49m\u001b[43m)\u001b[49m\n\u001b[1;32m     51\u001b[0m \u001b[38;5;28;01mfinally\u001b[39;00m:\n\u001b[1;32m     52\u001b[0m     \u001b[38;5;28;01mif\u001b[39;00m artist\u001b[38;5;241m.\u001b[39mget_agg_filter() \u001b[38;5;129;01mis\u001b[39;00m \u001b[38;5;129;01mnot\u001b[39;00m \u001b[38;5;28;01mNone\u001b[39;00m:\n",
      "File \u001b[0;32m/opt/miniconda3/lib/python3.9/site-packages/cartopy/mpl/geoaxes.py:558\u001b[0m, in \u001b[0;36mGeoAxes.draw\u001b[0;34m(self, renderer, **kwargs)\u001b[0m\n\u001b[1;32m    553\u001b[0m         \u001b[38;5;28mself\u001b[39m\u001b[38;5;241m.\u001b[39mimshow(img, extent\u001b[38;5;241m=\u001b[39mextent, origin\u001b[38;5;241m=\u001b[39morigin,\n\u001b[1;32m    554\u001b[0m                     transform\u001b[38;5;241m=\u001b[39mfactory\u001b[38;5;241m.\u001b[39mcrs, \u001b[38;5;241m*\u001b[39mfactory_args[\u001b[38;5;241m1\u001b[39m:],\n\u001b[1;32m    555\u001b[0m                     \u001b[38;5;241m*\u001b[39m\u001b[38;5;241m*\u001b[39mfactory_kwargs)\n\u001b[1;32m    556\u001b[0m \u001b[38;5;28mself\u001b[39m\u001b[38;5;241m.\u001b[39m_done_img_factory \u001b[38;5;241m=\u001b[39m \u001b[38;5;28;01mTrue\u001b[39;00m\n\u001b[0;32m--> 558\u001b[0m \u001b[38;5;28;01mreturn\u001b[39;00m \u001b[43mmatplotlib\u001b[49m\u001b[38;5;241;43m.\u001b[39;49m\u001b[43maxes\u001b[49m\u001b[38;5;241;43m.\u001b[39;49m\u001b[43mAxes\u001b[49m\u001b[38;5;241;43m.\u001b[39;49m\u001b[43mdraw\u001b[49m\u001b[43m(\u001b[49m\u001b[38;5;28;43mself\u001b[39;49m\u001b[43m,\u001b[49m\u001b[43m \u001b[49m\u001b[43mrenderer\u001b[49m\u001b[38;5;241;43m=\u001b[39;49m\u001b[43mrenderer\u001b[49m\u001b[43m,\u001b[49m\u001b[43m \u001b[49m\u001b[38;5;241;43m*\u001b[39;49m\u001b[38;5;241;43m*\u001b[39;49m\u001b[43mkwargs\u001b[49m\u001b[43m)\u001b[49m\n",
      "File \u001b[0;32m/opt/miniconda3/lib/python3.9/site-packages/matplotlib/artist.py:50\u001b[0m, in \u001b[0;36mallow_rasterization.<locals>.draw_wrapper\u001b[0;34m(artist, renderer)\u001b[0m\n\u001b[1;32m     47\u001b[0m     \u001b[38;5;28;01mif\u001b[39;00m artist\u001b[38;5;241m.\u001b[39mget_agg_filter() \u001b[38;5;129;01mis\u001b[39;00m \u001b[38;5;129;01mnot\u001b[39;00m \u001b[38;5;28;01mNone\u001b[39;00m:\n\u001b[1;32m     48\u001b[0m         renderer\u001b[38;5;241m.\u001b[39mstart_filter()\n\u001b[0;32m---> 50\u001b[0m     \u001b[38;5;28;01mreturn\u001b[39;00m \u001b[43mdraw\u001b[49m\u001b[43m(\u001b[49m\u001b[43martist\u001b[49m\u001b[43m,\u001b[49m\u001b[43m \u001b[49m\u001b[43mrenderer\u001b[49m\u001b[43m)\u001b[49m\n\u001b[1;32m     51\u001b[0m \u001b[38;5;28;01mfinally\u001b[39;00m:\n\u001b[1;32m     52\u001b[0m     \u001b[38;5;28;01mif\u001b[39;00m artist\u001b[38;5;241m.\u001b[39mget_agg_filter() \u001b[38;5;129;01mis\u001b[39;00m \u001b[38;5;129;01mnot\u001b[39;00m \u001b[38;5;28;01mNone\u001b[39;00m:\n",
      "File \u001b[0;32m/opt/miniconda3/lib/python3.9/site-packages/matplotlib/axes/_base.py:3082\u001b[0m, in \u001b[0;36m_AxesBase.draw\u001b[0;34m(self, renderer)\u001b[0m\n\u001b[1;32m   3079\u001b[0m         a\u001b[38;5;241m.\u001b[39mdraw(renderer)\n\u001b[1;32m   3080\u001b[0m     renderer\u001b[38;5;241m.\u001b[39mstop_rasterizing()\n\u001b[0;32m-> 3082\u001b[0m \u001b[43mmimage\u001b[49m\u001b[38;5;241;43m.\u001b[39;49m\u001b[43m_draw_list_compositing_images\u001b[49m\u001b[43m(\u001b[49m\n\u001b[1;32m   3083\u001b[0m \u001b[43m    \u001b[49m\u001b[43mrenderer\u001b[49m\u001b[43m,\u001b[49m\u001b[43m \u001b[49m\u001b[38;5;28;43mself\u001b[39;49m\u001b[43m,\u001b[49m\u001b[43m \u001b[49m\u001b[43martists\u001b[49m\u001b[43m,\u001b[49m\u001b[43m \u001b[49m\u001b[38;5;28;43mself\u001b[39;49m\u001b[38;5;241;43m.\u001b[39;49m\u001b[43mfigure\u001b[49m\u001b[38;5;241;43m.\u001b[39;49m\u001b[43msuppressComposite\u001b[49m\u001b[43m)\u001b[49m\n\u001b[1;32m   3085\u001b[0m renderer\u001b[38;5;241m.\u001b[39mclose_group(\u001b[38;5;124m'\u001b[39m\u001b[38;5;124maxes\u001b[39m\u001b[38;5;124m'\u001b[39m)\n\u001b[1;32m   3086\u001b[0m \u001b[38;5;28mself\u001b[39m\u001b[38;5;241m.\u001b[39mstale \u001b[38;5;241m=\u001b[39m \u001b[38;5;28;01mFalse\u001b[39;00m\n",
      "File \u001b[0;32m/opt/miniconda3/lib/python3.9/site-packages/matplotlib/image.py:132\u001b[0m, in \u001b[0;36m_draw_list_compositing_images\u001b[0;34m(renderer, parent, artists, suppress_composite)\u001b[0m\n\u001b[1;32m    130\u001b[0m \u001b[38;5;28;01mif\u001b[39;00m not_composite \u001b[38;5;129;01mor\u001b[39;00m \u001b[38;5;129;01mnot\u001b[39;00m has_images:\n\u001b[1;32m    131\u001b[0m     \u001b[38;5;28;01mfor\u001b[39;00m a \u001b[38;5;129;01min\u001b[39;00m artists:\n\u001b[0;32m--> 132\u001b[0m         \u001b[43ma\u001b[49m\u001b[38;5;241;43m.\u001b[39;49m\u001b[43mdraw\u001b[49m\u001b[43m(\u001b[49m\u001b[43mrenderer\u001b[49m\u001b[43m)\u001b[49m\n\u001b[1;32m    133\u001b[0m \u001b[38;5;28;01melse\u001b[39;00m:\n\u001b[1;32m    134\u001b[0m     \u001b[38;5;66;03m# Composite any adjacent images together\u001b[39;00m\n\u001b[1;32m    135\u001b[0m     image_group \u001b[38;5;241m=\u001b[39m []\n",
      "File \u001b[0;32m/opt/miniconda3/lib/python3.9/site-packages/matplotlib/artist.py:50\u001b[0m, in \u001b[0;36mallow_rasterization.<locals>.draw_wrapper\u001b[0;34m(artist, renderer)\u001b[0m\n\u001b[1;32m     47\u001b[0m     \u001b[38;5;28;01mif\u001b[39;00m artist\u001b[38;5;241m.\u001b[39mget_agg_filter() \u001b[38;5;129;01mis\u001b[39;00m \u001b[38;5;129;01mnot\u001b[39;00m \u001b[38;5;28;01mNone\u001b[39;00m:\n\u001b[1;32m     48\u001b[0m         renderer\u001b[38;5;241m.\u001b[39mstart_filter()\n\u001b[0;32m---> 50\u001b[0m     \u001b[38;5;28;01mreturn\u001b[39;00m \u001b[43mdraw\u001b[49m\u001b[43m(\u001b[49m\u001b[43martist\u001b[49m\u001b[43m,\u001b[49m\u001b[43m \u001b[49m\u001b[43mrenderer\u001b[49m\u001b[43m)\u001b[49m\n\u001b[1;32m     51\u001b[0m \u001b[38;5;28;01mfinally\u001b[39;00m:\n\u001b[1;32m     52\u001b[0m     \u001b[38;5;28;01mif\u001b[39;00m artist\u001b[38;5;241m.\u001b[39mget_agg_filter() \u001b[38;5;129;01mis\u001b[39;00m \u001b[38;5;129;01mnot\u001b[39;00m \u001b[38;5;28;01mNone\u001b[39;00m:\n",
      "File \u001b[0;32m/opt/miniconda3/lib/python3.9/site-packages/cartopy/mpl/feature_artist.py:147\u001b[0m, in \u001b[0;36mFeatureArtist.draw\u001b[0;34m(self, renderer, *args, **kwargs)\u001b[0m\n\u001b[1;32m    145\u001b[0m extent \u001b[38;5;241m=\u001b[39m \u001b[38;5;28;01mNone\u001b[39;00m\n\u001b[1;32m    146\u001b[0m \u001b[38;5;28;01mtry\u001b[39;00m:\n\u001b[0;32m--> 147\u001b[0m     extent \u001b[38;5;241m=\u001b[39m \u001b[43max\u001b[49m\u001b[38;5;241;43m.\u001b[39;49m\u001b[43mget_extent\u001b[49m\u001b[43m(\u001b[49m\u001b[43mfeature_crs\u001b[49m\u001b[43m)\u001b[49m\n\u001b[1;32m    148\u001b[0m \u001b[38;5;28;01mexcept\u001b[39;00m \u001b[38;5;167;01mValueError\u001b[39;00m:\n\u001b[1;32m    149\u001b[0m     warnings\u001b[38;5;241m.\u001b[39mwarn(\u001b[38;5;124m'\u001b[39m\u001b[38;5;124mUnable to determine extent. Defaulting to global.\u001b[39m\u001b[38;5;124m'\u001b[39m)\n",
      "File \u001b[0;32m/opt/miniconda3/lib/python3.9/site-packages/cartopy/mpl/geoaxes.py:814\u001b[0m, in \u001b[0;36mGeoAxes.get_extent\u001b[0;34m(self, crs)\u001b[0m\n\u001b[1;32m    805\u001b[0m \u001b[38;5;28;01mdef\u001b[39;00m \u001b[38;5;21mget_extent\u001b[39m(\u001b[38;5;28mself\u001b[39m, crs\u001b[38;5;241m=\u001b[39m\u001b[38;5;28;01mNone\u001b[39;00m):\n\u001b[1;32m    806\u001b[0m     \u001b[38;5;124;03m\"\"\"\u001b[39;00m\n\u001b[1;32m    807\u001b[0m \u001b[38;5;124;03m    Get the extent (x0, x1, y0, y1) of the map in the given coordinate\u001b[39;00m\n\u001b[1;32m    808\u001b[0m \u001b[38;5;124;03m    system.\u001b[39;00m\n\u001b[0;32m   (...)\u001b[0m\n\u001b[1;32m    812\u001b[0m \n\u001b[1;32m    813\u001b[0m \u001b[38;5;124;03m    \"\"\"\u001b[39;00m\n\u001b[0;32m--> 814\u001b[0m     p \u001b[38;5;241m=\u001b[39m \u001b[38;5;28;43mself\u001b[39;49m\u001b[38;5;241;43m.\u001b[39;49m\u001b[43m_get_extent_geom\u001b[49m\u001b[43m(\u001b[49m\u001b[43mcrs\u001b[49m\u001b[43m)\u001b[49m\n\u001b[1;32m    815\u001b[0m     r \u001b[38;5;241m=\u001b[39m p\u001b[38;5;241m.\u001b[39mbounds\n\u001b[1;32m    816\u001b[0m     x1, y1, x2, y2 \u001b[38;5;241m=\u001b[39m r\n",
      "File \u001b[0;32m/opt/miniconda3/lib/python3.9/site-packages/cartopy/mpl/geoaxes.py:859\u001b[0m, in \u001b[0;36mGeoAxes._get_extent_geom\u001b[0;34m(self, crs)\u001b[0m\n\u001b[1;32m    856\u001b[0m     eroded_boundary \u001b[38;5;241m=\u001b[39m boundary_poly\u001b[38;5;241m.\u001b[39mbuffer(\u001b[38;5;241m-\u001b[39m\u001b[38;5;28mself\u001b[39m\u001b[38;5;241m.\u001b[39mprojection\u001b[38;5;241m.\u001b[39mthreshold)\n\u001b[1;32m    857\u001b[0m     geom_in_src_proj \u001b[38;5;241m=\u001b[39m eroded_boundary\u001b[38;5;241m.\u001b[39mintersection(\n\u001b[1;32m    858\u001b[0m         domain_in_src_proj)\n\u001b[0;32m--> 859\u001b[0m     geom_in_crs \u001b[38;5;241m=\u001b[39m \u001b[43mproj\u001b[49m\u001b[38;5;241;43m.\u001b[39;49m\u001b[43mproject_geometry\u001b[49m\u001b[43m(\u001b[49m\u001b[43mgeom_in_src_proj\u001b[49m\u001b[43m,\u001b[49m\n\u001b[1;32m    860\u001b[0m \u001b[43m                                        \u001b[49m\u001b[38;5;28;43mself\u001b[39;49m\u001b[38;5;241;43m.\u001b[39;49m\u001b[43mprojection\u001b[49m\u001b[43m)\u001b[49m\n\u001b[1;32m    861\u001b[0m \u001b[38;5;28;01melse\u001b[39;00m:\n\u001b[1;32m    862\u001b[0m     geom_in_crs \u001b[38;5;241m=\u001b[39m boundary_poly\u001b[38;5;241m.\u001b[39mintersection(domain_in_src_proj)\n",
      "File \u001b[0;32m/opt/miniconda3/lib/python3.9/site-packages/cartopy/crs.py:805\u001b[0m, in \u001b[0;36mProjection.project_geometry\u001b[0;34m(self, geometry, src_crs)\u001b[0m\n\u001b[1;32m    803\u001b[0m \u001b[38;5;28;01mif\u001b[39;00m \u001b[38;5;129;01mnot\u001b[39;00m method_name:\n\u001b[1;32m    804\u001b[0m     \u001b[38;5;28;01mraise\u001b[39;00m \u001b[38;5;167;01mValueError\u001b[39;00m(\u001b[38;5;124mf\u001b[39m\u001b[38;5;124m'\u001b[39m\u001b[38;5;124mUnsupported geometry type \u001b[39m\u001b[38;5;132;01m{\u001b[39;00mgeom_type\u001b[38;5;132;01m!r}\u001b[39;00m\u001b[38;5;124m'\u001b[39m)\n\u001b[0;32m--> 805\u001b[0m \u001b[38;5;28;01mreturn\u001b[39;00m \u001b[38;5;28;43mgetattr\u001b[39;49m\u001b[43m(\u001b[49m\u001b[38;5;28;43mself\u001b[39;49m\u001b[43m,\u001b[49m\u001b[43m \u001b[49m\u001b[43mmethod_name\u001b[49m\u001b[43m)\u001b[49m\u001b[43m(\u001b[49m\u001b[43mgeometry\u001b[49m\u001b[43m,\u001b[49m\u001b[43m \u001b[49m\u001b[43msrc_crs\u001b[49m\u001b[43m)\u001b[49m\n",
      "File \u001b[0;32m/opt/miniconda3/lib/python3.9/site-packages/cartopy/crs.py:941\u001b[0m, in \u001b[0;36mProjection._project_polygon\u001b[0;34m(self, polygon, src_crs)\u001b[0m\n\u001b[1;32m    939\u001b[0m     is_ccw \u001b[38;5;241m=\u001b[39m \u001b[38;5;28;01mTrue\u001b[39;00m\n\u001b[1;32m    940\u001b[0m \u001b[38;5;28;01melse\u001b[39;00m:\n\u001b[0;32m--> 941\u001b[0m     is_ccw \u001b[38;5;241m=\u001b[39m \u001b[43mpolygon\u001b[49m\u001b[38;5;241;43m.\u001b[39;49m\u001b[43mexterior\u001b[49m\u001b[38;5;241;43m.\u001b[39;49m\u001b[43mis_ccw\u001b[49m\n\u001b[1;32m    942\u001b[0m \u001b[38;5;66;03m# Project the polygon exterior/interior rings.\u001b[39;00m\n\u001b[1;32m    943\u001b[0m \u001b[38;5;66;03m# Each source ring will result in either a ring, or one or more\u001b[39;00m\n\u001b[1;32m    944\u001b[0m \u001b[38;5;66;03m# lines.\u001b[39;00m\n\u001b[1;32m    945\u001b[0m rings \u001b[38;5;241m=\u001b[39m []\n",
      "File \u001b[0;32m/opt/miniconda3/lib/python3.9/site-packages/shapely/geometry/polygon.py:99\u001b[0m, in \u001b[0;36mLinearRing.is_ccw\u001b[0;34m(self)\u001b[0m\n\u001b[1;32m     96\u001b[0m \u001b[38;5;129m@property\u001b[39m\n\u001b[1;32m     97\u001b[0m \u001b[38;5;28;01mdef\u001b[39;00m \u001b[38;5;21mis_ccw\u001b[39m(\u001b[38;5;28mself\u001b[39m):\n\u001b[1;32m     98\u001b[0m     \u001b[38;5;124;03m\"\"\"True is the ring is oriented counter clock-wise\"\"\"\u001b[39;00m\n\u001b[0;32m---> 99\u001b[0m     \u001b[38;5;28;01mreturn\u001b[39;00m \u001b[38;5;28mbool\u001b[39m(\u001b[38;5;28;43mself\u001b[39;49m\u001b[38;5;241;43m.\u001b[39;49m\u001b[43mimpl\u001b[49m\u001b[43m[\u001b[49m\u001b[38;5;124;43m'\u001b[39;49m\u001b[38;5;124;43mis_ccw\u001b[39;49m\u001b[38;5;124;43m'\u001b[39;49m\u001b[43m]\u001b[49m\u001b[43m(\u001b[49m\u001b[38;5;28;43mself\u001b[39;49m\u001b[43m)\u001b[49m)\n",
      "File \u001b[0;32m/opt/miniconda3/lib/python3.9/site-packages/shapely/algorithms/cga.py:14\u001b[0m, in \u001b[0;36mis_ccw_impl.<locals>.is_ccw_op\u001b[0;34m(ring)\u001b[0m\n\u001b[1;32m     13\u001b[0m \u001b[38;5;28;01mdef\u001b[39;00m \u001b[38;5;21mis_ccw_op\u001b[39m(ring):\n\u001b[0;32m---> 14\u001b[0m     \u001b[38;5;28;01mreturn\u001b[39;00m \u001b[43msigned_area\u001b[49m\u001b[43m(\u001b[49m\u001b[43mring\u001b[49m\u001b[43m)\u001b[49m \u001b[38;5;241m>\u001b[39m\u001b[38;5;241m=\u001b[39m \u001b[38;5;241m0.0\u001b[39m\n",
      "File \u001b[0;32m/opt/miniconda3/lib/python3.9/site-packages/shapely/algorithms/cga.py:7\u001b[0m, in \u001b[0;36msigned_area\u001b[0;34m(ring)\u001b[0m\n\u001b[1;32m      3\u001b[0m \u001b[38;5;124;03m\"\"\"Return the signed area enclosed by a ring in linear time using the\u001b[39;00m\n\u001b[1;32m      4\u001b[0m \u001b[38;5;124;03malgorithm at: https://web.archive.org/web/20080209143651/http://cgafaq.info:80/wiki/Polygon_Area\u001b[39;00m\n\u001b[1;32m      5\u001b[0m \u001b[38;5;124;03m\"\"\"\u001b[39;00m\n\u001b[1;32m      6\u001b[0m xs, ys \u001b[38;5;241m=\u001b[39m ring\u001b[38;5;241m.\u001b[39mcoords\u001b[38;5;241m.\u001b[39mxy\n\u001b[0;32m----> 7\u001b[0m xs\u001b[38;5;241m.\u001b[39mappend(\u001b[43mxs\u001b[49m\u001b[43m[\u001b[49m\u001b[38;5;241;43m1\u001b[39;49m\u001b[43m]\u001b[49m)\n\u001b[1;32m      8\u001b[0m ys\u001b[38;5;241m.\u001b[39mappend(ys[\u001b[38;5;241m1\u001b[39m])\n\u001b[1;32m      9\u001b[0m \u001b[38;5;28;01mreturn\u001b[39;00m \u001b[38;5;28msum\u001b[39m(xs[i]\u001b[38;5;241m*\u001b[39m(ys[i\u001b[38;5;241m+\u001b[39m\u001b[38;5;241m1\u001b[39m]\u001b[38;5;241m-\u001b[39mys[i\u001b[38;5;241m-\u001b[39m\u001b[38;5;241m1\u001b[39m]) \u001b[38;5;28;01mfor\u001b[39;00m i \u001b[38;5;129;01min\u001b[39;00m \u001b[38;5;28mrange\u001b[39m(\u001b[38;5;241m1\u001b[39m, \u001b[38;5;28mlen\u001b[39m(ring\u001b[38;5;241m.\u001b[39mcoords)))\u001b[38;5;241m/\u001b[39m\u001b[38;5;241m2.0\u001b[39m\n",
      "\u001b[0;31mIndexError\u001b[0m: array index out of range"
     ]
    },
    {
     "ename": "IndexError",
     "evalue": "array index out of range",
     "output_type": "error",
     "traceback": [
      "\u001b[0;31m---------------------------------------------------------------------------\u001b[0m",
      "\u001b[0;31mIndexError\u001b[0m                                Traceback (most recent call last)",
      "File \u001b[0;32m/opt/miniconda3/lib/python3.9/site-packages/IPython/core/formatters.py:339\u001b[0m, in \u001b[0;36mBaseFormatter.__call__\u001b[0;34m(self, obj)\u001b[0m\n\u001b[1;32m    337\u001b[0m     \u001b[38;5;28;01mpass\u001b[39;00m\n\u001b[1;32m    338\u001b[0m \u001b[38;5;28;01melse\u001b[39;00m:\n\u001b[0;32m--> 339\u001b[0m     \u001b[38;5;28;01mreturn\u001b[39;00m \u001b[43mprinter\u001b[49m\u001b[43m(\u001b[49m\u001b[43mobj\u001b[49m\u001b[43m)\u001b[49m\n\u001b[1;32m    340\u001b[0m \u001b[38;5;66;03m# Finally look for special method names\u001b[39;00m\n\u001b[1;32m    341\u001b[0m method \u001b[38;5;241m=\u001b[39m get_real_method(obj, \u001b[38;5;28mself\u001b[39m\u001b[38;5;241m.\u001b[39mprint_method)\n",
      "File \u001b[0;32m/opt/miniconda3/lib/python3.9/site-packages/IPython/core/pylabtools.py:151\u001b[0m, in \u001b[0;36mprint_figure\u001b[0;34m(fig, fmt, bbox_inches, base64, **kwargs)\u001b[0m\n\u001b[1;32m    148\u001b[0m     \u001b[38;5;28;01mfrom\u001b[39;00m \u001b[38;5;21;01mmatplotlib\u001b[39;00m\u001b[38;5;21;01m.\u001b[39;00m\u001b[38;5;21;01mbackend_bases\u001b[39;00m \u001b[38;5;28;01mimport\u001b[39;00m FigureCanvasBase\n\u001b[1;32m    149\u001b[0m     FigureCanvasBase(fig)\n\u001b[0;32m--> 151\u001b[0m \u001b[43mfig\u001b[49m\u001b[38;5;241;43m.\u001b[39;49m\u001b[43mcanvas\u001b[49m\u001b[38;5;241;43m.\u001b[39;49m\u001b[43mprint_figure\u001b[49m\u001b[43m(\u001b[49m\u001b[43mbytes_io\u001b[49m\u001b[43m,\u001b[49m\u001b[43m \u001b[49m\u001b[38;5;241;43m*\u001b[39;49m\u001b[38;5;241;43m*\u001b[39;49m\u001b[43mkw\u001b[49m\u001b[43m)\u001b[49m\n\u001b[1;32m    152\u001b[0m data \u001b[38;5;241m=\u001b[39m bytes_io\u001b[38;5;241m.\u001b[39mgetvalue()\n\u001b[1;32m    153\u001b[0m \u001b[38;5;28;01mif\u001b[39;00m fmt \u001b[38;5;241m==\u001b[39m \u001b[38;5;124m'\u001b[39m\u001b[38;5;124msvg\u001b[39m\u001b[38;5;124m'\u001b[39m:\n",
      "File \u001b[0;32m/opt/miniconda3/lib/python3.9/site-packages/matplotlib/backend_bases.py:2295\u001b[0m, in \u001b[0;36mFigureCanvasBase.print_figure\u001b[0;34m(self, filename, dpi, facecolor, edgecolor, orientation, format, bbox_inches, pad_inches, bbox_extra_artists, backend, **kwargs)\u001b[0m\n\u001b[1;32m   2289\u001b[0m     renderer \u001b[38;5;241m=\u001b[39m _get_renderer(\n\u001b[1;32m   2290\u001b[0m         \u001b[38;5;28mself\u001b[39m\u001b[38;5;241m.\u001b[39mfigure,\n\u001b[1;32m   2291\u001b[0m         functools\u001b[38;5;241m.\u001b[39mpartial(\n\u001b[1;32m   2292\u001b[0m             print_method, orientation\u001b[38;5;241m=\u001b[39morientation)\n\u001b[1;32m   2293\u001b[0m     )\n\u001b[1;32m   2294\u001b[0m     \u001b[38;5;28;01mwith\u001b[39;00m \u001b[38;5;28mgetattr\u001b[39m(renderer, \u001b[38;5;124m\"\u001b[39m\u001b[38;5;124m_draw_disabled\u001b[39m\u001b[38;5;124m\"\u001b[39m, nullcontext)():\n\u001b[0;32m-> 2295\u001b[0m         \u001b[38;5;28;43mself\u001b[39;49m\u001b[38;5;241;43m.\u001b[39;49m\u001b[43mfigure\u001b[49m\u001b[38;5;241;43m.\u001b[39;49m\u001b[43mdraw\u001b[49m\u001b[43m(\u001b[49m\u001b[43mrenderer\u001b[49m\u001b[43m)\u001b[49m\n\u001b[1;32m   2297\u001b[0m \u001b[38;5;28;01mif\u001b[39;00m bbox_inches:\n\u001b[1;32m   2298\u001b[0m     \u001b[38;5;28;01mif\u001b[39;00m bbox_inches \u001b[38;5;241m==\u001b[39m \u001b[38;5;124m\"\u001b[39m\u001b[38;5;124mtight\u001b[39m\u001b[38;5;124m\"\u001b[39m:\n",
      "File \u001b[0;32m/opt/miniconda3/lib/python3.9/site-packages/matplotlib/artist.py:73\u001b[0m, in \u001b[0;36m_finalize_rasterization.<locals>.draw_wrapper\u001b[0;34m(artist, renderer, *args, **kwargs)\u001b[0m\n\u001b[1;32m     71\u001b[0m \u001b[38;5;129m@wraps\u001b[39m(draw)\n\u001b[1;32m     72\u001b[0m \u001b[38;5;28;01mdef\u001b[39;00m \u001b[38;5;21mdraw_wrapper\u001b[39m(artist, renderer, \u001b[38;5;241m*\u001b[39margs, \u001b[38;5;241m*\u001b[39m\u001b[38;5;241m*\u001b[39mkwargs):\n\u001b[0;32m---> 73\u001b[0m     result \u001b[38;5;241m=\u001b[39m \u001b[43mdraw\u001b[49m\u001b[43m(\u001b[49m\u001b[43martist\u001b[49m\u001b[43m,\u001b[49m\u001b[43m \u001b[49m\u001b[43mrenderer\u001b[49m\u001b[43m,\u001b[49m\u001b[43m \u001b[49m\u001b[38;5;241;43m*\u001b[39;49m\u001b[43margs\u001b[49m\u001b[43m,\u001b[49m\u001b[43m \u001b[49m\u001b[38;5;241;43m*\u001b[39;49m\u001b[38;5;241;43m*\u001b[39;49m\u001b[43mkwargs\u001b[49m\u001b[43m)\u001b[49m\n\u001b[1;32m     74\u001b[0m     \u001b[38;5;28;01mif\u001b[39;00m renderer\u001b[38;5;241m.\u001b[39m_rasterizing:\n\u001b[1;32m     75\u001b[0m         renderer\u001b[38;5;241m.\u001b[39mstop_rasterizing()\n",
      "File \u001b[0;32m/opt/miniconda3/lib/python3.9/site-packages/matplotlib/artist.py:50\u001b[0m, in \u001b[0;36mallow_rasterization.<locals>.draw_wrapper\u001b[0;34m(artist, renderer)\u001b[0m\n\u001b[1;32m     47\u001b[0m     \u001b[38;5;28;01mif\u001b[39;00m artist\u001b[38;5;241m.\u001b[39mget_agg_filter() \u001b[38;5;129;01mis\u001b[39;00m \u001b[38;5;129;01mnot\u001b[39;00m \u001b[38;5;28;01mNone\u001b[39;00m:\n\u001b[1;32m     48\u001b[0m         renderer\u001b[38;5;241m.\u001b[39mstart_filter()\n\u001b[0;32m---> 50\u001b[0m     \u001b[38;5;28;01mreturn\u001b[39;00m \u001b[43mdraw\u001b[49m\u001b[43m(\u001b[49m\u001b[43martist\u001b[49m\u001b[43m,\u001b[49m\u001b[43m \u001b[49m\u001b[43mrenderer\u001b[49m\u001b[43m)\u001b[49m\n\u001b[1;32m     51\u001b[0m \u001b[38;5;28;01mfinally\u001b[39;00m:\n\u001b[1;32m     52\u001b[0m     \u001b[38;5;28;01mif\u001b[39;00m artist\u001b[38;5;241m.\u001b[39mget_agg_filter() \u001b[38;5;129;01mis\u001b[39;00m \u001b[38;5;129;01mnot\u001b[39;00m \u001b[38;5;28;01mNone\u001b[39;00m:\n",
      "File \u001b[0;32m/opt/miniconda3/lib/python3.9/site-packages/matplotlib/figure.py:2810\u001b[0m, in \u001b[0;36mFigure.draw\u001b[0;34m(self, renderer)\u001b[0m\n\u001b[1;32m   2807\u001b[0m         \u001b[38;5;66;03m# ValueError can occur when resizing a window.\u001b[39;00m\n\u001b[1;32m   2809\u001b[0m \u001b[38;5;28mself\u001b[39m\u001b[38;5;241m.\u001b[39mpatch\u001b[38;5;241m.\u001b[39mdraw(renderer)\n\u001b[0;32m-> 2810\u001b[0m \u001b[43mmimage\u001b[49m\u001b[38;5;241;43m.\u001b[39;49m\u001b[43m_draw_list_compositing_images\u001b[49m\u001b[43m(\u001b[49m\n\u001b[1;32m   2811\u001b[0m \u001b[43m    \u001b[49m\u001b[43mrenderer\u001b[49m\u001b[43m,\u001b[49m\u001b[43m \u001b[49m\u001b[38;5;28;43mself\u001b[39;49m\u001b[43m,\u001b[49m\u001b[43m \u001b[49m\u001b[43martists\u001b[49m\u001b[43m,\u001b[49m\u001b[43m \u001b[49m\u001b[38;5;28;43mself\u001b[39;49m\u001b[38;5;241;43m.\u001b[39;49m\u001b[43msuppressComposite\u001b[49m\u001b[43m)\u001b[49m\n\u001b[1;32m   2813\u001b[0m \u001b[38;5;28;01mfor\u001b[39;00m sfig \u001b[38;5;129;01min\u001b[39;00m \u001b[38;5;28mself\u001b[39m\u001b[38;5;241m.\u001b[39msubfigs:\n\u001b[1;32m   2814\u001b[0m     sfig\u001b[38;5;241m.\u001b[39mdraw(renderer)\n",
      "File \u001b[0;32m/opt/miniconda3/lib/python3.9/site-packages/matplotlib/image.py:132\u001b[0m, in \u001b[0;36m_draw_list_compositing_images\u001b[0;34m(renderer, parent, artists, suppress_composite)\u001b[0m\n\u001b[1;32m    130\u001b[0m \u001b[38;5;28;01mif\u001b[39;00m not_composite \u001b[38;5;129;01mor\u001b[39;00m \u001b[38;5;129;01mnot\u001b[39;00m has_images:\n\u001b[1;32m    131\u001b[0m     \u001b[38;5;28;01mfor\u001b[39;00m a \u001b[38;5;129;01min\u001b[39;00m artists:\n\u001b[0;32m--> 132\u001b[0m         \u001b[43ma\u001b[49m\u001b[38;5;241;43m.\u001b[39;49m\u001b[43mdraw\u001b[49m\u001b[43m(\u001b[49m\u001b[43mrenderer\u001b[49m\u001b[43m)\u001b[49m\n\u001b[1;32m    133\u001b[0m \u001b[38;5;28;01melse\u001b[39;00m:\n\u001b[1;32m    134\u001b[0m     \u001b[38;5;66;03m# Composite any adjacent images together\u001b[39;00m\n\u001b[1;32m    135\u001b[0m     image_group \u001b[38;5;241m=\u001b[39m []\n",
      "File \u001b[0;32m/opt/miniconda3/lib/python3.9/site-packages/matplotlib/artist.py:50\u001b[0m, in \u001b[0;36mallow_rasterization.<locals>.draw_wrapper\u001b[0;34m(artist, renderer)\u001b[0m\n\u001b[1;32m     47\u001b[0m     \u001b[38;5;28;01mif\u001b[39;00m artist\u001b[38;5;241m.\u001b[39mget_agg_filter() \u001b[38;5;129;01mis\u001b[39;00m \u001b[38;5;129;01mnot\u001b[39;00m \u001b[38;5;28;01mNone\u001b[39;00m:\n\u001b[1;32m     48\u001b[0m         renderer\u001b[38;5;241m.\u001b[39mstart_filter()\n\u001b[0;32m---> 50\u001b[0m     \u001b[38;5;28;01mreturn\u001b[39;00m \u001b[43mdraw\u001b[49m\u001b[43m(\u001b[49m\u001b[43martist\u001b[49m\u001b[43m,\u001b[49m\u001b[43m \u001b[49m\u001b[43mrenderer\u001b[49m\u001b[43m)\u001b[49m\n\u001b[1;32m     51\u001b[0m \u001b[38;5;28;01mfinally\u001b[39;00m:\n\u001b[1;32m     52\u001b[0m     \u001b[38;5;28;01mif\u001b[39;00m artist\u001b[38;5;241m.\u001b[39mget_agg_filter() \u001b[38;5;129;01mis\u001b[39;00m \u001b[38;5;129;01mnot\u001b[39;00m \u001b[38;5;28;01mNone\u001b[39;00m:\n",
      "File \u001b[0;32m/opt/miniconda3/lib/python3.9/site-packages/cartopy/mpl/geoaxes.py:558\u001b[0m, in \u001b[0;36mGeoAxes.draw\u001b[0;34m(self, renderer, **kwargs)\u001b[0m\n\u001b[1;32m    553\u001b[0m         \u001b[38;5;28mself\u001b[39m\u001b[38;5;241m.\u001b[39mimshow(img, extent\u001b[38;5;241m=\u001b[39mextent, origin\u001b[38;5;241m=\u001b[39morigin,\n\u001b[1;32m    554\u001b[0m                     transform\u001b[38;5;241m=\u001b[39mfactory\u001b[38;5;241m.\u001b[39mcrs, \u001b[38;5;241m*\u001b[39mfactory_args[\u001b[38;5;241m1\u001b[39m:],\n\u001b[1;32m    555\u001b[0m                     \u001b[38;5;241m*\u001b[39m\u001b[38;5;241m*\u001b[39mfactory_kwargs)\n\u001b[1;32m    556\u001b[0m \u001b[38;5;28mself\u001b[39m\u001b[38;5;241m.\u001b[39m_done_img_factory \u001b[38;5;241m=\u001b[39m \u001b[38;5;28;01mTrue\u001b[39;00m\n\u001b[0;32m--> 558\u001b[0m \u001b[38;5;28;01mreturn\u001b[39;00m \u001b[43mmatplotlib\u001b[49m\u001b[38;5;241;43m.\u001b[39;49m\u001b[43maxes\u001b[49m\u001b[38;5;241;43m.\u001b[39;49m\u001b[43mAxes\u001b[49m\u001b[38;5;241;43m.\u001b[39;49m\u001b[43mdraw\u001b[49m\u001b[43m(\u001b[49m\u001b[38;5;28;43mself\u001b[39;49m\u001b[43m,\u001b[49m\u001b[43m \u001b[49m\u001b[43mrenderer\u001b[49m\u001b[38;5;241;43m=\u001b[39;49m\u001b[43mrenderer\u001b[49m\u001b[43m,\u001b[49m\u001b[43m \u001b[49m\u001b[38;5;241;43m*\u001b[39;49m\u001b[38;5;241;43m*\u001b[39;49m\u001b[43mkwargs\u001b[49m\u001b[43m)\u001b[49m\n",
      "File \u001b[0;32m/opt/miniconda3/lib/python3.9/site-packages/matplotlib/artist.py:50\u001b[0m, in \u001b[0;36mallow_rasterization.<locals>.draw_wrapper\u001b[0;34m(artist, renderer)\u001b[0m\n\u001b[1;32m     47\u001b[0m     \u001b[38;5;28;01mif\u001b[39;00m artist\u001b[38;5;241m.\u001b[39mget_agg_filter() \u001b[38;5;129;01mis\u001b[39;00m \u001b[38;5;129;01mnot\u001b[39;00m \u001b[38;5;28;01mNone\u001b[39;00m:\n\u001b[1;32m     48\u001b[0m         renderer\u001b[38;5;241m.\u001b[39mstart_filter()\n\u001b[0;32m---> 50\u001b[0m     \u001b[38;5;28;01mreturn\u001b[39;00m \u001b[43mdraw\u001b[49m\u001b[43m(\u001b[49m\u001b[43martist\u001b[49m\u001b[43m,\u001b[49m\u001b[43m \u001b[49m\u001b[43mrenderer\u001b[49m\u001b[43m)\u001b[49m\n\u001b[1;32m     51\u001b[0m \u001b[38;5;28;01mfinally\u001b[39;00m:\n\u001b[1;32m     52\u001b[0m     \u001b[38;5;28;01mif\u001b[39;00m artist\u001b[38;5;241m.\u001b[39mget_agg_filter() \u001b[38;5;129;01mis\u001b[39;00m \u001b[38;5;129;01mnot\u001b[39;00m \u001b[38;5;28;01mNone\u001b[39;00m:\n",
      "File \u001b[0;32m/opt/miniconda3/lib/python3.9/site-packages/matplotlib/axes/_base.py:3082\u001b[0m, in \u001b[0;36m_AxesBase.draw\u001b[0;34m(self, renderer)\u001b[0m\n\u001b[1;32m   3079\u001b[0m         a\u001b[38;5;241m.\u001b[39mdraw(renderer)\n\u001b[1;32m   3080\u001b[0m     renderer\u001b[38;5;241m.\u001b[39mstop_rasterizing()\n\u001b[0;32m-> 3082\u001b[0m \u001b[43mmimage\u001b[49m\u001b[38;5;241;43m.\u001b[39;49m\u001b[43m_draw_list_compositing_images\u001b[49m\u001b[43m(\u001b[49m\n\u001b[1;32m   3083\u001b[0m \u001b[43m    \u001b[49m\u001b[43mrenderer\u001b[49m\u001b[43m,\u001b[49m\u001b[43m \u001b[49m\u001b[38;5;28;43mself\u001b[39;49m\u001b[43m,\u001b[49m\u001b[43m \u001b[49m\u001b[43martists\u001b[49m\u001b[43m,\u001b[49m\u001b[43m \u001b[49m\u001b[38;5;28;43mself\u001b[39;49m\u001b[38;5;241;43m.\u001b[39;49m\u001b[43mfigure\u001b[49m\u001b[38;5;241;43m.\u001b[39;49m\u001b[43msuppressComposite\u001b[49m\u001b[43m)\u001b[49m\n\u001b[1;32m   3085\u001b[0m renderer\u001b[38;5;241m.\u001b[39mclose_group(\u001b[38;5;124m'\u001b[39m\u001b[38;5;124maxes\u001b[39m\u001b[38;5;124m'\u001b[39m)\n\u001b[1;32m   3086\u001b[0m \u001b[38;5;28mself\u001b[39m\u001b[38;5;241m.\u001b[39mstale \u001b[38;5;241m=\u001b[39m \u001b[38;5;28;01mFalse\u001b[39;00m\n",
      "File \u001b[0;32m/opt/miniconda3/lib/python3.9/site-packages/matplotlib/image.py:132\u001b[0m, in \u001b[0;36m_draw_list_compositing_images\u001b[0;34m(renderer, parent, artists, suppress_composite)\u001b[0m\n\u001b[1;32m    130\u001b[0m \u001b[38;5;28;01mif\u001b[39;00m not_composite \u001b[38;5;129;01mor\u001b[39;00m \u001b[38;5;129;01mnot\u001b[39;00m has_images:\n\u001b[1;32m    131\u001b[0m     \u001b[38;5;28;01mfor\u001b[39;00m a \u001b[38;5;129;01min\u001b[39;00m artists:\n\u001b[0;32m--> 132\u001b[0m         \u001b[43ma\u001b[49m\u001b[38;5;241;43m.\u001b[39;49m\u001b[43mdraw\u001b[49m\u001b[43m(\u001b[49m\u001b[43mrenderer\u001b[49m\u001b[43m)\u001b[49m\n\u001b[1;32m    133\u001b[0m \u001b[38;5;28;01melse\u001b[39;00m:\n\u001b[1;32m    134\u001b[0m     \u001b[38;5;66;03m# Composite any adjacent images together\u001b[39;00m\n\u001b[1;32m    135\u001b[0m     image_group \u001b[38;5;241m=\u001b[39m []\n",
      "File \u001b[0;32m/opt/miniconda3/lib/python3.9/site-packages/matplotlib/artist.py:50\u001b[0m, in \u001b[0;36mallow_rasterization.<locals>.draw_wrapper\u001b[0;34m(artist, renderer)\u001b[0m\n\u001b[1;32m     47\u001b[0m     \u001b[38;5;28;01mif\u001b[39;00m artist\u001b[38;5;241m.\u001b[39mget_agg_filter() \u001b[38;5;129;01mis\u001b[39;00m \u001b[38;5;129;01mnot\u001b[39;00m \u001b[38;5;28;01mNone\u001b[39;00m:\n\u001b[1;32m     48\u001b[0m         renderer\u001b[38;5;241m.\u001b[39mstart_filter()\n\u001b[0;32m---> 50\u001b[0m     \u001b[38;5;28;01mreturn\u001b[39;00m \u001b[43mdraw\u001b[49m\u001b[43m(\u001b[49m\u001b[43martist\u001b[49m\u001b[43m,\u001b[49m\u001b[43m \u001b[49m\u001b[43mrenderer\u001b[49m\u001b[43m)\u001b[49m\n\u001b[1;32m     51\u001b[0m \u001b[38;5;28;01mfinally\u001b[39;00m:\n\u001b[1;32m     52\u001b[0m     \u001b[38;5;28;01mif\u001b[39;00m artist\u001b[38;5;241m.\u001b[39mget_agg_filter() \u001b[38;5;129;01mis\u001b[39;00m \u001b[38;5;129;01mnot\u001b[39;00m \u001b[38;5;28;01mNone\u001b[39;00m:\n",
      "File \u001b[0;32m/opt/miniconda3/lib/python3.9/site-packages/cartopy/mpl/feature_artist.py:147\u001b[0m, in \u001b[0;36mFeatureArtist.draw\u001b[0;34m(self, renderer, *args, **kwargs)\u001b[0m\n\u001b[1;32m    145\u001b[0m extent \u001b[38;5;241m=\u001b[39m \u001b[38;5;28;01mNone\u001b[39;00m\n\u001b[1;32m    146\u001b[0m \u001b[38;5;28;01mtry\u001b[39;00m:\n\u001b[0;32m--> 147\u001b[0m     extent \u001b[38;5;241m=\u001b[39m \u001b[43max\u001b[49m\u001b[38;5;241;43m.\u001b[39;49m\u001b[43mget_extent\u001b[49m\u001b[43m(\u001b[49m\u001b[43mfeature_crs\u001b[49m\u001b[43m)\u001b[49m\n\u001b[1;32m    148\u001b[0m \u001b[38;5;28;01mexcept\u001b[39;00m \u001b[38;5;167;01mValueError\u001b[39;00m:\n\u001b[1;32m    149\u001b[0m     warnings\u001b[38;5;241m.\u001b[39mwarn(\u001b[38;5;124m'\u001b[39m\u001b[38;5;124mUnable to determine extent. Defaulting to global.\u001b[39m\u001b[38;5;124m'\u001b[39m)\n",
      "File \u001b[0;32m/opt/miniconda3/lib/python3.9/site-packages/cartopy/mpl/geoaxes.py:814\u001b[0m, in \u001b[0;36mGeoAxes.get_extent\u001b[0;34m(self, crs)\u001b[0m\n\u001b[1;32m    805\u001b[0m \u001b[38;5;28;01mdef\u001b[39;00m \u001b[38;5;21mget_extent\u001b[39m(\u001b[38;5;28mself\u001b[39m, crs\u001b[38;5;241m=\u001b[39m\u001b[38;5;28;01mNone\u001b[39;00m):\n\u001b[1;32m    806\u001b[0m     \u001b[38;5;124;03m\"\"\"\u001b[39;00m\n\u001b[1;32m    807\u001b[0m \u001b[38;5;124;03m    Get the extent (x0, x1, y0, y1) of the map in the given coordinate\u001b[39;00m\n\u001b[1;32m    808\u001b[0m \u001b[38;5;124;03m    system.\u001b[39;00m\n\u001b[0;32m   (...)\u001b[0m\n\u001b[1;32m    812\u001b[0m \n\u001b[1;32m    813\u001b[0m \u001b[38;5;124;03m    \"\"\"\u001b[39;00m\n\u001b[0;32m--> 814\u001b[0m     p \u001b[38;5;241m=\u001b[39m \u001b[38;5;28;43mself\u001b[39;49m\u001b[38;5;241;43m.\u001b[39;49m\u001b[43m_get_extent_geom\u001b[49m\u001b[43m(\u001b[49m\u001b[43mcrs\u001b[49m\u001b[43m)\u001b[49m\n\u001b[1;32m    815\u001b[0m     r \u001b[38;5;241m=\u001b[39m p\u001b[38;5;241m.\u001b[39mbounds\n\u001b[1;32m    816\u001b[0m     x1, y1, x2, y2 \u001b[38;5;241m=\u001b[39m r\n",
      "File \u001b[0;32m/opt/miniconda3/lib/python3.9/site-packages/cartopy/mpl/geoaxes.py:859\u001b[0m, in \u001b[0;36mGeoAxes._get_extent_geom\u001b[0;34m(self, crs)\u001b[0m\n\u001b[1;32m    856\u001b[0m     eroded_boundary \u001b[38;5;241m=\u001b[39m boundary_poly\u001b[38;5;241m.\u001b[39mbuffer(\u001b[38;5;241m-\u001b[39m\u001b[38;5;28mself\u001b[39m\u001b[38;5;241m.\u001b[39mprojection\u001b[38;5;241m.\u001b[39mthreshold)\n\u001b[1;32m    857\u001b[0m     geom_in_src_proj \u001b[38;5;241m=\u001b[39m eroded_boundary\u001b[38;5;241m.\u001b[39mintersection(\n\u001b[1;32m    858\u001b[0m         domain_in_src_proj)\n\u001b[0;32m--> 859\u001b[0m     geom_in_crs \u001b[38;5;241m=\u001b[39m \u001b[43mproj\u001b[49m\u001b[38;5;241;43m.\u001b[39;49m\u001b[43mproject_geometry\u001b[49m\u001b[43m(\u001b[49m\u001b[43mgeom_in_src_proj\u001b[49m\u001b[43m,\u001b[49m\n\u001b[1;32m    860\u001b[0m \u001b[43m                                        \u001b[49m\u001b[38;5;28;43mself\u001b[39;49m\u001b[38;5;241;43m.\u001b[39;49m\u001b[43mprojection\u001b[49m\u001b[43m)\u001b[49m\n\u001b[1;32m    861\u001b[0m \u001b[38;5;28;01melse\u001b[39;00m:\n\u001b[1;32m    862\u001b[0m     geom_in_crs \u001b[38;5;241m=\u001b[39m boundary_poly\u001b[38;5;241m.\u001b[39mintersection(domain_in_src_proj)\n",
      "File \u001b[0;32m/opt/miniconda3/lib/python3.9/site-packages/cartopy/crs.py:805\u001b[0m, in \u001b[0;36mProjection.project_geometry\u001b[0;34m(self, geometry, src_crs)\u001b[0m\n\u001b[1;32m    803\u001b[0m \u001b[38;5;28;01mif\u001b[39;00m \u001b[38;5;129;01mnot\u001b[39;00m method_name:\n\u001b[1;32m    804\u001b[0m     \u001b[38;5;28;01mraise\u001b[39;00m \u001b[38;5;167;01mValueError\u001b[39;00m(\u001b[38;5;124mf\u001b[39m\u001b[38;5;124m'\u001b[39m\u001b[38;5;124mUnsupported geometry type \u001b[39m\u001b[38;5;132;01m{\u001b[39;00mgeom_type\u001b[38;5;132;01m!r}\u001b[39;00m\u001b[38;5;124m'\u001b[39m)\n\u001b[0;32m--> 805\u001b[0m \u001b[38;5;28;01mreturn\u001b[39;00m \u001b[38;5;28;43mgetattr\u001b[39;49m\u001b[43m(\u001b[49m\u001b[38;5;28;43mself\u001b[39;49m\u001b[43m,\u001b[49m\u001b[43m \u001b[49m\u001b[43mmethod_name\u001b[49m\u001b[43m)\u001b[49m\u001b[43m(\u001b[49m\u001b[43mgeometry\u001b[49m\u001b[43m,\u001b[49m\u001b[43m \u001b[49m\u001b[43msrc_crs\u001b[49m\u001b[43m)\u001b[49m\n",
      "File \u001b[0;32m/opt/miniconda3/lib/python3.9/site-packages/cartopy/crs.py:941\u001b[0m, in \u001b[0;36mProjection._project_polygon\u001b[0;34m(self, polygon, src_crs)\u001b[0m\n\u001b[1;32m    939\u001b[0m     is_ccw \u001b[38;5;241m=\u001b[39m \u001b[38;5;28;01mTrue\u001b[39;00m\n\u001b[1;32m    940\u001b[0m \u001b[38;5;28;01melse\u001b[39;00m:\n\u001b[0;32m--> 941\u001b[0m     is_ccw \u001b[38;5;241m=\u001b[39m \u001b[43mpolygon\u001b[49m\u001b[38;5;241;43m.\u001b[39;49m\u001b[43mexterior\u001b[49m\u001b[38;5;241;43m.\u001b[39;49m\u001b[43mis_ccw\u001b[49m\n\u001b[1;32m    942\u001b[0m \u001b[38;5;66;03m# Project the polygon exterior/interior rings.\u001b[39;00m\n\u001b[1;32m    943\u001b[0m \u001b[38;5;66;03m# Each source ring will result in either a ring, or one or more\u001b[39;00m\n\u001b[1;32m    944\u001b[0m \u001b[38;5;66;03m# lines.\u001b[39;00m\n\u001b[1;32m    945\u001b[0m rings \u001b[38;5;241m=\u001b[39m []\n",
      "File \u001b[0;32m/opt/miniconda3/lib/python3.9/site-packages/shapely/geometry/polygon.py:99\u001b[0m, in \u001b[0;36mLinearRing.is_ccw\u001b[0;34m(self)\u001b[0m\n\u001b[1;32m     96\u001b[0m \u001b[38;5;129m@property\u001b[39m\n\u001b[1;32m     97\u001b[0m \u001b[38;5;28;01mdef\u001b[39;00m \u001b[38;5;21mis_ccw\u001b[39m(\u001b[38;5;28mself\u001b[39m):\n\u001b[1;32m     98\u001b[0m     \u001b[38;5;124;03m\"\"\"True is the ring is oriented counter clock-wise\"\"\"\u001b[39;00m\n\u001b[0;32m---> 99\u001b[0m     \u001b[38;5;28;01mreturn\u001b[39;00m \u001b[38;5;28mbool\u001b[39m(\u001b[38;5;28;43mself\u001b[39;49m\u001b[38;5;241;43m.\u001b[39;49m\u001b[43mimpl\u001b[49m\u001b[43m[\u001b[49m\u001b[38;5;124;43m'\u001b[39;49m\u001b[38;5;124;43mis_ccw\u001b[39;49m\u001b[38;5;124;43m'\u001b[39;49m\u001b[43m]\u001b[49m\u001b[43m(\u001b[49m\u001b[38;5;28;43mself\u001b[39;49m\u001b[43m)\u001b[49m)\n",
      "File \u001b[0;32m/opt/miniconda3/lib/python3.9/site-packages/shapely/algorithms/cga.py:14\u001b[0m, in \u001b[0;36mis_ccw_impl.<locals>.is_ccw_op\u001b[0;34m(ring)\u001b[0m\n\u001b[1;32m     13\u001b[0m \u001b[38;5;28;01mdef\u001b[39;00m \u001b[38;5;21mis_ccw_op\u001b[39m(ring):\n\u001b[0;32m---> 14\u001b[0m     \u001b[38;5;28;01mreturn\u001b[39;00m \u001b[43msigned_area\u001b[49m\u001b[43m(\u001b[49m\u001b[43mring\u001b[49m\u001b[43m)\u001b[49m \u001b[38;5;241m>\u001b[39m\u001b[38;5;241m=\u001b[39m \u001b[38;5;241m0.0\u001b[39m\n",
      "File \u001b[0;32m/opt/miniconda3/lib/python3.9/site-packages/shapely/algorithms/cga.py:7\u001b[0m, in \u001b[0;36msigned_area\u001b[0;34m(ring)\u001b[0m\n\u001b[1;32m      3\u001b[0m \u001b[38;5;124;03m\"\"\"Return the signed area enclosed by a ring in linear time using the\u001b[39;00m\n\u001b[1;32m      4\u001b[0m \u001b[38;5;124;03malgorithm at: https://web.archive.org/web/20080209143651/http://cgafaq.info:80/wiki/Polygon_Area\u001b[39;00m\n\u001b[1;32m      5\u001b[0m \u001b[38;5;124;03m\"\"\"\u001b[39;00m\n\u001b[1;32m      6\u001b[0m xs, ys \u001b[38;5;241m=\u001b[39m ring\u001b[38;5;241m.\u001b[39mcoords\u001b[38;5;241m.\u001b[39mxy\n\u001b[0;32m----> 7\u001b[0m xs\u001b[38;5;241m.\u001b[39mappend(\u001b[43mxs\u001b[49m\u001b[43m[\u001b[49m\u001b[38;5;241;43m1\u001b[39;49m\u001b[43m]\u001b[49m)\n\u001b[1;32m      8\u001b[0m ys\u001b[38;5;241m.\u001b[39mappend(ys[\u001b[38;5;241m1\u001b[39m])\n\u001b[1;32m      9\u001b[0m \u001b[38;5;28;01mreturn\u001b[39;00m \u001b[38;5;28msum\u001b[39m(xs[i]\u001b[38;5;241m*\u001b[39m(ys[i\u001b[38;5;241m+\u001b[39m\u001b[38;5;241m1\u001b[39m]\u001b[38;5;241m-\u001b[39mys[i\u001b[38;5;241m-\u001b[39m\u001b[38;5;241m1\u001b[39m]) \u001b[38;5;28;01mfor\u001b[39;00m i \u001b[38;5;129;01min\u001b[39;00m \u001b[38;5;28mrange\u001b[39m(\u001b[38;5;241m1\u001b[39m, \u001b[38;5;28mlen\u001b[39m(ring\u001b[38;5;241m.\u001b[39mcoords)))\u001b[38;5;241m/\u001b[39m\u001b[38;5;241m2.0\u001b[39m\n",
      "\u001b[0;31mIndexError\u001b[0m: array index out of range"
     ]
    },
    {
     "data": {
      "text/plain": [
       "<Figure size 576x576 with 2 Axes>"
      ]
     },
     "metadata": {},
     "output_type": "display_data"
    }
   ],
   "source": [
    "##################################################\n",
    "#\n",
    "# Create PNGs\n",
    "#\n",
    "\n",
    "i_rap    = 801\n",
    "j_rap    = 231\n",
    "imin_rap = i_rap-250\n",
    "imax_rap = i_rap+250\n",
    "jmin_rap = j_rap-250+19\n",
    "jmax_rap = j_rap+250-19\n",
    "\n",
    "\n",
    "\n",
    "for i in range(0,len(cat.datasets[0:total_frames])+1,1) : \n",
    "\n",
    "    dataset = cat.datasets[i]\n",
    "    \n",
    "    dataset_png_file_name = png_processing_directory + dataset.name.replace(\".nc\", \".png\")\n",
    "    \n",
    "    if (not pathlib.Path(dataset_png_file_name).is_file() ):\n",
    "\n",
    "        ds = dataset.remote_access(use_xarray=True)\n",
    "        dat = ds.metpy.parse_cf('Sectorized_CMI')\n",
    "        proj = dat.metpy.cartopy_crs\n",
    "        x = dat['x'][imin_rap:imax_rap]\n",
    "        y = dat['y'][jmin_rap:jmax_rap]\n",
    "\n",
    "\n",
    "        tz='America/Denver'\n",
    "        time_utc   = datetime.strptime(ds.start_date_time, '%Y%j%H%M%S')\n",
    "        valid_time = pd.to_datetime(time_utc).tz_localize(tz=\"UTC\").strftime(\"%Y-%m-%d %H:%M:%S %Z\")\n",
    "        local_time = pd.to_datetime(time_utc).tz_localize(tz=\"UTC\").tz_convert(tz=tz).strftime(\"%Y-%m-%d %H:%M:%S %Z\")\n",
    "\n",
    "        file_time = pd.to_datetime(time_utc).tz_localize(tz=\"UTC\").strftime(\"%Y-%m-%d_%H%M\")\n",
    "\n",
    "\n",
    "        print(valid_time,local_time)\n",
    "\n",
    "\n",
    "\n",
    "        fig = plt.figure(figsize=(8, 8), facecolor = 'white')\n",
    "\n",
    "        plt.suptitle(image_header_label,\n",
    "                     fontsize = 20, \n",
    "                     color    = \"black\")\n",
    "        ax = fig.add_subplot(1, 1, 1, projection=proj)\n",
    "        ax.set_title(valid_time + \"  (\" + local_time+\")\",\n",
    "                        fontsize=15, color=\"black\")\n",
    "        ax.add_feature(cfeature.COASTLINE.with_scale('50m'), linewidth=2)\n",
    "        ax.add_feature(cfeature.STATES.with_scale('50m'),    linestyle=':', edgecolor='black')\n",
    "        ax.add_feature(cfeature.BORDERS.with_scale('50m'),   linewidth=2, edgecolor='black')\n",
    "        \n",
    "\n",
    "        #print(\"range dat = \",np.nanmin(dat.values),np.nanmax(dat.values))\n",
    "        im = ax.imshow(dat[jmin_rap:jmax_rap,imin_rap:imax_rap], \n",
    "                       extent = (x.min(), x.max(), y.min(), y.max()), \n",
    "                       origin = 'upper')\n",
    "\n",
    "        wv_norm, wv_cmap = colortables.get_with_range('WVCIMSS_r', 190, 310)\n",
    "        im.set_cmap(wv_cmap)\n",
    "        im.set_norm(wv_norm)\n",
    "        \n",
    "        #########################################\n",
    "        #\n",
    "        # Insert a Clock\n",
    "        #\n",
    "        \n",
    "        axins = fig.add_axes(rect     =    [0.02,\n",
    "                                            0.81,\n",
    "                                            0.12*0.65306121,\n",
    "                                            0.12],\n",
    "                              projection  =  \"polar\")\n",
    "        \n",
    "        time_for_clock = pd.to_datetime(time_utc).tz_localize(tz=\"UTC\").tz_convert(tz=tz).time()\n",
    "\n",
    "        hour   = time_for_clock.hour\n",
    "        minute = time_for_clock.minute\n",
    "        second = time_for_clock.second\n",
    "        \n",
    "        circle_theta  = np.deg2rad(np.arange(0,360,0.01))\n",
    "        circle_radius = circle_theta * 0 + 1\n",
    "        \n",
    "        if (hour > 12) :\n",
    "            hour = hour - 12\n",
    "        \n",
    "        angles_h = 2*np.pi*hour/12+2*np.pi*minute/(12*60)+2*second/(12*60*60)\n",
    "        angles_m = 2*np.pi*minute/60+2*np.pi*second/(60*60)\n",
    "        \n",
    "        print(time_for_clock)\n",
    "        print(hour,   np.rad2deg(angles_h))\n",
    "        print(minute, np.rad2deg(angles_m))\n",
    "\n",
    "        \n",
    "        plt.setp(axins.get_yticklabels(), visible=False)\n",
    "        plt.setp(axins.get_xticklabels(), visible=False)\n",
    "        axins.spines['polar'].set_visible(False)\n",
    "        axins.set_ylim(0,1)\n",
    "        axins.set_theta_zero_location('N')\n",
    "        axins.set_theta_direction(-1)\n",
    "        axins.set_facecolor(\"white\")\n",
    "        axins.grid(False)\n",
    "        \n",
    "        axins.plot([angles_h,angles_h], [0,0.6], color=\"black\", linewidth=1.5)\n",
    "        axins.plot([angles_m,angles_m], [0,0.95], color=\"black\", linewidth=1.5)\n",
    "        axins.plot(circle_theta, circle_radius, color=\"darkgrey\", linewidth=1)\n",
    "\n",
    "\n",
    "        \n",
    "        #\n",
    "        #########################################             \n",
    "\n",
    "        \n",
    "        plt.tight_layout()\n",
    "        \n",
    "        plt.savefig( dataset_png_file_name)\n",
    "        plt.close()\n",
    "    else:\n",
    "        print(\"We already have this one!\")\n",
    "    \n",
    "\n",
    "#\n",
    "##################################################"
   ]
  },
  {
   "cell_type": "code",
   "execution_count": null,
   "id": "fa2ad4f9-e8ee-47b4-a4da-8f16f1609e49",
   "metadata": {},
   "outputs": [],
   "source": [
    "##################################################\n",
    "#\n",
    "# Convert PNGs into an Animated GIF\n",
    "#\n",
    "\n",
    "\n",
    "big_string = \" \".join(file_names_to_use_meso3)\n",
    "\n",
    "os.system(\"convert -delay 15 \" + \n",
    "          big_string + \n",
    "          \" \" + \n",
    "          gif_file_name3)\n",
    "\n",
    "print(\"completed \"+ gif_file_name3)\n",
    "\n",
    "\n",
    "#\n",
    "##################################################"
   ]
  },
  {
   "cell_type": "code",
   "execution_count": null,
   "id": "5883c862-be13-4de1-87a7-9303e3ad99aa",
   "metadata": {},
   "outputs": [],
   "source": []
  },
  {
   "cell_type": "code",
   "execution_count": null,
   "id": "a95a346d-db1b-4156-895f-7f3e1319a943",
   "metadata": {},
   "outputs": [],
   "source": [
    "##################################################\n",
    "#\n",
    "# Convert PNGs into an Animated GIF\n",
    "#\n",
    "\n",
    "file_names_to_use_meso12 = file_names_to_use_meso3 + file_names_to_use_meso1 + file_names_to_use_meso2\n",
    "\n",
    "big_string = \" \".join(file_names_to_use_meso12)\n",
    "\n",
    "os.system(\"convert -delay 10 \" + \n",
    "          big_string + \n",
    "          \" \" + \n",
    "          gif_file_name12)\n",
    "\n",
    "print(\"completed \"+gif_file_name12)\n",
    "\n",
    "#\n",
    "##################################################"
   ]
  },
  {
   "cell_type": "code",
   "execution_count": null,
   "id": "90b4b43e-15ce-4acf-bc3a-9e133da36996",
   "metadata": {},
   "outputs": [],
   "source": []
  },
  {
   "cell_type": "code",
   "execution_count": null,
   "id": "13dfbf26",
   "metadata": {},
   "outputs": [],
   "source": []
  },
  {
   "cell_type": "code",
   "execution_count": null,
   "id": "3be7e015",
   "metadata": {},
   "outputs": [],
   "source": []
  },
  {
   "cell_type": "code",
   "execution_count": null,
   "id": "8ea01c71",
   "metadata": {},
   "outputs": [],
   "source": []
  },
  {
   "cell_type": "code",
   "execution_count": null,
   "id": "85f6fbe2",
   "metadata": {},
   "outputs": [],
   "source": []
  },
  {
   "cell_type": "code",
   "execution_count": null,
   "id": "9fb413b3",
   "metadata": {},
   "outputs": [],
   "source": []
  }
 ],
 "metadata": {
  "kernelspec": {
   "display_name": "Python 3 (ipykernel)",
   "language": "python",
   "name": "python3"
  },
  "language_info": {
   "codemirror_mode": {
    "name": "ipython",
    "version": 3
   },
   "file_extension": ".py",
   "mimetype": "text/x-python",
   "name": "python",
   "nbconvert_exporter": "python",
   "pygments_lexer": "ipython3",
   "version": "3.9.12"
  }
 },
 "nbformat": 4,
 "nbformat_minor": 5
}
