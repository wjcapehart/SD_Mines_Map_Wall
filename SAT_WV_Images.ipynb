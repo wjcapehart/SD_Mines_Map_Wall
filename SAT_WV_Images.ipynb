{
 "cells": [
  {
   "cell_type": "markdown",
   "id": "cb2ffe77-546e-4824-bfea-b609e99c93f4",
   "metadata": {},
   "source": [
    "# Water Vapour"
   ]
  },
  {
   "cell_type": "code",
   "execution_count": 1,
   "id": "ef0fbe00-eb3c-4d10-99b4-32bb52d5bbf9",
   "metadata": {},
   "outputs": [],
   "source": [
    "from datetime import datetime\n",
    "from siphon.catalog import TDSCatalog\n",
    "from datetime import datetime\n",
    "import metpy\n",
    "import cartopy.crs as ccrs\n",
    "import cartopy.feature as cfeature\n",
    "import matplotlib.pyplot as plt\n",
    "from metpy.plots import colortables\n",
    "from metpy.plots import add_timestamp\n",
    "import numpy             as np\n",
    "import os                as os\n",
    "import pandas             as pd\n"
   ]
  },
  {
   "cell_type": "code",
   "execution_count": 2,
   "id": "6a15c211-db46-4df8-8523-756dce4eebf1",
   "metadata": {},
   "outputs": [
    {
     "name": "stdout",
     "output_type": "stream",
     "text": [
      "./sat_wv_temp_files/Sat_WV_Loop_Image_2022-01-30_0006.png\n",
      "./sat_wv_temp_files/Sat_WV_Loop_Image_2022-01-30_0011.png\n",
      "./sat_wv_temp_files/Sat_WV_Loop_Image_2022-01-30_0016.png\n",
      "./sat_wv_temp_files/Sat_WV_Loop_Image_2022-01-30_0021.png\n",
      "./sat_wv_temp_files/Sat_WV_Loop_Image_2022-01-30_0026.png\n",
      "./sat_wv_temp_files/Sat_WV_Loop_Image_2022-01-30_0031.png\n",
      "./sat_wv_temp_files/Sat_WV_Loop_Image_2022-01-30_0036.png\n",
      "./sat_wv_temp_files/Sat_WV_Loop_Image_2022-01-30_0041.png\n",
      "./sat_wv_temp_files/Sat_WV_Loop_Image_2022-01-30_0046.png\n",
      "./sat_wv_temp_files/Sat_WV_Loop_Image_2022-01-30_0051.png\n",
      "./sat_wv_temp_files/Sat_WV_Loop_Image_2022-01-30_0056.png\n",
      "./sat_wv_temp_files/Sat_WV_Loop_Image_2022-01-30_0101.png\n",
      "./sat_wv_temp_files/Sat_WV_Loop_Image_2022-01-30_0106.png\n",
      "./sat_wv_temp_files/Sat_WV_Loop_Image_2022-01-30_0111.png\n",
      "./sat_wv_temp_files/Sat_WV_Loop_Image_2022-01-30_0116.png\n",
      "./sat_wv_temp_files/Sat_WV_Loop_Image_2022-01-30_0121.png\n",
      "./sat_wv_temp_files/Sat_WV_Loop_Image_2022-01-30_0126.png\n",
      "./sat_wv_temp_https://thredds.ucar.edu/thredds/catalog/satellite/goes/east/products/CloudAndMoistureImagery/CONUS/Channel08/current/catalog.xmlfiles/Sat_WV_Loop_Image_2022-01-30_0131.png\n",
      "./sat_wv_temp_files/Sat_WV_Loop_Image_2022-01-30_0136.png\n",
      "./sat_wv_temp_files/Sat_WV_Loop_Image_2022-01-30_0141.png\n",
      "./sat_wv_temp_files/Sat_WV_Loop_Image_2022-01-30_0146.png\n",
      "./sat_wv_temp_files/Sat_WV_Loop_Image_2022-01-30_0151.png\n",
      "./sat_wv_temp_files/Sat_WV_Loop_Image_2022-01-30_0156.png\n",
      "./sat_wv_temp_files/Sat_WV_Loop_Image_2022-01-30_0201.png\n",
      "./sat_wv_temp_files/Sat_WV_Loop_Image_2022-01-30_0206.png\n",
      "./sat_wv_temp_files/Sat_WV_Loop_Image_2022-01-30_0211.png\n",
      "./sat_wv_temp_files/Sat_WV_Loop_Image_2022-01-30_0216.png\n",
      "./sat_wv_temp_files/Sat_WV_Loop_Image_2022-01-30_0221.png\n",
      "./sat_wv_temp_files/Sat_WV_Loop_Image_2022-01-30_0226.png\n",
      "\n"
     ]
    }
   ],
   "source": [
    "# %load solutions/data_url.py\n",
    "total_frames = 45\n",
    "os.system(\"rm -v ./sat_wv_temp_files/*\")\n",
    "\n",
    "\n",
    "# Cell content replaced by load magic replacement.\n",
    "\n",
    "# Create variables for URL generation\n",
    "image_date = datetime.utcnow().date()\n",
    "region = 'CONUS'\n",
    "channel = 8\n",
    "\n",
    "# We want to match something like:\n",
    "# https://thredds-test.unidata.ucar.edu/thredds/catalog/satellite/goes16/GOES16/Mesoscale-1/Channel08/20181113/catalog.html\n",
    "\n",
    "# Construct the data_url string\n",
    "data_url = ('https://thredds.ucar.edu/thredds/catalog/satellite/goes/east/products/'\n",
    "            f'CloudAndMoistureImagery/{region}/Channel{channel:02d}/current/catalog.xml')\n",
    "\n",
    "# Print out your URL and verify it works!\n",
    "print(data_url)\n"
   ]
  },
  {
   "cell_type": "code",
   "execution_count": 3,
   "id": "dedb3b0e-e6af-4725-ba55-a3af47d2b360",
   "metadata": {},
   "outputs": [],
   "source": [
    "cat = TDSCatalog(data_url)"
   ]
  },
  {
   "cell_type": "code",
   "execution_count": 4,
   "id": "3166a859-937a-4364-939b-b1cf85886904",
   "metadata": {},
   "outputs": [
    {
     "data": {
      "text/plain": [
       "[OR_ABI-L2-CMIPC-M6C08_G16_s20220300231170_e20220300231170_c20220300231170.nc,\n",
       " OR_ABI-L2-CMIPC-M6C08_G16_s20220300226170_e20220300226170_c20220300226170.nc,\n",
       " OR_ABI-L2-CMIPC-M6C08_G16_s20220300221170_e20220300221170_c20220300221170.nc,\n",
       " OR_ABI-L2-CMIPC-M6C08_G16_s20220300216170_e20220300216170_c20220300216170.nc,\n",
       " OR_ABI-L2-CMIPC-M6C08_G16_s20220300211170_e20220300211170_c20220300211170.nc,\n",
       " OR_ABI-L2-CMIPC-M6C08_G16_s20220300206170_e20220300206170_c20220300206170.nc,\n",
       " OR_ABI-L2-CMIPC-M6C08_G16_s20220300201170_e20220300201170_c20220300201170.nc,\n",
       " OR_ABI-L2-CMIPC-M6C08_G16_s20220300156170_e20220300156170_c20220300156170.nc,\n",
       " OR_ABI-L2-CMIPC-M6C08_G16_s20220300151170_e20220300151170_c20220300151170.nc,\n",
       " OR_ABI-L2-CMIPC-M6C08_G16_s20220300146170_e20220300146170_c20220300146170.nc,\n",
       " OR_ABI-L2-CMIPC-M6C08_G16_s20220300141170_e20220300141170_c20220300141170.nc,\n",
       " OR_ABI-L2-CMIPC-M6C08_G16_s20220300136170_e20220300136170_c20220300136170.nc,\n",
       " OR_ABI-L2-CMIPC-M6C08_G16_s20220300131170_e20220300131170_c20220300131170.nc,\n",
       " OR_ABI-L2-CMIPC-M6C08_G16_s20220300126170_e20220300126170_c20220300126170.nc,\n",
       " OR_ABI-L2-CMIPC-M6C08_G16_s20220300121170_e20220300121170_c20220300121170.nc,\n",
       " OR_ABI-L2-CMIPC-M6C08_G16_s20220300116170_e20220300116170_c20220300116170.nc,\n",
       " OR_ABI-L2-CMIPC-M6C08_G16_s20220300111170_e20220300111170_c20220300111170.nc,\n",
       " OR_ABI-L2-CMIPC-M6C08_G16_s20220300106170_e20220300106170_c20220300106170.nc,\n",
       " OR_ABI-L2-CMIPC-M6C08_G16_s20220300101170_e20220300101170_c20220300101170.nc,\n",
       " OR_ABI-L2-CMIPC-M6C08_G16_s20220300056170_e20220300056170_c20220300056170.nc,\n",
       " OR_ABI-L2-CMIPC-M6C08_G16_s20220300051170_e20220300051170_c20220300051170.nc,\n",
       " OR_ABI-L2-CMIPC-M6C08_G16_s20220300046170_e20220300046170_c20220300046170.nc,\n",
       " OR_ABI-L2-CMIPC-M6C08_G16_s20220300041170_e20220300041170_c20220300041170.nc,\n",
       " OR_ABI-L2-CMIPC-M6C08_G16_s20220300036170_e20220300036170_c20220300036170.nc,\n",
       " OR_ABI-L2-CMIPC-M6C08_G16_s20220300031170_e20220300031170_c20220300031170.nc,\n",
       " OR_ABI-L2-CMIPC-M6C08_G16_s20220300026170_e20220300026170_c20220300026170.nc,\n",
       " OR_ABI-L2-CMIPC-M6C08_G16_s20220300021170_e20220300021170_c20220300021170.nc,\n",
       " OR_ABI-L2-CMIPC-M6C08_G16_s20220300016170_e20220300016170_c20220300016170.nc,\n",
       " OR_ABI-L2-CMIPC-M6C08_G16_s20220300011170_e20220300011170_c20220300011170.nc]"
      ]
     },
     "execution_count": 4,
     "metadata": {},
     "output_type": "execute_result"
    }
   ],
   "source": [
    "cat.datasets[1:total_frames]"
   ]
  },
  {
   "cell_type": "code",
   "execution_count": 5,
   "id": "4e98b052-c0e5-4d24-a7b8-601ff57c5482",
   "metadata": {},
   "outputs": [
    {
     "data": {
      "text/plain": [
       "29"
      ]
     },
     "execution_count": 5,
     "metadata": {},
     "output_type": "execute_result"
    }
   ],
   "source": [
    "len(cat.datasets[1:total_frames])"
   ]
  },
  {
   "cell_type": "code",
   "execution_count": 6,
   "id": "ad4f2b18-ec6d-4cd5-8e24-c79eaff0e20a",
   "metadata": {},
   "outputs": [
    {
     "name": "stdout",
     "output_type": "stream",
     "text": [
      "2022-01-30 02:31:17 UTC 2022-01-29 19:31:17 MST\n",
      "2022-01-30 02:26:17 UTC 2022-01-29 19:26:17 MST\n",
      "2022-01-30 02:21:17 UTC 2022-01-29 19:21:17 MST\n",
      "2022-01-30 02:16:17 UTC 2022-01-29 19:16:17 MST\n",
      "2022-01-30 02:11:17 UTC 2022-01-29 19:11:17 MST\n",
      "2022-01-30 02:06:17 UTC 2022-01-29 19:06:17 MST\n",
      "2022-01-30 02:01:17 UTC 2022-01-29 19:01:17 MST\n",
      "2022-01-30 01:56:17 UTC 2022-01-29 18:56:17 MST\n",
      "2022-01-30 01:51:17 UTC 2022-01-29 18:51:17 MST\n",
      "2022-01-30 01:46:17 UTC 2022-01-29 18:46:17 MST\n",
      "2022-01-30 01:41:17 UTC 2022-01-29 18:41:17 MST\n",
      "2022-01-30 01:36:17 UTC 2022-01-29 18:36:17 MST\n",
      "2022-01-30 01:31:17 UTC 2022-01-29 18:31:17 MST\n",
      "2022-01-30 01:26:17 UTC 2022-01-29 18:26:17 MST\n",
      "2022-01-30 01:21:17 UTC 2022-01-29 18:21:17 MST\n",
      "2022-01-30 01:16:17 UTC 2022-01-29 18:16:17 MST\n",
      "2022-01-30 01:11:17 UTC 2022-01-29 18:11:17 MST\n",
      "2022-01-30 01:06:17 UTC 2022-01-29 18:06:17 MST\n",
      "2022-01-30 01:01:17 UTC 2022-01-29 18:01:17 MST\n",
      "2022-01-30 00:56:17 UTC 2022-01-29 17:56:17 MST\n",
      "2022-01-30 00:51:17 UTC 2022-01-29 17:51:17 MST\n",
      "2022-01-30 00:46:17 UTC 2022-01-29 17:46:17 MST\n",
      "2022-01-30 00:41:17 UTC 2022-01-29 17:41:17 MST\n",
      "2022-01-30 00:36:17 UTC 2022-01-29 17:36:17 MST\n",
      "2022-01-30 00:31:17 UTC 2022-01-29 17:31:17 MST\n",
      "2022-01-30 00:26:17 UTC 2022-01-29 17:26:17 MST\n",
      "2022-01-30 00:21:17 UTC 2022-01-29 17:21:17 MST\n",
      "2022-01-30 00:16:17 UTC 2022-01-29 17:16:17 MST\n",
      "2022-01-30 00:11:17 UTC 2022-01-29 17:11:17 MST\n"
     ]
    }
   ],
   "source": [
    "for i in range(1,len(cat.datasets[1:total_frames])+1) : \n",
    "\n",
    "    dataset = cat.datasets[i]\n",
    "    ds = dataset.remote_access(use_xarray=True)\n",
    "    dat = ds.metpy.parse_cf('Sectorized_CMI')\n",
    "    proj = dat.metpy.cartopy_crs\n",
    "    x = dat['x']\n",
    "    y = dat['y']\n",
    "\n",
    "\n",
    "    tz='America/Denver'\n",
    "    time_utc = datetime.strptime(ds.start_date_time, '%Y%j%H%M%S')\n",
    "    valid_time = pd.to_datetime(time_utc).tz_localize(tz=\"UTC\").strftime(\"%Y-%m-%d %H:%M:%S %Z\")\n",
    "    local_time = pd.to_datetime(time_utc).tz_localize(tz=\"UTC\").tz_convert(tz=tz).strftime(\"%Y-%m-%d %H:%M:%S %Z\")\n",
    "\n",
    "    file_time = pd.to_datetime(time_utc).tz_localize(tz=\"UTC\").strftime(\"%Y-%m-%d_%H%M\")\n",
    "\n",
    "\n",
    "    print(valid_time,local_time)\n",
    "\n",
    "\n",
    "\n",
    "    fig = plt.figure(figsize=(13, 8),\n",
    "                           facecolor = 'white')\n",
    "\n",
    "    plt.suptitle(\"GOES 16 Band 8 [6.2 µm Upper-level Water Vapor]\",\n",
    "                    fontsize=20)\n",
    "    ax = fig.add_subplot(1, 1, 1, projection=proj)\n",
    "    ax.set_title(valid_time + \"  (\" + local_time+\")\",\n",
    "                    fontsize=15)\n",
    "    ax.add_feature(cfeature.COASTLINE.with_scale('50m'), linewidth=2)\n",
    "    ax.add_feature(cfeature.STATES.with_scale('50m'), linestyle=':', edgecolor='black')\n",
    "    ax.add_feature(cfeature.BORDERS.with_scale('50m'), linewidth=2, edgecolor='black')\n",
    "\n",
    "    im = ax.imshow(dat, extent=(x.min(), x.max(), y.min(), y.max()), origin='upper')\n",
    "\n",
    "    wv_norm, wv_cmap = colortables.get_with_range('WVCIMSS_r', 195, 265)\n",
    "    im.set_cmap(wv_cmap)\n",
    "    im.set_norm(wv_norm)\n",
    "    plt.tight_layout()\n",
    "    plt.savefig(\"./sat_wv_temp_files/Sat_WV_Loop_Image_\"+file_time+\".png\")\n",
    "    plt.close()\n",
    "    \n",
    "\n"
   ]
  },
  {
   "cell_type": "code",
   "execution_count": 7,
   "id": "a95a346d-db1b-4156-895f-7f3e1319a943",
   "metadata": {},
   "outputs": [
    {
     "data": {
      "text/plain": [
       "0"
      ]
     },
     "execution_count": 7,
     "metadata": {},
     "output_type": "execute_result"
    }
   ],
   "source": [
    "##################################################\n",
    "#\n",
    "# Convert PNGs into an Animated GIF\n",
    "#\n",
    "\n",
    "os.system(\"convert -delay 15 \" + \n",
    "          \"./sat_wv_temp_files/Sat_WV_Loop_Image_*.png\"  + \n",
    "          \" \" + \n",
    "          \"./graphics_files/RealTime_SAT_WV_Loop.gif\")\n",
    "\n",
    "\n",
    "#\n",
    "##################################################"
   ]
  },
  {
   "cell_type": "code",
   "execution_count": null,
   "id": "cee3424d-0866-4bda-90b6-aaf3d64a21af",
   "metadata": {},
   "outputs": [],
   "source": []
  }
 ],
 "metadata": {
  "kernelspec": {
   "display_name": "Python 3 (ipykernel)",
   "language": "python",
   "name": "python3"
  },
  "language_info": {
   "codemirror_mode": {
    "name": "ipython",
    "version": 3
   },
   "file_extension": ".py",
   "mimetype": "text/x-python",
   "name": "python",
   "nbconvert_exporter": "python",
   "pygments_lexer": "ipython3",
   "version": "3.9.9"
  }
 },
 "nbformat": 4,
 "nbformat_minor": 5
}
