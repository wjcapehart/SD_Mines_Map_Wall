{
 "cells": [
  {
   "cell_type": "markdown",
   "id": "cb2ffe77-546e-4824-bfea-b609e99c93f4",
   "metadata": {},
   "source": [
    "# Water Vapour"
   ]
  },
  {
   "cell_type": "code",
   "execution_count": 30,
   "id": "ef0fbe00-eb3c-4d10-99b4-32bb52d5bbf9",
   "metadata": {},
   "outputs": [],
   "source": [
    "from datetime import datetime\n",
    "from siphon.catalog import TDSCatalog\n",
    "from datetime import datetime\n",
    "import metpy\n",
    "import cartopy.crs as ccrs\n",
    "import cartopy.feature as cfeature\n",
    "import matplotlib.pyplot as plt\n",
    "from metpy.plots import colortables\n",
    "from metpy.plots import add_timestamp\n",
    "import numpy             as np\n",
    "import os                as os\n",
    "import pandas             as pd\n"
   ]
  },
  {
   "cell_type": "code",
   "execution_count": 31,
   "id": "6a15c211-db46-4df8-8523-756dce4eebf1",
   "metadata": {},
   "outputs": [
    {
     "name": "stdout",
     "output_type": "stream",
     "text": [
      "https://thredds.ucar.edu/thredds/catalog/satellite/goes/east/products/CloudAndMoistureImagery/CONUS/Channel08/current/catalog.xml\n"
     ]
    }
   ],
   "source": [
    "# %load solutions/data_url.py\n",
    "total_frames = 45*2\n",
    "\n",
    "processing_directory = \"./sat_wv_temp_files/\"\n",
    "\n",
    "\n",
    "\n",
    "# Cell content replaced by load magic replacement.\n",
    "\n",
    "# Create variables for URL generation\n",
    "image_date = datetime.utcnow().date()\n",
    "region = 'CONUS'\n",
    "channel = 8\n",
    "\n",
    "# We want to match something like:\n",
    "# https://thredds-test.unidata.ucar.edu/thredds/catalog/satellite/goes16/GOES16/Mesoscale-1/Channel08/20181113/catalog.html\n",
    "\n",
    "# Construct the data_url string\n",
    "data_url = ('https://thredds.ucar.edu/thredds/catalog/satellite/goes/east/products/'\n",
    "            f'CloudAndMoistureImagery/{region}/Channel{channel:02d}/current/catalog.xml')\n",
    "\n",
    "# Print out your URL and verify it works!\n",
    "print(data_url)\n"
   ]
  },
  {
   "cell_type": "code",
   "execution_count": 40,
   "id": "dedb3b0e-e6af-4725-ba55-a3af47d2b360",
   "metadata": {},
   "outputs": [],
   "source": [
    "cat = TDSCatalog(data_url)"
   ]
  },
  {
   "cell_type": "code",
   "execution_count": 45,
   "id": "3166a859-937a-4364-939b-b1cf85886904",
   "metadata": {},
   "outputs": [
    {
     "ename": "AttributeError",
     "evalue": "'list' object attribute 'append' is read-only",
     "output_type": "error",
     "traceback": [
      "\u001b[0;31m---------------------------------------------------------------------------\u001b[0m",
      "\u001b[0;31mAttributeError\u001b[0m                            Traceback (most recent call last)",
      "Input \u001b[0;32mIn [45]\u001b[0m, in \u001b[0;36m<module>\u001b[0;34m\u001b[0m\n\u001b[1;32m      5\u001b[0m \u001b[38;5;28;01mfor\u001b[39;00m i \u001b[38;5;129;01min\u001b[39;00m \u001b[38;5;28mrange\u001b[39m(\u001b[38;5;241m1\u001b[39m,\u001b[38;5;28mlen\u001b[39m(cat\u001b[38;5;241m.\u001b[39mdatasets[\u001b[38;5;241m1\u001b[39m:total_frames])\u001b[38;5;241m+\u001b[39m\u001b[38;5;241m1\u001b[39m,\u001b[38;5;241m1\u001b[39m) : \n\u001b[1;32m      6\u001b[0m     datasets \u001b[38;5;241m=\u001b[39m cat\u001b[38;5;241m.\u001b[39mdatasets[i]\n\u001b[0;32m----> 7\u001b[0m     file_names_to_retain\u001b[38;5;241m.\u001b[39mappend \u001b[38;5;241m=\u001b[39m dataset\u001b[38;5;241m.\u001b[39mname\u001b[38;5;241m.\u001b[39mreplace(\u001b[38;5;124m\"\u001b[39m\u001b[38;5;124m.nc\u001b[39m\u001b[38;5;124m\"\u001b[39m,\u001b[38;5;124m\"\u001b[39m\u001b[38;5;124m.png\u001b[39m\u001b[38;5;124m\"\u001b[39m)\n\u001b[1;32m      9\u001b[0m \u001b[38;5;28mprint\u001b[39m(file_names_to_retain)\n",
      "\u001b[0;31mAttributeError\u001b[0m: 'list' object attribute 'append' is read-only"
     ]
    }
   ],
   "source": [
    "##################################################\n",
    "#\n",
    "# Create File Inventories\n",
    "#\n",
    "\n",
    "file_names_to_retain = list()\n",
    "file_names_to_use    = list()\n",
    "\n",
    "\n",
    "for i in range(1,len(cat.datasets[0:total_frames])+1,1) : \n",
    "    filename = png_processing_directory + cat.datasets[i].name.replace(\".nc\",\".png\")\n",
    "    file_names_to_retain.append(filename)\n",
    "    file_names_to_use.append(filename)\n",
    "\n",
    "        \n",
    "files_on_hand = [png_processing_directory + s for s in os.listdir(png_processing_directory)]\n",
    "\n",
    "file_names_to_retain.sort()\n",
    "file_names_to_use.sort()\n",
    "\n",
    "#\n",
    "##################################################    "
   ]
  },
  {
   "cell_type": "code",
   "execution_count": null,
   "id": "4e98b052-c0e5-4d24-a7b8-601ff57c5482",
   "metadata": {},
   "outputs": [],
   "source": []
  },
  {
   "cell_type": "code",
   "execution_count": 34,
   "id": "ad4f2b18-ec6d-4cd5-8e24-c79eaff0e20a",
   "metadata": {},
   "outputs": [
    {
     "ename": "SyntaxError",
     "evalue": "invalid syntax (877643893.py, line 6)",
     "output_type": "error",
     "traceback": [
      "\u001b[0;36m  Input \u001b[0;32mIn [34]\u001b[0;36m\u001b[0m\n\u001b[0;31m    ds = dataset.remote_access(use_xarray=True)\u001b[0m\n\u001b[0m    ^\u001b[0m\n\u001b[0;31mSyntaxError\u001b[0m\u001b[0;31m:\u001b[0m invalid syntax\n"
     ]
    }
   ],
   "source": [
    "for i in range(1,len(cat.datasets[1:total_frames])+1,1) : \n",
    "\n",
    "    dataset = cat.datasets[i]\n",
    "    \n",
    "    print(dataset.name.replace(\".nc\",\".png\")\n",
    "    ds = dataset.remote_access(use_xarray=True)\n",
    "    dat = ds.metpy.parse_cf('Sectorized_CMI')\n",
    "    proj = dat.metpy.cartopy_crs\n",
    "    x = dat['x']\n",
    "    y = dat['y']\n",
    "\n",
    "\n",
    "    tz='America/Denver'\n",
    "    time_utc = datetime.strptime(ds.start_date_time, '%Y%j%H%M%S')\n",
    "    valid_time = pd.to_datetime(time_utc).tz_localize(tz=\"UTC\").strftime(\"%Y-%m-%d %H:%M:%S %Z\")\n",
    "    local_time = pd.to_datetime(time_utc).tz_localize(tz=\"UTC\").tz_convert(tz=tz).strftime(\"%Y-%m-%d %H:%M:%S %Z\")\n",
    "\n",
    "    file_time = pd.to_datetime(time_utc).tz_localize(tz=\"UTC\").strftime(\"%Y-%m-%d_%H%M\")\n",
    "\n",
    "\n",
    "    print(valid_time,local_time)\n",
    "\n",
    "\n",
    "\n",
    "    fig = plt.figure(figsize=(13, 8),\n",
    "                           facecolor = 'white')\n",
    "\n",
    "    plt.suptitle(\"GOES 16 Band 8 [6.2 µm Upper-level Water Vapor]\",\n",
    "                    fontsize=20, color=\"black\")\n",
    "    ax = fig.add_subplot(1, 1, 1, projection=proj)\n",
    "    ax.set_title(valid_time + \"  (\" + local_time+\")\",\n",
    "                    fontsize=15, color=\"black\")\n",
    "    ax.add_feature(cfeature.COASTLINE.with_scale('50m'), linewidth=2)\n",
    "    ax.add_feature(cfeature.STATES.with_scale('50m'), linestyle=':', edgecolor='black')\n",
    "    ax.add_feature(cfeature.BORDERS.with_scale('50m'), linewidth=2, edgecolor='black')\n",
    "\n",
    "    im = ax.imshow(dat, extent=(x.min(), x.max(), y.min(), y.max()), origin='upper')\n",
    "\n",
    "    wv_norm, wv_cmap = colortables.get_with_range('WVCIMSS_r', 195, 265)\n",
    "    im.set_cmap(wv_cmap)\n",
    "    im.set_norm(wv_norm)\n",
    "    plt.tight_layout()\n",
    "    plt.savefig(\"./sat_wv_temp_files/Sat_WV_Loop_Image_\"+file_time+\".png\")\n",
    "    plt.close()\n",
    "    \n",
    "\n"
   ]
  },
  {
   "cell_type": "code",
   "execution_count": 35,
   "id": "a95a346d-db1b-4156-895f-7f3e1319a943",
   "metadata": {},
   "outputs": [
    {
     "data": {
      "text/plain": [
       "0"
      ]
     },
     "execution_count": 35,
     "metadata": {},
     "output_type": "execute_result"
    }
   ],
   "source": [
    "##################################################\n",
    "#\n",
    "# Convert PNGs into an Animated GIF\n",
    "#\n",
    "\n",
    "os.system(\"convert -delay 15 \" + \n",
    "          \"./sat_wv_temp_files/Sat_WV_Loop_Image_*.png\"  + \n",
    "          \" \" + \n",
    "          \"./graphics_files/RealTime_SAT_WV_Loop.gif\")\n",
    "\n",
    "\n",
    "#\n",
    "##################################################"
   ]
  },
  {
   "cell_type": "code",
   "execution_count": null,
   "id": "cee3424d-0866-4bda-90b6-aaf3d64a21af",
   "metadata": {},
   "outputs": [
    {
     "name": "stdout",
     "output_type": "stream",
     "text": [
      "OR_ABI-L2-CMIPC-M6C08_G16_s20220300101170_e20220300101170_c20220300101170.png\n"
     ]
    }
   ],
   "source": []
  }
 ],
 "metadata": {
  "kernelspec": {
   "display_name": "Python 3 (ipykernel)",
   "language": "python",
   "name": "python3"
  },
  "language_info": {
   "codemirror_mode": {
    "name": "ipython",
    "version": 3
   },
   "file_extension": ".py",
   "mimetype": "text/x-python",
   "name": "python",
   "nbconvert_exporter": "python",
   "pygments_lexer": "ipython3",
   "version": "3.9.9"
  }
 },
 "nbformat": 4,
 "nbformat_minor": 5
}
