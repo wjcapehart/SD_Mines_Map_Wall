{
 "cells": [
  {
   "cell_type": "markdown",
   "id": "cb2ffe77-546e-4824-bfea-b609e99c93f4",
   "metadata": {},
   "source": [
    "# Multiband Images"
   ]
  },
  {
   "cell_type": "code",
   "execution_count": 1,
   "id": "ef0fbe00-eb3c-4d10-99b4-32bb52d5bbf9",
   "metadata": {},
   "outputs": [],
   "source": [
    "##################################################\n",
    "#\n",
    "# Libraries\n",
    "#\n",
    "\n",
    "\n",
    "\n",
    "\n",
    "\n",
    "from metpy.plots    import colortables\n",
    "from metpy.plots    import add_timestamp\n",
    "from datetime       import datetime\n",
    "from siphon.catalog import TDSCatalog\n",
    "from datetime       import datetime\n",
    "\n",
    "\n",
    "import numpy             as np\n",
    "import os                as os\n",
    "import xarray            as xr\n",
    "import pandas            as pd\n",
    "import pathlib           as pathlib\n",
    "\n",
    "import metpy\n",
    "import cartopy.crs       as ccrs\n",
    "import cartopy.feature   as cfeature\n",
    "import matplotlib.pyplot as plt\n",
    "import matplotlib.patches as patches\n",
    "\n",
    "\n",
    "\n",
    "\n",
    "\n",
    "#\n",
    "##################################################"
   ]
  },
  {
   "cell_type": "code",
   "execution_count": 2,
   "id": "fe6abd80-b605-4cd7-99c2-9f21925b0c13",
   "metadata": {},
   "outputs": [],
   "source": [
    "####################################################\n",
    "####################################################\n",
    "####################################################\n",
    "#\n",
    "# Mines Colors and Fonts\n",
    "#\n",
    "\n",
    "Mines_Blue = \"#002554\"\n",
    "\n",
    "\n",
    "plt.rcParams.update({'text.color'      : Mines_Blue,\n",
    "                     'axes.labelcolor' : Mines_Blue,\n",
    "\t\t\t\t\t 'axes.edgecolor'  : Mines_Blue,\n",
    "\t\t\t\t\t 'xtick.color'     : Mines_Blue,\n",
    "\t\t\t\t\t 'ytick.color'     : Mines_Blue})\n",
    "\n",
    "\n",
    "#\n",
    "####################################################\n",
    "####################################################\n",
    "####################################################"
   ]
  },
  {
   "cell_type": "markdown",
   "id": "993cb76d-6f32-4d3d-983c-7b79525b5f59",
   "metadata": {},
   "source": [
    "## Get Time Step here.\n",
    "\n",
    "https://thredds.ucar.edu/thredds/catalog/satellite/goes/east/products/CloudAndMoistureImagery/CONUS/catalog.html\n",
    "\n"
   ]
  },
  {
   "cell_type": "code",
   "execution_count": 3,
   "id": "ea02aa2a-1aa6-4d76-8d82-ffe899c6be4d",
   "metadata": {},
   "outputs": [],
   "source": [
    "\n",
    "\n",
    "YYYYMMDD         = \"20230518\"\n",
    "\n",
    "YYYDOYhhmmssf    = \"20231382356170\"\n",
    "\n",
    "file_time_string = \"s\" + YYYDOYhhmmssf + \"_e\" + YYYDOYhhmmssf + \"_c\" + YYYDOYhhmmssf\n"
   ]
  },
  {
   "cell_type": "code",
   "execution_count": 4,
   "id": "fef2bfda-f924-44db-8736-0692e5af9680",
   "metadata": {},
   "outputs": [
    {
     "name": "stdout",
     "output_type": "stream",
     "text": [
      "/Users/wjc/GitHub/SD_Mines_Map_Wall/GOES_Imagery/\n",
      "0.2206 0.4204\n",
      "0.0 0.3333333333333333\n"
     ]
    }
   ],
   "source": [
    "##################################################\n",
    "#\n",
    "# Channel Labels\n",
    "#\n",
    "\n",
    "MAINDIR = os.getcwd() +\"/\"\n",
    "print(MAINDIR)\n",
    "\n",
    "alpha_factor = 0.05\n",
    "\n",
    "\n",
    "\n",
    "channel_lab = [' Channel Zero',                     #  0\n",
    "               ' [0.47 µm Blue-Visible]',           #  1\n",
    "               ' [0.64 µm Red-Visible]',            #  2\n",
    "               ' [0.86 µm Vegetation Near-IR]',     #  3\n",
    "               ' [1.37 µm Cirrus Near-IR]',         #  4\n",
    "               ' [1.6 µm Snow/Ice Near-IR]',        #  5\n",
    "               ' [2.2 µm Cloud Particle Near-IR]',  #  6\n",
    "               ' [3.9 µm Middle Infrared]',         #  7\n",
    "               ' [6.2 µm Upper-Level Water Vapor]', #  8\n",
    "               ' [6.9 µm Mid-Level Water Vapor]',   #  9\n",
    "               ' [7.3 µm Low-Level Water Vapor]',   # 10\n",
    "               ' [8.4 µm Cloud-Top Infrared]',      # 11\n",
    "               ' [9.6 µm Ozone Infrared]',          # 12\n",
    "               ' [10.3 µm Clean IR Window]',        # 13\n",
    "               ' [11.2 µm Middle IR Window]',       # 14\n",
    "               ' [12.3 µm Dirty IR Window]',        # 15\n",
    "               ' [13.3 µm CO₂ Infrared]']           # 16\n",
    "\n",
    "\n",
    "\n",
    "png_file_dir3  = \"./temp_files_sat_sodak/\"\n",
    "\n",
    "\n",
    "\n",
    "imin_rap_tir =  551 # i_rap-250\n",
    "imax_rap_tir = 1051 # i_rap+250\n",
    "jmin_rap_tir =    0 # j_rap-250+19\n",
    "jmax_rap_tir =  500 # j_rap+250-19\n",
    "\n",
    "imin_rap_vis = 1103*2 # np.argmin(np.abs(x_vis-x_min_t).values)\n",
    "imax_rap_vis = 2102*2 # np.argmin(np.abs(x_vis-x_max_t).values)\n",
    "jmin_rap_vis =    0*2 # np.argmin(np.abs(y_vis-y_min_t).values)\n",
    "jmax_rap_vis = 1000*2 # np.argmin(np.abs(y_vis-y_max_t).values)\n",
    "\n",
    "vis_ny =  6000\n",
    "vis_nx = 10000\n",
    "\n",
    "\n",
    "imin_rap_frac = imin_rap_vis / vis_nx\n",
    "imax_rap_frac = imax_rap_vis / vis_nx\n",
    "\n",
    "jmin_rap_frac = jmin_rap_vis / vis_ny\n",
    "jmax_rap_frac = jmax_rap_vis / vis_ny\n",
    "\n",
    "print(imin_rap_frac,imax_rap_frac)\n",
    "print(jmin_rap_frac,jmax_rap_frac)\n",
    "\n",
    "#\n",
    "##################################################"
   ]
  },
  {
   "cell_type": "markdown",
   "id": "21858154-532d-41e0-b7d1-ced0b3008d0d",
   "metadata": {},
   "source": [
    "# SODAK Subset form "
   ]
  },
  {
   "cell_type": "code",
   "execution_count": null,
   "id": "eda0c27e-9857-48c8-ac5a-d11199f832e3",
   "metadata": {},
   "outputs": [],
   "source": []
  },
  {
   "cell_type": "code",
   "execution_count": 5,
   "id": "188b4270-0fe1-46b0-be4c-88576bfb64c0",
   "metadata": {},
   "outputs": [],
   "source": [
    "\n",
    "\n",
    "\n",
    "\n",
    "##################################################"
   ]
  },
  {
   "cell_type": "code",
   "execution_count": null,
   "id": "ba375e42-0684-46b8-8b3b-96e55a7a4ef7",
   "metadata": {},
   "outputs": [],
   "source": []
  },
  {
   "cell_type": "code",
   "execution_count": 18,
   "id": "3f4761c6-a540-45eb-bd95-6b21e08dbe15",
   "metadata": {},
   "outputs": [
    {
     "name": "stdout",
     "output_type": "stream",
     "text": [
      "https://thredds.ucar.edu/thredds/dodsC/satellite/goes/east/products/CloudAndMoistureImagery/CONUS/Channel01/20230518/OR_ABI-L2-CMIPC-M6C01_G16_s20231382356170_e20231382356170_c20231382356170.nc\n",
      "2023-05-18 23:56:17 UTC 2023-05-18 17:56:17 MDT 2023-05-18_2356\n",
      "01 0.037460282 0.74539614\n",
      "01 0.0711110457777977 0.4336503744125366\n"
     ]
    },
    {
     "name": "stderr",
     "output_type": "stream",
     "text": [
      "/var/folders/0c/8xbkg06s6cz0yy2505h06nlm00017d/T/ipykernel_32610/3763670139.py:222: UserWarning: This figure includes Axes that are not compatible with tight_layout, so results might be incorrect.\n",
      "  plt.tight_layout()\n",
      "/Users/wjc/miniconda3/lib/python3.10/site-packages/shapely/constructive.py:181: RuntimeWarning: invalid value encountered in buffer\n",
      "  return lib.buffer(\n",
      "/Users/wjc/miniconda3/lib/python3.10/site-packages/shapely/set_operations.py:133: RuntimeWarning: invalid value encountered in intersection\n",
      "  return lib.intersection(a, b, **kwargs)\n",
      "/Users/wjc/miniconda3/lib/python3.10/site-packages/shapely/predicates.py:798: RuntimeWarning: invalid value encountered in intersects\n",
      "  return lib.intersects(a, b, **kwargs)\n"
     ]
    },
    {
     "name": "stdout",
     "output_type": "stream",
     "text": [
      "https://thredds.ucar.edu/thredds/dodsC/satellite/goes/east/products/CloudAndMoistureImagery/CONUS/Channel02/20230518/OR_ABI-L2-CMIPC-M6C02_G16_s20231382356170_e20231382356170_c20231382356170.nc\n",
      "2023-05-18 23:56:17 UTC 2023-05-18 17:56:17 MDT 2023-05-18_2356\n",
      "02 0.01174602 0.7295231\n",
      "02 0.03523806110024452 0.39460280537605286\n"
     ]
    },
    {
     "name": "stderr",
     "output_type": "stream",
     "text": [
      "/var/folders/0c/8xbkg06s6cz0yy2505h06nlm00017d/T/ipykernel_32610/3763670139.py:222: UserWarning: This figure includes Axes that are not compatible with tight_layout, so results might be incorrect.\n",
      "  plt.tight_layout()\n",
      "/Users/wjc/miniconda3/lib/python3.10/site-packages/shapely/constructive.py:181: RuntimeWarning: invalid value encountered in buffer\n",
      "  return lib.buffer(\n",
      "/Users/wjc/miniconda3/lib/python3.10/site-packages/shapely/set_operations.py:133: RuntimeWarning: invalid value encountered in intersection\n",
      "  return lib.intersection(a, b, **kwargs)\n",
      "/Users/wjc/miniconda3/lib/python3.10/site-packages/shapely/predicates.py:798: RuntimeWarning: invalid value encountered in intersects\n",
      "  return lib.intersects(a, b, **kwargs)\n"
     ]
    },
    {
     "name": "stdout",
     "output_type": "stream",
     "text": [
      "https://thredds.ucar.edu/thredds/dodsC/satellite/goes/east/products/CloudAndMoistureImagery/CONUS/Channel03/20230518/OR_ABI-L2-CMIPC-M6C03_G16_s20231382356170_e20231382356170_c20231382356170.nc\n",
      "2023-05-18 23:56:17 UTC 2023-05-18 17:56:17 MDT 2023-05-18_2356\n",
      "03 0.01142856 0.81269765\n",
      "03 0.07365072518587112 0.45460274815559387\n"
     ]
    },
    {
     "name": "stderr",
     "output_type": "stream",
     "text": [
      "/var/folders/0c/8xbkg06s6cz0yy2505h06nlm00017d/T/ipykernel_32610/3763670139.py:222: UserWarning: This figure includes Axes that are not compatible with tight_layout, so results might be incorrect.\n",
      "  plt.tight_layout()\n",
      "/Users/wjc/miniconda3/lib/python3.10/site-packages/shapely/constructive.py:181: RuntimeWarning: invalid value encountered in buffer\n",
      "  return lib.buffer(\n",
      "/Users/wjc/miniconda3/lib/python3.10/site-packages/shapely/set_operations.py:133: RuntimeWarning: invalid value encountered in intersection\n",
      "  return lib.intersection(a, b, **kwargs)\n",
      "/Users/wjc/miniconda3/lib/python3.10/site-packages/shapely/predicates.py:798: RuntimeWarning: invalid value encountered in intersects\n",
      "  return lib.intersects(a, b, **kwargs)\n"
     ]
    },
    {
     "name": "stdout",
     "output_type": "stream",
     "text": [
      "https://thredds.ucar.edu/thredds/dodsC/satellite/goes/east/products/CloudAndMoistureImagery/CONUS/Channel04/20230518/OR_ABI-L2-CMIPC-M6C04_G16_s20231382356170_e20231382356170_c20231382356170.nc\n",
      "2023-05-18 23:56:17 UTC 2023-05-18 17:56:17 MDT 2023-05-18_2356\n",
      "04 0.00063492 0.40190437\n",
      "04 0.0012698400532826781 0.2707933783531189\n"
     ]
    },
    {
     "name": "stderr",
     "output_type": "stream",
     "text": [
      "/var/folders/0c/8xbkg06s6cz0yy2505h06nlm00017d/T/ipykernel_32610/3763670139.py:222: UserWarning: This figure includes Axes that are not compatible with tight_layout, so results might be incorrect.\n",
      "  plt.tight_layout()\n",
      "/Users/wjc/miniconda3/lib/python3.10/site-packages/shapely/constructive.py:181: RuntimeWarning: invalid value encountered in buffer\n",
      "  return lib.buffer(\n",
      "/Users/wjc/miniconda3/lib/python3.10/site-packages/shapely/set_operations.py:133: RuntimeWarning: invalid value encountered in intersection\n",
      "  return lib.intersection(a, b, **kwargs)\n",
      "/Users/wjc/miniconda3/lib/python3.10/site-packages/shapely/predicates.py:798: RuntimeWarning: invalid value encountered in intersects\n",
      "  return lib.intersects(a, b, **kwargs)\n"
     ]
    },
    {
     "name": "stdout",
     "output_type": "stream",
     "text": [
      "https://thredds.ucar.edu/thredds/dodsC/satellite/goes/east/products/CloudAndMoistureImagery/CONUS/Channel05/20230518/OR_ABI-L2-CMIPC-M6C05_G16_s20231382356170_e20231382356170_c20231382356170.nc\n",
      "2023-05-18 23:56:17 UTC 2023-05-18 17:56:17 MDT 2023-05-18_2356\n",
      "05 0.00253968 0.47999954\n",
      "05 0.033015839755535126 0.322539359331131\n"
     ]
    },
    {
     "name": "stderr",
     "output_type": "stream",
     "text": [
      "/var/folders/0c/8xbkg06s6cz0yy2505h06nlm00017d/T/ipykernel_32610/3763670139.py:222: UserWarning: This figure includes Axes that are not compatible with tight_layout, so results might be incorrect.\n",
      "  plt.tight_layout()\n",
      "/Users/wjc/miniconda3/lib/python3.10/site-packages/shapely/constructive.py:181: RuntimeWarning: invalid value encountered in buffer\n",
      "  return lib.buffer(\n",
      "/Users/wjc/miniconda3/lib/python3.10/site-packages/shapely/set_operations.py:133: RuntimeWarning: invalid value encountered in intersection\n",
      "  return lib.intersection(a, b, **kwargs)\n",
      "/Users/wjc/miniconda3/lib/python3.10/site-packages/shapely/predicates.py:798: RuntimeWarning: invalid value encountered in intersects\n",
      "  return lib.intersects(a, b, **kwargs)\n"
     ]
    },
    {
     "name": "stdout",
     "output_type": "stream",
     "text": [
      "https://thredds.ucar.edu/thredds/dodsC/satellite/goes/east/products/CloudAndMoistureImagery/CONUS/Channel06/20230518/OR_ABI-L2-CMIPC-M6C06_G16_s20231382356170_e20231382356170_c20231382356170.nc\n",
      "2023-05-18 23:56:17 UTC 2023-05-18 17:56:17 MDT 2023-05-18_2356\n",
      "06 0.00253968 0.39872977\n",
      "06 0.019047601148486137 0.2844441831111908\n"
     ]
    },
    {
     "name": "stderr",
     "output_type": "stream",
     "text": [
      "/var/folders/0c/8xbkg06s6cz0yy2505h06nlm00017d/T/ipykernel_32610/3763670139.py:222: UserWarning: This figure includes Axes that are not compatible with tight_layout, so results might be incorrect.\n",
      "  plt.tight_layout()\n",
      "/Users/wjc/miniconda3/lib/python3.10/site-packages/shapely/constructive.py:181: RuntimeWarning: invalid value encountered in buffer\n",
      "  return lib.buffer(\n",
      "/Users/wjc/miniconda3/lib/python3.10/site-packages/shapely/set_operations.py:133: RuntimeWarning: invalid value encountered in intersection\n",
      "  return lib.intersection(a, b, **kwargs)\n",
      "/Users/wjc/miniconda3/lib/python3.10/site-packages/shapely/predicates.py:798: RuntimeWarning: invalid value encountered in intersects\n",
      "  return lib.intersects(a, b, **kwargs)\n"
     ]
    },
    {
     "name": "stdout",
     "output_type": "stream",
     "text": [
      "https://thredds.ucar.edu/thredds/dodsC/satellite/goes/east/products/CloudAndMoistureImagery/CONUS/Channel07/20230518/OR_ABI-L2-CMIPC-M6C07_G16_s20231382356170_e20231382356170_c20231382356170.nc\n",
      "2023-05-18 23:56:17 UTC 2023-05-18 17:56:17 MDT 2023-05-18_2356\n",
      "07 240.12141 309.21686\n",
      "07 254.43553161621094 299.06732177734375\n"
     ]
    },
    {
     "name": "stderr",
     "output_type": "stream",
     "text": [
      "/var/folders/0c/8xbkg06s6cz0yy2505h06nlm00017d/T/ipykernel_32610/3763670139.py:222: UserWarning: This figure includes Axes that are not compatible with tight_layout, so results might be incorrect.\n",
      "  plt.tight_layout()\n",
      "/Users/wjc/miniconda3/lib/python3.10/site-packages/shapely/constructive.py:181: RuntimeWarning: invalid value encountered in buffer\n",
      "  return lib.buffer(\n",
      "/Users/wjc/miniconda3/lib/python3.10/site-packages/shapely/set_operations.py:133: RuntimeWarning: invalid value encountered in intersection\n",
      "  return lib.intersection(a, b, **kwargs)\n",
      "/Users/wjc/miniconda3/lib/python3.10/site-packages/shapely/predicates.py:798: RuntimeWarning: invalid value encountered in intersects\n",
      "  return lib.intersects(a, b, **kwargs)\n"
     ]
    },
    {
     "name": "stdout",
     "output_type": "stream",
     "text": [
      "https://thredds.ucar.edu/thredds/dodsC/satellite/goes/east/products/CloudAndMoistureImagery/CONUS/Channel08/20230518/OR_ABI-L2-CMIPC-M6C08_G16_s20231382356170_e20231382356170_c20231382356170.nc\n",
      "2023-05-18 23:56:17 UTC 2023-05-18 17:56:17 MDT 2023-05-18_2356\n",
      "08 206.87503 241.98465\n",
      "08 214.31100463867188 238.98492431640625\n"
     ]
    },
    {
     "name": "stderr",
     "output_type": "stream",
     "text": [
      "/var/folders/0c/8xbkg06s6cz0yy2505h06nlm00017d/T/ipykernel_32610/3763670139.py:222: UserWarning: This figure includes Axes that are not compatible with tight_layout, so results might be incorrect.\n",
      "  plt.tight_layout()\n",
      "/Users/wjc/miniconda3/lib/python3.10/site-packages/shapely/constructive.py:181: RuntimeWarning: invalid value encountered in buffer\n",
      "  return lib.buffer(\n",
      "/Users/wjc/miniconda3/lib/python3.10/site-packages/shapely/set_operations.py:133: RuntimeWarning: invalid value encountered in intersection\n",
      "  return lib.intersection(a, b, **kwargs)\n",
      "/Users/wjc/miniconda3/lib/python3.10/site-packages/shapely/predicates.py:798: RuntimeWarning: invalid value encountered in intersects\n",
      "  return lib.intersects(a, b, **kwargs)\n"
     ]
    },
    {
     "name": "stdout",
     "output_type": "stream",
     "text": [
      "https://thredds.ucar.edu/thredds/dodsC/satellite/goes/east/products/CloudAndMoistureImagery/CONUS/Channel09/20230518/OR_ABI-L2-CMIPC-M6C09_G16_s20231382356170_e20231382356170_c20231382356170.nc\n",
      "2023-05-18 23:56:17 UTC 2023-05-18 17:56:17 MDT 2023-05-18_2356\n",
      "09 205.82362 251.3805\n",
      "09 214.1644287109375 248.24740600585938\n"
     ]
    },
    {
     "name": "stderr",
     "output_type": "stream",
     "text": [
      "/var/folders/0c/8xbkg06s6cz0yy2505h06nlm00017d/T/ipykernel_32610/3763670139.py:222: UserWarning: This figure includes Axes that are not compatible with tight_layout, so results might be incorrect.\n",
      "  plt.tight_layout()\n",
      "/Users/wjc/miniconda3/lib/python3.10/site-packages/shapely/constructive.py:181: RuntimeWarning: invalid value encountered in buffer\n",
      "  return lib.buffer(\n",
      "/Users/wjc/miniconda3/lib/python3.10/site-packages/shapely/set_operations.py:133: RuntimeWarning: invalid value encountered in intersection\n",
      "  return lib.intersection(a, b, **kwargs)\n",
      "/Users/wjc/miniconda3/lib/python3.10/site-packages/shapely/predicates.py:798: RuntimeWarning: invalid value encountered in intersects\n",
      "  return lib.intersects(a, b, **kwargs)\n"
     ]
    },
    {
     "name": "stdout",
     "output_type": "stream",
     "text": [
      "https://thredds.ucar.edu/thredds/dodsC/satellite/goes/east/products/CloudAndMoistureImagery/CONUS/Channel10/20230518/OR_ABI-L2-CMIPC-M6C10_G16_s20231382356170_e20231382356170_c20231382356170.nc\n",
      "2023-05-18 23:56:17 UTC 2023-05-18 17:56:17 MDT 2023-05-18_2356\n",
      "10 205.58525 259.56537\n",
      "10 214.36575317382812 256.0731201171875\n"
     ]
    },
    {
     "name": "stderr",
     "output_type": "stream",
     "text": [
      "/var/folders/0c/8xbkg06s6cz0yy2505h06nlm00017d/T/ipykernel_32610/3763670139.py:222: UserWarning: This figure includes Axes that are not compatible with tight_layout, so results might be incorrect.\n",
      "  plt.tight_layout()\n",
      "/Users/wjc/miniconda3/lib/python3.10/site-packages/shapely/constructive.py:181: RuntimeWarning: invalid value encountered in buffer\n",
      "  return lib.buffer(\n",
      "/Users/wjc/miniconda3/lib/python3.10/site-packages/shapely/set_operations.py:133: RuntimeWarning: invalid value encountered in intersection\n",
      "  return lib.intersection(a, b, **kwargs)\n",
      "/Users/wjc/miniconda3/lib/python3.10/site-packages/shapely/predicates.py:798: RuntimeWarning: invalid value encountered in intersects\n",
      "  return lib.intersects(a, b, **kwargs)\n"
     ]
    },
    {
     "name": "stdout",
     "output_type": "stream",
     "text": [
      "https://thredds.ucar.edu/thredds/dodsC/satellite/goes/east/products/CloudAndMoistureImagery/CONUS/Channel11/20230518/OR_ABI-L2-CMIPC-M6C11_G16_s20231382356170_e20231382356170_c20231382356170.nc\n",
      "2023-05-18 23:56:17 UTC 2023-05-18 17:56:17 MDT 2023-05-18_2356\n",
      "11 204.63239 293.3117\n",
      "11 214.59576416015625 288.303955078125\n"
     ]
    },
    {
     "name": "stderr",
     "output_type": "stream",
     "text": [
      "/var/folders/0c/8xbkg06s6cz0yy2505h06nlm00017d/T/ipykernel_32610/3763670139.py:222: UserWarning: This figure includes Axes that are not compatible with tight_layout, so results might be incorrect.\n",
      "  plt.tight_layout()\n",
      "/Users/wjc/miniconda3/lib/python3.10/site-packages/shapely/constructive.py:181: RuntimeWarning: invalid value encountered in buffer\n",
      "  return lib.buffer(\n",
      "/Users/wjc/miniconda3/lib/python3.10/site-packages/shapely/set_operations.py:133: RuntimeWarning: invalid value encountered in intersection\n",
      "  return lib.intersection(a, b, **kwargs)\n",
      "/Users/wjc/miniconda3/lib/python3.10/site-packages/shapely/predicates.py:798: RuntimeWarning: invalid value encountered in intersects\n",
      "  return lib.intersects(a, b, **kwargs)\n"
     ]
    },
    {
     "name": "stdout",
     "output_type": "stream",
     "text": [
      "https://thredds.ucar.edu/thredds/dodsC/satellite/goes/east/products/CloudAndMoistureImagery/CONUS/Channel12/20230518/OR_ABI-L2-CMIPC-M6C12_G16_s20231382356170_e20231382356170_c20231382356170.nc\n",
      "2023-05-18 23:56:17 UTC 2023-05-18 17:56:17 MDT 2023-05-18_2356\n",
      "12 220.63388 264.1226\n",
      "12 224.1318817138672 262.37359619140625\n"
     ]
    },
    {
     "name": "stderr",
     "output_type": "stream",
     "text": [
      "/var/folders/0c/8xbkg06s6cz0yy2505h06nlm00017d/T/ipykernel_32610/3763670139.py:222: UserWarning: This figure includes Axes that are not compatible with tight_layout, so results might be incorrect.\n",
      "  plt.tight_layout()\n",
      "/Users/wjc/miniconda3/lib/python3.10/site-packages/shapely/constructive.py:181: RuntimeWarning: invalid value encountered in buffer\n",
      "  return lib.buffer(\n",
      "/Users/wjc/miniconda3/lib/python3.10/site-packages/shapely/set_operations.py:133: RuntimeWarning: invalid value encountered in intersection\n",
      "  return lib.intersection(a, b, **kwargs)\n",
      "/Users/wjc/miniconda3/lib/python3.10/site-packages/shapely/predicates.py:798: RuntimeWarning: invalid value encountered in intersects\n",
      "  return lib.intersects(a, b, **kwargs)\n"
     ]
    },
    {
     "name": "stdout",
     "output_type": "stream",
     "text": [
      "https://thredds.ucar.edu/thredds/dodsC/satellite/goes/east/products/CloudAndMoistureImagery/CONUS/Channel13/20230518/OR_ABI-L2-CMIPC-M6C13_G16_s20231382356170_e20231382356170_c20231382356170.nc\n",
      "2023-05-18 23:56:17 UTC 2023-05-18 17:56:17 MDT 2023-05-18_2356\n",
      "13 205.33661 297.7624\n",
      "13 214.92332458496094 292.0472412109375\n"
     ]
    },
    {
     "name": "stderr",
     "output_type": "stream",
     "text": [
      "/var/folders/0c/8xbkg06s6cz0yy2505h06nlm00017d/T/ipykernel_32610/3763670139.py:222: UserWarning: This figure includes Axes that are not compatible with tight_layout, so results might be incorrect.\n",
      "  plt.tight_layout()\n",
      "/Users/wjc/miniconda3/lib/python3.10/site-packages/shapely/constructive.py:181: RuntimeWarning: invalid value encountered in buffer\n",
      "  return lib.buffer(\n",
      "/Users/wjc/miniconda3/lib/python3.10/site-packages/shapely/set_operations.py:133: RuntimeWarning: invalid value encountered in intersection\n",
      "  return lib.intersection(a, b, **kwargs)\n",
      "/Users/wjc/miniconda3/lib/python3.10/site-packages/shapely/predicates.py:798: RuntimeWarning: invalid value encountered in intersects\n",
      "  return lib.intersects(a, b, **kwargs)\n"
     ]
    },
    {
     "name": "stdout",
     "output_type": "stream",
     "text": [
      "https://thredds.ucar.edu/thredds/dodsC/satellite/goes/east/products/CloudAndMoistureImagery/CONUS/Channel14/20230518/OR_ABI-L2-CMIPC-M6C14_G16_s20231382356170_e20231382356170_c20231382356170.nc\n",
      "2023-05-18 23:56:17 UTC 2023-05-18 17:56:17 MDT 2023-05-18_2356\n",
      "14 204.93881 298.18628\n",
      "14 214.15582275390625 291.9617919921875\n"
     ]
    },
    {
     "name": "stderr",
     "output_type": "stream",
     "text": [
      "/var/folders/0c/8xbkg06s6cz0yy2505h06nlm00017d/T/ipykernel_32610/3763670139.py:222: UserWarning: This figure includes Axes that are not compatible with tight_layout, so results might be incorrect.\n",
      "  plt.tight_layout()\n",
      "/Users/wjc/miniconda3/lib/python3.10/site-packages/shapely/constructive.py:181: RuntimeWarning: invalid value encountered in buffer\n",
      "  return lib.buffer(\n",
      "/Users/wjc/miniconda3/lib/python3.10/site-packages/shapely/set_operations.py:133: RuntimeWarning: invalid value encountered in intersection\n",
      "  return lib.intersection(a, b, **kwargs)\n",
      "/Users/wjc/miniconda3/lib/python3.10/site-packages/shapely/predicates.py:798: RuntimeWarning: invalid value encountered in intersects\n",
      "  return lib.intersects(a, b, **kwargs)\n"
     ]
    },
    {
     "name": "stdout",
     "output_type": "stream",
     "text": [
      "https://thredds.ucar.edu/thredds/dodsC/satellite/goes/east/products/CloudAndMoistureImagery/CONUS/Channel15/20230518/OR_ABI-L2-CMIPC-M6C15_G16_s20231382356170_e20231382356170_c20231382356170.nc\n",
      "2023-05-18 23:56:17 UTC 2023-05-18 17:56:17 MDT 2023-05-18_2356\n",
      "15 204.35123 294.88367\n",
      "15 213.52359008789062 288.9871520996094\n"
     ]
    },
    {
     "name": "stderr",
     "output_type": "stream",
     "text": [
      "/var/folders/0c/8xbkg06s6cz0yy2505h06nlm00017d/T/ipykernel_32610/3763670139.py:222: UserWarning: This figure includes Axes that are not compatible with tight_layout, so results might be incorrect.\n",
      "  plt.tight_layout()\n",
      "/Users/wjc/miniconda3/lib/python3.10/site-packages/shapely/constructive.py:181: RuntimeWarning: invalid value encountered in buffer\n",
      "  return lib.buffer(\n",
      "/Users/wjc/miniconda3/lib/python3.10/site-packages/shapely/set_operations.py:133: RuntimeWarning: invalid value encountered in intersection\n",
      "  return lib.intersection(a, b, **kwargs)\n",
      "/Users/wjc/miniconda3/lib/python3.10/site-packages/shapely/predicates.py:798: RuntimeWarning: invalid value encountered in intersects\n",
      "  return lib.intersects(a, b, **kwargs)\n"
     ]
    },
    {
     "name": "stdout",
     "output_type": "stream",
     "text": [
      "https://thredds.ucar.edu/thredds/dodsC/satellite/goes/east/products/CloudAndMoistureImagery/CONUS/Channel16/20230518/OR_ABI-L2-CMIPC-M6C16_G16_s20231382356170_e20231382356170_c20231382356170.nc\n",
      "2023-05-18 23:56:17 UTC 2023-05-18 17:56:17 MDT 2023-05-18_2356\n",
      "16 206.38828 272.43103\n",
      "16 214.37509155273438 270.33795166015625\n"
     ]
    },
    {
     "name": "stderr",
     "output_type": "stream",
     "text": [
      "/var/folders/0c/8xbkg06s6cz0yy2505h06nlm00017d/T/ipykernel_32610/3763670139.py:222: UserWarning: This figure includes Axes that are not compatible with tight_layout, so results might be incorrect.\n",
      "  plt.tight_layout()\n",
      "/Users/wjc/miniconda3/lib/python3.10/site-packages/shapely/constructive.py:181: RuntimeWarning: invalid value encountered in buffer\n",
      "  return lib.buffer(\n",
      "/Users/wjc/miniconda3/lib/python3.10/site-packages/shapely/set_operations.py:133: RuntimeWarning: invalid value encountered in intersection\n",
      "  return lib.intersection(a, b, **kwargs)\n",
      "/Users/wjc/miniconda3/lib/python3.10/site-packages/shapely/predicates.py:798: RuntimeWarning: invalid value encountered in intersects\n",
      "  return lib.intersects(a, b, **kwargs)\n"
     ]
    }
   ],
   "source": [
    "##################################################\n",
    "#\n",
    "# Control Setup\n",
    "#\n",
    "\n",
    "# %load solutions/data_url.py\n",
    "\n",
    "\n",
    "# Cell content replaced by load magic replacement.\n",
    "\n",
    "# Create variables for URL generation\n",
    "\n",
    "for ch_band in range(1,17):\n",
    "\n",
    "    channel        = ch_band\n",
    "    ch_band_string = str(ch_band).zfill(2)\n",
    "\n",
    "\n",
    "    image_date  = datetime.utcnow().date()\n",
    "    region      =                   'CONUS'\n",
    "\n",
    "\n",
    "\n",
    "    if (region == 'CONUS') :\n",
    "        region_lab               = ' SODAK Band '\n",
    "        png_processing_directory = png_file_dir3\n",
    "        gif_file_name            = \"./SD_BAND_\" + ch_band_string + \"_\"\n",
    "\n",
    "\n",
    "\n",
    "\n",
    "\n",
    "    # We want to match something like:\n",
    "    # https://thredds-test.unidata.ucar.edu/thredds/catalog/satellite/goes16/GOES16/Mesoscale-1/Channel08/20181113/catalog.html\n",
    "\n",
    "    # Construct the data_url string\n",
    "\n",
    "\n",
    "    data_url = \"https://thredds.ucar.edu/thredds/dodsC/satellite/goes/east/products/CloudAndMoistureImagery/CONUS/Channel\"+ \\\n",
    "                ch_band_string+\"/\"+YYYYMMDD+\"/OR_ABI-L2-CMIPC-M6C\"+ch_band_string+\"_G16_\"+file_time_string+\".nc\"\n",
    "\n",
    "    # Print out your URL and verify it works!\n",
    "\n",
    "    print(data_url)\n",
    "\n",
    "\n",
    "    ds  = xr.open_dataset(data_url)\n",
    "\n",
    "\n",
    "    nx = ds.dims[\"x\"]\n",
    "    ny = ds.dims[\"y\"]\n",
    "\n",
    "    imin = round(imin_rap_frac * nx)\n",
    "    imax = round(imax_rap_frac * nx)\n",
    "\n",
    "    jmin = round(jmin_rap_frac * ny)\n",
    "    jmax = round(jmax_rap_frac * ny)\n",
    "\n",
    "\n",
    "    dat = ds.metpy.parse_cf('Sectorized_CMI')[jmin : jmax,\n",
    "                                              imin : imax]\n",
    "\n",
    "\n",
    "\n",
    "    x    = dat['x']       \n",
    "    y    = dat['y']\n",
    "    proj = dat.metpy.cartopy_crs\n",
    "\n",
    "    tz         = 'America/Denver'\n",
    "    time_utc   = datetime.strptime(ds.start_date_time, '%Y%j%H%M%S')\n",
    "    valid_time = pd.to_datetime(time_utc).tz_localize(tz=\"UTC\").strftime(\"%Y-%m-%d %H:%M:%S %Z\")\n",
    "    local_time = pd.to_datetime(time_utc).tz_localize(tz=\"UTC\").tz_convert(tz=tz).strftime(\"%Y-%m-%d %H:%M:%S %Z\")\n",
    "\n",
    "    file_time = pd.to_datetime(time_utc).tz_localize(tz=\"UTC\").strftime(\"%Y-%m-%d_%H%M\")\n",
    "\n",
    "    print(valid_time,local_time, file_time)\n",
    "\n",
    "    image_header_label = \"GOES 16\" + region_lab + str(channel)+ channel_lab[channel]\n",
    "\n",
    "\n",
    "\n",
    "    ny = dat.shape[0]\n",
    "    nx = dat.shape[1]      \n",
    "    alpha2d = np.sqrt(np.outer(np.abs(np.hanning(ny)),np.abs(np.hanning(nx))))\n",
    "    alpha2d = np.where(alpha2d>alpha_factor,alpha_factor,alpha2d)\n",
    "    alpha2d = alpha2d / alpha_factor\n",
    "\n",
    "\n",
    "\n",
    "\n",
    "    fig = plt.figure(figsize=(8, 8), facecolor = 'white')\n",
    "\n",
    "    plt.suptitle(image_header_label,\n",
    "                 fontsize = 20, \n",
    "                 color    = Mines_Blue)\n",
    "    ax = fig.add_subplot(1, 1, 1, projection=proj)\n",
    "    ax.set_title(valid_time + \"  (\" + local_time+\")\",\n",
    "                 fontsize =      15, \n",
    "                 color    = Mines_Blue)\n",
    "    ax.add_feature(cfeature.COASTLINE.with_scale('50m'), linewidth=1, edgecolor=Mines_Blue)\n",
    "    ax.add_feature(cfeature.STATES.with_scale('50m'),    linestyle=':', edgecolor=Mines_Blue)\n",
    "    ax.add_feature(cfeature.BORDERS.with_scale('50m'),   linewidth=1, edgecolor=Mines_Blue)\n",
    "\n",
    "    print(ch_band_string, dat.min().values, dat.max().values)\n",
    "\n",
    "    \n",
    "    vmin =  np.nanpercentile(a=dat.values, q=2)\n",
    "    vmax =  np.nanpercentile(a=dat.values, q=98)\n",
    "    print(ch_band_string, vmin, vmax)\n",
    "\n",
    "    if (ch_band >= 7):\n",
    "        colortab  = \"gist_ncar\"\n",
    "        bar_label = \"Top-of-Atmosphere Radiometric Temperature (K)\"\n",
    "        vmin = 205\n",
    "        vmax = 295\n",
    "\n",
    "    else:\n",
    "        colortab  = \"Greys_r\"\n",
    "        bar_label = \"Top-of-Atmosphere Reflectance (fraction)\"\n",
    "        vmin = 0.\n",
    "        vmax = 0.3\n",
    "        \n",
    "    im = ax.imshow(                       dat, \n",
    "                   extent = (x.min(), x.max(), \n",
    "                             y.min(), y.max()), \n",
    "                   origin =            'upper',\n",
    "                   cmap   =          colortab,alpha = alpha2d,\n",
    "                   vmin   =              vmin,\n",
    "                   vmax   =              vmax)\n",
    "\n",
    "\n",
    "    plt.colorbar(im,\n",
    "                ax=ax,\n",
    "                orientation = \"horizontal\",\n",
    "                pad = 0,\n",
    "                label = bar_label)\n",
    "    \n",
    "    \n",
    "\n",
    "\n",
    "    #########################################\n",
    "    #\n",
    "    # Insert a Clock\n",
    "    #\n",
    "\n",
    "    axins = fig.add_axes(rect     =    [0.002,\n",
    "                                        0.825,\n",
    "                                        0.12,\n",
    "                                        0.12],\n",
    "                          projection  =  \"polar\")\n",
    "\n",
    "    time_for_clock = pd.to_datetime(time_utc).tz_localize(tz=\"UTC\").tz_convert(tz=tz).time()\n",
    "\n",
    "    hour   = time_for_clock.hour\n",
    "    minute = time_for_clock.minute\n",
    "    second = time_for_clock.second\n",
    "\n",
    "    circle_theta  = np.deg2rad(np.arange(0,360,0.01))\n",
    "    circle_radius = circle_theta * 0 + 1\n",
    "\n",
    "    if (hour > 12) :\n",
    "        hour = hour - 12\n",
    "\n",
    "    angles_h = 2*np.pi*hour/12+2*np.pi*minute/(12*60)+2*second/(12*60*60)\n",
    "    angles_m = 2*np.pi*minute/60+2*np.pi*second/(60*60)\n",
    "\n",
    "    #print(time_for_clock)\n",
    "    #print(hour,   np.rad2deg(angles_h))\n",
    "    #print(minute, np.rad2deg(angles_m))\n",
    "\n",
    "\n",
    "    plt.setp(axins.get_yticklabels(), visible=False)\n",
    "    plt.setp(axins.get_xticklabels(), visible=False)\n",
    "    axins.spines['polar'].set_visible(False)\n",
    "    axins.set_ylim(0,1)\n",
    "    axins.set_theta_zero_location('N')\n",
    "    axins.set_theta_direction(-1)\n",
    "    axins.set_facecolor(\"white\")\n",
    "    axins.grid(False)\n",
    "\n",
    "    axins.plot([angles_h,angles_h], [0,0.60], color=Mines_Blue, linewidth=1.5)\n",
    "    axins.plot([angles_m,angles_m], [0,0.95], color=Mines_Blue, linewidth=1.5)\n",
    "    axins.plot(circle_theta, circle_radius, color=Mines_Blue, linewidth=1)\n",
    "\n",
    "    #\n",
    "    #########################################\n",
    "\n",
    "\n",
    "\n",
    "    #########################################\n",
    "    #\n",
    "    # Insert a Footprint Map\n",
    "    #   \n",
    "\n",
    "\n",
    "    axmap = fig.add_axes(rect        =    [0.88, \n",
    "                                           0.825,\n",
    "                                           0.12, \n",
    "                                           0.12],\n",
    "                         projection = proj)\n",
    "\n",
    "    axmap.add_feature(cfeature.COASTLINE, linewidth=0.5, edgecolor=Mines_Blue)\n",
    "\n",
    "    footprint_xy=np.array([[x.min(),y.min()],\n",
    "                           [x.min(),y.max()],\n",
    "                           [x.max(),y.max()],\n",
    "                           [x.max(),y.min()],\n",
    "                           [x.min(),y.min()]])\n",
    "\n",
    "    footprint = patches.Polygon(xy        = footprint_xy,\n",
    "                                facecolor =        'c')\n",
    "\n",
    "\n",
    "    axmap.add_patch(footprint)\n",
    "\n",
    "    axmap.set_global()\n",
    "\n",
    "    #\n",
    "    #########################################\n",
    "\n",
    "    ax.set_frame_on(False)\n",
    "    plt.tight_layout()\n",
    "    dataset_png_file_name=png_file_dir3 +  \"./SODAK_CH\" + ch_band_string + \"_\" + file_time\n",
    "    plt.savefig( dataset_png_file_name,\n",
    "                    facecolor   = 'white', \n",
    "                    transparent =   False)\n",
    "    plt.close()\n",
    "\n",
    "\n",
    "\n",
    "#\n",
    "##################################################"
   ]
  },
  {
   "cell_type": "code",
   "execution_count": null,
   "id": "52b0392e-0450-4d99-bef2-847c60cd4b27",
   "metadata": {},
   "outputs": [],
   "source": []
  },
  {
   "cell_type": "code",
   "execution_count": null,
   "id": "ae927873-0540-46ed-b351-f1538f988119",
   "metadata": {},
   "outputs": [],
   "source": []
  },
  {
   "cell_type": "markdown",
   "id": "ad3b7bc0-3f4e-452f-a4b0-4100d44b54d8",
   "metadata": {},
   "source": [
    "## Aggregate All Three Into One"
   ]
  },
  {
   "cell_type": "code",
   "execution_count": null,
   "id": "26db2e4d-9719-4672-8c9e-02aefda5b852",
   "metadata": {},
   "outputs": [],
   "source": []
  },
  {
   "cell_type": "code",
   "execution_count": null,
   "id": "0bca0500-5686-4625-911b-d7bc0cd81ee4",
   "metadata": {},
   "outputs": [],
   "source": []
  },
  {
   "cell_type": "code",
   "execution_count": null,
   "id": "9365435b-16f0-42ce-be12-890d6b51f39c",
   "metadata": {},
   "outputs": [],
   "source": []
  },
  {
   "cell_type": "code",
   "execution_count": null,
   "id": "38f7b8d5-7162-4910-90d9-b1d686b37a93",
   "metadata": {},
   "outputs": [],
   "source": []
  },
  {
   "cell_type": "code",
   "execution_count": null,
   "id": "c5baa05e-e5bd-40f6-989a-f5063e7b55f7",
   "metadata": {},
   "outputs": [],
   "source": []
  }
 ],
 "metadata": {
  "kernelspec": {
   "display_name": "Python 3 (ipykernel)",
   "language": "python",
   "name": "python3"
  },
  "language_info": {
   "codemirror_mode": {
    "name": "ipython",
    "version": 3
   },
   "file_extension": ".py",
   "mimetype": "text/x-python",
   "name": "python",
   "nbconvert_exporter": "python",
   "pygments_lexer": "ipython3",
   "version": "3.10.10"
  }
 },
 "nbformat": 4,
 "nbformat_minor": 5
}
