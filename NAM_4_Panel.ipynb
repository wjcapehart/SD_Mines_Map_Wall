{
 "cells": [
  {
   "cell_type": "markdown",
   "id": "8711cfdc-5123-47b5-8837-ea31b41f363d",
   "metadata": {},
   "source": [
    "#### NAM 4-panel"
   ]
  },
  {
   "cell_type": "code",
   "execution_count": 1,
   "id": "af02ff5a-fb86-4d58-aeee-566d278bf25a",
   "metadata": {},
   "outputs": [],
   "source": [
    "####################################################\n",
    "####################################################\n",
    "####################################################\n",
    "#\n",
    "# Libraries\n",
    "#\n",
    "\n",
    "import numpy             as np\n",
    "import datetime          as dt\n",
    "import matplotlib        as mpl\n",
    "import matplotlib.pyplot as plt\n",
    "import matplotlib.patches as patches\n",
    "import ftplib            as ftplib\n",
    "import urllib.request    as urllibreq\n",
    "import datetime          as datetime\n",
    "import os                as os\n",
    "import platform          as platform\n",
    "import socket            as socket\n",
    "import xarray            as xr\n",
    "import netCDF4           as nc4\n",
    "import metpy             as metpy\n",
    "import pathlib           as pathlib\n",
    "import numpy             as np\n",
    "import cftime            as cftime\n",
    "import netCDF4           as nc4\n",
    "import metpy             as metpy\n",
    "import cartopy.crs       as ccrs\n",
    "import cartopy.feature   as cfeature\n",
    "import pandas            as pd\n",
    "import pyproj            as pyproj\n",
    "import scipy.ndimage     as ndimage\n",
    "from matplotlib.gridspec import GridSpec\n",
    "\n",
    "def plot_maxmin_points(lon, lat, data, extrema, nsize, symbol, color='k',\n",
    "                       plotValue=True, transform=None):\n",
    "    \"\"\"\n",
    "    This function will find and plot relative maximum and minimum for a 2D grid. The function\n",
    "    can be used to plot an H for maximum values (e.g., High pressure) and an L for minimum\n",
    "    values (e.g., low pressue). It is best to used filetered data to obtain  a synoptic scale\n",
    "    max/min value. The symbol text can be set to a string value and optionally the color of the\n",
    "    symbol and any plotted value can be set with the parameter color\n",
    "    lon = plotting longitude values (2D)\n",
    "    lat = plotting latitude values (2D)\n",
    "    data = 2D data that you wish to plot the max/min symbol placement\n",
    "    extrema = Either a value of max for Maximum Values or min for Minimum Values\n",
    "    nsize = Size of the grid box to filter the max and min values to plot a reasonable number\n",
    "    symbol = String to be placed at location of max/min value\n",
    "    color = String matplotlib colorname to plot the symbol (and numerica value, if plotted)\n",
    "    plot_value = Boolean (True/False) of whether to plot the numeric value of max/min point\n",
    "    The max/min symbol will be plotted on the current axes within the bounding frame\n",
    "    (e.g., clip_on=True)\n",
    "    \"\"\"\n",
    "    from scipy.ndimage.filters import maximum_filter, minimum_filter\n",
    "\n",
    "    if (extrema == 'max'):\n",
    "        data_ext = maximum_filter(data, nsize, mode='nearest')\n",
    "    elif (extrema == 'min'):\n",
    "        data_ext = minimum_filter(data, nsize, mode='nearest')\n",
    "    else:\n",
    "        raise ValueError('Value for hilo must be either max or min')\n",
    "\n",
    "    mxy, mxx = np.where(data_ext == data)\n",
    "\n",
    "    for i in range(len(mxy)):\n",
    "        ax2.text(lon[mxy[i], mxx[i]], lat[mxy[i], mxx[i]], symbol, color=color, size=20,\n",
    "                clip_on=True, horizontalalignment='center', verticalalignment='center',\n",
    "                transform=transform)\n",
    "        ax2.text(lon[mxy[i], mxx[i]], lat[mxy[i], mxx[i]],\n",
    "                '\\n' + str(int(data[mxy[i], mxx[i]])),\n",
    "                color=color, size=12, clip_on=True, fontweight='bold',\n",
    "                horizontalalignment='center', verticalalignment='top', transform=transform)\n",
    "\n",
    "#\n",
    "####################################################\n",
    "####################################################\n",
    "####################################################"
   ]
  },
  {
   "cell_type": "code",
   "execution_count": 2,
   "id": "86e70f9f-8f8a-47b1-9746-82ffd02d15ca",
   "metadata": {},
   "outputs": [
    {
     "name": "stdout",
     "output_type": "stream",
     "text": [
      "/Users/wjc/GitHub/SD_Mines_Map_Wall/\n"
     ]
    }
   ],
   "source": [
    "###################################################\n",
    "#\n",
    "# NWS Rainfall Color Table.\n",
    "#\n",
    "\n",
    "\n",
    "MAINDIR = os.getcwd() + \"/\"\n",
    "print(MAINDIR)\n",
    "\n",
    "\n",
    "\n",
    "nws_precip_colors = [\n",
    "    \"#04e9e7\",  # 0.01 - 0.10 inches\n",
    "    \"#019ff4\",  # 0.10 - 0.25 inches\n",
    "    \"#0300f4\",  # 0.25 - 0.50 inches\n",
    "    \"#02fd02\",  # 0.50 - 0.75 inches\n",
    "    \"#01c501\",  # 0.75 - 1.00 inches\n",
    "    \"#008e00\",  # 1.00 - 1.50 inches\n",
    "    \"#fdf802\",  # 1.50 - 2.00 inches\n",
    "    \"#e5bc00\",  # 2.00 - 2.50 inches\n",
    "    \"#fd9500\",  # 2.50 - 3.00 inches\n",
    "    \"#fd0000\",  # 3.00 - 4.00 inches\n",
    "    \"#d40000\",  # 4.00 - 5.00 inches\n",
    "    \"#bc0000\",  # 5.00 - 6.00 inches\n",
    "    \"#f800fd\",  # 6.00 - 8.00 inches\n",
    "    \"#9854c6\",  # 8.00 - 10.00 inches\n",
    "    \"#fdfdfd\"]  # 10.00+\n",
    "\n",
    "precip_colormap = mpl.colors.ListedColormap(colors = nws_precip_colors)\n",
    "\n",
    "precip_levels_in = [   0.01,   0.10,  0.25,   0.50, \n",
    "                       0.75,   1.00,  1.50,   2.00, \n",
    "                       2.50,   3.00,  4.00,   5.00,\n",
    "                       6.00,   8.00, 10.00,  20.00] # in Inches!!!\n",
    "\n",
    "precip_levels_mm = [  0.25,   2.50,   5.00,  10.00, \n",
    "                     20.00,  25.00,  40.00,  50.00, \n",
    "                     60.00,  75.00, 100.00, 125.00,\n",
    "                    150.00, 200.00, 250.00, 500.00] # in mm\n",
    "\n",
    "#\n",
    "###################################################"
   ]
  },
  {
   "cell_type": "code",
   "execution_count": 3,
   "id": "4ca68473-99d0-432c-949b-66093b4dc9b7",
   "metadata": {},
   "outputs": [
    {
     "name": "stderr",
     "output_type": "stream",
     "text": [
      "rm: ./temp_files_nam/*: No such file or directory\n"
     ]
    },
    {
     "data": {
      "text/plain": [
       "256"
      ]
     },
     "execution_count": 3,
     "metadata": {},
     "output_type": "execute_result"
    }
   ],
   "source": [
    "####################################################\n",
    "####################################################\n",
    "####################################################\n",
    "#\n",
    "# File Control\n",
    "#\n",
    "\n",
    "png_processing_directory = \"./temp_files_nam/\"\n",
    "\n",
    "gif_file_name = \"./graphics_files/NAM_4_Panel.gif\"\n",
    "\n",
    "png_file_root = png_processing_directory + \"NAM_4_Panel_\"\n",
    "\n",
    "os.system(\"rm -v \"+ png_processing_directory +\"*\")\n",
    "\n",
    "#\n",
    "####################################################\n",
    "####################################################\n",
    "####################################################"
   ]
  },
  {
   "cell_type": "markdown",
   "id": "192515d7-0516-4cf5-986c-3b13272621bb",
   "metadata": {},
   "source": [
    "### Timings for each run\n",
    "\n",
    "The Realtime WRF is generated every 6 hr at best.  The model takes 3 hr to \n",
    "\n",
    "| Model Product Time (UTC) | Wallclock Start Time (UTC) |\n",
    "|:------------------------:|:--------------------------:|\n",
    "|        00 UTC            |        03 UTC              |\n",
    "|        06 UTC            |        09 UTC              |\n",
    "|        12 UTC            |        15 UTC              |\n",
    "|        18 UTC            |        21 UTC              |"
   ]
  },
  {
   "cell_type": "code",
   "execution_count": 4,
   "id": "fb98b7ce-67be-4e3c-b6a6-f9d3813f9a24",
   "metadata": {},
   "outputs": [
    {
     "name": "stdout",
     "output_type": "stream",
     "text": [
      "           Current Time  2022-05-29 21:29:47.209989\n",
      "NAM Forecast Start Time  2022-05-29 18:00:00\n",
      " \n",
      "https://thredds.ucar.edu/thredds/dodsC/grib/NCEP/NAM/CONUS_40km/conduit/NAM_CONUS_40km_conduit_20220529_1800.grib2\n"
     ]
    }
   ],
   "source": [
    "####################################################\n",
    "####################################################\n",
    "####################################################\n",
    "#\n",
    "# Identify Specific Run by Wall Clock Window\n",
    "#\n",
    "\n",
    "lag_hours = 3\n",
    "\n",
    "current_datetime = datetime.datetime.utcnow()\n",
    "\n",
    "current_datetime_lag3 = current_datetime - datetime.timedelta(hours=lag_hours)\n",
    "\n",
    "if (current_datetime.day == current_datetime_lag3.day):\n",
    "    if (current_datetime_lag3.hour < 6):\n",
    "        fx_hour =  0\n",
    "    elif (current_datetime_lag3.hour < 12):\n",
    "        fx_hour =  6\n",
    "    elif (current_datetime_lag3.hour < 18):\n",
    "        fx_hour = 12\n",
    "    else:\n",
    "        fx_hour = 18\n",
    "\n",
    "    model_start_datetime = datetime.datetime(year  = current_datetime_lag3.year,\n",
    "                                             month = current_datetime_lag3.month, \n",
    "                                             day   = current_datetime_lag3.day, \n",
    "                                             hour  = fx_hour)     \n",
    "else:\n",
    "    fx_hour = 18\n",
    "    model_start_datetime = datetime.datetime(year  = current_datetime_lag3.year,\n",
    "                                             month = current_datetime_lag3.month, \n",
    "                                             day   = current_datetime_lag3.day, \n",
    "                                             hour  = fx_hour)\n",
    "\n",
    "print(\"           Current Time \", current_datetime)\n",
    "print(\"NAM Forecast Start Time \", model_start_datetime)\n",
    "\n",
    "model_thredds_retrieval_date   = model_start_datetime.strftime(\"%Y%m%d_%H00\")\n",
    "\n",
    "nam_opendap_url = \"https://thredds.ucar.edu/thredds/dodsC/grib/NCEP/NAM/CONUS_40km/conduit/NAM_CONUS_40km_conduit_\" + model_thredds_retrieval_date + \".grib2\"\n",
    "\n",
    "print(\" \")\n",
    "\n",
    "print(nam_opendap_url)\n",
    "\n",
    "#\n",
    "####################################################\n",
    "####################################################\n",
    "####################################################"
   ]
  },
  {
   "cell_type": "markdown",
   "id": "1e459436-83ae-4708-810d-d8dc2e8dad7b",
   "metadata": {},
   "source": [
    "## Crack open GRIB array with Xarray"
   ]
  },
  {
   "cell_type": "code",
   "execution_count": 5,
   "id": "9edffacf-baaa-4042-97a1-f94f86a57a0d",
   "metadata": {},
   "outputs": [],
   "source": [
    "####################################################\n",
    "####################################################\n",
    "####################################################\n",
    "#\n",
    "# Crack open the UCAR thredds NOMADS array.\n",
    "#\n",
    "\n",
    "nam_model = xr.open_dataset(nam_opendap_url)\n",
    "\n",
    "nam_model = nam_model.metpy.parse_cf()\n",
    "\n",
    "nam_crs = nam_model.metpy_crs.metpy.cartopy_crs\n",
    "\n",
    "eastings1d  = nam_model[\"x\"]\n",
    "northings1d = nam_model[\"y\"]\n",
    "\n",
    "eastings2d, northings2d = np.meshgrid(eastings1d,northings1d)\n",
    "\n",
    "eastings_range  = [np.min(eastings1d),  np.max(eastings1d)]\n",
    "northings_range = [np.min(northings1d), np.max(northings1d)]\n",
    "\n",
    "pyproj_nam = pyproj.Proj(nam_crs)\n",
    "\n",
    "lon2d, lat2d = pyproj_nam(eastings2d,\n",
    "                          northings2d,\n",
    "                          inverse=True)\n",
    "\n",
    "coriolis = metpy.calc.coriolis_parameter(lat2d*np.pi/180)\n",
    "coriolis = coriolis.magnitude\n",
    "\n",
    "#\n",
    "####################################################\n",
    "####################################################\n",
    "####################################################"
   ]
  },
  {
   "cell_type": "markdown",
   "id": "d6bdc675-c818-4bdc-9fb7-72962ff8c40b",
   "metadata": {},
   "source": [
    "## Panel Displays\n",
    "\n",
    "500-hPa Vorticity/Heights\n",
    "\n",
    "* 500-hPa Absolute Vorticity\n",
    "* 500-hPa Isobaric Heights\n",
    "\n",
    "Thickness / MSLP\n",
    "\n",
    "* Mean Sea Level Pressure\n",
    "* 1000-500 hPa Thickness\n",
    "\n",
    "850-hPa Heights and Humidity\n",
    "\n",
    "* 850-hPA Heights\n",
    "* 850-hPA Relative Humidity\n",
    "\n",
    "Precipitation / Vertical Velocity\n",
    "\n",
    "* 12-hr Precipitation\n",
    "* 700-hPa Vertical Velocity\n"
   ]
  },
  {
   "cell_type": "markdown",
   "id": "b6396cf8-f53c-43ad-9fdd-1c9e845f8600",
   "metadata": {},
   "source": [
    "## Fetch Data for Panel Displays"
   ]
  },
  {
   "cell_type": "code",
   "execution_count": 6,
   "id": "a92845f8-8f48-4b69-8df0-e5ed93efb414",
   "metadata": {},
   "outputs": [],
   "source": [
    "####################################################\n",
    "####################################################\n",
    "####################################################\n",
    "#\n",
    "# Extract Map Fields\n",
    "#\n",
    "\n",
    "k_0500hpa_vort  = 2\n",
    "k_0850hpa_dewpt = 4\n",
    "\n",
    "\n",
    "\n",
    "k_1000hpa_height = 38\n",
    "k_0850hpa_height = 32\n",
    "k_0700hpa_height = 26\n",
    "k_0500hpa_height = 18\n",
    "\n",
    "#\n",
    "# 850 hpa\n",
    "#\n",
    "\n",
    "u_850        = nam_model[ 'u-component_of_wind_isobaric'][:,k_0850hpa_height,  :,:]\n",
    "v_850        = nam_model[ 'v-component_of_wind_isobaric'][:,k_0850hpa_height,  :,:]\n",
    "rh_850       = nam_model[   'Relative_humidity_isobaric'][:,k_0850hpa_height,  :,:]\n",
    "td_850       = nam_model['Dewpoint_temperature_isobaric'][:,k_0850hpa_dewpt,   :,:]\n",
    "\n",
    "td_850.values = (td_850.values-273)*9/5 +32\n",
    "\n",
    "m_850        = u_850.copy()\n",
    "m_850.values = np.sqrt(u_850.values * u_850.values + v_850.values * v_850.values)\n",
    "m_850.attrs[\"long_name\"] = \"850-hPa Wind Speed\"\n",
    "\n",
    "heights_850        = nam_model[\"Geopotential_height_isobaric\"][:,k_0850hpa_height,:,:]\n",
    "heights_850.values = heights_850.values / 10.\n",
    "heights_850.attrs[\"units\"] = \"dam\"\n",
    "\n",
    "\n",
    "\n",
    "\n",
    "#\n",
    "# 500-hPa Heights & Vorticity\n",
    "#\n",
    "\n",
    "vorticity_500       = nam_model[ \"Absolute_vorticity_isobaric\"][:,k_0500hpa_vort,  :,:]\n",
    "vorticity_500.values         = (vorticity_500.values - coriolis) * 1e5 \n",
    "vorticity_500.attrs[\"units\"] = \"1e-5 s-1\"\n",
    "\n",
    "heights_500        = nam_model[\"Geopotential_height_isobaric\"][:,k_0500hpa_height,:,:]\n",
    "heights_500.values = heights_500.values / 10.\n",
    "heights_500.attrs[\"units\"] = \"dam\"\n",
    "\n",
    "heights_500.attrs[  \"long_name\"] = \"500-hPa Geopotential Height\"\n",
    "vorticity_500.attrs[\"long_name\"] = \"500-hPa Relative Vorticity\"\n",
    "\n",
    "#\n",
    "# MSLP - Thickness\n",
    "#\n",
    "\n",
    "mslp                = nam_model[ \"Pressure_reduced_to_MSL_msl\"]\n",
    "mslp.values         = mslp.values / 100\n",
    "mslp.attrs[\"units\"] = \"hPa\"\n",
    "\n",
    "heights_500        = nam_model[\"Geopotential_height_isobaric\"][:,k_0500hpa_height,:,:]\n",
    "heights_500.values = heights_500.values / 10.\n",
    "heights_500.attrs[\"units\"] = \"dam\"\n",
    "\n",
    "thickness        = heights_500.copy() \n",
    "thickness.values = heights_500.values - nam_model[\"Geopotential_height_isobaric\"][:,k_1000hpa_height,:,:].values/10\n",
    "thickness.attrs[\"long_name\"] = \"1000-500 hPa Thickness\"\n",
    "thickness.attrs[\"units\"]     = \"dam\"\n",
    "\n",
    "#\n",
    "# Precip & 700-hPa VVel\n",
    "#\n",
    "\n",
    "vvel_700   = nam_model[\"Vertical_velocity_pressure_isobaric\"][:,k_0700hpa_height,:,:]\n",
    "\n",
    "precip = nam_model[\"Total_precipitation_surface_3_Hour_Accumulation\"]\n",
    "\n",
    "precip.values         = precip.values / 25.4\n",
    "precip.attrs['units'] = 'in'\n",
    "\n",
    "\n",
    "\n",
    "\n",
    "#\n",
    "####################################################\n",
    "####################################################\n",
    "####################################################"
   ]
  },
  {
   "cell_type": "code",
   "execution_count": null,
   "id": "7149631a-5a3c-4988-92d7-e2c2d973190f",
   "metadata": {},
   "outputs": [],
   "source": []
  },
  {
   "cell_type": "code",
   "execution_count": 8,
   "id": "84627609-32ad-4ef8-9bd1-ff8803d73a96",
   "metadata": {
    "scrolled": true
   },
   "outputs": [
    {
     "name": "stdout",
     "output_type": "stream",
     "text": [
      "========================================================\n",
      "2022-05-29 1800 UTC F00 (Sun 2022-05-29 1200 MDT)\n",
      "Sun 2022-05-29 1500 MDT\n"
     ]
    },
    {
     "name": "stderr",
     "output_type": "stream",
     "text": [
      "/var/folders/0c/8xbkg06s6cz0yy2505h06nlm00017d/T/ipykernel_82026/3747094353.py:53: DeprecationWarning: Please use `maximum_filter` from the `scipy.ndimage` namespace, the `scipy.ndimage.filters` namespace is deprecated.\n",
      "  from scipy.ndimage.filters import maximum_filter, minimum_filter\n",
      "/var/folders/0c/8xbkg06s6cz0yy2505h06nlm00017d/T/ipykernel_82026/3747094353.py:53: DeprecationWarning: Please use `minimum_filter` from the `scipy.ndimage` namespace, the `scipy.ndimage.filters` namespace is deprecated.\n",
      "  from scipy.ndimage.filters import maximum_filter, minimum_filter\n"
     ]
    },
    {
     "name": "stdout",
     "output_type": "stream",
     "text": [
      "========================================================\n",
      "2022-05-29 1800 UTC F01 (Sun 2022-05-29 1300 MDT)\n",
      "Sun 2022-05-29 1500 MDT\n"
     ]
    },
    {
     "name": "stderr",
     "output_type": "stream",
     "text": [
      "/var/folders/0c/8xbkg06s6cz0yy2505h06nlm00017d/T/ipykernel_82026/3747094353.py:53: DeprecationWarning: Please use `maximum_filter` from the `scipy.ndimage` namespace, the `scipy.ndimage.filters` namespace is deprecated.\n",
      "  from scipy.ndimage.filters import maximum_filter, minimum_filter\n",
      "/var/folders/0c/8xbkg06s6cz0yy2505h06nlm00017d/T/ipykernel_82026/3747094353.py:53: DeprecationWarning: Please use `minimum_filter` from the `scipy.ndimage` namespace, the `scipy.ndimage.filters` namespace is deprecated.\n",
      "  from scipy.ndimage.filters import maximum_filter, minimum_filter\n"
     ]
    },
    {
     "name": "stdout",
     "output_type": "stream",
     "text": [
      "========================================================\n",
      "2022-05-29 1800 UTC F02 (Sun 2022-05-29 1400 MDT)\n",
      "Sun 2022-05-29 1500 MDT\n"
     ]
    },
    {
     "name": "stderr",
     "output_type": "stream",
     "text": [
      "/var/folders/0c/8xbkg06s6cz0yy2505h06nlm00017d/T/ipykernel_82026/3747094353.py:53: DeprecationWarning: Please use `maximum_filter` from the `scipy.ndimage` namespace, the `scipy.ndimage.filters` namespace is deprecated.\n",
      "  from scipy.ndimage.filters import maximum_filter, minimum_filter\n",
      "/var/folders/0c/8xbkg06s6cz0yy2505h06nlm00017d/T/ipykernel_82026/3747094353.py:53: DeprecationWarning: Please use `minimum_filter` from the `scipy.ndimage` namespace, the `scipy.ndimage.filters` namespace is deprecated.\n",
      "  from scipy.ndimage.filters import maximum_filter, minimum_filter\n"
     ]
    },
    {
     "name": "stdout",
     "output_type": "stream",
     "text": [
      "========================================================\n",
      "2022-05-29 1800 UTC F03 (Sun 2022-05-29 1500 MDT)\n",
      "Sun 2022-05-29 1500 MDT\n"
     ]
    },
    {
     "name": "stderr",
     "output_type": "stream",
     "text": [
      "/var/folders/0c/8xbkg06s6cz0yy2505h06nlm00017d/T/ipykernel_82026/3747094353.py:53: DeprecationWarning: Please use `maximum_filter` from the `scipy.ndimage` namespace, the `scipy.ndimage.filters` namespace is deprecated.\n",
      "  from scipy.ndimage.filters import maximum_filter, minimum_filter\n",
      "/var/folders/0c/8xbkg06s6cz0yy2505h06nlm00017d/T/ipykernel_82026/3747094353.py:53: DeprecationWarning: Please use `minimum_filter` from the `scipy.ndimage` namespace, the `scipy.ndimage.filters` namespace is deprecated.\n",
      "  from scipy.ndimage.filters import maximum_filter, minimum_filter\n"
     ]
    },
    {
     "name": "stdout",
     "output_type": "stream",
     "text": [
      "========================================================\n",
      "2022-05-29 1800 UTC F04 (Sun 2022-05-29 1600 MDT)\n",
      "Sun 2022-05-29 1800 MDT\n"
     ]
    },
    {
     "name": "stderr",
     "output_type": "stream",
     "text": [
      "/var/folders/0c/8xbkg06s6cz0yy2505h06nlm00017d/T/ipykernel_82026/3747094353.py:53: DeprecationWarning: Please use `maximum_filter` from the `scipy.ndimage` namespace, the `scipy.ndimage.filters` namespace is deprecated.\n",
      "  from scipy.ndimage.filters import maximum_filter, minimum_filter\n",
      "/var/folders/0c/8xbkg06s6cz0yy2505h06nlm00017d/T/ipykernel_82026/3747094353.py:53: DeprecationWarning: Please use `minimum_filter` from the `scipy.ndimage` namespace, the `scipy.ndimage.filters` namespace is deprecated.\n",
      "  from scipy.ndimage.filters import maximum_filter, minimum_filter\n"
     ]
    },
    {
     "name": "stdout",
     "output_type": "stream",
     "text": [
      "========================================================\n",
      "2022-05-29 1800 UTC F05 (Sun 2022-05-29 1700 MDT)\n",
      "Sun 2022-05-29 1800 MDT\n"
     ]
    },
    {
     "name": "stderr",
     "output_type": "stream",
     "text": [
      "/var/folders/0c/8xbkg06s6cz0yy2505h06nlm00017d/T/ipykernel_82026/3747094353.py:53: DeprecationWarning: Please use `maximum_filter` from the `scipy.ndimage` namespace, the `scipy.ndimage.filters` namespace is deprecated.\n",
      "  from scipy.ndimage.filters import maximum_filter, minimum_filter\n",
      "/var/folders/0c/8xbkg06s6cz0yy2505h06nlm00017d/T/ipykernel_82026/3747094353.py:53: DeprecationWarning: Please use `minimum_filter` from the `scipy.ndimage` namespace, the `scipy.ndimage.filters` namespace is deprecated.\n",
      "  from scipy.ndimage.filters import maximum_filter, minimum_filter\n"
     ]
    },
    {
     "name": "stdout",
     "output_type": "stream",
     "text": [
      "========================================================\n",
      "2022-05-29 1800 UTC F06 (Sun 2022-05-29 1800 MDT)\n",
      "Sun 2022-05-29 1800 MDT\n"
     ]
    },
    {
     "name": "stderr",
     "output_type": "stream",
     "text": [
      "/var/folders/0c/8xbkg06s6cz0yy2505h06nlm00017d/T/ipykernel_82026/3747094353.py:53: DeprecationWarning: Please use `maximum_filter` from the `scipy.ndimage` namespace, the `scipy.ndimage.filters` namespace is deprecated.\n",
      "  from scipy.ndimage.filters import maximum_filter, minimum_filter\n",
      "/var/folders/0c/8xbkg06s6cz0yy2505h06nlm00017d/T/ipykernel_82026/3747094353.py:53: DeprecationWarning: Please use `minimum_filter` from the `scipy.ndimage` namespace, the `scipy.ndimage.filters` namespace is deprecated.\n",
      "  from scipy.ndimage.filters import maximum_filter, minimum_filter\n"
     ]
    },
    {
     "name": "stdout",
     "output_type": "stream",
     "text": [
      "========================================================\n",
      "2022-05-29 1800 UTC F07 (Sun 2022-05-29 1900 MDT)\n",
      "Sun 2022-05-29 2100 MDT\n"
     ]
    },
    {
     "name": "stderr",
     "output_type": "stream",
     "text": [
      "/var/folders/0c/8xbkg06s6cz0yy2505h06nlm00017d/T/ipykernel_82026/3747094353.py:53: DeprecationWarning: Please use `maximum_filter` from the `scipy.ndimage` namespace, the `scipy.ndimage.filters` namespace is deprecated.\n",
      "  from scipy.ndimage.filters import maximum_filter, minimum_filter\n",
      "/var/folders/0c/8xbkg06s6cz0yy2505h06nlm00017d/T/ipykernel_82026/3747094353.py:53: DeprecationWarning: Please use `minimum_filter` from the `scipy.ndimage` namespace, the `scipy.ndimage.filters` namespace is deprecated.\n",
      "  from scipy.ndimage.filters import maximum_filter, minimum_filter\n"
     ]
    },
    {
     "name": "stdout",
     "output_type": "stream",
     "text": [
      "========================================================\n",
      "2022-05-29 1800 UTC F08 (Sun 2022-05-29 2000 MDT)\n",
      "Sun 2022-05-29 2100 MDT\n"
     ]
    },
    {
     "name": "stderr",
     "output_type": "stream",
     "text": [
      "/var/folders/0c/8xbkg06s6cz0yy2505h06nlm00017d/T/ipykernel_82026/3747094353.py:53: DeprecationWarning: Please use `maximum_filter` from the `scipy.ndimage` namespace, the `scipy.ndimage.filters` namespace is deprecated.\n",
      "  from scipy.ndimage.filters import maximum_filter, minimum_filter\n",
      "/var/folders/0c/8xbkg06s6cz0yy2505h06nlm00017d/T/ipykernel_82026/3747094353.py:53: DeprecationWarning: Please use `minimum_filter` from the `scipy.ndimage` namespace, the `scipy.ndimage.filters` namespace is deprecated.\n",
      "  from scipy.ndimage.filters import maximum_filter, minimum_filter\n"
     ]
    },
    {
     "name": "stdout",
     "output_type": "stream",
     "text": [
      "========================================================\n",
      "2022-05-29 1800 UTC F09 (Sun 2022-05-29 2100 MDT)\n",
      "Sun 2022-05-29 2100 MDT\n"
     ]
    },
    {
     "name": "stderr",
     "output_type": "stream",
     "text": [
      "/var/folders/0c/8xbkg06s6cz0yy2505h06nlm00017d/T/ipykernel_82026/3747094353.py:53: DeprecationWarning: Please use `maximum_filter` from the `scipy.ndimage` namespace, the `scipy.ndimage.filters` namespace is deprecated.\n",
      "  from scipy.ndimage.filters import maximum_filter, minimum_filter\n",
      "/var/folders/0c/8xbkg06s6cz0yy2505h06nlm00017d/T/ipykernel_82026/3747094353.py:53: DeprecationWarning: Please use `minimum_filter` from the `scipy.ndimage` namespace, the `scipy.ndimage.filters` namespace is deprecated.\n",
      "  from scipy.ndimage.filters import maximum_filter, minimum_filter\n"
     ]
    },
    {
     "name": "stdout",
     "output_type": "stream",
     "text": [
      "========================================================\n",
      "2022-05-29 1800 UTC F10 (Sun 2022-05-29 2200 MDT)\n",
      "Mon 2022-05-30 0000 MDT\n"
     ]
    },
    {
     "name": "stderr",
     "output_type": "stream",
     "text": [
      "/var/folders/0c/8xbkg06s6cz0yy2505h06nlm00017d/T/ipykernel_82026/3747094353.py:53: DeprecationWarning: Please use `maximum_filter` from the `scipy.ndimage` namespace, the `scipy.ndimage.filters` namespace is deprecated.\n",
      "  from scipy.ndimage.filters import maximum_filter, minimum_filter\n",
      "/var/folders/0c/8xbkg06s6cz0yy2505h06nlm00017d/T/ipykernel_82026/3747094353.py:53: DeprecationWarning: Please use `minimum_filter` from the `scipy.ndimage` namespace, the `scipy.ndimage.filters` namespace is deprecated.\n",
      "  from scipy.ndimage.filters import maximum_filter, minimum_filter\n"
     ]
    },
    {
     "name": "stdout",
     "output_type": "stream",
     "text": [
      "========================================================\n",
      "2022-05-29 1800 UTC F11 (Sun 2022-05-29 2300 MDT)\n",
      "Mon 2022-05-30 0000 MDT\n"
     ]
    },
    {
     "name": "stderr",
     "output_type": "stream",
     "text": [
      "/var/folders/0c/8xbkg06s6cz0yy2505h06nlm00017d/T/ipykernel_82026/3747094353.py:53: DeprecationWarning: Please use `maximum_filter` from the `scipy.ndimage` namespace, the `scipy.ndimage.filters` namespace is deprecated.\n",
      "  from scipy.ndimage.filters import maximum_filter, minimum_filter\n",
      "/var/folders/0c/8xbkg06s6cz0yy2505h06nlm00017d/T/ipykernel_82026/3747094353.py:53: DeprecationWarning: Please use `minimum_filter` from the `scipy.ndimage` namespace, the `scipy.ndimage.filters` namespace is deprecated.\n",
      "  from scipy.ndimage.filters import maximum_filter, minimum_filter\n"
     ]
    },
    {
     "name": "stdout",
     "output_type": "stream",
     "text": [
      "========================================================\n",
      "2022-05-29 1800 UTC F12 (Mon 2022-05-30 0000 MDT)\n",
      "Mon 2022-05-30 0000 MDT\n"
     ]
    },
    {
     "name": "stderr",
     "output_type": "stream",
     "text": [
      "/var/folders/0c/8xbkg06s6cz0yy2505h06nlm00017d/T/ipykernel_82026/3747094353.py:53: DeprecationWarning: Please use `maximum_filter` from the `scipy.ndimage` namespace, the `scipy.ndimage.filters` namespace is deprecated.\n",
      "  from scipy.ndimage.filters import maximum_filter, minimum_filter\n",
      "/var/folders/0c/8xbkg06s6cz0yy2505h06nlm00017d/T/ipykernel_82026/3747094353.py:53: DeprecationWarning: Please use `minimum_filter` from the `scipy.ndimage` namespace, the `scipy.ndimage.filters` namespace is deprecated.\n",
      "  from scipy.ndimage.filters import maximum_filter, minimum_filter\n"
     ]
    },
    {
     "name": "stdout",
     "output_type": "stream",
     "text": [
      "========================================================\n",
      "2022-05-29 1800 UTC F13 (Mon 2022-05-30 0100 MDT)\n",
      "Mon 2022-05-30 0300 MDT\n"
     ]
    },
    {
     "name": "stderr",
     "output_type": "stream",
     "text": [
      "/var/folders/0c/8xbkg06s6cz0yy2505h06nlm00017d/T/ipykernel_82026/3747094353.py:53: DeprecationWarning: Please use `maximum_filter` from the `scipy.ndimage` namespace, the `scipy.ndimage.filters` namespace is deprecated.\n",
      "  from scipy.ndimage.filters import maximum_filter, minimum_filter\n",
      "/var/folders/0c/8xbkg06s6cz0yy2505h06nlm00017d/T/ipykernel_82026/3747094353.py:53: DeprecationWarning: Please use `minimum_filter` from the `scipy.ndimage` namespace, the `scipy.ndimage.filters` namespace is deprecated.\n",
      "  from scipy.ndimage.filters import maximum_filter, minimum_filter\n"
     ]
    },
    {
     "name": "stdout",
     "output_type": "stream",
     "text": [
      "========================================================\n",
      "2022-05-29 1800 UTC F14 (Mon 2022-05-30 0200 MDT)\n",
      "Mon 2022-05-30 0300 MDT\n"
     ]
    },
    {
     "name": "stderr",
     "output_type": "stream",
     "text": [
      "/var/folders/0c/8xbkg06s6cz0yy2505h06nlm00017d/T/ipykernel_82026/3747094353.py:53: DeprecationWarning: Please use `maximum_filter` from the `scipy.ndimage` namespace, the `scipy.ndimage.filters` namespace is deprecated.\n",
      "  from scipy.ndimage.filters import maximum_filter, minimum_filter\n",
      "/var/folders/0c/8xbkg06s6cz0yy2505h06nlm00017d/T/ipykernel_82026/3747094353.py:53: DeprecationWarning: Please use `minimum_filter` from the `scipy.ndimage` namespace, the `scipy.ndimage.filters` namespace is deprecated.\n",
      "  from scipy.ndimage.filters import maximum_filter, minimum_filter\n"
     ]
    },
    {
     "name": "stdout",
     "output_type": "stream",
     "text": [
      "========================================================\n",
      "2022-05-29 1800 UTC F15 (Mon 2022-05-30 0300 MDT)\n",
      "Mon 2022-05-30 0300 MDT\n"
     ]
    },
    {
     "name": "stderr",
     "output_type": "stream",
     "text": [
      "/var/folders/0c/8xbkg06s6cz0yy2505h06nlm00017d/T/ipykernel_82026/3747094353.py:53: DeprecationWarning: Please use `maximum_filter` from the `scipy.ndimage` namespace, the `scipy.ndimage.filters` namespace is deprecated.\n",
      "  from scipy.ndimage.filters import maximum_filter, minimum_filter\n",
      "/var/folders/0c/8xbkg06s6cz0yy2505h06nlm00017d/T/ipykernel_82026/3747094353.py:53: DeprecationWarning: Please use `minimum_filter` from the `scipy.ndimage` namespace, the `scipy.ndimage.filters` namespace is deprecated.\n",
      "  from scipy.ndimage.filters import maximum_filter, minimum_filter\n"
     ]
    },
    {
     "name": "stdout",
     "output_type": "stream",
     "text": [
      "========================================================\n",
      "2022-05-29 1800 UTC F16 (Mon 2022-05-30 0400 MDT)\n",
      "Mon 2022-05-30 0600 MDT\n"
     ]
    },
    {
     "name": "stderr",
     "output_type": "stream",
     "text": [
      "/var/folders/0c/8xbkg06s6cz0yy2505h06nlm00017d/T/ipykernel_82026/3747094353.py:53: DeprecationWarning: Please use `maximum_filter` from the `scipy.ndimage` namespace, the `scipy.ndimage.filters` namespace is deprecated.\n",
      "  from scipy.ndimage.filters import maximum_filter, minimum_filter\n",
      "/var/folders/0c/8xbkg06s6cz0yy2505h06nlm00017d/T/ipykernel_82026/3747094353.py:53: DeprecationWarning: Please use `minimum_filter` from the `scipy.ndimage` namespace, the `scipy.ndimage.filters` namespace is deprecated.\n",
      "  from scipy.ndimage.filters import maximum_filter, minimum_filter\n"
     ]
    },
    {
     "name": "stdout",
     "output_type": "stream",
     "text": [
      "========================================================\n",
      "2022-05-29 1800 UTC F17 (Mon 2022-05-30 0500 MDT)\n",
      "Mon 2022-05-30 0600 MDT\n"
     ]
    },
    {
     "name": "stderr",
     "output_type": "stream",
     "text": [
      "/var/folders/0c/8xbkg06s6cz0yy2505h06nlm00017d/T/ipykernel_82026/3747094353.py:53: DeprecationWarning: Please use `maximum_filter` from the `scipy.ndimage` namespace, the `scipy.ndimage.filters` namespace is deprecated.\n",
      "  from scipy.ndimage.filters import maximum_filter, minimum_filter\n",
      "/var/folders/0c/8xbkg06s6cz0yy2505h06nlm00017d/T/ipykernel_82026/3747094353.py:53: DeprecationWarning: Please use `minimum_filter` from the `scipy.ndimage` namespace, the `scipy.ndimage.filters` namespace is deprecated.\n",
      "  from scipy.ndimage.filters import maximum_filter, minimum_filter\n"
     ]
    },
    {
     "name": "stdout",
     "output_type": "stream",
     "text": [
      "========================================================\n",
      "2022-05-29 1800 UTC F18 (Mon 2022-05-30 0600 MDT)\n",
      "Mon 2022-05-30 0600 MDT\n"
     ]
    },
    {
     "name": "stderr",
     "output_type": "stream",
     "text": [
      "/var/folders/0c/8xbkg06s6cz0yy2505h06nlm00017d/T/ipykernel_82026/3747094353.py:53: DeprecationWarning: Please use `maximum_filter` from the `scipy.ndimage` namespace, the `scipy.ndimage.filters` namespace is deprecated.\n",
      "  from scipy.ndimage.filters import maximum_filter, minimum_filter\n",
      "/var/folders/0c/8xbkg06s6cz0yy2505h06nlm00017d/T/ipykernel_82026/3747094353.py:53: DeprecationWarning: Please use `minimum_filter` from the `scipy.ndimage` namespace, the `scipy.ndimage.filters` namespace is deprecated.\n",
      "  from scipy.ndimage.filters import maximum_filter, minimum_filter\n"
     ]
    },
    {
     "name": "stdout",
     "output_type": "stream",
     "text": [
      "========================================================\n",
      "2022-05-29 1800 UTC F19 (Mon 2022-05-30 0700 MDT)\n",
      "Mon 2022-05-30 0900 MDT\n"
     ]
    },
    {
     "name": "stderr",
     "output_type": "stream",
     "text": [
      "/var/folders/0c/8xbkg06s6cz0yy2505h06nlm00017d/T/ipykernel_82026/3747094353.py:53: DeprecationWarning: Please use `maximum_filter` from the `scipy.ndimage` namespace, the `scipy.ndimage.filters` namespace is deprecated.\n",
      "  from scipy.ndimage.filters import maximum_filter, minimum_filter\n",
      "/var/folders/0c/8xbkg06s6cz0yy2505h06nlm00017d/T/ipykernel_82026/3747094353.py:53: DeprecationWarning: Please use `minimum_filter` from the `scipy.ndimage` namespace, the `scipy.ndimage.filters` namespace is deprecated.\n",
      "  from scipy.ndimage.filters import maximum_filter, minimum_filter\n"
     ]
    },
    {
     "name": "stdout",
     "output_type": "stream",
     "text": [
      "========================================================\n",
      "2022-05-29 1800 UTC F20 (Mon 2022-05-30 0800 MDT)\n",
      "Mon 2022-05-30 0900 MDT\n"
     ]
    },
    {
     "name": "stderr",
     "output_type": "stream",
     "text": [
      "/var/folders/0c/8xbkg06s6cz0yy2505h06nlm00017d/T/ipykernel_82026/3747094353.py:53: DeprecationWarning: Please use `maximum_filter` from the `scipy.ndimage` namespace, the `scipy.ndimage.filters` namespace is deprecated.\n",
      "  from scipy.ndimage.filters import maximum_filter, minimum_filter\n",
      "/var/folders/0c/8xbkg06s6cz0yy2505h06nlm00017d/T/ipykernel_82026/3747094353.py:53: DeprecationWarning: Please use `minimum_filter` from the `scipy.ndimage` namespace, the `scipy.ndimage.filters` namespace is deprecated.\n",
      "  from scipy.ndimage.filters import maximum_filter, minimum_filter\n"
     ]
    },
    {
     "name": "stdout",
     "output_type": "stream",
     "text": [
      "========================================================\n",
      "2022-05-29 1800 UTC F21 (Mon 2022-05-30 0900 MDT)\n",
      "Mon 2022-05-30 0900 MDT\n"
     ]
    },
    {
     "name": "stderr",
     "output_type": "stream",
     "text": [
      "/var/folders/0c/8xbkg06s6cz0yy2505h06nlm00017d/T/ipykernel_82026/3747094353.py:53: DeprecationWarning: Please use `maximum_filter` from the `scipy.ndimage` namespace, the `scipy.ndimage.filters` namespace is deprecated.\n",
      "  from scipy.ndimage.filters import maximum_filter, minimum_filter\n",
      "/var/folders/0c/8xbkg06s6cz0yy2505h06nlm00017d/T/ipykernel_82026/3747094353.py:53: DeprecationWarning: Please use `minimum_filter` from the `scipy.ndimage` namespace, the `scipy.ndimage.filters` namespace is deprecated.\n",
      "  from scipy.ndimage.filters import maximum_filter, minimum_filter\n"
     ]
    },
    {
     "name": "stdout",
     "output_type": "stream",
     "text": [
      "========================================================\n",
      "2022-05-29 1800 UTC F22 (Mon 2022-05-30 1000 MDT)\n",
      "Mon 2022-05-30 1200 MDT\n"
     ]
    },
    {
     "name": "stderr",
     "output_type": "stream",
     "text": [
      "/var/folders/0c/8xbkg06s6cz0yy2505h06nlm00017d/T/ipykernel_82026/3747094353.py:53: DeprecationWarning: Please use `maximum_filter` from the `scipy.ndimage` namespace, the `scipy.ndimage.filters` namespace is deprecated.\n",
      "  from scipy.ndimage.filters import maximum_filter, minimum_filter\n",
      "/var/folders/0c/8xbkg06s6cz0yy2505h06nlm00017d/T/ipykernel_82026/3747094353.py:53: DeprecationWarning: Please use `minimum_filter` from the `scipy.ndimage` namespace, the `scipy.ndimage.filters` namespace is deprecated.\n",
      "  from scipy.ndimage.filters import maximum_filter, minimum_filter\n"
     ]
    },
    {
     "name": "stdout",
     "output_type": "stream",
     "text": [
      "========================================================\n",
      "2022-05-29 1800 UTC F23 (Mon 2022-05-30 1100 MDT)\n",
      "Mon 2022-05-30 1200 MDT\n"
     ]
    },
    {
     "name": "stderr",
     "output_type": "stream",
     "text": [
      "/var/folders/0c/8xbkg06s6cz0yy2505h06nlm00017d/T/ipykernel_82026/3747094353.py:53: DeprecationWarning: Please use `maximum_filter` from the `scipy.ndimage` namespace, the `scipy.ndimage.filters` namespace is deprecated.\n",
      "  from scipy.ndimage.filters import maximum_filter, minimum_filter\n",
      "/var/folders/0c/8xbkg06s6cz0yy2505h06nlm00017d/T/ipykernel_82026/3747094353.py:53: DeprecationWarning: Please use `minimum_filter` from the `scipy.ndimage` namespace, the `scipy.ndimage.filters` namespace is deprecated.\n",
      "  from scipy.ndimage.filters import maximum_filter, minimum_filter\n"
     ]
    },
    {
     "name": "stdout",
     "output_type": "stream",
     "text": [
      "========================================================\n",
      "2022-05-29 1800 UTC F24 (Mon 2022-05-30 1200 MDT)\n",
      "Mon 2022-05-30 1200 MDT\n"
     ]
    },
    {
     "name": "stderr",
     "output_type": "stream",
     "text": [
      "/var/folders/0c/8xbkg06s6cz0yy2505h06nlm00017d/T/ipykernel_82026/3747094353.py:53: DeprecationWarning: Please use `maximum_filter` from the `scipy.ndimage` namespace, the `scipy.ndimage.filters` namespace is deprecated.\n",
      "  from scipy.ndimage.filters import maximum_filter, minimum_filter\n",
      "/var/folders/0c/8xbkg06s6cz0yy2505h06nlm00017d/T/ipykernel_82026/3747094353.py:53: DeprecationWarning: Please use `minimum_filter` from the `scipy.ndimage` namespace, the `scipy.ndimage.filters` namespace is deprecated.\n",
      "  from scipy.ndimage.filters import maximum_filter, minimum_filter\n"
     ]
    },
    {
     "name": "stdout",
     "output_type": "stream",
     "text": [
      "========================================================\n",
      "2022-05-29 1800 UTC F25 (Mon 2022-05-30 1300 MDT)\n",
      "Mon 2022-05-30 1500 MDT\n"
     ]
    },
    {
     "name": "stderr",
     "output_type": "stream",
     "text": [
      "/var/folders/0c/8xbkg06s6cz0yy2505h06nlm00017d/T/ipykernel_82026/3747094353.py:53: DeprecationWarning: Please use `maximum_filter` from the `scipy.ndimage` namespace, the `scipy.ndimage.filters` namespace is deprecated.\n",
      "  from scipy.ndimage.filters import maximum_filter, minimum_filter\n",
      "/var/folders/0c/8xbkg06s6cz0yy2505h06nlm00017d/T/ipykernel_82026/3747094353.py:53: DeprecationWarning: Please use `minimum_filter` from the `scipy.ndimage` namespace, the `scipy.ndimage.filters` namespace is deprecated.\n",
      "  from scipy.ndimage.filters import maximum_filter, minimum_filter\n"
     ]
    },
    {
     "name": "stdout",
     "output_type": "stream",
     "text": [
      "========================================================\n",
      "2022-05-29 1800 UTC F26 (Mon 2022-05-30 1400 MDT)\n",
      "Mon 2022-05-30 1500 MDT\n"
     ]
    },
    {
     "name": "stderr",
     "output_type": "stream",
     "text": [
      "/var/folders/0c/8xbkg06s6cz0yy2505h06nlm00017d/T/ipykernel_82026/3747094353.py:53: DeprecationWarning: Please use `maximum_filter` from the `scipy.ndimage` namespace, the `scipy.ndimage.filters` namespace is deprecated.\n",
      "  from scipy.ndimage.filters import maximum_filter, minimum_filter\n",
      "/var/folders/0c/8xbkg06s6cz0yy2505h06nlm00017d/T/ipykernel_82026/3747094353.py:53: DeprecationWarning: Please use `minimum_filter` from the `scipy.ndimage` namespace, the `scipy.ndimage.filters` namespace is deprecated.\n",
      "  from scipy.ndimage.filters import maximum_filter, minimum_filter\n"
     ]
    },
    {
     "name": "stdout",
     "output_type": "stream",
     "text": [
      "========================================================\n",
      "2022-05-29 1800 UTC F27 (Mon 2022-05-30 1500 MDT)\n",
      "Mon 2022-05-30 1500 MDT\n"
     ]
    },
    {
     "name": "stderr",
     "output_type": "stream",
     "text": [
      "/var/folders/0c/8xbkg06s6cz0yy2505h06nlm00017d/T/ipykernel_82026/3747094353.py:53: DeprecationWarning: Please use `maximum_filter` from the `scipy.ndimage` namespace, the `scipy.ndimage.filters` namespace is deprecated.\n",
      "  from scipy.ndimage.filters import maximum_filter, minimum_filter\n",
      "/var/folders/0c/8xbkg06s6cz0yy2505h06nlm00017d/T/ipykernel_82026/3747094353.py:53: DeprecationWarning: Please use `minimum_filter` from the `scipy.ndimage` namespace, the `scipy.ndimage.filters` namespace is deprecated.\n",
      "  from scipy.ndimage.filters import maximum_filter, minimum_filter\n"
     ]
    },
    {
     "name": "stdout",
     "output_type": "stream",
     "text": [
      "========================================================\n",
      "2022-05-29 1800 UTC F28 (Mon 2022-05-30 1600 MDT)\n",
      "Mon 2022-05-30 1800 MDT\n"
     ]
    },
    {
     "name": "stderr",
     "output_type": "stream",
     "text": [
      "/var/folders/0c/8xbkg06s6cz0yy2505h06nlm00017d/T/ipykernel_82026/3747094353.py:53: DeprecationWarning: Please use `maximum_filter` from the `scipy.ndimage` namespace, the `scipy.ndimage.filters` namespace is deprecated.\n",
      "  from scipy.ndimage.filters import maximum_filter, minimum_filter\n",
      "/var/folders/0c/8xbkg06s6cz0yy2505h06nlm00017d/T/ipykernel_82026/3747094353.py:53: DeprecationWarning: Please use `minimum_filter` from the `scipy.ndimage` namespace, the `scipy.ndimage.filters` namespace is deprecated.\n",
      "  from scipy.ndimage.filters import maximum_filter, minimum_filter\n"
     ]
    },
    {
     "name": "stdout",
     "output_type": "stream",
     "text": [
      "========================================================\n",
      "2022-05-29 1800 UTC F29 (Mon 2022-05-30 1700 MDT)\n",
      "Mon 2022-05-30 1800 MDT\n"
     ]
    },
    {
     "name": "stderr",
     "output_type": "stream",
     "text": [
      "/var/folders/0c/8xbkg06s6cz0yy2505h06nlm00017d/T/ipykernel_82026/3747094353.py:53: DeprecationWarning: Please use `maximum_filter` from the `scipy.ndimage` namespace, the `scipy.ndimage.filters` namespace is deprecated.\n",
      "  from scipy.ndimage.filters import maximum_filter, minimum_filter\n",
      "/var/folders/0c/8xbkg06s6cz0yy2505h06nlm00017d/T/ipykernel_82026/3747094353.py:53: DeprecationWarning: Please use `minimum_filter` from the `scipy.ndimage` namespace, the `scipy.ndimage.filters` namespace is deprecated.\n",
      "  from scipy.ndimage.filters import maximum_filter, minimum_filter\n"
     ]
    },
    {
     "name": "stdout",
     "output_type": "stream",
     "text": [
      "========================================================\n",
      "2022-05-29 1800 UTC F30 (Mon 2022-05-30 1800 MDT)\n",
      "Mon 2022-05-30 1800 MDT\n"
     ]
    },
    {
     "name": "stderr",
     "output_type": "stream",
     "text": [
      "/var/folders/0c/8xbkg06s6cz0yy2505h06nlm00017d/T/ipykernel_82026/3747094353.py:53: DeprecationWarning: Please use `maximum_filter` from the `scipy.ndimage` namespace, the `scipy.ndimage.filters` namespace is deprecated.\n",
      "  from scipy.ndimage.filters import maximum_filter, minimum_filter\n",
      "/var/folders/0c/8xbkg06s6cz0yy2505h06nlm00017d/T/ipykernel_82026/3747094353.py:53: DeprecationWarning: Please use `minimum_filter` from the `scipy.ndimage` namespace, the `scipy.ndimage.filters` namespace is deprecated.\n",
      "  from scipy.ndimage.filters import maximum_filter, minimum_filter\n"
     ]
    },
    {
     "name": "stdout",
     "output_type": "stream",
     "text": [
      "========================================================\n",
      "2022-05-29 1800 UTC F31 (Mon 2022-05-30 1900 MDT)\n",
      "Mon 2022-05-30 2100 MDT\n"
     ]
    },
    {
     "name": "stderr",
     "output_type": "stream",
     "text": [
      "/var/folders/0c/8xbkg06s6cz0yy2505h06nlm00017d/T/ipykernel_82026/3747094353.py:53: DeprecationWarning: Please use `maximum_filter` from the `scipy.ndimage` namespace, the `scipy.ndimage.filters` namespace is deprecated.\n",
      "  from scipy.ndimage.filters import maximum_filter, minimum_filter\n",
      "/var/folders/0c/8xbkg06s6cz0yy2505h06nlm00017d/T/ipykernel_82026/3747094353.py:53: DeprecationWarning: Please use `minimum_filter` from the `scipy.ndimage` namespace, the `scipy.ndimage.filters` namespace is deprecated.\n",
      "  from scipy.ndimage.filters import maximum_filter, minimum_filter\n"
     ]
    },
    {
     "name": "stdout",
     "output_type": "stream",
     "text": [
      "========================================================\n",
      "2022-05-29 1800 UTC F32 (Mon 2022-05-30 2000 MDT)\n",
      "Mon 2022-05-30 2100 MDT\n"
     ]
    },
    {
     "name": "stderr",
     "output_type": "stream",
     "text": [
      "/var/folders/0c/8xbkg06s6cz0yy2505h06nlm00017d/T/ipykernel_82026/3747094353.py:53: DeprecationWarning: Please use `maximum_filter` from the `scipy.ndimage` namespace, the `scipy.ndimage.filters` namespace is deprecated.\n",
      "  from scipy.ndimage.filters import maximum_filter, minimum_filter\n",
      "/var/folders/0c/8xbkg06s6cz0yy2505h06nlm00017d/T/ipykernel_82026/3747094353.py:53: DeprecationWarning: Please use `minimum_filter` from the `scipy.ndimage` namespace, the `scipy.ndimage.filters` namespace is deprecated.\n",
      "  from scipy.ndimage.filters import maximum_filter, minimum_filter\n"
     ]
    },
    {
     "name": "stdout",
     "output_type": "stream",
     "text": [
      "========================================================\n",
      "2022-05-29 1800 UTC F33 (Mon 2022-05-30 2100 MDT)\n",
      "Mon 2022-05-30 2100 MDT\n"
     ]
    },
    {
     "name": "stderr",
     "output_type": "stream",
     "text": [
      "/var/folders/0c/8xbkg06s6cz0yy2505h06nlm00017d/T/ipykernel_82026/3747094353.py:53: DeprecationWarning: Please use `maximum_filter` from the `scipy.ndimage` namespace, the `scipy.ndimage.filters` namespace is deprecated.\n",
      "  from scipy.ndimage.filters import maximum_filter, minimum_filter\n",
      "/var/folders/0c/8xbkg06s6cz0yy2505h06nlm00017d/T/ipykernel_82026/3747094353.py:53: DeprecationWarning: Please use `minimum_filter` from the `scipy.ndimage` namespace, the `scipy.ndimage.filters` namespace is deprecated.\n",
      "  from scipy.ndimage.filters import maximum_filter, minimum_filter\n"
     ]
    },
    {
     "name": "stdout",
     "output_type": "stream",
     "text": [
      "========================================================\n",
      "2022-05-29 1800 UTC F34 (Mon 2022-05-30 2200 MDT)\n",
      "Tue 2022-05-31 0000 MDT\n"
     ]
    },
    {
     "name": "stderr",
     "output_type": "stream",
     "text": [
      "/var/folders/0c/8xbkg06s6cz0yy2505h06nlm00017d/T/ipykernel_82026/3747094353.py:53: DeprecationWarning: Please use `maximum_filter` from the `scipy.ndimage` namespace, the `scipy.ndimage.filters` namespace is deprecated.\n",
      "  from scipy.ndimage.filters import maximum_filter, minimum_filter\n",
      "/var/folders/0c/8xbkg06s6cz0yy2505h06nlm00017d/T/ipykernel_82026/3747094353.py:53: DeprecationWarning: Please use `minimum_filter` from the `scipy.ndimage` namespace, the `scipy.ndimage.filters` namespace is deprecated.\n",
      "  from scipy.ndimage.filters import maximum_filter, minimum_filter\n"
     ]
    },
    {
     "name": "stdout",
     "output_type": "stream",
     "text": [
      "========================================================\n",
      "2022-05-29 1800 UTC F35 (Mon 2022-05-30 2300 MDT)\n",
      "Tue 2022-05-31 0000 MDT\n"
     ]
    },
    {
     "name": "stderr",
     "output_type": "stream",
     "text": [
      "/var/folders/0c/8xbkg06s6cz0yy2505h06nlm00017d/T/ipykernel_82026/3747094353.py:53: DeprecationWarning: Please use `maximum_filter` from the `scipy.ndimage` namespace, the `scipy.ndimage.filters` namespace is deprecated.\n",
      "  from scipy.ndimage.filters import maximum_filter, minimum_filter\n",
      "/var/folders/0c/8xbkg06s6cz0yy2505h06nlm00017d/T/ipykernel_82026/3747094353.py:53: DeprecationWarning: Please use `minimum_filter` from the `scipy.ndimage` namespace, the `scipy.ndimage.filters` namespace is deprecated.\n",
      "  from scipy.ndimage.filters import maximum_filter, minimum_filter\n"
     ]
    },
    {
     "name": "stdout",
     "output_type": "stream",
     "text": [
      "========================================================\n",
      "2022-05-29 1800 UTC F36 (Tue 2022-05-31 0000 MDT)\n",
      "Tue 2022-05-31 0000 MDT\n"
     ]
    },
    {
     "name": "stderr",
     "output_type": "stream",
     "text": [
      "/var/folders/0c/8xbkg06s6cz0yy2505h06nlm00017d/T/ipykernel_82026/3747094353.py:53: DeprecationWarning: Please use `maximum_filter` from the `scipy.ndimage` namespace, the `scipy.ndimage.filters` namespace is deprecated.\n",
      "  from scipy.ndimage.filters import maximum_filter, minimum_filter\n",
      "/var/folders/0c/8xbkg06s6cz0yy2505h06nlm00017d/T/ipykernel_82026/3747094353.py:53: DeprecationWarning: Please use `minimum_filter` from the `scipy.ndimage` namespace, the `scipy.ndimage.filters` namespace is deprecated.\n",
      "  from scipy.ndimage.filters import maximum_filter, minimum_filter\n"
     ]
    },
    {
     "name": "stdout",
     "output_type": "stream",
     "text": [
      "========================================================\n",
      "2022-05-29 1800 UTC F39 (Tue 2022-05-31 0300 MDT)\n",
      "Tue 2022-05-31 0300 MDT\n"
     ]
    },
    {
     "name": "stderr",
     "output_type": "stream",
     "text": [
      "/var/folders/0c/8xbkg06s6cz0yy2505h06nlm00017d/T/ipykernel_82026/3747094353.py:53: DeprecationWarning: Please use `maximum_filter` from the `scipy.ndimage` namespace, the `scipy.ndimage.filters` namespace is deprecated.\n",
      "  from scipy.ndimage.filters import maximum_filter, minimum_filter\n",
      "/var/folders/0c/8xbkg06s6cz0yy2505h06nlm00017d/T/ipykernel_82026/3747094353.py:53: DeprecationWarning: Please use `minimum_filter` from the `scipy.ndimage` namespace, the `scipy.ndimage.filters` namespace is deprecated.\n",
      "  from scipy.ndimage.filters import maximum_filter, minimum_filter\n"
     ]
    },
    {
     "name": "stdout",
     "output_type": "stream",
     "text": [
      "========================================================\n",
      "2022-05-29 1800 UTC F42 (Tue 2022-05-31 0600 MDT)\n",
      "Tue 2022-05-31 0600 MDT\n"
     ]
    },
    {
     "name": "stderr",
     "output_type": "stream",
     "text": [
      "/var/folders/0c/8xbkg06s6cz0yy2505h06nlm00017d/T/ipykernel_82026/3747094353.py:53: DeprecationWarning: Please use `maximum_filter` from the `scipy.ndimage` namespace, the `scipy.ndimage.filters` namespace is deprecated.\n",
      "  from scipy.ndimage.filters import maximum_filter, minimum_filter\n",
      "/var/folders/0c/8xbkg06s6cz0yy2505h06nlm00017d/T/ipykernel_82026/3747094353.py:53: DeprecationWarning: Please use `minimum_filter` from the `scipy.ndimage` namespace, the `scipy.ndimage.filters` namespace is deprecated.\n",
      "  from scipy.ndimage.filters import maximum_filter, minimum_filter\n"
     ]
    },
    {
     "name": "stdout",
     "output_type": "stream",
     "text": [
      "========================================================\n",
      "2022-05-29 1800 UTC F45 (Tue 2022-05-31 0900 MDT)\n",
      "Tue 2022-05-31 0900 MDT\n"
     ]
    },
    {
     "name": "stderr",
     "output_type": "stream",
     "text": [
      "/var/folders/0c/8xbkg06s6cz0yy2505h06nlm00017d/T/ipykernel_82026/3747094353.py:53: DeprecationWarning: Please use `maximum_filter` from the `scipy.ndimage` namespace, the `scipy.ndimage.filters` namespace is deprecated.\n",
      "  from scipy.ndimage.filters import maximum_filter, minimum_filter\n",
      "/var/folders/0c/8xbkg06s6cz0yy2505h06nlm00017d/T/ipykernel_82026/3747094353.py:53: DeprecationWarning: Please use `minimum_filter` from the `scipy.ndimage` namespace, the `scipy.ndimage.filters` namespace is deprecated.\n",
      "  from scipy.ndimage.filters import maximum_filter, minimum_filter\n"
     ]
    },
    {
     "name": "stdout",
     "output_type": "stream",
     "text": [
      "========================================================\n",
      "2022-05-29 1800 UTC F48 (Tue 2022-05-31 1200 MDT)\n",
      "Tue 2022-05-31 1200 MDT\n"
     ]
    },
    {
     "name": "stderr",
     "output_type": "stream",
     "text": [
      "/var/folders/0c/8xbkg06s6cz0yy2505h06nlm00017d/T/ipykernel_82026/3747094353.py:53: DeprecationWarning: Please use `maximum_filter` from the `scipy.ndimage` namespace, the `scipy.ndimage.filters` namespace is deprecated.\n",
      "  from scipy.ndimage.filters import maximum_filter, minimum_filter\n",
      "/var/folders/0c/8xbkg06s6cz0yy2505h06nlm00017d/T/ipykernel_82026/3747094353.py:53: DeprecationWarning: Please use `minimum_filter` from the `scipy.ndimage` namespace, the `scipy.ndimage.filters` namespace is deprecated.\n",
      "  from scipy.ndimage.filters import maximum_filter, minimum_filter\n"
     ]
    },
    {
     "name": "stdout",
     "output_type": "stream",
     "text": [
      "========================================================\n",
      "2022-05-29 1800 UTC F51 (Tue 2022-05-31 1500 MDT)\n",
      "Tue 2022-05-31 1500 MDT\n"
     ]
    },
    {
     "name": "stderr",
     "output_type": "stream",
     "text": [
      "/var/folders/0c/8xbkg06s6cz0yy2505h06nlm00017d/T/ipykernel_82026/3747094353.py:53: DeprecationWarning: Please use `maximum_filter` from the `scipy.ndimage` namespace, the `scipy.ndimage.filters` namespace is deprecated.\n",
      "  from scipy.ndimage.filters import maximum_filter, minimum_filter\n",
      "/var/folders/0c/8xbkg06s6cz0yy2505h06nlm00017d/T/ipykernel_82026/3747094353.py:53: DeprecationWarning: Please use `minimum_filter` from the `scipy.ndimage` namespace, the `scipy.ndimage.filters` namespace is deprecated.\n",
      "  from scipy.ndimage.filters import maximum_filter, minimum_filter\n"
     ]
    },
    {
     "name": "stdout",
     "output_type": "stream",
     "text": [
      "========================================================\n",
      "2022-05-29 1800 UTC F54 (Tue 2022-05-31 1800 MDT)\n",
      "Tue 2022-05-31 1800 MDT\n"
     ]
    },
    {
     "name": "stderr",
     "output_type": "stream",
     "text": [
      "/var/folders/0c/8xbkg06s6cz0yy2505h06nlm00017d/T/ipykernel_82026/3747094353.py:53: DeprecationWarning: Please use `maximum_filter` from the `scipy.ndimage` namespace, the `scipy.ndimage.filters` namespace is deprecated.\n",
      "  from scipy.ndimage.filters import maximum_filter, minimum_filter\n",
      "/var/folders/0c/8xbkg06s6cz0yy2505h06nlm00017d/T/ipykernel_82026/3747094353.py:53: DeprecationWarning: Please use `minimum_filter` from the `scipy.ndimage` namespace, the `scipy.ndimage.filters` namespace is deprecated.\n",
      "  from scipy.ndimage.filters import maximum_filter, minimum_filter\n"
     ]
    },
    {
     "name": "stdout",
     "output_type": "stream",
     "text": [
      "========================================================\n",
      "2022-05-29 1800 UTC F57 (Tue 2022-05-31 2100 MDT)\n",
      "Tue 2022-05-31 2100 MDT\n"
     ]
    },
    {
     "name": "stderr",
     "output_type": "stream",
     "text": [
      "/var/folders/0c/8xbkg06s6cz0yy2505h06nlm00017d/T/ipykernel_82026/3747094353.py:53: DeprecationWarning: Please use `maximum_filter` from the `scipy.ndimage` namespace, the `scipy.ndimage.filters` namespace is deprecated.\n",
      "  from scipy.ndimage.filters import maximum_filter, minimum_filter\n",
      "/var/folders/0c/8xbkg06s6cz0yy2505h06nlm00017d/T/ipykernel_82026/3747094353.py:53: DeprecationWarning: Please use `minimum_filter` from the `scipy.ndimage` namespace, the `scipy.ndimage.filters` namespace is deprecated.\n",
      "  from scipy.ndimage.filters import maximum_filter, minimum_filter\n"
     ]
    },
    {
     "name": "stdout",
     "output_type": "stream",
     "text": [
      "========================================================\n",
      "2022-05-29 1800 UTC F60 (Wed 2022-06-01 0000 MDT)\n",
      "Wed 2022-06-01 0000 MDT\n"
     ]
    },
    {
     "name": "stderr",
     "output_type": "stream",
     "text": [
      "/var/folders/0c/8xbkg06s6cz0yy2505h06nlm00017d/T/ipykernel_82026/3747094353.py:53: DeprecationWarning: Please use `maximum_filter` from the `scipy.ndimage` namespace, the `scipy.ndimage.filters` namespace is deprecated.\n",
      "  from scipy.ndimage.filters import maximum_filter, minimum_filter\n",
      "/var/folders/0c/8xbkg06s6cz0yy2505h06nlm00017d/T/ipykernel_82026/3747094353.py:53: DeprecationWarning: Please use `minimum_filter` from the `scipy.ndimage` namespace, the `scipy.ndimage.filters` namespace is deprecated.\n",
      "  from scipy.ndimage.filters import maximum_filter, minimum_filter\n"
     ]
    },
    {
     "name": "stdout",
     "output_type": "stream",
     "text": [
      "========================================================\n",
      "2022-05-29 1800 UTC F63 (Wed 2022-06-01 0300 MDT)\n",
      "Wed 2022-06-01 0300 MDT\n"
     ]
    },
    {
     "name": "stderr",
     "output_type": "stream",
     "text": [
      "/var/folders/0c/8xbkg06s6cz0yy2505h06nlm00017d/T/ipykernel_82026/3747094353.py:53: DeprecationWarning: Please use `maximum_filter` from the `scipy.ndimage` namespace, the `scipy.ndimage.filters` namespace is deprecated.\n",
      "  from scipy.ndimage.filters import maximum_filter, minimum_filter\n",
      "/var/folders/0c/8xbkg06s6cz0yy2505h06nlm00017d/T/ipykernel_82026/3747094353.py:53: DeprecationWarning: Please use `minimum_filter` from the `scipy.ndimage` namespace, the `scipy.ndimage.filters` namespace is deprecated.\n",
      "  from scipy.ndimage.filters import maximum_filter, minimum_filter\n"
     ]
    },
    {
     "name": "stdout",
     "output_type": "stream",
     "text": [
      "========================================================\n",
      "2022-05-29 1800 UTC F66 (Wed 2022-06-01 0600 MDT)\n",
      "Wed 2022-06-01 0600 MDT\n"
     ]
    },
    {
     "name": "stderr",
     "output_type": "stream",
     "text": [
      "/var/folders/0c/8xbkg06s6cz0yy2505h06nlm00017d/T/ipykernel_82026/3747094353.py:53: DeprecationWarning: Please use `maximum_filter` from the `scipy.ndimage` namespace, the `scipy.ndimage.filters` namespace is deprecated.\n",
      "  from scipy.ndimage.filters import maximum_filter, minimum_filter\n",
      "/var/folders/0c/8xbkg06s6cz0yy2505h06nlm00017d/T/ipykernel_82026/3747094353.py:53: DeprecationWarning: Please use `minimum_filter` from the `scipy.ndimage` namespace, the `scipy.ndimage.filters` namespace is deprecated.\n",
      "  from scipy.ndimage.filters import maximum_filter, minimum_filter\n"
     ]
    },
    {
     "name": "stdout",
     "output_type": "stream",
     "text": [
      "========================================================\n",
      "2022-05-29 1800 UTC F69 (Wed 2022-06-01 0900 MDT)\n",
      "Wed 2022-06-01 0900 MDT\n"
     ]
    },
    {
     "name": "stderr",
     "output_type": "stream",
     "text": [
      "/var/folders/0c/8xbkg06s6cz0yy2505h06nlm00017d/T/ipykernel_82026/3747094353.py:53: DeprecationWarning: Please use `maximum_filter` from the `scipy.ndimage` namespace, the `scipy.ndimage.filters` namespace is deprecated.\n",
      "  from scipy.ndimage.filters import maximum_filter, minimum_filter\n",
      "/var/folders/0c/8xbkg06s6cz0yy2505h06nlm00017d/T/ipykernel_82026/3747094353.py:53: DeprecationWarning: Please use `minimum_filter` from the `scipy.ndimage` namespace, the `scipy.ndimage.filters` namespace is deprecated.\n",
      "  from scipy.ndimage.filters import maximum_filter, minimum_filter\n"
     ]
    },
    {
     "name": "stdout",
     "output_type": "stream",
     "text": [
      "========================================================\n",
      "2022-05-29 1800 UTC F72 (Wed 2022-06-01 1200 MDT)\n",
      "Wed 2022-06-01 1200 MDT\n"
     ]
    },
    {
     "name": "stderr",
     "output_type": "stream",
     "text": [
      "/var/folders/0c/8xbkg06s6cz0yy2505h06nlm00017d/T/ipykernel_82026/3747094353.py:53: DeprecationWarning: Please use `maximum_filter` from the `scipy.ndimage` namespace, the `scipy.ndimage.filters` namespace is deprecated.\n",
      "  from scipy.ndimage.filters import maximum_filter, minimum_filter\n",
      "/var/folders/0c/8xbkg06s6cz0yy2505h06nlm00017d/T/ipykernel_82026/3747094353.py:53: DeprecationWarning: Please use `minimum_filter` from the `scipy.ndimage` namespace, the `scipy.ndimage.filters` namespace is deprecated.\n",
      "  from scipy.ndimage.filters import maximum_filter, minimum_filter\n"
     ]
    },
    {
     "name": "stdout",
     "output_type": "stream",
     "text": [
      "========================================================\n",
      "2022-05-29 1800 UTC F75 (Wed 2022-06-01 1500 MDT)\n",
      "Wed 2022-06-01 1500 MDT\n"
     ]
    },
    {
     "name": "stderr",
     "output_type": "stream",
     "text": [
      "/var/folders/0c/8xbkg06s6cz0yy2505h06nlm00017d/T/ipykernel_82026/3747094353.py:53: DeprecationWarning: Please use `maximum_filter` from the `scipy.ndimage` namespace, the `scipy.ndimage.filters` namespace is deprecated.\n",
      "  from scipy.ndimage.filters import maximum_filter, minimum_filter\n",
      "/var/folders/0c/8xbkg06s6cz0yy2505h06nlm00017d/T/ipykernel_82026/3747094353.py:53: DeprecationWarning: Please use `minimum_filter` from the `scipy.ndimage` namespace, the `scipy.ndimage.filters` namespace is deprecated.\n",
      "  from scipy.ndimage.filters import maximum_filter, minimum_filter\n"
     ]
    },
    {
     "name": "stdout",
     "output_type": "stream",
     "text": [
      "========================================================\n",
      "2022-05-29 1800 UTC F78 (Wed 2022-06-01 1800 MDT)\n",
      "Wed 2022-06-01 1800 MDT\n"
     ]
    },
    {
     "name": "stderr",
     "output_type": "stream",
     "text": [
      "/var/folders/0c/8xbkg06s6cz0yy2505h06nlm00017d/T/ipykernel_82026/3747094353.py:53: DeprecationWarning: Please use `maximum_filter` from the `scipy.ndimage` namespace, the `scipy.ndimage.filters` namespace is deprecated.\n",
      "  from scipy.ndimage.filters import maximum_filter, minimum_filter\n",
      "/var/folders/0c/8xbkg06s6cz0yy2505h06nlm00017d/T/ipykernel_82026/3747094353.py:53: DeprecationWarning: Please use `minimum_filter` from the `scipy.ndimage` namespace, the `scipy.ndimage.filters` namespace is deprecated.\n",
      "  from scipy.ndimage.filters import maximum_filter, minimum_filter\n"
     ]
    },
    {
     "name": "stdout",
     "output_type": "stream",
     "text": [
      "========================================================\n",
      "2022-05-29 1800 UTC F81 (Wed 2022-06-01 2100 MDT)\n",
      "Wed 2022-06-01 2100 MDT\n"
     ]
    },
    {
     "name": "stderr",
     "output_type": "stream",
     "text": [
      "/var/folders/0c/8xbkg06s6cz0yy2505h06nlm00017d/T/ipykernel_82026/3747094353.py:53: DeprecationWarning: Please use `maximum_filter` from the `scipy.ndimage` namespace, the `scipy.ndimage.filters` namespace is deprecated.\n",
      "  from scipy.ndimage.filters import maximum_filter, minimum_filter\n",
      "/var/folders/0c/8xbkg06s6cz0yy2505h06nlm00017d/T/ipykernel_82026/3747094353.py:53: DeprecationWarning: Please use `minimum_filter` from the `scipy.ndimage` namespace, the `scipy.ndimage.filters` namespace is deprecated.\n",
      "  from scipy.ndimage.filters import maximum_filter, minimum_filter\n"
     ]
    },
    {
     "name": "stdout",
     "output_type": "stream",
     "text": [
      "========================================================\n",
      "2022-05-29 1800 UTC F84 (Thu 2022-06-02 0000 MDT)\n",
      "Thu 2022-06-02 0000 MDT\n"
     ]
    },
    {
     "name": "stderr",
     "output_type": "stream",
     "text": [
      "/var/folders/0c/8xbkg06s6cz0yy2505h06nlm00017d/T/ipykernel_82026/3747094353.py:53: DeprecationWarning: Please use `maximum_filter` from the `scipy.ndimage` namespace, the `scipy.ndimage.filters` namespace is deprecated.\n",
      "  from scipy.ndimage.filters import maximum_filter, minimum_filter\n",
      "/var/folders/0c/8xbkg06s6cz0yy2505h06nlm00017d/T/ipykernel_82026/3747094353.py:53: DeprecationWarning: Please use `minimum_filter` from the `scipy.ndimage` namespace, the `scipy.ndimage.filters` namespace is deprecated.\n",
      "  from scipy.ndimage.filters import maximum_filter, minimum_filter\n"
     ]
    }
   ],
   "source": [
    "####################################################\n",
    "####################################################\n",
    "####################################################\n",
    "#\n",
    "# Plot Sample Map for Records\n",
    "#\n",
    "\n",
    "start_time = nam_model[\"reftime\"].values\n",
    "\n",
    "time_dim   = mslp.dims[0]\n",
    "times_utc  = mslp.coords[time_dim].to_numpy()\n",
    "fxx        = (times_utc-start_time)/ np.timedelta64(1, 'h')\n",
    "\n",
    "time_precip_dim    = precip.dims[0]\n",
    "times_precip_utc   = precip.coords[time_precip_dim].to_numpy()\n",
    "fpxx               = (times_precip_utc-start_time)/ np.timedelta64(1, 'h')\n",
    "\n",
    "rain_norm = mpl.colors.BoundaryNorm(boundaries = precip_levels_in, \n",
    "                                                ncolors    = 15)\n",
    "\n",
    "\n",
    "prec_i = 0\n",
    "\n",
    "prec_i_array = np.empty( len(times_utc) )\n",
    "\n",
    "total_slides = len(times_utc)\n",
    "\n",
    "\n",
    "frat_done = 0\n",
    "#for i in [0]: #range(len(times_utc)) :\n",
    "for i in range(len(times_utc)) :    \n",
    "    \n",
    "    print(\"========================================================\")\n",
    "    \n",
    "    plot_label = \"NOAA-NCEP North American Model Forecast\"\n",
    "\n",
    "    tz           = 'America/Denver'\n",
    "    time_utc     = times_utc[i]\n",
    "    valid_time   = pd.to_datetime(start_time).tz_localize(tz=\"UTC\").strftime(\"%Y-%m-%d %H00 %Z\")\n",
    "    local_time   = pd.to_datetime(times_utc[i]).tz_localize(tz=\"UTC\").tz_convert(tz=tz).strftime(\"%a %Y-%m-%d %H00 %Z\")\n",
    "    local_time_p = pd.to_datetime(times_precip_utc[prec_i]).tz_localize(tz=\"UTC\").tz_convert(tz=tz).strftime(\"%a %Y-%m-%d %H00 %Z\")\n",
    "\n",
    "    time_label  = valid_time + \" F\" + str(int( fxx[i]     )).zfill(2) + \" (\" + local_time   + \")\"\n",
    "    time_labelp = valid_time + \" P\" + str(int(fpxx[prec_i])).zfill(2) + \" (\" + local_time_p + \")\"\n",
    "\n",
    "\n",
    "\n",
    "    print(time_label)\n",
    "    print(local_time_p)\n",
    "    \n",
    "    #############################################################\n",
    "    \n",
    "    colorbar_aspect = 30\n",
    "    colorbar_shrink = 0.9\n",
    "    colorbar_pad    = 0.01\n",
    "\n",
    "\n",
    "\n",
    "\n",
    "    fig = plt.figure(figsize   = (9*2, 8*2), \n",
    "                     facecolor = 'white')\n",
    "    \n",
    "\n",
    "\n",
    "\n",
    "\n",
    "    #############################################################\n",
    "    \n",
    "    ax1 = fig.add_subplot(    2,     2,     1, \n",
    "                         projection = nam_crs)\n",
    "    \n",
    "    \n",
    "\n",
    "\n",
    "\n",
    "    ax1.coastlines(resolution = 'auto',\n",
    "                  linewidths =  0.75)\n",
    "\n",
    "\n",
    "    ax1.add_feature(cfeature.STATES.with_scale('110m'), \n",
    "                       linewidths = 0.5,\n",
    "                       facecolor  = 'none' , \n",
    "                       edgecolor  = 'black')\n",
    "    \n",
    "\n",
    "    contourf_levels = np.arange(start = -20,\n",
    "                                stop  =  21,\n",
    "                                step  =   1)\n",
    "\n",
    "    contourf_plot = vorticity_500[i,:,:].plot.contourf(cmap      = plt.cm.bwr,\n",
    "                                                       ax = ax1,\n",
    "                                                       extend   = 'both',\n",
    "                                                       levels    = contourf_levels,\n",
    "                                                       cbar_kwargs = {\"label\"       : \"\",\n",
    "                                                                       \"orientation\" : \"horizontal\",\n",
    "                                                                       \"pad\"         : colorbar_pad,\n",
    "                                                                       \"shrink\"      : colorbar_shrink,\n",
    "                                                                       \"aspect\"      :   colorbar_aspect})    \n",
    "    contour_levels = np.arange(480,612, 6)\n",
    "\n",
    "    contour_plot = heights_500[i,:,:].plot.contour(colors     = \"black\",\n",
    "                                                        ax = ax1,\n",
    "                                   linewidths = 1, \n",
    "                                    levels     = contour_levels)\n",
    "\n",
    "    ax1.clabel(contour_plot)\n",
    "    \n",
    "    ax1.annotate(r\"500-hPa Relative Vorticity [10$^{-5}$ s$^{-1}$]\", \n",
    "                 [0.5,-0.1], \n",
    "                 xycoords              = \"axes fraction\", \n",
    "                 fontsize              =              15, \n",
    "                 verticalalignment     =           \"top\",\n",
    "                 horizontalalignment   =        \"center\",\n",
    "                 backgroundcolor       =         \"white\",\n",
    "                 zorder                =           99999,\n",
    "                 bbox = dict(facecolor ='white',edgecolor =\"white\"))\n",
    "\n",
    "    ax1.annotate(\"(Contours are 500-hPa Isobaric Heights [dam])\", \n",
    "                 [0.5,-0.15], \n",
    "                 xycoords              = \"axes fraction\", \n",
    "                 fontsize              =              14, \n",
    "                 verticalalignment     =           \"top\",\n",
    "                 horizontalalignment   =        \"center\",\n",
    "                 backgroundcolor       =         \"white\",\n",
    "                 zorder                =           99999,\n",
    "                 bbox = dict(facecolor ='white',edgecolor =\"white\"))\n",
    "\n",
    "\n",
    "    #############################################################\n",
    "    \n",
    "    ax2 = fig.add_subplot(    2,     2,     2, \n",
    "                         projection = nam_crs)\n",
    "\n",
    "\n",
    "    ax2.coastlines(resolution = 'auto',\n",
    "                  linewidths =  0.75)\n",
    "\n",
    "\n",
    "    ax2.add_feature(cfeature.STATES.with_scale('110m'), \n",
    "                       linewidths = 0.5,\n",
    "                       facecolor  = 'none' , \n",
    "                       edgecolor  = 'black')\n",
    "    \n",
    "    contourf_levels = np.arange(start =  480,\n",
    "                                stop  =  613,\n",
    "                                step  =    6)\n",
    "\n",
    "    contourf_plot = thickness[i,:,:].plot.contourf(cmap        = plt.cm.turbo,\n",
    "                                                   ax=ax2,\n",
    "                                                   extend      = 'both',\n",
    "                                                   levels      = contourf_levels,\n",
    "                                                   cbar_kwargs = {\"label\"       : \"\",\"orientation\" : \"horizontal\",\"pad\"         : colorbar_pad,\"shrink\"      : colorbar_shrink,\"aspect\"      :   colorbar_aspect})    \n",
    "\n",
    "\n",
    "\n",
    "    contour_plot2 = thickness[i,:,:].plot.contour(colors     =        \"white\",\n",
    "                                                  ax=ax2,\n",
    "                                                  linewidths =           2.5,\n",
    "                                                  levels     = np.array([540]))\n",
    "\n",
    "\n",
    "    contour_plot3 = thickness[i,:,:].plot.contour(colors     =        \"white\",\n",
    "                                                  ax=ax2,\n",
    "                                                  linewidths =           0.75, \n",
    "                                                  levels     = contourf_levels)\n",
    "\n",
    "\n",
    "        \n",
    "    ax2.clabel(contour_plot2, fontsize=\"xx-large\")\n",
    "\n",
    "  \n",
    "    \n",
    "\n",
    "    \n",
    "    contour_levels = np.arange(start =  900, \n",
    "                               stop  = 1090, \n",
    "                               step  =    4)\n",
    "    \n",
    "    smoothed = mslp[i,:,:].copy()\n",
    "    \n",
    "    smoothed.values = ndimage.gaussian_filter( mslp[i,:,:].values, sigma=0.75, order=0)\n",
    "\n",
    "    contour_plot = smoothed[:,:].plot.contour(colors     =        \"black\",\n",
    "                                            linewidths =           0.75, \n",
    "                                            levels     = contour_levels)\n",
    "\n",
    "\n",
    "    ax2.clabel(contour_plot)\n",
    "\n",
    "    # Use definition to plot H/L symbols\n",
    "    plot_maxmin_points(lon2d, lat2d, smoothed, 'max', 50, symbol='H', color='k',  transform=ccrs.PlateCarree())\n",
    "    plot_maxmin_points(lon2d, lat2d, smoothed, 'min', 25, symbol='L', color='k', transform=ccrs.PlateCarree())\n",
    "\n",
    "    ax2.annotate(\"Color: 1000-500-hPa Thickness [dam]\", \n",
    "                 [0.5,-0.1], \n",
    "                 xycoords              = \"axes fraction\", \n",
    "                 fontsize              =              15, \n",
    "                 verticalalignment     =           \"top\",\n",
    "                 horizontalalignment   =        \"center\",\n",
    "                 backgroundcolor       =         \"white\",\n",
    "                 zorder                =           99999,\n",
    "                 bbox = dict(facecolor =         'white', edgecolor =         \"white\"))\n",
    "\n",
    "    ax2.annotate(\"(Contours are Mean Sea-Level Pressure [hPa])\", \n",
    "                 [0.5,-0.15], \n",
    "                 xycoords              = \"axes fraction\", \n",
    "                 fontsize              =              14, \n",
    "                 verticalalignment     =           \"top\",\n",
    "                 horizontalalignment   =        \"center\",\n",
    "                 backgroundcolor       =         \"white\",\n",
    "                 zorder                =           99999,\n",
    "                 bbox = dict(facecolor =         'white', edgecolor =         \"white\"))\n",
    "\n",
    "    #############################################################\n",
    "    \n",
    "    ax3 = fig.add_subplot(    2,     2,     3, \n",
    "                         projection = nam_crs)\n",
    " \n",
    "    ax3.coastlines(resolution = 'auto',\n",
    "                   linewidths =  0.75)\n",
    "\n",
    "\n",
    "    ax3.add_feature(cfeature.STATES.with_scale('110m'), \n",
    "                       linewidths = 0.5,\n",
    "                       facecolor  = 'none' , \n",
    "                       edgecolor  = 'black')\n",
    "    \n",
    "\n",
    "    contourf_levels = np.arange(start =  30,\n",
    "                                stop  =  71,\n",
    "                                step  =   2)\n",
    "\n",
    "    contourf_plot = td_850[i,:,:].plot.contourf(cmap        = plt.cm.summer.reversed(),\n",
    "                                                ax          = ax3,\n",
    "                                                extend      = 'both',\n",
    "                                                levels      = contourf_levels,\n",
    "                                                cbar_kwargs = {\"label\"       : \"\",\n",
    "                                                               \"orientation\" : \"horizontal\",\n",
    "                                                               \"pad\"         : colorbar_pad,\n",
    "                                                               \"ticks\"       : contourf_levels,\n",
    "                                                               \"shrink\"      : colorbar_shrink,\n",
    "                                                               \"aspect\"      :   colorbar_aspect})    \n",
    "    lw = 5*m_850[i,:,:] / m_850[i,:,:].max()\n",
    "    \n",
    "\n",
    "    ax3.streamplot(eastings1d, \n",
    "                   northings1d, \n",
    "                  u_850[i,:,:].values, \n",
    "                   v_850[i,:,:].values,\n",
    "                   linewidth = lw.values,\n",
    "                   color     = 'black')\n",
    "    \n",
    "    humidity_mask = np.ma.masked_greater_equal(rh_850[i,:,:].values,90)\n",
    "\n",
    "    #ax3.pcolor(eastings1d, northings1d, humidity_mask, hatch='.', alpha=0.8)\n",
    "   \n",
    "    ax3.annotate(\"850-hPa Dewpoint Temperature [°F]\", \n",
    "                 [0.5,-0.1], \n",
    "                 xycoords              = \"axes fraction\", \n",
    "                 fontsize              =              15, \n",
    "                 verticalalignment     =           \"top\",\n",
    "                 horizontalalignment   =        \"center\",\n",
    "                 backgroundcolor       =         \"white\",\n",
    "                 zorder                =           99999,\n",
    "                 bbox = dict(facecolor ='white',edgecolor =\"white\"))\n",
    "\n",
    "    ax3.annotate(\"(850-hPa Wind Streamlines)\", \n",
    "                 [0.5,-0.15], \n",
    "                 xycoords              = \"axes fraction\", \n",
    "                 fontsize              =              14, \n",
    "                 verticalalignment     =           \"top\",\n",
    "                 horizontalalignment   =        \"center\",\n",
    "                 backgroundcolor       =         \"white\",\n",
    "                 zorder                =           99999,\n",
    "                 bbox = dict(facecolor ='white',edgecolor =\"white\"))\n",
    "\n",
    "\n",
    "    #############################################################\n",
    "    \n",
    "    ax4 = fig.add_subplot(    2,     2,     4, \n",
    "                         projection = nam_crs)\n",
    "\n",
    "\n",
    "    ax4.coastlines(resolution = 'auto',\n",
    "                  linewidths =  0.75)\n",
    "\n",
    "\n",
    "    ax4.add_feature(cfeature.STATES.with_scale('110m'), \n",
    "                    linewidths = 0.5,\n",
    "                    facecolor  = 'none' , \n",
    "                    edgecolor  = 'black')\n",
    "    \n",
    "    contourf_levels = precip_levels_in\n",
    "\n",
    "    contourf_plot = precip[prec_i,:,:].plot.contourf(cmap      = precip_colormap,\n",
    "                                                     ax = ax4,\n",
    "                                                     extend   = 'max',\n",
    "                                                     norm      = rain_norm,\n",
    "                                                     levels    = contourf_levels,\n",
    "                                                     cbar_kwargs = {\"label\"        : \" \", \"orientation\" : \"horizontal\",\"pad\"         : colorbar_pad,\"ticks\"       : contourf_levels,\"shrink\"      : colorbar_shrink,\"aspect\"      :   colorbar_aspect})    \n",
    "\n",
    "\n",
    "    contour_plot2 = precip[prec_i,:,:].plot.contour(colors     =            \"cyan\",\n",
    "                                                    ax         =               ax4,\n",
    "                                                    linewidths =                 1, \n",
    "                                                    levels     = np.array([0.002]))\n",
    "\n",
    "    contour_plot3 =   thickness[i,:,:].plot.contour(colors     =         \"black\",\n",
    "                                                    ax         =             ax4,\n",
    "                                                    linewidths =               2, \n",
    "                                                    levels     = np.array([540]))\n",
    "\n",
    "        \n",
    "    ax4.clabel(contour_plot3, fontsize=\"xx-large\")\n",
    " \n",
    "    \n",
    "    ax4.annotate(\"3-hrly Precip [in]\", \n",
    "                 [0.5,-0.1], \n",
    "                 xycoords              = \"axes fraction\", \n",
    "                 fontsize              =              15, \n",
    "                 verticalalignment     =           \"top\",\n",
    "                 horizontalalignment   =        \"center\",\n",
    "                 zorder                =           99999,\n",
    "                 backgroundcolor       =         \"white\",\n",
    "                 bbox = dict(facecolor =         'white', edgecolor =         \"white\"))\n",
    "\n",
    "    ax4.annotate(\"(540-hPa 1000-500-hPa Thickness [dam] contour aslo shown)\", \n",
    "                 [0.5,-0.15], \n",
    "                 xycoords              = \"axes fraction\", \n",
    "                 fontsize              =              14, \n",
    "                 verticalalignment     =           \"top\",\n",
    "                 horizontalalignment   =        \"center\",\n",
    "                 zorder                =           99999,\n",
    "                 backgroundcolor       =         \"white\",\n",
    "                 bbox = dict(facecolor =         'white', edgecolor =         \"white\"))\n",
    "\n",
    "\n",
    "\n",
    "    #############################################################\n",
    "\n",
    "\n",
    "   \n",
    "    plt.suptitle(\"NOAA-NCEP North American Model Forecast\", x=0.5,y=1.0,\n",
    "                 fontsize = 25, \n",
    "                 color    = \"black\")\n",
    "            \n",
    " \n",
    "\n",
    "\n",
    "    ax1.annotate(time_label,[0.5,1.05],\n",
    "                 xycoords              = \"axes fraction\", \n",
    "                  verticalalignment     =           \"top\",\n",
    "                  horizontalalignment   =        \"center\",\n",
    "                  zorder                =           99999,\n",
    "                  fontsize              =              15, \n",
    "                  color                 =         \"black\",\n",
    "                  bbox = dict(facecolor =         'white', edgecolor =         \"white\"))\n",
    "\n",
    "\n",
    "    ax2.annotate(time_label,[0.5,1.05],\n",
    "                 xycoords              = \"axes fraction\", \n",
    "                  verticalalignment     =           \"top\",\n",
    "                  horizontalalignment   =        \"center\",\n",
    "                  zorder                =           99999,\n",
    "                  fontsize              =              15, \n",
    "                  color                 =         \"black\",\n",
    "                  bbox = dict(facecolor =         'white', edgecolor =         \"white\"))\n",
    "\n",
    "\n",
    "    \n",
    "    ax3.annotate(time_label,[0.5,1.05],\n",
    "                 xycoords              = \"axes fraction\", \n",
    "                  verticalalignment     =           \"top\",\n",
    "                  horizontalalignment   =        \"center\",\n",
    "                  zorder                =           99999,\n",
    "                  fontsize              =              15, \n",
    "                  color                 =         \"black\",\n",
    "                  bbox = dict(facecolor =         'white', edgecolor =         \"white\"))\n",
    "\n",
    "    ax4.annotate(time_labelp,[0.5,1.05],\n",
    "                 xycoords              = \"axes fraction\", \n",
    "                  verticalalignment     =           \"top\",\n",
    "                  horizontalalignment   =        \"center\",\n",
    "                  zorder                =           99999,\n",
    "                  fontsize              =              15, \n",
    "                  color                 =         \"black\",\n",
    "                  bbox = dict(facecolor =         'white', edgecolor =         \"white\"))\n",
    "\n",
    "    ax1.add_feature(cfeature.LAKES, \n",
    "                       linewidths = 0.5,\n",
    "                       facecolor  = 'none' , \n",
    "                       edgecolor  = 'black')\n",
    "\n",
    "\n",
    "    ax2.add_feature(cfeature.LAKES, \n",
    "                       linewidths = 0.5,\n",
    "                       facecolor  = 'none' , \n",
    "                       edgecolor  = 'black')\n",
    "\n",
    "\n",
    "    ax3.add_feature(cfeature.LAKES, \n",
    "                       linewidths = 0.5,\n",
    "                       facecolor  = 'none' , \n",
    "                       edgecolor  = 'black')\n",
    "\n",
    "    ax4.add_feature(cfeature.LAKES, \n",
    "                       linewidths = 0.5,\n",
    "                       facecolor  = 'none' , \n",
    "                       edgecolor  = 'black')\n",
    "    \n",
    "    ax1.set_xlim(eastings_range)\n",
    "    ax1.set_ylim(northings_range)\n",
    "\n",
    "    ax2.set_xlim(eastings_range)\n",
    "    ax2.set_ylim(northings_range)\n",
    "\n",
    "    ax3.set_xlim(eastings_range)\n",
    "    ax3.set_ylim(northings_range)\n",
    "\n",
    "    ax4.set_xlim(eastings_range)\n",
    "    ax4.set_ylim(northings_range)\n",
    "    \n",
    "\n",
    " \n",
    "    plt.subplots_adjust(left   = 0.005, \n",
    "                        right  =  .995, \n",
    "                        top    =  0.99, \n",
    "                        bottom = -0.01, \n",
    "                        wspace =  0.01,\n",
    "                        hspace =     0)\n",
    "    \n",
    "    percent_done = fxx[i]/np.max(fxx)\n",
    "    \n",
    "    rect1 = patches.Rectangle(xy        = (0, 0),\n",
    "                         width     = percent_done,\n",
    "                         height    = 0.01, \n",
    "                         edgecolor = 'black', \n",
    "                         facecolor = \"black\",\n",
    "                         transform = ax1.transAxes)\n",
    "    rect2 = patches.Rectangle(xy        = (0, 0),\n",
    "                     width     = percent_done,\n",
    "                     height    = 0.01, \n",
    "                     edgecolor = 'black', \n",
    "                     facecolor = \"black\",\n",
    "                     transform = ax2.transAxes)\n",
    "    rect3 = patches.Rectangle(xy        = (0, 0),\n",
    "                 width     = percent_done,\n",
    "                 height    = 0.01, \n",
    "                 edgecolor = 'black', \n",
    "                 facecolor = \"black\",\n",
    "                 transform = ax3.transAxes)\n",
    "    rect4 = patches.Rectangle(xy        = (0, 0),\n",
    "             width     = percent_done,\n",
    "             height    = 0.01, \n",
    "             edgecolor = 'black', \n",
    "             facecolor = \"black\",\n",
    "             transform = ax4.transAxes)\n",
    "    ax1.add_patch(rect1)\n",
    "    ax2.add_patch(rect2)\n",
    "    ax3.add_patch(rect3)\n",
    "    ax4.add_patch(rect4)\n",
    "\n",
    "    \n",
    "    plt.savefig(png_file_root + \"F\" + str(int( fxx[i])).zfill(3) + \".png\",\n",
    "                        facecolor   = 'white', \n",
    "                        transparent =   False)\n",
    "\n",
    "\n",
    "    plt.close()\n",
    "    \n",
    "    prec_i_array[i] = int(i)\n",
    "\n",
    "    if(times_precip_utc[prec_i] == times_utc[i]):\n",
    "        prec_i = prec_i+1\n",
    "        \n",
    "\n",
    "\n",
    "#\n",
    "####################################################\n",
    "####################################################\n",
    "####################################################"
   ]
  },
  {
   "cell_type": "code",
   "execution_count": 34,
   "id": "bd22be59-ea01-48db-9e2c-560dcd3f88b8",
   "metadata": {},
   "outputs": [
    {
     "name": "stdout",
     "output_type": "stream",
     "text": [
      "creating /Users/wjc/GitHub/SD_Mines_Map_Wall/./processing_NAM_gif.sh\n",
      "Sun May 29 15:53:58 MDT 2022\n",
      "\n"
     ]
    }
   ],
   "source": [
    "##################################################\n",
    "#\n",
    "# Convert PNGs into an Animated GIF\n",
    "#\n",
    "\n",
    "# 0 to 36 = 20\n",
    "# 41 to 84 = 60\n",
    "\n",
    "all_files = sorted(os.listdir(png_processing_directory))\n",
    "\n",
    "append_str = png_processing_directory + \"/\"\n",
    "all_files = [append_str + sub for sub in all_files]\n",
    "\n",
    "short_files = \" \".join(all_files[0:36+1])\n",
    "long_files = \" \".join(all_files[37:])\n",
    "\n",
    "\n",
    "\n",
    "\n",
    "print(\"creating \" + MAINDIR + \"./processing_NAM_gif.sh\")\n",
    "with open(MAINDIR + \"./processing_NAM_gif.sh\", 'w') as f:\n",
    "    print(\"#!/bin/bash\",           file =  f)\n",
    "    print(\". /home/wjc/.bashrc\",   file = f)\n",
    "    print(\"cd \" + MAINDIR,         file =  f) \n",
    "    print(\"convert \"               + \\\n",
    "          \"-delay 20 \"             + \\\n",
    "          short_files              + \\\n",
    "          \" \"                      + \\\n",
    "          \"-delay 60 \"             + \\\n",
    "          long_files              + \\\n",
    "          \" \"                      + \\\n",
    "          gif_file_name,           file =  f) \n",
    "    print(\"echo MAIN:NAM::: We^re Outahere Like Vladimir\", file =  f) \n",
    "\n",
    "os.system(\"chmod a+x \" + MAINDIR + \"./processing_NAM_gif.sh\")\n",
    "os.system(MAINDIR + \"./processing_NAM_gif.sh > ./processing_NAM_gif.LOG 2>&1 \")\n",
    "os.system(\"date\")\n",
    "print()\n",
    "\n",
    "\n",
    "\n",
    "#\n",
    "##################################################"
   ]
  },
  {
   "cell_type": "code",
   "execution_count": null,
   "id": "4dd0ab08-fdc8-4c82-83b6-79f945f3b19b",
   "metadata": {},
   "outputs": [],
   "source": []
  },
  {
   "cell_type": "code",
   "execution_count": null,
   "id": "94051d67-8188-4fe3-b1bf-9a1b8676cbcc",
   "metadata": {},
   "outputs": [],
   "source": []
  },
  {
   "cell_type": "code",
   "execution_count": 33,
   "id": "b6a520eb-4b5f-4e21-8fb1-0e4b325de136",
   "metadata": {},
   "outputs": [
    {
     "name": "stdout",
     "output_type": "stream",
     "text": [
      "./temp_files_nam//NAM_4_Panel_F000.png ./temp_files_nam//NAM_4_Panel_F001.png ./temp_files_nam//NAM_4_Panel_F002.png ./temp_files_nam//NAM_4_Panel_F003.png ./temp_files_nam//NAM_4_Panel_F004.png ./temp_files_nam//NAM_4_Panel_F005.png ./temp_files_nam//NAM_4_Panel_F006.png ./temp_files_nam//NAM_4_Panel_F007.png ./temp_files_nam//NAM_4_Panel_F008.png ./temp_files_nam//NAM_4_Panel_F009.png ./temp_files_nam//NAM_4_Panel_F010.png ./temp_files_nam//NAM_4_Panel_F011.png ./temp_files_nam//NAM_4_Panel_F012.png ./temp_files_nam//NAM_4_Panel_F013.png ./temp_files_nam//NAM_4_Panel_F014.png ./temp_files_nam//NAM_4_Panel_F015.png ./temp_files_nam//NAM_4_Panel_F016.png ./temp_files_nam//NAM_4_Panel_F017.png ./temp_files_nam//NAM_4_Panel_F018.png ./temp_files_nam//NAM_4_Panel_F019.png ./temp_files_nam//NAM_4_Panel_F020.png ./temp_files_nam//NAM_4_Panel_F021.png ./temp_files_nam//NAM_4_Panel_F022.png ./temp_files_nam//NAM_4_Panel_F023.png ./temp_files_nam//NAM_4_Panel_F024.png ./temp_files_nam//NAM_4_Panel_F025.png ./temp_files_nam//NAM_4_Panel_F026.png ./temp_files_nam//NAM_4_Panel_F027.png ./temp_files_nam//NAM_4_Panel_F028.png ./temp_files_nam//NAM_4_Panel_F029.png ./temp_files_nam//NAM_4_Panel_F030.png ./temp_files_nam//NAM_4_Panel_F031.png ./temp_files_nam//NAM_4_Panel_F032.png ./temp_files_nam//NAM_4_Panel_F033.png ./temp_files_nam//NAM_4_Panel_F034.png ./temp_files_nam//NAM_4_Panel_F035.png ./temp_files_nam//NAM_4_Panel_F036.png\n",
      "\n",
      "./temp_files_nam//NAM_4_Panel_F039.png ./temp_files_nam//NAM_4_Panel_F042.png ./temp_files_nam//NAM_4_Panel_F045.png ./temp_files_nam//NAM_4_Panel_F048.png ./temp_files_nam//NAM_4_Panel_F051.png ./temp_files_nam//NAM_4_Panel_F054.png ./temp_files_nam//NAM_4_Panel_F057.png ./temp_files_nam//NAM_4_Panel_F060.png ./temp_files_nam//NAM_4_Panel_F063.png ./temp_files_nam//NAM_4_Panel_F066.png ./temp_files_nam//NAM_4_Panel_F069.png ./temp_files_nam//NAM_4_Panel_F072.png ./temp_files_nam//NAM_4_Panel_F075.png ./temp_files_nam//NAM_4_Panel_F078.png ./temp_files_nam//NAM_4_Panel_F081.png ./temp_files_nam//NAM_4_Panel_F084.png\n"
     ]
    }
   ],
   "source": [
    "\n",
    "  \n",
    "# Append suffix / prefix to strings in list\n"
   ]
  },
  {
   "cell_type": "code",
   "execution_count": null,
   "id": "6995deb9-149c-4341-8534-fa14a784ee8e",
   "metadata": {},
   "outputs": [],
   "source": []
  }
 ],
 "metadata": {
  "kernelspec": {
   "display_name": "Python 3 (ipykernel)",
   "language": "python",
   "name": "python3"
  },
  "language_info": {
   "codemirror_mode": {
    "name": "ipython",
    "version": 3
   },
   "file_extension": ".py",
   "mimetype": "text/x-python",
   "name": "python",
   "nbconvert_exporter": "python",
   "pygments_lexer": "ipython3",
   "version": "3.9.12"
  }
 },
 "nbformat": 4,
 "nbformat_minor": 5
}
