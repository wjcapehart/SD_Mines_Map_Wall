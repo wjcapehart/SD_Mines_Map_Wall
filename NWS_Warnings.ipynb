{
 "cells": [
  {
   "cell_type": "markdown",
   "id": "4fb2f292-e429-4e3d-a8be-03b5bfa9cc14",
   "metadata": {},
   "source": [
    "# NWS Warning Polygons"
   ]
  },
  {
   "cell_type": "code",
   "execution_count": 1,
   "id": "23342bbd-951f-4597-ace7-1afadd2b8525",
   "metadata": {},
   "outputs": [],
   "source": [
    "#Import the necessary packages\n",
    "import numpy as np\n",
    "import datetime as dt\n",
    "import cartopy.crs as ccrs\n",
    "import cartopy.feature as cfeature\n",
    "import matplotlib.patches as mpatches\n",
    "import matplotlib.pyplot as plt\n",
    "import noaa_sdk as noaa_sdk\n",
    "import pandas as pd\n",
    "import shapely as shapely\n",
    "from   metpy.plots       import  USCOUNTIES\n",
    "\n",
    "\n",
    "\n",
    "import timezonefinder    as tzf\n",
    "import pytz              as pytz\n",
    "\n",
    "\n",
    "import geopandas as gp"
   ]
  },
  {
   "cell_type": "code",
   "execution_count": null,
   "id": "3b309862-f9c4-4dc5-8d0d-db54aa6a1279",
   "metadata": {},
   "outputs": [],
   "source": [
    "\n"
   ]
  },
  {
   "cell_type": "code",
   "execution_count": 2,
   "id": "9390c03d",
   "metadata": {},
   "outputs": [
    {
     "name": "stdout",
     "output_type": "stream",
     "text": [
      "2022-04-22 1526 UTC\n",
      "2022-04-22 0926 MDT\n"
     ]
    }
   ],
   "source": [
    "proj_data_text = '+proj=aea +lat_1=29.5 +lat_2=45.5 +lat_0=37.5 +lon_0=-96 +x_0=0 +y_0=0 +ellps=GRS80 +datum=NAD83 +units=m +no_defs'\n",
    "\n",
    "gif_file_name = \"./graphics_files/NWS_Warnings.png\"\n",
    "xls_file_name = \"./graphics_files/NWS_Warnings.xlsx\"\n",
    "\n",
    "\n",
    "\n",
    "myproj = ccrs.AlbersEqualArea(central_longitude=-96, \n",
    "                              central_latitude=37.5, \n",
    "                              false_easting=0.0, \n",
    "                              false_northing=0.0, \n",
    "                              standard_parallels=(29.5, 45.5))\n",
    "\n",
    "\n",
    "\n",
    "tz='America/Denver'\n",
    "\n",
    "time_utc = dt.datetime.utcnow()\n",
    "valid_time = pd.to_datetime(time_utc).tz_localize(tz=\"UTC\").strftime(\"%Y-%m-%d %H%M %Z\")\n",
    "local_time = pd.to_datetime(time_utc).tz_localize(tz=\"UTC\").tz_convert(tz=tz).strftime(\"%Y-%m-%d %H%M %Z\")\n",
    "\n",
    "print(valid_time)\n",
    "print(local_time)"
   ]
  },
  {
   "cell_type": "code",
   "execution_count": 3,
   "id": "6669c0dc",
   "metadata": {},
   "outputs": [],
   "source": [
    "# Open the NWS API in python to get the active alerts\n",
    "n = noaa_sdk.noaa.NOAA()\n",
    "alerts = n.active_alerts()\n"
   ]
  },
  {
   "cell_type": "code",
   "execution_count": 4,
   "id": "6507d759-86c6-4bc7-89ae-b82b90a80e04",
   "metadata": {},
   "outputs": [],
   "source": [
    "#injest //shapefiles/CONUS_UGC_Zones/\n",
    "\n",
    "\n",
    "UGC_Zones_Shapefile    = gp.read_file('./shapefiles/CONUS_UGC_Zones/CONUS_UGC_Zones.shp')\n",
    "UGC_Counties_Shapefile = gp.read_file('./shapefiles/CONUS_UGC_Counties/CONUS_UGC_Counties.shp')\n",
    " \n",
    "UGC_Shapefile = pd.concat([UGC_Zones_Shapefile, \n",
    "                           UGC_Counties_Shapefile]).drop([\"UGC_Temp\",\n",
    "                                                          \"Shape_Leng\",\n",
    "                                                          \"Shape_Le_1\",\n",
    "                                                          \"Shape_Area\",\n",
    "                                                          \"STATE\",\n",
    "                                                          \"CWA\",\n",
    "                                                          \"COUNTYNAME\",\n",
    "                                                          \"FIPS\",\n",
    "                                                          \"TIME_ZONE\",\n",
    "                                                          \"FE_AREA\"],\n",
    "                                                          axis = 'columns').reset_index(drop=True)  \n",
    "    \n",
    "UGC_Zone_County_List = UGC_Shapefile['UGC'].to_list()\n",
    "\n"
   ]
  },
  {
   "cell_type": "code",
   "execution_count": 5,
   "id": "053e9b76-738b-4d2f-a32b-b4ae994e2d7f",
   "metadata": {},
   "outputs": [],
   "source": [
    "# priority warnings table\n",
    "warning_priority_table = pd.read_csv(\"./warning_table_sorted.csv\")\n",
    "\n",
    "warning_priority_table = warning_priority_table.rename(columns={\"hdln\": \"event\"})\n",
    "\n"
   ]
  },
  {
   "cell_type": "code",
   "execution_count": 6,
   "id": "a18ea2e1-0f23-4b18-881f-856918b20492",
   "metadata": {},
   "outputs": [
    {
     "name": "stdout",
     "output_type": "stream",
     "text": [
      "replaced\n",
      "done:  1800 rows;  28 event types\n",
      "\n"
     ]
    }
   ],
   "source": [
    "\n",
    "current_warnings = pd.DataFrame(columns = ['event',\n",
    "                                           'UGC',\n",
    "                                           'coverage',\n",
    "                                           'message'])\n",
    "\n",
    "\n",
    "\n",
    "i = 0\n",
    "\n",
    "\n",
    "\n",
    "for alert in alerts['features']:\n",
    "    event = alert['properties']['event']\n",
    "    if (event != \"Test Message\"): \n",
    "        \n",
    "        try:\n",
    "\n",
    "            ugc_codes = alert['properties']['geocode']['UGC']\n",
    "            message   = alert['properties']['@id']\n",
    "\n",
    "            for ugc_code in ugc_codes:\n",
    "                if ugc_code in UGC_Zone_County_List: \n",
    "                    if (ugc_code[2] == 'C'):\n",
    "                        coverage = \"County\"\n",
    "                    else:\n",
    "                        coverage = \"Zones\"\n",
    "\n",
    "                    deleteme = pd.DataFrame([[event,\n",
    "                              ugc_code,\n",
    "                              coverage,\n",
    "                              message]], \n",
    "                              columns = ['event',\n",
    "                                         'UGC',\n",
    "                                         'coverage',\n",
    "                                         'message'])\n",
    "                    current_warnings = pd.concat([current_warnings, \n",
    "                                                  deleteme]) \n",
    "                    i = i + 1\n",
    "        except KeyError:\n",
    "            print(\"poopie:\")\n",
    "            print(event, ugc_code)\n",
    "    \n",
    "current_warnings = current_warnings.merge(warning_priority_table, how='left', on='event')\n",
    "current_warnings = UGC_Shapefile.merge(current_warnings, how='right', on='UGC')\n",
    "current_warnings = current_warnings.sort_values(\"Rank\", ascending=False)\n",
    "\n",
    "\n",
    "if (current_warnings['color'].isnull().values.any()):\n",
    "    print(\"Missing Colors Found\")\n",
    "    locs_missing = current_warnings.index[current_warnings['color'].isnull()].tolist()\n",
    "    print(current_warnings.loc[locs_missing])\n",
    "\n",
    "  \n",
    "    for loc_missing in locs_missing:\n",
    "        current_warnings.loc[loc_missing,\"color\"] = 'red'\n",
    "    \n",
    "print(\"replaced\")\n",
    "\n",
    "\n",
    "warning_color_table = current_warnings[[\"event\",\"color\"]].drop_duplicates()\n",
    "\n",
    "\n",
    "current_warnings.drop([\"geometry\"], axis=\"columns\").to_excel(xls_file_name)\n",
    "\n",
    "print(\"done: \",i,\"rows; \",len(warning_color_table),\"event types\")\n",
    "print()"
   ]
  },
  {
   "cell_type": "code",
   "execution_count": 7,
   "id": "f99a537b-a3ae-4d22-a596-683e1d68bdce",
   "metadata": {},
   "outputs": [
    {
     "name": "stdout",
     "output_type": "stream",
     "text": [
      "replaced\n",
      "                          event           color\n",
      "1544         Hydrologic Outlook         #00ff7f\n",
      "1418  Special Weather Statement        moccasin\n",
      "1637    Beach Hazards Statement       turquoise\n",
      "800     Coastal Flood Statement       olivedrab\n",
      "1669      Rip Current Statement            aqua\n",
      "1616          Air Quality Alert            gray\n",
      "1128     Coastal Flood Advisory       lawngreen\n",
      "314       Blowing Dust Advisory       darkkhaki\n",
      "271          Dense Fog Advisory       slategray\n",
      "1620             Flood Advisory         #00ff7f\n",
      "340              Frost Advisory  cornflowerblue\n",
      "591        Small Craft Advisory         thistle\n",
      "914          High Surf Advisory    mediumorchid\n",
      "817               Wind Advisory             tan\n",
      "651     Winter Weather Advisory         #7b68ee\n",
      "23                   Gale Watch            pink\n",
      "336                Freeze Watch       royalblue\n",
      "1731            High Wind Watch   darkgoldenrod\n",
      "1584         Winter Storm Watch         #4682b4\n",
      "993                 Flood Watch        seagreen\n",
      "1368         Fire Weather Watch     navajowhite\n",
      "966            Red Flag Warning        deeppink\n",
      "332           High Wind Warning       goldenrod\n",
      "597                Gale Warning         #dda0dd\n",
      "42          Flash Flood Warning         darkred\n",
      "1635              Flood Warning           green\n",
      "719            Blizzard Warning       orangered\n",
      "710        Winter Storm Warning         hotpink\n"
     ]
    }
   ],
   "source": [
    "# check for missing colors.\n",
    "\n",
    "if (warning_color_table['color'].isnull().values.any()):\n",
    "    print(\"Missing Colors Found\")\n",
    "    loc_missing = warning_color_table.index[warning_color_table['color'].isnull()].tolist()\n",
    "    print(loc_missing)\n",
    "    print(warning_color_table.loc[loc_missing])\n",
    "    warning_color_table.loc[loc_missing,\"color\"] = '#ffffff'\n",
    "    \n",
    "print(\"replaced\")\n",
    "print(warning_color_table)"
   ]
  },
  {
   "cell_type": "code",
   "execution_count": 8,
   "id": "870e6daa-fbf6-4de2-b69b-eaa17b56d2d4",
   "metadata": {},
   "outputs": [
    {
     "name": "stdout",
     "output_type": "stream",
     "text": [
      "[['Hydrologic Outlook', '#00ff7f'], ['Special Weather Statement', 'moccasin'], ['Beach Hazards Statement', 'turquoise'], ['Coastal Flood Statement', 'olivedrab'], ['Rip Current Statement', 'aqua'], ['Air Quality Alert', 'gray'], ['Coastal Flood Advisory', 'lawngreen'], ['Blowing Dust Advisory', 'darkkhaki'], ['Dense Fog Advisory', 'slategray'], ['Flood Advisory', '#00ff7f'], ['Frost Advisory', 'cornflowerblue'], ['Small Craft Advisory', 'thistle'], ['High Surf Advisory', 'mediumorchid'], ['Wind Advisory', 'tan'], ['Winter Weather Advisory', '#7b68ee'], ['Gale Watch', 'pink'], ['Freeze Watch', 'royalblue'], ['High Wind Watch', 'darkgoldenrod'], ['Winter Storm Watch', '#4682b4'], ['Flood Watch', 'seagreen'], ['Fire Weather Watch', 'navajowhite'], ['Red Flag Warning', 'deeppink'], ['High Wind Warning', 'goldenrod'], ['Gale Warning', '#dda0dd'], ['Flash Flood Warning', 'darkred'], ['Flood Warning', 'green'], ['Blizzard Warning', 'orangered'], ['Winter Storm Warning', 'hotpink']]\n"
     ]
    }
   ],
   "source": [
    "legend_color_table = warning_color_table.values.tolist()\n",
    "print(legend_color_table)\n",
    "legend_color_table = []\n",
    "\n",
    "for row in warning_color_table.iterrows():\n",
    "    mypatch = [mpatches.Patch(color=row[1][1], label=row[1][0])]\n",
    "    legend_color_table = legend_color_table + mypatch\n",
    "    \n",
    "    \n",
    "  "
   ]
  },
  {
   "cell_type": "code",
   "execution_count": 9,
   "id": "8d146328",
   "metadata": {},
   "outputs": [
    {
     "name": "stdout",
     "output_type": "stream",
     "text": [
      "                          event           color\n",
      "1544         Hydrologic Outlook         #00ff7f\n",
      "1418  Special Weather Statement        moccasin\n",
      "1637    Beach Hazards Statement       turquoise\n",
      "800     Coastal Flood Statement       olivedrab\n",
      "1669      Rip Current Statement            aqua\n",
      "1616          Air Quality Alert            gray\n",
      "1128     Coastal Flood Advisory       lawngreen\n",
      "314       Blowing Dust Advisory       darkkhaki\n",
      "271          Dense Fog Advisory       slategray\n",
      "1620             Flood Advisory         #00ff7f\n",
      "340              Frost Advisory  cornflowerblue\n",
      "591        Small Craft Advisory         thistle\n",
      "914          High Surf Advisory    mediumorchid\n",
      "817               Wind Advisory             tan\n",
      "651     Winter Weather Advisory         #7b68ee\n",
      "23                   Gale Watch            pink\n",
      "336                Freeze Watch       royalblue\n",
      "1731            High Wind Watch   darkgoldenrod\n",
      "1584         Winter Storm Watch         #4682b4\n",
      "993                 Flood Watch        seagreen\n",
      "1368         Fire Weather Watch     navajowhite\n",
      "966            Red Flag Warning        deeppink\n",
      "332           High Wind Warning       goldenrod\n",
      "597                Gale Warning         #dda0dd\n",
      "42          Flash Flood Warning         darkred\n",
      "1635              Flood Warning           green\n",
      "719            Blizzard Warning       orangered\n",
      "710        Winter Storm Warning         hotpink\n"
     ]
    }
   ],
   "source": [
    "print(warning_color_table)\n"
   ]
  },
  {
   "cell_type": "code",
   "execution_count": 10,
   "id": "17de7732-f91b-4af9-9385-f641abec3f77",
   "metadata": {},
   "outputs": [
    {
     "name": "stdout",
     "output_type": "stream",
     "text": [
      "09:26:55.029465\n",
      "9 283.1458920311676\n",
      "26 161.5\n"
     ]
    },
    {
     "data": {
      "text/plain": [
       "<PolarAxes:>"
      ]
     },
     "metadata": {},
     "output_type": "display_data"
    },
    {
     "name": "stdout",
     "output_type": "stream",
     "text": [
      "done\n"
     ]
    }
   ],
   "source": [
    "bbox=[-120,-73,22.5,50]\n",
    "\n",
    "xxx = [-120.0, -73.0]\n",
    "yyy = [  22.5,  50.0]\n",
    "\n",
    "\n",
    "fig = plt.figure(figsize   = (11, 6), \n",
    "                 facecolor = 'white')\n",
    "\n",
    "ax = fig.add_subplot(1, 1, 1, \n",
    "                     projection=myproj)\n",
    "\n",
    "plt.suptitle(\"NWS Watches and Warnings\",\n",
    "             fontsize = 20, \n",
    "             color    = \"black\")\n",
    "ax.set_extent(bbox)\n",
    "ax.set_title(valid_time + \"  (\" + local_time+\")\",\n",
    "             fontsize=15, \n",
    "             color=\"black\")\n",
    "\n",
    "current_warnings.plot(ax = ax,aspect='equal',\n",
    "                      facecolor=current_warnings[\"color\"],\n",
    "                      transform=ccrs.PlateCarree(),\n",
    "                      edgecolor='None', linewidth=0)\n",
    "\n",
    "ax.add_feature(cfeature.COASTLINE.with_scale('50m'), \n",
    "               linewidth = 0.5)\n",
    "ax.add_feature(cfeature.STATES.with_scale('50m'),    \n",
    "               linewidth = 0.25, \n",
    "               edgecolor = 'black')\n",
    "ax.add_feature(cfeature.LAKES.with_scale('50m'),   \n",
    "               linewidth = 0.5,\n",
    "               facecolor = \"none\", \n",
    "               edgecolor = 'black')\n",
    "ax.add_feature(feature    = USCOUNTIES, \n",
    "                   linewidths = 0.1,\n",
    "                   edgecolor  = 'black',\n",
    "                   facecolor  = 'none')\n",
    "\n",
    "ax.set_frame_on(False)\n",
    "\n",
    "plt.subplots_adjust(left   = 0.01, \n",
    "                    right  = 0.75, \n",
    "                    top    = 0.91, \n",
    "                    bottom = 0.01)\n",
    "\n",
    "labelspacing = 0.1\n",
    "fig.legend(handles  = legend_color_table, \n",
    "           loc      = 'right',\n",
    "           frameon  = False,\n",
    "           labelspacing = labelspacing)\n",
    "\n",
    "\n",
    "\n",
    "\n",
    "#########################################\n",
    "#\n",
    "# Insert a Clock\n",
    "#\n",
    "\n",
    "axins = fig.add_axes(rect     =    [0.015,\n",
    "                                    0.015,\n",
    "                                    0.12*8/9,\n",
    "                                    0.12],\n",
    "                      projection  =  \"polar\")\n",
    "\n",
    "time_for_clock = pd.to_datetime(time_utc).tz_localize(tz=\"UTC\").tz_convert(tz=tz).time()\n",
    "\n",
    "hour   = time_for_clock.hour\n",
    "minute = time_for_clock.minute\n",
    "second = time_for_clock.second\n",
    "\n",
    "circle_theta  = np.deg2rad(np.arange(0,360,0.01))\n",
    "circle_radius = circle_theta * 0 + 1\n",
    "\n",
    "if (hour > 12) :\n",
    "    hour = hour - 12\n",
    "\n",
    "angles_h = 2*np.pi*hour/12+2*np.pi*minute/(12*60)+2*second/(12*60*60)\n",
    "angles_m = 2*np.pi*minute/60+2*np.pi*second/(60*60)\n",
    "\n",
    "print(time_for_clock)\n",
    "print(hour,   np.rad2deg(angles_h))\n",
    "print(minute, np.rad2deg(angles_m))\n",
    "\n",
    "\n",
    "plt.setp(axins.get_yticklabels(), visible=False)\n",
    "plt.setp(axins.get_xticklabels(), visible=False)\n",
    "axins.spines['polar'].set_visible(False)\n",
    "axins.set_ylim(0,1)\n",
    "axins.set_theta_zero_location('N')\n",
    "axins.set_theta_direction(-1)\n",
    "axins.set_facecolor(\"white\")\n",
    "axins.grid(False)\n",
    "\n",
    "axins.plot([angles_h,angles_h], [0,0.6], color=\"black\", linewidth=1.5)\n",
    "axins.plot([angles_m,angles_m], [0,0.95], color=\"black\", linewidth=1.5)\n",
    "axins.plot(circle_theta, circle_radius, color=\"darkgrey\", linewidth=1)\n",
    "\n",
    "display(axins)\n",
    "\n",
    "#\n",
    "#########################################\n",
    "        \n",
    "        \n",
    "plt.savefig(gif_file_name)\n",
    "\n",
    "\n",
    "plt.close()\n",
    "\n",
    "\n",
    "print(\"done\")"
   ]
  },
  {
   "cell_type": "code",
   "execution_count": null,
   "id": "1cc672aa-08df-4d0b-8ca8-8bd14080ac12",
   "metadata": {},
   "outputs": [],
   "source": []
  },
  {
   "cell_type": "code",
   "execution_count": null,
   "id": "7d430757-be1d-4e05-9764-7dd720afb955",
   "metadata": {},
   "outputs": [],
   "source": []
  },
  {
   "cell_type": "code",
   "execution_count": null,
   "id": "854ee410-a087-411b-b544-d047e28411ec",
   "metadata": {},
   "outputs": [],
   "source": []
  },
  {
   "cell_type": "code",
   "execution_count": null,
   "id": "39923b6b-defd-427e-8341-772aef68d5d2",
   "metadata": {},
   "outputs": [],
   "source": []
  }
 ],
 "metadata": {
  "kernelspec": {
   "display_name": "Python 3 (ipykernel)",
   "language": "python",
   "name": "python3"
  },
  "language_info": {
   "codemirror_mode": {
    "name": "ipython",
    "version": 3
   },
   "file_extension": ".py",
   "mimetype": "text/x-python",
   "name": "python",
   "nbconvert_exporter": "python",
   "pygments_lexer": "ipython3",
   "version": "3.9.12"
  }
 },
 "nbformat": 4,
 "nbformat_minor": 5
}
