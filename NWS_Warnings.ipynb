{
 "cells": [
  {
   "cell_type": "markdown",
   "id": "4fb2f292-e429-4e3d-a8be-03b5bfa9cc14",
   "metadata": {},
   "source": [
    "# NWS Warning Polygons"
   ]
  },
  {
   "cell_type": "code",
   "execution_count": 1,
   "id": "23342bbd-951f-4597-ace7-1afadd2b8525",
   "metadata": {},
   "outputs": [],
   "source": [
    "#Import the necessary packages\n",
    "import numpy as np\n",
    "import datetime as dt\n",
    "import cartopy.crs as ccrs\n",
    "import cartopy.feature as cfeature\n",
    "import matplotlib.patches as mpatches\n",
    "import matplotlib.pyplot as plt\n",
    "import noaa_sdk as noaa_sdk\n",
    "import pandas as pd\n",
    "import shapely as shapely\n",
    "from   metpy.plots       import  USCOUNTIES\n",
    "\n",
    "\n",
    "\n",
    "import timezonefinder    as tzf\n",
    "import pytz              as pytz\n",
    "\n",
    "\n",
    "import geopandas as gp\n",
    "\n",
    "length = 11\n",
    "height =  6\n",
    "\n",
    "dpi = 100\n",
    "length = 19\n",
    "height = 10.36538462\n",
    "font_fac = 1.923076923\n"
   ]
  },
  {
   "cell_type": "code",
   "execution_count": 2,
   "id": "3b309862-f9c4-4dc5-8d0d-db54aa6a1279",
   "metadata": {},
   "outputs": [],
   "source": [
    "\n",
    "####################################################\n",
    "####################################################\n",
    "####################################################\n",
    "#\n",
    "# Mines Colors and Fonts\n",
    "#\n",
    "\n",
    "Mines_Blue = \"#002554\"\n",
    "\n",
    "\n",
    "plt.rcParams.update({'text.color'      : Mines_Blue,\n",
    "                     'axes.labelcolor' : Mines_Blue,\n",
    "\t\t\t\t\t 'axes.edgecolor'  : Mines_Blue,\n",
    "\t\t\t\t\t 'xtick.color'     : Mines_Blue,\n",
    "\t\t\t\t\t 'ytick.color'     : Mines_Blue})\n",
    "\n",
    "\n",
    "#\n",
    "####################################################\n",
    "####################################################\n",
    "####################################################\n",
    "\n"
   ]
  },
  {
   "cell_type": "code",
   "execution_count": 3,
   "id": "9390c03d",
   "metadata": {},
   "outputs": [
    {
     "name": "stdout",
     "output_type": "stream",
     "text": [
      "2023-05-14 2139 UTC\n",
      "2023-05-14 1539 MDT\n"
     ]
    }
   ],
   "source": [
    "proj_data_text = '+proj=aea +lat_1=29.5 +lat_2=45.5 +lat_0=37.5 +lon_0=-96 +x_0=0 +y_0=0 +ellps=GRS80 +datum=NAD83 +units=m +no_defs'\n",
    "\n",
    "gif_file_name = \"./graphics_files/NWS_Warnings.png\"\n",
    "xls_file_name = \"./graphics_files/NWS_Warnings.xlsx\"\n",
    "\n",
    "\n",
    "\n",
    "myproj = ccrs.AlbersEqualArea(central_longitude=-96, \n",
    "                              central_latitude=37.5, \n",
    "                              false_easting=0.0, \n",
    "                              false_northing=0.0, \n",
    "                              standard_parallels=(29.5, 45.5))\n",
    "\n",
    "\n",
    "\n",
    "tz='America/Denver'\n",
    "\n",
    "time_utc = dt.datetime.utcnow()\n",
    "valid_time = pd.to_datetime(time_utc).tz_localize(tz=\"UTC\").strftime(\"%Y-%m-%d %H%M %Z\")\n",
    "local_time = pd.to_datetime(time_utc).tz_localize(tz=\"UTC\").tz_convert(tz=tz).strftime(\"%Y-%m-%d %H%M %Z\")\n",
    "\n",
    "print(valid_time)\n",
    "print(local_time)"
   ]
  },
  {
   "cell_type": "code",
   "execution_count": 4,
   "id": "6669c0dc",
   "metadata": {},
   "outputs": [],
   "source": [
    "# Open the NWS API in python to get the active alerts\n",
    "n = noaa_sdk.noaa.NOAA()\n",
    "alerts = n.active_alerts()\n"
   ]
  },
  {
   "cell_type": "code",
   "execution_count": 5,
   "id": "6507d759-86c6-4bc7-89ae-b82b90a80e04",
   "metadata": {},
   "outputs": [],
   "source": [
    "#injest //shapefiles/CONUS_UGC_Zones/\n",
    "\n",
    "\n",
    "UGC_Zones_Shapefile    = gp.read_file('./shapefiles/CONUS_UGC_Zones/CONUS_UGC_Zones.shp')\n",
    "UGC_Counties_Shapefile = gp.read_file('./shapefiles/CONUS_UGC_Counties/CONUS_UGC_Counties.shp')\n",
    " \n",
    "UGC_Shapefile = pd.concat([UGC_Zones_Shapefile, \n",
    "                           UGC_Counties_Shapefile]).drop([\"UGC_Temp\",\n",
    "                                                          \"Shape_Leng\",\n",
    "                                                          \"Shape_Le_1\",\n",
    "                                                          \"Shape_Area\",\n",
    "                                                          \"STATE\",\n",
    "                                                          \"CWA\",\n",
    "                                                          \"COUNTYNAME\",\n",
    "                                                          \"FIPS\",\n",
    "                                                          \"TIME_ZONE\",\n",
    "                                                          \"FE_AREA\"],\n",
    "                                                          axis = 'columns').reset_index(drop=True)  \n",
    "    \n",
    "UGC_Zone_County_List = UGC_Shapefile['UGC'].to_list()\n",
    "\n"
   ]
  },
  {
   "cell_type": "code",
   "execution_count": 6,
   "id": "053e9b76-738b-4d2f-a32b-b4ae994e2d7f",
   "metadata": {},
   "outputs": [],
   "source": [
    "# priority warnings table\n",
    "warning_priority_table = pd.read_csv(\"./warning_table_sorted.csv\")\n",
    "\n",
    "warning_priority_table = warning_priority_table.rename(columns={\"hdln\": \"event\"})\n",
    "\n"
   ]
  },
  {
   "cell_type": "code",
   "execution_count": 7,
   "id": "a18ea2e1-0f23-4b18-881f-856918b20492",
   "metadata": {},
   "outputs": [
    {
     "name": "stdout",
     "output_type": "stream",
     "text": [
      "replaced Nones Complete\n",
      "done:  1118 rows;  18 event types\n",
      "\n"
     ]
    }
   ],
   "source": [
    "\n",
    "current_warnings = pd.DataFrame(columns = ['event',\n",
    "                                           'UGC',\n",
    "                                           'coverage',\n",
    "                                           'message'])\n",
    "\n",
    "\n",
    "\n",
    "i = 0\n",
    "\n",
    "\n",
    "\n",
    "for alert in alerts['features']:\n",
    "    event = alert['properties']['event']\n",
    "    if (event != \"Test Message\"): \n",
    "        \n",
    "        try:\n",
    "\n",
    "            ugc_codes = alert['properties']['geocode']['UGC']\n",
    "            message   = alert['properties']['@id']\n",
    "\n",
    "            for ugc_code in ugc_codes:\n",
    "                if ugc_code in UGC_Zone_County_List: \n",
    "                    if (ugc_code[2] == 'C'):\n",
    "                        coverage = \"County\"\n",
    "                    else:\n",
    "                        coverage = \"Zones\"\n",
    "\n",
    "                    deleteme = pd.DataFrame([[event,\n",
    "                              ugc_code,\n",
    "                              coverage,\n",
    "                              message]], \n",
    "                              columns = ['event',\n",
    "                                         'UGC',\n",
    "                                         'coverage',\n",
    "                                         'message'])\n",
    "                    current_warnings = pd.concat([current_warnings, \n",
    "                                                  deleteme]) \n",
    "                    i = i + 1\n",
    "        except KeyError:\n",
    "            print(\"poopie:\")\n",
    "            print(event, ugc_code)\n",
    "    \n",
    "current_warnings = current_warnings.merge(warning_priority_table, how='left', on='event')\n",
    "current_warnings = UGC_Shapefile.merge(current_warnings, how='right', on='UGC')\n",
    "current_warnings = current_warnings.sort_values(\"Rank\", ascending=False)\n",
    "\n",
    "\n",
    "if (current_warnings['color'].isnull().values.any()):\n",
    "    print(\"Missing Colors Found\")\n",
    "    locs_missing = current_warnings.index[current_warnings['color'].isnull()].tolist()\n",
    "    print(current_warnings.loc[locs_missing])\n",
    "\n",
    "    print(\"replacing Nones Complete\")\n",
    "  \n",
    "    for loc_missing in locs_missing:\n",
    "        current_warnings.loc[loc_missing,\"color\"] = 'red'\n",
    "        print(current_warnings.loc[locs_missing])\n",
    "print(\"replaced Nones Complete\")\n",
    "\n",
    "\n",
    "\n",
    "\n",
    "\n",
    "warning_color_table = current_warnings[[\"event\",\"color\"]].drop_duplicates()\n",
    "\n",
    "\n",
    "current_warnings.drop([\"geometry\"], axis=\"columns\").to_excel(xls_file_name)\n",
    "\n",
    "print(\"done: \",i,\"rows; \",len(warning_color_table),\"event types\")\n",
    "print()"
   ]
  },
  {
   "cell_type": "code",
   "execution_count": 8,
   "id": "f99a537b-a3ae-4d22-a596-683e1d68bdce",
   "metadata": {},
   "outputs": [
    {
     "name": "stdout",
     "output_type": "stream",
     "text": [
      "replaced\n",
      "                            event           color\n",
      "993            Hydrologic Outlook         #00ff7f\n",
      "750      Marine Weather Statement        moccasin\n",
      "911     Special Weather Statement        moccasin\n",
      "334       Beach Hazards Statement       turquoise\n",
      "1029        Rip Current Statement            aqua\n",
      "1253               Flood Advisory         #00ff7f\n",
      "369                Frost Advisory  cornflowerblue\n",
      "1120                Heat Advisory         #ff7f4e\n",
      "1063           Lake Wind Advisory             tan\n",
      "258          Small Craft Advisory         thistle\n",
      "1153                  Flood Watch        seagreen\n",
      "91              Flash Flood Watch       limegreen\n",
      "304            Fire Weather Watch     navajowhite\n",
      "253     Severe Thunderstorm Watch   palevioletred\n",
      "382                Freeze Warning            cyan\n",
      "71            Flash Flood Warning         darkred\n",
      "1085                Flood Warning           green\n",
      "19    Severe Thunderstorm Warning          orange\n"
     ]
    }
   ],
   "source": [
    "# check for missing colors.\n",
    "\n",
    "if (warning_color_table['color'].isnull().values.any()):\n",
    "    print(\"Missing Colors Found\")\n",
    "    loc_missing = warning_color_table.index[warning_color_table['color'].isnull()].tolist()\n",
    "    print(loc_missing)\n",
    "    print(warning_color_table.loc[loc_missing])\n",
    "    warning_color_table.loc[loc_missing,\"color\"] = '#ffffff'\n",
    "    \n",
    "print(\"replaced\")\n",
    "print(warning_color_table)"
   ]
  },
  {
   "cell_type": "code",
   "execution_count": 9,
   "id": "870e6daa-fbf6-4de2-b69b-eaa17b56d2d4",
   "metadata": {},
   "outputs": [
    {
     "name": "stdout",
     "output_type": "stream",
     "text": [
      "[['Hydrologic Outlook', '#00ff7f'], ['Marine Weather Statement', 'moccasin'], ['Special Weather Statement', 'moccasin'], ['Beach Hazards Statement', 'turquoise'], ['Rip Current Statement', 'aqua'], ['Flood Advisory', '#00ff7f'], ['Frost Advisory', 'cornflowerblue'], ['Heat Advisory', '#ff7f4e'], ['Lake Wind Advisory', 'tan'], ['Small Craft Advisory', 'thistle'], ['Flood Watch', 'seagreen'], ['Flash Flood Watch', 'limegreen'], ['Fire Weather Watch', 'navajowhite'], ['Severe Thunderstorm Watch', 'palevioletred'], ['Freeze Warning', 'cyan'], ['Flash Flood Warning', 'darkred'], ['Flood Warning', 'green'], ['Severe Thunderstorm Warning', 'orange']]\n"
     ]
    }
   ],
   "source": [
    "legend_color_table = warning_color_table.values.tolist()\n",
    "print(legend_color_table)\n",
    "legend_color_table = []\n",
    "\n",
    "for row in warning_color_table.iterrows():\n",
    "    mypatch = [mpatches.Patch(color=row[1][1], label=row[1][0])]\n",
    "    legend_color_table = legend_color_table + mypatch\n",
    "    \n",
    "    \n",
    "  "
   ]
  },
  {
   "cell_type": "code",
   "execution_count": 10,
   "id": "8d146328",
   "metadata": {},
   "outputs": [
    {
     "name": "stdout",
     "output_type": "stream",
     "text": [
      "                            event           color\n",
      "993            Hydrologic Outlook         #00ff7f\n",
      "750      Marine Weather Statement        moccasin\n",
      "911     Special Weather Statement        moccasin\n",
      "334       Beach Hazards Statement       turquoise\n",
      "1029        Rip Current Statement            aqua\n",
      "1253               Flood Advisory         #00ff7f\n",
      "369                Frost Advisory  cornflowerblue\n",
      "1120                Heat Advisory         #ff7f4e\n",
      "1063           Lake Wind Advisory             tan\n",
      "258          Small Craft Advisory         thistle\n",
      "1153                  Flood Watch        seagreen\n",
      "91              Flash Flood Watch       limegreen\n",
      "304            Fire Weather Watch     navajowhite\n",
      "253     Severe Thunderstorm Watch   palevioletred\n",
      "382                Freeze Warning            cyan\n",
      "71            Flash Flood Warning         darkred\n",
      "1085                Flood Warning           green\n",
      "19    Severe Thunderstorm Warning          orange\n"
     ]
    }
   ],
   "source": [
    "print(warning_color_table)\n"
   ]
  },
  {
   "cell_type": "code",
   "execution_count": 11,
   "id": "17de7732-f91b-4af9-9385-f641abec3f77",
   "metadata": {},
   "outputs": [
    {
     "name": "stdout",
     "output_type": "stream",
     "text": [
      "15:39:15.986150\n",
      "3 109.53978873577297\n",
      "39 235.5\n"
     ]
    },
    {
     "name": "stderr",
     "output_type": "stream",
     "text": [
      "/Users/wjc/miniconda3/lib/python3.10/site-packages/shapely/constructive.py:181: RuntimeWarning: invalid value encountered in buffer\n",
      "  return lib.buffer(\n",
      "/Users/wjc/miniconda3/lib/python3.10/site-packages/shapely/predicates.py:798: RuntimeWarning: invalid value encountered in intersects\n",
      "  return lib.intersects(a, b, **kwargs)\n"
     ]
    },
    {
     "name": "stdout",
     "output_type": "stream",
     "text": [
      "done\n"
     ]
    }
   ],
   "source": [
    "bbox=[-120,-73,22.5,50]\n",
    "\n",
    "xxx = [-120.0, -73.0]\n",
    "yyy = [  22.5,  50.0]\n",
    "\n",
    "\n",
    "fig = plt.figure(figsize   = [length, height], dpi = dpi,\n",
    "                 facecolor = 'white')\n",
    "\n",
    "ax = fig.add_subplot(1, 1, 1, \n",
    "                     projection=myproj)\n",
    "\n",
    "plt.suptitle(\"NWS Watches and Warnings\",\n",
    "             fontsize = 20*font_fac, \n",
    "             color    = Mines_Blue)\n",
    "ax.set_extent(bbox)\n",
    "ax.set_title(valid_time + \"  (\" + local_time+\")\",\n",
    "             fontsize=15*font_fac, \n",
    "             color=Mines_Blue)\n",
    "\n",
    "current_warnings.plot(ax = ax,aspect='equal',\n",
    "                      facecolor=current_warnings[\"color\"],\n",
    "                      transform=ccrs.PlateCarree(),\n",
    "                      edgecolor='None', linewidth=0)\n",
    "\n",
    "ax.add_feature(cfeature.COASTLINE.with_scale('50m'), \n",
    "               linewidth = 0.5,\n",
    "\t\t\t  edgecolor=Mines_Blue)\n",
    "ax.add_feature(cfeature.STATES.with_scale('50m'),    \n",
    "               linewidth = 0.25, \n",
    "               edgecolor = Mines_Blue)\n",
    "ax.add_feature(cfeature.LAKES.with_scale('50m'),   \n",
    "               linewidth = 0.5,\n",
    "               facecolor = \"none\", \n",
    "               edgecolor = Mines_Blue)\n",
    "ax.add_feature(feature    = USCOUNTIES, \n",
    "                   linewidths = 0.1,\n",
    "                   edgecolor  = Mines_Blue,\n",
    "                   facecolor  = 'none')\n",
    "\n",
    "ax.set_frame_on(False)\n",
    "\n",
    "plt.subplots_adjust(left   = 0.01, \n",
    "                    right  = 0.75, \n",
    "                    top    = 0.91, \n",
    "                    bottom = 0.01)\n",
    "\n",
    "labelspacing = 0.1\n",
    "fig.legend(handles  = legend_color_table, \n",
    "           loc      = 'right',\n",
    "           frameon  = False,fontsize=18,\n",
    "           labelspacing = labelspacing,\n",
    "\t\t\t  labelcolor = Mines_Blue)\n",
    "\n",
    "\n",
    "\n",
    "\n",
    "#########################################\n",
    "#\n",
    "# Insert a Clock\n",
    "#\n",
    "\n",
    "axins = fig.add_axes(rect     =    [0, # 0.015,\n",
    "                                    1-0.12, #0.015,\n",
    "                                    0.12*8/9,\n",
    "                                    0.12],\n",
    "                      projection  =  \"polar\")\n",
    "\n",
    "time_for_clock = pd.to_datetime(time_utc).tz_localize(tz=\"UTC\").tz_convert(tz=tz).time()\n",
    "\n",
    "hour   = time_for_clock.hour\n",
    "minute = time_for_clock.minute\n",
    "second = time_for_clock.second\n",
    "\n",
    "circle_theta  = np.deg2rad(np.arange(0,360,0.01))\n",
    "circle_radius = circle_theta * 0 + 1\n",
    "\n",
    "if (hour > 12) :\n",
    "    hour = hour - 12\n",
    "\n",
    "angles_h = 2*np.pi*hour/12+2*np.pi*minute/(12*60)+2*second/(12*60*60)\n",
    "angles_m = 2*np.pi*minute/60+2*np.pi*second/(60*60)\n",
    "\n",
    "print(time_for_clock)\n",
    "print(hour,   np.rad2deg(angles_h))\n",
    "print(minute, np.rad2deg(angles_m))\n",
    "\n",
    "\n",
    "plt.setp(axins.get_yticklabels(), visible=False)\n",
    "plt.setp(axins.get_xticklabels(), visible=False)\n",
    "axins.spines['polar'].set_visible(False)\n",
    "axins.set_ylim(0,1)\n",
    "axins.set_theta_zero_location('N')\n",
    "axins.set_theta_direction(-1)\n",
    "axins.set_facecolor(\"white\")\n",
    "axins.grid(False)\n",
    "\n",
    "axins.plot([angles_h,angles_h], [0,0.6], color=Mines_Blue, linewidth=1.5*font_fac)\n",
    "axins.plot([angles_m,angles_m], [0,0.95], color=Mines_Blue, linewidth=1.5*font_fac)\n",
    "axins.plot(circle_theta, circle_radius, color=\"darkgrey\", linewidth=1*font_fac)\n",
    "\n",
    "\n",
    "#\n",
    "#########################################\n",
    "        \n",
    "        \n",
    "plt.savefig(gif_file_name, dpi = dpi,\n",
    "                        facecolor   = 'white', \n",
    "                        transparent =   False)\n",
    "\n",
    "\n",
    "plt.close()\n",
    "\n",
    "\n",
    "print(\"done\")"
   ]
  },
  {
   "cell_type": "code",
   "execution_count": null,
   "id": "1cc672aa-08df-4d0b-8ca8-8bd14080ac12",
   "metadata": {},
   "outputs": [],
   "source": []
  },
  {
   "cell_type": "code",
   "execution_count": null,
   "id": "7d430757-be1d-4e05-9764-7dd720afb955",
   "metadata": {},
   "outputs": [],
   "source": []
  },
  {
   "cell_type": "code",
   "execution_count": null,
   "id": "854ee410-a087-411b-b544-d047e28411ec",
   "metadata": {},
   "outputs": [],
   "source": []
  },
  {
   "cell_type": "code",
   "execution_count": null,
   "id": "39923b6b-defd-427e-8341-772aef68d5d2",
   "metadata": {},
   "outputs": [],
   "source": []
  },
  {
   "cell_type": "code",
   "execution_count": null,
   "id": "8e5df190-7d06-4e8e-936b-3b14ea575d07",
   "metadata": {},
   "outputs": [],
   "source": []
  },
  {
   "cell_type": "code",
   "execution_count": 12,
   "id": "e4d8ad5b-2438-4dc4-9eda-cffbe71654f6",
   "metadata": {},
   "outputs": [],
   "source": [
    "import matplotlib as mpl\n"
   ]
  },
  {
   "cell_type": "code",
   "execution_count": 13,
   "id": "871d6ff8-b07d-4eb9-849b-8e09333a88db",
   "metadata": {},
   "outputs": [
    {
     "data": {
      "text/plain": [
       "1.5"
      ]
     },
     "execution_count": 13,
     "metadata": {},
     "output_type": "execute_result"
    }
   ],
   "source": [
    "mpl.rcParams['lines.linewidth']"
   ]
  },
  {
   "cell_type": "code",
   "execution_count": 14,
   "id": "1f94935f-1d06-4798-81eb-57d7092653b8",
   "metadata": {},
   "outputs": [
    {
     "data": {
      "text/plain": [
       "'medium'"
      ]
     },
     "execution_count": 14,
     "metadata": {},
     "output_type": "execute_result"
    }
   ],
   "source": [
    "mpl.rcParams['legend.fontsize']"
   ]
  },
  {
   "cell_type": "code",
   "execution_count": 15,
   "id": "b0780d10-8174-42c3-9707-76a702059a16",
   "metadata": {},
   "outputs": [
    {
     "ename": "KeyError",
     "evalue": "'.fontsize'",
     "output_type": "error",
     "traceback": [
      "\u001b[0;31m---------------------------------------------------------------------------\u001b[0m",
      "\u001b[0;31mKeyError\u001b[0m                                  Traceback (most recent call last)",
      "Cell \u001b[0;32mIn[15], line 1\u001b[0m\n\u001b[0;32m----> 1\u001b[0m \u001b[43mmpl\u001b[49m\u001b[38;5;241;43m.\u001b[39;49m\u001b[43mrcParams\u001b[49m\u001b[43m[\u001b[49m\u001b[38;5;124;43m'\u001b[39;49m\u001b[38;5;124;43m.fontsize\u001b[39;49m\u001b[38;5;124;43m'\u001b[39;49m\u001b[43m]\u001b[49m\n",
      "File \u001b[0;32m~/miniconda3/lib/python3.10/site-packages/matplotlib/__init__.py:746\u001b[0m, in \u001b[0;36mRcParams.__getitem__\u001b[0;34m(self, key)\u001b[0m\n\u001b[1;32m    743\u001b[0m         \u001b[38;5;28;01mfrom\u001b[39;00m \u001b[38;5;21;01mmatplotlib\u001b[39;00m \u001b[38;5;28;01mimport\u001b[39;00m pyplot \u001b[38;5;28;01mas\u001b[39;00m plt\n\u001b[1;32m    744\u001b[0m         plt\u001b[38;5;241m.\u001b[39mswitch_backend(rcsetup\u001b[38;5;241m.\u001b[39m_auto_backend_sentinel)\n\u001b[0;32m--> 746\u001b[0m \u001b[38;5;28;01mreturn\u001b[39;00m \u001b[38;5;28;43mself\u001b[39;49m\u001b[38;5;241;43m.\u001b[39;49m\u001b[43m_get\u001b[49m\u001b[43m(\u001b[49m\u001b[43mkey\u001b[49m\u001b[43m)\u001b[49m\n",
      "File \u001b[0;32m~/miniconda3/lib/python3.10/site-packages/matplotlib/__init__.py:693\u001b[0m, in \u001b[0;36mRcParams._get\u001b[0;34m(self, key)\u001b[0m\n\u001b[1;32m    674\u001b[0m \u001b[38;5;28;01mdef\u001b[39;00m \u001b[38;5;21m_get\u001b[39m(\u001b[38;5;28mself\u001b[39m, key):\n\u001b[1;32m    675\u001b[0m \u001b[38;5;250m    \u001b[39m\u001b[38;5;124;03m\"\"\"\u001b[39;00m\n\u001b[1;32m    676\u001b[0m \u001b[38;5;124;03m    Directly read data bypassing deprecation, backend and validation\u001b[39;00m\n\u001b[1;32m    677\u001b[0m \u001b[38;5;124;03m    logic.\u001b[39;00m\n\u001b[0;32m   (...)\u001b[0m\n\u001b[1;32m    691\u001b[0m \u001b[38;5;124;03m    :meta public:\u001b[39;00m\n\u001b[1;32m    692\u001b[0m \u001b[38;5;124;03m    \"\"\"\u001b[39;00m\n\u001b[0;32m--> 693\u001b[0m     \u001b[38;5;28;01mreturn\u001b[39;00m \u001b[38;5;28;43mdict\u001b[39;49m\u001b[38;5;241;43m.\u001b[39;49m\u001b[38;5;21;43m__getitem__\u001b[39;49m\u001b[43m(\u001b[49m\u001b[38;5;28;43mself\u001b[39;49m\u001b[43m,\u001b[49m\u001b[43m \u001b[49m\u001b[43mkey\u001b[49m\u001b[43m)\u001b[49m\n",
      "\u001b[0;31mKeyError\u001b[0m: '.fontsize'"
     ]
    }
   ],
   "source": [
    "mpl.rcParams['.fontsize']"
   ]
  },
  {
   "cell_type": "code",
   "execution_count": null,
   "id": "9c4513fe-7a6a-42ed-8804-b9413c798576",
   "metadata": {},
   "outputs": [],
   "source": []
  }
 ],
 "metadata": {
  "kernelspec": {
   "display_name": "Python 3 (ipykernel)",
   "language": "python",
   "name": "python3"
  },
  "language_info": {
   "codemirror_mode": {
    "name": "ipython",
    "version": 3
   },
   "file_extension": ".py",
   "mimetype": "text/x-python",
   "name": "python",
   "nbconvert_exporter": "python",
   "pygments_lexer": "ipython3",
   "version": "3.10.10"
  }
 },
 "nbformat": 4,
 "nbformat_minor": 5
}
