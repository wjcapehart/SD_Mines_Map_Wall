{
 "cells": [
  {
   "cell_type": "markdown",
   "id": "e19355ae-4c05-4898-b175-01eff3a65793",
   "metadata": {},
   "source": [
    "# Fast Example of Cracking a NARR file from our local file system\n",
    "\n",
    "On our file system under the directory area \n",
    "\n",
    "* [numpy](https://numpy.org), our standard numerical manager in python\n",
    "MatPlotLib's PyPlot and a few other features\n",
    "* [datetime](https://docs.python.org/3/library/datetime.html) Python's intrinsic collection of date time control... \n",
    "* [Cartopy.crs](https://scitools.org.uk/cartopy/docs/latest/reference/crs.html): Cartopy's list of map projections. It's job is to connect the x and y position (we call them eastings and northings) to latitude and longitude. CRS stands for \"Coordinate Reference System.\"\n",
    "* [Cartopy.features](https://scitools.org.uk/cartopy/docs/latest/reference/feature.html): The features interface in Cartopy draws a set of pre-prepared geospatial features onto the Axes to where the projection (taken from Cartopy.crs) has been defined.\n",
    "* [xarray](https://docs.xarray.dev/en/stable/), Pythons advanced array handling libraries (includes support for GRIB and NetCDF)\n",
    "* [metpy](https://unidata.github.io/MetPy/latest/index.html), Unidata's Meteo Libraries\n",
    "* [datetime](https://docs.python.org/3/library/datetime.html) Python's intrinsic collection of date time control... "
   ]
  },
  {
   "cell_type": "code",
   "execution_count": null,
   "id": "655c28a4-39be-4a0b-8e89-c57adc064bc3",
   "metadata": {},
   "outputs": [],
   "source": [
    "################################################\n",
    "#\n",
    "# Libraries\n",
    "#\n",
    "\n",
    "import numpy             as np\n",
    "import datetime          as dt\n",
    "\n",
    "import matplotlib        as mpl\n",
    "\n",
    "\n",
    "import matplotlib.pyplot as plt\n",
    "\n",
    "#\n",
    "################################################\n",
    "\n"
   ]
  }
 ],
 "metadata": {
  "kernelspec": {
   "display_name": "Python 3 (ipykernel)",
   "language": "python",
   "name": "python3"
  },
  "language_info": {
   "codemirror_mode": {
    "name": "ipython",
    "version": 3
   },
   "file_extension": ".py",
   "mimetype": "text/x-python",
   "name": "python",
   "nbconvert_exporter": "python",
   "pygments_lexer": "ipython3",
   "version": "3.9.10"
  }
 },
 "nbformat": 4,
 "nbformat_minor": 5
}
