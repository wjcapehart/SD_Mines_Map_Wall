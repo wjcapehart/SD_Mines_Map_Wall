{
 "cells": [
  {
   "cell_type": "markdown",
   "id": "cb2ffe77-546e-4824-bfea-b609e99c93f4",
   "metadata": {},
   "source": [
    "# Blended Meso 1 & 2 + SODAK"
   ]
  },
  {
   "cell_type": "code",
   "execution_count": 1,
   "id": "ef0fbe00-eb3c-4d10-99b4-32bb52d5bbf9",
   "metadata": {},
   "outputs": [],
   "source": [
    "##################################################\n",
    "#\n",
    "# Libraries\n",
    "#\n",
    "\n",
    "\n",
    "\n",
    "\n",
    "\n",
    "from metpy.plots    import colortables\n",
    "from metpy.plots    import add_timestamp\n",
    "from datetime       import datetime\n",
    "from siphon.catalog import TDSCatalog\n",
    "from datetime       import datetime\n",
    "\n",
    "\n",
    "import numpy             as np\n",
    "import os                as os\n",
    "import pandas            as pd\n",
    "import pathlib           as pathlib\n",
    "\n",
    "import metpy\n",
    "import cartopy.crs       as ccrs\n",
    "import cartopy.feature   as cfeature\n",
    "import matplotlib.pyplot as plt\n",
    "import matplotlib.patches as patches\n",
    "\n",
    "\n",
    "\n",
    "\n",
    "\n",
    "#\n",
    "##################################################"
   ]
  },
  {
   "cell_type": "code",
   "execution_count": 2,
   "id": "fef2bfda-f924-44db-8736-0692e5af9680",
   "metadata": {},
   "outputs": [
    {
     "name": "stdout",
     "output_type": "stream",
     "text": [
      "/Users/wjc/GitHub/SD_Mines_Map_Wall/\n"
     ]
    }
   ],
   "source": [
    "##################################################\n",
    "#\n",
    "# Channel Labels\n",
    "#\n",
    "\n",
    "MAINDIR = os.getcwd() +\"/\"\n",
    "print(MAINDIR)\n",
    "\n",
    "alpha_factor = 0.05\n",
    "\n",
    "\n",
    "channel_vis =                        2\n",
    "channel_tir =                       13\n",
    "\n",
    "channel_lab = [' Channel Zero',                     #  0\n",
    "               ' [0.47 µm Blue-Visible]',           #  1\n",
    "               ' [0.64 µm Red-Visible]',            #  2\n",
    "               ' [0.86 µm Vegetation Near-IR]',     #  3\n",
    "               ' [1.37 µm Cirrus Near-IR]',         #  4\n",
    "               ' [1.6 µm Snow/Ice Near-IR]',        #  5\n",
    "               ' [2.2 µm Cloud Particle Near-IR]',  #  6\n",
    "               ' [3.9 µm Middle Infrared]',         #  7\n",
    "               ' [6.2 µm Upper-Level Water Vapor]', #  8\n",
    "               ' [6.9 µm Mid-Level Water Vapor]',   #  9\n",
    "               ' [7.3 µm Low-Level Water Vapor]',   # 10\n",
    "               ' [8.4 µm Cloud-Top Infrared]',      # 11\n",
    "               ' [9.6 µm Ozone Infrared]',          # 12\n",
    "               ' [10.3 µm Clean IR Window]',        # 13\n",
    "               ' [11.2 µm Middle IR Window]',       # 14\n",
    "               ' [12.3 µm Dirty IR Window]',        # 15\n",
    "               ' [13.3 µm CO₂ Infrared]']           # 16\n",
    "\n",
    "gif_file_name1  = \"./graphics_files/RealTime_SAT_IR_Meso1_Loop.gif\"\n",
    "gif_file_name2  = \"./graphics_files/RealTime_SAT_IR_Meso2_Loop.gif\"\n",
    "gif_file_name3  = \"./graphics_files/RealTime_SAT_IR_SODAK_Loop.gif\"\n",
    "gif_file_name12 = \"./graphics_files/RealTime_SAT_IR_Meso12_Loop.gif\"\n",
    "\n",
    "png_file_dir1  = \"./temp_files_sat_meso1/\"\n",
    "png_file_dir2  = \"./temp_files_sat_meso2/\"\n",
    "png_file_dir3  = \"./temp_files_sat_sodak/\"\n",
    "\n",
    "i_rap_t      =  801\n",
    "j_rap_t      =  231\n",
    "\n",
    "imin_rap_tir =  551 # i_rap-250\n",
    "imax_rap_tir = 1051 # i_rap+250\n",
    "jmin_rap_tir =    0 # j_rap-250+19\n",
    "jmax_rap_tir =  500 # j_rap+250-19\n",
    "\n",
    "imin_rap_vis = 1103*2 # np.argmin(np.abs(x_vis-x_min_t).values)\n",
    "imax_rap_vis = 2102*2 # np.argmin(np.abs(x_vis-x_max_t).values)\n",
    "jmin_rap_vis =    0*2 # np.argmin(np.abs(y_vis-y_min_t).values)\n",
    "jmax_rap_vis = 1000*2 # np.argmin(np.abs(y_vis-y_max_t).values)\n",
    "\n",
    "#\n",
    "##################################################"
   ]
  },
  {
   "cell_type": "markdown",
   "id": "485b6455-d0a4-4ff2-a615-8d55681b1502",
   "metadata": {},
   "source": [
    "## Meso Floater 1"
   ]
  },
  {
   "cell_type": "code",
   "execution_count": 3,
   "id": "6a15c211-db46-4df8-8523-756dce4eebf1",
   "metadata": {},
   "outputs": [
    {
     "name": "stdout",
     "output_type": "stream",
     "text": [
      "https://thredds.ucar.edu/thredds/catalog/satellite/goes/east/products/CloudAndMoistureImagery/Mesoscale-1/Channel02/current/catalog.xml\n",
      "https://thredds.ucar.edu/thredds/catalog/satellite/goes/east/products/CloudAndMoistureImagery/Mesoscale-1/Channel13/current/catalog.xml\n"
     ]
    }
   ],
   "source": [
    "##################################################\n",
    "#\n",
    "# Control Setup\n",
    "#\n",
    "\n",
    "# %load solutions/data_url.py\n",
    "\n",
    "total_frames = int(45*2 * 0.8)\n",
    "\n",
    "# Cell content replaced by load magic replacement.\n",
    "\n",
    "# Create variables for URL generation\n",
    "\n",
    "image_date  = datetime.utcnow().date()\n",
    "region      =            'Mesoscale-1'\n",
    "\n",
    "if (region == 'Mesoscale-1') :\n",
    "    region_lab               = \" Meso-1 Band \"\n",
    "    png_processing_directory = png_file_dir1\n",
    "    gif_file_name            = gif_file_name1\n",
    "\n",
    "if (region == 'Mesoscale-2') :\n",
    "    region_lab               = ' Meso-2 Band '\n",
    "    png_processing_directory = png_file_dir2\n",
    "    gif_file_name            = gif_file_name2\n",
    "\n",
    "    \n",
    "if (region == 'CONUS') :\n",
    "    region_lab               = ' SODAK Band '\n",
    "    png_processing_directory = png_file_dir3\n",
    "    gif_file_name            = gif_file_name3\n",
    "\n",
    "# We want to match something like:\n",
    "# https://thredds-test.unidata.ucar.edu/thredds/catalog/satellite/goes16/GOES16/Mesoscale-1/Channel08/20181113/catalog.html\n",
    "\n",
    "# Construct the data_url string\n",
    "\n",
    "data_url_vis = ('https://thredds.ucar.edu/thredds/catalog/satellite/goes/east/products/'\n",
    "                f'CloudAndMoistureImagery/{region}/Channel{channel_vis:02d}/current/catalog.xml')\n",
    "\n",
    "data_url_tir = ('https://thredds.ucar.edu/thredds/catalog/satellite/goes/east/products/'\n",
    "                f'CloudAndMoistureImagery/{region}/Channel{channel_tir:02d}/current/catalog.xml')\n",
    "\n",
    "\n",
    "# Print out your URL and verify it works!\n",
    "\n",
    "print(data_url_vis)\n",
    "print(data_url_tir)\n",
    "\n",
    "#\n",
    "##################################################"
   ]
  },
  {
   "cell_type": "code",
   "execution_count": 4,
   "id": "dedb3b0e-e6af-4725-ba55-a3af47d2b360",
   "metadata": {},
   "outputs": [],
   "source": [
    "##################################################\n",
    "#\n",
    "# Pull Catalog\n",
    "#\n",
    "\n",
    "cat_vis = TDSCatalog(data_url_vis)\n",
    "cat_tir = TDSCatalog(data_url_tir)\n",
    "\n",
    "#\n",
    "##################################################"
   ]
  },
  {
   "cell_type": "code",
   "execution_count": 5,
   "id": "3166a859-937a-4364-939b-b1cf85886904",
   "metadata": {},
   "outputs": [],
   "source": [
    "##################################################\n",
    "#\n",
    "# Create File Inventories\n",
    "#\n",
    "\n",
    "file_names_to_retain = list()\n",
    "file_names_to_use    = list()\n",
    "\n",
    "\n",
    "for i in range(len(cat_vis.datasets)-total_frames,len(cat_vis.datasets),1) :\n",
    "    filename = cat_vis.datasets[i].name.replace(\".nc\",\".png\")\n",
    "    filename = filename[:20] + \"xx\" + filename[22:]\n",
    "    filename = png_processing_directory + filename\n",
    "    file_names_to_retain.append(filename)\n",
    "    file_names_to_use.append(filename)\n",
    "        \n",
    "files_on_hand = [png_processing_directory + s for s in os.listdir(png_processing_directory)]\n",
    "\n",
    "file_names_to_retain.sort()\n",
    "file_names_to_use.sort()\n",
    "\n",
    "file_names_to_use_meso1 = file_names_to_use.copy()\n",
    "\n",
    "#\n",
    "##################################################    "
   ]
  },
  {
   "cell_type": "code",
   "execution_count": 6,
   "id": "85b3463c-dd32-4f18-8d0b-dd5a63d10dca",
   "metadata": {},
   "outputs": [
    {
     "name": "stdout",
     "output_type": "stream",
     "text": [
      "Purging  ./temp_files_sat_meso1/OR_ABI-L2-CMIPM1-M6Cxx_G16_s20222722104250_e20222722104250_c20222722104250.png\n",
      "Purging  ./temp_files_sat_meso1/OR_ABI-L2-CMIPM1-M6Cxx_G16_s20222722102250_e20222722102250_c20222722102250.png\n",
      "Purging  ./temp_files_sat_meso1/OR_ABI-L2-CMIPM1-M6Cxx_G16_s20222722138250_e20222722138250_c20222722138250.png\n",
      "Purging  ./temp_files_sat_meso1/OR_ABI-L2-CMIPM1-M6Cxx_G16_s20222722116250_e20222722116250_c20222722116250.png\n",
      "Purging  ./temp_files_sat_meso1/OR_ABI-L2-CMIPM1-M6Cxx_G16_s20222722108250_e20222722108250_c20222722108250.png\n",
      "Purging  ./temp_files_sat_meso1/OR_ABI-L2-CMIPM1-M6Cxx_G16_s20222722126250_e20222722126250_c20222722126250.png\n",
      "Purging  ./temp_files_sat_meso1/OR_ABI-L2-CMIPM1-M6Cxx_G16_s20222722132250_e20222722132250_c20222722132250.png\n",
      "Purging  ./temp_files_sat_meso1/OR_ABI-L2-CMIPM1-M6Cxx_G16_s20222722134250_e20222722134250_c20222722134250.png\n",
      "Purging  ./temp_files_sat_meso1/OR_ABI-L2-CMIPM1-M6Cxx_G16_s20222722154250_e20222722154250_c20222722154250.png\n",
      "Purging  ./temp_files_sat_meso1/OR_ABI-L2-CMIPM1-M6Cxx_G16_s20222722146250_e20222722146250_c20222722146250.png\n",
      "Purging  ./temp_files_sat_meso1/OR_ABI-L2-CMIPM1-M6Cxx_G16_s20222722152250_e20222722152250_c20222722152250.png\n",
      "Purging  ./temp_files_sat_meso1/OR_ABI-L2-CMIPM1-M6Cxx_G16_s20222722158250_e20222722158250_c20222722158250.png\n",
      "Purging  ./temp_files_sat_meso1/OR_ABI-L2-CMIPM1-M6Cxx_G16_s20222722105250_e20222722105250_c20222722105250.png\n",
      "Purging  ./temp_files_sat_meso1/OR_ABI-L2-CMIPM1-M6Cxx_G16_s20222722111250_e20222722111250_c20222722111250.png\n",
      "Purging  ./temp_files_sat_meso1/OR_ABI-L2-CMIPM1-M6Cxx_G16_s20222722103250_e20222722103250_c20222722103250.png\n",
      "Purging  ./temp_files_sat_meso1/OR_ABI-L2-CMIPM1-M6Cxx_G16_s20222722117250_e20222722117250_c20222722117250.png\n",
      "Purging  ./temp_files_sat_meso1/OR_ABI-L2-CMIPM1-M6Cxx_G16_s20222722139250_e20222722139250_c20222722139250.png\n",
      "Purging  ./temp_files_sat_meso1/OR_ABI-L2-CMIPM1-M6Cxx_G16_s20222722127250_e20222722127250_c20222722127250.png\n",
      "Purging  ./temp_files_sat_meso1/OR_ABI-L2-CMIPM1-M6Cxx_G16_s20222722109250_e20222722109250_c20222722109250.png\n",
      "Purging  ./temp_files_sat_meso1/OR_ABI-L2-CMIPM1-M6Cxx_G16_s20222722133250_e20222722133250_c20222722133250.png\n",
      "Purging  ./temp_files_sat_meso1/OR_ABI-L2-CMIPM1-M6Cxx_G16_s20222722121250_e20222722121250_c20222722121250.png\n",
      "Purging  ./temp_files_sat_meso1/OR_ABI-L2-CMIPM1-M6Cxx_G16_s20222722135250_e20222722135250_c20222722135250.png\n",
      "Purging  ./temp_files_sat_meso1/OR_ABI-L2-CMIPM1-M6Cxx_G16_s20222722141250_e20222722141250_c20222722141250.png\n",
      "Purging  ./temp_files_sat_meso1/OR_ABI-L2-CMIPM1-M6Cxx_G16_s20222722155250_e20222722155250_c20222722155250.png\n",
      "Purging  ./temp_files_sat_meso1/OR_ABI-L2-CMIPM1-M6Cxx_G16_s20222722147250_e20222722147250_c20222722147250.png\n",
      "Purging  ./temp_files_sat_meso1/OR_ABI-L2-CMIPM1-M6Cxx_G16_s20222722153250_e20222722153250_c20222722153250.png\n",
      "Purging  ./temp_files_sat_meso1/OR_ABI-L2-CMIPM1-M6Cxx_G16_s20222722200280_e20222722200280_c20222722200280.png\n",
      "Purging  ./temp_files_sat_meso1/OR_ABI-L2-CMIPM1-M6Cxx_G16_s20222722159250_e20222722159250_c20222722159250.png\n",
      "Purging  ./temp_files_sat_meso1/OR_ABI-L2-CMIPM1-M6Cxx_G16_s20222722202250_e20222722202250_c20222722202250.png\n",
      "Purging  ./temp_files_sat_meso1/OR_ABI-L2-CMIPM1-M6Cxx_G16_s20222722204250_e20222722204250_c20222722204250.png\n",
      "Purging  ./temp_files_sat_meso1/OR_ABI-L2-CMIPM1-M6Cxx_G16_s20222722150280_e20222722150280_c20222722150280.png\n",
      "Purging  ./temp_files_sat_meso1/OR_ABI-L2-CMIPM1-M6Cxx_G16_s20222722203250_e20222722203250_c20222722203250.png\n",
      "Purging  ./temp_files_sat_meso1/OR_ABI-L2-CMIPM1-M6Cxx_G16_s20222722205250_e20222722205250_c20222722205250.png\n",
      "Purging  ./temp_files_sat_meso1/OR_ABI-L2-CMIPM1-M6Cxx_G16_s20222722100280_e20222722100280_c20222722100280.png\n",
      "Purging  ./temp_files_sat_meso1/OR_ABI-L2-CMIPM1-M6Cxx_G16_s20222722130280_e20222722130280_c20222722130280.png\n",
      "Purging  ./temp_files_sat_meso1/OR_ABI-L2-CMIPM1-M6Cxx_G16_s20222722056250_e20222722056250_c20222722056250.png\n",
      "Purging  ./temp_files_sat_meso1/OR_ABI-L2-CMIPM1-M6Cxx_G16_s20222722057250_e20222722057250_c20222722057250.png\n",
      "Purging  ./temp_files_sat_meso1/OR_ABI-L2-CMIPM1-M6Cxx_G16_s20222722113250_e20222722113250_c20222722113250.png\n",
      "Purging  ./temp_files_sat_meso1/OR_ABI-L2-CMIPM1-M6Cxx_G16_s20222722129250_e20222722129250_c20222722129250.png\n",
      "Purging  ./temp_files_sat_meso1/OR_ABI-L2-CMIPM1-M6Cxx_G16_s20222722107250_e20222722107250_c20222722107250.png\n",
      "Purging  ./temp_files_sat_meso1/OR_ABI-L2-CMIPM1-M6Cxx_G16_s20222722115250_e20222722115250_c20222722115250.png\n",
      "Purging  ./temp_files_sat_meso1/OR_ABI-L2-CMIPM1-M6Cxx_G16_s20222722101250_e20222722101250_c20222722101250.png\n",
      "Purging  ./temp_files_sat_meso1/OR_ABI-L2-CMIPM1-M6Cxx_G16_s20222722131250_e20222722131250_c20222722131250.png\n",
      "Purging  ./temp_files_sat_meso1/OR_ABI-L2-CMIPM1-M6Cxx_G16_s20222722125250_e20222722125250_c20222722125250.png\n",
      "Purging  ./temp_files_sat_meso1/OR_ABI-L2-CMIPM1-M6Cxx_G16_s20222722119250_e20222722119250_c20222722119250.png\n",
      "Purging  ./temp_files_sat_meso1/OR_ABI-L2-CMIPM1-M6Cxx_G16_s20222722137250_e20222722137250_c20222722137250.png\n",
      "Purging  ./temp_files_sat_meso1/OR_ABI-L2-CMIPM1-M6Cxx_G16_s20222722123250_e20222722123250_c20222722123250.png\n",
      "Purging  ./temp_files_sat_meso1/OR_ABI-L2-CMIPM1-M6Cxx_G16_s20222722157250_e20222722157250_c20222722157250.png\n",
      "Purging  ./temp_files_sat_meso1/OR_ABI-L2-CMIPM1-M6Cxx_G16_s20222722143250_e20222722143250_c20222722143250.png\n",
      "Purging  ./temp_files_sat_meso1/OR_ABI-L2-CMIPM1-M6Cxx_G16_s20222722151250_e20222722151250_c20222722151250.png\n",
      "Purging  ./temp_files_sat_meso1/OR_ABI-L2-CMIPM1-M6Cxx_G16_s20222722145250_e20222722145250_c20222722145250.png\n",
      "Purging  ./temp_files_sat_meso1/OR_ABI-L2-CMIPM1-M6Cxx_G16_s20222722149250_e20222722149250_c20222722149250.png\n",
      "Purging  ./temp_files_sat_meso1/OR_ABI-L2-CMIPM1-M6Cxx_G16_s20222722112250_e20222722112250_c20222722112250.png\n",
      "Purging  ./temp_files_sat_meso1/OR_ABI-L2-CMIPM1-M6Cxx_G16_s20222722106250_e20222722106250_c20222722106250.png\n",
      "Purging  ./temp_files_sat_meso1/OR_ABI-L2-CMIPM1-M6Cxx_G16_s20222722128250_e20222722128250_c20222722128250.png\n",
      "Purging  ./temp_files_sat_meso1/OR_ABI-L2-CMIPM1-M6Cxx_G16_s20222722114250_e20222722114250_c20222722114250.png\n",
      "Purging  ./temp_files_sat_meso1/OR_ABI-L2-CMIPM1-M6Cxx_G16_s20222722124250_e20222722124250_c20222722124250.png\n",
      "Purging  ./temp_files_sat_meso1/OR_ABI-L2-CMIPM1-M6Cxx_G16_s20222722136250_e20222722136250_c20222722136250.png\n",
      "Purging  ./temp_files_sat_meso1/OR_ABI-L2-CMIPM1-M6Cxx_G16_s20222722118250_e20222722118250_c20222722118250.png\n",
      "Purging  ./temp_files_sat_meso1/OR_ABI-L2-CMIPM1-M6Cxx_G16_s20222722122250_e20222722122250_c20222722122250.png\n",
      "Purging  ./temp_files_sat_meso1/OR_ABI-L2-CMIPM1-M6Cxx_G16_s20222722156250_e20222722156250_c20222722156250.png\n",
      "Purging  ./temp_files_sat_meso1/OR_ABI-L2-CMIPM1-M6Cxx_G16_s20222722142250_e20222722142250_c20222722142250.png\n",
      "Purging  ./temp_files_sat_meso1/OR_ABI-L2-CMIPM1-M6Cxx_G16_s20222722144250_e20222722144250_c20222722144250.png\n",
      "Purging  ./temp_files_sat_meso1/OR_ABI-L2-CMIPM1-M6Cxx_G16_s20222722148250_e20222722148250_c20222722148250.png\n",
      "Purging  ./temp_files_sat_meso1/OR_ABI-L2-CMIPM1-M6Cxx_G16_s20222722140280_e20222722140280_c20222722140280.png\n",
      "Purging  ./temp_files_sat_meso1/OR_ABI-L2-CMIPM1-M6Cxx_G16_s20222722201250_e20222722201250_c20222722201250.png\n",
      "Purging  ./temp_files_sat_meso1/OR_ABI-L2-CMIPM1-M6Cxx_G16_s20222722110280_e20222722110280_c20222722110280.png\n",
      "Purging  ./temp_files_sat_meso1/OR_ABI-L2-CMIPM1-M6Cxx_G16_s20222722120280_e20222722120280_c20222722120280.png\n",
      "Purging  ./temp_files_sat_meso1/OR_ABI-L2-CMIPM1-M6Cxx_G16_s20222722059250_e20222722059250_c20222722059250.png\n",
      "Purging  ./temp_files_sat_meso1/OR_ABI-L2-CMIPM1-M6Cxx_G16_s20222722055250_e20222722055250_c20222722055250.png\n",
      "Purging  ./temp_files_sat_meso1/OR_ABI-L2-CMIPM1-M6Cxx_G16_s20222722058250_e20222722058250_c20222722058250.png\n",
      "Purging  ./temp_files_sat_meso1/OR_ABI-L2-CMIPM1-M6Cxx_G16_s20222722054250_e20222722054250_c20222722054250.png\n"
     ]
    }
   ],
   "source": [
    "##################################################\n",
    "#\n",
    "# Clean PNG Directory\n",
    "#\n",
    "\n",
    "for filename in files_on_hand:\n",
    "    if filename not in file_names_to_retain:\n",
    "        print(\"Purging \", filename )\n",
    "        os.remove( filename  )\n",
    "    else:\n",
    "        print(\"Keeping \", filename )\n",
    "#\n",
    "##################################################    "
   ]
  },
  {
   "cell_type": "code",
   "execution_count": 7,
   "id": "ad4f2b18-ec6d-4cd5-8e24-c79eaff0e20a",
   "metadata": {},
   "outputs": [
    {
     "name": "stdout",
     "output_type": "stream",
     "text": [
      "pixels :  2 (2000, 2000)\n",
      "Fraction of Missings :  0.0\n",
      "2022-10-15 17:27:24 UTC 2022-10-15 11:27:24 MDT\n",
      "11:27:24\n",
      "11 343.5636619772368\n",
      "27 164.4\n"
     ]
    },
    {
     "name": "stderr",
     "output_type": "stream",
     "text": [
      "/var/folders/0c/8xbkg06s6cz0yy2505h06nlm00017d/T/ipykernel_70132/28324883.py:150: UserWarning: This figure includes Axes that are not compatible with tight_layout, so results might be incorrect.\n",
      "  plt.tight_layout()\n"
     ]
    },
    {
     "name": "stdout",
     "output_type": "stream",
     "text": [
      "pixels :  2 (2000, 2000)\n",
      "Fraction of Missings :  0.0\n",
      "2022-10-15 17:28:24 UTC 2022-10-15 11:28:24 MDT\n",
      "11:28:24\n",
      "11 344.06366197723673\n",
      "28 170.4\n"
     ]
    },
    {
     "name": "stderr",
     "output_type": "stream",
     "text": [
      "/var/folders/0c/8xbkg06s6cz0yy2505h06nlm00017d/T/ipykernel_70132/28324883.py:150: UserWarning: This figure includes Axes that are not compatible with tight_layout, so results might be incorrect.\n",
      "  plt.tight_layout()\n"
     ]
    },
    {
     "name": "stdout",
     "output_type": "stream",
     "text": [
      "pixels :  2 (2000, 2000)\n",
      "Fraction of Missings :  0.0\n",
      "2022-10-15 17:29:24 UTC 2022-10-15 11:29:24 MDT\n",
      "11:29:24\n",
      "11 344.5636619772368\n",
      "29 176.4\n"
     ]
    },
    {
     "name": "stderr",
     "output_type": "stream",
     "text": [
      "/var/folders/0c/8xbkg06s6cz0yy2505h06nlm00017d/T/ipykernel_70132/28324883.py:150: UserWarning: This figure includes Axes that are not compatible with tight_layout, so results might be incorrect.\n",
      "  plt.tight_layout()\n"
     ]
    },
    {
     "name": "stdout",
     "output_type": "stream",
     "text": [
      "pixels :  2 (2000, 2000)\n",
      "Fraction of Missings :  0.0\n",
      "2022-10-15 17:30:27 UTC 2022-10-15 11:30:27 MDT\n",
      "11:30:27\n",
      "11 345.0716197243913\n",
      "30 182.7\n"
     ]
    },
    {
     "name": "stderr",
     "output_type": "stream",
     "text": [
      "/var/folders/0c/8xbkg06s6cz0yy2505h06nlm00017d/T/ipykernel_70132/28324883.py:150: UserWarning: This figure includes Axes that are not compatible with tight_layout, so results might be incorrect.\n",
      "  plt.tight_layout()\n"
     ]
    },
    {
     "name": "stdout",
     "output_type": "stream",
     "text": [
      "pixels :  2 (2000, 2000)\n",
      "Fraction of Missings :  0.0\n",
      "2022-10-15 17:31:24 UTC 2022-10-15 11:31:24 MDT\n",
      "11:31:24\n",
      "11 345.56366197723673\n",
      "31 188.39999999999998\n"
     ]
    },
    {
     "name": "stderr",
     "output_type": "stream",
     "text": [
      "/var/folders/0c/8xbkg06s6cz0yy2505h06nlm00017d/T/ipykernel_70132/28324883.py:150: UserWarning: This figure includes Axes that are not compatible with tight_layout, so results might be incorrect.\n",
      "  plt.tight_layout()\n"
     ]
    },
    {
     "name": "stdout",
     "output_type": "stream",
     "text": [
      "pixels :  2 (2000, 2000)\n",
      "Fraction of Missings :  0.0\n",
      "2022-10-15 17:32:24 UTC 2022-10-15 11:32:24 MDT\n",
      "11:32:24\n",
      "11 346.0636619772368\n",
      "32 194.4\n"
     ]
    },
    {
     "name": "stderr",
     "output_type": "stream",
     "text": [
      "/var/folders/0c/8xbkg06s6cz0yy2505h06nlm00017d/T/ipykernel_70132/28324883.py:150: UserWarning: This figure includes Axes that are not compatible with tight_layout, so results might be incorrect.\n",
      "  plt.tight_layout()\n"
     ]
    },
    {
     "name": "stdout",
     "output_type": "stream",
     "text": [
      "pixels :  2 (2000, 2000)\n",
      "Fraction of Missings :  0.0\n",
      "2022-10-15 17:33:24 UTC 2022-10-15 11:33:24 MDT\n",
      "11:33:24\n",
      "11 346.56366197723673\n",
      "33 200.4\n"
     ]
    },
    {
     "name": "stderr",
     "output_type": "stream",
     "text": [
      "/var/folders/0c/8xbkg06s6cz0yy2505h06nlm00017d/T/ipykernel_70132/28324883.py:150: UserWarning: This figure includes Axes that are not compatible with tight_layout, so results might be incorrect.\n",
      "  plt.tight_layout()\n"
     ]
    },
    {
     "name": "stdout",
     "output_type": "stream",
     "text": [
      "pixels :  2 (2000, 2000)\n",
      "Fraction of Missings :  0.0\n",
      "2022-10-15 17:34:24 UTC 2022-10-15 11:34:24 MDT\n",
      "11:34:24\n",
      "11 347.06366197723673\n",
      "34 206.4\n"
     ]
    },
    {
     "name": "stderr",
     "output_type": "stream",
     "text": [
      "/var/folders/0c/8xbkg06s6cz0yy2505h06nlm00017d/T/ipykernel_70132/28324883.py:150: UserWarning: This figure includes Axes that are not compatible with tight_layout, so results might be incorrect.\n",
      "  plt.tight_layout()\n"
     ]
    },
    {
     "name": "stdout",
     "output_type": "stream",
     "text": [
      "pixels :  2 (2000, 2000)\n",
      "Fraction of Missings :  0.0\n",
      "2022-10-15 17:35:24 UTC 2022-10-15 11:35:24 MDT\n",
      "11:35:24\n",
      "11 347.56366197723673\n",
      "35 212.4\n"
     ]
    },
    {
     "name": "stderr",
     "output_type": "stream",
     "text": [
      "/var/folders/0c/8xbkg06s6cz0yy2505h06nlm00017d/T/ipykernel_70132/28324883.py:150: UserWarning: This figure includes Axes that are not compatible with tight_layout, so results might be incorrect.\n",
      "  plt.tight_layout()\n"
     ]
    },
    {
     "name": "stdout",
     "output_type": "stream",
     "text": [
      "pixels :  2 (2000, 2000)\n",
      "Fraction of Missings :  0.0\n",
      "2022-10-15 17:36:24 UTC 2022-10-15 11:36:24 MDT\n",
      "11:36:24\n",
      "11 348.06366197723673\n",
      "36 218.4\n"
     ]
    },
    {
     "name": "stderr",
     "output_type": "stream",
     "text": [
      "/var/folders/0c/8xbkg06s6cz0yy2505h06nlm00017d/T/ipykernel_70132/28324883.py:150: UserWarning: This figure includes Axes that are not compatible with tight_layout, so results might be incorrect.\n",
      "  plt.tight_layout()\n"
     ]
    },
    {
     "name": "stdout",
     "output_type": "stream",
     "text": [
      "pixels :  2 (2000, 2000)\n",
      "Fraction of Missings :  0.0\n",
      "2022-10-15 17:37:24 UTC 2022-10-15 11:37:24 MDT\n",
      "11:37:24\n",
      "11 348.5636619772368\n",
      "37 224.4\n"
     ]
    },
    {
     "name": "stderr",
     "output_type": "stream",
     "text": [
      "/var/folders/0c/8xbkg06s6cz0yy2505h06nlm00017d/T/ipykernel_70132/28324883.py:150: UserWarning: This figure includes Axes that are not compatible with tight_layout, so results might be incorrect.\n",
      "  plt.tight_layout()\n"
     ]
    },
    {
     "name": "stdout",
     "output_type": "stream",
     "text": [
      "pixels :  2 (2000, 2000)\n",
      "Fraction of Missings :  0.0\n",
      "2022-10-15 17:38:24 UTC 2022-10-15 11:38:24 MDT\n",
      "11:38:24\n",
      "11 349.06366197723673\n",
      "38 230.39999999999998\n"
     ]
    },
    {
     "name": "stderr",
     "output_type": "stream",
     "text": [
      "/var/folders/0c/8xbkg06s6cz0yy2505h06nlm00017d/T/ipykernel_70132/28324883.py:150: UserWarning: This figure includes Axes that are not compatible with tight_layout, so results might be incorrect.\n",
      "  plt.tight_layout()\n"
     ]
    },
    {
     "name": "stdout",
     "output_type": "stream",
     "text": [
      "pixels :  2 (2000, 2000)\n",
      "Fraction of Missings :  0.0\n",
      "2022-10-15 17:39:24 UTC 2022-10-15 11:39:24 MDT\n",
      "11:39:24\n",
      "11 349.56366197723673\n",
      "39 236.4\n"
     ]
    },
    {
     "name": "stderr",
     "output_type": "stream",
     "text": [
      "/var/folders/0c/8xbkg06s6cz0yy2505h06nlm00017d/T/ipykernel_70132/28324883.py:150: UserWarning: This figure includes Axes that are not compatible with tight_layout, so results might be incorrect.\n",
      "  plt.tight_layout()\n"
     ]
    },
    {
     "name": "stdout",
     "output_type": "stream",
     "text": [
      "pixels :  2 (2000, 2000)\n",
      "Fraction of Missings :  0.0\n",
      "2022-10-15 17:40:27 UTC 2022-10-15 11:40:27 MDT\n",
      "11:40:27\n",
      "11 350.0716197243913\n",
      "40 242.69999999999996\n"
     ]
    },
    {
     "name": "stderr",
     "output_type": "stream",
     "text": [
      "/var/folders/0c/8xbkg06s6cz0yy2505h06nlm00017d/T/ipykernel_70132/28324883.py:150: UserWarning: This figure includes Axes that are not compatible with tight_layout, so results might be incorrect.\n",
      "  plt.tight_layout()\n"
     ]
    },
    {
     "name": "stdout",
     "output_type": "stream",
     "text": [
      "pixels :  2 (2000, 2000)\n",
      "Fraction of Missings :  0.0\n",
      "2022-10-15 17:41:24 UTC 2022-10-15 11:41:24 MDT\n",
      "11:41:24\n",
      "11 350.56366197723673\n",
      "41 248.39999999999998\n"
     ]
    },
    {
     "name": "stderr",
     "output_type": "stream",
     "text": [
      "/var/folders/0c/8xbkg06s6cz0yy2505h06nlm00017d/T/ipykernel_70132/28324883.py:150: UserWarning: This figure includes Axes that are not compatible with tight_layout, so results might be incorrect.\n",
      "  plt.tight_layout()\n"
     ]
    },
    {
     "name": "stdout",
     "output_type": "stream",
     "text": [
      "pixels :  2 (2000, 2000)\n",
      "Fraction of Missings :  0.0\n",
      "2022-10-15 17:42:24 UTC 2022-10-15 11:42:24 MDT\n",
      "11:42:24\n",
      "11 351.0636619772368\n",
      "42 254.4\n"
     ]
    },
    {
     "name": "stderr",
     "output_type": "stream",
     "text": [
      "/var/folders/0c/8xbkg06s6cz0yy2505h06nlm00017d/T/ipykernel_70132/28324883.py:150: UserWarning: This figure includes Axes that are not compatible with tight_layout, so results might be incorrect.\n",
      "  plt.tight_layout()\n"
     ]
    },
    {
     "name": "stdout",
     "output_type": "stream",
     "text": [
      "pixels :  2 (2000, 2000)\n",
      "Fraction of Missings :  0.0\n",
      "2022-10-15 17:43:24 UTC 2022-10-15 11:43:24 MDT\n",
      "11:43:24\n",
      "11 351.56366197723673\n",
      "43 260.4\n"
     ]
    },
    {
     "name": "stderr",
     "output_type": "stream",
     "text": [
      "/var/folders/0c/8xbkg06s6cz0yy2505h06nlm00017d/T/ipykernel_70132/28324883.py:150: UserWarning: This figure includes Axes that are not compatible with tight_layout, so results might be incorrect.\n",
      "  plt.tight_layout()\n"
     ]
    },
    {
     "name": "stdout",
     "output_type": "stream",
     "text": [
      "pixels :  2 (2000, 2000)\n",
      "Fraction of Missings :  0.0\n",
      "2022-10-15 17:44:24 UTC 2022-10-15 11:44:24 MDT\n",
      "11:44:24\n",
      "11 352.06366197723673\n",
      "44 266.4\n"
     ]
    },
    {
     "name": "stderr",
     "output_type": "stream",
     "text": [
      "/var/folders/0c/8xbkg06s6cz0yy2505h06nlm00017d/T/ipykernel_70132/28324883.py:150: UserWarning: This figure includes Axes that are not compatible with tight_layout, so results might be incorrect.\n",
      "  plt.tight_layout()\n"
     ]
    },
    {
     "name": "stdout",
     "output_type": "stream",
     "text": [
      "pixels :  2 (2000, 2000)\n",
      "Fraction of Missings :  0.0\n",
      "2022-10-15 17:45:24 UTC 2022-10-15 11:45:24 MDT\n",
      "11:45:24\n",
      "11 352.56366197723673\n",
      "45 272.4\n"
     ]
    },
    {
     "name": "stderr",
     "output_type": "stream",
     "text": [
      "/var/folders/0c/8xbkg06s6cz0yy2505h06nlm00017d/T/ipykernel_70132/28324883.py:150: UserWarning: This figure includes Axes that are not compatible with tight_layout, so results might be incorrect.\n",
      "  plt.tight_layout()\n"
     ]
    },
    {
     "name": "stdout",
     "output_type": "stream",
     "text": [
      "pixels :  2 (2000, 2000)\n",
      "Fraction of Missings :  0.0\n",
      "2022-10-15 17:46:24 UTC 2022-10-15 11:46:24 MDT\n",
      "11:46:24\n",
      "11 353.06366197723673\n",
      "46 278.4\n"
     ]
    },
    {
     "name": "stderr",
     "output_type": "stream",
     "text": [
      "/var/folders/0c/8xbkg06s6cz0yy2505h06nlm00017d/T/ipykernel_70132/28324883.py:150: UserWarning: This figure includes Axes that are not compatible with tight_layout, so results might be incorrect.\n",
      "  plt.tight_layout()\n"
     ]
    },
    {
     "name": "stdout",
     "output_type": "stream",
     "text": [
      "pixels :  2 (2000, 2000)\n",
      "Fraction of Missings :  0.0\n",
      "2022-10-15 17:47:24 UTC 2022-10-15 11:47:24 MDT\n",
      "11:47:24\n",
      "11 353.5636619772368\n",
      "47 284.40000000000003\n"
     ]
    },
    {
     "name": "stderr",
     "output_type": "stream",
     "text": [
      "/var/folders/0c/8xbkg06s6cz0yy2505h06nlm00017d/T/ipykernel_70132/28324883.py:150: UserWarning: This figure includes Axes that are not compatible with tight_layout, so results might be incorrect.\n",
      "  plt.tight_layout()\n"
     ]
    },
    {
     "name": "stdout",
     "output_type": "stream",
     "text": [
      "pixels :  2 (2000, 2000)\n",
      "Fraction of Missings :  0.0\n",
      "2022-10-15 17:48:24 UTC 2022-10-15 11:48:24 MDT\n",
      "11:48:24\n",
      "11 354.06366197723673\n",
      "48 290.4\n"
     ]
    },
    {
     "name": "stderr",
     "output_type": "stream",
     "text": [
      "/var/folders/0c/8xbkg06s6cz0yy2505h06nlm00017d/T/ipykernel_70132/28324883.py:150: UserWarning: This figure includes Axes that are not compatible with tight_layout, so results might be incorrect.\n",
      "  plt.tight_layout()\n"
     ]
    },
    {
     "name": "stdout",
     "output_type": "stream",
     "text": [
      "pixels :  2 (2000, 2000)\n",
      "Fraction of Missings :  0.0\n",
      "2022-10-15 17:49:24 UTC 2022-10-15 11:49:24 MDT\n",
      "11:49:24\n",
      "11 354.56366197723673\n",
      "49 296.4\n"
     ]
    },
    {
     "name": "stderr",
     "output_type": "stream",
     "text": [
      "/var/folders/0c/8xbkg06s6cz0yy2505h06nlm00017d/T/ipykernel_70132/28324883.py:150: UserWarning: This figure includes Axes that are not compatible with tight_layout, so results might be incorrect.\n",
      "  plt.tight_layout()\n"
     ]
    },
    {
     "name": "stdout",
     "output_type": "stream",
     "text": [
      "pixels :  2 (2000, 2000)\n",
      "Fraction of Missings :  0.0\n",
      "2022-10-15 17:50:27 UTC 2022-10-15 11:50:27 MDT\n",
      "11:50:27\n",
      "11 355.0716197243913\n",
      "50 302.7\n"
     ]
    },
    {
     "name": "stderr",
     "output_type": "stream",
     "text": [
      "/var/folders/0c/8xbkg06s6cz0yy2505h06nlm00017d/T/ipykernel_70132/28324883.py:150: UserWarning: This figure includes Axes that are not compatible with tight_layout, so results might be incorrect.\n",
      "  plt.tight_layout()\n"
     ]
    },
    {
     "name": "stdout",
     "output_type": "stream",
     "text": [
      "pixels :  2 (2000, 2000)\n",
      "Fraction of Missings :  0.0\n",
      "2022-10-15 17:51:24 UTC 2022-10-15 11:51:24 MDT\n",
      "11:51:24\n",
      "11 355.56366197723673\n",
      "51 308.4\n"
     ]
    },
    {
     "name": "stderr",
     "output_type": "stream",
     "text": [
      "/var/folders/0c/8xbkg06s6cz0yy2505h06nlm00017d/T/ipykernel_70132/28324883.py:150: UserWarning: This figure includes Axes that are not compatible with tight_layout, so results might be incorrect.\n",
      "  plt.tight_layout()\n"
     ]
    },
    {
     "name": "stdout",
     "output_type": "stream",
     "text": [
      "pixels :  2 (2000, 2000)\n",
      "Fraction of Missings :  0.0\n",
      "2022-10-15 17:52:24 UTC 2022-10-15 11:52:24 MDT\n",
      "11:52:24\n",
      "11 356.06366197723673\n",
      "52 314.40000000000003\n"
     ]
    },
    {
     "name": "stderr",
     "output_type": "stream",
     "text": [
      "/var/folders/0c/8xbkg06s6cz0yy2505h06nlm00017d/T/ipykernel_70132/28324883.py:150: UserWarning: This figure includes Axes that are not compatible with tight_layout, so results might be incorrect.\n",
      "  plt.tight_layout()\n"
     ]
    },
    {
     "name": "stdout",
     "output_type": "stream",
     "text": [
      "pixels :  2 (2000, 2000)\n",
      "Fraction of Missings :  0.0\n",
      "2022-10-15 17:53:24 UTC 2022-10-15 11:53:24 MDT\n",
      "11:53:24\n",
      "11 356.56366197723673\n",
      "53 320.40000000000003\n"
     ]
    },
    {
     "name": "stderr",
     "output_type": "stream",
     "text": [
      "/var/folders/0c/8xbkg06s6cz0yy2505h06nlm00017d/T/ipykernel_70132/28324883.py:150: UserWarning: This figure includes Axes that are not compatible with tight_layout, so results might be incorrect.\n",
      "  plt.tight_layout()\n"
     ]
    },
    {
     "name": "stdout",
     "output_type": "stream",
     "text": [
      "pixels :  2 (2000, 2000)\n",
      "Fraction of Missings :  0.0\n",
      "2022-10-15 17:54:24 UTC 2022-10-15 11:54:24 MDT\n",
      "11:54:24\n",
      "11 357.06366197723673\n",
      "54 326.4\n"
     ]
    },
    {
     "name": "stderr",
     "output_type": "stream",
     "text": [
      "/var/folders/0c/8xbkg06s6cz0yy2505h06nlm00017d/T/ipykernel_70132/28324883.py:150: UserWarning: This figure includes Axes that are not compatible with tight_layout, so results might be incorrect.\n",
      "  plt.tight_layout()\n"
     ]
    },
    {
     "name": "stdout",
     "output_type": "stream",
     "text": [
      "pixels :  2 (2000, 2000)\n",
      "Fraction of Missings :  0.0\n",
      "2022-10-15 17:55:24 UTC 2022-10-15 11:55:24 MDT\n",
      "11:55:24\n",
      "11 357.5636619772368\n",
      "55 332.40000000000003\n"
     ]
    },
    {
     "name": "stderr",
     "output_type": "stream",
     "text": [
      "/var/folders/0c/8xbkg06s6cz0yy2505h06nlm00017d/T/ipykernel_70132/28324883.py:150: UserWarning: This figure includes Axes that are not compatible with tight_layout, so results might be incorrect.\n",
      "  plt.tight_layout()\n"
     ]
    },
    {
     "name": "stdout",
     "output_type": "stream",
     "text": [
      "pixels :  2 (2000, 2000)\n",
      "Fraction of Missings :  0.0\n",
      "2022-10-15 17:56:24 UTC 2022-10-15 11:56:24 MDT\n",
      "11:56:24\n",
      "11 358.06366197723673\n",
      "56 338.40000000000003\n"
     ]
    },
    {
     "name": "stderr",
     "output_type": "stream",
     "text": [
      "/var/folders/0c/8xbkg06s6cz0yy2505h06nlm00017d/T/ipykernel_70132/28324883.py:150: UserWarning: This figure includes Axes that are not compatible with tight_layout, so results might be incorrect.\n",
      "  plt.tight_layout()\n"
     ]
    },
    {
     "name": "stdout",
     "output_type": "stream",
     "text": [
      "pixels :  2 (2000, 2000)\n",
      "Fraction of Missings :  0.0\n",
      "2022-10-15 17:57:24 UTC 2022-10-15 11:57:24 MDT\n",
      "11:57:24\n",
      "11 358.56366197723673\n",
      "57 344.4\n"
     ]
    },
    {
     "name": "stderr",
     "output_type": "stream",
     "text": [
      "/var/folders/0c/8xbkg06s6cz0yy2505h06nlm00017d/T/ipykernel_70132/28324883.py:150: UserWarning: This figure includes Axes that are not compatible with tight_layout, so results might be incorrect.\n",
      "  plt.tight_layout()\n"
     ]
    },
    {
     "name": "stdout",
     "output_type": "stream",
     "text": [
      "pixels :  2 (2000, 2000)\n",
      "Fraction of Missings :  0.0\n",
      "2022-10-15 17:58:24 UTC 2022-10-15 11:58:24 MDT\n",
      "11:58:24\n",
      "11 359.06366197723673\n",
      "58 350.40000000000003\n"
     ]
    },
    {
     "name": "stderr",
     "output_type": "stream",
     "text": [
      "/var/folders/0c/8xbkg06s6cz0yy2505h06nlm00017d/T/ipykernel_70132/28324883.py:150: UserWarning: This figure includes Axes that are not compatible with tight_layout, so results might be incorrect.\n",
      "  plt.tight_layout()\n"
     ]
    },
    {
     "name": "stdout",
     "output_type": "stream",
     "text": [
      "pixels :  2 (2000, 2000)\n",
      "Fraction of Missings :  0.0\n",
      "2022-10-15 17:59:24 UTC 2022-10-15 11:59:24 MDT\n",
      "11:59:24\n",
      "11 359.56366197723673\n",
      "59 356.40000000000003\n"
     ]
    },
    {
     "name": "stderr",
     "output_type": "stream",
     "text": [
      "/var/folders/0c/8xbkg06s6cz0yy2505h06nlm00017d/T/ipykernel_70132/28324883.py:150: UserWarning: This figure includes Axes that are not compatible with tight_layout, so results might be incorrect.\n",
      "  plt.tight_layout()\n"
     ]
    },
    {
     "name": "stdout",
     "output_type": "stream",
     "text": [
      "pixels :  2 (2000, 2000)\n",
      "Fraction of Missings :  0.0\n",
      "2022-10-15 18:00:27 UTC 2022-10-15 12:00:27 MDT\n",
      "12:00:27\n",
      "12 360.0716197243913\n",
      "0 2.6999999999999997\n"
     ]
    },
    {
     "name": "stderr",
     "output_type": "stream",
     "text": [
      "/var/folders/0c/8xbkg06s6cz0yy2505h06nlm00017d/T/ipykernel_70132/28324883.py:150: UserWarning: This figure includes Axes that are not compatible with tight_layout, so results might be incorrect.\n",
      "  plt.tight_layout()\n"
     ]
    },
    {
     "name": "stdout",
     "output_type": "stream",
     "text": [
      "pixels :  2 (2000, 2000)\n",
      "Fraction of Missings :  0.0\n",
      "2022-10-15 18:01:24 UTC 2022-10-15 12:01:24 MDT\n",
      "12:01:24\n",
      "12 360.5636619772368\n",
      "1 8.399999999999999\n"
     ]
    },
    {
     "name": "stderr",
     "output_type": "stream",
     "text": [
      "/var/folders/0c/8xbkg06s6cz0yy2505h06nlm00017d/T/ipykernel_70132/28324883.py:150: UserWarning: This figure includes Axes that are not compatible with tight_layout, so results might be incorrect.\n",
      "  plt.tight_layout()\n"
     ]
    },
    {
     "name": "stdout",
     "output_type": "stream",
     "text": [
      "pixels :  2 (2000, 2000)\n",
      "Fraction of Missings :  0.0\n",
      "2022-10-15 18:02:24 UTC 2022-10-15 12:02:24 MDT\n",
      "12:02:24\n",
      "12 361.06366197723673\n",
      "2 14.399999999999999\n"
     ]
    },
    {
     "name": "stderr",
     "output_type": "stream",
     "text": [
      "/var/folders/0c/8xbkg06s6cz0yy2505h06nlm00017d/T/ipykernel_70132/28324883.py:150: UserWarning: This figure includes Axes that are not compatible with tight_layout, so results might be incorrect.\n",
      "  plt.tight_layout()\n"
     ]
    },
    {
     "name": "stdout",
     "output_type": "stream",
     "text": [
      "pixels :  2 (2000, 2000)\n",
      "Fraction of Missings :  0.0\n",
      "2022-10-15 18:03:24 UTC 2022-10-15 12:03:24 MDT\n",
      "12:03:24\n",
      "12 361.5636619772368\n",
      "3 20.4\n"
     ]
    },
    {
     "name": "stderr",
     "output_type": "stream",
     "text": [
      "/var/folders/0c/8xbkg06s6cz0yy2505h06nlm00017d/T/ipykernel_70132/28324883.py:150: UserWarning: This figure includes Axes that are not compatible with tight_layout, so results might be incorrect.\n",
      "  plt.tight_layout()\n"
     ]
    },
    {
     "name": "stdout",
     "output_type": "stream",
     "text": [
      "pixels :  2 (2000, 2000)\n",
      "Fraction of Missings :  0.0\n",
      "2022-10-15 18:04:24 UTC 2022-10-15 12:04:24 MDT\n",
      "12:04:24\n",
      "12 362.06366197723673\n",
      "4 26.4\n"
     ]
    },
    {
     "name": "stderr",
     "output_type": "stream",
     "text": [
      "/var/folders/0c/8xbkg06s6cz0yy2505h06nlm00017d/T/ipykernel_70132/28324883.py:150: UserWarning: This figure includes Axes that are not compatible with tight_layout, so results might be incorrect.\n",
      "  plt.tight_layout()\n"
     ]
    },
    {
     "name": "stdout",
     "output_type": "stream",
     "text": [
      "pixels :  2 (2000, 2000)\n",
      "Fraction of Missings :  0.0\n",
      "2022-10-15 18:05:24 UTC 2022-10-15 12:05:24 MDT\n",
      "12:05:24\n",
      "12 362.5636619772368\n",
      "5 32.39999999999999\n"
     ]
    },
    {
     "name": "stderr",
     "output_type": "stream",
     "text": [
      "/var/folders/0c/8xbkg06s6cz0yy2505h06nlm00017d/T/ipykernel_70132/28324883.py:150: UserWarning: This figure includes Axes that are not compatible with tight_layout, so results might be incorrect.\n",
      "  plt.tight_layout()\n"
     ]
    },
    {
     "name": "stdout",
     "output_type": "stream",
     "text": [
      "pixels :  2 (2000, 2000)\n",
      "Fraction of Missings :  0.0\n",
      "2022-10-15 18:06:24 UTC 2022-10-15 12:06:24 MDT\n",
      "12:06:24\n",
      "12 363.0636619772368\n",
      "6 38.4\n"
     ]
    },
    {
     "name": "stderr",
     "output_type": "stream",
     "text": [
      "/var/folders/0c/8xbkg06s6cz0yy2505h06nlm00017d/T/ipykernel_70132/28324883.py:150: UserWarning: This figure includes Axes that are not compatible with tight_layout, so results might be incorrect.\n",
      "  plt.tight_layout()\n"
     ]
    },
    {
     "name": "stdout",
     "output_type": "stream",
     "text": [
      "pixels :  2 (2000, 2000)\n",
      "Fraction of Missings :  0.0\n",
      "2022-10-15 18:07:24 UTC 2022-10-15 12:07:24 MDT\n",
      "12:07:24\n",
      "12 363.56366197723673\n",
      "7 44.4\n"
     ]
    },
    {
     "name": "stderr",
     "output_type": "stream",
     "text": [
      "/var/folders/0c/8xbkg06s6cz0yy2505h06nlm00017d/T/ipykernel_70132/28324883.py:150: UserWarning: This figure includes Axes that are not compatible with tight_layout, so results might be incorrect.\n",
      "  plt.tight_layout()\n"
     ]
    },
    {
     "name": "stdout",
     "output_type": "stream",
     "text": [
      "pixels :  2 (2000, 2000)\n",
      "Fraction of Missings :  0.0\n",
      "2022-10-15 18:08:24 UTC 2022-10-15 12:08:24 MDT\n",
      "12:08:24\n",
      "12 364.0636619772368\n",
      "8 50.39999999999999\n"
     ]
    },
    {
     "name": "stderr",
     "output_type": "stream",
     "text": [
      "/var/folders/0c/8xbkg06s6cz0yy2505h06nlm00017d/T/ipykernel_70132/28324883.py:150: UserWarning: This figure includes Axes that are not compatible with tight_layout, so results might be incorrect.\n",
      "  plt.tight_layout()\n"
     ]
    },
    {
     "name": "stdout",
     "output_type": "stream",
     "text": [
      "pixels :  2 (2000, 2000)\n",
      "Fraction of Missings :  0.0\n",
      "2022-10-15 18:09:24 UTC 2022-10-15 12:09:24 MDT\n",
      "12:09:24\n",
      "12 364.5636619772368\n",
      "9 56.4\n"
     ]
    },
    {
     "name": "stderr",
     "output_type": "stream",
     "text": [
      "/var/folders/0c/8xbkg06s6cz0yy2505h06nlm00017d/T/ipykernel_70132/28324883.py:150: UserWarning: This figure includes Axes that are not compatible with tight_layout, so results might be incorrect.\n",
      "  plt.tight_layout()\n"
     ]
    },
    {
     "name": "stdout",
     "output_type": "stream",
     "text": [
      "pixels :  2 (2000, 2000)\n",
      "Fraction of Missings :  0.0\n",
      "2022-10-15 18:10:27 UTC 2022-10-15 12:10:27 MDT\n",
      "12:10:27\n",
      "12 365.0716197243913\n",
      "10 62.699999999999996\n"
     ]
    },
    {
     "name": "stderr",
     "output_type": "stream",
     "text": [
      "/var/folders/0c/8xbkg06s6cz0yy2505h06nlm00017d/T/ipykernel_70132/28324883.py:150: UserWarning: This figure includes Axes that are not compatible with tight_layout, so results might be incorrect.\n",
      "  plt.tight_layout()\n"
     ]
    },
    {
     "name": "stdout",
     "output_type": "stream",
     "text": [
      "pixels :  2 (2000, 2000)\n",
      "Fraction of Missings :  0.0\n",
      "2022-10-15 18:11:24 UTC 2022-10-15 12:11:24 MDT\n",
      "12:11:24\n",
      "12 365.5636619772368\n",
      "11 68.39999999999999\n"
     ]
    },
    {
     "name": "stderr",
     "output_type": "stream",
     "text": [
      "/var/folders/0c/8xbkg06s6cz0yy2505h06nlm00017d/T/ipykernel_70132/28324883.py:150: UserWarning: This figure includes Axes that are not compatible with tight_layout, so results might be incorrect.\n",
      "  plt.tight_layout()\n"
     ]
    },
    {
     "name": "stdout",
     "output_type": "stream",
     "text": [
      "pixels :  2 (2000, 2000)\n",
      "Fraction of Missings :  0.0\n",
      "2022-10-15 18:12:24 UTC 2022-10-15 12:12:24 MDT\n",
      "12:12:24\n",
      "12 366.06366197723673\n",
      "12 74.4\n"
     ]
    },
    {
     "name": "stderr",
     "output_type": "stream",
     "text": [
      "/var/folders/0c/8xbkg06s6cz0yy2505h06nlm00017d/T/ipykernel_70132/28324883.py:150: UserWarning: This figure includes Axes that are not compatible with tight_layout, so results might be incorrect.\n",
      "  plt.tight_layout()\n"
     ]
    },
    {
     "name": "stdout",
     "output_type": "stream",
     "text": [
      "pixels :  2 (2000, 2000)\n",
      "Fraction of Missings :  0.0\n",
      "2022-10-15 18:13:24 UTC 2022-10-15 12:13:24 MDT\n",
      "12:13:24\n",
      "12 366.5636619772368\n",
      "13 80.4\n"
     ]
    },
    {
     "name": "stderr",
     "output_type": "stream",
     "text": [
      "/var/folders/0c/8xbkg06s6cz0yy2505h06nlm00017d/T/ipykernel_70132/28324883.py:150: UserWarning: This figure includes Axes that are not compatible with tight_layout, so results might be incorrect.\n",
      "  plt.tight_layout()\n"
     ]
    },
    {
     "name": "stdout",
     "output_type": "stream",
     "text": [
      "pixels :  2 (2000, 2000)\n",
      "Fraction of Missings :  0.0\n",
      "2022-10-15 18:14:24 UTC 2022-10-15 12:14:24 MDT\n",
      "12:14:24\n",
      "12 367.0636619772368\n",
      "14 86.4\n"
     ]
    },
    {
     "name": "stderr",
     "output_type": "stream",
     "text": [
      "/var/folders/0c/8xbkg06s6cz0yy2505h06nlm00017d/T/ipykernel_70132/28324883.py:150: UserWarning: This figure includes Axes that are not compatible with tight_layout, so results might be incorrect.\n",
      "  plt.tight_layout()\n"
     ]
    },
    {
     "name": "stdout",
     "output_type": "stream",
     "text": [
      "pixels :  2 (2000, 2000)\n",
      "Fraction of Missings :  0.0\n",
      "2022-10-15 18:15:24 UTC 2022-10-15 12:15:24 MDT\n",
      "12:15:24\n",
      "12 367.56366197723673\n",
      "15 92.39999999999999\n"
     ]
    },
    {
     "name": "stderr",
     "output_type": "stream",
     "text": [
      "/var/folders/0c/8xbkg06s6cz0yy2505h06nlm00017d/T/ipykernel_70132/28324883.py:150: UserWarning: This figure includes Axes that are not compatible with tight_layout, so results might be incorrect.\n",
      "  plt.tight_layout()\n"
     ]
    },
    {
     "name": "stdout",
     "output_type": "stream",
     "text": [
      "pixels :  2 (2000, 2000)\n",
      "Fraction of Missings :  0.0\n",
      "2022-10-15 18:16:24 UTC 2022-10-15 12:16:24 MDT\n",
      "12:16:24\n",
      "12 368.0636619772368\n",
      "16 98.4\n"
     ]
    },
    {
     "name": "stderr",
     "output_type": "stream",
     "text": [
      "/var/folders/0c/8xbkg06s6cz0yy2505h06nlm00017d/T/ipykernel_70132/28324883.py:150: UserWarning: This figure includes Axes that are not compatible with tight_layout, so results might be incorrect.\n",
      "  plt.tight_layout()\n"
     ]
    },
    {
     "name": "stdout",
     "output_type": "stream",
     "text": [
      "pixels :  2 (2000, 2000)\n",
      "Fraction of Missings :  0.0\n",
      "2022-10-15 18:17:24 UTC 2022-10-15 12:17:24 MDT\n",
      "12:17:24\n",
      "12 368.56366197723673\n",
      "17 104.4\n"
     ]
    },
    {
     "name": "stderr",
     "output_type": "stream",
     "text": [
      "/var/folders/0c/8xbkg06s6cz0yy2505h06nlm00017d/T/ipykernel_70132/28324883.py:150: UserWarning: This figure includes Axes that are not compatible with tight_layout, so results might be incorrect.\n",
      "  plt.tight_layout()\n"
     ]
    },
    {
     "name": "stdout",
     "output_type": "stream",
     "text": [
      "pixels :  2 (2000, 2000)\n",
      "Fraction of Missings :  0.0\n",
      "2022-10-15 18:18:24 UTC 2022-10-15 12:18:24 MDT\n",
      "12:18:24\n",
      "12 369.0636619772368\n",
      "18 110.4\n"
     ]
    },
    {
     "name": "stderr",
     "output_type": "stream",
     "text": [
      "/var/folders/0c/8xbkg06s6cz0yy2505h06nlm00017d/T/ipykernel_70132/28324883.py:150: UserWarning: This figure includes Axes that are not compatible with tight_layout, so results might be incorrect.\n",
      "  plt.tight_layout()\n"
     ]
    },
    {
     "name": "stdout",
     "output_type": "stream",
     "text": [
      "pixels :  2 (2000, 2000)\n",
      "Fraction of Missings :  0.0\n",
      "2022-10-15 18:19:24 UTC 2022-10-15 12:19:24 MDT\n",
      "12:19:24\n",
      "12 369.5636619772368\n",
      "19 116.39999999999999\n"
     ]
    },
    {
     "name": "stderr",
     "output_type": "stream",
     "text": [
      "/var/folders/0c/8xbkg06s6cz0yy2505h06nlm00017d/T/ipykernel_70132/28324883.py:150: UserWarning: This figure includes Axes that are not compatible with tight_layout, so results might be incorrect.\n",
      "  plt.tight_layout()\n"
     ]
    },
    {
     "name": "stdout",
     "output_type": "stream",
     "text": [
      "pixels :  2 (2000, 2000)\n",
      "Fraction of Missings :  0.0\n",
      "2022-10-15 18:20:27 UTC 2022-10-15 12:20:27 MDT\n",
      "12:20:27\n",
      "12 370.0716197243913\n",
      "20 122.7\n"
     ]
    },
    {
     "name": "stderr",
     "output_type": "stream",
     "text": [
      "/var/folders/0c/8xbkg06s6cz0yy2505h06nlm00017d/T/ipykernel_70132/28324883.py:150: UserWarning: This figure includes Axes that are not compatible with tight_layout, so results might be incorrect.\n",
      "  plt.tight_layout()\n"
     ]
    },
    {
     "name": "stdout",
     "output_type": "stream",
     "text": [
      "pixels :  2 (2000, 2000)\n",
      "Fraction of Missings :  0.0\n",
      "2022-10-15 18:21:24 UTC 2022-10-15 12:21:24 MDT\n",
      "12:21:24\n",
      "12 370.5636619772368\n",
      "21 128.4\n"
     ]
    },
    {
     "name": "stderr",
     "output_type": "stream",
     "text": [
      "/var/folders/0c/8xbkg06s6cz0yy2505h06nlm00017d/T/ipykernel_70132/28324883.py:150: UserWarning: This figure includes Axes that are not compatible with tight_layout, so results might be incorrect.\n",
      "  plt.tight_layout()\n"
     ]
    },
    {
     "name": "stdout",
     "output_type": "stream",
     "text": [
      "pixels :  2 (2000, 2000)\n",
      "Fraction of Missings :  0.0\n",
      "2022-10-15 18:22:24 UTC 2022-10-15 12:22:24 MDT\n",
      "12:22:24\n",
      "12 371.06366197723673\n",
      "22 134.39999999999998\n"
     ]
    },
    {
     "name": "stderr",
     "output_type": "stream",
     "text": [
      "/var/folders/0c/8xbkg06s6cz0yy2505h06nlm00017d/T/ipykernel_70132/28324883.py:150: UserWarning: This figure includes Axes that are not compatible with tight_layout, so results might be incorrect.\n",
      "  plt.tight_layout()\n"
     ]
    },
    {
     "name": "stdout",
     "output_type": "stream",
     "text": [
      "pixels :  2 (2000, 2000)\n",
      "Fraction of Missings :  0.0\n",
      "2022-10-15 18:23:24 UTC 2022-10-15 12:23:24 MDT\n",
      "12:23:24\n",
      "12 371.5636619772368\n",
      "23 140.4\n"
     ]
    },
    {
     "name": "stderr",
     "output_type": "stream",
     "text": [
      "/var/folders/0c/8xbkg06s6cz0yy2505h06nlm00017d/T/ipykernel_70132/28324883.py:150: UserWarning: This figure includes Axes that are not compatible with tight_layout, so results might be incorrect.\n",
      "  plt.tight_layout()\n"
     ]
    },
    {
     "name": "stdout",
     "output_type": "stream",
     "text": [
      "pixels :  2 (2000, 2000)\n",
      "Fraction of Missings :  0.0\n",
      "2022-10-15 18:24:24 UTC 2022-10-15 12:24:24 MDT\n",
      "12:24:24\n",
      "12 372.0636619772368\n",
      "24 146.4\n"
     ]
    },
    {
     "name": "stderr",
     "output_type": "stream",
     "text": [
      "/var/folders/0c/8xbkg06s6cz0yy2505h06nlm00017d/T/ipykernel_70132/28324883.py:150: UserWarning: This figure includes Axes that are not compatible with tight_layout, so results might be incorrect.\n",
      "  plt.tight_layout()\n"
     ]
    },
    {
     "name": "stdout",
     "output_type": "stream",
     "text": [
      "pixels :  2 (2000, 2000)\n",
      "Fraction of Missings :  0.0\n",
      "2022-10-15 18:25:24 UTC 2022-10-15 12:25:24 MDT\n",
      "12:25:24\n",
      "12 372.56366197723673\n",
      "25 152.4\n"
     ]
    },
    {
     "name": "stderr",
     "output_type": "stream",
     "text": [
      "/var/folders/0c/8xbkg06s6cz0yy2505h06nlm00017d/T/ipykernel_70132/28324883.py:150: UserWarning: This figure includes Axes that are not compatible with tight_layout, so results might be incorrect.\n",
      "  plt.tight_layout()\n"
     ]
    },
    {
     "name": "stdout",
     "output_type": "stream",
     "text": [
      "pixels :  2 (2000, 2000)\n",
      "Fraction of Missings :  0.0\n",
      "2022-10-15 18:26:24 UTC 2022-10-15 12:26:24 MDT\n",
      "12:26:24\n",
      "12 373.0636619772368\n",
      "26 158.4\n"
     ]
    },
    {
     "name": "stderr",
     "output_type": "stream",
     "text": [
      "/var/folders/0c/8xbkg06s6cz0yy2505h06nlm00017d/T/ipykernel_70132/28324883.py:150: UserWarning: This figure includes Axes that are not compatible with tight_layout, so results might be incorrect.\n",
      "  plt.tight_layout()\n"
     ]
    },
    {
     "name": "stdout",
     "output_type": "stream",
     "text": [
      "pixels :  2 (2000, 2000)\n",
      "Fraction of Missings :  0.0\n",
      "2022-10-15 18:27:24 UTC 2022-10-15 12:27:24 MDT\n",
      "12:27:24\n",
      "12 373.56366197723673\n",
      "27 164.4\n"
     ]
    },
    {
     "name": "stderr",
     "output_type": "stream",
     "text": [
      "/var/folders/0c/8xbkg06s6cz0yy2505h06nlm00017d/T/ipykernel_70132/28324883.py:150: UserWarning: This figure includes Axes that are not compatible with tight_layout, so results might be incorrect.\n",
      "  plt.tight_layout()\n"
     ]
    },
    {
     "name": "stdout",
     "output_type": "stream",
     "text": [
      "pixels :  2 (2000, 2000)\n",
      "Fraction of Missings :  0.0\n",
      "2022-10-15 18:28:24 UTC 2022-10-15 12:28:24 MDT\n",
      "12:28:24\n",
      "12 374.06366197723673\n",
      "28 170.4\n"
     ]
    },
    {
     "name": "stderr",
     "output_type": "stream",
     "text": [
      "/var/folders/0c/8xbkg06s6cz0yy2505h06nlm00017d/T/ipykernel_70132/28324883.py:150: UserWarning: This figure includes Axes that are not compatible with tight_layout, so results might be incorrect.\n",
      "  plt.tight_layout()\n"
     ]
    },
    {
     "name": "stdout",
     "output_type": "stream",
     "text": [
      "pixels :  2 (2000, 2000)\n",
      "Fraction of Missings :  0.0\n",
      "2022-10-15 18:29:24 UTC 2022-10-15 12:29:24 MDT\n",
      "12:29:24\n",
      "12 374.5636619772368\n",
      "29 176.4\n"
     ]
    },
    {
     "name": "stderr",
     "output_type": "stream",
     "text": [
      "/var/folders/0c/8xbkg06s6cz0yy2505h06nlm00017d/T/ipykernel_70132/28324883.py:150: UserWarning: This figure includes Axes that are not compatible with tight_layout, so results might be incorrect.\n",
      "  plt.tight_layout()\n"
     ]
    },
    {
     "name": "stdout",
     "output_type": "stream",
     "text": [
      "pixels :  2 (2000, 2000)\n",
      "Fraction of Missings :  0.0\n",
      "2022-10-15 18:30:27 UTC 2022-10-15 12:30:27 MDT\n",
      "12:30:27\n",
      "12 375.0716197243913\n",
      "30 182.7\n"
     ]
    },
    {
     "name": "stderr",
     "output_type": "stream",
     "text": [
      "/var/folders/0c/8xbkg06s6cz0yy2505h06nlm00017d/T/ipykernel_70132/28324883.py:150: UserWarning: This figure includes Axes that are not compatible with tight_layout, so results might be incorrect.\n",
      "  plt.tight_layout()\n"
     ]
    },
    {
     "name": "stdout",
     "output_type": "stream",
     "text": [
      "pixels :  2 (2000, 2000)\n",
      "Fraction of Missings :  0.0\n",
      "2022-10-15 18:31:24 UTC 2022-10-15 12:31:24 MDT\n",
      "12:31:24\n",
      "12 375.5636619772368\n",
      "31 188.39999999999998\n"
     ]
    },
    {
     "name": "stderr",
     "output_type": "stream",
     "text": [
      "/var/folders/0c/8xbkg06s6cz0yy2505h06nlm00017d/T/ipykernel_70132/28324883.py:150: UserWarning: This figure includes Axes that are not compatible with tight_layout, so results might be incorrect.\n",
      "  plt.tight_layout()\n"
     ]
    },
    {
     "name": "stdout",
     "output_type": "stream",
     "text": [
      "pixels :  2 (2000, 2000)\n",
      "Fraction of Missings :  0.0\n",
      "2022-10-15 18:32:24 UTC 2022-10-15 12:32:24 MDT\n",
      "12:32:24\n",
      "12 376.0636619772368\n",
      "32 194.4\n"
     ]
    },
    {
     "name": "stderr",
     "output_type": "stream",
     "text": [
      "/var/folders/0c/8xbkg06s6cz0yy2505h06nlm00017d/T/ipykernel_70132/28324883.py:150: UserWarning: This figure includes Axes that are not compatible with tight_layout, so results might be incorrect.\n",
      "  plt.tight_layout()\n"
     ]
    },
    {
     "name": "stdout",
     "output_type": "stream",
     "text": [
      "pixels :  2 (2000, 2000)\n",
      "Fraction of Missings :  0.0\n",
      "2022-10-15 18:33:24 UTC 2022-10-15 12:33:24 MDT\n",
      "12:33:24\n",
      "12 376.56366197723673\n",
      "33 200.4\n"
     ]
    },
    {
     "name": "stderr",
     "output_type": "stream",
     "text": [
      "/var/folders/0c/8xbkg06s6cz0yy2505h06nlm00017d/T/ipykernel_70132/28324883.py:150: UserWarning: This figure includes Axes that are not compatible with tight_layout, so results might be incorrect.\n",
      "  plt.tight_layout()\n"
     ]
    },
    {
     "name": "stdout",
     "output_type": "stream",
     "text": [
      "pixels :  2 (2000, 2000)\n",
      "Fraction of Missings :  0.0\n",
      "2022-10-15 18:34:24 UTC 2022-10-15 12:34:24 MDT\n",
      "12:34:24\n",
      "12 377.0636619772368\n",
      "34 206.4\n"
     ]
    },
    {
     "name": "stderr",
     "output_type": "stream",
     "text": [
      "/var/folders/0c/8xbkg06s6cz0yy2505h06nlm00017d/T/ipykernel_70132/28324883.py:150: UserWarning: This figure includes Axes that are not compatible with tight_layout, so results might be incorrect.\n",
      "  plt.tight_layout()\n"
     ]
    },
    {
     "name": "stdout",
     "output_type": "stream",
     "text": [
      "pixels :  2 (2000, 2000)\n",
      "Fraction of Missings :  0.0\n",
      "2022-10-15 18:35:24 UTC 2022-10-15 12:35:24 MDT\n",
      "12:35:24\n",
      "12 377.56366197723673\n",
      "35 212.4\n"
     ]
    },
    {
     "name": "stderr",
     "output_type": "stream",
     "text": [
      "/var/folders/0c/8xbkg06s6cz0yy2505h06nlm00017d/T/ipykernel_70132/28324883.py:150: UserWarning: This figure includes Axes that are not compatible with tight_layout, so results might be incorrect.\n",
      "  plt.tight_layout()\n"
     ]
    },
    {
     "name": "stdout",
     "output_type": "stream",
     "text": [
      "pixels :  2 (2000, 2000)\n",
      "Fraction of Missings :  0.0\n",
      "2022-10-15 18:36:24 UTC 2022-10-15 12:36:24 MDT\n",
      "12:36:24\n",
      "12 378.0636619772368\n",
      "36 218.4\n"
     ]
    },
    {
     "name": "stderr",
     "output_type": "stream",
     "text": [
      "/var/folders/0c/8xbkg06s6cz0yy2505h06nlm00017d/T/ipykernel_70132/28324883.py:150: UserWarning: This figure includes Axes that are not compatible with tight_layout, so results might be incorrect.\n",
      "  plt.tight_layout()\n"
     ]
    },
    {
     "name": "stdout",
     "output_type": "stream",
     "text": [
      "pixels :  2 (2000, 2000)\n",
      "Fraction of Missings :  0.0\n",
      "2022-10-15 18:37:24 UTC 2022-10-15 12:37:24 MDT\n",
      "12:37:24\n",
      "12 378.5636619772368\n",
      "37 224.4\n"
     ]
    },
    {
     "name": "stderr",
     "output_type": "stream",
     "text": [
      "/var/folders/0c/8xbkg06s6cz0yy2505h06nlm00017d/T/ipykernel_70132/28324883.py:150: UserWarning: This figure includes Axes that are not compatible with tight_layout, so results might be incorrect.\n",
      "  plt.tight_layout()\n"
     ]
    },
    {
     "name": "stdout",
     "output_type": "stream",
     "text": [
      "pixels :  2 (2000, 2000)\n",
      "Fraction of Missings :  0.0\n",
      "2022-10-15 18:38:24 UTC 2022-10-15 12:38:24 MDT\n",
      "12:38:24\n",
      "12 379.06366197723673\n",
      "38 230.39999999999998\n"
     ]
    },
    {
     "name": "stderr",
     "output_type": "stream",
     "text": [
      "/var/folders/0c/8xbkg06s6cz0yy2505h06nlm00017d/T/ipykernel_70132/28324883.py:150: UserWarning: This figure includes Axes that are not compatible with tight_layout, so results might be incorrect.\n",
      "  plt.tight_layout()\n"
     ]
    }
   ],
   "source": [
    "##################################################\n",
    "#\n",
    "# Create PNGs\n",
    "#\n",
    "\n",
    "for i in range(len(cat_vis.datasets)-total_frames,len(cat_vis.datasets),1) :\n",
    "\n",
    "    dataset_vis = cat_vis.datasets[i]\n",
    "    dataset_tir = cat_tir.datasets[i]\n",
    "\n",
    "    \n",
    "    filename = dataset_vis.name.replace(\".nc\", \".png\")\n",
    "    filename = filename[:20] + \"xx\" + filename[22:]\n",
    "    dataset_png_file_name = png_processing_directory + filename\n",
    "    \n",
    "    \n",
    "    \n",
    "    if (not pathlib.Path(dataset_png_file_name).is_file() ):\n",
    "        \n",
    "        channel = channel_vis\n",
    "\n",
    "        ds  = dataset_vis.remote_access(use_xarray=True)\n",
    "        dat = ds.metpy.parse_cf('Sectorized_CMI')\n",
    "        \n",
    "        print(\"pixels : \",channel,dat.values.shape)\n",
    "        \n",
    "        frac_missing = np.isnan(dat.values).sum()/np.isnan(dat.values).size\n",
    "        print(\"Fraction of Missings : \", frac_missing)\n",
    "        \n",
    "        if(frac_missing > 0.05):\n",
    "            print(\"Switching to IR\")\n",
    "            channel = channel_tir\n",
    "            ds      = dataset_tir.remote_access(use_xarray=True)\n",
    "            dat     = ds.metpy.parse_cf('Sectorized_CMI')\n",
    "        \n",
    "        proj = dat.metpy.cartopy_crs\n",
    "        x = dat['x']\n",
    "        y = dat['y']\n",
    "        \n",
    "        #if(any(dat == np.nan):\n",
    "        \n",
    "\n",
    "\n",
    "        tz         = 'America/Denver'\n",
    "        time_utc   = datetime.strptime(ds.start_date_time, '%Y%j%H%M%S')\n",
    "        valid_time = pd.to_datetime(time_utc).tz_localize(tz=\"UTC\").strftime(\"%Y-%m-%d %H:%M:%S %Z\")\n",
    "        local_time = pd.to_datetime(time_utc).tz_localize(tz=\"UTC\").tz_convert(tz=tz).strftime(\"%Y-%m-%d %H:%M:%S %Z\")\n",
    "\n",
    "        file_time = pd.to_datetime(time_utc).tz_localize(tz=\"UTC\").strftime(\"%Y-%m-%d_%H%M\")\n",
    "\n",
    "        print(valid_time,local_time)\n",
    "\n",
    "        image_header_label = \"GOES 16\" + region_lab + str(channel)+ channel_lab[channel]\n",
    "\n",
    "\n",
    "        ny = dat.shape[0]\n",
    "        nx = dat.shape[1]      \n",
    "        alpha2d = np.sqrt(np.outer(np.abs(np.hanning(ny)),np.abs(np.hanning(nx))))\n",
    "        alpha2d = np.where(alpha2d>alpha_factor,alpha_factor,alpha2d)\n",
    "        alpha2d = alpha2d / alpha_factor\n",
    "\n",
    "        \n",
    "        \n",
    "\n",
    "        fig = plt.figure(figsize=(8, 8), facecolor = 'white')\n",
    "\n",
    "        plt.suptitle(image_header_label,\n",
    "                     fontsize = 20, \n",
    "                     color    = \"black\")\n",
    "        ax = fig.add_subplot(1, 1, 1, projection=proj)\n",
    "        ax.set_title(valid_time + \"  (\" + local_time+\")\",\n",
    "                     fontsize =      15, \n",
    "                     color    = \"black\")\n",
    "        ax.add_feature(cfeature.COASTLINE.with_scale('50m'), linewidth=1)\n",
    "        ax.add_feature(cfeature.STATES.with_scale('50m'),    linestyle=':', edgecolor='black')\n",
    "        ax.add_feature(cfeature.BORDERS.with_scale('50m'),   linewidth=1, edgecolor='black')\n",
    "        \n",
    "        \n",
    "        if (channel >= 7):\n",
    "\n",
    "            im = ax.imshow(                        dat, \n",
    "                           extent = [x.min(), x.max(), \n",
    "                                     y.min(), y.max()], \n",
    "                           origin =            'upper', alpha = alpha2d)\n",
    "\n",
    "            wv_norm, wv_cmap = colortables.get_with_range('WVCIMSS_r', 190, 310)\n",
    "\n",
    "            im.set_cmap(wv_cmap)\n",
    "            im.set_norm(wv_norm)\n",
    "        else:\n",
    "            im = ax.imshow(              np.sqrt(dat), \n",
    "                           extent = (x.min(), x.max(), \n",
    "                                     y.min(), y.max()), \n",
    "                           origin =            'upper',\n",
    "                           cmap   =          'Greys_r',\n",
    "                           vmin   =        np.sqrt(0),\n",
    "                           vmax   =        np.sqrt(1), alpha = alpha2d)\n",
    "\n",
    "\n",
    "\n",
    "        #########################################\n",
    "        #\n",
    "        # Insert a Clock\n",
    "        #\n",
    "        \n",
    "        axins = fig.add_axes(rect     =    [0.065,\n",
    "                                            0.795,\n",
    "                                            0.12*0.65306121,\n",
    "                                            0.12],\n",
    "                              projection  =  \"polar\")\n",
    "        \n",
    "        time_for_clock = pd.to_datetime(time_utc).tz_localize(tz=\"UTC\").tz_convert(tz=tz).time()\n",
    "\n",
    "        hour   = time_for_clock.hour\n",
    "        minute = time_for_clock.minute\n",
    "        second = time_for_clock.second\n",
    "        \n",
    "        circle_theta  = np.deg2rad(np.arange(0,360,0.01))\n",
    "        circle_radius = circle_theta * 0 + 1\n",
    "        \n",
    "        if (hour > 12) :\n",
    "            hour = hour - 12\n",
    "        \n",
    "        angles_h = 2*np.pi*hour/12+2*np.pi*minute/(12*60)+2*second/(12*60*60)\n",
    "        angles_m = 2*np.pi*minute/60+2*np.pi*second/(60*60)\n",
    "        \n",
    "        print(time_for_clock)\n",
    "        print(hour,   np.rad2deg(angles_h))\n",
    "        print(minute, np.rad2deg(angles_m))\n",
    "\n",
    "        \n",
    "        plt.setp(axins.get_yticklabels(), visible=False)\n",
    "        plt.setp(axins.get_xticklabels(), visible=False)\n",
    "        axins.spines['polar'].set_visible(False)\n",
    "        axins.set_ylim(0,1)\n",
    "        axins.set_theta_zero_location('N')\n",
    "        axins.set_theta_direction(-1)\n",
    "        axins.set_facecolor(\"white\")\n",
    "        axins.grid(False)\n",
    "        \n",
    "        axins.plot([angles_h,angles_h], [0,0.60], color=\"black\", linewidth=1.5)\n",
    "        axins.plot([angles_m,angles_m], [0,0.95], color=\"black\", linewidth=1.5)\n",
    "        axins.plot(circle_theta, circle_radius, color=\"darkgrey\", linewidth=1)\n",
    "\n",
    "\n",
    "        \n",
    "        #\n",
    "        #########################################\n",
    "        ax.set_frame_on(False)\n",
    "        plt.tight_layout()\n",
    "        \n",
    "        plt.savefig( dataset_png_file_name,\n",
    "                        facecolor   = 'white', \n",
    "                        transparent =   False)\n",
    "        plt.close()\n",
    "    else:\n",
    "        print(\"We already have this one!\")\n",
    "    \n",
    "\n",
    "#\n",
    "##################################################"
   ]
  },
  {
   "cell_type": "code",
   "execution_count": 8,
   "id": "25797458-35e4-4f83-9383-7fad3c0ac636",
   "metadata": {},
   "outputs": [
    {
     "name": "stdout",
     "output_type": "stream",
     "text": [
      "creating /Users/wjc/GitHub/SD_Mines_Map_Wall/./processing_sat_meso1_gif.sh\n",
      "Sat Oct 15 12:45:34 MDT 2022\n",
      "\n",
      "completed ./graphics_files/RealTime_SAT_IR_Meso1_Loop.gif\n"
     ]
    }
   ],
   "source": [
    "##################################################\n",
    "#\n",
    "# Convert PNGs into an Animated GIF\n",
    "#\n",
    "\n",
    "\n",
    "big_string = \" \".join(file_names_to_use_meso1)\n",
    "\n",
    "\n",
    "\n",
    "print(\"creating \" + MAINDIR + \"./processing_sat_meso1_gif.sh\")\n",
    "with open(MAINDIR + \"./processing_sat_meso1_gif.sh\", 'w') as f:\n",
    "    print(\"#!/bin/bash\", file =  f)\n",
    "    print(\". /home/wjc/.bashrc\", file = f)\n",
    "    print(\"cd \" + MAINDIR, file =  f) \n",
    "    print(\"convert -delay 10 \" + \n",
    "          big_string + \n",
    "          \" \" + \n",
    "          gif_file_name, file =  f) \n",
    "    print(\"echo MAIN:MESO1::: We^re Outahere Like Vladimir\", file =  f) \n",
    "\n",
    "os.system(\"chmod a+x \" + MAINDIR + \"./processing_sat_meso1_gif.sh\")\n",
    "os.system(MAINDIR + \"./processing_sat_meso1_gif.sh > ./processing_sat_meso1_gif.LOG 2>&1 \")\n",
    "os.system(\"date\")\n",
    "print()\n",
    "\n",
    "\n",
    "\n",
    "print(\"completed \"+ gif_file_name)\n",
    "\n",
    "\n",
    "#\n",
    "##################################################"
   ]
  },
  {
   "cell_type": "code",
   "execution_count": null,
   "id": "79dc57a0-e951-4b8f-9dea-4137d1595972",
   "metadata": {},
   "outputs": [],
   "source": []
  },
  {
   "cell_type": "code",
   "execution_count": null,
   "id": "8ea01c71",
   "metadata": {},
   "outputs": [],
   "source": []
  },
  {
   "cell_type": "code",
   "execution_count": null,
   "id": "85f6fbe2",
   "metadata": {},
   "outputs": [],
   "source": []
  },
  {
   "cell_type": "code",
   "execution_count": null,
   "id": "9fb413b3",
   "metadata": {},
   "outputs": [],
   "source": []
  },
  {
   "cell_type": "markdown",
   "id": "412759ae-ba6e-4218-bd3a-f512b6f8a73e",
   "metadata": {},
   "source": [
    "## Meso Floater 2"
   ]
  },
  {
   "cell_type": "code",
   "execution_count": 9,
   "id": "f49ca133-c3d9-42a6-8c83-e3b8d17f4b81",
   "metadata": {},
   "outputs": [
    {
     "name": "stdout",
     "output_type": "stream",
     "text": [
      "https://thredds.ucar.edu/thredds/catalog/satellite/goes/east/products/CloudAndMoistureImagery/Mesoscale-2/Channel02/current/catalog.xml\n",
      "https://thredds.ucar.edu/thredds/catalog/satellite/goes/east/products/CloudAndMoistureImagery/Mesoscale-2/Channel13/current/catalog.xml\n"
     ]
    }
   ],
   "source": [
    "##################################################\n",
    "#\n",
    "# Control Setup\n",
    "#\n",
    "\n",
    "# %load solutions/data_url.py\n",
    "\n",
    "total_frames = int(45*2 * 0.8)\n",
    "\n",
    "# Cell content replaced by load magic replacement.\n",
    "\n",
    "# Create variables for URL generation\n",
    "\n",
    "image_date  = datetime.utcnow().date()\n",
    "region      =            'Mesoscale-2'\n",
    "\n",
    "if (region == 'Mesoscale-1') :\n",
    "    region_lab               = \" Meso-1 Band \"\n",
    "    png_processing_directory = png_file_dir1\n",
    "    gif_file_name            = gif_file_name1\n",
    "\n",
    "if (region == 'Mesoscale-2') :\n",
    "    region_lab               = ' Meso-2 Band '\n",
    "    png_processing_directory = png_file_dir2\n",
    "    gif_file_name            = gif_file_name2\n",
    "\n",
    "    \n",
    "if (region == 'CONUS') :\n",
    "    region_lab               = ' SODAK Band '\n",
    "    png_processing_directory = png_file_dir3\n",
    "    gif_file_name            = gif_file_name3\n",
    "\n",
    "\n",
    "\n",
    "\n",
    "\n",
    "# We want to match something like:\n",
    "# https://thredds-test.unidata.ucar.edu/thredds/catalog/satellite/goes16/GOES16/Mesoscale-1/Channel08/20181113/catalog.html\n",
    "\n",
    "# Construct the data_url string\n",
    "\n",
    "data_url_vis = ('https://thredds.ucar.edu/thredds/catalog/satellite/goes/east/products/'\n",
    "                f'CloudAndMoistureImagery/{region}/Channel{channel_vis:02d}/current/catalog.xml')\n",
    "\n",
    "data_url_tir = ('https://thredds.ucar.edu/thredds/catalog/satellite/goes/east/products/'\n",
    "                f'CloudAndMoistureImagery/{region}/Channel{channel_tir:02d}/current/catalog.xml')\n",
    "\n",
    "\n",
    "# Print out your URL and verify it works!\n",
    "\n",
    "print(data_url_vis)\n",
    "print(data_url_tir)\n",
    "\n",
    "#\n",
    "##################################################"
   ]
  },
  {
   "cell_type": "code",
   "execution_count": 10,
   "id": "a7de2915-830d-4901-a657-9dc48e0f42f8",
   "metadata": {},
   "outputs": [],
   "source": [
    "##################################################\n",
    "#\n",
    "# Pull Catalog\n",
    "#\n",
    "\n",
    "cat_vis = TDSCatalog(data_url_vis)\n",
    "cat_tir = TDSCatalog(data_url_tir)\n",
    "\n",
    "#\n",
    "##################################################"
   ]
  },
  {
   "cell_type": "code",
   "execution_count": 11,
   "id": "959b2ddd-bbd2-4b4e-94df-c43efc9872e7",
   "metadata": {},
   "outputs": [],
   "source": [
    "##################################################\n",
    "#\n",
    "# Create File Inventories\n",
    "#\n",
    "\n",
    "file_names_to_retain = list()\n",
    "file_names_to_use    = list()\n",
    "\n",
    "\n",
    "for i in range(len(cat_vis.datasets)-total_frames,len(cat_vis.datasets),1) :\n",
    "    filename = cat_vis.datasets[i].name.replace(\".nc\",\".png\")\n",
    "    filename = filename[:20] + \"xx\" + filename[22:]\n",
    "    filename = png_processing_directory + filename\n",
    "    file_names_to_retain.append(filename)\n",
    "    file_names_to_use.append(filename)\n",
    "        \n",
    "files_on_hand = [png_processing_directory + s for s in os.listdir(png_processing_directory)]\n",
    "\n",
    "file_names_to_retain.sort()\n",
    "file_names_to_use.sort()\n",
    "\n",
    "file_names_to_use_meso2 = file_names_to_use.copy()\n",
    "\n",
    "\n",
    "#\n",
    "##################################################  "
   ]
  },
  {
   "cell_type": "code",
   "execution_count": 12,
   "id": "733c1935-dd2a-4e3f-b9df-cfd4fd183204",
   "metadata": {},
   "outputs": [
    {
     "name": "stdout",
     "output_type": "stream",
     "text": [
      "Purging  ./temp_files_sat_meso2/OR_ABI-L2-CMIPM2-M6Cxx_G16_s20222722154550_e20222722154550_c20222722154550.png\n",
      "Purging  ./temp_files_sat_meso2/OR_ABI-L2-CMIPM2-M6Cxx_G16_s20222722140550_e20222722140550_c20222722140550.png\n",
      "Purging  ./temp_files_sat_meso2/OR_ABI-L2-CMIPM2-M6Cxx_G16_s20222722152550_e20222722152550_c20222722152550.png\n",
      "Purging  ./temp_files_sat_meso2/OR_ABI-L2-CMIPM2-M6Cxx_G16_s20222722146550_e20222722146550_c20222722146550.png\n",
      "Purging  ./temp_files_sat_meso2/OR_ABI-L2-CMIPM2-M6Cxx_G16_s20222722110550_e20222722110550_c20222722110550.png\n",
      "Purging  ./temp_files_sat_meso2/OR_ABI-L2-CMIPM2-M6Cxx_G16_s20222722104550_e20222722104550_c20222722104550.png\n",
      "Purging  ./temp_files_sat_meso2/OR_ABI-L2-CMIPM2-M6Cxx_G16_s20222722138550_e20222722138550_c20222722138550.png\n",
      "Purging  ./temp_files_sat_meso2/OR_ABI-L2-CMIPM2-M6Cxx_G16_s20222722116550_e20222722116550_c20222722116550.png\n",
      "Purging  ./temp_files_sat_meso2/OR_ABI-L2-CMIPM2-M6Cxx_G16_s20222722102550_e20222722102550_c20222722102550.png\n",
      "Purging  ./temp_files_sat_meso2/OR_ABI-L2-CMIPM2-M6Cxx_G16_s20222722132550_e20222722132550_c20222722132550.png\n",
      "Purging  ./temp_files_sat_meso2/OR_ABI-L2-CMIPM2-M6Cxx_G16_s20222722108550_e20222722108550_c20222722108550.png\n",
      "Purging  ./temp_files_sat_meso2/OR_ABI-L2-CMIPM2-M6Cxx_G16_s20222722126550_e20222722126550_c20222722126550.png\n",
      "Purging  ./temp_files_sat_meso2/OR_ABI-L2-CMIPM2-M6Cxx_G16_s20222722134550_e20222722134550_c20222722134550.png\n",
      "Purging  ./temp_files_sat_meso2/OR_ABI-L2-CMIPM2-M6Cxx_G16_s20222722120550_e20222722120550_c20222722120550.png\n",
      "Purging  ./temp_files_sat_meso2/OR_ABI-L2-CMIPM2-M6Cxx_G16_s20222722155550_e20222722155550_c20222722155550.png\n",
      "Purging  ./temp_files_sat_meso2/OR_ABI-L2-CMIPM2-M6Cxx_G16_s20222722141550_e20222722141550_c20222722141550.png\n",
      "Purging  ./temp_files_sat_meso2/OR_ABI-L2-CMIPM2-M6Cxx_G16_s20222722153550_e20222722153550_c20222722153550.png\n",
      "Purging  ./temp_files_sat_meso2/OR_ABI-L2-CMIPM2-M6Cxx_G16_s20222722147550_e20222722147550_c20222722147550.png\n",
      "Purging  ./temp_files_sat_meso2/OR_ABI-L2-CMIPM2-M6Cxx_G16_s20222722111550_e20222722111550_c20222722111550.png\n",
      "Purging  ./temp_files_sat_meso2/OR_ABI-L2-CMIPM2-M6Cxx_G16_s20222722105550_e20222722105550_c20222722105550.png\n",
      "Purging  ./temp_files_sat_meso2/OR_ABI-L2-CMIPM2-M6Cxx_G16_s20222722117550_e20222722117550_c20222722117550.png\n",
      "Purging  ./temp_files_sat_meso2/OR_ABI-L2-CMIPM2-M6Cxx_G16_s20222722139550_e20222722139550_c20222722139550.png\n",
      "Purging  ./temp_files_sat_meso2/OR_ABI-L2-CMIPM2-M6Cxx_G16_s20222722103550_e20222722103550_c20222722103550.png\n",
      "Purging  ./temp_files_sat_meso2/OR_ABI-L2-CMIPM2-M6Cxx_G16_s20222722133550_e20222722133550_c20222722133550.png\n",
      "Purging  ./temp_files_sat_meso2/OR_ABI-L2-CMIPM2-M6Cxx_G16_s20222722127550_e20222722127550_c20222722127550.png\n",
      "Purging  ./temp_files_sat_meso2/OR_ABI-L2-CMIPM2-M6Cxx_G16_s20222722109550_e20222722109550_c20222722109550.png\n",
      "Purging  ./temp_files_sat_meso2/OR_ABI-L2-CMIPM2-M6Cxx_G16_s20222722135550_e20222722135550_c20222722135550.png\n",
      "Purging  ./temp_files_sat_meso2/OR_ABI-L2-CMIPM2-M6Cxx_G16_s20222722121550_e20222722121550_c20222722121550.png\n",
      "Purging  ./temp_files_sat_meso2/OR_ABI-L2-CMIPM2-M6Cxx_G16_s20222722056550_e20222722056550_c20222722056550.png\n",
      "Purging  ./temp_files_sat_meso2/OR_ABI-L2-CMIPM2-M6Cxx_G16_s20222722057550_e20222722057550_c20222722057550.png\n",
      "Purging  ./temp_files_sat_meso2/OR_ABI-L2-CMIPM2-M6Cxx_G16_s20222722143550_e20222722143550_c20222722143550.png\n",
      "Purging  ./temp_files_sat_meso2/OR_ABI-L2-CMIPM2-M6Cxx_G16_s20222722157550_e20222722157550_c20222722157550.png\n",
      "Purging  ./temp_files_sat_meso2/OR_ABI-L2-CMIPM2-M6Cxx_G16_s20222722145550_e20222722145550_c20222722145550.png\n",
      "Purging  ./temp_files_sat_meso2/OR_ABI-L2-CMIPM2-M6Cxx_G16_s20222722151550_e20222722151550_c20222722151550.png\n",
      "Purging  ./temp_files_sat_meso2/OR_ABI-L2-CMIPM2-M6Cxx_G16_s20222722149550_e20222722149550_c20222722149550.png\n",
      "Purging  ./temp_files_sat_meso2/OR_ABI-L2-CMIPM2-M6Cxx_G16_s20222722129550_e20222722129550_c20222722129550.png\n",
      "Purging  ./temp_files_sat_meso2/OR_ABI-L2-CMIPM2-M6Cxx_G16_s20222722107550_e20222722107550_c20222722107550.png\n",
      "Purging  ./temp_files_sat_meso2/OR_ABI-L2-CMIPM2-M6Cxx_G16_s20222722113550_e20222722113550_c20222722113550.png\n",
      "Purging  ./temp_files_sat_meso2/OR_ABI-L2-CMIPM2-M6Cxx_G16_s20222722101550_e20222722101550_c20222722101550.png\n",
      "Purging  ./temp_files_sat_meso2/OR_ABI-L2-CMIPM2-M6Cxx_G16_s20222722115550_e20222722115550_c20222722115550.png\n",
      "Purging  ./temp_files_sat_meso2/OR_ABI-L2-CMIPM2-M6Cxx_G16_s20222722125550_e20222722125550_c20222722125550.png\n",
      "Purging  ./temp_files_sat_meso2/OR_ABI-L2-CMIPM2-M6Cxx_G16_s20222722131550_e20222722131550_c20222722131550.png\n",
      "Purging  ./temp_files_sat_meso2/OR_ABI-L2-CMIPM2-M6Cxx_G16_s20222722123550_e20222722123550_c20222722123550.png\n",
      "Purging  ./temp_files_sat_meso2/OR_ABI-L2-CMIPM2-M6Cxx_G16_s20222722119550_e20222722119550_c20222722119550.png\n",
      "Purging  ./temp_files_sat_meso2/OR_ABI-L2-CMIPM2-M6Cxx_G16_s20222722137550_e20222722137550_c20222722137550.png\n",
      "Purging  ./temp_files_sat_meso2/OR_ABI-L2-CMIPM2-M6Cxx_G16_s20222722142550_e20222722142550_c20222722142550.png\n",
      "Purging  ./temp_files_sat_meso2/OR_ABI-L2-CMIPM2-M6Cxx_G16_s20222722156550_e20222722156550_c20222722156550.png\n",
      "Purging  ./temp_files_sat_meso2/OR_ABI-L2-CMIPM2-M6Cxx_G16_s20222722144550_e20222722144550_c20222722144550.png\n",
      "Purging  ./temp_files_sat_meso2/OR_ABI-L2-CMIPM2-M6Cxx_G16_s20222722150550_e20222722150550_c20222722150550.png\n",
      "Purging  ./temp_files_sat_meso2/OR_ABI-L2-CMIPM2-M6Cxx_G16_s20222722148550_e20222722148550_c20222722148550.png\n",
      "Purging  ./temp_files_sat_meso2/OR_ABI-L2-CMIPM2-M6Cxx_G16_s20222722106550_e20222722106550_c20222722106550.png\n",
      "Purging  ./temp_files_sat_meso2/OR_ABI-L2-CMIPM2-M6Cxx_G16_s20222722128550_e20222722128550_c20222722128550.png\n",
      "Purging  ./temp_files_sat_meso2/OR_ABI-L2-CMIPM2-M6Cxx_G16_s20222722112550_e20222722112550_c20222722112550.png\n",
      "Purging  ./temp_files_sat_meso2/OR_ABI-L2-CMIPM2-M6Cxx_G16_s20222722100550_e20222722100550_c20222722100550.png\n",
      "Purging  ./temp_files_sat_meso2/OR_ABI-L2-CMIPM2-M6Cxx_G16_s20222722114550_e20222722114550_c20222722114550.png\n",
      "Purging  ./temp_files_sat_meso2/OR_ABI-L2-CMIPM2-M6Cxx_G16_s20222722124550_e20222722124550_c20222722124550.png\n",
      "Purging  ./temp_files_sat_meso2/OR_ABI-L2-CMIPM2-M6Cxx_G16_s20222722130550_e20222722130550_c20222722130550.png\n",
      "Purging  ./temp_files_sat_meso2/OR_ABI-L2-CMIPM2-M6Cxx_G16_s20222722122550_e20222722122550_c20222722122550.png\n",
      "Purging  ./temp_files_sat_meso2/OR_ABI-L2-CMIPM2-M6Cxx_G16_s20222722136550_e20222722136550_c20222722136550.png\n",
      "Purging  ./temp_files_sat_meso2/OR_ABI-L2-CMIPM2-M6Cxx_G16_s20222722118550_e20222722118550_c20222722118550.png\n",
      "Purging  ./temp_files_sat_meso2/OR_ABI-L2-CMIPM2-M6Cxx_G16_s20222722059550_e20222722059550_c20222722059550.png\n",
      "Purging  ./temp_files_sat_meso2/OR_ABI-L2-CMIPM2-M6Cxx_G16_s20222722055550_e20222722055550_c20222722055550.png\n",
      "Purging  ./temp_files_sat_meso2/OR_ABI-L2-CMIPM2-M6Cxx_G16_s20222722058550_e20222722058550_c20222722058550.png\n",
      "Purging  ./temp_files_sat_meso2/OR_ABI-L2-CMIPM2-M6Cxx_G16_s20222722054550_e20222722054550_c20222722054550.png\n"
     ]
    }
   ],
   "source": [
    "##################################################\n",
    "#\n",
    "# Clean PNG Directory\n",
    "#\n",
    "\n",
    "for filename in files_on_hand:\n",
    "    if filename not in file_names_to_retain:\n",
    "        print(\"Purging \", filename )\n",
    "        os.remove( filename  )\n",
    "    else:\n",
    "        print(\"Keeping \", filename )\n",
    "#\n",
    "##################################################"
   ]
  },
  {
   "cell_type": "code",
   "execution_count": null,
   "id": "8cb9fcbc-bb15-41b6-9e4f-ba46b72874f7",
   "metadata": {},
   "outputs": [
    {
     "name": "stdout",
     "output_type": "stream",
     "text": [
      "Fraction of Missings :  0.0\n",
      "2022-10-15 17:33:54 UTC 2022-10-15 11:33:54 MDT\n"
     ]
    },
    {
     "name": "stderr",
     "output_type": "stream",
     "text": [
      "/var/folders/0c/8xbkg06s6cz0yy2505h06nlm00017d/T/ipykernel_70132/3214576223.py:148: UserWarning: This figure includes Axes that are not compatible with tight_layout, so results might be incorrect.\n",
      "  plt.tight_layout()\n"
     ]
    },
    {
     "name": "stdout",
     "output_type": "stream",
     "text": [
      "Fraction of Missings :  0.0\n",
      "2022-10-15 17:34:54 UTC 2022-10-15 11:34:54 MDT\n"
     ]
    },
    {
     "name": "stderr",
     "output_type": "stream",
     "text": [
      "/var/folders/0c/8xbkg06s6cz0yy2505h06nlm00017d/T/ipykernel_70132/3214576223.py:148: UserWarning: This figure includes Axes that are not compatible with tight_layout, so results might be incorrect.\n",
      "  plt.tight_layout()\n"
     ]
    },
    {
     "name": "stdout",
     "output_type": "stream",
     "text": [
      "Fraction of Missings :  0.0\n",
      "2022-10-15 17:35:54 UTC 2022-10-15 11:35:54 MDT\n"
     ]
    },
    {
     "name": "stderr",
     "output_type": "stream",
     "text": [
      "/var/folders/0c/8xbkg06s6cz0yy2505h06nlm00017d/T/ipykernel_70132/3214576223.py:148: UserWarning: This figure includes Axes that are not compatible with tight_layout, so results might be incorrect.\n",
      "  plt.tight_layout()\n"
     ]
    },
    {
     "name": "stdout",
     "output_type": "stream",
     "text": [
      "Fraction of Missings :  0.0\n",
      "2022-10-15 17:36:54 UTC 2022-10-15 11:36:54 MDT\n"
     ]
    },
    {
     "name": "stderr",
     "output_type": "stream",
     "text": [
      "/var/folders/0c/8xbkg06s6cz0yy2505h06nlm00017d/T/ipykernel_70132/3214576223.py:148: UserWarning: This figure includes Axes that are not compatible with tight_layout, so results might be incorrect.\n",
      "  plt.tight_layout()\n"
     ]
    },
    {
     "name": "stdout",
     "output_type": "stream",
     "text": [
      "Fraction of Missings :  0.0\n",
      "2022-10-15 17:37:54 UTC 2022-10-15 11:37:54 MDT\n"
     ]
    },
    {
     "name": "stderr",
     "output_type": "stream",
     "text": [
      "/var/folders/0c/8xbkg06s6cz0yy2505h06nlm00017d/T/ipykernel_70132/3214576223.py:148: UserWarning: This figure includes Axes that are not compatible with tight_layout, so results might be incorrect.\n",
      "  plt.tight_layout()\n"
     ]
    },
    {
     "name": "stdout",
     "output_type": "stream",
     "text": [
      "Fraction of Missings :  0.0\n",
      "2022-10-15 17:38:54 UTC 2022-10-15 11:38:54 MDT\n"
     ]
    },
    {
     "name": "stderr",
     "output_type": "stream",
     "text": [
      "/var/folders/0c/8xbkg06s6cz0yy2505h06nlm00017d/T/ipykernel_70132/3214576223.py:148: UserWarning: This figure includes Axes that are not compatible with tight_layout, so results might be incorrect.\n",
      "  plt.tight_layout()\n"
     ]
    },
    {
     "name": "stdout",
     "output_type": "stream",
     "text": [
      "Fraction of Missings :  0.0\n",
      "2022-10-15 17:39:54 UTC 2022-10-15 11:39:54 MDT\n"
     ]
    },
    {
     "name": "stderr",
     "output_type": "stream",
     "text": [
      "/var/folders/0c/8xbkg06s6cz0yy2505h06nlm00017d/T/ipykernel_70132/3214576223.py:148: UserWarning: This figure includes Axes that are not compatible with tight_layout, so results might be incorrect.\n",
      "  plt.tight_layout()\n"
     ]
    },
    {
     "name": "stdout",
     "output_type": "stream",
     "text": [
      "Fraction of Missings :  0.0\n",
      "2022-10-15 17:40:54 UTC 2022-10-15 11:40:54 MDT\n"
     ]
    },
    {
     "name": "stderr",
     "output_type": "stream",
     "text": [
      "/var/folders/0c/8xbkg06s6cz0yy2505h06nlm00017d/T/ipykernel_70132/3214576223.py:148: UserWarning: This figure includes Axes that are not compatible with tight_layout, so results might be incorrect.\n",
      "  plt.tight_layout()\n"
     ]
    },
    {
     "name": "stdout",
     "output_type": "stream",
     "text": [
      "Fraction of Missings :  0.0\n",
      "2022-10-15 17:41:54 UTC 2022-10-15 11:41:54 MDT\n"
     ]
    },
    {
     "name": "stderr",
     "output_type": "stream",
     "text": [
      "/var/folders/0c/8xbkg06s6cz0yy2505h06nlm00017d/T/ipykernel_70132/3214576223.py:148: UserWarning: This figure includes Axes that are not compatible with tight_layout, so results might be incorrect.\n",
      "  plt.tight_layout()\n"
     ]
    },
    {
     "name": "stdout",
     "output_type": "stream",
     "text": [
      "Fraction of Missings :  0.0\n",
      "2022-10-15 17:42:54 UTC 2022-10-15 11:42:54 MDT\n"
     ]
    },
    {
     "name": "stderr",
     "output_type": "stream",
     "text": [
      "/var/folders/0c/8xbkg06s6cz0yy2505h06nlm00017d/T/ipykernel_70132/3214576223.py:148: UserWarning: This figure includes Axes that are not compatible with tight_layout, so results might be incorrect.\n",
      "  plt.tight_layout()\n"
     ]
    },
    {
     "name": "stdout",
     "output_type": "stream",
     "text": [
      "Fraction of Missings :  0.0\n",
      "2022-10-15 17:43:54 UTC 2022-10-15 11:43:54 MDT\n"
     ]
    },
    {
     "name": "stderr",
     "output_type": "stream",
     "text": [
      "/var/folders/0c/8xbkg06s6cz0yy2505h06nlm00017d/T/ipykernel_70132/3214576223.py:148: UserWarning: This figure includes Axes that are not compatible with tight_layout, so results might be incorrect.\n",
      "  plt.tight_layout()\n"
     ]
    },
    {
     "name": "stdout",
     "output_type": "stream",
     "text": [
      "Fraction of Missings :  0.0\n",
      "2022-10-15 17:44:54 UTC 2022-10-15 11:44:54 MDT\n"
     ]
    },
    {
     "name": "stderr",
     "output_type": "stream",
     "text": [
      "/var/folders/0c/8xbkg06s6cz0yy2505h06nlm00017d/T/ipykernel_70132/3214576223.py:148: UserWarning: This figure includes Axes that are not compatible with tight_layout, so results might be incorrect.\n",
      "  plt.tight_layout()\n"
     ]
    },
    {
     "name": "stdout",
     "output_type": "stream",
     "text": [
      "Fraction of Missings :  0.0\n",
      "2022-10-15 17:45:54 UTC 2022-10-15 11:45:54 MDT\n"
     ]
    },
    {
     "name": "stderr",
     "output_type": "stream",
     "text": [
      "/var/folders/0c/8xbkg06s6cz0yy2505h06nlm00017d/T/ipykernel_70132/3214576223.py:148: UserWarning: This figure includes Axes that are not compatible with tight_layout, so results might be incorrect.\n",
      "  plt.tight_layout()\n"
     ]
    },
    {
     "name": "stdout",
     "output_type": "stream",
     "text": [
      "Fraction of Missings :  0.0\n",
      "2022-10-15 17:46:54 UTC 2022-10-15 11:46:54 MDT\n"
     ]
    },
    {
     "name": "stderr",
     "output_type": "stream",
     "text": [
      "/var/folders/0c/8xbkg06s6cz0yy2505h06nlm00017d/T/ipykernel_70132/3214576223.py:148: UserWarning: This figure includes Axes that are not compatible with tight_layout, so results might be incorrect.\n",
      "  plt.tight_layout()\n"
     ]
    },
    {
     "name": "stdout",
     "output_type": "stream",
     "text": [
      "Fraction of Missings :  0.0\n",
      "2022-10-15 17:47:54 UTC 2022-10-15 11:47:54 MDT\n"
     ]
    },
    {
     "name": "stderr",
     "output_type": "stream",
     "text": [
      "/var/folders/0c/8xbkg06s6cz0yy2505h06nlm00017d/T/ipykernel_70132/3214576223.py:148: UserWarning: This figure includes Axes that are not compatible with tight_layout, so results might be incorrect.\n",
      "  plt.tight_layout()\n"
     ]
    },
    {
     "name": "stdout",
     "output_type": "stream",
     "text": [
      "Fraction of Missings :  0.0\n",
      "2022-10-15 17:48:54 UTC 2022-10-15 11:48:54 MDT\n"
     ]
    },
    {
     "name": "stderr",
     "output_type": "stream",
     "text": [
      "/var/folders/0c/8xbkg06s6cz0yy2505h06nlm00017d/T/ipykernel_70132/3214576223.py:148: UserWarning: This figure includes Axes that are not compatible with tight_layout, so results might be incorrect.\n",
      "  plt.tight_layout()\n"
     ]
    },
    {
     "name": "stdout",
     "output_type": "stream",
     "text": [
      "Fraction of Missings :  0.0\n",
      "2022-10-15 17:49:54 UTC 2022-10-15 11:49:54 MDT\n"
     ]
    },
    {
     "name": "stderr",
     "output_type": "stream",
     "text": [
      "/var/folders/0c/8xbkg06s6cz0yy2505h06nlm00017d/T/ipykernel_70132/3214576223.py:148: UserWarning: This figure includes Axes that are not compatible with tight_layout, so results might be incorrect.\n",
      "  plt.tight_layout()\n"
     ]
    },
    {
     "name": "stdout",
     "output_type": "stream",
     "text": [
      "Fraction of Missings :  0.0\n",
      "2022-10-15 17:50:54 UTC 2022-10-15 11:50:54 MDT\n"
     ]
    },
    {
     "name": "stderr",
     "output_type": "stream",
     "text": [
      "/var/folders/0c/8xbkg06s6cz0yy2505h06nlm00017d/T/ipykernel_70132/3214576223.py:148: UserWarning: This figure includes Axes that are not compatible with tight_layout, so results might be incorrect.\n",
      "  plt.tight_layout()\n"
     ]
    },
    {
     "name": "stdout",
     "output_type": "stream",
     "text": [
      "Fraction of Missings :  0.0\n",
      "2022-10-15 17:51:54 UTC 2022-10-15 11:51:54 MDT\n"
     ]
    },
    {
     "name": "stderr",
     "output_type": "stream",
     "text": [
      "/var/folders/0c/8xbkg06s6cz0yy2505h06nlm00017d/T/ipykernel_70132/3214576223.py:148: UserWarning: This figure includes Axes that are not compatible with tight_layout, so results might be incorrect.\n",
      "  plt.tight_layout()\n"
     ]
    },
    {
     "name": "stdout",
     "output_type": "stream",
     "text": [
      "Fraction of Missings :  0.0\n",
      "2022-10-15 17:52:54 UTC 2022-10-15 11:52:54 MDT\n"
     ]
    },
    {
     "name": "stderr",
     "output_type": "stream",
     "text": [
      "/var/folders/0c/8xbkg06s6cz0yy2505h06nlm00017d/T/ipykernel_70132/3214576223.py:148: UserWarning: This figure includes Axes that are not compatible with tight_layout, so results might be incorrect.\n",
      "  plt.tight_layout()\n"
     ]
    },
    {
     "name": "stdout",
     "output_type": "stream",
     "text": [
      "Fraction of Missings :  0.0\n",
      "2022-10-15 17:53:54 UTC 2022-10-15 11:53:54 MDT\n"
     ]
    },
    {
     "name": "stderr",
     "output_type": "stream",
     "text": [
      "/var/folders/0c/8xbkg06s6cz0yy2505h06nlm00017d/T/ipykernel_70132/3214576223.py:148: UserWarning: This figure includes Axes that are not compatible with tight_layout, so results might be incorrect.\n",
      "  plt.tight_layout()\n"
     ]
    },
    {
     "name": "stdout",
     "output_type": "stream",
     "text": [
      "Fraction of Missings :  0.0\n",
      "2022-10-15 17:54:54 UTC 2022-10-15 11:54:54 MDT\n"
     ]
    },
    {
     "name": "stderr",
     "output_type": "stream",
     "text": [
      "/var/folders/0c/8xbkg06s6cz0yy2505h06nlm00017d/T/ipykernel_70132/3214576223.py:148: UserWarning: This figure includes Axes that are not compatible with tight_layout, so results might be incorrect.\n",
      "  plt.tight_layout()\n"
     ]
    },
    {
     "name": "stdout",
     "output_type": "stream",
     "text": [
      "Fraction of Missings :  0.0\n",
      "2022-10-15 17:55:54 UTC 2022-10-15 11:55:54 MDT\n"
     ]
    },
    {
     "name": "stderr",
     "output_type": "stream",
     "text": [
      "/var/folders/0c/8xbkg06s6cz0yy2505h06nlm00017d/T/ipykernel_70132/3214576223.py:148: UserWarning: This figure includes Axes that are not compatible with tight_layout, so results might be incorrect.\n",
      "  plt.tight_layout()\n"
     ]
    },
    {
     "name": "stdout",
     "output_type": "stream",
     "text": [
      "Fraction of Missings :  0.0\n",
      "2022-10-15 17:56:54 UTC 2022-10-15 11:56:54 MDT\n"
     ]
    },
    {
     "name": "stderr",
     "output_type": "stream",
     "text": [
      "/var/folders/0c/8xbkg06s6cz0yy2505h06nlm00017d/T/ipykernel_70132/3214576223.py:148: UserWarning: This figure includes Axes that are not compatible with tight_layout, so results might be incorrect.\n",
      "  plt.tight_layout()\n"
     ]
    },
    {
     "name": "stdout",
     "output_type": "stream",
     "text": [
      "Fraction of Missings :  0.0\n",
      "2022-10-15 17:57:54 UTC 2022-10-15 11:57:54 MDT\n"
     ]
    },
    {
     "name": "stderr",
     "output_type": "stream",
     "text": [
      "/var/folders/0c/8xbkg06s6cz0yy2505h06nlm00017d/T/ipykernel_70132/3214576223.py:148: UserWarning: This figure includes Axes that are not compatible with tight_layout, so results might be incorrect.\n",
      "  plt.tight_layout()\n"
     ]
    },
    {
     "name": "stdout",
     "output_type": "stream",
     "text": [
      "Fraction of Missings :  0.0\n",
      "2022-10-15 17:58:54 UTC 2022-10-15 11:58:54 MDT\n"
     ]
    },
    {
     "name": "stderr",
     "output_type": "stream",
     "text": [
      "/var/folders/0c/8xbkg06s6cz0yy2505h06nlm00017d/T/ipykernel_70132/3214576223.py:148: UserWarning: This figure includes Axes that are not compatible with tight_layout, so results might be incorrect.\n",
      "  plt.tight_layout()\n"
     ]
    },
    {
     "name": "stdout",
     "output_type": "stream",
     "text": [
      "Fraction of Missings :  0.0\n",
      "2022-10-15 17:59:54 UTC 2022-10-15 11:59:54 MDT\n"
     ]
    },
    {
     "name": "stderr",
     "output_type": "stream",
     "text": [
      "/var/folders/0c/8xbkg06s6cz0yy2505h06nlm00017d/T/ipykernel_70132/3214576223.py:148: UserWarning: This figure includes Axes that are not compatible with tight_layout, so results might be incorrect.\n",
      "  plt.tight_layout()\n"
     ]
    },
    {
     "name": "stdout",
     "output_type": "stream",
     "text": [
      "Fraction of Missings :  0.0\n",
      "2022-10-15 18:00:54 UTC 2022-10-15 12:00:54 MDT\n"
     ]
    },
    {
     "name": "stderr",
     "output_type": "stream",
     "text": [
      "/var/folders/0c/8xbkg06s6cz0yy2505h06nlm00017d/T/ipykernel_70132/3214576223.py:148: UserWarning: This figure includes Axes that are not compatible with tight_layout, so results might be incorrect.\n",
      "  plt.tight_layout()\n"
     ]
    },
    {
     "name": "stdout",
     "output_type": "stream",
     "text": [
      "Fraction of Missings :  0.0\n",
      "2022-10-15 18:01:54 UTC 2022-10-15 12:01:54 MDT\n"
     ]
    },
    {
     "name": "stderr",
     "output_type": "stream",
     "text": [
      "/var/folders/0c/8xbkg06s6cz0yy2505h06nlm00017d/T/ipykernel_70132/3214576223.py:148: UserWarning: This figure includes Axes that are not compatible with tight_layout, so results might be incorrect.\n",
      "  plt.tight_layout()\n"
     ]
    },
    {
     "name": "stdout",
     "output_type": "stream",
     "text": [
      "Fraction of Missings :  0.0\n",
      "2022-10-15 18:02:54 UTC 2022-10-15 12:02:54 MDT\n"
     ]
    },
    {
     "name": "stderr",
     "output_type": "stream",
     "text": [
      "/var/folders/0c/8xbkg06s6cz0yy2505h06nlm00017d/T/ipykernel_70132/3214576223.py:148: UserWarning: This figure includes Axes that are not compatible with tight_layout, so results might be incorrect.\n",
      "  plt.tight_layout()\n"
     ]
    },
    {
     "name": "stdout",
     "output_type": "stream",
     "text": [
      "Fraction of Missings :  0.0\n",
      "2022-10-15 18:03:54 UTC 2022-10-15 12:03:54 MDT\n"
     ]
    },
    {
     "name": "stderr",
     "output_type": "stream",
     "text": [
      "/var/folders/0c/8xbkg06s6cz0yy2505h06nlm00017d/T/ipykernel_70132/3214576223.py:148: UserWarning: This figure includes Axes that are not compatible with tight_layout, so results might be incorrect.\n",
      "  plt.tight_layout()\n"
     ]
    },
    {
     "name": "stdout",
     "output_type": "stream",
     "text": [
      "Fraction of Missings :  0.0\n",
      "2022-10-15 18:04:54 UTC 2022-10-15 12:04:54 MDT\n"
     ]
    },
    {
     "name": "stderr",
     "output_type": "stream",
     "text": [
      "/var/folders/0c/8xbkg06s6cz0yy2505h06nlm00017d/T/ipykernel_70132/3214576223.py:148: UserWarning: This figure includes Axes that are not compatible with tight_layout, so results might be incorrect.\n",
      "  plt.tight_layout()\n"
     ]
    },
    {
     "name": "stdout",
     "output_type": "stream",
     "text": [
      "Fraction of Missings :  0.0\n",
      "2022-10-15 18:05:54 UTC 2022-10-15 12:05:54 MDT\n"
     ]
    },
    {
     "name": "stderr",
     "output_type": "stream",
     "text": [
      "/var/folders/0c/8xbkg06s6cz0yy2505h06nlm00017d/T/ipykernel_70132/3214576223.py:148: UserWarning: This figure includes Axes that are not compatible with tight_layout, so results might be incorrect.\n",
      "  plt.tight_layout()\n"
     ]
    },
    {
     "name": "stdout",
     "output_type": "stream",
     "text": [
      "Fraction of Missings :  0.0\n",
      "2022-10-15 18:06:54 UTC 2022-10-15 12:06:54 MDT\n"
     ]
    },
    {
     "name": "stderr",
     "output_type": "stream",
     "text": [
      "/var/folders/0c/8xbkg06s6cz0yy2505h06nlm00017d/T/ipykernel_70132/3214576223.py:148: UserWarning: This figure includes Axes that are not compatible with tight_layout, so results might be incorrect.\n",
      "  plt.tight_layout()\n"
     ]
    },
    {
     "name": "stdout",
     "output_type": "stream",
     "text": [
      "Fraction of Missings :  0.0\n",
      "2022-10-15 18:07:54 UTC 2022-10-15 12:07:54 MDT\n"
     ]
    },
    {
     "name": "stderr",
     "output_type": "stream",
     "text": [
      "/var/folders/0c/8xbkg06s6cz0yy2505h06nlm00017d/T/ipykernel_70132/3214576223.py:148: UserWarning: This figure includes Axes that are not compatible with tight_layout, so results might be incorrect.\n",
      "  plt.tight_layout()\n"
     ]
    },
    {
     "name": "stdout",
     "output_type": "stream",
     "text": [
      "Fraction of Missings :  0.0\n",
      "2022-10-15 18:08:54 UTC 2022-10-15 12:08:54 MDT\n"
     ]
    },
    {
     "name": "stderr",
     "output_type": "stream",
     "text": [
      "/var/folders/0c/8xbkg06s6cz0yy2505h06nlm00017d/T/ipykernel_70132/3214576223.py:148: UserWarning: This figure includes Axes that are not compatible with tight_layout, so results might be incorrect.\n",
      "  plt.tight_layout()\n"
     ]
    },
    {
     "name": "stdout",
     "output_type": "stream",
     "text": [
      "Fraction of Missings :  0.0\n",
      "2022-10-15 18:09:54 UTC 2022-10-15 12:09:54 MDT\n"
     ]
    },
    {
     "name": "stderr",
     "output_type": "stream",
     "text": [
      "/var/folders/0c/8xbkg06s6cz0yy2505h06nlm00017d/T/ipykernel_70132/3214576223.py:148: UserWarning: This figure includes Axes that are not compatible with tight_layout, so results might be incorrect.\n",
      "  plt.tight_layout()\n"
     ]
    },
    {
     "name": "stdout",
     "output_type": "stream",
     "text": [
      "Fraction of Missings :  0.0\n",
      "2022-10-15 18:10:54 UTC 2022-10-15 12:10:54 MDT\n"
     ]
    },
    {
     "name": "stderr",
     "output_type": "stream",
     "text": [
      "/var/folders/0c/8xbkg06s6cz0yy2505h06nlm00017d/T/ipykernel_70132/3214576223.py:148: UserWarning: This figure includes Axes that are not compatible with tight_layout, so results might be incorrect.\n",
      "  plt.tight_layout()\n"
     ]
    },
    {
     "name": "stdout",
     "output_type": "stream",
     "text": [
      "Fraction of Missings :  0.0\n",
      "2022-10-15 18:11:54 UTC 2022-10-15 12:11:54 MDT\n"
     ]
    },
    {
     "name": "stderr",
     "output_type": "stream",
     "text": [
      "/var/folders/0c/8xbkg06s6cz0yy2505h06nlm00017d/T/ipykernel_70132/3214576223.py:148: UserWarning: This figure includes Axes that are not compatible with tight_layout, so results might be incorrect.\n",
      "  plt.tight_layout()\n"
     ]
    },
    {
     "name": "stdout",
     "output_type": "stream",
     "text": [
      "Fraction of Missings :  0.0\n",
      "2022-10-15 18:12:54 UTC 2022-10-15 12:12:54 MDT\n"
     ]
    },
    {
     "name": "stderr",
     "output_type": "stream",
     "text": [
      "/var/folders/0c/8xbkg06s6cz0yy2505h06nlm00017d/T/ipykernel_70132/3214576223.py:148: UserWarning: This figure includes Axes that are not compatible with tight_layout, so results might be incorrect.\n",
      "  plt.tight_layout()\n"
     ]
    },
    {
     "name": "stdout",
     "output_type": "stream",
     "text": [
      "Fraction of Missings :  0.0\n",
      "2022-10-15 18:13:54 UTC 2022-10-15 12:13:54 MDT\n"
     ]
    },
    {
     "name": "stderr",
     "output_type": "stream",
     "text": [
      "/var/folders/0c/8xbkg06s6cz0yy2505h06nlm00017d/T/ipykernel_70132/3214576223.py:148: UserWarning: This figure includes Axes that are not compatible with tight_layout, so results might be incorrect.\n",
      "  plt.tight_layout()\n"
     ]
    },
    {
     "name": "stdout",
     "output_type": "stream",
     "text": [
      "Fraction of Missings :  0.0\n",
      "2022-10-15 18:14:54 UTC 2022-10-15 12:14:54 MDT\n"
     ]
    },
    {
     "name": "stderr",
     "output_type": "stream",
     "text": [
      "/var/folders/0c/8xbkg06s6cz0yy2505h06nlm00017d/T/ipykernel_70132/3214576223.py:148: UserWarning: This figure includes Axes that are not compatible with tight_layout, so results might be incorrect.\n",
      "  plt.tight_layout()\n"
     ]
    },
    {
     "name": "stdout",
     "output_type": "stream",
     "text": [
      "Fraction of Missings :  0.0\n",
      "2022-10-15 18:15:54 UTC 2022-10-15 12:15:54 MDT\n"
     ]
    },
    {
     "name": "stderr",
     "output_type": "stream",
     "text": [
      "/var/folders/0c/8xbkg06s6cz0yy2505h06nlm00017d/T/ipykernel_70132/3214576223.py:148: UserWarning: This figure includes Axes that are not compatible with tight_layout, so results might be incorrect.\n",
      "  plt.tight_layout()\n"
     ]
    },
    {
     "name": "stdout",
     "output_type": "stream",
     "text": [
      "Fraction of Missings :  0.0\n",
      "2022-10-15 18:16:54 UTC 2022-10-15 12:16:54 MDT\n"
     ]
    },
    {
     "name": "stderr",
     "output_type": "stream",
     "text": [
      "/var/folders/0c/8xbkg06s6cz0yy2505h06nlm00017d/T/ipykernel_70132/3214576223.py:148: UserWarning: This figure includes Axes that are not compatible with tight_layout, so results might be incorrect.\n",
      "  plt.tight_layout()\n"
     ]
    },
    {
     "name": "stdout",
     "output_type": "stream",
     "text": [
      "Fraction of Missings :  0.0\n",
      "2022-10-15 18:17:54 UTC 2022-10-15 12:17:54 MDT\n"
     ]
    },
    {
     "name": "stderr",
     "output_type": "stream",
     "text": [
      "/var/folders/0c/8xbkg06s6cz0yy2505h06nlm00017d/T/ipykernel_70132/3214576223.py:148: UserWarning: This figure includes Axes that are not compatible with tight_layout, so results might be incorrect.\n",
      "  plt.tight_layout()\n"
     ]
    },
    {
     "name": "stdout",
     "output_type": "stream",
     "text": [
      "Fraction of Missings :  0.0\n",
      "2022-10-15 18:18:54 UTC 2022-10-15 12:18:54 MDT\n"
     ]
    },
    {
     "name": "stderr",
     "output_type": "stream",
     "text": [
      "/var/folders/0c/8xbkg06s6cz0yy2505h06nlm00017d/T/ipykernel_70132/3214576223.py:148: UserWarning: This figure includes Axes that are not compatible with tight_layout, so results might be incorrect.\n",
      "  plt.tight_layout()\n"
     ]
    },
    {
     "name": "stdout",
     "output_type": "stream",
     "text": [
      "Fraction of Missings :  0.0\n",
      "2022-10-15 18:19:54 UTC 2022-10-15 12:19:54 MDT\n"
     ]
    },
    {
     "name": "stderr",
     "output_type": "stream",
     "text": [
      "/var/folders/0c/8xbkg06s6cz0yy2505h06nlm00017d/T/ipykernel_70132/3214576223.py:148: UserWarning: This figure includes Axes that are not compatible with tight_layout, so results might be incorrect.\n",
      "  plt.tight_layout()\n"
     ]
    },
    {
     "name": "stdout",
     "output_type": "stream",
     "text": [
      "Fraction of Missings :  0.0\n",
      "2022-10-15 18:20:54 UTC 2022-10-15 12:20:54 MDT\n"
     ]
    },
    {
     "name": "stderr",
     "output_type": "stream",
     "text": [
      "/var/folders/0c/8xbkg06s6cz0yy2505h06nlm00017d/T/ipykernel_70132/3214576223.py:148: UserWarning: This figure includes Axes that are not compatible with tight_layout, so results might be incorrect.\n",
      "  plt.tight_layout()\n"
     ]
    },
    {
     "name": "stdout",
     "output_type": "stream",
     "text": [
      "Fraction of Missings :  0.0\n",
      "2022-10-15 18:21:54 UTC 2022-10-15 12:21:54 MDT\n"
     ]
    },
    {
     "name": "stderr",
     "output_type": "stream",
     "text": [
      "/var/folders/0c/8xbkg06s6cz0yy2505h06nlm00017d/T/ipykernel_70132/3214576223.py:148: UserWarning: This figure includes Axes that are not compatible with tight_layout, so results might be incorrect.\n",
      "  plt.tight_layout()\n"
     ]
    },
    {
     "name": "stdout",
     "output_type": "stream",
     "text": [
      "Fraction of Missings :  0.0\n",
      "2022-10-15 18:22:54 UTC 2022-10-15 12:22:54 MDT\n"
     ]
    },
    {
     "name": "stderr",
     "output_type": "stream",
     "text": [
      "/var/folders/0c/8xbkg06s6cz0yy2505h06nlm00017d/T/ipykernel_70132/3214576223.py:148: UserWarning: This figure includes Axes that are not compatible with tight_layout, so results might be incorrect.\n",
      "  plt.tight_layout()\n"
     ]
    },
    {
     "name": "stdout",
     "output_type": "stream",
     "text": [
      "Fraction of Missings :  0.0\n",
      "2022-10-15 18:23:54 UTC 2022-10-15 12:23:54 MDT\n"
     ]
    },
    {
     "name": "stderr",
     "output_type": "stream",
     "text": [
      "/var/folders/0c/8xbkg06s6cz0yy2505h06nlm00017d/T/ipykernel_70132/3214576223.py:148: UserWarning: This figure includes Axes that are not compatible with tight_layout, so results might be incorrect.\n",
      "  plt.tight_layout()\n"
     ]
    },
    {
     "name": "stdout",
     "output_type": "stream",
     "text": [
      "Fraction of Missings :  0.0\n",
      "2022-10-15 18:24:54 UTC 2022-10-15 12:24:54 MDT\n"
     ]
    },
    {
     "name": "stderr",
     "output_type": "stream",
     "text": [
      "/var/folders/0c/8xbkg06s6cz0yy2505h06nlm00017d/T/ipykernel_70132/3214576223.py:148: UserWarning: This figure includes Axes that are not compatible with tight_layout, so results might be incorrect.\n",
      "  plt.tight_layout()\n"
     ]
    },
    {
     "name": "stdout",
     "output_type": "stream",
     "text": [
      "Fraction of Missings :  0.0\n",
      "2022-10-15 18:25:54 UTC 2022-10-15 12:25:54 MDT\n"
     ]
    },
    {
     "name": "stderr",
     "output_type": "stream",
     "text": [
      "/var/folders/0c/8xbkg06s6cz0yy2505h06nlm00017d/T/ipykernel_70132/3214576223.py:148: UserWarning: This figure includes Axes that are not compatible with tight_layout, so results might be incorrect.\n",
      "  plt.tight_layout()\n"
     ]
    },
    {
     "name": "stdout",
     "output_type": "stream",
     "text": [
      "Fraction of Missings :  0.0\n",
      "2022-10-15 18:26:54 UTC 2022-10-15 12:26:54 MDT\n"
     ]
    },
    {
     "name": "stderr",
     "output_type": "stream",
     "text": [
      "/var/folders/0c/8xbkg06s6cz0yy2505h06nlm00017d/T/ipykernel_70132/3214576223.py:148: UserWarning: This figure includes Axes that are not compatible with tight_layout, so results might be incorrect.\n",
      "  plt.tight_layout()\n"
     ]
    },
    {
     "name": "stdout",
     "output_type": "stream",
     "text": [
      "Fraction of Missings :  0.0\n",
      "2022-10-15 18:27:54 UTC 2022-10-15 12:27:54 MDT\n"
     ]
    },
    {
     "name": "stderr",
     "output_type": "stream",
     "text": [
      "/var/folders/0c/8xbkg06s6cz0yy2505h06nlm00017d/T/ipykernel_70132/3214576223.py:148: UserWarning: This figure includes Axes that are not compatible with tight_layout, so results might be incorrect.\n",
      "  plt.tight_layout()\n"
     ]
    },
    {
     "name": "stdout",
     "output_type": "stream",
     "text": [
      "Fraction of Missings :  0.0\n",
      "2022-10-15 18:28:54 UTC 2022-10-15 12:28:54 MDT\n"
     ]
    },
    {
     "name": "stderr",
     "output_type": "stream",
     "text": [
      "/var/folders/0c/8xbkg06s6cz0yy2505h06nlm00017d/T/ipykernel_70132/3214576223.py:148: UserWarning: This figure includes Axes that are not compatible with tight_layout, so results might be incorrect.\n",
      "  plt.tight_layout()\n"
     ]
    },
    {
     "name": "stdout",
     "output_type": "stream",
     "text": [
      "Fraction of Missings :  0.0\n",
      "2022-10-15 18:29:54 UTC 2022-10-15 12:29:54 MDT\n"
     ]
    },
    {
     "name": "stderr",
     "output_type": "stream",
     "text": [
      "/var/folders/0c/8xbkg06s6cz0yy2505h06nlm00017d/T/ipykernel_70132/3214576223.py:148: UserWarning: This figure includes Axes that are not compatible with tight_layout, so results might be incorrect.\n",
      "  plt.tight_layout()\n"
     ]
    },
    {
     "name": "stdout",
     "output_type": "stream",
     "text": [
      "Fraction of Missings :  0.0\n",
      "2022-10-15 18:30:54 UTC 2022-10-15 12:30:54 MDT\n"
     ]
    },
    {
     "name": "stderr",
     "output_type": "stream",
     "text": [
      "/var/folders/0c/8xbkg06s6cz0yy2505h06nlm00017d/T/ipykernel_70132/3214576223.py:148: UserWarning: This figure includes Axes that are not compatible with tight_layout, so results might be incorrect.\n",
      "  plt.tight_layout()\n"
     ]
    },
    {
     "name": "stdout",
     "output_type": "stream",
     "text": [
      "Fraction of Missings :  0.0\n",
      "2022-10-15 18:31:54 UTC 2022-10-15 12:31:54 MDT\n"
     ]
    },
    {
     "name": "stderr",
     "output_type": "stream",
     "text": [
      "/var/folders/0c/8xbkg06s6cz0yy2505h06nlm00017d/T/ipykernel_70132/3214576223.py:148: UserWarning: This figure includes Axes that are not compatible with tight_layout, so results might be incorrect.\n",
      "  plt.tight_layout()\n"
     ]
    },
    {
     "name": "stdout",
     "output_type": "stream",
     "text": [
      "Fraction of Missings :  0.0\n",
      "2022-10-15 18:32:54 UTC 2022-10-15 12:32:54 MDT\n"
     ]
    },
    {
     "name": "stderr",
     "output_type": "stream",
     "text": [
      "/var/folders/0c/8xbkg06s6cz0yy2505h06nlm00017d/T/ipykernel_70132/3214576223.py:148: UserWarning: This figure includes Axes that are not compatible with tight_layout, so results might be incorrect.\n",
      "  plt.tight_layout()\n"
     ]
    },
    {
     "name": "stdout",
     "output_type": "stream",
     "text": [
      "Fraction of Missings :  0.0\n",
      "2022-10-15 18:33:54 UTC 2022-10-15 12:33:54 MDT\n"
     ]
    },
    {
     "name": "stderr",
     "output_type": "stream",
     "text": [
      "/var/folders/0c/8xbkg06s6cz0yy2505h06nlm00017d/T/ipykernel_70132/3214576223.py:148: UserWarning: This figure includes Axes that are not compatible with tight_layout, so results might be incorrect.\n",
      "  plt.tight_layout()\n"
     ]
    },
    {
     "name": "stdout",
     "output_type": "stream",
     "text": [
      "Fraction of Missings :  0.0\n",
      "2022-10-15 18:34:54 UTC 2022-10-15 12:34:54 MDT\n"
     ]
    },
    {
     "name": "stderr",
     "output_type": "stream",
     "text": [
      "/var/folders/0c/8xbkg06s6cz0yy2505h06nlm00017d/T/ipykernel_70132/3214576223.py:148: UserWarning: This figure includes Axes that are not compatible with tight_layout, so results might be incorrect.\n",
      "  plt.tight_layout()\n"
     ]
    },
    {
     "name": "stdout",
     "output_type": "stream",
     "text": [
      "Fraction of Missings :  0.0\n",
      "2022-10-15 18:35:54 UTC 2022-10-15 12:35:54 MDT\n"
     ]
    },
    {
     "name": "stderr",
     "output_type": "stream",
     "text": [
      "/var/folders/0c/8xbkg06s6cz0yy2505h06nlm00017d/T/ipykernel_70132/3214576223.py:148: UserWarning: This figure includes Axes that are not compatible with tight_layout, so results might be incorrect.\n",
      "  plt.tight_layout()\n"
     ]
    },
    {
     "name": "stdout",
     "output_type": "stream",
     "text": [
      "Fraction of Missings :  0.0\n",
      "2022-10-15 18:36:54 UTC 2022-10-15 12:36:54 MDT\n"
     ]
    },
    {
     "name": "stderr",
     "output_type": "stream",
     "text": [
      "/var/folders/0c/8xbkg06s6cz0yy2505h06nlm00017d/T/ipykernel_70132/3214576223.py:148: UserWarning: This figure includes Axes that are not compatible with tight_layout, so results might be incorrect.\n",
      "  plt.tight_layout()\n"
     ]
    },
    {
     "name": "stdout",
     "output_type": "stream",
     "text": [
      "Fraction of Missings :  0.0\n",
      "2022-10-15 18:37:54 UTC 2022-10-15 12:37:54 MDT\n"
     ]
    },
    {
     "name": "stderr",
     "output_type": "stream",
     "text": [
      "/var/folders/0c/8xbkg06s6cz0yy2505h06nlm00017d/T/ipykernel_70132/3214576223.py:148: UserWarning: This figure includes Axes that are not compatible with tight_layout, so results might be incorrect.\n",
      "  plt.tight_layout()\n"
     ]
    },
    {
     "name": "stdout",
     "output_type": "stream",
     "text": [
      "Fraction of Missings :  0.0\n",
      "2022-10-15 18:38:54 UTC 2022-10-15 12:38:54 MDT\n"
     ]
    },
    {
     "name": "stderr",
     "output_type": "stream",
     "text": [
      "/var/folders/0c/8xbkg06s6cz0yy2505h06nlm00017d/T/ipykernel_70132/3214576223.py:148: UserWarning: This figure includes Axes that are not compatible with tight_layout, so results might be incorrect.\n",
      "  plt.tight_layout()\n"
     ]
    },
    {
     "name": "stdout",
     "output_type": "stream",
     "text": [
      "Fraction of Missings :  0.0\n",
      "2022-10-15 18:39:54 UTC 2022-10-15 12:39:54 MDT\n"
     ]
    },
    {
     "name": "stderr",
     "output_type": "stream",
     "text": [
      "/var/folders/0c/8xbkg06s6cz0yy2505h06nlm00017d/T/ipykernel_70132/3214576223.py:148: UserWarning: This figure includes Axes that are not compatible with tight_layout, so results might be incorrect.\n",
      "  plt.tight_layout()\n"
     ]
    },
    {
     "name": "stdout",
     "output_type": "stream",
     "text": [
      "Fraction of Missings :  0.0\n",
      "2022-10-15 18:40:54 UTC 2022-10-15 12:40:54 MDT\n"
     ]
    },
    {
     "name": "stderr",
     "output_type": "stream",
     "text": [
      "/var/folders/0c/8xbkg06s6cz0yy2505h06nlm00017d/T/ipykernel_70132/3214576223.py:148: UserWarning: This figure includes Axes that are not compatible with tight_layout, so results might be incorrect.\n",
      "  plt.tight_layout()\n"
     ]
    },
    {
     "name": "stdout",
     "output_type": "stream",
     "text": [
      "Fraction of Missings :  0.0\n",
      "2022-10-15 18:41:54 UTC 2022-10-15 12:41:54 MDT\n"
     ]
    },
    {
     "name": "stderr",
     "output_type": "stream",
     "text": [
      "/var/folders/0c/8xbkg06s6cz0yy2505h06nlm00017d/T/ipykernel_70132/3214576223.py:148: UserWarning: This figure includes Axes that are not compatible with tight_layout, so results might be incorrect.\n",
      "  plt.tight_layout()\n"
     ]
    },
    {
     "name": "stdout",
     "output_type": "stream",
     "text": [
      "Fraction of Missings :  0.0\n",
      "2022-10-15 18:42:54 UTC 2022-10-15 12:42:54 MDT\n"
     ]
    },
    {
     "name": "stderr",
     "output_type": "stream",
     "text": [
      "/var/folders/0c/8xbkg06s6cz0yy2505h06nlm00017d/T/ipykernel_70132/3214576223.py:148: UserWarning: This figure includes Axes that are not compatible with tight_layout, so results might be incorrect.\n",
      "  plt.tight_layout()\n"
     ]
    },
    {
     "name": "stdout",
     "output_type": "stream",
     "text": [
      "Fraction of Missings :  0.0\n",
      "2022-10-15 18:43:54 UTC 2022-10-15 12:43:54 MDT\n"
     ]
    },
    {
     "name": "stderr",
     "output_type": "stream",
     "text": [
      "/var/folders/0c/8xbkg06s6cz0yy2505h06nlm00017d/T/ipykernel_70132/3214576223.py:148: UserWarning: This figure includes Axes that are not compatible with tight_layout, so results might be incorrect.\n",
      "  plt.tight_layout()\n"
     ]
    }
   ],
   "source": [
    "##################################################\n",
    "#\n",
    "# Create PNGs\n",
    "#\n",
    "\n",
    "for i in range(len(cat_vis.datasets)-total_frames,len(cat_vis.datasets),1) :\n",
    "\n",
    "    dataset_vis = cat_vis.datasets[i]\n",
    "    dataset_tir = cat_tir.datasets[i]\n",
    "\n",
    "    \n",
    "    filename = dataset_vis.name.replace(\".nc\", \".png\")\n",
    "    filename = filename[:20] + \"xx\" + filename[22:]\n",
    "    dataset_png_file_name = png_processing_directory + filename\n",
    "    \n",
    "    \n",
    "    \n",
    "    if (not pathlib.Path(dataset_png_file_name).is_file() ):\n",
    "        \n",
    "        channel = channel_vis\n",
    "\n",
    "        ds  = dataset_vis.remote_access(use_xarray=True)\n",
    "        dat = ds.metpy.parse_cf('Sectorized_CMI')\n",
    "        \n",
    "        frac_missing = np.isnan(dat.values).sum()/np.isnan(dat.values).size\n",
    "        print(\"Fraction of Missings : \", frac_missing)\n",
    "        \n",
    "        if(frac_missing > 0.05):\n",
    "            print(\"Switching to IR\")\n",
    "            channel = channel_tir\n",
    "            ds      = dataset_tir.remote_access(use_xarray=True)\n",
    "            dat     = ds.metpy.parse_cf('Sectorized_CMI')\n",
    "        \n",
    "        proj = dat.metpy.cartopy_crs\n",
    "        x = dat['x']\n",
    "        y = dat['y']\n",
    "        \n",
    "        #if(any(dat == np.nan):\n",
    "        \n",
    "\n",
    "        ny = dat.shape[0]\n",
    "        nx = dat.shape[1]      \n",
    "        alpha2d = np.sqrt(np.outer(np.abs(np.hanning(ny)),np.abs(np.hanning(nx))))\n",
    "        alpha2d = np.where(alpha2d>alpha_factor,alpha_factor,alpha2d)\n",
    "        alpha2d = alpha2d / alpha_factor\n",
    "\n",
    "\n",
    "        \n",
    "   \n",
    "\n",
    "        tz         = 'America/Denver'\n",
    "        time_utc   = datetime.strptime(ds.start_date_time, '%Y%j%H%M%S')\n",
    "        valid_time = pd.to_datetime(time_utc).tz_localize(tz=\"UTC\").strftime(\"%Y-%m-%d %H:%M:%S %Z\")\n",
    "        local_time = pd.to_datetime(time_utc).tz_localize(tz=\"UTC\").tz_convert(tz=tz).strftime(\"%Y-%m-%d %H:%M:%S %Z\")\n",
    "\n",
    "        file_time = pd.to_datetime(time_utc).tz_localize(tz=\"UTC\").strftime(\"%Y-%m-%d_%H%M\")\n",
    "\n",
    "        print(valid_time,local_time)\n",
    "\n",
    "        image_header_label = \"GOES 16\" + region_lab + str(channel)+ channel_lab[channel]\n",
    "\n",
    "\n",
    "        fig = plt.figure(figsize=(8, 8), facecolor = 'white')\n",
    "\n",
    "        plt.suptitle(image_header_label,\n",
    "                     fontsize = 20, \n",
    "                     color    = \"black\")\n",
    "        ax = fig.add_subplot(1, 1, 1, projection=proj)\n",
    "        ax.set_title(valid_time + \"  (\" + local_time+\")\",\n",
    "                     fontsize =      15, \n",
    "                     color    = \"black\")\n",
    "        ax.add_feature(cfeature.COASTLINE.with_scale('50m'), linewidth=1)\n",
    "        ax.add_feature(cfeature.STATES.with_scale('50m'),    linestyle=':', edgecolor='black')\n",
    "        ax.add_feature(cfeature.BORDERS.with_scale('50m'),   linewidth=1, edgecolor='black')\n",
    "        \n",
    "        \n",
    "        if (channel >= 7):\n",
    "\n",
    "            im = ax.imshow(                        dat, \n",
    "                           extent = [x.min(), x.max(), \n",
    "                                     y.min(), y.max()], \n",
    "                           origin =            'upper', alpha = alpha2d)\n",
    "\n",
    "            wv_norm, wv_cmap = colortables.get_with_range('WVCIMSS_r', 190, 310)\n",
    "\n",
    "            im.set_cmap(wv_cmap)\n",
    "            im.set_norm(wv_norm)\n",
    "        else:\n",
    "            im = ax.imshow(              np.sqrt(dat), \n",
    "                           extent = (x.min(), x.max(), \n",
    "                                     y.min(), y.max()), \n",
    "                           origin =            'upper',\n",
    "                           cmap   =          'Greys_r',\n",
    "                           vmin   =        np.sqrt(0),\n",
    "                           vmax   =        np.sqrt(1), alpha = alpha2d)\n",
    "\n",
    "\n",
    "\n",
    "        #########################################\n",
    "        #\n",
    "        # Insert a Clock\n",
    "        #\n",
    "        \n",
    "        axins = fig.add_axes(rect     =    [0.065,\n",
    "                                            0.795,\n",
    "                                            0.12*0.65306121,\n",
    "                                            0.12],\n",
    "                              projection  =  \"polar\")\n",
    "        \n",
    "        time_for_clock = pd.to_datetime(time_utc).tz_localize(tz=\"UTC\").tz_convert(tz=tz).time()\n",
    "\n",
    "        hour   = time_for_clock.hour\n",
    "        minute = time_for_clock.minute\n",
    "        second = time_for_clock.second\n",
    "        \n",
    "        circle_theta  = np.deg2rad(np.arange(0,360,0.01))\n",
    "        circle_radius = circle_theta * 0 + 1\n",
    "        \n",
    "        if (hour > 12) :\n",
    "            hour = hour - 12\n",
    "        \n",
    "        angles_h = 2*np.pi*hour/12+2*np.pi*minute/(12*60)+2*second/(12*60*60)\n",
    "        angles_m = 2*np.pi*minute/60+2*np.pi*second/(60*60)\n",
    "        \n",
    "        #print(time_for_clock)\n",
    "        #print(hour,   np.rad2deg(angles_h))\n",
    "        #print(minute, np.rad2deg(angles_m))\n",
    "\n",
    "        \n",
    "        plt.setp(axins.get_yticklabels(), visible=False)\n",
    "        plt.setp(axins.get_xticklabels(), visible=False)\n",
    "        axins.spines['polar'].set_visible(False)\n",
    "        axins.set_ylim(0,1)\n",
    "        axins.set_theta_zero_location('N')\n",
    "        axins.set_theta_direction(-1)\n",
    "        axins.set_facecolor(\"white\")\n",
    "        axins.grid(False)\n",
    "        \n",
    "        axins.plot([angles_h,angles_h], [0,0.60], color=\"black\", linewidth=1.5)\n",
    "        axins.plot([angles_m,angles_m], [0,0.95], color=\"black\", linewidth=1.5)\n",
    "        axins.plot(circle_theta, circle_radius, color=\"darkgrey\", linewidth=1)\n",
    "\n",
    "\n",
    "        \n",
    "        #\n",
    "        #########################################    \n",
    "        ax.set_frame_on(False)\n",
    "        plt.tight_layout()\n",
    "        \n",
    "        plt.savefig( dataset_png_file_name,\n",
    "                        facecolor   = 'white', \n",
    "                        transparent =   False)\n",
    "        plt.close()\n",
    "    else:\n",
    "        print(\"We already have this one!\")\n",
    "    \n",
    "\n",
    "#\n",
    "##################################################"
   ]
  },
  {
   "cell_type": "code",
   "execution_count": null,
   "id": "87a868c7-57eb-41cd-a831-68d25fe02a79",
   "metadata": {},
   "outputs": [],
   "source": [
    "##################################################\n",
    "#\n",
    "# Convert PNGs into an Animated GIF\n",
    "#\n",
    "\n",
    "\n",
    "big_string = \" \".join(file_names_to_use_meso2)\n",
    "\n",
    "\n",
    "\n",
    "\n",
    "\n",
    "print(\"creating \" + MAINDIR + \"./processing_sat_meso2_gif.sh\")\n",
    "with open(MAINDIR + \"./processing_sat_meso2_gif.sh\", 'w') as f:\n",
    "    print(\"#!/bin/bash\", file =  f)\n",
    "    print(\"cd \" + MAINDIR, file =  f) \n",
    "    print(\"convert -delay 10 \" + \n",
    "          big_string + \n",
    "          \" \" + \n",
    "          gif_file_name, file =  f) \n",
    "    print(\"echo MAIN:MESO2::: We^re Outahere Like Vladimir\", file =  f) \n",
    "\n",
    "os.system(\"chmod a+x \" + MAINDIR + \"./processing_sat_meso2_gif.sh\")\n",
    "os.system(MAINDIR + \"./processing_sat_meso2_gif.sh > ./processing_sat_meso2_gif.LOG 2>&1 \")\n",
    "os.system(\"date\")\n",
    "print()\n",
    "\n",
    "\n",
    "\n",
    "print(\"completed \"+ gif_file_name)\n",
    "\n",
    "\n",
    "#\n",
    "##################################################"
   ]
  },
  {
   "cell_type": "code",
   "execution_count": null,
   "id": "15ff1aa5-bfcc-404a-8478-1bfc4a9c5e72",
   "metadata": {},
   "outputs": [],
   "source": []
  },
  {
   "cell_type": "code",
   "execution_count": null,
   "id": "9f8889cb-3108-4680-98c7-260b0be31dee",
   "metadata": {},
   "outputs": [],
   "source": []
  },
  {
   "cell_type": "code",
   "execution_count": null,
   "id": "ee2c9e71-3bcd-4820-8d7c-9a3df304c3e6",
   "metadata": {},
   "outputs": [],
   "source": []
  },
  {
   "cell_type": "code",
   "execution_count": null,
   "id": "2b60a8e1-5181-457e-81ff-f96bd8d87644",
   "metadata": {},
   "outputs": [],
   "source": []
  },
  {
   "cell_type": "code",
   "execution_count": null,
   "id": "b7cf816f-d618-4e41-9d6a-6eef82c398a8",
   "metadata": {},
   "outputs": [],
   "source": []
  },
  {
   "cell_type": "markdown",
   "id": "21858154-532d-41e0-b7d1-ced0b3008d0d",
   "metadata": {},
   "source": [
    "# SODAK Subset form "
   ]
  },
  {
   "cell_type": "code",
   "execution_count": null,
   "id": "188b4270-0fe1-46b0-be4c-88576bfb64c0",
   "metadata": {},
   "outputs": [],
   "source": [
    "##################################################\n",
    "#\n",
    "# Control Setup\n",
    "#\n",
    "\n",
    "# %load solutions/data_url.py\n",
    "\n",
    "total_frames = int(45*2 * 0.8)\n",
    "\n",
    "# Cell content replaced by load magic replacement.\n",
    "\n",
    "# Create variables for URL generation\n",
    "\n",
    "image_date  = datetime.utcnow().date()\n",
    "region      =                   'CONUS'\n",
    "\n",
    "if (region == 'Mesoscale-1') :\n",
    "    region_lab               = \" Meso-1 Band \"\n",
    "    png_processing_directory = png_file_dir1\n",
    "    gif_file_name            = gif_file_name1\n",
    "\n",
    "if (region == 'Mesoscale-2') :\n",
    "    region_lab               = ' Meso-2 Band '\n",
    "    png_processing_directory = png_file_dir2\n",
    "    gif_file_name            = gif_file_name2\n",
    "\n",
    "    \n",
    "if (region == 'CONUS') :\n",
    "    region_lab               = ' SODAK Band '\n",
    "    png_processing_directory = png_file_dir3\n",
    "    gif_file_name            = gif_file_name3\n",
    "\n",
    "\n",
    "\n",
    "\n",
    "\n",
    "# We want to match something like:\n",
    "# https://thredds-test.unidata.ucar.edu/thredds/catalog/satellite/goes16/GOES16/Mesoscale-1/Channel08/20181113/catalog.html\n",
    "\n",
    "# Construct the data_url string\n",
    "\n",
    "data_url_vis = ('https://thredds.ucar.edu/thredds/catalog/satellite/goes/east/products/'\n",
    "                f'CloudAndMoistureImagery/{region}/Channel{channel_vis:02d}/current/catalog.xml')\n",
    "\n",
    "data_url_tir = ('https://thredds.ucar.edu/thredds/catalog/satellite/goes/east/products/'\n",
    "                f'CloudAndMoistureImagery/{region}/Channel{channel_tir:02d}/current/catalog.xml')\n",
    "\n",
    "\n",
    "# Print out your URL and verify it works!\n",
    "\n",
    "print(data_url_vis)\n",
    "print(data_url_tir)\n",
    "\n",
    "\n",
    "##################################################"
   ]
  },
  {
   "cell_type": "code",
   "execution_count": null,
   "id": "141bafaf-47d4-4fa9-8f85-3f64e8adb255",
   "metadata": {},
   "outputs": [],
   "source": [
    "##################################################\n",
    "#\n",
    "# Pull Catalog\n",
    "#\n",
    "\n",
    "cat_vis = TDSCatalog(data_url_vis)\n",
    "cat_tir = TDSCatalog(data_url_tir)\n",
    "\n",
    "\n",
    "#\n",
    "##################################################"
   ]
  },
  {
   "cell_type": "code",
   "execution_count": null,
   "id": "3ef7860e-7d02-45aa-a3ca-89299c97f786",
   "metadata": {},
   "outputs": [],
   "source": [
    "##################################################\n",
    "#\n",
    "# Create File Inventories\n",
    "#\n",
    "\n",
    "file_names_to_retain = list()\n",
    "file_names_to_use    = list()\n",
    "\n",
    "\n",
    "for i in range(len(cat_vis.datasets)-total_frames,len(cat_vis.datasets),1) :\n",
    "    filename = cat_vis.datasets[i].name.replace(\".nc\",\".png\")\n",
    "    filename = filename[:19] + \"xx\" + filename[21:]\n",
    "    filename = png_processing_directory + filename\n",
    "    file_names_to_retain.append(filename)\n",
    "    file_names_to_use.append(filename)\n",
    "        \n",
    "files_on_hand = [png_processing_directory + s for s in os.listdir(png_processing_directory)]\n",
    "\n",
    "file_names_to_retain.sort()\n",
    "file_names_to_use.sort()\n",
    "\n",
    "file_names_to_use_meso3 = file_names_to_use.copy()\n",
    "\n",
    "\n",
    "#\n",
    "################################################## "
   ]
  },
  {
   "cell_type": "code",
   "execution_count": null,
   "id": "f1cd1054-f048-416f-906d-bc94d1e9f828",
   "metadata": {},
   "outputs": [],
   "source": [
    "##################################################\n",
    "#\n",
    "# Clean PNG Directory\n",
    "#\n",
    "\n",
    "for filename in files_on_hand:\n",
    "    if filename not in file_names_to_retain:\n",
    "        print(\"Purging \", filename )\n",
    "        os.remove( filename  )\n",
    "    else:\n",
    "        print(\"Keeping \", filename )\n",
    "#\n",
    "##################################################"
   ]
  },
  {
   "cell_type": "code",
   "execution_count": null,
   "id": "3f4761c6-a540-45eb-bd95-6b21e08dbe15",
   "metadata": {},
   "outputs": [],
   "source": [
    "##################################################\n",
    "#\n",
    "# Create PNGs\n",
    "#\n",
    "\n",
    "for i in range(len(cat_vis.datasets)-total_frames,len(cat_vis.datasets),1) :\n",
    "\n",
    "    dataset_vis = cat_vis.datasets[i]\n",
    "    dataset_tir = cat_tir.datasets[i]\n",
    "\n",
    "    \n",
    "    filename = dataset_vis.name.replace(\".nc\", \".png\")\n",
    "    filename = filename[:19] + \"xx\" + filename[21:]\n",
    "    dataset_png_file_name = png_processing_directory + filename\n",
    "    \n",
    "    \n",
    "    \n",
    "    if (not pathlib.Path(dataset_png_file_name).is_file() ):\n",
    "        \n",
    "        channel  = channel_vis\n",
    "\n",
    "\n",
    "        ds  = dataset_vis.remote_access(use_xarray=True)\n",
    "        dat = ds.metpy.parse_cf('Sectorized_CMI')[jmin_rap_vis : jmax_rap_vis,\n",
    "                                                  imin_rap_vis : imax_rap_vis]\n",
    "        \n",
    "\n",
    "        \n",
    "        frac_missing = np.isnan(dat.values).sum() / np.isnan(dat.values).size\n",
    "            \n",
    "        print(\"Fraction of Missings : \", frac_missing)\n",
    "        \n",
    "        if(frac_missing > 0.05):\n",
    "            print(\"Switching to IR\")\n",
    "            channel = channel_tir\n",
    "            ds      = dataset_tir.remote_access(use_xarray=True)\n",
    "            dat     = ds.metpy.parse_cf('Sectorized_CMI')[jmin_rap_tir : jmax_rap_tir,\n",
    "                                                          imin_rap_tir : imax_rap_tir] \n",
    "\n",
    "        x    = dat['x']       \n",
    "        y    = dat['y']\n",
    "        proj = dat.metpy.cartopy_crs\n",
    "        \n",
    "        tz         = 'America/Denver'\n",
    "        time_utc   = datetime.strptime(ds.start_date_time, '%Y%j%H%M%S')\n",
    "        valid_time = pd.to_datetime(time_utc).tz_localize(tz=\"UTC\").strftime(\"%Y-%m-%d %H:%M:%S %Z\")\n",
    "        local_time = pd.to_datetime(time_utc).tz_localize(tz=\"UTC\").tz_convert(tz=tz).strftime(\"%Y-%m-%d %H:%M:%S %Z\")\n",
    "\n",
    "        file_time = pd.to_datetime(time_utc).tz_localize(tz=\"UTC\").strftime(\"%Y-%m-%d_%H%M\")\n",
    "\n",
    "        print(valid_time,local_time)\n",
    "\n",
    "        image_header_label = \"GOES 16\" + region_lab + str(channel)+ channel_lab[channel]\n",
    "\n",
    "\n",
    "\n",
    "        ny = dat.shape[0]\n",
    "        nx = dat.shape[1]      \n",
    "        alpha2d = np.sqrt(np.outer(np.abs(np.hanning(ny)),np.abs(np.hanning(nx))))\n",
    "        alpha2d = np.where(alpha2d>alpha_factor,alpha_factor,alpha2d)\n",
    "        alpha2d = alpha2d / alpha_factor\n",
    "\n",
    "\n",
    "        \n",
    "   \n",
    "        fig = plt.figure(figsize=(8, 8), facecolor = 'white')\n",
    "\n",
    "        plt.suptitle(image_header_label,\n",
    "                     fontsize = 20, \n",
    "                     color    = \"black\")\n",
    "        ax = fig.add_subplot(1, 1, 1, projection=proj)\n",
    "        ax.set_title(valid_time + \"  (\" + local_time+\")\",\n",
    "                     fontsize =      15, \n",
    "                     color    = \"black\")\n",
    "        ax.add_feature(cfeature.COASTLINE.with_scale('50m'), linewidth=1)\n",
    "        ax.add_feature(cfeature.STATES.with_scale('50m'),    linestyle=':', edgecolor='black')\n",
    "        ax.add_feature(cfeature.BORDERS.with_scale('50m'),   linewidth=1, edgecolor='black')\n",
    "        \n",
    "        \n",
    "        if (channel >= 7):\n",
    "\n",
    "            im = ax.imshow(                       dat, \n",
    "                           extent = [x.min(), x.max(), \n",
    "                                     y.min(), y.max()], \n",
    "                           origin =            'upper', alpha = alpha2d)\n",
    "\n",
    "            wv_norm, wv_cmap = colortables.get_with_range('WVCIMSS_r', 190, 310)\n",
    "\n",
    "            im.set_cmap(wv_cmap)\n",
    "            im.set_norm(wv_norm)\n",
    "        else:\n",
    "            im = ax.imshow(              np.sqrt(dat), \n",
    "                           extent = (x.min(), x.max(), \n",
    "                                     y.min(), y.max()), \n",
    "                           origin =            'upper',\n",
    "                           cmap   =          'Greys_r',\n",
    "                           vmin   =        np.sqrt(0),\n",
    "                           vmax   =        np.sqrt(1), alpha = alpha2d)\n",
    "\n",
    "\n",
    "\n",
    "        #########################################\n",
    "        #\n",
    "        # Insert a Clock\n",
    "        #\n",
    "        \n",
    "        axins = fig.add_axes(rect     =    [0.065,\n",
    "                                            0.795,\n",
    "                                            0.12*0.65306121,\n",
    "                                            0.12],\n",
    "                              projection  =  \"polar\")\n",
    "        \n",
    "        time_for_clock = pd.to_datetime(time_utc).tz_localize(tz=\"UTC\").tz_convert(tz=tz).time()\n",
    "\n",
    "        hour   = time_for_clock.hour\n",
    "        minute = time_for_clock.minute\n",
    "        second = time_for_clock.second\n",
    "        \n",
    "        circle_theta  = np.deg2rad(np.arange(0,360,0.01))\n",
    "        circle_radius = circle_theta * 0 + 1\n",
    "        \n",
    "        if (hour > 12) :\n",
    "            hour = hour - 12\n",
    "        \n",
    "        angles_h = 2*np.pi*hour/12+2*np.pi*minute/(12*60)+2*second/(12*60*60)\n",
    "        angles_m = 2*np.pi*minute/60+2*np.pi*second/(60*60)\n",
    "        \n",
    "        #print(time_for_clock)\n",
    "        #print(hour,   np.rad2deg(angles_h))\n",
    "        #print(minute, np.rad2deg(angles_m))\n",
    "\n",
    "        \n",
    "        plt.setp(axins.get_yticklabels(), visible=False)\n",
    "        plt.setp(axins.get_xticklabels(), visible=False)\n",
    "        axins.spines['polar'].set_visible(False)\n",
    "        axins.set_ylim(0,1)\n",
    "        axins.set_theta_zero_location('N')\n",
    "        axins.set_theta_direction(-1)\n",
    "        axins.set_facecolor(\"white\")\n",
    "        axins.grid(False)\n",
    "        \n",
    "        axins.plot([angles_h,angles_h], [0,0.60], color=\"black\", linewidth=1.5)\n",
    "        axins.plot([angles_m,angles_m], [0,0.95], color=\"black\", linewidth=1.5)\n",
    "        axins.plot(circle_theta, circle_radius, color=\"darkgrey\", linewidth=1)\n",
    "\n",
    "\n",
    "        \n",
    "        #\n",
    "        #########################################   \n",
    "        ax.set_frame_on(False)\n",
    "        plt.tight_layout()\n",
    "        \n",
    "        plt.savefig( dataset_png_file_name,\n",
    "                        facecolor   = 'white', \n",
    "                        transparent =   False)\n",
    "        plt.close()\n",
    "    else:\n",
    "        print(\"We already have this one!\")\n",
    "    \n",
    "\n",
    "#\n",
    "##################################################"
   ]
  },
  {
   "cell_type": "code",
   "execution_count": null,
   "id": "81311431-1ec3-4b20-abed-dca0c3811003",
   "metadata": {},
   "outputs": [],
   "source": [
    "##################################################\n",
    "#\n",
    "# Convert PNGs into an Animated GIF\n",
    "#\n",
    "\n",
    "\n",
    "big_string = \" \".join(file_names_to_use_meso3)\n",
    "\n",
    "\n",
    "\n",
    "\n",
    "\n",
    "print(\"creating \" + MAINDIR + \"./processing_sat_mesoSD_gif.sh\")\n",
    "with open(MAINDIR + \"./processing_sat_mesoSD_gif.sh\", 'w') as f:\n",
    "    print(\"#!/bin/bash\", file =  f)\n",
    "    print(\". /home/wjc/.bashrc\", file = f)\n",
    "    print(\"cd \" + MAINDIR, file =  f) \n",
    "    print(\"convert -delay 10 \" + \n",
    "          big_string + \n",
    "          \" \" + \n",
    "          gif_file_name, file =  f) \n",
    "    print(\"echo MAIN:MESO3::: We^re Outahere Like Vladimir\", file =  f) \n",
    "\n",
    "os.system(\"chmod a+x \" + MAINDIR + \"./processing_sat_mesoSD_gif.sh\")\n",
    "os.system(MAINDIR + \"./processing_sat_mesoSD_gif.sh > ./processing_sat_mesoSD_gif.LOG 2>&1 \")\n",
    "os.system(\"date\")\n",
    "print()\n",
    "\n",
    "print(\"completed \"+ gif_file_name)\n",
    "\n",
    "\n",
    "#\n",
    "##################################################"
   ]
  },
  {
   "cell_type": "code",
   "execution_count": null,
   "id": "52b0392e-0450-4d99-bef2-847c60cd4b27",
   "metadata": {},
   "outputs": [],
   "source": []
  },
  {
   "cell_type": "code",
   "execution_count": null,
   "id": "ae927873-0540-46ed-b351-f1538f988119",
   "metadata": {},
   "outputs": [],
   "source": []
  },
  {
   "cell_type": "markdown",
   "id": "ad3b7bc0-3f4e-452f-a4b0-4100d44b54d8",
   "metadata": {},
   "source": [
    "## Aggregate All Three Into One"
   ]
  },
  {
   "cell_type": "code",
   "execution_count": null,
   "id": "c74a224c-28ae-4ba1-b8c5-89c75d304214",
   "metadata": {},
   "outputs": [],
   "source": [
    "##################################################\n",
    "#\n",
    "# Convert PNGs into an Animated GIF\n",
    "#\n",
    "\n",
    "file_names_to_use_meso12 = file_names_to_use_meso1 + file_names_to_use_meso2 + file_names_to_use_meso3\n",
    "\n",
    "big_string = \" \".join(file_names_to_use_meso12)\n",
    "\n",
    "\n",
    "\n",
    "\n",
    "\n",
    "\n",
    "print(\"creating \" + MAINDIR + \"./processing_sat_all_mesos_gif.sh\")\n",
    "with open(MAINDIR + \"./processing_sat_all_mesos_gif.sh\", 'w') as f:\n",
    "    print(\"#!/bin/bash\", file =  f)\n",
    "    print(\". /home/wjc/.bashrc\", file = f)\n",
    "    print(\"cd \" + MAINDIR, file =  f) \n",
    "    print(\"convert -delay 10 \" + \n",
    "          big_string + \n",
    "          \" \" + \n",
    "          gif_file_name12, file =  f) \n",
    "    print(\"echo MAIN:SAT123MESO::: We^re Outahere Like Vladimir\", file =  f) \n",
    "\n",
    "os.system(\"chmod a+x \" + MAINDIR + \"./processing_sat_all_mesos_gif.sh\")\n",
    "os.system(MAINDIR + \"./processing_sat_all_mesos_gif.sh > ./processing_sat_all_mesos_gif.LOG 2>&1 \")\n",
    "os.system(\"date\")\n",
    "print()\n",
    "\n",
    "\n",
    "\n",
    "\n",
    "print(\"completed \"+gif_file_name12)\n",
    "\n",
    "#\n",
    "##################################################"
   ]
  },
  {
   "cell_type": "code",
   "execution_count": null,
   "id": "26db2e4d-9719-4672-8c9e-02aefda5b852",
   "metadata": {},
   "outputs": [],
   "source": []
  },
  {
   "cell_type": "code",
   "execution_count": null,
   "id": "0bca0500-5686-4625-911b-d7bc0cd81ee4",
   "metadata": {},
   "outputs": [],
   "source": []
  },
  {
   "cell_type": "code",
   "execution_count": null,
   "id": "9365435b-16f0-42ce-be12-890d6b51f39c",
   "metadata": {},
   "outputs": [],
   "source": []
  },
  {
   "cell_type": "code",
   "execution_count": null,
   "id": "38f7b8d5-7162-4910-90d9-b1d686b37a93",
   "metadata": {},
   "outputs": [],
   "source": []
  },
  {
   "cell_type": "code",
   "execution_count": null,
   "id": "c5baa05e-e5bd-40f6-989a-f5063e7b55f7",
   "metadata": {},
   "outputs": [],
   "source": []
  }
 ],
 "metadata": {
  "kernelspec": {
   "display_name": "Python 3 (ipykernel)",
   "language": "python",
   "name": "python3"
  },
  "language_info": {
   "codemirror_mode": {
    "name": "ipython",
    "version": 3
   },
   "file_extension": ".py",
   "mimetype": "text/x-python",
   "name": "python",
   "nbconvert_exporter": "python",
   "pygments_lexer": "ipython3",
   "version": "3.9.13"
  }
 },
 "nbformat": 4,
 "nbformat_minor": 5
}
